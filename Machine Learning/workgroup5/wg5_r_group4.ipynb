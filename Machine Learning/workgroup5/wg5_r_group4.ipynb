{
 "cells": [
  {
   "cell_type": "markdown",
   "id": "436d81b6",
   "metadata": {},
   "source": [
    "## WORK GROUP 5"
   ]
  },
  {
   "cell_type": "markdown",
   "id": "015188f1",
   "metadata": {},
   "source": [
    "### 1. Bootstraping"
   ]
  },
  {
   "cell_type": "code",
   "execution_count": 49,
   "id": "b6230ff4",
   "metadata": {},
   "outputs": [
    {
     "name": "stderr",
     "output_type": "stream",
     "text": [
      "The following objects are masked from Penn (pos = 6):\n",
      "\n",
      "    abdt, agegt54, agelt35, black, dep, durable, female, hispanic,\n",
      "    husd, inuidur1, inuidur2, lusd, muld, nondurable, othrace, q1, q2,\n",
      "    q3, q4, q5, q6, recall, tg\n",
      "\n",
      "\n"
     ]
    }
   ],
   "source": [
    "## loading the data\n",
    "Penn <- as.data.frame(read.table(\"../data/penn_jae.dat\", header=T ))\n",
    "n <- dim(Penn)[1]\n",
    "p_1 <- dim(Penn)[2]\n",
    "Penn<- subset(Penn, tg==4 | tg==0)\n",
    "attach(Penn)"
   ]
  },
  {
   "cell_type": "code",
   "execution_count": null,
   "id": "d564f57a",
   "metadata": {},
   "outputs": [],
   "source": [
    "log(inuidur1)~T4+ (female+black+othrace+factor(dep)+q2+q3+q4+q5+q6+agelt35+agegt54+durable+lusd+husd)"
   ]
  },
  {
   "cell_type": "markdown",
   "id": "8738996c",
   "metadata": {},
   "source": [
    "### 2. Comparative models"
   ]
  },
  {
   "cell_type": "code",
   "execution_count": 1,
   "id": "6c9c5c5e",
   "metadata": {},
   "outputs": [
    {
     "name": "stderr",
     "output_type": "stream",
     "text": [
      "Warning message:\n",
      "\"package 'lmtest' was built under R version 4.0.5\"\n",
      "Loading required package: zoo\n",
      "\n",
      "Warning message:\n",
      "\"package 'zoo' was built under R version 4.0.5\"\n",
      "\n",
      "Attaching package: 'zoo'\n",
      "\n",
      "\n",
      "The following objects are masked from 'package:base':\n",
      "\n",
      "    as.Date, as.Date.numeric\n",
      "\n",
      "\n",
      "Warning message:\n",
      "\"package 'sandwich' was built under R version 4.0.5\"\n"
     ]
    }
   ],
   "source": [
    "library(lmtest)\n",
    "library(sandwich)"
   ]
  },
  {
   "cell_type": "code",
   "execution_count": 2,
   "id": "f9d8eaff",
   "metadata": {
    "scrolled": true
   },
   "outputs": [
    {
     "data": {
      "text/html": [
       "<style>\n",
       ".list-inline {list-style: none; margin:0; padding: 0}\n",
       ".list-inline>li {display: inline-block}\n",
       ".list-inline>li:not(:last-child)::after {content: \"\\00b7\"; padding: 0 .5ex}\n",
       "</style>\n",
       "<ol class=list-inline><li>29217</li><li>23</li></ol>\n"
      ],
      "text/latex": [
       "\\begin{enumerate*}\n",
       "\\item 29217\n",
       "\\item 23\n",
       "\\end{enumerate*}\n"
      ],
      "text/markdown": [
       "1. 29217\n",
       "2. 23\n",
       "\n",
       "\n"
      ],
      "text/plain": [
       "[1] 29217    23"
      ]
     },
     "metadata": {},
     "output_type": "display_data"
    }
   ],
   "source": [
    "load(\"../data/cps2012.RData\")\n",
    "dim(data)"
   ]
  },
  {
   "cell_type": "markdown",
   "id": "ab3d9140",
   "metadata": {},
   "source": [
    "#### OLS"
   ]
  },
  {
   "cell_type": "code",
   "execution_count": 3,
   "id": "c8129444",
   "metadata": {},
   "outputs": [],
   "source": [
    "set.seed(1234)\n",
    "training <- sample(nrow(data), nrow(data)*(3/4), replace=FALSE)\n",
    "\n",
    "data_train <- data[training,]\n",
    "data_test <- data[-training,]"
   ]
  },
  {
   "cell_type": "code",
   "execution_count": 4,
   "id": "9b9894e6",
   "metadata": {},
   "outputs": [
    {
     "data": {
      "text/html": [
       "<style>\n",
       ".list-inline {list-style: none; margin:0; padding: 0}\n",
       ".list-inline>li {display: inline-block}\n",
       ".list-inline>li:not(:last-child)::after {content: \"\\00b7\"; padding: 0 .5ex}\n",
       "</style>\n",
       "<ol class=list-inline><li>7305</li><li>23</li></ol>\n"
      ],
      "text/latex": [
       "\\begin{enumerate*}\n",
       "\\item 7305\n",
       "\\item 23\n",
       "\\end{enumerate*}\n"
      ],
      "text/markdown": [
       "1. 7305\n",
       "2. 23\n",
       "\n",
       "\n"
      ],
      "text/plain": [
       "[1] 7305   23"
      ]
     },
     "metadata": {},
     "output_type": "display_data"
    },
    {
     "data": {
      "text/html": [
       "<style>\n",
       ".list-inline {list-style: none; margin:0; padding: 0}\n",
       ".list-inline>li {display: inline-block}\n",
       ".list-inline>li:not(:last-child)::after {content: \"\\00b7\"; padding: 0 .5ex}\n",
       "</style>\n",
       "<ol class=list-inline><li>21912</li><li>23</li></ol>\n"
      ],
      "text/latex": [
       "\\begin{enumerate*}\n",
       "\\item 21912\n",
       "\\item 23\n",
       "\\end{enumerate*}\n"
      ],
      "text/markdown": [
       "1. 21912\n",
       "2. 23\n",
       "\n",
       "\n"
      ],
      "text/plain": [
       "[1] 21912    23"
      ]
     },
     "metadata": {},
     "output_type": "display_data"
    }
   ],
   "source": [
    "dim(data_test)\n",
    "dim(data_train)"
   ]
  },
  {
   "cell_type": "code",
   "execution_count": 5,
   "id": "8cd8ae44",
   "metadata": {},
   "outputs": [
    {
     "name": "stdout",
     "output_type": "stream",
     "text": [
      "[1] \"formula\"\n"
     ]
    }
   ],
   "source": [
    "X_basic <-  \"female + female:(widowed+divorced+separated+nevermarried+hsd08+hsd911+hsg+cg+ad+mw+so+we+exp1+exp2+exp3)\"\n",
    "X_flex <- \"female + female:(widowed+divorced+separated+nevermarried+hsd08+hsd911+hsg+cg+ad+mw+so+we+exp1+exp2+exp3)+(widowed+divorced+separated+nevermarried+hsd08+hsd911+hsg+cg+ad+mw+so+we+exp1+exp2+exp3)^2\"\n",
    "formula_basic <- as.formula(paste(\"lnw\", \"~\", X_basic))\n",
    "formula_flex <- as.formula(paste(\"lnw\", \"~\", X_flex))\n",
    "\n",
    "print(class(formula_basic))"
   ]
  },
  {
   "cell_type": "code",
   "execution_count": 7,
   "id": "565bb458",
   "metadata": {
    "scrolled": true
   },
   "outputs": [
    {
     "data": {
      "text/html": [
       "<style>\n",
       ".list-inline {list-style: none; margin:0; padding: 0}\n",
       ".list-inline>li {display: inline-block}\n",
       ".list-inline>li:not(:last-child)::after {content: \"\\00b7\"; padding: 0 .5ex}\n",
       "</style>\n",
       "<ol class=list-inline><li>21912</li><li>17</li></ol>\n"
      ],
      "text/latex": [
       "\\begin{enumerate*}\n",
       "\\item 21912\n",
       "\\item 17\n",
       "\\end{enumerate*}\n"
      ],
      "text/markdown": [
       "1. 21912\n",
       "2. 17\n",
       "\n",
       "\n"
      ],
      "text/plain": [
       "[1] 21912    17"
      ]
     },
     "metadata": {},
     "output_type": "display_data"
    }
   ],
   "source": [
    "dim(model_X_basic_train)"
   ]
  },
  {
   "cell_type": "code",
   "execution_count": 13,
   "id": "ef3a39e7",
   "metadata": {
    "scrolled": true
   },
   "outputs": [
    {
     "data": {
      "text/html": [
       "<style>\n",
       ".list-inline {list-style: none; margin:0; padding: 0}\n",
       ".list-inline>li {display: inline-block}\n",
       ".list-inline>li:not(:last-child)::after {content: \"\\00b7\"; padding: 0 .5ex}\n",
       "</style>\n",
       "<ol class=list-inline><li>21912</li><li>137</li></ol>\n"
      ],
      "text/latex": [
       "\\begin{enumerate*}\n",
       "\\item 21912\n",
       "\\item 137\n",
       "\\end{enumerate*}\n"
      ],
      "text/markdown": [
       "1. 21912\n",
       "2. 137\n",
       "\n",
       "\n"
      ],
      "text/plain": [
       "[1] 21912   137"
      ]
     },
     "metadata": {},
     "output_type": "display_data"
    }
   ],
   "source": [
    "dim(model_X_flex_train)"
   ]
  },
  {
   "cell_type": "code",
   "execution_count": 9,
   "id": "ba5dc969",
   "metadata": {
    "scrolled": true
   },
   "outputs": [
    {
     "data": {
      "text/html": [
       "<style>\n",
       ".list-inline {list-style: none; margin:0; padding: 0}\n",
       ".list-inline>li {display: inline-block}\n",
       ".list-inline>li:not(:last-child)::after {content: \"\\00b7\"; padding: 0 .5ex}\n",
       "</style>\n",
       "<ol class=list-inline><li>7305</li><li>17</li></ol>\n"
      ],
      "text/latex": [
       "\\begin{enumerate*}\n",
       "\\item 7305\n",
       "\\item 17\n",
       "\\end{enumerate*}\n"
      ],
      "text/markdown": [
       "1. 7305\n",
       "2. 17\n",
       "\n",
       "\n"
      ],
      "text/plain": [
       "[1] 7305   17"
      ]
     },
     "metadata": {},
     "output_type": "display_data"
    }
   ],
   "source": [
    "dim(model_X_basic_test)"
   ]
  },
  {
   "cell_type": "code",
   "execution_count": 12,
   "id": "5a18f07e",
   "metadata": {},
   "outputs": [
    {
     "data": {
      "text/html": [
       "<style>\n",
       ".list-inline {list-style: none; margin:0; padding: 0}\n",
       ".list-inline>li {display: inline-block}\n",
       ".list-inline>li:not(:last-child)::after {content: \"\\00b7\"; padding: 0 .5ex}\n",
       "</style>\n",
       "<ol class=list-inline><li>7305</li><li>137</li></ol>\n"
      ],
      "text/latex": [
       "\\begin{enumerate*}\n",
       "\\item 7305\n",
       "\\item 137\n",
       "\\end{enumerate*}\n"
      ],
      "text/markdown": [
       "1. 7305\n",
       "2. 137\n",
       "\n",
       "\n"
      ],
      "text/plain": [
       "[1] 7305  137"
      ]
     },
     "metadata": {},
     "output_type": "display_data"
    }
   ],
   "source": [
    "dim(model_X_flex_test)"
   ]
  },
  {
   "cell_type": "code",
   "execution_count": 11,
   "id": "d419051a",
   "metadata": {},
   "outputs": [],
   "source": [
    "model_X_basic_train <- model.matrix(formula_basic,data_train)\n",
    "model_X_basic_test <- model.matrix(formula_basic,data_test)\n",
    "p_basic <- dim(model_X_basic_train)[2]\n",
    "\n",
    "model_X_flex_train <- model.matrix(formula_flex,data_train)\n",
    "model_X_flex_test <- model.matrix(formula_flex,data_test)\n",
    "p_flex <- dim(model_X_flex_train)[2]"
   ]
  },
  {
   "cell_type": "code",
   "execution_count": 14,
   "id": "d7d41391",
   "metadata": {},
   "outputs": [],
   "source": [
    "Y_train <- data_train$lnw\n",
    "Y_test <- data_test$lnw"
   ]
  },
  {
   "cell_type": "code",
   "execution_count": 15,
   "id": "29570e35",
   "metadata": {
    "scrolled": false
   },
   "outputs": [
    {
     "data": {
      "text/plain": [
       "\n",
       "Call:\n",
       "lm(formula = formula_basic, data = data_train)\n",
       "\n",
       "Coefficients:\n",
       "        (Intercept)               female       female:widowed  \n",
       "            2.91033             -0.71193             -0.10023  \n",
       "    female:divorced     female:separated  female:nevermarried  \n",
       "           -0.01400             -0.08382             -0.02270  \n",
       "       female:hsd08        female:hsd911           female:hsg  \n",
       "           -0.74701             -0.51944             -0.17263  \n",
       "          female:cg            female:ad            female:mw  \n",
       "            0.36295              0.60386             -0.10492  \n",
       "          female:so            female:we          female:exp1  \n",
       "           -0.05738             -0.01726              0.04753  \n",
       "        female:exp2          female:exp3  \n",
       "           -0.20025              0.02943  \n"
      ]
     },
     "metadata": {},
     "output_type": "display_data"
    }
   ],
   "source": [
    "## OLS basic \n",
    "fit.lm.basic <- lm(formula_basic, data_train)\n",
    "fit.lm.basic"
   ]
  },
  {
   "cell_type": "code",
   "execution_count": 16,
   "id": "03945fbe",
   "metadata": {},
   "outputs": [
    {
     "name": "stdout",
     "output_type": "stream",
     "text": [
      "The mean squared error (MSE) using the basic model is equal to 0.3949444"
     ]
    }
   ],
   "source": [
    "# Compute the Out-Of-Sample Performance\n",
    "yhat.lm.basic <- predict(fit.lm.basic, newdata=data_test)\n",
    "cat(\"The mean squared error (MSE) using the basic model is equal to\" , mean((Y_test-yhat.lm.basic)^2)) # MSE OLS (basic model)   "
   ]
  },
  {
   "cell_type": "code",
   "execution_count": 17,
   "id": "b530ba7f",
   "metadata": {},
   "outputs": [
    {
     "data": {
      "text/html": [
       "<style>\n",
       ".list-inline {list-style: none; margin:0; padding: 0}\n",
       ".list-inline>li {display: inline-block}\n",
       ".list-inline>li:not(:last-child)::after {content: \"\\00b7\"; padding: 0 .5ex}\n",
       "</style>\n",
       "<ol class=list-inline><li>0.394944425555897</li><li>0.0213980196930653</li></ol>\n"
      ],
      "text/latex": [
       "\\begin{enumerate*}\n",
       "\\item 0.394944425555897\n",
       "\\item 0.0213980196930653\n",
       "\\end{enumerate*}\n"
      ],
      "text/markdown": [
       "1. 0.394944425555897\n",
       "2. 0.0213980196930653\n",
       "\n",
       "\n"
      ],
      "text/plain": [
       "[1] 0.39494443 0.02139802"
      ]
     },
     "metadata": {},
     "output_type": "display_data"
    }
   ],
   "source": [
    "MSE.lm.basic <- summary(lm((Y_test-yhat.lm.basic)^2~1))$coef[1:2]\n",
    "MSE.lm.basic"
   ]
  },
  {
   "cell_type": "code",
   "execution_count": 18,
   "id": "98846c8d",
   "metadata": {},
   "outputs": [
    {
     "name": "stdout",
     "output_type": "stream",
     "text": [
      "The R^2 using the basic model is equal to 0.1102755"
     ]
    }
   ],
   "source": [
    "R2.lm.basic <- 1-MSE.lm.basic[1]/var(Y_test)\n",
    "cat(\"The R^2 using the basic model is equal to\",R2.lm.basic) # MSE OLS (basic model) "
   ]
  },
  {
   "cell_type": "code",
   "execution_count": null,
   "id": "0a5abdcc",
   "metadata": {},
   "outputs": [],
   "source": [
    "## OLS flexible model"
   ]
  },
  {
   "cell_type": "code",
   "execution_count": 19,
   "id": "ed20582b",
   "metadata": {},
   "outputs": [
    {
     "name": "stdout",
     "output_type": "stream",
     "text": [
      "The R^2 using the flexible model is equal to 0.2287174"
     ]
    }
   ],
   "source": [
    "# ols (flexible model)\n",
    "fit.lm.flex <- lm(formula_flex, data_train) \n",
    "\n",
    "# Compute the Out-Of-Sample Performance\n",
    "options(warn=-1)\n",
    "yhat.lm.flex <- predict(fit.lm.flex, newdata=data_test)\n",
    "MSE.lm.flex <- summary(lm((Y_test-yhat.lm.flex)^2~1))$coef[1:2]\n",
    "\n",
    "R2.lm.flex <- 1-MSE.lm.flex[1]/var(Y_test)\n",
    "cat(\"The R^2 using the flexible model is equal to\",R2.lm.flex) # MSE OLS (flexible model) "
   ]
  },
  {
   "cell_type": "markdown",
   "id": "3a642380",
   "metadata": {},
   "source": [
    "#### LASSO (HDM) "
   ]
  },
  {
   "cell_type": "code",
   "execution_count": 70,
   "id": "40fd16fd",
   "metadata": {},
   "outputs": [
    {
     "name": "stderr",
     "output_type": "stream",
     "text": [
      "Installing package into 'D:/Kenia/Documents/R/win-library/4.0'\n",
      "(as 'lib' is unspecified)\n",
      "\n"
     ]
    },
    {
     "name": "stdout",
     "output_type": "stream",
     "text": [
      "package 'hdm' successfully unpacked and MD5 sums checked\n",
      "\n",
      "The downloaded binary packages are in\n",
      "\tC:\\Users\\Kenia\\AppData\\Local\\Temp\\Rtmp2FdbpB\\downloaded_packages\n"
     ]
    }
   ],
   "source": [
    "install.packages(\"hdm\")"
   ]
  },
  {
   "cell_type": "code",
   "execution_count": 20,
   "id": "40096c12",
   "metadata": {},
   "outputs": [
    {
     "name": "stdout",
     "output_type": "stream",
     "text": [
      "The R^2 using the basic model is equal to 0.1062557 for lasso and 0.1042477 for post-lasso"
     ]
    }
   ],
   "source": [
    "library(hdm) \n",
    "fit.rlasso  <- rlasso(formula_basic, data_train, post=FALSE)\n",
    "fit.rlasso.post <- rlasso(formula_basic, data_train, post=TRUE)\n",
    "\n",
    "yhat.rlasso   <- predict(fit.rlasso, newdata=data_test)\n",
    "yhat.rlasso.post   <- predict(fit.rlasso.post, newdata=data_test)\n",
    "\n",
    "MSE.lasso <- summary(lm((Y_test-yhat.rlasso)^2~1))$coef[1:2]\n",
    "MSE.lasso.post <- summary(lm((Y_test-yhat.rlasso.post)^2~1))$coef[1:2]\n",
    "\n",
    "R2.lasso <- 1-MSE.lasso[1]/var(Y_test)\n",
    "R2.lasso.post <- 1-MSE.lasso.post[1]/var(Y_test)\n",
    "cat(\"The R^2 using the basic model is equal to\",R2.lasso,\"for lasso and\",R2.lasso.post,\"for post-lasso\") # R^2 lasso/post-lasso (basic model) "
   ]
  },
  {
   "cell_type": "code",
   "execution_count": 21,
   "id": "71104636",
   "metadata": {},
   "outputs": [
    {
     "name": "stdout",
     "output_type": "stream",
     "text": [
      "The R^2 using the flexible model is equal to 0.2271759 for lasso and 0.22455 for post-lasso"
     ]
    }
   ],
   "source": [
    "fit.rlasso.flex  <- rlasso(formula_flex, data_train, post=FALSE)\n",
    "fit.rlasso.post.flex <- rlasso(formula_flex, data_train, post=TRUE)\n",
    "yhat.rlasso.flex   <- predict(fit.rlasso.flex, newdata=data_test)\n",
    "yhat.rlasso.post.flex   <- predict(fit.rlasso.post.flex, newdata=data_test)\n",
    "\n",
    "MSE.lasso.flex <- summary(lm((Y_test-yhat.rlasso.flex)^2~1))$coef[1:2]\n",
    "MSE.lasso.post.flex <- summary(lm((Y_test-yhat.rlasso.post.flex)^2~1))$coef[1:2]\n",
    "\n",
    "R2.lasso.flex <- 1-MSE.lasso.flex[1]/var(Y_test)\n",
    "R2.lasso.post.flex <- 1-MSE.lasso.post.flex[1]/var(Y_test)\n",
    "cat(\"The R^2 using the flexible model is equal to\",R2.lasso.flex,\"for lasso and\",R2.lasso.post.flex,\"for post-lasso\") # R^2 lasso/post-lasso (flexible model) "
   ]
  },
  {
   "cell_type": "markdown",
   "id": "56a01efb",
   "metadata": {},
   "source": [
    "#### LASSO/ELASTIC NET/RIDGE LASSO CV"
   ]
  },
  {
   "cell_type": "code",
   "execution_count": 22,
   "id": "5c55217b",
   "metadata": {},
   "outputs": [
    {
     "data": {
      "text/html": [
       "<style>\n",
       ".list-inline {list-style: none; margin:0; padding: 0}\n",
       ".list-inline>li {display: inline-block}\n",
       ".list-inline>li:not(:last-child)::after {content: \"\\00b7\"; padding: 0 .5ex}\n",
       "</style>\n",
       "<ol class=list-inline><li>7305</li><li>17</li></ol>\n"
      ],
      "text/latex": [
       "\\begin{enumerate*}\n",
       "\\item 7305\n",
       "\\item 17\n",
       "\\end{enumerate*}\n"
      ],
      "text/markdown": [
       "1. 7305\n",
       "2. 17\n",
       "\n",
       "\n"
      ],
      "text/plain": [
       "[1] 7305   17"
      ]
     },
     "metadata": {},
     "output_type": "display_data"
    }
   ],
   "source": [
    "dim(model_X_basic_test)"
   ]
  },
  {
   "cell_type": "code",
   "execution_count": 23,
   "id": "619a5b5c",
   "metadata": {
    "scrolled": true
   },
   "outputs": [
    {
     "name": "stderr",
     "output_type": "stream",
     "text": [
      "Loading required package: Matrix\n",
      "\n",
      "Loaded glmnet 4.1-3\n",
      "\n"
     ]
    },
    {
     "name": "stdout",
     "output_type": "stream",
     "text": [
      "R^2 using cross-validation for lasso, ridge and elastic net in the basic model: 0.08193926 0.09136083 0.08870976"
     ]
    }
   ],
   "source": [
    "library(glmnet)\n",
    "fit.lasso.cv   <- cv.glmnet(model_X_basic_train, Y_train, family=\"gaussian\", alpha=1)\n",
    "fit.ridge   <- cv.glmnet(model_X_basic_train, Y_train, family=\"gaussian\", alpha=0)\n",
    "fit.elnet   <- cv.glmnet(model_X_basic_train, Y_train, family=\"gaussian\", alpha=.5)\n",
    "\n",
    "yhat.lasso.cv    <- predict(fit.lasso.cv, newx = model_X_basic_test)\n",
    "yhat.ridge   <- predict(fit.ridge, newx = model_X_basic_test)\n",
    "yhat.elnet   <- predict(fit.elnet, newx = model_X_basic_test)\n",
    "\n",
    "MSE.lasso.cv <- summary(lm((Y_test-yhat.lasso.cv)^2~1))$coef[1:2]\n",
    "MSE.ridge <- summary(lm((Y_test-yhat.ridge)^2~1))$coef[1:2]\n",
    "MSE.elnet <- summary(lm((Y_test-yhat.elnet)^2~1))$coef[1:2]\n",
    "\n",
    "R2.lasso.cv <- 1-MSE.lasso.cv[1]/var(Y_test)\n",
    "R2.ridge <- 1-MSE.ridge[1]/var(Y_test)\n",
    "R2.elnet <- 1-MSE.elnet[1]/var(Y_test)\n",
    "\n",
    "# R^2 using cross-validation (basic model) \n",
    "cat(\"R^2 using cross-validation for lasso, ridge and elastic net in the basic model:\",R2.lasso.cv,R2.ridge,R2.elnet)"
   ]
  },
  {
   "cell_type": "code",
   "execution_count": 24,
   "id": "80f31f0b",
   "metadata": {},
   "outputs": [
    {
     "data": {
      "text/html": [
       "<style>\n",
       ".list-inline {list-style: none; margin:0; padding: 0}\n",
       ".list-inline>li {display: inline-block}\n",
       ".list-inline>li:not(:last-child)::after {content: \"\\00b7\"; padding: 0 .5ex}\n",
       "</style>\n",
       "<ol class=list-inline><li>7305</li><li>137</li></ol>\n"
      ],
      "text/latex": [
       "\\begin{enumerate*}\n",
       "\\item 7305\n",
       "\\item 137\n",
       "\\end{enumerate*}\n"
      ],
      "text/markdown": [
       "1. 7305\n",
       "2. 137\n",
       "\n",
       "\n"
      ],
      "text/plain": [
       "[1] 7305  137"
      ]
     },
     "metadata": {},
     "output_type": "display_data"
    }
   ],
   "source": [
    "dim(model_X_flex_test)"
   ]
  },
  {
   "cell_type": "code",
   "execution_count": 25,
   "id": "7b1c0da6",
   "metadata": {},
   "outputs": [
    {
     "name": "stdout",
     "output_type": "stream",
     "text": [
      "R^2 using cross-validation for lasso, ridge and elastic net in the flexible model: 0.2134812 0.2106494 0.2095135"
     ]
    }
   ],
   "source": [
    "fit.lasso.cv.flex   <- cv.glmnet(model_X_flex_train, Y_train, family=\"gaussian\", alpha=1)\n",
    "fit.ridge.flex   <- cv.glmnet(model_X_flex_train, Y_train, family=\"gaussian\", alpha=0)\n",
    "fit.elnet.flex   <- cv.glmnet(model_X_flex_train, Y_train, family=\"gaussian\", alpha=.5)\n",
    "\n",
    "yhat.lasso.cv.flex    <- predict(fit.lasso.cv.flex , newx = model_X_flex_test)\n",
    "yhat.ridge.flex    <- predict(fit.ridge.flex , newx = model_X_flex_test)\n",
    "yhat.elnet.flex    <- predict(fit.elnet.flex , newx = model_X_flex_test)\n",
    "\n",
    "MSE.lasso.cv.flex  <- summary(lm((Y_test-yhat.lasso.cv.flex )^2~1))$coef[1:2]\n",
    "MSE.ridge.flex  <- summary(lm((Y_test-yhat.ridge.flex )^2~1))$coef[1:2]\n",
    "MSE.elnet.flex  <- summary(lm((Y_test-yhat.elnet.flex )^2~1))$coef[1:2]\n",
    "\n",
    "R2.lasso.cv.flex  <- 1-MSE.lasso.cv.flex [1]/var(Y_test)\n",
    "R2.ridge.flex  <- 1-MSE.ridge.flex [1]/var(Y_test)\n",
    "R2.elnet.flex  <- 1-MSE.elnet.flex [1]/var(Y_test)\n",
    "\n",
    "# R^2 using cross-validation (flexible model) \n",
    "cat(\"R^2 using cross-validation for lasso, ridge and elastic net in the flexible model:\",R2.lasso.cv.flex,R2.ridge.flex,R2.elnet.flex)"
   ]
  },
  {
   "cell_type": "code",
   "execution_count": 26,
   "id": "554d03f6",
   "metadata": {},
   "outputs": [
    {
     "data": {
      "text/html": [
       "0.34913192383685"
      ],
      "text/latex": [
       "0.34913192383685"
      ],
      "text/markdown": [
       "0.34913192383685"
      ],
      "text/plain": [
       "[1] 0.3491319"
      ]
     },
     "metadata": {},
     "output_type": "display_data"
    },
    {
     "data": {
      "text/html": [
       "0.34421851611087"
      ],
      "text/latex": [
       "0.34421851611087"
      ],
      "text/markdown": [
       "0.34421851611087"
      ],
      "text/plain": [
       "[1] 0.3442185"
      ]
     },
     "metadata": {},
     "output_type": "display_data"
    }
   ],
   "source": [
    "MSE.lasso.cv.flex[1]\n",
    "MSE.lasso.post.flex[1]"
   ]
  },
  {
   "cell_type": "markdown",
   "id": "d407b0e9",
   "metadata": {},
   "source": [
    "#### Non Linear Model "
   ]
  },
  {
   "cell_type": "code",
   "execution_count": 42,
   "id": "4f020f2f",
   "metadata": {
    "scrolled": true
   },
   "outputs": [
    {
     "name": "stderr",
     "output_type": "stream",
     "text": [
      "Installing package into 'D:/Kenia/Documents/R/win-library/4.0'\n",
      "(as 'lib' is unspecified)\n",
      "\n",
      "Installing package into 'D:/Kenia/Documents/R/win-library/4.0'\n",
      "(as 'lib' is unspecified)\n",
      "\n"
     ]
    },
    {
     "name": "stdout",
     "output_type": "stream",
     "text": [
      "package 'gbm' successfully unpacked and MD5 sums checked\n",
      "\n",
      "The downloaded binary packages are in\n",
      "\tC:\\Users\\Kenia\\AppData\\Local\\Temp\\RtmpIruQP5\\downloaded_packages\n"
     ]
    },
    {
     "name": "stderr",
     "output_type": "stream",
     "text": [
      "Installing package into 'D:/Kenia/Documents/R/win-library/4.0'\n",
      "(as 'lib' is unspecified)\n",
      "\n",
      "also installing the dependencies 'RcppTOML', 'here', 'config', 'tfautograph', 'reticulate', 'tensorflow', 'tfruns', 'zeallot'\n",
      "\n",
      "\n"
     ]
    },
    {
     "name": "stdout",
     "output_type": "stream",
     "text": [
      "\n",
      "  There are binary versions available but the source versions are later:\n",
      "           binary source needs_compilation\n",
      "reticulate   1.24   1.25              TRUE\n",
      "tensorflow  2.8.0  2.9.0             FALSE\n",
      "keras       2.8.0  2.9.0             FALSE\n",
      "\n",
      "  Binaries will be installed\n",
      "package 'RcppTOML' successfully unpacked and MD5 sums checked\n",
      "package 'here' successfully unpacked and MD5 sums checked\n",
      "package 'config' successfully unpacked and MD5 sums checked\n",
      "package 'tfautograph' successfully unpacked and MD5 sums checked\n",
      "package 'reticulate' successfully unpacked and MD5 sums checked\n",
      "package 'tfruns' successfully unpacked and MD5 sums checked\n",
      "package 'zeallot' successfully unpacked and MD5 sums checked\n",
      "\n",
      "The downloaded binary packages are in\n",
      "\tC:\\Users\\Kenia\\AppData\\Local\\Temp\\RtmpIruQP5\\downloaded_packages\n"
     ]
    },
    {
     "name": "stderr",
     "output_type": "stream",
     "text": [
      "installing the source packages 'tensorflow', 'keras'\n",
      "\n",
      "\n"
     ]
    }
   ],
   "source": [
    "install.packages(\"gbm\")\n",
    "install.packages(\"keras\")"
   ]
  },
  {
   "cell_type": "code",
   "execution_count": 52,
   "id": "faab558d",
   "metadata": {
    "scrolled": true
   },
   "outputs": [
    {
     "name": "stderr",
     "output_type": "stream",
     "text": [
      "Loaded gbm 2.1.8\n",
      "\n"
     ]
    },
    {
     "ename": "ERROR",
     "evalue": "Error in library(rpart.plot): there is no package called 'rpart.plot'\n",
     "output_type": "error",
     "traceback": [
      "Error in library(rpart.plot): there is no package called 'rpart.plot'\nTraceback:\n",
      "1. library(rpart.plot)"
     ]
    }
   ],
   "source": [
    "library(rpart)\n",
    "library(nnet)\n",
    "library(gbm)\n",
    "library(rpart.plot)\n",
    "library(keras)"
   ]
  },
  {
   "cell_type": "code",
   "execution_count": null,
   "id": "3dad06a1",
   "metadata": {},
   "outputs": [],
   "source": []
  },
  {
   "cell_type": "code",
   "execution_count": 27,
   "id": "58fb5d7d",
   "metadata": {},
   "outputs": [
    {
     "ename": "ERROR",
     "evalue": "Error in eval(expr, envir, enclos): objeto 'MSE.rf' no encontrado\n",
     "output_type": "error",
     "traceback": [
      "Error in eval(expr, envir, enclos): objeto 'MSE.rf' no encontrado\nTraceback:\n"
     ]
    }
   ],
   "source": [
    "library(xtable)\n",
    "table<- matrix(0, 15, 3)\n",
    "table[1,1:2]   <- MSE.lm.basic\n",
    "table[2,1:2]   <- MSE.lm.flex\n",
    "table[3,1:2]   <- MSE.lasso\n",
    "table[4,1:2]   <- MSE.lasso.post\n",
    "table[5,1:2]   <- MSE.lasso.flex\n",
    "table[6,1:2]   <- MSE.lasso.post.flex\n",
    "table[7,1:2]   <- MSE.lasso.cv\n",
    "table[8,1:2]   <- MSE.ridge\n",
    "table[9,1:2]   <- MSE.elnet\n",
    "table[10,1:2]   <- MSE.lasso.cv.flex\n",
    "table[11,1:2]  <- MSE.ridge.flex\n",
    "table[12,1:2]  <- MSE.elnet.flex\n",
    "table[13,1:2]  <- MSE.rf\n",
    "table[14,1:2]  <- MSE.boost\n",
    "table[15,1:2]  <- MSE.pt\n",
    "\n",
    "\n",
    "\n",
    "table[1,3]   <- R2.lm.basic\n",
    "table[2,3]   <- R2.lm.flex\n",
    "table[3,3]   <- R2.lasso\n",
    "table[4,3]   <- R2.lasso.post\n",
    "table[5,3]   <- R2.lasso.flex\n",
    "table[6,3]   <- R2.lasso.post.flex\n",
    "table[7,3]   <- R2.lasso.cv\n",
    "table[8,3]   <- R2.ridge\n",
    "table[9,3]   <- R2.elnet\n",
    "table[10,3]   <- R2.lasso.cv.flex\n",
    "table[11,3]  <- R2.ridge.flex\n",
    "table[12,3]  <- R2.elnet.flex\n",
    "table[13,3]  <- R2.rf\n",
    "table[14,3]  <- R2.boost\n",
    "table[15,3]  <- R2.pt\n",
    "\n",
    "\n",
    "\n",
    "\n",
    "colnames(table)<- c(\"MSE\", \"S.E. for MSE\", \"R-squared\")\n",
    "rownames(table)<- c(\"Least Squares (basic)\",\"Least Squares (flexible)\", \"Lasso\", \"Post-Lasso\",\"Lasso (flexible)\",\"Post-Lasso (flexible)\", \n",
    "                    \"Cross-Validated lasso\", \"Cross-Validated ridge\",\"Cross-Validated elnet\",\"Cross-Validated lasso (flexible)\",\"Cross-Validated ridge (flexible)\",\"Cross-Validated elnet (flexible)\",  \n",
    "                    \"Random Forest\",\"Boosted Trees\", \"Pruned Tree\")\n",
    "tab <- xtable(table, digits =3)\n",
    "print(tab,type=\"latex\") # set type=\"latex\" for printing table in LaTeX\n",
    "tab"
   ]
  }
 ],
 "metadata": {
  "kernelspec": {
   "display_name": "R",
   "language": "R",
   "name": "ir"
  },
  "language_info": {
   "codemirror_mode": "r",
   "file_extension": ".r",
   "mimetype": "text/x-r-source",
   "name": "R",
   "pygments_lexer": "r",
   "version": "4.0.3"
  }
 },
 "nbformat": 4,
 "nbformat_minor": 5
}
