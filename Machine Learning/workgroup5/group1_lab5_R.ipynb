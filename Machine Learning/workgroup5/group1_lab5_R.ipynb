{
 "cells": [
  {
   "cell_type": "markdown",
   "id": "3456362f",
   "metadata": {},
   "source": [
    "# Replication 5: R\n",
    "Group  : 1\n",
    "\n",
    "Members:\n",
    "- Juan José Tang\n",
    "- Ursula Cotrina \n",
    "- Victoria Olivera\n"
   ]
  },
  {
   "cell_type": "markdown",
   "id": "e50eb878",
   "metadata": {},
   "source": [
    "## Bootstraping"
   ]
  },
  {
   "cell_type": "code",
   "execution_count": 1,
   "id": "fa13b40d",
   "metadata": {},
   "outputs": [
    {
     "name": "stdout",
     "output_type": "stream",
     "text": [
      "package 'randomForest' successfully unpacked and MD5 sums checked\n"
     ]
    },
    {
     "name": "stderr",
     "output_type": "stream",
     "text": [
      "Warning message:\n",
      "\"cannot remove prior installation of package 'randomForest'\"\n",
      "Warning message in file.copy(savedcopy, lib, recursive = TRUE):\n",
      "\"problema al copiar D:\\R-4.1.2\\library\\00LOCK\\randomForest\\libs\\x64\\randomForest.dll  a D:\\R-4.1.2\\library\\randomForest\\libs\\x64\\randomForest.dll: Permission denied\"\n",
      "Warning message:\n",
      "\"restored 'randomForest'\"\n"
     ]
    },
    {
     "name": "stdout",
     "output_type": "stream",
     "text": [
      "\n",
      "The downloaded binary packages are in\n",
      "\tC:\\Users\\Pelusa\\AppData\\Local\\Temp\\Rtmp0ymk5k\\downloaded_packages\n",
      "package 'gbm' successfully unpacked and MD5 sums checked\n"
     ]
    },
    {
     "name": "stderr",
     "output_type": "stream",
     "text": [
      "Warning message:\n",
      "\"cannot remove prior installation of package 'gbm'\"\n",
      "Warning message in file.copy(savedcopy, lib, recursive = TRUE):\n",
      "\"problema al copiar D:\\R-4.1.2\\library\\00LOCK\\gbm\\libs\\x64\\gbm.dll  a D:\\R-4.1.2\\library\\gbm\\libs\\x64\\gbm.dll: Permission denied\"\n",
      "Warning message:\n",
      "\"restored 'gbm'\"\n"
     ]
    },
    {
     "name": "stdout",
     "output_type": "stream",
     "text": [
      "\n",
      "The downloaded binary packages are in\n",
      "\tC:\\Users\\Pelusa\\AppData\\Local\\Temp\\Rtmp0ymk5k\\downloaded_packages\n",
      "package 'keras' successfully unpacked and MD5 sums checked\n",
      "\n",
      "The downloaded binary packages are in\n",
      "\tC:\\Users\\Pelusa\\AppData\\Local\\Temp\\Rtmp0ymk5k\\downloaded_packages\n"
     ]
    }
   ],
   "source": [
    "#install.packages(\"randomForest\")\n",
    "#install.packages(\"gbm\")\n",
    "#install.packages(\"keras\")"
   ]
  },
  {
   "cell_type": "code",
   "execution_count": 2,
   "id": "cbac9f58",
   "metadata": {},
   "outputs": [
    {
     "name": "stderr",
     "output_type": "stream",
     "text": [
      "Warning message:\n",
      "\"package 'randomForest' was built under R version 4.1.3\"\n",
      "randomForest 4.7-1.1\n",
      "\n",
      "Type rfNews() to see new features/changes/bug fixes.\n",
      "\n",
      "Warning message:\n",
      "\"package 'gbm' was built under R version 4.1.3\"\n",
      "Loaded gbm 2.1.8\n",
      "\n",
      "Warning message:\n",
      "\"package 'rpart.plot' was built under R version 4.1.3\"\n",
      "Warning message:\n",
      "\"package 'keras' was built under R version 4.1.3\"\n"
     ]
    }
   ],
   "source": [
    "library(boot)\n",
    "library(rpart)\n",
    "library(randomForest)\n",
    "library(nnet)\n",
    "library(gbm)\n",
    "library(rpart.plot)\n",
    "library(keras)"
   ]
  },
  {
   "cell_type": "code",
   "execution_count": 3,
   "id": "224d021d",
   "metadata": {},
   "outputs": [],
   "source": [
    "## loading the data\n",
    "data <- as.data.frame(read.table(\"../../data/penn_jae.dat\", header=T ))\n",
    "attach(data)"
   ]
  },
  {
   "cell_type": "code",
   "execution_count": 4,
   "id": "0b56bb87",
   "metadata": {},
   "outputs": [
    {
     "data": {
      "text/html": [
       "<table class=\"dataframe\">\n",
       "<caption>A data.frame: 6 × 23</caption>\n",
       "<thead>\n",
       "\t<tr><th></th><th scope=col>abdt</th><th scope=col>tg</th><th scope=col>inuidur1</th><th scope=col>inuidur2</th><th scope=col>female</th><th scope=col>black</th><th scope=col>hispanic</th><th scope=col>othrace</th><th scope=col>dep</th><th scope=col>q1</th><th scope=col>...</th><th scope=col>q5</th><th scope=col>q6</th><th scope=col>recall</th><th scope=col>agelt35</th><th scope=col>agegt54</th><th scope=col>durable</th><th scope=col>nondurable</th><th scope=col>lusd</th><th scope=col>husd</th><th scope=col>muld</th></tr>\n",
       "\t<tr><th></th><th scope=col>&lt;int&gt;</th><th scope=col>&lt;int&gt;</th><th scope=col>&lt;int&gt;</th><th scope=col>&lt;int&gt;</th><th scope=col>&lt;int&gt;</th><th scope=col>&lt;int&gt;</th><th scope=col>&lt;int&gt;</th><th scope=col>&lt;int&gt;</th><th scope=col>&lt;int&gt;</th><th scope=col>&lt;int&gt;</th><th scope=col>...</th><th scope=col>&lt;int&gt;</th><th scope=col>&lt;int&gt;</th><th scope=col>&lt;int&gt;</th><th scope=col>&lt;int&gt;</th><th scope=col>&lt;int&gt;</th><th scope=col>&lt;int&gt;</th><th scope=col>&lt;int&gt;</th><th scope=col>&lt;int&gt;</th><th scope=col>&lt;int&gt;</th><th scope=col>&lt;int&gt;</th></tr>\n",
       "</thead>\n",
       "<tbody>\n",
       "\t<tr><th scope=row>1</th><td>10824</td><td>0</td><td>18</td><td>18</td><td>0</td><td>0</td><td>0</td><td>0</td><td>2</td><td>0</td><td>...</td><td>1</td><td>0</td><td>0</td><td>0</td><td>0</td><td>0</td><td>0</td><td>0</td><td>1</td><td>0</td></tr>\n",
       "\t<tr><th scope=row>2</th><td>10635</td><td>2</td><td> 7</td><td> 3</td><td>0</td><td>0</td><td>0</td><td>0</td><td>0</td><td>0</td><td>...</td><td>0</td><td>0</td><td>0</td><td>1</td><td>0</td><td>0</td><td>0</td><td>1</td><td>0</td><td>0</td></tr>\n",
       "\t<tr><th scope=row>3</th><td>10551</td><td>5</td><td>18</td><td> 6</td><td>1</td><td>0</td><td>0</td><td>0</td><td>0</td><td>0</td><td>...</td><td>0</td><td>0</td><td>1</td><td>0</td><td>1</td><td>0</td><td>0</td><td>0</td><td>0</td><td>0</td></tr>\n",
       "\t<tr><th scope=row>4</th><td>10824</td><td>0</td><td> 1</td><td> 1</td><td>0</td><td>0</td><td>0</td><td>0</td><td>0</td><td>0</td><td>...</td><td>1</td><td>0</td><td>0</td><td>0</td><td>0</td><td>0</td><td>0</td><td>1</td><td>0</td><td>0</td></tr>\n",
       "\t<tr><th scope=row>5</th><td>10747</td><td>0</td><td>27</td><td>27</td><td>0</td><td>0</td><td>0</td><td>0</td><td>0</td><td>0</td><td>...</td><td>0</td><td>0</td><td>0</td><td>0</td><td>0</td><td>0</td><td>0</td><td>1</td><td>0</td><td>0</td></tr>\n",
       "\t<tr><th scope=row>6</th><td>10544</td><td>6</td><td> 7</td><td> 7</td><td>0</td><td>0</td><td>0</td><td>0</td><td>0</td><td>0</td><td>...</td><td>0</td><td>0</td><td>0</td><td>0</td><td>0</td><td>0</td><td>0</td><td>0</td><td>0</td><td>1</td></tr>\n",
       "</tbody>\n",
       "</table>\n"
      ],
      "text/latex": [
       "A data.frame: 6 × 23\n",
       "\\begin{tabular}{r|lllllllllllllllllllll}\n",
       "  & abdt & tg & inuidur1 & inuidur2 & female & black & hispanic & othrace & dep & q1 & ... & q5 & q6 & recall & agelt35 & agegt54 & durable & nondurable & lusd & husd & muld\\\\\n",
       "  & <int> & <int> & <int> & <int> & <int> & <int> & <int> & <int> & <int> & <int> & ... & <int> & <int> & <int> & <int> & <int> & <int> & <int> & <int> & <int> & <int>\\\\\n",
       "\\hline\n",
       "\t1 & 10824 & 0 & 18 & 18 & 0 & 0 & 0 & 0 & 2 & 0 & ... & 1 & 0 & 0 & 0 & 0 & 0 & 0 & 0 & 1 & 0\\\\\n",
       "\t2 & 10635 & 2 &  7 &  3 & 0 & 0 & 0 & 0 & 0 & 0 & ... & 0 & 0 & 0 & 1 & 0 & 0 & 0 & 1 & 0 & 0\\\\\n",
       "\t3 & 10551 & 5 & 18 &  6 & 1 & 0 & 0 & 0 & 0 & 0 & ... & 0 & 0 & 1 & 0 & 1 & 0 & 0 & 0 & 0 & 0\\\\\n",
       "\t4 & 10824 & 0 &  1 &  1 & 0 & 0 & 0 & 0 & 0 & 0 & ... & 1 & 0 & 0 & 0 & 0 & 0 & 0 & 1 & 0 & 0\\\\\n",
       "\t5 & 10747 & 0 & 27 & 27 & 0 & 0 & 0 & 0 & 0 & 0 & ... & 0 & 0 & 0 & 0 & 0 & 0 & 0 & 1 & 0 & 0\\\\\n",
       "\t6 & 10544 & 6 &  7 &  7 & 0 & 0 & 0 & 0 & 0 & 0 & ... & 0 & 0 & 0 & 0 & 0 & 0 & 0 & 0 & 0 & 1\\\\\n",
       "\\end{tabular}\n"
      ],
      "text/markdown": [
       "\n",
       "A data.frame: 6 × 23\n",
       "\n",
       "| <!--/--> | abdt &lt;int&gt; | tg &lt;int&gt; | inuidur1 &lt;int&gt; | inuidur2 &lt;int&gt; | female &lt;int&gt; | black &lt;int&gt; | hispanic &lt;int&gt; | othrace &lt;int&gt; | dep &lt;int&gt; | q1 &lt;int&gt; | ... ... | q5 &lt;int&gt; | q6 &lt;int&gt; | recall &lt;int&gt; | agelt35 &lt;int&gt; | agegt54 &lt;int&gt; | durable &lt;int&gt; | nondurable &lt;int&gt; | lusd &lt;int&gt; | husd &lt;int&gt; | muld &lt;int&gt; |\n",
       "|---|---|---|---|---|---|---|---|---|---|---|---|---|---|---|---|---|---|---|---|---|---|\n",
       "| 1 | 10824 | 0 | 18 | 18 | 0 | 0 | 0 | 0 | 2 | 0 | ... | 1 | 0 | 0 | 0 | 0 | 0 | 0 | 0 | 1 | 0 |\n",
       "| 2 | 10635 | 2 |  7 |  3 | 0 | 0 | 0 | 0 | 0 | 0 | ... | 0 | 0 | 0 | 1 | 0 | 0 | 0 | 1 | 0 | 0 |\n",
       "| 3 | 10551 | 5 | 18 |  6 | 1 | 0 | 0 | 0 | 0 | 0 | ... | 0 | 0 | 1 | 0 | 1 | 0 | 0 | 0 | 0 | 0 |\n",
       "| 4 | 10824 | 0 |  1 |  1 | 0 | 0 | 0 | 0 | 0 | 0 | ... | 1 | 0 | 0 | 0 | 0 | 0 | 0 | 1 | 0 | 0 |\n",
       "| 5 | 10747 | 0 | 27 | 27 | 0 | 0 | 0 | 0 | 0 | 0 | ... | 0 | 0 | 0 | 0 | 0 | 0 | 0 | 1 | 0 | 0 |\n",
       "| 6 | 10544 | 6 |  7 |  7 | 0 | 0 | 0 | 0 | 0 | 0 | ... | 0 | 0 | 0 | 0 | 0 | 0 | 0 | 0 | 0 | 1 |\n",
       "\n"
      ],
      "text/plain": [
       "  abdt  tg inuidur1 inuidur2 female black hispanic othrace dep q1 ... q5 q6\n",
       "1 10824 0  18       18       0      0     0        0       2   0  ... 1  0 \n",
       "2 10635 2   7        3       0      0     0        0       0   0  ... 0  0 \n",
       "3 10551 5  18        6       1      0     0        0       0   0  ... 0  0 \n",
       "4 10824 0   1        1       0      0     0        0       0   0  ... 1  0 \n",
       "5 10747 0  27       27       0      0     0        0       0   0  ... 0  0 \n",
       "6 10544 6   7        7       0      0     0        0       0   0  ... 0  0 \n",
       "  recall agelt35 agegt54 durable nondurable lusd husd muld\n",
       "1 0      0       0       0       0          0    1    0   \n",
       "2 0      1       0       0       0          1    0    0   \n",
       "3 1      0       1       0       0          0    0    0   \n",
       "4 0      0       0       0       0          1    0    0   \n",
       "5 0      0       0       0       0          1    0    0   \n",
       "6 0      0       0       0       0          0    0    1   "
      ]
     },
     "metadata": {},
     "output_type": "display_data"
    }
   ],
   "source": [
    "head(data)"
   ]
  },
  {
   "cell_type": "code",
   "execution_count": 5,
   "id": "d9bd8b1d",
   "metadata": {},
   "outputs": [
    {
     "data": {
      "text/plain": [
       "   Mode   FALSE    TRUE \n",
       "logical   12168    1745 "
      ]
     },
     "metadata": {},
     "output_type": "display_data"
    }
   ],
   "source": [
    "T4<- (tg==4)\n",
    "summary(T4)"
   ]
  },
  {
   "cell_type": "code",
   "execution_count": 6,
   "id": "c46ee4fa",
   "metadata": {},
   "outputs": [],
   "source": [
    "boot.fn <- function(data, index)\n",
    "  coef(lm(log(inuidur1)~T4+ (female+black+othrace+factor(dep)+q2+q3+q4+q5+q6+agelt35+agegt54+durable+lusd+husd), data = data, subset = index)) # Con coef me saca los beta"
   ]
  },
  {
   "cell_type": "markdown",
   "id": "4f59381a",
   "metadata": {},
   "source": [
    "The function `boot.fn()`allows to get the coefficients of a regression from a sample subset"
   ]
  },
  {
   "cell_type": "code",
   "execution_count": 7,
   "id": "da56d9c7",
   "metadata": {},
   "outputs": [
    {
     "data": {
      "text/html": [
       "<style>\n",
       ".dl-inline {width: auto; margin:0; padding: 0}\n",
       ".dl-inline>dt, .dl-inline>dd {float: none; width: auto; display: inline-block}\n",
       ".dl-inline>dt::after {content: \":\\0020\"; padding-right: .5ex}\n",
       ".dl-inline>dt:not(:first-of-type) {padding-left: .5ex}\n",
       "</style><dl class=dl-inline><dt>(Intercept)</dt><dd>2.06994161550009</dd><dt>T4TRUE</dt><dd>-0.025453694083855</dd><dt>female</dt><dd>0.105427357495834</dd><dt>black</dt><dd>-0.376030734674497</dd><dt>othrace</dt><dd>-0.292862731825491</dd><dt>factor(dep)1</dt><dd>0.0512594160516877</dd><dt>factor(dep)2</dt><dd>0.0807502424782243</dd><dt>q2</dt><dd>0.160492201775349</dd><dt>q3</dt><dd>0.0565722504342167</dd><dt>q4</dt><dd>0.0266641219421665</dd><dt>q5</dt><dd>-0.0233958814869135</dd><dt>q6</dt><dd>0.190885378628766</dd><dt>agelt35</dt><dd>-0.205122102384274</dd><dt>agegt54</dt><dd>0.228406166060079</dd><dt>durable</dt><dd>0.0488830257249353</dd><dt>lusd</dt><dd>-0.165210565630247</dd><dt>husd</dt><dd>-0.0527862468619004</dd></dl>\n"
      ],
      "text/latex": [
       "\\begin{description*}\n",
       "\\item[(Intercept)] 2.06994161550009\n",
       "\\item[T4TRUE] -0.025453694083855\n",
       "\\item[female] 0.105427357495834\n",
       "\\item[black] -0.376030734674497\n",
       "\\item[othrace] -0.292862731825491\n",
       "\\item[factor(dep)1] 0.0512594160516877\n",
       "\\item[factor(dep)2] 0.0807502424782243\n",
       "\\item[q2] 0.160492201775349\n",
       "\\item[q3] 0.0565722504342167\n",
       "\\item[q4] 0.0266641219421665\n",
       "\\item[q5] -0.0233958814869135\n",
       "\\item[q6] 0.190885378628766\n",
       "\\item[agelt35] -0.205122102384274\n",
       "\\item[agegt54] 0.228406166060079\n",
       "\\item[durable] 0.0488830257249353\n",
       "\\item[lusd] -0.165210565630247\n",
       "\\item[husd] -0.0527862468619004\n",
       "\\end{description*}\n"
      ],
      "text/markdown": [
       "(Intercept)\n",
       ":   2.06994161550009T4TRUE\n",
       ":   -0.025453694083855female\n",
       ":   0.105427357495834black\n",
       ":   -0.376030734674497othrace\n",
       ":   -0.292862731825491factor(dep)1\n",
       ":   0.0512594160516877factor(dep)2\n",
       ":   0.0807502424782243q2\n",
       ":   0.160492201775349q3\n",
       ":   0.0565722504342167q4\n",
       ":   0.0266641219421665q5\n",
       ":   -0.0233958814869135q6\n",
       ":   0.190885378628766agelt35\n",
       ":   -0.205122102384274agegt54\n",
       ":   0.228406166060079durable\n",
       ":   0.0488830257249353lusd\n",
       ":   -0.165210565630247husd\n",
       ":   -0.0527862468619004\n",
       "\n"
      ],
      "text/plain": [
       " (Intercept)       T4TRUE       female        black      othrace factor(dep)1 \n",
       "  2.06994162  -0.02545369   0.10542736  -0.37603073  -0.29286273   0.05125942 \n",
       "factor(dep)2           q2           q3           q4           q5           q6 \n",
       "  0.08075024   0.16049220   0.05657225   0.02666412  -0.02339588   0.19088538 \n",
       "     agelt35      agegt54      durable         lusd         husd \n",
       " -0.20512210   0.22840617   0.04888303  -0.16521057  -0.05278625 "
      ]
     },
     "metadata": {},
     "output_type": "display_data"
    }
   ],
   "source": [
    "boot.fn(data, 1:nrow(data))"
   ]
  },
  {
   "cell_type": "code",
   "execution_count": 8,
   "id": "f1f27ad2",
   "metadata": {
    "scrolled": true
   },
   "outputs": [
    {
     "data": {
      "text/html": [
       "<style>\n",
       ".dl-inline {width: auto; margin:0; padding: 0}\n",
       ".dl-inline>dt, .dl-inline>dd {float: none; width: auto; display: inline-block}\n",
       ".dl-inline>dt::after {content: \":\\0020\"; padding-right: .5ex}\n",
       ".dl-inline>dt:not(:first-of-type) {padding-left: .5ex}\n",
       "</style><dl class=dl-inline><dt>(Intercept)</dt><dd>1.98198313309462</dd><dt>T4TRUE</dt><dd>-0.0302220636171463</dd><dt>female</dt><dd>0.0636490280995783</dd><dt>black</dt><dd>-0.40263879067847</dd><dt>othrace</dt><dd>-0.346189245551394</dd><dt>factor(dep)1</dt><dd>0.0323913718740923</dd><dt>factor(dep)2</dt><dd>0.0665757629674191</dd><dt>q2</dt><dd>0.224906544297811</dd><dt>q3</dt><dd>0.177108822718576</dd><dt>q4</dt><dd>0.161039212049801</dd><dt>q5</dt><dd>0.0870629606303551</dd><dt>q6</dt><dd>0.305455739707051</dd><dt>agelt35</dt><dd>-0.183505697245422</dd><dt>agegt54</dt><dd>0.261808316187292</dd><dt>durable</dt><dd>-0.0141110953363786</dd><dt>lusd</dt><dd>-0.186078887776068</dd><dt>husd</dt><dd>-0.0121287885892318</dd></dl>\n"
      ],
      "text/latex": [
       "\\begin{description*}\n",
       "\\item[(Intercept)] 1.98198313309462\n",
       "\\item[T4TRUE] -0.0302220636171463\n",
       "\\item[female] 0.0636490280995783\n",
       "\\item[black] -0.40263879067847\n",
       "\\item[othrace] -0.346189245551394\n",
       "\\item[factor(dep)1] 0.0323913718740923\n",
       "\\item[factor(dep)2] 0.0665757629674191\n",
       "\\item[q2] 0.224906544297811\n",
       "\\item[q3] 0.177108822718576\n",
       "\\item[q4] 0.161039212049801\n",
       "\\item[q5] 0.0870629606303551\n",
       "\\item[q6] 0.305455739707051\n",
       "\\item[agelt35] -0.183505697245422\n",
       "\\item[agegt54] 0.261808316187292\n",
       "\\item[durable] -0.0141110953363786\n",
       "\\item[lusd] -0.186078887776068\n",
       "\\item[husd] -0.0121287885892318\n",
       "\\end{description*}\n"
      ],
      "text/markdown": [
       "(Intercept)\n",
       ":   1.98198313309462T4TRUE\n",
       ":   -0.0302220636171463female\n",
       ":   0.0636490280995783black\n",
       ":   -0.40263879067847othrace\n",
       ":   -0.346189245551394factor(dep)1\n",
       ":   0.0323913718740923factor(dep)2\n",
       ":   0.0665757629674191q2\n",
       ":   0.224906544297811q3\n",
       ":   0.177108822718576q4\n",
       ":   0.161039212049801q5\n",
       ":   0.0870629606303551q6\n",
       ":   0.305455739707051agelt35\n",
       ":   -0.183505697245422agegt54\n",
       ":   0.261808316187292durable\n",
       ":   -0.0141110953363786lusd\n",
       ":   -0.186078887776068husd\n",
       ":   -0.0121287885892318\n",
       "\n"
      ],
      "text/plain": [
       " (Intercept)       T4TRUE       female        black      othrace factor(dep)1 \n",
       "  1.98198313  -0.03022206   0.06364903  -0.40263879  -0.34618925   0.03239137 \n",
       "factor(dep)2           q2           q3           q4           q5           q6 \n",
       "  0.06657576   0.22490654   0.17710882   0.16103921   0.08706296   0.30545574 \n",
       "     agelt35      agegt54      durable         lusd         husd \n",
       " -0.18350570   0.26180832  -0.01411110  -0.18607889  -0.01212879 "
      ]
     },
     "metadata": {},
     "output_type": "display_data"
    }
   ],
   "source": [
    "set.seed(1)\n",
    "boot.fn(data, sample(nrow(data), nrow(data), replace = T))"
   ]
  },
  {
   "cell_type": "code",
   "execution_count": 9,
   "id": "dd75d572",
   "metadata": {},
   "outputs": [
    {
     "data": {
      "text/plain": [
       "\n",
       "ORDINARY NONPARAMETRIC BOOTSTRAP\n",
       "\n",
       "\n",
       "Call:\n",
       "boot(data = data, statistic = boot.fn, R = 1000)\n",
       "\n",
       "\n",
       "Bootstrap Statistics :\n",
       "        original        bias    std. error\n",
       "t1*   2.06994162 -0.0047236134  0.08935460\n",
       "t2*  -0.02545369 -0.0016458782  0.03120518\n",
       "t3*   0.10542736  0.0003639112  0.02245260\n",
       "t4*  -0.37603073  0.0012871729  0.03789936\n",
       "t5*  -0.29286273 -0.0049507662  0.14660978\n",
       "t6*   0.05125942  0.0005723117  0.03172371\n",
       "t7*   0.08075024  0.0008849522  0.02818702\n",
       "t8*   0.16049220  0.0032605821  0.08537996\n",
       "t9*   0.05657225  0.0033488538  0.08461054\n",
       "t10*  0.02666412  0.0047356979  0.08711859\n",
       "t11* -0.02339588  0.0039453469  0.08643442\n",
       "t12*  0.19088538  0.0034569144  0.09145826\n",
       "t13* -0.20512210 -0.0001122417  0.02170845\n",
       "t14*  0.22840617 -0.0012185383  0.03504637\n",
       "t15*  0.04888303 -0.0005384659  0.03059589\n",
       "t16* -0.16521057  0.0011174564  0.02439000\n",
       "t17* -0.05278625  0.0022017938  0.02623434"
      ]
     },
     "metadata": {},
     "output_type": "display_data"
    }
   ],
   "source": [
    "reg_lineal = boot(data, boot.fn, 1000)\n",
    "reg_lineal"
   ]
  },
  {
   "cell_type": "markdown",
   "id": "76849813",
   "metadata": {},
   "source": [
    "The function boot is to make t"
   ]
  },
  {
   "cell_type": "code",
   "execution_count": 10,
   "id": "8b8c6206",
   "metadata": {},
   "outputs": [
    {
     "data": {
      "image/png": "[encoded data removed]",
      "text/plain": [
       "Plot with title \"Histogram of t\""
      ]
     },
     "metadata": {
      "image/png": {
       "height": 420,
       "width": 420
      }
     },
     "output_type": "display_data"
    }
   ],
   "source": [
    "# Variable T4\n",
    "plot(reg_lineal, index=2) "
   ]
  },
  {
   "cell_type": "code",
   "execution_count": 11,
   "id": "a75c11fe",
   "metadata": {},
   "outputs": [
    {
     "data": {
      "image/png": "[encoded data removed]",
      "text/plain": [
       "Plot with title \"Histogram of t\""
      ]
     },
     "metadata": {
      "image/png": {
       "height": 420,
       "width": 420
      }
     },
     "output_type": "display_data"
    }
   ],
   "source": [
    "# Variable female\n",
    "plot(reg_lineal, index=3) "
   ]
  },
  {
   "cell_type": "code",
   "execution_count": 12,
   "id": "1bfc523c",
   "metadata": {},
   "outputs": [
    {
     "data": {
      "image/png": "[encoded data removed]",
      "text/plain": [
       "Plot with title \"Histogram of t\""
      ]
     },
     "metadata": {
      "image/png": {
       "height": 420,
       "width": 420
      }
     },
     "output_type": "display_data"
    }
   ],
   "source": [
    "# Variable black\n",
    "plot(reg_lineal, index=4) "
   ]
  },
  {
   "cell_type": "code",
   "execution_count": 13,
   "id": "1aa8b83f",
   "metadata": {},
   "outputs": [
    {
     "data": {
      "text/html": [
       "<table class=\"dataframe\">\n",
       "<caption>A matrix: 3 × 4 of type dbl</caption>\n",
       "<thead>\n",
       "\t<tr><th></th><th scope=col>Estimate</th><th scope=col>Std. Error</th><th scope=col>t value</th><th scope=col>Pr(&gt;|t|)</th></tr>\n",
       "</thead>\n",
       "<tbody>\n",
       "\t<tr><th scope=row>T4TRUE</th><td>-0.02545369</td><td>0.03075427</td><td> -0.8276474</td><td>4.078844e-01</td></tr>\n",
       "\t<tr><th scope=row>female</th><td> 0.10542736</td><td>0.02115637</td><td>  4.9832432</td><td>6.327962e-07</td></tr>\n",
       "\t<tr><th scope=row>black</th><td>-0.37603073</td><td>0.03269637</td><td>-11.5006883</td><td>1.797663e-30</td></tr>\n",
       "</tbody>\n",
       "</table>\n"
      ],
      "text/latex": [
       "A matrix: 3 × 4 of type dbl\n",
       "\\begin{tabular}{r|llll}\n",
       "  & Estimate & Std. Error & t value & Pr(>\\textbar{}t\\textbar{})\\\\\n",
       "\\hline\n",
       "\tT4TRUE & -0.02545369 & 0.03075427 &  -0.8276474 & 4.078844e-01\\\\\n",
       "\tfemale &  0.10542736 & 0.02115637 &   4.9832432 & 6.327962e-07\\\\\n",
       "\tblack & -0.37603073 & 0.03269637 & -11.5006883 & 1.797663e-30\\\\\n",
       "\\end{tabular}\n"
      ],
      "text/markdown": [
       "\n",
       "A matrix: 3 × 4 of type dbl\n",
       "\n",
       "| <!--/--> | Estimate | Std. Error | t value | Pr(&gt;|t|) |\n",
       "|---|---|---|---|---|\n",
       "| T4TRUE | -0.02545369 | 0.03075427 |  -0.8276474 | 4.078844e-01 |\n",
       "| female |  0.10542736 | 0.02115637 |   4.9832432 | 6.327962e-07 |\n",
       "| black | -0.37603073 | 0.03269637 | -11.5006883 | 1.797663e-30 |\n",
       "\n"
      ],
      "text/plain": [
       "       Estimate    Std. Error t value     Pr(>|t|)    \n",
       "T4TRUE -0.02545369 0.03075427  -0.8276474 4.078844e-01\n",
       "female  0.10542736 0.02115637   4.9832432 6.327962e-07\n",
       "black  -0.37603073 0.03269637 -11.5006883 1.797663e-30"
      ]
     },
     "metadata": {},
     "output_type": "display_data"
    }
   ],
   "source": [
    "summary(lm(log(inuidur1)~T4+ (female+black+othrace+factor(dep)+q2+q3+q4+q5+q6+agelt35+agegt54+durable+lusd+husd), data = data))$coef[2:4,]"
   ]
  },
  {
   "cell_type": "markdown",
   "id": "8e926783",
   "metadata": {},
   "source": [
    "## Comparative models"
   ]
  },
  {
   "cell_type": "code",
   "execution_count": 14,
   "id": "1e90def7",
   "metadata": {
    "scrolled": true
   },
   "outputs": [
    {
     "data": {
      "text/html": [
       "<style>\n",
       ".list-inline {list-style: none; margin:0; padding: 0}\n",
       ".list-inline>li {display: inline-block}\n",
       ".list-inline>li:not(:last-child)::after {content: \"\\00b7\"; padding: 0 .5ex}\n",
       "</style>\n",
       "<ol class=list-inline><li>29217</li><li>23</li></ol>\n"
      ],
      "text/latex": [
       "\\begin{enumerate*}\n",
       "\\item 29217\n",
       "\\item 23\n",
       "\\end{enumerate*}\n"
      ],
      "text/markdown": [
       "1. 29217\n",
       "2. 23\n",
       "\n",
       "\n"
      ],
      "text/plain": [
       "[1] 29217    23"
      ]
     },
     "metadata": {},
     "output_type": "display_data"
    }
   ],
   "source": [
    "load(\"../../data/cps2012.Rdata\")\n",
    "dim(data)"
   ]
  },
  {
   "cell_type": "code",
   "execution_count": 15,
   "id": "b3b9a339",
   "metadata": {},
   "outputs": [],
   "source": [
    "set.seed(1234)\n",
    "training <- sample(nrow(data), nrow(data)*(3/4), replace=FALSE)\n",
    "\n",
    "data_train <- data[training,]\n",
    "data_test <- data[-training,]"
   ]
  },
  {
   "cell_type": "code",
   "execution_count": 16,
   "id": "1cb282a6",
   "metadata": {},
   "outputs": [],
   "source": [
    "X_basic <-  \"female + female : (widowed + divorced + separated + nevermarried +\n",
    "hsd08 + hsd911 + hsg + cg + ad + mw + so + we + exp1 + exp2 + exp3)\"\n",
    "\n",
    "X_flex <- \"female + female : (widowed + divorced + separated + nevermarried +\n",
    "hsd08 + hsd911 + hsg + cg + ad + mw + so + we + exp1 + exp2 + exp3) + (widowed + divorced + separated + nevermarried + hsd08 + hsd911 + hsg + cg + ad + mw + so +we + exp1 + exp2 + exp3) ^ 2\"\n",
    "\n",
    "formula_basic <- as.formula(paste(\"lnw\", \"~\", X_basic))\n",
    "formula_flex <- as.formula(paste(\"lnw\", \"~\", X_flex))\n",
    "\n",
    "model_X_basic_train <- model.matrix(formula_basic,data_train)\n",
    "model_X_basic_test <- model.matrix(formula_basic,data_test)\n",
    "p_basic <- dim(model_X_basic_train)[2]\n",
    "\n",
    "model_X_flex_train <- model.matrix(formula_flex,data_train)\n",
    "model_X_flex_test <- model.matrix(formula_flex,data_test)\n",
    "p_flex <- dim(model_X_flex_train)[2]"
   ]
  },
  {
   "cell_type": "code",
   "execution_count": 17,
   "id": "9c4e0283",
   "metadata": {},
   "outputs": [],
   "source": [
    "Y_train <- data_train$lnw\n",
    "Y_test <- data_test$lnw"
   ]
  },
  {
   "cell_type": "markdown",
   "id": "c1c830b9",
   "metadata": {},
   "source": [
    "<span style=\"color:blue\"><b>Lineal Models<b></span>"
   ]
  },
  {
   "cell_type": "markdown",
   "id": "c07999e6",
   "metadata": {},
   "source": [
    "### OLS"
   ]
  },
  {
   "cell_type": "code",
   "execution_count": 18,
   "id": "f3c4b0ec",
   "metadata": {},
   "outputs": [
    {
     "data": {
      "text/plain": [
       "\n",
       "Call:\n",
       "lm(formula = formula_basic, data = data_train)\n",
       "\n",
       "Coefficients:\n",
       "        (Intercept)               female       female:widowed  \n",
       "            2.91033             -0.71193             -0.10023  \n",
       "    female:divorced     female:separated  female:nevermarried  \n",
       "           -0.01400             -0.08382             -0.02270  \n",
       "       female:hsd08        female:hsd911           female:hsg  \n",
       "           -0.74701             -0.51944             -0.17263  \n",
       "          female:cg            female:ad            female:mw  \n",
       "            0.36295              0.60386             -0.10492  \n",
       "          female:so            female:we          female:exp1  \n",
       "           -0.05738             -0.01726              0.04753  \n",
       "        female:exp2          female:exp3  \n",
       "           -0.20025              0.02943  \n"
      ]
     },
     "metadata": {},
     "output_type": "display_data"
    },
    {
     "name": "stdout",
     "output_type": "stream",
     "text": [
      "The R^2 using the basic model is equal to 0.1102755"
     ]
    }
   ],
   "source": [
    "# ols (basic model)\n",
    "fit.lm.basic <- lm(formula_basic, data_train)\n",
    "fit.lm.basic\n",
    "\n",
    "# MSE OLS (basic model)    \n",
    "yhat.lm.basic <- predict(fit.lm.basic, newdata=data_test)\n",
    "MSE.lm.basic <- summary(lm((Y_test-yhat.lm.basic)^2~1))$coef[1:2]\n",
    "\n",
    "R2.lm.basic <- 1-MSE.lm.basic[1]/var(Y_test)\n",
    "cat(\"The R^2 using the basic model is equal to\",R2.lm.basic) # MSE OLS (basic model) \n",
    "#cat(\"The mean squared error (MSE) using the basic model is equal to\" , mean((Y_test-yhat.lm.basic)^2)) "
   ]
  },
  {
   "cell_type": "code",
   "execution_count": 19,
   "id": "b56b326d",
   "metadata": {},
   "outputs": [
    {
     "name": "stdout",
     "output_type": "stream",
     "text": [
      "The R^2 using the flexible model is equal to 0.2287174"
     ]
    }
   ],
   "source": [
    "# ols (flexible model)\n",
    "fit.lm.flex <- lm(formula_flex, data_train) \n",
    "\n",
    "# Compute the Out-Of-Sample Performance\n",
    "options(warn=-1)\n",
    "yhat.lm.flex <- predict(fit.lm.flex, newdata=data_test)\n",
    "MSE.lm.flex <- summary(lm((Y_test-yhat.lm.flex)^2~1))$coef[1:2]\n",
    "\n",
    "R2.lm.flex <- 1-MSE.lm.flex[1]/var(Y_test)\n",
    "cat(\"The R^2 using the flexible model is equal to\",R2.lm.flex) # MSE OLS (flexible model) "
   ]
  },
  {
   "cell_type": "markdown",
   "id": "2444c4d3",
   "metadata": {},
   "source": [
    "### Lasso HDM"
   ]
  },
  {
   "cell_type": "code",
   "execution_count": 20,
   "id": "4e7b4ca1",
   "metadata": {},
   "outputs": [
    {
     "name": "stdout",
     "output_type": "stream",
     "text": [
      "The R^2 using the basic model is equal to 0.1062557 for lasso and 0.1042477 for post-lasso"
     ]
    }
   ],
   "source": [
    "# Lasso (basic model)\n",
    "library(hdm) \n",
    "fit.rlasso  <- rlasso(formula_basic, data_train, post=FALSE)\n",
    "fit.rlasso.post <- rlasso(formula_basic, data_train, post=TRUE)\n",
    "\n",
    "yhat.rlasso   <- predict(fit.rlasso, newdata=data_test)\n",
    "yhat.rlasso.post   <- predict(fit.rlasso.post, newdata=data_test)\n",
    "\n",
    "MSE.lasso <- summary(lm((Y_test-yhat.rlasso)^2~1))$coef[1:2]\n",
    "MSE.lasso.post <- summary(lm((Y_test-yhat.rlasso.post)^2~1))$coef[1:2]\n",
    "\n",
    "R2.lasso <- 1-MSE.lasso[1]/var(Y_test)\n",
    "R2.lasso.post <- 1-MSE.lasso.post[1]/var(Y_test)\n",
    "\n",
    " # R^2 lasso/post-lasso (basic model) \n",
    "cat(\"The R^2 using the basic model is equal to\",R2.lasso,\"for lasso and\",R2.lasso.post,\"for post-lasso\")"
   ]
  },
  {
   "cell_type": "code",
   "execution_count": 21,
   "id": "57ad86b4",
   "metadata": {},
   "outputs": [
    {
     "name": "stdout",
     "output_type": "stream",
     "text": [
      "The R^2 using the flexible model is equal to 0.2271759 for lasso and 0.22455 for post-lasso"
     ]
    }
   ],
   "source": [
    "# Lasso (flexible model)\n",
    "fit.rlasso.flex  <- rlasso(formula_flex, data_train, post=FALSE)\n",
    "fit.rlasso.post.flex <- rlasso(formula_flex, data_train, post=TRUE)\n",
    "yhat.rlasso.flex   <- predict(fit.rlasso.flex, newdata=data_test)\n",
    "yhat.rlasso.post.flex   <- predict(fit.rlasso.post.flex, newdata=data_test)\n",
    "\n",
    "MSE.lasso.flex <- summary(lm((Y_test-yhat.rlasso.flex)^2~1))$coef[1:2]\n",
    "MSE.lasso.post.flex <- summary(lm((Y_test-yhat.rlasso.post.flex)^2~1))$coef[1:2]\n",
    "\n",
    "R2.lasso.flex <- 1-MSE.lasso.flex[1]/var(Y_test)\n",
    "R2.lasso.post.flex <- 1-MSE.lasso.post.flex[1]/var(Y_test)\n",
    "\n",
    "# R^2 lasso/post-lasso (flexible model) \n",
    "cat(\"The R^2 using the flexible model is equal to\",R2.lasso.flex,\"for lasso and\",R2.lasso.post.flex,\"for post-lasso\") "
   ]
  },
  {
   "cell_type": "markdown",
   "id": "46725f80",
   "metadata": {},
   "source": [
    "###  CV"
   ]
  },
  {
   "cell_type": "code",
   "execution_count": 22,
   "id": "9afa9c16",
   "metadata": {},
   "outputs": [
    {
     "name": "stderr",
     "output_type": "stream",
     "text": [
      "Loading required package: Matrix\n",
      "\n",
      "Loaded glmnet 4.1-4\n",
      "\n"
     ]
    },
    {
     "name": "stdout",
     "output_type": "stream",
     "text": [
      "R^2 using cross-validation for lasso, ridge and elastic net in the basic model: 0.08193926 0.09136083 0.08870976"
     ]
    }
   ],
   "source": [
    "# Lasso- CV (basic model)\n",
    "library(glmnet)\n",
    "\n",
    "#Lasso - CV\n",
    "fit.lasso.cv   <- cv.glmnet(model_X_basic_train, Y_train, family=\"gaussian\", alpha=1)\n",
    "yhat.lasso.cv    <- predict(fit.lasso.cv, newx = model_X_basic_test)\n",
    "MSE.lasso.cv <- summary(lm((Y_test-yhat.lasso.cv)^2~1))$coef[1:2]\n",
    "R2.lasso.cv <- 1-MSE.lasso.cv[1]/var(Y_test)\n",
    "\n",
    "# Ridge lasso - CV\n",
    "fit.ridge   <- cv.glmnet(model_X_basic_train, Y_train, family=\"gaussian\", alpha=0)\n",
    "yhat.ridge   <- predict(fit.ridge, newx = model_X_basic_test)\n",
    "MSE.ridge <- summary(lm((Y_test-yhat.ridge)^2~1))$coef[1:2]\n",
    "R2.ridge <- 1-MSE.ridge[1]/var(Y_test)\n",
    "\n",
    "# Elastic Net - CV\n",
    "fit.elnet   <- cv.glmnet(model_X_basic_train, Y_train, family=\"gaussian\", alpha=.5)\n",
    "yhat.elnet   <- predict(fit.elnet, newx = model_X_basic_test)\n",
    "MSE.elnet <- summary(lm((Y_test-yhat.elnet)^2~1))$coef[1:2]\n",
    "R2.elnet <- 1-MSE.elnet[1]/var(Y_test)\n",
    "\n",
    "# R^2 using cross-validation (basic model) \n",
    "cat(\"R^2 using cross-validation for lasso, ridge and elastic net in the basic model:\",R2.lasso.cv,R2.ridge,R2.elnet)"
   ]
  },
  {
   "cell_type": "code",
   "execution_count": 23,
   "id": "5169e13b",
   "metadata": {},
   "outputs": [
    {
     "name": "stdout",
     "output_type": "stream",
     "text": [
      "R^2 using cross-validation for lasso, ridge and elastic net in the flexible model: 0.2134812 0.2106494 0.2095135"
     ]
    }
   ],
   "source": [
    "# Lasso - CV (flexible model)\n",
    "\n",
    "#Lasso - CV\n",
    "fit.lasso.cv.flex   <- cv.glmnet(model_X_flex_train, Y_train, family=\"gaussian\", alpha=1)\n",
    "yhat.lasso.cv.flex    <- predict(fit.lasso.cv.flex , newx = model_X_flex_test)\n",
    "MSE.lasso.cv.flex  <- summary(lm((Y_test-yhat.lasso.cv.flex )^2~1))$coef[1:2]\n",
    "R2.lasso.cv.flex  <- 1-MSE.lasso.cv.flex [1]/var(Y_test)\n",
    "\n",
    "#Ridge Lasso - CV\n",
    "fit.ridge.flex   <- cv.glmnet(model_X_flex_train, Y_train, family=\"gaussian\", alpha=0)\n",
    "yhat.ridge.flex    <- predict(fit.ridge.flex , newx = model_X_flex_test)\n",
    "MSE.ridge.flex  <- summary(lm((Y_test-yhat.ridge.flex )^2~1))$coef[1:2]\n",
    "R2.ridge.flex  <- 1-MSE.ridge.flex [1]/var(Y_test)\n",
    "\n",
    "# Elastic Net - CV\n",
    "fit.elnet.flex   <- cv.glmnet(model_X_flex_train, Y_train, family=\"gaussian\", alpha=.5)\n",
    "yhat.elnet.flex    <- predict(fit.elnet.flex , newx = model_X_flex_test)\n",
    "MSE.elnet.flex  <- summary(lm((Y_test-yhat.elnet.flex )^2~1))$coef[1:2]\n",
    "R2.elnet.flex  <- 1-MSE.elnet.flex [1]/var(Y_test)\n",
    "\n",
    "# R^2 using cross-validation (flexible model) \n",
    "cat(\"R^2 using cross-validation for lasso, ridge and elastic net in the flexible model:\",R2.lasso.cv.flex,R2.ridge.flex,R2.elnet.flex)"
   ]
  },
  {
   "cell_type": "markdown",
   "id": "2519e35e",
   "metadata": {},
   "source": [
    "<span style=\"color:blue\"><b>Non-Lineal Models<b></span>"
   ]
  },
  {
   "cell_type": "markdown",
   "id": "45947a51",
   "metadata": {},
   "source": [
    "### Tree regression"
   ]
  },
  {
   "cell_type": "code",
   "execution_count": 24,
   "id": "6d2e87df",
   "metadata": {
    "scrolled": true
   },
   "outputs": [
    {
     "data": {
      "text/plain": [
       "lnw ~ female + female:(widowed + divorced + separated + nevermarried + \n",
       "    hsd08 + hsd911 + hsg + cg + ad + mw + so + we + exp1 + exp2 + \n",
       "    exp3)"
      ]
     },
     "metadata": {},
     "output_type": "display_data"
    }
   ],
   "source": [
    "formula_basic"
   ]
  },
  {
   "cell_type": "code",
   "execution_count": 25,
   "id": "a16d604a",
   "metadata": {},
   "outputs": [
    {
     "name": "stdout",
     "output_type": "stream",
     "text": [
      "cex 0.15   xlim c(0, 1)   ylim c(0, 1)\n"
     ]
    },
    {
     "data": {
      "image/png": "[encoded data removed]",
      "text/plain": [
       "plot without title"
      ]
     },
     "metadata": {
      "image/png": {
       "height": 420,
       "width": 420
      }
     },
     "output_type": "display_data"
    }
   ],
   "source": [
    "# tree\n",
    "fit.trees <- rpart(lnw ~ female + widowed + divorced + separated + nevermarried +\n",
    "hsd08 + hsd911 + hsg + cg + ad + mw + so + we + exp1 + exp2 + exp3, data_train, cp = 0)\n",
    "prp(fit.trees, leaf.round=1, space=2, yspace=2, split.space=2, shadow.col = \"gray\", trace = 1) # plotting the tree"
   ]
  },
  {
   "cell_type": "code",
   "execution_count": 26,
   "id": "e488efc9",
   "metadata": {},
   "outputs": [
    {
     "name": "stdout",
     "output_type": "stream",
     "text": [
      "R^2 of the tree regression: 0.1670537"
     ]
    }
   ],
   "source": [
    "yhat.pt <- predict(fit.trees,newdata=data_test)\n",
    "\n",
    "MSE.nr <- summary(lm((Y_test-yhat.pt)^2~1))$coef[1:2]\n",
    "R2.nr  <- 1-MSE.nr[1]/var(Y_test)\n",
    "\n",
    "# R^2 of the pruned tree\n",
    "cat(\"R^2 of the tree regression:\",R2.nr)"
   ]
  },
  {
   "cell_type": "markdown",
   "id": "c8b7e3ce",
   "metadata": {},
   "source": [
    "### Pruned tree regression"
   ]
  },
  {
   "cell_type": "code",
   "execution_count": 27,
   "id": "93fc9f4f",
   "metadata": {},
   "outputs": [
    {
     "name": "stdout",
     "output_type": "stream",
     "text": [
      "cex 0.538   xlim c(0, 1)   ylim c(0, 1)\n"
     ]
    },
    {
     "data": {
      "image/png": "[encoded data removed]",
      "text/plain": [
       "plot without title"
      ]
     },
     "metadata": {
      "image/png": {
       "height": 420,
       "width": 420
      }
     },
     "output_type": "display_data"
    }
   ],
   "source": [
    "# Add penalization to prune tree\n",
    "fit.trees <- rpart(lnw ~ female + widowed + divorced + separated + nevermarried +\n",
    "hsd08 + hsd911 + hsg + cg + ad + mw + so + we + exp1 + exp2 + exp3, data_train, cp = 0.001)\n",
    "prp(fit.trees, leaf.round=1, space=2, yspace=2, split.space=2, shadow.col = \"gray\", trace = 1) # plotting the tree"
   ]
  },
  {
   "cell_type": "code",
   "execution_count": 28,
   "id": "cb3ad367",
   "metadata": {},
   "outputs": [
    {
     "data": {
      "text/html": [
       "0.001"
      ],
      "text/latex": [
       "0.001"
      ],
      "text/markdown": [
       "0.001"
      ],
      "text/plain": [
       "[1] 0.001"
      ]
     },
     "metadata": {},
     "output_type": "display_data"
    }
   ],
   "source": [
    "bestcp<- fit.trees$cptable[which.min(fit.trees$cptable[,\"xerror\"]),\"CP\"]\n",
    "bestcp"
   ]
  },
  {
   "cell_type": "code",
   "execution_count": 29,
   "id": "48249ac8",
   "metadata": {},
   "outputs": [
    {
     "name": "stdout",
     "output_type": "stream",
     "text": [
      "R^2 of the pruned tree: 0.2135014"
     ]
    }
   ],
   "source": [
    "fit.prunedtree <- prune(fit.trees, cp=bestcp)\n",
    "yhat.pt <- predict(fit.prunedtree,newdata=data_test)\n",
    "\n",
    "MSE.pt <- summary(lm((Y_test-yhat.pt)^2~1))$coef[1:2]\n",
    "R2.pt  <- 1-MSE.pt[1]/var(Y_test)\n",
    "\n",
    "# R^2 of the pruned tree\n",
    "cat(\"R^2 of the pruned tree:\",R2.pt)"
   ]
  },
  {
   "cell_type": "markdown",
   "id": "716f1e49",
   "metadata": {},
   "source": [
    "# Results"
   ]
  },
  {
   "cell_type": "code",
   "execution_count": 32,
   "id": "3abd79f9",
   "metadata": {
    "scrolled": false
   },
   "outputs": [
    {
     "data": {
      "text/html": [
       "<table class=\"dataframe\">\n",
       "<caption>A xtable: 14 × 3</caption>\n",
       "<thead>\n",
       "\t<tr><th></th><th scope=col>MSE</th><th scope=col>S.E. for MSE</th><th scope=col>R-squared</th></tr>\n",
       "\t<tr><th></th><th scope=col>&lt;dbl&gt;</th><th scope=col>&lt;dbl&gt;</th><th scope=col>&lt;dbl&gt;</th></tr>\n",
       "</thead>\n",
       "<tbody>\n",
       "\t<tr><th scope=row>Least Squares (basic)</th><td>0.3949444</td><td>0.02139802</td><td>0.11027552</td></tr>\n",
       "\t<tr><th scope=row>Least Squares (flexible)</th><td>0.3423686</td><td>0.02190621</td><td>0.22871739</td></tr>\n",
       "\t<tr><th scope=row>Lasso</th><td>0.3967288</td><td>0.02138493</td><td>0.10625575</td></tr>\n",
       "\t<tr><th scope=row>Post-Lasso</th><td>0.3976201</td><td>0.02136825</td><td>0.10424775</td></tr>\n",
       "\t<tr><th scope=row>Lasso (flexible)</th><td>0.3430529</td><td>0.02178983</td><td>0.22717587</td></tr>\n",
       "\t<tr><th scope=row>Post-Lasso (flexible)</th><td>0.3442185</td><td>0.02183370</td><td>0.22455004</td></tr>\n",
       "\t<tr><th scope=row>Cross-Validated lasso</th><td>0.4075228</td><td>0.02155850</td><td>0.08193926</td></tr>\n",
       "\t<tr><th scope=row>Cross-Validated ridge</th><td>0.4033406</td><td>0.02146692</td><td>0.09136083</td></tr>\n",
       "\t<tr><th scope=row>Cross-Validated elnet</th><td>0.4045174</td><td>0.02152162</td><td>0.08870976</td></tr>\n",
       "\t<tr><th scope=row>Cross-Validated lasso (flexible)</th><td>0.3491319</td><td>0.02172894</td><td>0.21348119</td></tr>\n",
       "\t<tr><th scope=row>Cross-Validated ridge (flexible)</th><td>0.3503889</td><td>0.02171393</td><td>0.21064943</td></tr>\n",
       "\t<tr><th scope=row>Cross-Validated elnet (flexible)</th><td>0.3508932</td><td>0.02171089</td><td>0.20951349</td></tr>\n",
       "\t<tr><th scope=row>Regression Tree</th><td>0.3697409</td><td>0.02183019</td><td>0.16705370</td></tr>\n",
       "\t<tr><th scope=row>Pruned Tree</th><td>0.3491230</td><td>0.02221324</td><td>0.21350136</td></tr>\n",
       "</tbody>\n",
       "</table>\n"
      ],
      "text/latex": [
       "A xtable: 14 × 3\n",
       "\\begin{tabular}{r|lll}\n",
       "  & MSE & S.E. for MSE & R-squared\\\\\n",
       "  & <dbl> & <dbl> & <dbl>\\\\\n",
       "\\hline\n",
       "\tLeast Squares (basic) & 0.3949444 & 0.02139802 & 0.11027552\\\\\n",
       "\tLeast Squares (flexible) & 0.3423686 & 0.02190621 & 0.22871739\\\\\n",
       "\tLasso & 0.3967288 & 0.02138493 & 0.10625575\\\\\n",
       "\tPost-Lasso & 0.3976201 & 0.02136825 & 0.10424775\\\\\n",
       "\tLasso (flexible) & 0.3430529 & 0.02178983 & 0.22717587\\\\\n",
       "\tPost-Lasso (flexible) & 0.3442185 & 0.02183370 & 0.22455004\\\\\n",
       "\tCross-Validated lasso & 0.4075228 & 0.02155850 & 0.08193926\\\\\n",
       "\tCross-Validated ridge & 0.4033406 & 0.02146692 & 0.09136083\\\\\n",
       "\tCross-Validated elnet & 0.4045174 & 0.02152162 & 0.08870976\\\\\n",
       "\tCross-Validated lasso (flexible) & 0.3491319 & 0.02172894 & 0.21348119\\\\\n",
       "\tCross-Validated ridge (flexible) & 0.3503889 & 0.02171393 & 0.21064943\\\\\n",
       "\tCross-Validated elnet (flexible) & 0.3508932 & 0.02171089 & 0.20951349\\\\\n",
       "\tRegression Tree & 0.3697409 & 0.02183019 & 0.16705370\\\\\n",
       "\tPruned Tree & 0.3491230 & 0.02221324 & 0.21350136\\\\\n",
       "\\end{tabular}\n"
      ],
      "text/markdown": [
       "\n",
       "A xtable: 14 × 3\n",
       "\n",
       "| <!--/--> | MSE &lt;dbl&gt; | S.E. for MSE &lt;dbl&gt; | R-squared &lt;dbl&gt; |\n",
       "|---|---|---|---|\n",
       "| Least Squares (basic) | 0.3949444 | 0.02139802 | 0.11027552 |\n",
       "| Least Squares (flexible) | 0.3423686 | 0.02190621 | 0.22871739 |\n",
       "| Lasso | 0.3967288 | 0.02138493 | 0.10625575 |\n",
       "| Post-Lasso | 0.3976201 | 0.02136825 | 0.10424775 |\n",
       "| Lasso (flexible) | 0.3430529 | 0.02178983 | 0.22717587 |\n",
       "| Post-Lasso (flexible) | 0.3442185 | 0.02183370 | 0.22455004 |\n",
       "| Cross-Validated lasso | 0.4075228 | 0.02155850 | 0.08193926 |\n",
       "| Cross-Validated ridge | 0.4033406 | 0.02146692 | 0.09136083 |\n",
       "| Cross-Validated elnet | 0.4045174 | 0.02152162 | 0.08870976 |\n",
       "| Cross-Validated lasso (flexible) | 0.3491319 | 0.02172894 | 0.21348119 |\n",
       "| Cross-Validated ridge (flexible) | 0.3503889 | 0.02171393 | 0.21064943 |\n",
       "| Cross-Validated elnet (flexible) | 0.3508932 | 0.02171089 | 0.20951349 |\n",
       "| Regression Tree | 0.3697409 | 0.02183019 | 0.16705370 |\n",
       "| Pruned Tree | 0.3491230 | 0.02221324 | 0.21350136 |\n",
       "\n"
      ],
      "text/plain": [
       "                                 MSE       S.E. for MSE R-squared \n",
       "Least Squares (basic)            0.3949444 0.02139802   0.11027552\n",
       "Least Squares (flexible)         0.3423686 0.02190621   0.22871739\n",
       "Lasso                            0.3967288 0.02138493   0.10625575\n",
       "Post-Lasso                       0.3976201 0.02136825   0.10424775\n",
       "Lasso (flexible)                 0.3430529 0.02178983   0.22717587\n",
       "Post-Lasso (flexible)            0.3442185 0.02183370   0.22455004\n",
       "Cross-Validated lasso            0.4075228 0.02155850   0.08193926\n",
       "Cross-Validated ridge            0.4033406 0.02146692   0.09136083\n",
       "Cross-Validated elnet            0.4045174 0.02152162   0.08870976\n",
       "Cross-Validated lasso (flexible) 0.3491319 0.02172894   0.21348119\n",
       "Cross-Validated ridge (flexible) 0.3503889 0.02171393   0.21064943\n",
       "Cross-Validated elnet (flexible) 0.3508932 0.02171089   0.20951349\n",
       "Regression Tree                  0.3697409 0.02183019   0.16705370\n",
       "Pruned Tree                      0.3491230 0.02221324   0.21350136"
      ]
     },
     "metadata": {},
     "output_type": "display_data"
    }
   ],
   "source": [
    "library(xtable)\n",
    "table<- matrix(0, 14, 3)\n",
    "table[1,1:2]   <- MSE.lm.basic\n",
    "table[2,1:2]   <- MSE.lm.flex\n",
    "table[3,1:2]   <- MSE.lasso\n",
    "table[4,1:2]   <- MSE.lasso.post\n",
    "table[5,1:2]   <- MSE.lasso.flex\n",
    "table[6,1:2]   <- MSE.lasso.post.flex\n",
    "table[7,1:2]   <- MSE.lasso.cv\n",
    "table[8,1:2]   <- MSE.ridge\n",
    "table[9,1:2]   <- MSE.elnet\n",
    "table[10,1:2]   <- MSE.lasso.cv.flex\n",
    "table[11,1:2]  <- MSE.ridge.flex\n",
    "table[12,1:2]  <- MSE.elnet.flex\n",
    "table[13,1:2]  <- MSE.nr\n",
    "table[14,1:2]  <- MSE.pt\n",
    "\n",
    "\n",
    "\n",
    "\n",
    "table[1,3]   <- R2.lm.basic\n",
    "table[2,3]   <- R2.lm.flex\n",
    "table[3,3]   <- R2.lasso\n",
    "table[4,3]   <- R2.lasso.post\n",
    "table[5,3]   <- R2.lasso.flex\n",
    "table[6,3]   <- R2.lasso.post.flex\n",
    "table[7,3]   <- R2.lasso.cv\n",
    "table[8,3]   <- R2.ridge\n",
    "table[9,3]   <- R2.elnet\n",
    "table[10,3]   <- R2.lasso.cv.flex\n",
    "table[11,3]  <- R2.ridge.flex\n",
    "table[12,3]  <- R2.elnet.flex\n",
    "table[13,3]  <- R2.nr\n",
    "table[14,3]  <- R2.pt\n",
    "\n",
    "\n",
    "colnames(table)<- c(\"MSE\", \"S.E. for MSE\", \"R-squared\")\n",
    "rownames(table)<- c(\"Least Squares (basic)\",\"Least Squares (flexible)\", \"Lasso\", \"Post-Lasso\",\"Lasso (flexible)\",\"Post-Lasso (flexible)\", \n",
    "                    \"Cross-Validated lasso\", \"Cross-Validated ridge\",\"Cross-Validated elnet\",\"Cross-Validated lasso (flexible)\",\"Cross-Validated ridge (flexible)\",\"Cross-Validated elnet (flexible)\",  \n",
    "                    \"Regression Tree\", \"Pruned Tree\")\n",
    "tab <- xtable(table, digits =3)\n",
    "#print(tab,type=\"latex\") # set type=\"latex\" for printing table in LaTeX\n",
    "tab"
   ]
  },
  {
   "cell_type": "markdown",
   "id": "3c205f7a",
   "metadata": {},
   "source": [
    "# Tree regression"
   ]
  },
  {
   "cell_type": "markdown",
   "id": "00a90a81",
   "metadata": {},
   "source": [
    "In some cases, it will impossible to use a linear regression to predict well. So, tree regression would be a good option. In this case, it is neccesary to  divide the predictor space, which is the set of values of $X1, X2,..., Xp$ in non-overlapping regions $R1, R2, ..., RJ$, where we can analyze which variables are more related to the output for each one. Apart from that, we divide the sample in two groups: training and test. To construct the tree, we use the training data and the goal is to minimize the RSS given by:\n",
    "\n",
    "\\begin{equation}\n",
    "\\sum_{j=1}^{J}\\sum_{i\\in R_j}(y_i - \\hat{y}R_j)^2 \n",
    "\\end{equation}\n",
    "\n",
    "The prediction is simply the mean of the values for training observations in region $Rj$."
   ]
  }
 ],
 "metadata": {
  "kernelspec": {
   "display_name": "R",
   "language": "R",
   "name": "ir"
  },
  "language_info": {
   "codemirror_mode": "r",
   "file_extension": ".r",
   "mimetype": "text/x-r-source",
   "name": "R",
   "pygments_lexer": "r",
   "version": "4.0.3"
  }
 },
 "nbformat": 4,
 "nbformat_minor": 5
}
