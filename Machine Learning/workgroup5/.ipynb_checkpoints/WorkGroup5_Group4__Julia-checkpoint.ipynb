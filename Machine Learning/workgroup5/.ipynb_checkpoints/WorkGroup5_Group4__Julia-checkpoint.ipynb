{
 "cells": [
  {
   "cell_type": "markdown",
   "id": "13081946",
   "metadata": {},
   "source": [
    "## Bootstraping "
   ]
  },
  {
   "cell_type": "code",
   "execution_count": 49,
   "id": "d0ed67e3",
   "metadata": {},
   "outputs": [],
   "source": [
    "using RData, LinearAlgebra, GLM, DataFrames, Statistics, Random, Distributions, \n",
    "DataStructures, NamedArrays, PrettyTables, StatsModels, Combinatorics, CSV"
   ]
  },
  {
   "cell_type": "code",
   "execution_count": 50,
   "id": "240cc178",
   "metadata": {},
   "outputs": [],
   "source": [
    "using GLM, StatsModels\n",
    "using DataTables\n",
    "using DelimitedFiles, DataFrames, Lasso\n",
    "using FilePaths\n",
    "using StatsModels, Combinatorics\n",
    "using CategoricalArrays\n",
    "using StatsBase, Statistics\n",
    "using TypedTables\n",
    "using MacroTools\n",
    "using NamedArrays\n",
    "using PrettyTables # Dataframe or Datatable to latex\n",
    "using TexTables"
   ]
  },
  {
   "cell_type": "code",
   "execution_count": 51,
   "id": "9e0d775a",
   "metadata": {},
   "outputs": [
    {
     "data": {
      "text/html": [
       "<table class=\"data-frame\"><thead><tr><th></th><th>variable</th><th>mean</th><th>min</th><th>median</th><th>max</th><th>nunique</th><th>nmissing</th><th>eltype</th></tr><tr><th></th><th>Symbol</th><th>Float64</th><th>Float64</th><th>Float64</th><th>Float64</th><th>Nothing</th><th>Nothing</th><th>DataType</th></tr></thead><tbody><p>23 rows × 8 columns</p><tr><th>1</th><td>abdt</td><td>10693.6</td><td>10404.0</td><td>10691.0</td><td>10880.0</td><td></td><td></td><td>Float64</td></tr><tr><th>2</th><td>tg</td><td>2.56889</td><td>0.0</td><td>2.0</td><td>6.0</td><td></td><td></td><td>Float64</td></tr><tr><th>3</th><td>inuidur1</td><td>12.9148</td><td>1.0</td><td>10.0</td><td>52.0</td><td></td><td></td><td>Float64</td></tr><tr><th>4</th><td>inuidur2</td><td>12.1938</td><td>0.0</td><td>9.0</td><td>52.0</td><td></td><td></td><td>Float64</td></tr><tr><th>5</th><td>female</td><td>0.402142</td><td>0.0</td><td>0.0</td><td>1.0</td><td></td><td></td><td>Float64</td></tr><tr><th>6</th><td>black</td><td>0.116653</td><td>0.0</td><td>0.0</td><td>1.0</td><td></td><td></td><td>Float64</td></tr><tr><th>7</th><td>hispanic</td><td>0.0363689</td><td>0.0</td><td>0.0</td><td>1.0</td><td></td><td></td><td>Float64</td></tr><tr><th>8</th><td>othrace</td><td>0.00575002</td><td>0.0</td><td>0.0</td><td>1.0</td><td></td><td></td><td>Float64</td></tr><tr><th>9</th><td>dep</td><td>0.444045</td><td>0.0</td><td>0.0</td><td>2.0</td><td></td><td></td><td>Float64</td></tr><tr><th>10</th><td>q1</td><td>0.0136563</td><td>0.0</td><td>0.0</td><td>1.0</td><td></td><td></td><td>Float64</td></tr><tr><th>11</th><td>q2</td><td>0.206498</td><td>0.0</td><td>0.0</td><td>1.0</td><td></td><td></td><td>Float64</td></tr><tr><th>12</th><td>q3</td><td>0.237691</td><td>0.0</td><td>0.0</td><td>1.0</td><td></td><td></td><td>Float64</td></tr><tr><th>13</th><td>q4</td><td>0.232229</td><td>0.0</td><td>0.0</td><td>1.0</td><td></td><td></td><td>Float64</td></tr><tr><th>14</th><td>q5</td><td>0.232948</td><td>0.0</td><td>0.0</td><td>1.0</td><td></td><td></td><td>Float64</td></tr><tr><th>15</th><td>q6</td><td>0.0769784</td><td>0.0</td><td>0.0</td><td>1.0</td><td></td><td></td><td>Float64</td></tr><tr><th>16</th><td>recall</td><td>0.108675</td><td>0.0</td><td>0.0</td><td>1.0</td><td></td><td></td><td>Float64</td></tr><tr><th>17</th><td>agelt35</td><td>0.543089</td><td>0.0</td><td>1.0</td><td>1.0</td><td></td><td></td><td>Float64</td></tr><tr><th>18</th><td>agegt54</td><td>0.106735</td><td>0.0</td><td>0.0</td><td>1.0</td><td></td><td></td><td>Float64</td></tr><tr><th>19</th><td>durable</td><td>0.148638</td><td>0.0</td><td>0.0</td><td>1.0</td><td></td><td></td><td>Float64</td></tr><tr><th>20</th><td>nondurable</td><td>0.10961</td><td>0.0</td><td>0.0</td><td>1.0</td><td></td><td></td><td>Float64</td></tr><tr><th>21</th><td>lusd</td><td>0.265435</td><td>0.0</td><td>0.0</td><td>1.0</td><td></td><td></td><td>Float64</td></tr><tr><th>22</th><td>husd</td><td>0.221807</td><td>0.0</td><td>0.0</td><td>1.0</td><td></td><td></td><td>Float64</td></tr><tr><th>23</th><td>muld</td><td>0.438008</td><td>0.0</td><td>0.0</td><td>1.0</td><td></td><td></td><td>Float64</td></tr></tbody></table>"
      ],
      "text/latex": [
       "\\begin{tabular}{r|cccccccc}\n",
       "\t& variable & mean & min & median & max & nunique & nmissing & eltype\\\\\n",
       "\t\\hline\n",
       "\t& Symbol & Float64 & Float64 & Float64 & Float64 & Nothing & Nothing & DataType\\\\\n",
       "\t\\hline\n",
       "\t1 & abdt & 10693.6 & 10404.0 & 10691.0 & 10880.0 &  &  & Float64 \\\\\n",
       "\t2 & tg & 2.56889 & 0.0 & 2.0 & 6.0 &  &  & Float64 \\\\\n",
       "\t3 & inuidur1 & 12.9148 & 1.0 & 10.0 & 52.0 &  &  & Float64 \\\\\n",
       "\t4 & inuidur2 & 12.1938 & 0.0 & 9.0 & 52.0 &  &  & Float64 \\\\\n",
       "\t5 & female & 0.402142 & 0.0 & 0.0 & 1.0 &  &  & Float64 \\\\\n",
       "\t6 & black & 0.116653 & 0.0 & 0.0 & 1.0 &  &  & Float64 \\\\\n",
       "\t7 & hispanic & 0.0363689 & 0.0 & 0.0 & 1.0 &  &  & Float64 \\\\\n",
       "\t8 & othrace & 0.00575002 & 0.0 & 0.0 & 1.0 &  &  & Float64 \\\\\n",
       "\t9 & dep & 0.444045 & 0.0 & 0.0 & 2.0 &  &  & Float64 \\\\\n",
       "\t10 & q1 & 0.0136563 & 0.0 & 0.0 & 1.0 &  &  & Float64 \\\\\n",
       "\t11 & q2 & 0.206498 & 0.0 & 0.0 & 1.0 &  &  & Float64 \\\\\n",
       "\t12 & q3 & 0.237691 & 0.0 & 0.0 & 1.0 &  &  & Float64 \\\\\n",
       "\t13 & q4 & 0.232229 & 0.0 & 0.0 & 1.0 &  &  & Float64 \\\\\n",
       "\t14 & q5 & 0.232948 & 0.0 & 0.0 & 1.0 &  &  & Float64 \\\\\n",
       "\t15 & q6 & 0.0769784 & 0.0 & 0.0 & 1.0 &  &  & Float64 \\\\\n",
       "\t16 & recall & 0.108675 & 0.0 & 0.0 & 1.0 &  &  & Float64 \\\\\n",
       "\t17 & agelt35 & 0.543089 & 0.0 & 1.0 & 1.0 &  &  & Float64 \\\\\n",
       "\t18 & agegt54 & 0.106735 & 0.0 & 0.0 & 1.0 &  &  & Float64 \\\\\n",
       "\t19 & durable & 0.148638 & 0.0 & 0.0 & 1.0 &  &  & Float64 \\\\\n",
       "\t20 & nondurable & 0.10961 & 0.0 & 0.0 & 1.0 &  &  & Float64 \\\\\n",
       "\t21 & lusd & 0.265435 & 0.0 & 0.0 & 1.0 &  &  & Float64 \\\\\n",
       "\t22 & husd & 0.221807 & 0.0 & 0.0 & 1.0 &  &  & Float64 \\\\\n",
       "\t23 & muld & 0.438008 & 0.0 & 0.0 & 1.0 &  &  & Float64 \\\\\n",
       "\\end{tabular}\n"
      ],
      "text/plain": [
       "23×8 DataFrame. Omitted printing of 2 columns\n",
       "│ Row │ variable   │ mean       │ min     │ median  │ max     │ nunique │\n",
       "│     │ \u001b[90mSymbol\u001b[39m     │ \u001b[90mFloat64\u001b[39m    │ \u001b[90mFloat64\u001b[39m │ \u001b[90mFloat64\u001b[39m │ \u001b[90mFloat64\u001b[39m │ \u001b[90mNothing\u001b[39m │\n",
       "├─────┼────────────┼────────────┼─────────┼─────────┼─────────┼─────────┤\n",
       "│ 1   │ abdt       │ 10693.6    │ 10404.0 │ 10691.0 │ 10880.0 │         │\n",
       "│ 2   │ tg         │ 2.56889    │ 0.0     │ 2.0     │ 6.0     │         │\n",
       "│ 3   │ inuidur1   │ 12.9148    │ 1.0     │ 10.0    │ 52.0    │         │\n",
       "│ 4   │ inuidur2   │ 12.1938    │ 0.0     │ 9.0     │ 52.0    │         │\n",
       "│ 5   │ female     │ 0.402142   │ 0.0     │ 0.0     │ 1.0     │         │\n",
       "│ 6   │ black      │ 0.116653   │ 0.0     │ 0.0     │ 1.0     │         │\n",
       "│ 7   │ hispanic   │ 0.0363689  │ 0.0     │ 0.0     │ 1.0     │         │\n",
       "│ 8   │ othrace    │ 0.00575002 │ 0.0     │ 0.0     │ 1.0     │         │\n",
       "│ 9   │ dep        │ 0.444045   │ 0.0     │ 0.0     │ 2.0     │         │\n",
       "│ 10  │ q1         │ 0.0136563  │ 0.0     │ 0.0     │ 1.0     │         │\n",
       "│ 11  │ q2         │ 0.206498   │ 0.0     │ 0.0     │ 1.0     │         │\n",
       "│ 12  │ q3         │ 0.237691   │ 0.0     │ 0.0     │ 1.0     │         │\n",
       "│ 13  │ q4         │ 0.232229   │ 0.0     │ 0.0     │ 1.0     │         │\n",
       "│ 14  │ q5         │ 0.232948   │ 0.0     │ 0.0     │ 1.0     │         │\n",
       "│ 15  │ q6         │ 0.0769784  │ 0.0     │ 0.0     │ 1.0     │         │\n",
       "│ 16  │ recall     │ 0.108675   │ 0.0     │ 0.0     │ 1.0     │         │\n",
       "│ 17  │ agelt35    │ 0.543089   │ 0.0     │ 1.0     │ 1.0     │         │\n",
       "│ 18  │ agegt54    │ 0.106735   │ 0.0     │ 0.0     │ 1.0     │         │\n",
       "│ 19  │ durable    │ 0.148638   │ 0.0     │ 0.0     │ 1.0     │         │\n",
       "│ 20  │ nondurable │ 0.10961    │ 0.0     │ 0.0     │ 1.0     │         │\n",
       "│ 21  │ lusd       │ 0.265435   │ 0.0     │ 0.0     │ 1.0     │         │\n",
       "│ 22  │ husd       │ 0.221807   │ 0.0     │ 0.0     │ 1.0     │         │\n",
       "│ 23  │ muld       │ 0.438008   │ 0.0     │ 0.0     │ 1.0     │         │"
      ]
     },
     "execution_count": 51,
     "metadata": {},
     "output_type": "execute_result"
    }
   ],
   "source": [
    "# Loading data\n",
    "\n",
    "penn, head = readdlm(\"data/penn_jae.dat\", header=true, Float64)\n",
    "penn\n",
    "df =DataFrame(penn, vec(head))\n",
    "describe(df)"
   ]
  },
  {
   "cell_type": "code",
   "execution_count": 52,
   "id": "ac8f61d8",
   "metadata": {},
   "outputs": [
    {
     "data": {
      "text/html": [
       "<table class=\"data-frame\"><thead><tr><th></th><th>abdt</th><th>tg</th><th>inuidur1</th><th>inuidur2</th><th>female</th><th>black</th><th>hispanic</th><th>othrace</th><th>dep</th></tr><tr><th></th><th>Float64</th><th>Float64</th><th>Float64</th><th>Float64</th><th>Float64</th><th>Float64</th><th>Float64</th><th>Float64</th><th>Float64</th></tr></thead><tbody><p>20 rows × 23 columns (omitted printing of 14 columns)</p><tr><th>1</th><td>10824.0</td><td>0.0</td><td>18.0</td><td>18.0</td><td>0.0</td><td>0.0</td><td>0.0</td><td>0.0</td><td>2.0</td></tr><tr><th>2</th><td>10824.0</td><td>0.0</td><td>1.0</td><td>1.0</td><td>0.0</td><td>0.0</td><td>0.0</td><td>0.0</td><td>0.0</td></tr><tr><th>3</th><td>10747.0</td><td>0.0</td><td>27.0</td><td>27.0</td><td>0.0</td><td>0.0</td><td>0.0</td><td>0.0</td><td>0.0</td></tr><tr><th>4</th><td>10607.0</td><td>4.0</td><td>9.0</td><td>9.0</td><td>0.0</td><td>0.0</td><td>0.0</td><td>0.0</td><td>0.0</td></tr><tr><th>5</th><td>10831.0</td><td>0.0</td><td>27.0</td><td>27.0</td><td>0.0</td><td>0.0</td><td>0.0</td><td>0.0</td><td>1.0</td></tr><tr><th>6</th><td>10845.0</td><td>0.0</td><td>27.0</td><td>27.0</td><td>1.0</td><td>0.0</td><td>0.0</td><td>0.0</td><td>0.0</td></tr><tr><th>7</th><td>10831.0</td><td>0.0</td><td>9.0</td><td>9.0</td><td>1.0</td><td>0.0</td><td>0.0</td><td>0.0</td><td>1.0</td></tr><tr><th>8</th><td>10859.0</td><td>0.0</td><td>27.0</td><td>27.0</td><td>1.0</td><td>0.0</td><td>0.0</td><td>0.0</td><td>1.0</td></tr><tr><th>9</th><td>10516.0</td><td>0.0</td><td>15.0</td><td>15.0</td><td>1.0</td><td>0.0</td><td>0.0</td><td>0.0</td><td>0.0</td></tr><tr><th>10</th><td>10663.0</td><td>0.0</td><td>28.0</td><td>11.0</td><td>1.0</td><td>0.0</td><td>0.0</td><td>0.0</td><td>0.0</td></tr><tr><th>11</th><td>10747.0</td><td>0.0</td><td>12.0</td><td>12.0</td><td>1.0</td><td>0.0</td><td>0.0</td><td>0.0</td><td>2.0</td></tr><tr><th>12</th><td>10551.0</td><td>4.0</td><td>22.0</td><td>22.0</td><td>1.0</td><td>0.0</td><td>1.0</td><td>0.0</td><td>2.0</td></tr><tr><th>13</th><td>10768.0</td><td>0.0</td><td>18.0</td><td>18.0</td><td>1.0</td><td>0.0</td><td>0.0</td><td>0.0</td><td>0.0</td></tr><tr><th>14</th><td>10537.0</td><td>0.0</td><td>1.0</td><td>1.0</td><td>1.0</td><td>0.0</td><td>0.0</td><td>0.0</td><td>2.0</td></tr><tr><th>15</th><td>10600.0</td><td>4.0</td><td>7.0</td><td>7.0</td><td>1.0</td><td>0.0</td><td>0.0</td><td>0.0</td><td>0.0</td></tr><tr><th>16</th><td>10866.0</td><td>0.0</td><td>18.0</td><td>18.0</td><td>0.0</td><td>0.0</td><td>0.0</td><td>0.0</td><td>0.0</td></tr><tr><th>17</th><td>10572.0</td><td>0.0</td><td>14.0</td><td>14.0</td><td>0.0</td><td>0.0</td><td>0.0</td><td>0.0</td><td>2.0</td></tr><tr><th>18</th><td>10663.0</td><td>0.0</td><td>5.0</td><td>5.0</td><td>0.0</td><td>0.0</td><td>0.0</td><td>0.0</td><td>0.0</td></tr><tr><th>19</th><td>10789.0</td><td>0.0</td><td>9.0</td><td>9.0</td><td>0.0</td><td>0.0</td><td>0.0</td><td>0.0</td><td>0.0</td></tr><tr><th>20</th><td>10768.0</td><td>0.0</td><td>3.0</td><td>3.0</td><td>0.0</td><td>1.0</td><td>0.0</td><td>0.0</td><td>0.0</td></tr></tbody></table>"
      ],
      "text/latex": [
       "\\begin{tabular}{r|cccccccccc}\n",
       "\t& abdt & tg & inuidur1 & inuidur2 & female & black & hispanic & othrace & dep & \\\\\n",
       "\t\\hline\n",
       "\t& Float64 & Float64 & Float64 & Float64 & Float64 & Float64 & Float64 & Float64 & Float64 & \\\\\n",
       "\t\\hline\n",
       "\t1 & 10824.0 & 0.0 & 18.0 & 18.0 & 0.0 & 0.0 & 0.0 & 0.0 & 2.0 & $\\dots$ \\\\\n",
       "\t2 & 10824.0 & 0.0 & 1.0 & 1.0 & 0.0 & 0.0 & 0.0 & 0.0 & 0.0 & $\\dots$ \\\\\n",
       "\t3 & 10747.0 & 0.0 & 27.0 & 27.0 & 0.0 & 0.0 & 0.0 & 0.0 & 0.0 & $\\dots$ \\\\\n",
       "\t4 & 10607.0 & 4.0 & 9.0 & 9.0 & 0.0 & 0.0 & 0.0 & 0.0 & 0.0 & $\\dots$ \\\\\n",
       "\t5 & 10831.0 & 0.0 & 27.0 & 27.0 & 0.0 & 0.0 & 0.0 & 0.0 & 1.0 & $\\dots$ \\\\\n",
       "\t6 & 10845.0 & 0.0 & 27.0 & 27.0 & 1.0 & 0.0 & 0.0 & 0.0 & 0.0 & $\\dots$ \\\\\n",
       "\t7 & 10831.0 & 0.0 & 9.0 & 9.0 & 1.0 & 0.0 & 0.0 & 0.0 & 1.0 & $\\dots$ \\\\\n",
       "\t8 & 10859.0 & 0.0 & 27.0 & 27.0 & 1.0 & 0.0 & 0.0 & 0.0 & 1.0 & $\\dots$ \\\\\n",
       "\t9 & 10516.0 & 0.0 & 15.0 & 15.0 & 1.0 & 0.0 & 0.0 & 0.0 & 0.0 & $\\dots$ \\\\\n",
       "\t10 & 10663.0 & 0.0 & 28.0 & 11.0 & 1.0 & 0.0 & 0.0 & 0.0 & 0.0 & $\\dots$ \\\\\n",
       "\t11 & 10747.0 & 0.0 & 12.0 & 12.0 & 1.0 & 0.0 & 0.0 & 0.0 & 2.0 & $\\dots$ \\\\\n",
       "\t12 & 10551.0 & 4.0 & 22.0 & 22.0 & 1.0 & 0.0 & 1.0 & 0.0 & 2.0 & $\\dots$ \\\\\n",
       "\t13 & 10768.0 & 0.0 & 18.0 & 18.0 & 1.0 & 0.0 & 0.0 & 0.0 & 0.0 & $\\dots$ \\\\\n",
       "\t14 & 10537.0 & 0.0 & 1.0 & 1.0 & 1.0 & 0.0 & 0.0 & 0.0 & 2.0 & $\\dots$ \\\\\n",
       "\t15 & 10600.0 & 4.0 & 7.0 & 7.0 & 1.0 & 0.0 & 0.0 & 0.0 & 0.0 & $\\dots$ \\\\\n",
       "\t16 & 10866.0 & 0.0 & 18.0 & 18.0 & 0.0 & 0.0 & 0.0 & 0.0 & 0.0 & $\\dots$ \\\\\n",
       "\t17 & 10572.0 & 0.0 & 14.0 & 14.0 & 0.0 & 0.0 & 0.0 & 0.0 & 2.0 & $\\dots$ \\\\\n",
       "\t18 & 10663.0 & 0.0 & 5.0 & 5.0 & 0.0 & 0.0 & 0.0 & 0.0 & 0.0 & $\\dots$ \\\\\n",
       "\t19 & 10789.0 & 0.0 & 9.0 & 9.0 & 0.0 & 0.0 & 0.0 & 0.0 & 0.0 & $\\dots$ \\\\\n",
       "\t20 & 10768.0 & 0.0 & 3.0 & 3.0 & 0.0 & 1.0 & 0.0 & 0.0 & 0.0 & $\\dots$ \\\\\n",
       "\\end{tabular}\n"
      ],
      "text/plain": [
       "20×23 DataFrame. Omitted printing of 16 columns\n",
       "│ Row │ abdt    │ tg      │ inuidur1 │ inuidur2 │ female  │ black   │ hispanic │\n",
       "│     │ \u001b[90mFloat64\u001b[39m │ \u001b[90mFloat64\u001b[39m │ \u001b[90mFloat64\u001b[39m  │ \u001b[90mFloat64\u001b[39m  │ \u001b[90mFloat64\u001b[39m │ \u001b[90mFloat64\u001b[39m │ \u001b[90mFloat64\u001b[39m  │\n",
       "├─────┼─────────┼─────────┼──────────┼──────────┼─────────┼─────────┼──────────┤\n",
       "│ 1   │ 10824.0 │ 0.0     │ 18.0     │ 18.0     │ 0.0     │ 0.0     │ 0.0      │\n",
       "│ 2   │ 10824.0 │ 0.0     │ 1.0      │ 1.0      │ 0.0     │ 0.0     │ 0.0      │\n",
       "│ 3   │ 10747.0 │ 0.0     │ 27.0     │ 27.0     │ 0.0     │ 0.0     │ 0.0      │\n",
       "│ 4   │ 10607.0 │ 4.0     │ 9.0      │ 9.0      │ 0.0     │ 0.0     │ 0.0      │\n",
       "│ 5   │ 10831.0 │ 0.0     │ 27.0     │ 27.0     │ 0.0     │ 0.0     │ 0.0      │\n",
       "│ 6   │ 10845.0 │ 0.0     │ 27.0     │ 27.0     │ 1.0     │ 0.0     │ 0.0      │\n",
       "│ 7   │ 10831.0 │ 0.0     │ 9.0      │ 9.0      │ 1.0     │ 0.0     │ 0.0      │\n",
       "│ 8   │ 10859.0 │ 0.0     │ 27.0     │ 27.0     │ 1.0     │ 0.0     │ 0.0      │\n",
       "│ 9   │ 10516.0 │ 0.0     │ 15.0     │ 15.0     │ 1.0     │ 0.0     │ 0.0      │\n",
       "│ 10  │ 10663.0 │ 0.0     │ 28.0     │ 11.0     │ 1.0     │ 0.0     │ 0.0      │\n",
       "│ 11  │ 10747.0 │ 0.0     │ 12.0     │ 12.0     │ 1.0     │ 0.0     │ 0.0      │\n",
       "│ 12  │ 10551.0 │ 4.0     │ 22.0     │ 22.0     │ 1.0     │ 0.0     │ 1.0      │\n",
       "│ 13  │ 10768.0 │ 0.0     │ 18.0     │ 18.0     │ 1.0     │ 0.0     │ 0.0      │\n",
       "│ 14  │ 10537.0 │ 0.0     │ 1.0      │ 1.0      │ 1.0     │ 0.0     │ 0.0      │\n",
       "│ 15  │ 10600.0 │ 4.0     │ 7.0      │ 7.0      │ 1.0     │ 0.0     │ 0.0      │\n",
       "│ 16  │ 10866.0 │ 0.0     │ 18.0     │ 18.0     │ 0.0     │ 0.0     │ 0.0      │\n",
       "│ 17  │ 10572.0 │ 0.0     │ 14.0     │ 14.0     │ 0.0     │ 0.0     │ 0.0      │\n",
       "│ 18  │ 10663.0 │ 0.0     │ 5.0      │ 5.0      │ 0.0     │ 0.0     │ 0.0      │\n",
       "│ 19  │ 10789.0 │ 0.0     │ 9.0      │ 9.0      │ 0.0     │ 0.0     │ 0.0      │\n",
       "│ 20  │ 10768.0 │ 0.0     │ 3.0      │ 3.0      │ 0.0     │ 1.0     │ 0.0      │"
      ]
     },
     "execution_count": 52,
     "metadata": {},
     "output_type": "execute_result"
    }
   ],
   "source": [
    "# Filter control group and just treatment group number 4\n",
    "\n",
    "penn = filter(row -> row[:tg] in [4,0], df)\n",
    "\n",
    "first(penn,20)"
   ]
  },
  {
   "cell_type": "code",
   "execution_count": 53,
   "id": "f301abd9",
   "metadata": {},
   "outputs": [
    {
     "data": {
      "text/html": [
       "<table class=\"data-frame\"><thead><tr><th></th><th>abdt</th><th>T4</th><th>inuidur1</th><th>inuidur2</th><th>female</th><th>black</th><th>hispanic</th><th>othrace</th><th>dep</th></tr><tr><th></th><th>Float64</th><th>Float64</th><th>Float64</th><th>Float64</th><th>Float64</th><th>Float64</th><th>Float64</th><th>Float64</th><th>Float64</th></tr></thead><tbody><p>5,099 rows × 23 columns (omitted printing of 14 columns)</p><tr><th>1</th><td>10824.0</td><td>0.0</td><td>18.0</td><td>18.0</td><td>0.0</td><td>0.0</td><td>0.0</td><td>0.0</td><td>2.0</td></tr><tr><th>2</th><td>10824.0</td><td>0.0</td><td>1.0</td><td>1.0</td><td>0.0</td><td>0.0</td><td>0.0</td><td>0.0</td><td>0.0</td></tr><tr><th>3</th><td>10747.0</td><td>0.0</td><td>27.0</td><td>27.0</td><td>0.0</td><td>0.0</td><td>0.0</td><td>0.0</td><td>0.0</td></tr><tr><th>4</th><td>10607.0</td><td>1.0</td><td>9.0</td><td>9.0</td><td>0.0</td><td>0.0</td><td>0.0</td><td>0.0</td><td>0.0</td></tr><tr><th>5</th><td>10831.0</td><td>0.0</td><td>27.0</td><td>27.0</td><td>0.0</td><td>0.0</td><td>0.0</td><td>0.0</td><td>1.0</td></tr><tr><th>6</th><td>10845.0</td><td>0.0</td><td>27.0</td><td>27.0</td><td>1.0</td><td>0.0</td><td>0.0</td><td>0.0</td><td>0.0</td></tr><tr><th>7</th><td>10831.0</td><td>0.0</td><td>9.0</td><td>9.0</td><td>1.0</td><td>0.0</td><td>0.0</td><td>0.0</td><td>1.0</td></tr><tr><th>8</th><td>10859.0</td><td>0.0</td><td>27.0</td><td>27.0</td><td>1.0</td><td>0.0</td><td>0.0</td><td>0.0</td><td>1.0</td></tr><tr><th>9</th><td>10516.0</td><td>0.0</td><td>15.0</td><td>15.0</td><td>1.0</td><td>0.0</td><td>0.0</td><td>0.0</td><td>0.0</td></tr><tr><th>10</th><td>10663.0</td><td>0.0</td><td>28.0</td><td>11.0</td><td>1.0</td><td>0.0</td><td>0.0</td><td>0.0</td><td>0.0</td></tr><tr><th>11</th><td>10747.0</td><td>0.0</td><td>12.0</td><td>12.0</td><td>1.0</td><td>0.0</td><td>0.0</td><td>0.0</td><td>2.0</td></tr><tr><th>12</th><td>10551.0</td><td>1.0</td><td>22.0</td><td>22.0</td><td>1.0</td><td>0.0</td><td>1.0</td><td>0.0</td><td>2.0</td></tr><tr><th>13</th><td>10768.0</td><td>0.0</td><td>18.0</td><td>18.0</td><td>1.0</td><td>0.0</td><td>0.0</td><td>0.0</td><td>0.0</td></tr><tr><th>14</th><td>10537.0</td><td>0.0</td><td>1.0</td><td>1.0</td><td>1.0</td><td>0.0</td><td>0.0</td><td>0.0</td><td>2.0</td></tr><tr><th>15</th><td>10600.0</td><td>1.0</td><td>7.0</td><td>7.0</td><td>1.0</td><td>0.0</td><td>0.0</td><td>0.0</td><td>0.0</td></tr><tr><th>16</th><td>10866.0</td><td>0.0</td><td>18.0</td><td>18.0</td><td>0.0</td><td>0.0</td><td>0.0</td><td>0.0</td><td>0.0</td></tr><tr><th>17</th><td>10572.0</td><td>0.0</td><td>14.0</td><td>14.0</td><td>0.0</td><td>0.0</td><td>0.0</td><td>0.0</td><td>2.0</td></tr><tr><th>18</th><td>10663.0</td><td>0.0</td><td>5.0</td><td>5.0</td><td>0.0</td><td>0.0</td><td>0.0</td><td>0.0</td><td>0.0</td></tr><tr><th>19</th><td>10789.0</td><td>0.0</td><td>9.0</td><td>9.0</td><td>0.0</td><td>0.0</td><td>0.0</td><td>0.0</td><td>0.0</td></tr><tr><th>20</th><td>10768.0</td><td>0.0</td><td>3.0</td><td>3.0</td><td>0.0</td><td>1.0</td><td>0.0</td><td>0.0</td><td>0.0</td></tr><tr><th>21</th><td>10649.0</td><td>0.0</td><td>27.0</td><td>27.0</td><td>0.0</td><td>0.0</td><td>0.0</td><td>0.0</td><td>1.0</td></tr><tr><th>22</th><td>10670.0</td><td>1.0</td><td>27.0</td><td>27.0</td><td>1.0</td><td>0.0</td><td>0.0</td><td>0.0</td><td>2.0</td></tr><tr><th>23</th><td>10796.0</td><td>0.0</td><td>10.0</td><td>10.0</td><td>0.0</td><td>0.0</td><td>0.0</td><td>0.0</td><td>0.0</td></tr><tr><th>24</th><td>10558.0</td><td>0.0</td><td>25.0</td><td>25.0</td><td>0.0</td><td>0.0</td><td>1.0</td><td>0.0</td><td>2.0</td></tr><tr><th>25</th><td>10831.0</td><td>1.0</td><td>1.0</td><td>1.0</td><td>0.0</td><td>0.0</td><td>0.0</td><td>0.0</td><td>0.0</td></tr><tr><th>26</th><td>10810.0</td><td>1.0</td><td>3.0</td><td>3.0</td><td>0.0</td><td>0.0</td><td>0.0</td><td>0.0</td><td>0.0</td></tr><tr><th>27</th><td>10551.0</td><td>1.0</td><td>13.0</td><td>13.0</td><td>0.0</td><td>0.0</td><td>0.0</td><td>0.0</td><td>2.0</td></tr><tr><th>28</th><td>10796.0</td><td>0.0</td><td>1.0</td><td>1.0</td><td>0.0</td><td>0.0</td><td>0.0</td><td>0.0</td><td>0.0</td></tr><tr><th>29</th><td>10719.0</td><td>0.0</td><td>27.0</td><td>27.0</td><td>0.0</td><td>0.0</td><td>0.0</td><td>0.0</td><td>0.0</td></tr><tr><th>30</th><td>10726.0</td><td>1.0</td><td>14.0</td><td>14.0</td><td>0.0</td><td>0.0</td><td>0.0</td><td>0.0</td><td>2.0</td></tr><tr><th>&vellip;</th><td>&vellip;</td><td>&vellip;</td><td>&vellip;</td><td>&vellip;</td><td>&vellip;</td><td>&vellip;</td><td>&vellip;</td><td>&vellip;</td><td>&vellip;</td></tr></tbody></table>"
      ],
      "text/latex": [
       "\\begin{tabular}{r|cccccccccc}\n",
       "\t& abdt & T4 & inuidur1 & inuidur2 & female & black & hispanic & othrace & dep & \\\\\n",
       "\t\\hline\n",
       "\t& Float64 & Float64 & Float64 & Float64 & Float64 & Float64 & Float64 & Float64 & Float64 & \\\\\n",
       "\t\\hline\n",
       "\t1 & 10824.0 & 0.0 & 18.0 & 18.0 & 0.0 & 0.0 & 0.0 & 0.0 & 2.0 & $\\dots$ \\\\\n",
       "\t2 & 10824.0 & 0.0 & 1.0 & 1.0 & 0.0 & 0.0 & 0.0 & 0.0 & 0.0 & $\\dots$ \\\\\n",
       "\t3 & 10747.0 & 0.0 & 27.0 & 27.0 & 0.0 & 0.0 & 0.0 & 0.0 & 0.0 & $\\dots$ \\\\\n",
       "\t4 & 10607.0 & 1.0 & 9.0 & 9.0 & 0.0 & 0.0 & 0.0 & 0.0 & 0.0 & $\\dots$ \\\\\n",
       "\t5 & 10831.0 & 0.0 & 27.0 & 27.0 & 0.0 & 0.0 & 0.0 & 0.0 & 1.0 & $\\dots$ \\\\\n",
       "\t6 & 10845.0 & 0.0 & 27.0 & 27.0 & 1.0 & 0.0 & 0.0 & 0.0 & 0.0 & $\\dots$ \\\\\n",
       "\t7 & 10831.0 & 0.0 & 9.0 & 9.0 & 1.0 & 0.0 & 0.0 & 0.0 & 1.0 & $\\dots$ \\\\\n",
       "\t8 & 10859.0 & 0.0 & 27.0 & 27.0 & 1.0 & 0.0 & 0.0 & 0.0 & 1.0 & $\\dots$ \\\\\n",
       "\t9 & 10516.0 & 0.0 & 15.0 & 15.0 & 1.0 & 0.0 & 0.0 & 0.0 & 0.0 & $\\dots$ \\\\\n",
       "\t10 & 10663.0 & 0.0 & 28.0 & 11.0 & 1.0 & 0.0 & 0.0 & 0.0 & 0.0 & $\\dots$ \\\\\n",
       "\t11 & 10747.0 & 0.0 & 12.0 & 12.0 & 1.0 & 0.0 & 0.0 & 0.0 & 2.0 & $\\dots$ \\\\\n",
       "\t12 & 10551.0 & 1.0 & 22.0 & 22.0 & 1.0 & 0.0 & 1.0 & 0.0 & 2.0 & $\\dots$ \\\\\n",
       "\t13 & 10768.0 & 0.0 & 18.0 & 18.0 & 1.0 & 0.0 & 0.0 & 0.0 & 0.0 & $\\dots$ \\\\\n",
       "\t14 & 10537.0 & 0.0 & 1.0 & 1.0 & 1.0 & 0.0 & 0.0 & 0.0 & 2.0 & $\\dots$ \\\\\n",
       "\t15 & 10600.0 & 1.0 & 7.0 & 7.0 & 1.0 & 0.0 & 0.0 & 0.0 & 0.0 & $\\dots$ \\\\\n",
       "\t16 & 10866.0 & 0.0 & 18.0 & 18.0 & 0.0 & 0.0 & 0.0 & 0.0 & 0.0 & $\\dots$ \\\\\n",
       "\t17 & 10572.0 & 0.0 & 14.0 & 14.0 & 0.0 & 0.0 & 0.0 & 0.0 & 2.0 & $\\dots$ \\\\\n",
       "\t18 & 10663.0 & 0.0 & 5.0 & 5.0 & 0.0 & 0.0 & 0.0 & 0.0 & 0.0 & $\\dots$ \\\\\n",
       "\t19 & 10789.0 & 0.0 & 9.0 & 9.0 & 0.0 & 0.0 & 0.0 & 0.0 & 0.0 & $\\dots$ \\\\\n",
       "\t20 & 10768.0 & 0.0 & 3.0 & 3.0 & 0.0 & 1.0 & 0.0 & 0.0 & 0.0 & $\\dots$ \\\\\n",
       "\t21 & 10649.0 & 0.0 & 27.0 & 27.0 & 0.0 & 0.0 & 0.0 & 0.0 & 1.0 & $\\dots$ \\\\\n",
       "\t22 & 10670.0 & 1.0 & 27.0 & 27.0 & 1.0 & 0.0 & 0.0 & 0.0 & 2.0 & $\\dots$ \\\\\n",
       "\t23 & 10796.0 & 0.0 & 10.0 & 10.0 & 0.0 & 0.0 & 0.0 & 0.0 & 0.0 & $\\dots$ \\\\\n",
       "\t24 & 10558.0 & 0.0 & 25.0 & 25.0 & 0.0 & 0.0 & 1.0 & 0.0 & 2.0 & $\\dots$ \\\\\n",
       "\t25 & 10831.0 & 1.0 & 1.0 & 1.0 & 0.0 & 0.0 & 0.0 & 0.0 & 0.0 & $\\dots$ \\\\\n",
       "\t26 & 10810.0 & 1.0 & 3.0 & 3.0 & 0.0 & 0.0 & 0.0 & 0.0 & 0.0 & $\\dots$ \\\\\n",
       "\t27 & 10551.0 & 1.0 & 13.0 & 13.0 & 0.0 & 0.0 & 0.0 & 0.0 & 2.0 & $\\dots$ \\\\\n",
       "\t28 & 10796.0 & 0.0 & 1.0 & 1.0 & 0.0 & 0.0 & 0.0 & 0.0 & 0.0 & $\\dots$ \\\\\n",
       "\t29 & 10719.0 & 0.0 & 27.0 & 27.0 & 0.0 & 0.0 & 0.0 & 0.0 & 0.0 & $\\dots$ \\\\\n",
       "\t30 & 10726.0 & 1.0 & 14.0 & 14.0 & 0.0 & 0.0 & 0.0 & 0.0 & 2.0 & $\\dots$ \\\\\n",
       "\t$\\dots$ & $\\dots$ & $\\dots$ & $\\dots$ & $\\dots$ & $\\dots$ & $\\dots$ & $\\dots$ & $\\dots$ & $\\dots$ &  \\\\\n",
       "\\end{tabular}\n"
      ],
      "text/plain": [
       "5099×23 DataFrame. Omitted printing of 17 columns\n",
       "│ Row  │ abdt    │ T4      │ inuidur1 │ inuidur2 │ female  │ black   │\n",
       "│      │ \u001b[90mFloat64\u001b[39m │ \u001b[90mFloat64\u001b[39m │ \u001b[90mFloat64\u001b[39m  │ \u001b[90mFloat64\u001b[39m  │ \u001b[90mFloat64\u001b[39m │ \u001b[90mFloat64\u001b[39m │\n",
       "├──────┼─────────┼─────────┼──────────┼──────────┼─────────┼─────────┤\n",
       "│ 1    │ 10824.0 │ 0.0     │ 18.0     │ 18.0     │ 0.0     │ 0.0     │\n",
       "│ 2    │ 10824.0 │ 0.0     │ 1.0      │ 1.0      │ 0.0     │ 0.0     │\n",
       "│ 3    │ 10747.0 │ 0.0     │ 27.0     │ 27.0     │ 0.0     │ 0.0     │\n",
       "│ 4    │ 10607.0 │ 1.0     │ 9.0      │ 9.0      │ 0.0     │ 0.0     │\n",
       "│ 5    │ 10831.0 │ 0.0     │ 27.0     │ 27.0     │ 0.0     │ 0.0     │\n",
       "│ 6    │ 10845.0 │ 0.0     │ 27.0     │ 27.0     │ 1.0     │ 0.0     │\n",
       "│ 7    │ 10831.0 │ 0.0     │ 9.0      │ 9.0      │ 1.0     │ 0.0     │\n",
       "│ 8    │ 10859.0 │ 0.0     │ 27.0     │ 27.0     │ 1.0     │ 0.0     │\n",
       "│ 9    │ 10516.0 │ 0.0     │ 15.0     │ 15.0     │ 1.0     │ 0.0     │\n",
       "│ 10   │ 10663.0 │ 0.0     │ 28.0     │ 11.0     │ 1.0     │ 0.0     │\n",
       "⋮\n",
       "│ 5089 │ 10796.0 │ 0.0     │ 15.0     │ 15.0     │ 1.0     │ 0.0     │\n",
       "│ 5090 │ 10635.0 │ 1.0     │ 20.0     │ 20.0     │ 0.0     │ 0.0     │\n",
       "│ 5091 │ 10859.0 │ 0.0     │ 1.0      │ 1.0      │ 1.0     │ 0.0     │\n",
       "│ 5092 │ 10796.0 │ 0.0     │ 23.0     │ 23.0     │ 0.0     │ 1.0     │\n",
       "│ 5093 │ 10740.0 │ 1.0     │ 13.0     │ 13.0     │ 1.0     │ 1.0     │\n",
       "│ 5094 │ 10845.0 │ 0.0     │ 6.0      │ 6.0      │ 1.0     │ 0.0     │\n",
       "│ 5095 │ 10628.0 │ 1.0     │ 10.0     │ 10.0     │ 0.0     │ 0.0     │\n",
       "│ 5096 │ 10523.0 │ 1.0     │ 4.0      │ 4.0      │ 0.0     │ 0.0     │\n",
       "│ 5097 │ 10558.0 │ 0.0     │ 9.0      │ 9.0      │ 0.0     │ 0.0     │\n",
       "│ 5098 │ 10817.0 │ 1.0     │ 4.0      │ 4.0      │ 0.0     │ 0.0     │\n",
       "│ 5099 │ 10691.0 │ 0.0     │ 27.0     │ 27.0     │ 0.0     │ 0.0     │"
      ]
     },
     "execution_count": 53,
     "metadata": {},
     "output_type": "execute_result"
    }
   ],
   "source": [
    "# Treatment group n°4\n",
    "replace!(penn.tg, 4 => 1)\n",
    "\n",
    "\n",
    "rename!(penn, \"tg\" => \"T4\")\n",
    "\n",
    "penn"
   ]
  },
  {
   "cell_type": "code",
   "execution_count": 54,
   "id": "498e0b2e",
   "metadata": {},
   "outputs": [
    {
     "data": {
      "text/plain": [
       "5099"
      ]
     },
     "execution_count": 54,
     "metadata": {},
     "output_type": "execute_result"
    }
   ],
   "source": [
    "n = size(penn)[1]"
   ]
  },
  {
   "cell_type": "markdown",
   "id": "4a0206f3",
   "metadata": {},
   "source": [
    "* The function in which the equation to be estimated is included is specified below. In addition, it is specified that you want to know the causal effect of the variables T4, female and black."
   ]
  },
  {
   "cell_type": "code",
   "execution_count": 55,
   "id": "19696898",
   "metadata": {},
   "outputs": [
    {
     "data": {
      "text/plain": [
       "boot_fn (generic function with 1 method)"
      ]
     },
     "execution_count": 55,
     "metadata": {},
     "output_type": "execute_result"
    }
   ],
   "source": [
    "# Making a function to \n",
    "function boot_fn(data,index)  \n",
    "            ols_1 = lm(@formula(log(inuidur1)~T4+ (female+black+othrace+q2+q3+q4+q5+q6+agelt35+agegt54+durable+lusd+husd)), penn[index,:])\n",
    "            intercept = GLM.coeftable(ols_1).cols[1][1]\n",
    "            coef_T4 = GLM.coeftable(ols_1).cols[1][2]\n",
    "            coef_female = GLM.coeftable(ols_1).cols[1][3]\n",
    "            coef_black = GLM.coeftable(ols_1).cols[1][4]\n",
    "            return [intercept, coef_T4, coef_female, coef_black]\n",
    "end"
   ]
  },
  {
   "cell_type": "code",
   "execution_count": 56,
   "id": "08224109",
   "metadata": {},
   "outputs": [
    {
     "data": {
      "text/plain": [
       "4-element Vector{Float64}:\n",
       "  2.2080072053234763\n",
       " -0.07109653401371768\n",
       "  0.12173628809565984\n",
       " -0.2978610361314576"
      ]
     },
     "execution_count": 56,
     "metadata": {},
     "output_type": "execute_result"
    }
   ],
   "source": [
    "boot_fn(penn,[1:n;]) # Applying the formula to the data"
   ]
  },
  {
   "cell_type": "code",
   "execution_count": 57,
   "id": "70bdf916",
   "metadata": {},
   "outputs": [
    {
     "data": {
      "text/plain": [
       "4-element Vector{Float64}:\n",
       "  1.9182168459446833\n",
       "  0.0012848696831382572\n",
       "  0.18073559669009046\n",
       " -0.3691891483864184"
      ]
     },
     "execution_count": 57,
     "metadata": {},
     "output_type": "execute_result"
    }
   ],
   "source": [
    "# Using the sample, but with only one replicate:\n",
    "Random.seed!(1)\n",
    "boot_fn(penn, sample([1:n;],n, replace = true))"
   ]
  },
  {
   "cell_type": "code",
   "execution_count": 60,
   "id": "a23143f0",
   "metadata": {},
   "outputs": [
    {
     "data": {
      "text/plain": [
       "boot_2 (generic function with 1 method)"
      ]
     },
     "execution_count": 60,
     "metadata": {},
     "output_type": "execute_result"
    }
   ],
   "source": [
    "# A function is specified to use as many replications as desired, the number of replications is specified with the input R\n",
    "function boot_2(data,func,R)\n",
    "            intercept = []\n",
    "            coeff_T4 = []\n",
    "            coeff_female = []\n",
    "            coeff_black = []\n",
    "            for i in 1:R\n",
    "                append!(intercept,func(penn,sample([1:n;], n, replace = true))[1])\n",
    "                append!(coeff_T4,func(penn,sample([1:n;], n, replace = true))[2])\n",
    "                append!(coeff_female,func(penn,sample([1:n;], n, replace = true))[3])\n",
    "                append!(coeff_black,func(penn,sample([1:n;], n, replace = true))[4])\n",
    "            end\n",
    "        table = NamedArray(zeros(4, 3))\n",
    "\n",
    "        table[1,2] = mean(intercept)\n",
    "        table[1,3] = std(intercept, corrected=true)\n",
    "        table[2,2] = mean(coeff_T4)\n",
    "        table[2,3] = std(coeff_T4, corrected=true)\n",
    "        table[3,2] = mean(coeff_female)\n",
    "        table[3,3] = std(coeff_female, corrected=true)\n",
    "        table[4,2] = mean(coeff_black)\n",
    "        table[4,3] = std(coeff_black, corrected=true)\n",
    "        T = DataFrame(table, [ :\"Variable\", :\"Coefficient (boostrap)\", :\"Standar error (boostrap)\"]) \n",
    "        T[!,:Variable] = string.(T[!,:Variable]) \n",
    "\n",
    "        T[1,1] = \"Intercept\"\n",
    "        T[2,1] = \"T4\"\n",
    "        T[3,1] = \"Female\"\n",
    "        T[4,1] = \"Black\"\n",
    "        bootstrap_statistics = Dict{String,Any}(\"Table\" => T, \"intercept\" => intercept, \"Coefficient_1\" => coeff_T4, \n",
    "        \"Coefficient_2\" => coeff_female, \"Coefficient_3\" => coeff_black)\n",
    "    return bootstrap_statistics\n",
    "end"
   ]
  },
  {
   "cell_type": "code",
   "execution_count": 61,
   "id": "f4439de4",
   "metadata": {},
   "outputs": [
    {
     "data": {
      "text/html": [
       "<table class=\"data-frame\"><thead><tr><th></th><th>Variable</th><th>Coefficient (boostrap)</th><th>Standar error (boostrap)</th></tr><tr><th></th><th>String</th><th>Float64</th><th>Float64</th></tr></thead><tbody><p>4 rows × 3 columns</p><tr><th>1</th><td>Intercept</td><td>2.21271</td><td>0.153519</td></tr><tr><th>2</th><td>T4</td><td>-0.0697084</td><td>0.0344229</td></tr><tr><th>3</th><td>Female</td><td>0.122384</td><td>0.0346487</td></tr><tr><th>4</th><td>Black</td><td>-0.300067</td><td>0.059997</td></tr></tbody></table>"
      ],
      "text/latex": [
       "\\begin{tabular}{r|ccc}\n",
       "\t& Variable & Coefficient (boostrap) & Standar error (boostrap)\\\\\n",
       "\t\\hline\n",
       "\t& String & Float64 & Float64\\\\\n",
       "\t\\hline\n",
       "\t1 & Intercept & 2.21271 & 0.153519 \\\\\n",
       "\t2 & T4 & -0.0697084 & 0.0344229 \\\\\n",
       "\t3 & Female & 0.122384 & 0.0346487 \\\\\n",
       "\t4 & Black & -0.300067 & 0.059997 \\\\\n",
       "\\end{tabular}\n"
      ],
      "text/plain": [
       "4×3 DataFrame\n",
       "│ Row │ Variable  │ Coefficient (boostrap) │ Standar error (boostrap) │\n",
       "│     │ \u001b[90mString\u001b[39m    │ \u001b[90mFloat64\u001b[39m                │ \u001b[90mFloat64\u001b[39m                  │\n",
       "├─────┼───────────┼────────────────────────┼──────────────────────────┤\n",
       "│ 1   │ Intercept │ 2.21271                │ 0.153519                 │\n",
       "│ 2   │ T4        │ -0.0697084             │ 0.0344229                │\n",
       "│ 3   │ Female    │ 0.122384               │ 0.0346487                │\n",
       "│ 4   │ Black     │ -0.300067              │ 0.059997                 │"
      ]
     },
     "execution_count": 61,
     "metadata": {},
     "output_type": "execute_result"
    }
   ],
   "source": [
    "boot_2(penn,boot_fn,1000)[\"Table\"]"
   ]
  },
  {
   "cell_type": "markdown",
   "id": "8e37bdc3",
   "metadata": {},
   "source": [
    "# Comparative models"
   ]
  },
  {
   "cell_type": "code",
   "execution_count": 2,
   "id": "7c20a884",
   "metadata": {},
   "outputs": [
    {
     "name": "stderr",
     "output_type": "stream",
     "text": [
      "\n",
      "(process:4712): GLib-GIO-WARNING **: 11:21:12.462: Unexpectedly, UWP app `3138AweZip.AweZip_1.4.12.0_x86__ffd303wmbhcjt' (AUMId `3138AweZip.AweZip_ffd303wmbhcjt!App') supports 167 extensions but has no verbs\n",
      "\n",
      "(process:4712): GLib-GIO-WARNING **: 11:21:12.547: Unexpectedly, UWP app `6760NGPDFLab.PDFX_1.3.41.0_x64__sbe4t8mqwq93a' (AUMId `6760NGPDFLab.PDFX_sbe4t8mqwq93a!App') supports 32 extensions but has no verbs\n"
     ]
    }
   ],
   "source": [
    "using RData, LinearAlgebra, GLM, DataFrames, Statistics, Random, Distributions, DataStructures, NamedArrays, PrettyTables,\n",
    "        Plots, StatsBase,StatsPlots, GLM\n",
    "import CodecBzip2\n"
   ]
  },
  {
   "cell_type": "code",
   "execution_count": 3,
   "id": "459f1a96",
   "metadata": {},
   "outputs": [
    {
     "data": {
      "text/html": [
       "<table class=\"data-frame\"><thead><tr><th></th><th>year</th><th>lnw</th><th>female</th><th>widowed</th><th>divorced</th><th>separated</th><th>nevermarried</th><th>hsd08</th></tr><tr><th></th><th>Float64</th><th>Float64</th><th>Float64</th><th>Float64</th><th>Float64</th><th>Float64</th><th>Float64</th><th>Float64</th></tr></thead><tbody><p>29,217 rows × 23 columns (omitted printing of 15 columns)</p><tr><th>1</th><td>2012.0</td><td>1.90954</td><td>1.0</td><td>0.0</td><td>0.0</td><td>0.0</td><td>0.0</td><td>0.0</td></tr><tr><th>2</th><td>2012.0</td><td>1.36577</td><td>1.0</td><td>0.0</td><td>0.0</td><td>0.0</td><td>0.0</td><td>0.0</td></tr><tr><th>3</th><td>2012.0</td><td>2.54022</td><td>0.0</td><td>0.0</td><td>0.0</td><td>0.0</td><td>0.0</td><td>0.0</td></tr><tr><th>4</th><td>2012.0</td><td>1.80109</td><td>1.0</td><td>0.0</td><td>0.0</td><td>0.0</td><td>0.0</td><td>0.0</td></tr><tr><th>5</th><td>2012.0</td><td>3.3499</td><td>0.0</td><td>0.0</td><td>0.0</td><td>0.0</td><td>0.0</td><td>0.0</td></tr><tr><th>6</th><td>2012.0</td><td>2.00283</td><td>0.0</td><td>0.0</td><td>0.0</td><td>0.0</td><td>0.0</td><td>0.0</td></tr><tr><th>7</th><td>2012.0</td><td>2.45609</td><td>0.0</td><td>0.0</td><td>0.0</td><td>0.0</td><td>1.0</td><td>0.0</td></tr><tr><th>8</th><td>2012.0</td><td>3.57305</td><td>0.0</td><td>0.0</td><td>0.0</td><td>0.0</td><td>0.0</td><td>0.0</td></tr><tr><th>9</th><td>2012.0</td><td>2.51366</td><td>0.0</td><td>0.0</td><td>0.0</td><td>0.0</td><td>0.0</td><td>0.0</td></tr><tr><th>10</th><td>2012.0</td><td>0.289633</td><td>1.0</td><td>0.0</td><td>0.0</td><td>0.0</td><td>0.0</td><td>0.0</td></tr><tr><th>11</th><td>2012.0</td><td>2.49424</td><td>0.0</td><td>0.0</td><td>0.0</td><td>0.0</td><td>0.0</td><td>0.0</td></tr><tr><th>12</th><td>2012.0</td><td>3.31116</td><td>1.0</td><td>0.0</td><td>0.0</td><td>0.0</td><td>0.0</td><td>0.0</td></tr><tr><th>13</th><td>2012.0</td><td>2.57819</td><td>0.0</td><td>0.0</td><td>0.0</td><td>0.0</td><td>0.0</td><td>0.0</td></tr><tr><th>14</th><td>2012.0</td><td>2.5514</td><td>0.0</td><td>0.0</td><td>0.0</td><td>0.0</td><td>1.0</td><td>0.0</td></tr><tr><th>15</th><td>2012.0</td><td>3.14226</td><td>1.0</td><td>0.0</td><td>1.0</td><td>0.0</td><td>0.0</td><td>0.0</td></tr><tr><th>16</th><td>2012.0</td><td>1.75389</td><td>0.0</td><td>0.0</td><td>0.0</td><td>0.0</td><td>1.0</td><td>0.0</td></tr><tr><th>17</th><td>2012.0</td><td>2.05892</td><td>0.0</td><td>0.0</td><td>0.0</td><td>0.0</td><td>0.0</td><td>0.0</td></tr><tr><th>18</th><td>2012.0</td><td>2.52323</td><td>0.0</td><td>0.0</td><td>0.0</td><td>0.0</td><td>1.0</td><td>0.0</td></tr><tr><th>19</th><td>2012.0</td><td>2.42792</td><td>0.0</td><td>0.0</td><td>0.0</td><td>0.0</td><td>0.0</td><td>0.0</td></tr><tr><th>20</th><td>2012.0</td><td>2.91912</td><td>1.0</td><td>0.0</td><td>0.0</td><td>0.0</td><td>1.0</td><td>0.0</td></tr><tr><th>21</th><td>2012.0</td><td>2.43361</td><td>0.0</td><td>0.0</td><td>0.0</td><td>0.0</td><td>0.0</td><td>0.0</td></tr><tr><th>22</th><td>2012.0</td><td>2.65676</td><td>1.0</td><td>0.0</td><td>0.0</td><td>0.0</td><td>0.0</td><td>0.0</td></tr><tr><th>23</th><td>2012.0</td><td>2.82039</td><td>0.0</td><td>0.0</td><td>0.0</td><td>0.0</td><td>0.0</td><td>0.0</td></tr><tr><th>24</th><td>2012.0</td><td>2.43361</td><td>0.0</td><td>0.0</td><td>0.0</td><td>0.0</td><td>1.0</td><td>0.0</td></tr><tr><th>25</th><td>2012.0</td><td>2.05094</td><td>1.0</td><td>0.0</td><td>0.0</td><td>0.0</td><td>1.0</td><td>0.0</td></tr><tr><th>26</th><td>2012.0</td><td>3.37343</td><td>0.0</td><td>0.0</td><td>0.0</td><td>0.0</td><td>0.0</td><td>0.0</td></tr><tr><th>27</th><td>2012.0</td><td>3.00506</td><td>0.0</td><td>0.0</td><td>0.0</td><td>0.0</td><td>0.0</td><td>0.0</td></tr><tr><th>28</th><td>2012.0</td><td>2.23294</td><td>1.0</td><td>0.0</td><td>0.0</td><td>0.0</td><td>0.0</td><td>0.0</td></tr><tr><th>29</th><td>2012.0</td><td>2.52323</td><td>1.0</td><td>0.0</td><td>0.0</td><td>0.0</td><td>0.0</td><td>0.0</td></tr><tr><th>30</th><td>2012.0</td><td>2.49424</td><td>0.0</td><td>0.0</td><td>0.0</td><td>0.0</td><td>0.0</td><td>0.0</td></tr><tr><th>&vellip;</th><td>&vellip;</td><td>&vellip;</td><td>&vellip;</td><td>&vellip;</td><td>&vellip;</td><td>&vellip;</td><td>&vellip;</td><td>&vellip;</td></tr></tbody></table>"
      ],
      "text/latex": [
       "\\begin{tabular}{r|ccccccccc}\n",
       "\t& year & lnw & female & widowed & divorced & separated & nevermarried & hsd08 & \\\\\n",
       "\t\\hline\n",
       "\t& Float64 & Float64 & Float64 & Float64 & Float64 & Float64 & Float64 & Float64 & \\\\\n",
       "\t\\hline\n",
       "\t1 & 2012.0 & 1.90954 & 1.0 & 0.0 & 0.0 & 0.0 & 0.0 & 0.0 & $\\dots$ \\\\\n",
       "\t2 & 2012.0 & 1.36577 & 1.0 & 0.0 & 0.0 & 0.0 & 0.0 & 0.0 & $\\dots$ \\\\\n",
       "\t3 & 2012.0 & 2.54022 & 0.0 & 0.0 & 0.0 & 0.0 & 0.0 & 0.0 & $\\dots$ \\\\\n",
       "\t4 & 2012.0 & 1.80109 & 1.0 & 0.0 & 0.0 & 0.0 & 0.0 & 0.0 & $\\dots$ \\\\\n",
       "\t5 & 2012.0 & 3.3499 & 0.0 & 0.0 & 0.0 & 0.0 & 0.0 & 0.0 & $\\dots$ \\\\\n",
       "\t6 & 2012.0 & 2.00283 & 0.0 & 0.0 & 0.0 & 0.0 & 0.0 & 0.0 & $\\dots$ \\\\\n",
       "\t7 & 2012.0 & 2.45609 & 0.0 & 0.0 & 0.0 & 0.0 & 1.0 & 0.0 & $\\dots$ \\\\\n",
       "\t8 & 2012.0 & 3.57305 & 0.0 & 0.0 & 0.0 & 0.0 & 0.0 & 0.0 & $\\dots$ \\\\\n",
       "\t9 & 2012.0 & 2.51366 & 0.0 & 0.0 & 0.0 & 0.0 & 0.0 & 0.0 & $\\dots$ \\\\\n",
       "\t10 & 2012.0 & 0.289633 & 1.0 & 0.0 & 0.0 & 0.0 & 0.0 & 0.0 & $\\dots$ \\\\\n",
       "\t11 & 2012.0 & 2.49424 & 0.0 & 0.0 & 0.0 & 0.0 & 0.0 & 0.0 & $\\dots$ \\\\\n",
       "\t12 & 2012.0 & 3.31116 & 1.0 & 0.0 & 0.0 & 0.0 & 0.0 & 0.0 & $\\dots$ \\\\\n",
       "\t13 & 2012.0 & 2.57819 & 0.0 & 0.0 & 0.0 & 0.0 & 0.0 & 0.0 & $\\dots$ \\\\\n",
       "\t14 & 2012.0 & 2.5514 & 0.0 & 0.0 & 0.0 & 0.0 & 1.0 & 0.0 & $\\dots$ \\\\\n",
       "\t15 & 2012.0 & 3.14226 & 1.0 & 0.0 & 1.0 & 0.0 & 0.0 & 0.0 & $\\dots$ \\\\\n",
       "\t16 & 2012.0 & 1.75389 & 0.0 & 0.0 & 0.0 & 0.0 & 1.0 & 0.0 & $\\dots$ \\\\\n",
       "\t17 & 2012.0 & 2.05892 & 0.0 & 0.0 & 0.0 & 0.0 & 0.0 & 0.0 & $\\dots$ \\\\\n",
       "\t18 & 2012.0 & 2.52323 & 0.0 & 0.0 & 0.0 & 0.0 & 1.0 & 0.0 & $\\dots$ \\\\\n",
       "\t19 & 2012.0 & 2.42792 & 0.0 & 0.0 & 0.0 & 0.0 & 0.0 & 0.0 & $\\dots$ \\\\\n",
       "\t20 & 2012.0 & 2.91912 & 1.0 & 0.0 & 0.0 & 0.0 & 1.0 & 0.0 & $\\dots$ \\\\\n",
       "\t21 & 2012.0 & 2.43361 & 0.0 & 0.0 & 0.0 & 0.0 & 0.0 & 0.0 & $\\dots$ \\\\\n",
       "\t22 & 2012.0 & 2.65676 & 1.0 & 0.0 & 0.0 & 0.0 & 0.0 & 0.0 & $\\dots$ \\\\\n",
       "\t23 & 2012.0 & 2.82039 & 0.0 & 0.0 & 0.0 & 0.0 & 0.0 & 0.0 & $\\dots$ \\\\\n",
       "\t24 & 2012.0 & 2.43361 & 0.0 & 0.0 & 0.0 & 0.0 & 1.0 & 0.0 & $\\dots$ \\\\\n",
       "\t25 & 2012.0 & 2.05094 & 1.0 & 0.0 & 0.0 & 0.0 & 1.0 & 0.0 & $\\dots$ \\\\\n",
       "\t26 & 2012.0 & 3.37343 & 0.0 & 0.0 & 0.0 & 0.0 & 0.0 & 0.0 & $\\dots$ \\\\\n",
       "\t27 & 2012.0 & 3.00506 & 0.0 & 0.0 & 0.0 & 0.0 & 0.0 & 0.0 & $\\dots$ \\\\\n",
       "\t28 & 2012.0 & 2.23294 & 1.0 & 0.0 & 0.0 & 0.0 & 0.0 & 0.0 & $\\dots$ \\\\\n",
       "\t29 & 2012.0 & 2.52323 & 1.0 & 0.0 & 0.0 & 0.0 & 0.0 & 0.0 & $\\dots$ \\\\\n",
       "\t30 & 2012.0 & 2.49424 & 0.0 & 0.0 & 0.0 & 0.0 & 0.0 & 0.0 & $\\dots$ \\\\\n",
       "\t$\\dots$ & $\\dots$ & $\\dots$ & $\\dots$ & $\\dots$ & $\\dots$ & $\\dots$ & $\\dots$ & $\\dots$ &  \\\\\n",
       "\\end{tabular}\n"
      ],
      "text/plain": [
       "29217×23 DataFrame. Omitted printing of 17 columns\n",
       "│ Row   │ year    │ lnw      │ female  │ widowed │ divorced │ separated │\n",
       "│       │ \u001b[90mFloat64\u001b[39m │ \u001b[90mFloat64\u001b[39m  │ \u001b[90mFloat64\u001b[39m │ \u001b[90mFloat64\u001b[39m │ \u001b[90mFloat64\u001b[39m  │ \u001b[90mFloat64\u001b[39m   │\n",
       "├───────┼─────────┼──────────┼─────────┼─────────┼──────────┼───────────┤\n",
       "│ 1     │ 2012.0  │ 1.90954  │ 1.0     │ 0.0     │ 0.0      │ 0.0       │\n",
       "│ 2     │ 2012.0  │ 1.36577  │ 1.0     │ 0.0     │ 0.0      │ 0.0       │\n",
       "│ 3     │ 2012.0  │ 2.54022  │ 0.0     │ 0.0     │ 0.0      │ 0.0       │\n",
       "│ 4     │ 2012.0  │ 1.80109  │ 1.0     │ 0.0     │ 0.0      │ 0.0       │\n",
       "│ 5     │ 2012.0  │ 3.3499   │ 0.0     │ 0.0     │ 0.0      │ 0.0       │\n",
       "│ 6     │ 2012.0  │ 2.00283  │ 0.0     │ 0.0     │ 0.0      │ 0.0       │\n",
       "│ 7     │ 2012.0  │ 2.45609  │ 0.0     │ 0.0     │ 0.0      │ 0.0       │\n",
       "│ 8     │ 2012.0  │ 3.57305  │ 0.0     │ 0.0     │ 0.0      │ 0.0       │\n",
       "│ 9     │ 2012.0  │ 2.51366  │ 0.0     │ 0.0     │ 0.0      │ 0.0       │\n",
       "│ 10    │ 2012.0  │ 0.289633 │ 1.0     │ 0.0     │ 0.0      │ 0.0       │\n",
       "⋮\n",
       "│ 29207 │ 2012.0  │ 2.5514   │ 0.0     │ 0.0     │ 0.0      │ 0.0       │\n",
       "│ 29208 │ 2012.0  │ 2.91912  │ 1.0     │ 0.0     │ 0.0      │ 0.0       │\n",
       "│ 29209 │ 2012.0  │ 2.5514   │ 1.0     │ 0.0     │ 0.0      │ 0.0       │\n",
       "│ 29210 │ 2012.0  │ 3.28537  │ 0.0     │ 0.0     │ 0.0      │ 0.0       │\n",
       "│ 29211 │ 2012.0  │ 3.3746   │ 0.0     │ 0.0     │ 0.0      │ 0.0       │\n",
       "│ 29212 │ 2012.0  │ 2.70555  │ 1.0     │ 0.0     │ 0.0      │ 0.0       │\n",
       "│ 29213 │ 2012.0  │ 3.97851  │ 0.0     │ 0.0     │ 0.0      │ 0.0       │\n",
       "│ 29214 │ 2012.0  │ 3.14226  │ 1.0     │ 0.0     │ 0.0      │ 0.0       │\n",
       "│ 29215 │ 2012.0  │ 2.72562  │ 1.0     │ 0.0     │ 0.0      │ 0.0       │\n",
       "│ 29216 │ 2012.0  │ 3.14226  │ 0.0     │ 0.0     │ 0.0      │ 0.0       │\n",
       "│ 29217 │ 2012.0  │ 2.43361  │ 1.0     │ 0.0     │ 0.0      │ 0.0       │"
      ]
     },
     "execution_count": 3,
     "metadata": {},
     "output_type": "execute_result"
    }
   ],
   "source": [
    "# Loading the data\n",
    "rdata_read = load(\"data/cps2012.RData\")\n",
    "data = rdata_read[\"data\"]"
   ]
  },
  {
   "cell_type": "code",
   "execution_count": 4,
   "id": "59b10414",
   "metadata": {},
   "outputs": [
    {
     "data": {
      "text/html": [
       "<table class=\"data-frame\"><thead><tr><th></th><th>variable</th><th>mean</th><th>min</th><th>median</th><th>max</th><th>nunique</th><th>nmissing</th><th>eltype</th></tr><tr><th></th><th>Symbol</th><th>Float64</th><th>Real</th><th>Float64</th><th>Real</th><th>Nothing</th><th>Nothing</th><th>DataType</th></tr></thead><tbody><p>23 rows × 8 columns</p><tr><th>1</th><td>year</td><td>2012.0</td><td>2012.0</td><td>2012.0</td><td>2012.0</td><td></td><td></td><td>Float64</td></tr><tr><th>2</th><td>lnw</td><td>2.79701</td><td>-7.46987</td><td>2.77454</td><td>5.97094</td><td></td><td></td><td>Float64</td></tr><tr><th>3</th><td>female</td><td>0.428757</td><td>0.0</td><td>0.0</td><td>1.0</td><td></td><td></td><td>Float64</td></tr><tr><th>4</th><td>widowed</td><td>0.00797481</td><td>0.0</td><td>0.0</td><td>1.0</td><td></td><td></td><td>Float64</td></tr><tr><th>5</th><td>divorced</td><td>0.113393</td><td>0.0</td><td>0.0</td><td>1.0</td><td></td><td></td><td>Float64</td></tr><tr><th>6</th><td>separated</td><td>0.0165999</td><td>0.0</td><td>0.0</td><td>1.0</td><td></td><td></td><td>Float64</td></tr><tr><th>7</th><td>nevermarried</td><td>0.156347</td><td>0.0</td><td>0.0</td><td>1.0</td><td></td><td></td><td>Float64</td></tr><tr><th>8</th><td>hsd08</td><td>0.0041072</td><td>0.0</td><td>0.0</td><td>1.0</td><td></td><td></td><td>Float64</td></tr><tr><th>9</th><td>hsd911</td><td>0.0221789</td><td>0.0</td><td>0.0</td><td>1.0</td><td></td><td></td><td>Float64</td></tr><tr><th>10</th><td>hsg</td><td>0.247288</td><td>0.0</td><td>0.0</td><td>1.0</td><td></td><td></td><td>Float64</td></tr><tr><th>11</th><td>cg</td><td>0.283431</td><td>0.0</td><td>0.0</td><td>1.0</td><td></td><td></td><td>Float64</td></tr><tr><th>12</th><td>ad</td><td>0.1558</td><td>0.0</td><td>0.0</td><td>1.0</td><td></td><td></td><td>Float64</td></tr><tr><th>13</th><td>mw</td><td>0.291645</td><td>0.0</td><td>0.0</td><td>1.0</td><td></td><td></td><td>Float64</td></tr><tr><th>14</th><td>so</td><td>0.282849</td><td>0.0</td><td>0.0</td><td>1.0</td><td></td><td></td><td>Float64</td></tr><tr><th>15</th><td>we</td><td>0.199644</td><td>0.0</td><td>0.0</td><td>1.0</td><td></td><td></td><td>Float64</td></tr><tr><th>16</th><td>exp1</td><td>18.7569</td><td>0.0</td><td>19.0</td><td>43.5</td><td></td><td></td><td>Float64</td></tr><tr><th>17</th><td>exp2</td><td>4.28681</td><td>0.0</td><td>3.61</td><td>18.9225</td><td></td><td></td><td>Float64</td></tr><tr><th>18</th><td>exp3</td><td>10.876</td><td>0.0</td><td>6.859</td><td>82.3129</td><td></td><td></td><td>Float64</td></tr><tr><th>19</th><td>exp4</td><td>29.4088</td><td>0.0</td><td>13.0321</td><td>358.061</td><td></td><td></td><td>Float64</td></tr><tr><th>20</th><td>weight</td><td>1513.84</td><td>106.79</td><td>1472.1</td><td>6444.15</td><td></td><td></td><td>Float64</td></tr><tr><th>21</th><td>married</td><td>0.705685</td><td>0</td><td>1.0</td><td>1</td><td></td><td></td><td>Bool</td></tr><tr><th>22</th><td>ne</td><td>0.225862</td><td>0</td><td>0.0</td><td>1</td><td></td><td></td><td>Bool</td></tr><tr><th>23</th><td>sc</td><td>0.287196</td><td>0</td><td>0.0</td><td>1</td><td></td><td></td><td>Bool</td></tr></tbody></table>"
      ],
      "text/latex": [
       "\\begin{tabular}{r|cccccccc}\n",
       "\t& variable & mean & min & median & max & nunique & nmissing & eltype\\\\\n",
       "\t\\hline\n",
       "\t& Symbol & Float64 & Real & Float64 & Real & Nothing & Nothing & DataType\\\\\n",
       "\t\\hline\n",
       "\t1 & year & 2012.0 & 2012.0 & 2012.0 & 2012.0 &  &  & Float64 \\\\\n",
       "\t2 & lnw & 2.79701 & -7.46987 & 2.77454 & 5.97094 &  &  & Float64 \\\\\n",
       "\t3 & female & 0.428757 & 0.0 & 0.0 & 1.0 &  &  & Float64 \\\\\n",
       "\t4 & widowed & 0.00797481 & 0.0 & 0.0 & 1.0 &  &  & Float64 \\\\\n",
       "\t5 & divorced & 0.113393 & 0.0 & 0.0 & 1.0 &  &  & Float64 \\\\\n",
       "\t6 & separated & 0.0165999 & 0.0 & 0.0 & 1.0 &  &  & Float64 \\\\\n",
       "\t7 & nevermarried & 0.156347 & 0.0 & 0.0 & 1.0 &  &  & Float64 \\\\\n",
       "\t8 & hsd08 & 0.0041072 & 0.0 & 0.0 & 1.0 &  &  & Float64 \\\\\n",
       "\t9 & hsd911 & 0.0221789 & 0.0 & 0.0 & 1.0 &  &  & Float64 \\\\\n",
       "\t10 & hsg & 0.247288 & 0.0 & 0.0 & 1.0 &  &  & Float64 \\\\\n",
       "\t11 & cg & 0.283431 & 0.0 & 0.0 & 1.0 &  &  & Float64 \\\\\n",
       "\t12 & ad & 0.1558 & 0.0 & 0.0 & 1.0 &  &  & Float64 \\\\\n",
       "\t13 & mw & 0.291645 & 0.0 & 0.0 & 1.0 &  &  & Float64 \\\\\n",
       "\t14 & so & 0.282849 & 0.0 & 0.0 & 1.0 &  &  & Float64 \\\\\n",
       "\t15 & we & 0.199644 & 0.0 & 0.0 & 1.0 &  &  & Float64 \\\\\n",
       "\t16 & exp1 & 18.7569 & 0.0 & 19.0 & 43.5 &  &  & Float64 \\\\\n",
       "\t17 & exp2 & 4.28681 & 0.0 & 3.61 & 18.9225 &  &  & Float64 \\\\\n",
       "\t18 & exp3 & 10.876 & 0.0 & 6.859 & 82.3129 &  &  & Float64 \\\\\n",
       "\t19 & exp4 & 29.4088 & 0.0 & 13.0321 & 358.061 &  &  & Float64 \\\\\n",
       "\t20 & weight & 1513.84 & 106.79 & 1472.1 & 6444.15 &  &  & Float64 \\\\\n",
       "\t21 & married & 0.705685 & 0 & 1.0 & 1 &  &  & Bool \\\\\n",
       "\t22 & ne & 0.225862 & 0 & 0.0 & 1 &  &  & Bool \\\\\n",
       "\t23 & sc & 0.287196 & 0 & 0.0 & 1 &  &  & Bool \\\\\n",
       "\\end{tabular}\n"
      ],
      "text/plain": [
       "23×8 DataFrame. Omitted printing of 2 columns\n",
       "│ Row │ variable     │ mean       │ min      │ median  │ max     │ nunique │\n",
       "│     │ \u001b[90mSymbol\u001b[39m       │ \u001b[90mFloat64\u001b[39m    │ \u001b[90mReal\u001b[39m     │ \u001b[90mFloat64\u001b[39m │ \u001b[90mReal\u001b[39m    │ \u001b[90mNothing\u001b[39m │\n",
       "├─────┼──────────────┼────────────┼──────────┼─────────┼─────────┼─────────┤\n",
       "│ 1   │ year         │ 2012.0     │ 2012.0   │ 2012.0  │ 2012.0  │         │\n",
       "│ 2   │ lnw          │ 2.79701    │ -7.46987 │ 2.77454 │ 5.97094 │         │\n",
       "│ 3   │ female       │ 0.428757   │ 0.0      │ 0.0     │ 1.0     │         │\n",
       "│ 4   │ widowed      │ 0.00797481 │ 0.0      │ 0.0     │ 1.0     │         │\n",
       "│ 5   │ divorced     │ 0.113393   │ 0.0      │ 0.0     │ 1.0     │         │\n",
       "│ 6   │ separated    │ 0.0165999  │ 0.0      │ 0.0     │ 1.0     │         │\n",
       "│ 7   │ nevermarried │ 0.156347   │ 0.0      │ 0.0     │ 1.0     │         │\n",
       "│ 8   │ hsd08        │ 0.0041072  │ 0.0      │ 0.0     │ 1.0     │         │\n",
       "│ 9   │ hsd911       │ 0.0221789  │ 0.0      │ 0.0     │ 1.0     │         │\n",
       "│ 10  │ hsg          │ 0.247288   │ 0.0      │ 0.0     │ 1.0     │         │\n",
       "│ 11  │ cg           │ 0.283431   │ 0.0      │ 0.0     │ 1.0     │         │\n",
       "│ 12  │ ad           │ 0.1558     │ 0.0      │ 0.0     │ 1.0     │         │\n",
       "│ 13  │ mw           │ 0.291645   │ 0.0      │ 0.0     │ 1.0     │         │\n",
       "│ 14  │ so           │ 0.282849   │ 0.0      │ 0.0     │ 1.0     │         │\n",
       "│ 15  │ we           │ 0.199644   │ 0.0      │ 0.0     │ 1.0     │         │\n",
       "│ 16  │ exp1         │ 18.7569    │ 0.0      │ 19.0    │ 43.5    │         │\n",
       "│ 17  │ exp2         │ 4.28681    │ 0.0      │ 3.61    │ 18.9225 │         │\n",
       "│ 18  │ exp3         │ 10.876     │ 0.0      │ 6.859   │ 82.3129 │         │\n",
       "│ 19  │ exp4         │ 29.4088    │ 0.0      │ 13.0321 │ 358.061 │         │\n",
       "│ 20  │ weight       │ 1513.84    │ 106.79   │ 1472.1  │ 6444.15 │         │\n",
       "│ 21  │ married      │ 0.705685   │ 0        │ 1.0     │ 1       │         │\n",
       "│ 22  │ ne           │ 0.225862   │ 0        │ 0.0     │ 1       │         │\n",
       "│ 23  │ sc           │ 0.287196   │ 0        │ 0.0     │ 1       │         │"
      ]
     },
     "execution_count": 4,
     "metadata": {},
     "output_type": "execute_result"
    }
   ],
   "source": [
    "describe(data)"
   ]
  },
  {
   "cell_type": "code",
   "execution_count": 5,
   "id": "5f5b6580",
   "metadata": {},
   "outputs": [
    {
     "data": {
      "text/html": [
       "<table class=\"data-frame\"><thead><tr><th></th><th>year</th><th>lnw</th><th>female</th><th>widowed</th><th>divorced</th><th>separated</th><th>nevermarried</th><th>hsd08</th></tr><tr><th></th><th>Float64</th><th>Float64</th><th>Float64</th><th>Float64</th><th>Float64</th><th>Float64</th><th>Float64</th><th>Float64</th></tr></thead><tbody><p>7,305 rows × 23 columns (omitted printing of 15 columns)</p><tr><th>1</th><td>2012.0</td><td>1.90954</td><td>1.0</td><td>0.0</td><td>0.0</td><td>0.0</td><td>0.0</td><td>0.0</td></tr><tr><th>2</th><td>2012.0</td><td>2.00283</td><td>0.0</td><td>0.0</td><td>0.0</td><td>0.0</td><td>0.0</td><td>0.0</td></tr><tr><th>3</th><td>2012.0</td><td>0.289633</td><td>1.0</td><td>0.0</td><td>0.0</td><td>0.0</td><td>0.0</td><td>0.0</td></tr><tr><th>4</th><td>2012.0</td><td>3.14226</td><td>1.0</td><td>0.0</td><td>1.0</td><td>0.0</td><td>0.0</td><td>0.0</td></tr><tr><th>5</th><td>2012.0</td><td>1.75389</td><td>0.0</td><td>0.0</td><td>0.0</td><td>0.0</td><td>1.0</td><td>0.0</td></tr><tr><th>6</th><td>2012.0</td><td>2.05892</td><td>0.0</td><td>0.0</td><td>0.0</td><td>0.0</td><td>0.0</td><td>0.0</td></tr><tr><th>7</th><td>2012.0</td><td>2.42792</td><td>0.0</td><td>0.0</td><td>0.0</td><td>0.0</td><td>0.0</td><td>0.0</td></tr><tr><th>8</th><td>2012.0</td><td>3.37343</td><td>0.0</td><td>0.0</td><td>0.0</td><td>0.0</td><td>0.0</td><td>0.0</td></tr><tr><th>9</th><td>2012.0</td><td>2.52323</td><td>1.0</td><td>0.0</td><td>0.0</td><td>0.0</td><td>0.0</td><td>0.0</td></tr><tr><th>10</th><td>2012.0</td><td>1.8693</td><td>1.0</td><td>0.0</td><td>0.0</td><td>0.0</td><td>0.0</td><td>0.0</td></tr><tr><th>11</th><td>2012.0</td><td>2.43361</td><td>0.0</td><td>0.0</td><td>0.0</td><td>0.0</td><td>0.0</td><td>0.0</td></tr><tr><th>12</th><td>2012.0</td><td>2.70555</td><td>0.0</td><td>0.0</td><td>0.0</td><td>0.0</td><td>0.0</td><td>0.0</td></tr><tr><th>13</th><td>2012.0</td><td>2.43361</td><td>0.0</td><td>0.0</td><td>0.0</td><td>0.0</td><td>0.0</td><td>0.0</td></tr><tr><th>14</th><td>2012.0</td><td>1.69666</td><td>0.0</td><td>0.0</td><td>0.0</td><td>0.0</td><td>1.0</td><td>0.0</td></tr><tr><th>15</th><td>2012.0</td><td>2.26371</td><td>1.0</td><td>0.0</td><td>1.0</td><td>0.0</td><td>0.0</td><td>0.0</td></tr><tr><th>16</th><td>2012.0</td><td>2.78779</td><td>1.0</td><td>0.0</td><td>0.0</td><td>0.0</td><td>0.0</td><td>0.0</td></tr><tr><th>17</th><td>2012.0</td><td>2.65676</td><td>1.0</td><td>0.0</td><td>0.0</td><td>0.0</td><td>0.0</td><td>0.0</td></tr><tr><th>18</th><td>2012.0</td><td>2.83111</td><td>0.0</td><td>0.0</td><td>0.0</td><td>0.0</td><td>0.0</td><td>0.0</td></tr><tr><th>19</th><td>2012.0</td><td>2.05892</td><td>1.0</td><td>0.0</td><td>0.0</td><td>0.0</td><td>0.0</td><td>0.0</td></tr><tr><th>20</th><td>2012.0</td><td>2.97521</td><td>1.0</td><td>0.0</td><td>0.0</td><td>0.0</td><td>1.0</td><td>0.0</td></tr><tr><th>21</th><td>2012.0</td><td>2.1829</td><td>1.0</td><td>0.0</td><td>0.0</td><td>0.0</td><td>1.0</td><td>0.0</td></tr><tr><th>22</th><td>2012.0</td><td>3.4189</td><td>0.0</td><td>0.0</td><td>0.0</td><td>0.0</td><td>0.0</td><td>0.0</td></tr><tr><th>23</th><td>2012.0</td><td>2.83908</td><td>0.0</td><td>0.0</td><td>0.0</td><td>0.0</td><td>1.0</td><td>0.0</td></tr><tr><th>24</th><td>2012.0</td><td>2.95686</td><td>0.0</td><td>0.0</td><td>0.0</td><td>0.0</td><td>0.0</td><td>0.0</td></tr><tr><th>25</th><td>2012.0</td><td>2.87545</td><td>1.0</td><td>0.0</td><td>0.0</td><td>0.0</td><td>1.0</td><td>0.0</td></tr><tr><th>26</th><td>2012.0</td><td>2.53897</td><td>0.0</td><td>0.0</td><td>0.0</td><td>0.0</td><td>0.0</td><td>0.0</td></tr><tr><th>27</th><td>2012.0</td><td>2.36907</td><td>1.0</td><td>0.0</td><td>0.0</td><td>0.0</td><td>1.0</td><td>0.0</td></tr><tr><th>28</th><td>2012.0</td><td>1.96361</td><td>1.0</td><td>0.0</td><td>0.0</td><td>0.0</td><td>0.0</td><td>0.0</td></tr><tr><th>29</th><td>2012.0</td><td>2.65676</td><td>0.0</td><td>0.0</td><td>0.0</td><td>0.0</td><td>0.0</td><td>0.0</td></tr><tr><th>30</th><td>2012.0</td><td>2.36907</td><td>0.0</td><td>0.0</td><td>0.0</td><td>0.0</td><td>1.0</td><td>0.0</td></tr><tr><th>&vellip;</th><td>&vellip;</td><td>&vellip;</td><td>&vellip;</td><td>&vellip;</td><td>&vellip;</td><td>&vellip;</td><td>&vellip;</td><td>&vellip;</td></tr></tbody></table>"
      ],
      "text/latex": [
       "\\begin{tabular}{r|ccccccccc}\n",
       "\t& year & lnw & female & widowed & divorced & separated & nevermarried & hsd08 & \\\\\n",
       "\t\\hline\n",
       "\t& Float64 & Float64 & Float64 & Float64 & Float64 & Float64 & Float64 & Float64 & \\\\\n",
       "\t\\hline\n",
       "\t1 & 2012.0 & 1.90954 & 1.0 & 0.0 & 0.0 & 0.0 & 0.0 & 0.0 & $\\dots$ \\\\\n",
       "\t2 & 2012.0 & 2.00283 & 0.0 & 0.0 & 0.0 & 0.0 & 0.0 & 0.0 & $\\dots$ \\\\\n",
       "\t3 & 2012.0 & 0.289633 & 1.0 & 0.0 & 0.0 & 0.0 & 0.0 & 0.0 & $\\dots$ \\\\\n",
       "\t4 & 2012.0 & 3.14226 & 1.0 & 0.0 & 1.0 & 0.0 & 0.0 & 0.0 & $\\dots$ \\\\\n",
       "\t5 & 2012.0 & 1.75389 & 0.0 & 0.0 & 0.0 & 0.0 & 1.0 & 0.0 & $\\dots$ \\\\\n",
       "\t6 & 2012.0 & 2.05892 & 0.0 & 0.0 & 0.0 & 0.0 & 0.0 & 0.0 & $\\dots$ \\\\\n",
       "\t7 & 2012.0 & 2.42792 & 0.0 & 0.0 & 0.0 & 0.0 & 0.0 & 0.0 & $\\dots$ \\\\\n",
       "\t8 & 2012.0 & 3.37343 & 0.0 & 0.0 & 0.0 & 0.0 & 0.0 & 0.0 & $\\dots$ \\\\\n",
       "\t9 & 2012.0 & 2.52323 & 1.0 & 0.0 & 0.0 & 0.0 & 0.0 & 0.0 & $\\dots$ \\\\\n",
       "\t10 & 2012.0 & 1.8693 & 1.0 & 0.0 & 0.0 & 0.0 & 0.0 & 0.0 & $\\dots$ \\\\\n",
       "\t11 & 2012.0 & 2.43361 & 0.0 & 0.0 & 0.0 & 0.0 & 0.0 & 0.0 & $\\dots$ \\\\\n",
       "\t12 & 2012.0 & 2.70555 & 0.0 & 0.0 & 0.0 & 0.0 & 0.0 & 0.0 & $\\dots$ \\\\\n",
       "\t13 & 2012.0 & 2.43361 & 0.0 & 0.0 & 0.0 & 0.0 & 0.0 & 0.0 & $\\dots$ \\\\\n",
       "\t14 & 2012.0 & 1.69666 & 0.0 & 0.0 & 0.0 & 0.0 & 1.0 & 0.0 & $\\dots$ \\\\\n",
       "\t15 & 2012.0 & 2.26371 & 1.0 & 0.0 & 1.0 & 0.0 & 0.0 & 0.0 & $\\dots$ \\\\\n",
       "\t16 & 2012.0 & 2.78779 & 1.0 & 0.0 & 0.0 & 0.0 & 0.0 & 0.0 & $\\dots$ \\\\\n",
       "\t17 & 2012.0 & 2.65676 & 1.0 & 0.0 & 0.0 & 0.0 & 0.0 & 0.0 & $\\dots$ \\\\\n",
       "\t18 & 2012.0 & 2.83111 & 0.0 & 0.0 & 0.0 & 0.0 & 0.0 & 0.0 & $\\dots$ \\\\\n",
       "\t19 & 2012.0 & 2.05892 & 1.0 & 0.0 & 0.0 & 0.0 & 0.0 & 0.0 & $\\dots$ \\\\\n",
       "\t20 & 2012.0 & 2.97521 & 1.0 & 0.0 & 0.0 & 0.0 & 1.0 & 0.0 & $\\dots$ \\\\\n",
       "\t21 & 2012.0 & 2.1829 & 1.0 & 0.0 & 0.0 & 0.0 & 1.0 & 0.0 & $\\dots$ \\\\\n",
       "\t22 & 2012.0 & 3.4189 & 0.0 & 0.0 & 0.0 & 0.0 & 0.0 & 0.0 & $\\dots$ \\\\\n",
       "\t23 & 2012.0 & 2.83908 & 0.0 & 0.0 & 0.0 & 0.0 & 1.0 & 0.0 & $\\dots$ \\\\\n",
       "\t24 & 2012.0 & 2.95686 & 0.0 & 0.0 & 0.0 & 0.0 & 0.0 & 0.0 & $\\dots$ \\\\\n",
       "\t25 & 2012.0 & 2.87545 & 1.0 & 0.0 & 0.0 & 0.0 & 1.0 & 0.0 & $\\dots$ \\\\\n",
       "\t26 & 2012.0 & 2.53897 & 0.0 & 0.0 & 0.0 & 0.0 & 0.0 & 0.0 & $\\dots$ \\\\\n",
       "\t27 & 2012.0 & 2.36907 & 1.0 & 0.0 & 0.0 & 0.0 & 1.0 & 0.0 & $\\dots$ \\\\\n",
       "\t28 & 2012.0 & 1.96361 & 1.0 & 0.0 & 0.0 & 0.0 & 0.0 & 0.0 & $\\dots$ \\\\\n",
       "\t29 & 2012.0 & 2.65676 & 0.0 & 0.0 & 0.0 & 0.0 & 0.0 & 0.0 & $\\dots$ \\\\\n",
       "\t30 & 2012.0 & 2.36907 & 0.0 & 0.0 & 0.0 & 0.0 & 1.0 & 0.0 & $\\dots$ \\\\\n",
       "\t$\\dots$ & $\\dots$ & $\\dots$ & $\\dots$ & $\\dots$ & $\\dots$ & $\\dots$ & $\\dots$ & $\\dots$ &  \\\\\n",
       "\\end{tabular}\n"
      ],
      "text/plain": [
       "7305×23 DataFrame. Omitted printing of 17 columns\n",
       "│ Row  │ year    │ lnw      │ female  │ widowed │ divorced │ separated │\n",
       "│      │ \u001b[90mFloat64\u001b[39m │ \u001b[90mFloat64\u001b[39m  │ \u001b[90mFloat64\u001b[39m │ \u001b[90mFloat64\u001b[39m │ \u001b[90mFloat64\u001b[39m  │ \u001b[90mFloat64\u001b[39m   │\n",
       "├──────┼─────────┼──────────┼─────────┼─────────┼──────────┼───────────┤\n",
       "│ 1    │ 2012.0  │ 1.90954  │ 1.0     │ 0.0     │ 0.0      │ 0.0       │\n",
       "│ 2    │ 2012.0  │ 2.00283  │ 0.0     │ 0.0     │ 0.0      │ 0.0       │\n",
       "│ 3    │ 2012.0  │ 0.289633 │ 1.0     │ 0.0     │ 0.0      │ 0.0       │\n",
       "│ 4    │ 2012.0  │ 3.14226  │ 1.0     │ 0.0     │ 1.0      │ 0.0       │\n",
       "│ 5    │ 2012.0  │ 1.75389  │ 0.0     │ 0.0     │ 0.0      │ 0.0       │\n",
       "│ 6    │ 2012.0  │ 2.05892  │ 0.0     │ 0.0     │ 0.0      │ 0.0       │\n",
       "│ 7    │ 2012.0  │ 2.42792  │ 0.0     │ 0.0     │ 0.0      │ 0.0       │\n",
       "│ 8    │ 2012.0  │ 3.37343  │ 0.0     │ 0.0     │ 0.0      │ 0.0       │\n",
       "│ 9    │ 2012.0  │ 2.52323  │ 1.0     │ 0.0     │ 0.0      │ 0.0       │\n",
       "│ 10   │ 2012.0  │ 1.8693   │ 1.0     │ 0.0     │ 0.0      │ 0.0       │\n",
       "⋮\n",
       "│ 7295 │ 2012.0  │ 3.44521  │ 0.0     │ 0.0     │ 0.0      │ 0.0       │\n",
       "│ 7296 │ 2012.0  │ 3.28537  │ 1.0     │ 0.0     │ 0.0      │ 0.0       │\n",
       "│ 7297 │ 2012.0  │ 2.50261  │ 1.0     │ 0.0     │ 0.0      │ 0.0       │\n",
       "│ 7298 │ 2012.0  │ 3.53223  │ 0.0     │ 0.0     │ 0.0      │ 0.0       │\n",
       "│ 7299 │ 2012.0  │ 2.52323  │ 1.0     │ 0.0     │ 0.0      │ 0.0       │\n",
       "│ 7300 │ 2012.0  │ 3.06222  │ 1.0     │ 0.0     │ 0.0      │ 0.0       │\n",
       "│ 7301 │ 2012.0  │ 2.93817  │ 0.0     │ 0.0     │ 0.0      │ 1.0       │\n",
       "│ 7302 │ 2012.0  │ 3.14226  │ 1.0     │ 0.0     │ 0.0      │ 0.0       │\n",
       "│ 7303 │ 2012.0  │ 3.57105  │ 0.0     │ 0.0     │ 0.0      │ 0.0       │\n",
       "│ 7304 │ 2012.0  │ 3.14226  │ 1.0     │ 0.0     │ 0.0      │ 0.0       │\n",
       "│ 7305 │ 2012.0  │ 3.14226  │ 0.0     │ 0.0     │ 0.0      │ 0.0       │"
      ]
     },
     "execution_count": 5,
     "metadata": {},
     "output_type": "execute_result"
    }
   ],
   "source": [
    "# Splitting the data\n",
    "Random.seed!(1234) # So that the choice of observations is made randomly\n",
    "training = sample( collect(1:nrow( data ) ), trunc(Int, 3 * nrow( data ) / 4 ),  replace= false ) # It is indicated that 75% of the data will be chosen to use as training\n",
    "\n",
    "data_train = data[ vec(training), : ]\n",
    "data_test = data[ Not(training), : ] # In this line, it is specified that the rest of the data will be used to test the models"
   ]
  },
  {
   "cell_type": "code",
   "execution_count": 6,
   "id": "940c61d8",
   "metadata": {},
   "outputs": [
    {
     "data": {
      "text/plain": [
       "\"lnw ~ female + female : (widowed + divorced + separated + nevermarried +\\nhsd08 + hsd911 + hsg + cg + ad + mw + so + we + exp1 + exp2 + exp3) + (widowed + divorced + separated + nevermarried + hsd08 + hsd911 + hsg + cg + ad + mw + so +we + exp1 + exp2 + exp3) ^ 2\""
      ]
     },
     "execution_count": 6,
     "metadata": {},
     "output_type": "execute_result"
    }
   ],
   "source": [
    "# We define the models: basic and flexible\n",
    "\n",
    "X_basic = \"lnw ~ female + female : (widowed + divorced + separated + nevermarried +\n",
    "hsd08 + hsd911 + hsg + cg + ad + mw + so + we + exp1 + exp2 + exp3)\"\n",
    "X_flex = \"lnw ~ female + female : (widowed + divorced + separated + nevermarried +\n",
    "hsd08 + hsd911 + hsg + cg + ad + mw + so + we + exp1 + exp2 + exp3) + (widowed + divorced + separated + nevermarried + hsd08 + hsd911 + hsg + cg + ad + mw + so +we + exp1 + exp2 + exp3) ^ 2\""
   ]
  },
  {
   "cell_type": "code",
   "execution_count": 15,
   "id": "7b27b0b8",
   "metadata": {},
   "outputs": [
    {
     "data": {
      "text/plain": [
       "FormulaTerm\n",
       "Response:\n",
       "  lnw(unknown)\n",
       "Predictors:\n",
       "  female(unknown)\n",
       "  widowed(unknown)\n",
       "  divorced(unknown)\n",
       "  separated(unknown)\n",
       "  nevermarried(unknown)\n",
       "  hsd08(unknown)\n",
       "  hsd911(unknown)\n",
       "  hsg(unknown)\n",
       "  cg(unknown)\n",
       "  ad(unknown)\n",
       "  mw(unknown)\n",
       "  so(unknown)\n",
       "  we(unknown)\n",
       "  exp1(unknown)\n",
       "  exp2(unknown)\n",
       "  exp3(unknown)\n",
       "  (widowed,divorced,separated,nevermarried,hsd08,hsd911,hsg,cg,ad,mw,so,we,exp1,exp2,exp3)->(widowed + divorced + separated + nevermarried + hsd08 + hsd911 + hsg + cg + ad + mw + so + we + exp1 + exp2 + exp3) ^ 2\n",
       "  female(unknown) & widowed(unknown)\n",
       "  female(unknown) & divorced(unknown)\n",
       "  female(unknown) & separated(unknown)\n",
       "  female(unknown) & nevermarried(unknown)\n",
       "  female(unknown) & hsd08(unknown)\n",
       "  female(unknown) & hsd911(unknown)\n",
       "  female(unknown) & hsg(unknown)\n",
       "  female(unknown) & cg(unknown)\n",
       "  female(unknown) & ad(unknown)\n",
       "  female(unknown) & mw(unknown)\n",
       "  female(unknown) & so(unknown)\n",
       "  female(unknown) & we(unknown)\n",
       "  female(unknown) & exp1(unknown)\n",
       "  female(unknown) & exp2(unknown)\n",
       "  female(unknown) & exp3(unknown)"
      ]
     },
     "execution_count": 15,
     "metadata": {},
     "output_type": "execute_result"
    }
   ],
   "source": [
    "# Also the formulas to put in the regression models\n",
    "\n",
    "formula_basic = @formula(lnw ~ female + female * (widowed + divorced + separated + nevermarried +\n",
    "hsd08 + hsd911 + hsg + cg + ad + mw + so + we + exp1 + exp2 + exp3))\n",
    "formula_flex = @formula(lnw ~ female + female * (widowed + divorced + separated + nevermarried +\n",
    "hsd08 + hsd911 + hsg + cg + ad + mw + so + we + exp1 + exp2 + exp3) + (widowed + divorced + separated + nevermarried + hsd08 + hsd911 + hsg + cg + ad + mw + so +we + exp1 + exp2 + exp3) ^ 2)"
   ]
  },
  {
   "cell_type": "code",
   "execution_count": 16,
   "id": "85b062ff",
   "metadata": {},
   "outputs": [
    {
     "data": {
      "text/plain": [
       "32"
      ]
     },
     "execution_count": 16,
     "metadata": {},
     "output_type": "execute_result"
    }
   ],
   "source": [
    "model_X_basic_train = ModelMatrix(ModelFrame(formula_basic,data_train)).m\n",
    "model_X_basic_test = ModelMatrix(ModelFrame(formula_basic,data_test)).m\n",
    "p_basic = size(model_X_basic_test)[2]"
   ]
  },
  {
   "cell_type": "code",
   "execution_count": 17,
   "id": "868d5969",
   "metadata": {},
   "outputs": [
    {
     "data": {
      "text/plain": [
       "33"
      ]
     },
     "execution_count": 17,
     "metadata": {},
     "output_type": "execute_result"
    }
   ],
   "source": [
    "model_X_flex_train = ModelMatrix(ModelFrame(formula_flex,data_train)).m\n",
    "model_X_flex_test = ModelMatrix(ModelFrame(formula_flex,data_test)).m\n",
    "p_flex = size(model_X_flex_test)[2]"
   ]
  },
  {
   "cell_type": "code",
   "execution_count": 18,
   "id": "b1eba0d0",
   "metadata": {},
   "outputs": [
    {
     "data": {
      "text/html": [
       "<table class=\"data-frame\"><thead><tr><th></th><th>lnw</th></tr><tr><th></th><th>Float64</th></tr></thead><tbody><p>7,305 rows × 1 columns</p><tr><th>1</th><td>1.90954</td></tr><tr><th>2</th><td>2.00283</td></tr><tr><th>3</th><td>0.289633</td></tr><tr><th>4</th><td>3.14226</td></tr><tr><th>5</th><td>1.75389</td></tr><tr><th>6</th><td>2.05892</td></tr><tr><th>7</th><td>2.42792</td></tr><tr><th>8</th><td>3.37343</td></tr><tr><th>9</th><td>2.52323</td></tr><tr><th>10</th><td>1.8693</td></tr><tr><th>11</th><td>2.43361</td></tr><tr><th>12</th><td>2.70555</td></tr><tr><th>13</th><td>2.43361</td></tr><tr><th>14</th><td>1.69666</td></tr><tr><th>15</th><td>2.26371</td></tr><tr><th>16</th><td>2.78779</td></tr><tr><th>17</th><td>2.65676</td></tr><tr><th>18</th><td>2.83111</td></tr><tr><th>19</th><td>2.05892</td></tr><tr><th>20</th><td>2.97521</td></tr><tr><th>21</th><td>2.1829</td></tr><tr><th>22</th><td>3.4189</td></tr><tr><th>23</th><td>2.83908</td></tr><tr><th>24</th><td>2.95686</td></tr><tr><th>25</th><td>2.87545</td></tr><tr><th>26</th><td>2.53897</td></tr><tr><th>27</th><td>2.36907</td></tr><tr><th>28</th><td>1.96361</td></tr><tr><th>29</th><td>2.65676</td></tr><tr><th>30</th><td>2.36907</td></tr><tr><th>&vellip;</th><td>&vellip;</td></tr></tbody></table>"
      ],
      "text/latex": [
       "\\begin{tabular}{r|c}\n",
       "\t& lnw\\\\\n",
       "\t\\hline\n",
       "\t& Float64\\\\\n",
       "\t\\hline\n",
       "\t1 & 1.90954 \\\\\n",
       "\t2 & 2.00283 \\\\\n",
       "\t3 & 0.289633 \\\\\n",
       "\t4 & 3.14226 \\\\\n",
       "\t5 & 1.75389 \\\\\n",
       "\t6 & 2.05892 \\\\\n",
       "\t7 & 2.42792 \\\\\n",
       "\t8 & 3.37343 \\\\\n",
       "\t9 & 2.52323 \\\\\n",
       "\t10 & 1.8693 \\\\\n",
       "\t11 & 2.43361 \\\\\n",
       "\t12 & 2.70555 \\\\\n",
       "\t13 & 2.43361 \\\\\n",
       "\t14 & 1.69666 \\\\\n",
       "\t15 & 2.26371 \\\\\n",
       "\t16 & 2.78779 \\\\\n",
       "\t17 & 2.65676 \\\\\n",
       "\t18 & 2.83111 \\\\\n",
       "\t19 & 2.05892 \\\\\n",
       "\t20 & 2.97521 \\\\\n",
       "\t21 & 2.1829 \\\\\n",
       "\t22 & 3.4189 \\\\\n",
       "\t23 & 2.83908 \\\\\n",
       "\t24 & 2.95686 \\\\\n",
       "\t25 & 2.87545 \\\\\n",
       "\t26 & 2.53897 \\\\\n",
       "\t27 & 2.36907 \\\\\n",
       "\t28 & 1.96361 \\\\\n",
       "\t29 & 2.65676 \\\\\n",
       "\t30 & 2.36907 \\\\\n",
       "\t$\\dots$ & $\\dots$ \\\\\n",
       "\\end{tabular}\n"
      ],
      "text/plain": [
       "7305×1 DataFrame\n",
       "│ Row  │ lnw      │\n",
       "│      │ \u001b[90mFloat64\u001b[39m  │\n",
       "├──────┼──────────┤\n",
       "│ 1    │ 1.90954  │\n",
       "│ 2    │ 2.00283  │\n",
       "│ 3    │ 0.289633 │\n",
       "│ 4    │ 3.14226  │\n",
       "│ 5    │ 1.75389  │\n",
       "│ 6    │ 2.05892  │\n",
       "│ 7    │ 2.42792  │\n",
       "│ 8    │ 3.37343  │\n",
       "│ 9    │ 2.52323  │\n",
       "│ 10   │ 1.8693   │\n",
       "⋮\n",
       "│ 7295 │ 3.44521  │\n",
       "│ 7296 │ 3.28537  │\n",
       "│ 7297 │ 2.50261  │\n",
       "│ 7298 │ 3.53223  │\n",
       "│ 7299 │ 2.52323  │\n",
       "│ 7300 │ 3.06222  │\n",
       "│ 7301 │ 2.93817  │\n",
       "│ 7302 │ 3.14226  │\n",
       "│ 7303 │ 3.57105  │\n",
       "│ 7304 │ 3.14226  │\n",
       "│ 7305 │ 3.14226  │"
      ]
     },
     "execution_count": 18,
     "metadata": {},
     "output_type": "execute_result"
    }
   ],
   "source": [
    "Y_train = data_train[!, [\"lnw\"]] # Dataframe format\n",
    "Y_test = data_test[ !,  [\"lnw\"]]"
   ]
  },
  {
   "cell_type": "code",
   "execution_count": 19,
   "id": "71c7c28c",
   "metadata": {},
   "outputs": [
    {
     "data": {
      "text/plain": [
       "33"
      ]
     },
     "execution_count": 19,
     "metadata": {},
     "output_type": "execute_result"
    }
   ],
   "source": [
    "p_basic\n",
    "p_flex"
   ]
  },
  {
   "cell_type": "markdown",
   "id": "937b75e2",
   "metadata": {},
   "source": [
    "### OLS"
   ]
  },
  {
   "cell_type": "code",
   "execution_count": 20,
   "id": "9ae8ce50",
   "metadata": {},
   "outputs": [
    {
     "data": {
      "text/html": [
       "<table class=\"data-frame\"><thead><tr><th></th><th>year</th><th>lnw</th><th>female</th><th>widowed</th><th>divorced</th><th>separated</th><th>nevermarried</th><th>hsd08</th></tr><tr><th></th><th>Float64</th><th>Float64</th><th>Float64</th><th>Float64</th><th>Float64</th><th>Float64</th><th>Float64</th><th>Float64</th></tr></thead><tbody><p>21,912 rows × 23 columns (omitted printing of 15 columns)</p><tr><th>1</th><td>2012.0</td><td>3.2164</td><td>1.0</td><td>0.0</td><td>0.0</td><td>0.0</td><td>0.0</td><td>0.0</td></tr><tr><th>2</th><td>2012.0</td><td>3.46769</td><td>0.0</td><td>0.0</td><td>0.0</td><td>0.0</td><td>0.0</td><td>0.0</td></tr><tr><th>3</th><td>2012.0</td><td>2.75207</td><td>0.0</td><td>0.0</td><td>0.0</td><td>0.0</td><td>0.0</td><td>0.0</td></tr><tr><th>4</th><td>2012.0</td><td>3.38345</td><td>1.0</td><td>0.0</td><td>0.0</td><td>0.0</td><td>0.0</td><td>0.0</td></tr><tr><th>5</th><td>2012.0</td><td>3.18885</td><td>1.0</td><td>0.0</td><td>0.0</td><td>0.0</td><td>0.0</td><td>0.0</td></tr><tr><th>6</th><td>2012.0</td><td>2.46439</td><td>1.0</td><td>0.0</td><td>0.0</td><td>0.0</td><td>0.0</td><td>0.0</td></tr><tr><th>7</th><td>2012.0</td><td>3.22207</td><td>0.0</td><td>0.0</td><td>0.0</td><td>0.0</td><td>0.0</td><td>0.0</td></tr><tr><th>8</th><td>2012.0</td><td>2.26471</td><td>1.0</td><td>1.0</td><td>0.0</td><td>0.0</td><td>0.0</td><td>0.0</td></tr><tr><th>9</th><td>2012.0</td><td>2.99323</td><td>1.0</td><td>0.0</td><td>0.0</td><td>0.0</td><td>0.0</td><td>0.0</td></tr><tr><th>10</th><td>2012.0</td><td>2.05892</td><td>0.0</td><td>0.0</td><td>0.0</td><td>0.0</td><td>0.0</td><td>0.0</td></tr><tr><th>11</th><td>2012.0</td><td>3.12676</td><td>1.0</td><td>0.0</td><td>0.0</td><td>0.0</td><td>1.0</td><td>0.0</td></tr><tr><th>12</th><td>2012.0</td><td>3.83541</td><td>0.0</td><td>0.0</td><td>0.0</td><td>0.0</td><td>0.0</td><td>0.0</td></tr><tr><th>13</th><td>2012.0</td><td>2.62344</td><td>0.0</td><td>0.0</td><td>0.0</td><td>0.0</td><td>0.0</td><td>0.0</td></tr><tr><th>14</th><td>2012.0</td><td>2.77454</td><td>1.0</td><td>0.0</td><td>1.0</td><td>0.0</td><td>0.0</td><td>0.0</td></tr><tr><th>15</th><td>2012.0</td><td>2.74751</td><td>1.0</td><td>0.0</td><td>1.0</td><td>0.0</td><td>0.0</td><td>0.0</td></tr><tr><th>16</th><td>2012.0</td><td>2.09714</td><td>0.0</td><td>0.0</td><td>0.0</td><td>0.0</td><td>0.0</td><td>0.0</td></tr><tr><th>17</th><td>2012.0</td><td>2.91912</td><td>1.0</td><td>0.0</td><td>1.0</td><td>0.0</td><td>0.0</td><td>0.0</td></tr><tr><th>18</th><td>2012.0</td><td>3.24763</td><td>1.0</td><td>0.0</td><td>0.0</td><td>0.0</td><td>0.0</td><td>0.0</td></tr><tr><th>19</th><td>2012.0</td><td>1.96361</td><td>1.0</td><td>0.0</td><td>1.0</td><td>0.0</td><td>0.0</td><td>0.0</td></tr><tr><th>20</th><td>2012.0</td><td>2.33517</td><td>0.0</td><td>0.0</td><td>0.0</td><td>0.0</td><td>0.0</td><td>0.0</td></tr><tr><th>21</th><td>2012.0</td><td>3.01093</td><td>0.0</td><td>0.0</td><td>0.0</td><td>0.0</td><td>0.0</td><td>0.0</td></tr><tr><th>22</th><td>2012.0</td><td>2.05892</td><td>0.0</td><td>0.0</td><td>0.0</td><td>0.0</td><td>1.0</td><td>0.0</td></tr><tr><th>23</th><td>2012.0</td><td>1.99178</td><td>1.0</td><td>0.0</td><td>0.0</td><td>0.0</td><td>0.0</td><td>0.0</td></tr><tr><th>24</th><td>2012.0</td><td>2.50261</td><td>1.0</td><td>0.0</td><td>0.0</td><td>0.0</td><td>0.0</td><td>0.0</td></tr><tr><th>25</th><td>2012.0</td><td>2.70555</td><td>1.0</td><td>0.0</td><td>1.0</td><td>0.0</td><td>0.0</td><td>0.0</td></tr><tr><th>26</th><td>2012.0</td><td>2.4687</td><td>1.0</td><td>0.0</td><td>0.0</td><td>0.0</td><td>0.0</td><td>0.0</td></tr><tr><th>27</th><td>2012.0</td><td>3.0842</td><td>0.0</td><td>0.0</td><td>1.0</td><td>0.0</td><td>0.0</td><td>0.0</td></tr><tr><th>28</th><td>2012.0</td><td>3.12676</td><td>1.0</td><td>0.0</td><td>0.0</td><td>0.0</td><td>0.0</td><td>0.0</td></tr><tr><th>29</th><td>2012.0</td><td>2.8799</td><td>1.0</td><td>0.0</td><td>0.0</td><td>0.0</td><td>0.0</td><td>0.0</td></tr><tr><th>30</th><td>2012.0</td><td>2.85743</td><td>0.0</td><td>0.0</td><td>0.0</td><td>0.0</td><td>1.0</td><td>0.0</td></tr><tr><th>&vellip;</th><td>&vellip;</td><td>&vellip;</td><td>&vellip;</td><td>&vellip;</td><td>&vellip;</td><td>&vellip;</td><td>&vellip;</td><td>&vellip;</td></tr></tbody></table>"
      ],
      "text/latex": [
       "\\begin{tabular}{r|ccccccccc}\n",
       "\t& year & lnw & female & widowed & divorced & separated & nevermarried & hsd08 & \\\\\n",
       "\t\\hline\n",
       "\t& Float64 & Float64 & Float64 & Float64 & Float64 & Float64 & Float64 & Float64 & \\\\\n",
       "\t\\hline\n",
       "\t1 & 2012.0 & 3.2164 & 1.0 & 0.0 & 0.0 & 0.0 & 0.0 & 0.0 & $\\dots$ \\\\\n",
       "\t2 & 2012.0 & 3.46769 & 0.0 & 0.0 & 0.0 & 0.0 & 0.0 & 0.0 & $\\dots$ \\\\\n",
       "\t3 & 2012.0 & 2.75207 & 0.0 & 0.0 & 0.0 & 0.0 & 0.0 & 0.0 & $\\dots$ \\\\\n",
       "\t4 & 2012.0 & 3.38345 & 1.0 & 0.0 & 0.0 & 0.0 & 0.0 & 0.0 & $\\dots$ \\\\\n",
       "\t5 & 2012.0 & 3.18885 & 1.0 & 0.0 & 0.0 & 0.0 & 0.0 & 0.0 & $\\dots$ \\\\\n",
       "\t6 & 2012.0 & 2.46439 & 1.0 & 0.0 & 0.0 & 0.0 & 0.0 & 0.0 & $\\dots$ \\\\\n",
       "\t7 & 2012.0 & 3.22207 & 0.0 & 0.0 & 0.0 & 0.0 & 0.0 & 0.0 & $\\dots$ \\\\\n",
       "\t8 & 2012.0 & 2.26471 & 1.0 & 1.0 & 0.0 & 0.0 & 0.0 & 0.0 & $\\dots$ \\\\\n",
       "\t9 & 2012.0 & 2.99323 & 1.0 & 0.0 & 0.0 & 0.0 & 0.0 & 0.0 & $\\dots$ \\\\\n",
       "\t10 & 2012.0 & 2.05892 & 0.0 & 0.0 & 0.0 & 0.0 & 0.0 & 0.0 & $\\dots$ \\\\\n",
       "\t11 & 2012.0 & 3.12676 & 1.0 & 0.0 & 0.0 & 0.0 & 1.0 & 0.0 & $\\dots$ \\\\\n",
       "\t12 & 2012.0 & 3.83541 & 0.0 & 0.0 & 0.0 & 0.0 & 0.0 & 0.0 & $\\dots$ \\\\\n",
       "\t13 & 2012.0 & 2.62344 & 0.0 & 0.0 & 0.0 & 0.0 & 0.0 & 0.0 & $\\dots$ \\\\\n",
       "\t14 & 2012.0 & 2.77454 & 1.0 & 0.0 & 1.0 & 0.0 & 0.0 & 0.0 & $\\dots$ \\\\\n",
       "\t15 & 2012.0 & 2.74751 & 1.0 & 0.0 & 1.0 & 0.0 & 0.0 & 0.0 & $\\dots$ \\\\\n",
       "\t16 & 2012.0 & 2.09714 & 0.0 & 0.0 & 0.0 & 0.0 & 0.0 & 0.0 & $\\dots$ \\\\\n",
       "\t17 & 2012.0 & 2.91912 & 1.0 & 0.0 & 1.0 & 0.0 & 0.0 & 0.0 & $\\dots$ \\\\\n",
       "\t18 & 2012.0 & 3.24763 & 1.0 & 0.0 & 0.0 & 0.0 & 0.0 & 0.0 & $\\dots$ \\\\\n",
       "\t19 & 2012.0 & 1.96361 & 1.0 & 0.0 & 1.0 & 0.0 & 0.0 & 0.0 & $\\dots$ \\\\\n",
       "\t20 & 2012.0 & 2.33517 & 0.0 & 0.0 & 0.0 & 0.0 & 0.0 & 0.0 & $\\dots$ \\\\\n",
       "\t21 & 2012.0 & 3.01093 & 0.0 & 0.0 & 0.0 & 0.0 & 0.0 & 0.0 & $\\dots$ \\\\\n",
       "\t22 & 2012.0 & 2.05892 & 0.0 & 0.0 & 0.0 & 0.0 & 1.0 & 0.0 & $\\dots$ \\\\\n",
       "\t23 & 2012.0 & 1.99178 & 1.0 & 0.0 & 0.0 & 0.0 & 0.0 & 0.0 & $\\dots$ \\\\\n",
       "\t24 & 2012.0 & 2.50261 & 1.0 & 0.0 & 0.0 & 0.0 & 0.0 & 0.0 & $\\dots$ \\\\\n",
       "\t25 & 2012.0 & 2.70555 & 1.0 & 0.0 & 1.0 & 0.0 & 0.0 & 0.0 & $\\dots$ \\\\\n",
       "\t26 & 2012.0 & 2.4687 & 1.0 & 0.0 & 0.0 & 0.0 & 0.0 & 0.0 & $\\dots$ \\\\\n",
       "\t27 & 2012.0 & 3.0842 & 0.0 & 0.0 & 1.0 & 0.0 & 0.0 & 0.0 & $\\dots$ \\\\\n",
       "\t28 & 2012.0 & 3.12676 & 1.0 & 0.0 & 0.0 & 0.0 & 0.0 & 0.0 & $\\dots$ \\\\\n",
       "\t29 & 2012.0 & 2.8799 & 1.0 & 0.0 & 0.0 & 0.0 & 0.0 & 0.0 & $\\dots$ \\\\\n",
       "\t30 & 2012.0 & 2.85743 & 0.0 & 0.0 & 0.0 & 0.0 & 1.0 & 0.0 & $\\dots$ \\\\\n",
       "\t$\\dots$ & $\\dots$ & $\\dots$ & $\\dots$ & $\\dots$ & $\\dots$ & $\\dots$ & $\\dots$ & $\\dots$ &  \\\\\n",
       "\\end{tabular}\n"
      ],
      "text/plain": [
       "21912×23 DataFrame. Omitted printing of 17 columns\n",
       "│ Row   │ year    │ lnw      │ female  │ widowed │ divorced │ separated │\n",
       "│       │ \u001b[90mFloat64\u001b[39m │ \u001b[90mFloat64\u001b[39m  │ \u001b[90mFloat64\u001b[39m │ \u001b[90mFloat64\u001b[39m │ \u001b[90mFloat64\u001b[39m  │ \u001b[90mFloat64\u001b[39m   │\n",
       "├───────┼─────────┼──────────┼─────────┼─────────┼──────────┼───────────┤\n",
       "│ 1     │ 2012.0  │ 3.2164   │ 1.0     │ 0.0     │ 0.0      │ 0.0       │\n",
       "│ 2     │ 2012.0  │ 3.46769  │ 0.0     │ 0.0     │ 0.0      │ 0.0       │\n",
       "│ 3     │ 2012.0  │ 2.75207  │ 0.0     │ 0.0     │ 0.0      │ 0.0       │\n",
       "│ 4     │ 2012.0  │ 3.38345  │ 1.0     │ 0.0     │ 0.0      │ 0.0       │\n",
       "│ 5     │ 2012.0  │ 3.18885  │ 1.0     │ 0.0     │ 0.0      │ 0.0       │\n",
       "│ 6     │ 2012.0  │ 2.46439  │ 1.0     │ 0.0     │ 0.0      │ 0.0       │\n",
       "│ 7     │ 2012.0  │ 3.22207  │ 0.0     │ 0.0     │ 0.0      │ 0.0       │\n",
       "│ 8     │ 2012.0  │ 2.26471  │ 1.0     │ 1.0     │ 0.0      │ 0.0       │\n",
       "│ 9     │ 2012.0  │ 2.99323  │ 1.0     │ 0.0     │ 0.0      │ 0.0       │\n",
       "│ 10    │ 2012.0  │ 2.05892  │ 0.0     │ 0.0     │ 0.0      │ 0.0       │\n",
       "⋮\n",
       "│ 21902 │ 2012.0  │ 2.83908  │ 0.0     │ 0.0     │ 0.0      │ 0.0       │\n",
       "│ 21903 │ 2012.0  │ 4.24372  │ 0.0     │ 0.0     │ 0.0      │ 0.0       │\n",
       "│ 21904 │ 2012.0  │ 2.81091  │ 1.0     │ 0.0     │ 0.0      │ 0.0       │\n",
       "│ 21905 │ 2012.0  │ 3.66836  │ 1.0     │ 0.0     │ 0.0      │ 0.0       │\n",
       "│ 21906 │ 2012.0  │ 2.14593  │ 1.0     │ 0.0     │ 0.0      │ 0.0       │\n",
       "│ 21907 │ 2012.0  │ 0.577315 │ 0.0     │ 0.0     │ 0.0      │ 0.0       │\n",
       "│ 21908 │ 2012.0  │ 2.91912  │ 1.0     │ 0.0     │ 0.0      │ 0.0       │\n",
       "│ 21909 │ 2012.0  │ 3.02832  │ 1.0     │ 0.0     │ 0.0      │ 0.0       │\n",
       "│ 21910 │ 2012.0  │ 2.97521  │ 1.0     │ 0.0     │ 0.0      │ 0.0       │\n",
       "│ 21911 │ 2012.0  │ 2.52323  │ 1.0     │ 0.0     │ 0.0      │ 0.0       │\n",
       "│ 21912 │ 2012.0  │ 2.45423  │ 1.0     │ 0.0     │ 0.0      │ 0.0       │"
      ]
     },
     "execution_count": 20,
     "metadata": {},
     "output_type": "execute_result"
    }
   ],
   "source": [
    "data_train"
   ]
  },
  {
   "cell_type": "code",
   "execution_count": 21,
   "id": "86d1e2a2",
   "metadata": {},
   "outputs": [
    {
     "data": {
      "text/plain": [
       "StatsModels.TableRegressionModel{LinearModel{GLM.LmResp{Vector{Float64}}, GLM.DensePredChol{Float64, CholeskyPivoted{Float64, Matrix{Float64}}}}, Matrix{Float64}}\n",
       "\n",
       "lnw ~ 1 + female + widowed + divorced + separated + nevermarried + hsd08 + hsd911 + hsg + cg + ad + mw + so + we + exp1 + exp2 + exp3 + female & widowed + female & divorced + female & separated + female & nevermarried + female & hsd08 + female & hsd911 + female & hsg + female & cg + female & ad + female & mw + female & so + female & we + female & exp1 + female & exp2 + female & exp3\n",
       "\n",
       "Coefficients:\n",
       "─────────────────────────────────────────────────────────────────────────────────────────\n",
       "                             Coef.  Std. Error       t  Pr(>|t|)   Lower 95%    Upper 95%\n",
       "─────────────────────────────────────────────────────────────────────────────────────────\n",
       "(Intercept)             2.34182     0.0409058    57.25    <1e-99   2.26164     2.42199\n",
       "female                 -0.0921754   0.0589551    -1.56    0.1180  -0.207732    0.0233808\n",
       "widowed                -0.316147    0.0972987    -3.25    0.0012  -0.50686    -0.125435\n",
       "divorced               -0.137685    0.0185195    -7.43    <1e-12  -0.173984   -0.101385\n",
       "separated              -0.11824     0.0443848    -2.66    0.0077  -0.205237   -0.0312422\n",
       "nevermarried           -0.190473    0.0152294   -12.51    <1e-35  -0.220324   -0.160622\n",
       "hsd08                  -0.611335    0.0733406    -8.34    <1e-16  -0.755088   -0.467583\n",
       "hsd911                 -0.3464      0.0330016   -10.50    <1e-24  -0.411086   -0.281715\n",
       "hsg                    -0.159477    0.0141088   -11.30    <1e-28  -0.187131   -0.131822\n",
       "cg                      0.348383    0.0139556    24.96    <1e-99   0.321029    0.375737\n",
       "ad                      0.609436    0.0170348    35.78    <1e-99   0.576047    0.642826\n",
       "mw                     -0.103508    0.0145253    -7.13    <1e-11  -0.131978   -0.0750369\n",
       "so                     -0.0512791   0.0145746    -3.52    0.0004  -0.0798465  -0.0227118\n",
       "we                     -0.00450912  0.0156693    -0.29    0.7735  -0.035222    0.0262038\n",
       "exp1                    0.0619546   0.00743721    8.33    <1e-16   0.0473772   0.0765321\n",
       "exp2                   -0.215205    0.0437953    -4.91    <1e-06  -0.301047   -0.129363\n",
       "exp3                    0.0255993   0.0077607     3.30    0.0010   0.0103878   0.0408108\n",
       "female & widowed        0.193964    0.110191      1.76    0.0784  -0.0220191   0.409947\n",
       "female & divorced       0.129073    0.0251833     5.13    <1e-06   0.0797116   0.178434\n",
       "female & separated      0.0548532   0.061803      0.89    0.3748  -0.0662851   0.175992\n",
       "female & nevermarried   0.14494     0.0233027     6.22    <1e-09   0.099265    0.190615\n",
       "female & hsd08         -0.047998    0.142241     -0.34    0.7358  -0.3268      0.230804\n",
       "female & hsd911        -0.14299     0.060004     -2.38    0.0172  -0.260602   -0.0253778\n",
       "female & hsg           -0.0279594   0.0220522    -1.27    0.2049  -0.0711834   0.0152646\n",
       "female & cg             0.0221062   0.0210295     1.05    0.2932  -0.0191131   0.0633255\n",
       "female & ad            -0.0224316   0.0252083    -0.89    0.3736  -0.0718418   0.0269785\n",
       "female & mw            -0.00403765  0.0220635    -0.18    0.8548  -0.0472836   0.0392083\n",
       "female & so            -0.016904    0.0222354    -0.76    0.4471  -0.0604869   0.0266789\n",
       "female & we            -0.0114202   0.024332     -0.47    0.6388  -0.0591127   0.0362723\n",
       "female & exp1          -0.0242222   0.0108251    -2.24    0.0253  -0.0454401  -0.00300432\n",
       "female & exp2           0.0756169   0.064604      1.17    0.2418  -0.0510116   0.202245\n",
       "female & exp3          -0.00664449  0.011548     -0.58    0.5650  -0.0292795   0.0159905\n",
       "─────────────────────────────────────────────────────────────────────────────────────────"
      ]
     },
     "execution_count": 21,
     "metadata": {},
     "output_type": "execute_result"
    }
   ],
   "source": [
    "# The basic model is estimated with the train data\n",
    "\n",
    "fit_lm_basic = lm(formula_basic, data_train)"
   ]
  },
  {
   "cell_type": "code",
   "execution_count": 22,
   "id": "4c302a85",
   "metadata": {},
   "outputs": [
    {
     "name": "stdout",
     "output_type": "stream",
     "text": [
      "The mean squared error (MSE) using the basic model is equal to 0.33553945857548245"
     ]
    }
   ],
   "source": [
    "# Compute the Out-Of-Sample Performance\n",
    "yhat_lm_basic = GLM.predict( fit_lm_basic , data_test )\n",
    "res_lm_basic = ( Y_test[!,1] - yhat_lm_basic ).^ 2\n",
    "print(\"The mean squared error (MSE) using the basic model is equal to \" , mean( res_lm_basic ) ) # MSE OLS (basic model)"
   ]
  },
  {
   "cell_type": "markdown",
   "id": "f1f4c245",
   "metadata": {},
   "source": [
    "To determine the out-of-sample $MSE$ and the standard error in one step, we can use the function *lm*:"
   ]
  },
  {
   "cell_type": "code",
   "execution_count": 23,
   "id": "ab05539b",
   "metadata": {},
   "outputs": [
    {
     "data": {
      "text/plain": [
       "2-element Vector{Vector{Float64}}:\n",
       " [0.33553945857548245]\n",
       " [0.023402222812879212]"
      ]
     },
     "execution_count": 23,
     "metadata": {},
     "output_type": "execute_result"
    }
   ],
   "source": [
    "matrix_ones = ones( size(res_lm_basic)[1] ,1 )\n",
    "mean_residuals = lm(  matrix_ones, res_lm_basic )   # first argument (X), secind argument (Y)\n",
    "MSE_lm_basic = [ coef( mean_residuals ) , stderror( mean_residuals ) ]\n",
    "MSE_lm_basic"
   ]
  },
  {
   "cell_type": "markdown",
   "id": "90fc415d",
   "metadata": {},
   "source": [
    "We also compute the out-of-sample $R^2$:"
   ]
  },
  {
   "cell_type": "code",
   "execution_count": 24,
   "id": "02d584fa",
   "metadata": {},
   "outputs": [
    {
     "name": "stdout",
     "output_type": "stream",
     "text": [
      "The R^2 using the basic model is equal to 0.25170131309447474"
     ]
    }
   ],
   "source": [
    "R2_lm_basic = 1 .- ( MSE_lm_basic[1] / var( Y_test[!,1] ) )\n",
    "print( \"The R^2 using the basic model is equal to \", R2_lm_basic[1] ) # MSE OLS (basic model)"
   ]
  },
  {
   "cell_type": "markdown",
   "id": "539b973c",
   "metadata": {},
   "source": [
    "We repeat the same procedure for the flexible model."
   ]
  },
  {
   "cell_type": "code",
   "execution_count": 25,
   "id": "f3d3a1a4",
   "metadata": {},
   "outputs": [
    {
     "name": "stdout",
     "output_type": "stream",
     "text": [
      "The R^2 using the basic model is equal to 0.25167845703644043"
     ]
    }
   ],
   "source": [
    "# ols (flexible model)\n",
    "fit_lm_flex = lm( formula_flex, data_train ) \n",
    "yhat_lm_flex = GLM.predict( fit_lm_flex, data_test)\n",
    "\n",
    "res_lm_flex = ( Y_test[!,1] - yhat_lm_flex ) .^ 2\n",
    "mean_residuals = lm(  matrix_ones, res_lm_flex )\n",
    "MSE_lm_flex = [ coef( mean_residuals ) , stderror( mean_residuals ) ]\n",
    "\n",
    "R2_lm_flex = 1 .- ( MSE_lm_flex[1] / var( Y_test[!,1] ) )\n",
    "print( \"The R^2 using the basic model is equal to \", R2_lm_flex[1] ) # MSE OLS (flex model)"
   ]
  },
  {
   "cell_type": "markdown",
   "id": "3e0f39d6",
   "metadata": {},
   "source": [
    "* It is possible to see the results are very similar"
   ]
  },
  {
   "cell_type": "markdown",
   "id": "ceb7d208",
   "metadata": {},
   "source": [
    "### Lasso, Ridge and Elastic Net"
   ]
  },
  {
   "cell_type": "code",
   "execution_count": 30,
   "id": "18d48df3",
   "metadata": {},
   "outputs": [],
   "source": [
    "# load HDM package\n",
    "\n",
    "include(\"hdmjl/hdmjl.jl\")"
   ]
  },
  {
   "cell_type": "code",
   "execution_count": 31,
   "id": "965e7401",
   "metadata": {},
   "outputs": [
    {
     "data": {
      "text/html": [
       "<table class=\"data-frame\"><thead><tr><th></th><th>(Intercept)</th><th>female</th><th>widowed</th><th>divorced</th><th>separated</th><th>nevermarried</th><th>hsd08</th><th>hsd911</th></tr><tr><th></th><th>Float64</th><th>Float64</th><th>Float64</th><th>Float64</th><th>Float64</th><th>Float64</th><th>Float64</th><th>Float64</th></tr></thead><tbody><p>21,912 rows × 32 columns (omitted printing of 24 columns)</p><tr><th>1</th><td>1.0</td><td>1.0</td><td>0.0</td><td>0.0</td><td>0.0</td><td>0.0</td><td>0.0</td><td>0.0</td></tr><tr><th>2</th><td>1.0</td><td>0.0</td><td>0.0</td><td>0.0</td><td>0.0</td><td>0.0</td><td>0.0</td><td>0.0</td></tr><tr><th>3</th><td>1.0</td><td>0.0</td><td>0.0</td><td>0.0</td><td>0.0</td><td>0.0</td><td>0.0</td><td>0.0</td></tr><tr><th>4</th><td>1.0</td><td>1.0</td><td>0.0</td><td>0.0</td><td>0.0</td><td>0.0</td><td>0.0</td><td>0.0</td></tr><tr><th>5</th><td>1.0</td><td>1.0</td><td>0.0</td><td>0.0</td><td>0.0</td><td>0.0</td><td>0.0</td><td>0.0</td></tr><tr><th>6</th><td>1.0</td><td>1.0</td><td>0.0</td><td>0.0</td><td>0.0</td><td>0.0</td><td>0.0</td><td>0.0</td></tr><tr><th>7</th><td>1.0</td><td>0.0</td><td>0.0</td><td>0.0</td><td>0.0</td><td>0.0</td><td>0.0</td><td>0.0</td></tr><tr><th>8</th><td>1.0</td><td>1.0</td><td>1.0</td><td>0.0</td><td>0.0</td><td>0.0</td><td>0.0</td><td>0.0</td></tr><tr><th>9</th><td>1.0</td><td>1.0</td><td>0.0</td><td>0.0</td><td>0.0</td><td>0.0</td><td>0.0</td><td>0.0</td></tr><tr><th>10</th><td>1.0</td><td>0.0</td><td>0.0</td><td>0.0</td><td>0.0</td><td>0.0</td><td>0.0</td><td>0.0</td></tr><tr><th>11</th><td>1.0</td><td>1.0</td><td>0.0</td><td>0.0</td><td>0.0</td><td>1.0</td><td>0.0</td><td>0.0</td></tr><tr><th>12</th><td>1.0</td><td>0.0</td><td>0.0</td><td>0.0</td><td>0.0</td><td>0.0</td><td>0.0</td><td>0.0</td></tr><tr><th>13</th><td>1.0</td><td>0.0</td><td>0.0</td><td>0.0</td><td>0.0</td><td>0.0</td><td>0.0</td><td>0.0</td></tr><tr><th>14</th><td>1.0</td><td>1.0</td><td>0.0</td><td>1.0</td><td>0.0</td><td>0.0</td><td>0.0</td><td>0.0</td></tr><tr><th>15</th><td>1.0</td><td>1.0</td><td>0.0</td><td>1.0</td><td>0.0</td><td>0.0</td><td>0.0</td><td>0.0</td></tr><tr><th>16</th><td>1.0</td><td>0.0</td><td>0.0</td><td>0.0</td><td>0.0</td><td>0.0</td><td>0.0</td><td>0.0</td></tr><tr><th>17</th><td>1.0</td><td>1.0</td><td>0.0</td><td>1.0</td><td>0.0</td><td>0.0</td><td>0.0</td><td>0.0</td></tr><tr><th>18</th><td>1.0</td><td>1.0</td><td>0.0</td><td>0.0</td><td>0.0</td><td>0.0</td><td>0.0</td><td>0.0</td></tr><tr><th>19</th><td>1.0</td><td>1.0</td><td>0.0</td><td>1.0</td><td>0.0</td><td>0.0</td><td>0.0</td><td>0.0</td></tr><tr><th>20</th><td>1.0</td><td>0.0</td><td>0.0</td><td>0.0</td><td>0.0</td><td>0.0</td><td>0.0</td><td>0.0</td></tr><tr><th>21</th><td>1.0</td><td>0.0</td><td>0.0</td><td>0.0</td><td>0.0</td><td>0.0</td><td>0.0</td><td>0.0</td></tr><tr><th>22</th><td>1.0</td><td>0.0</td><td>0.0</td><td>0.0</td><td>0.0</td><td>1.0</td><td>0.0</td><td>0.0</td></tr><tr><th>23</th><td>1.0</td><td>1.0</td><td>0.0</td><td>0.0</td><td>0.0</td><td>0.0</td><td>0.0</td><td>0.0</td></tr><tr><th>24</th><td>1.0</td><td>1.0</td><td>0.0</td><td>0.0</td><td>0.0</td><td>0.0</td><td>0.0</td><td>0.0</td></tr><tr><th>25</th><td>1.0</td><td>1.0</td><td>0.0</td><td>1.0</td><td>0.0</td><td>0.0</td><td>0.0</td><td>0.0</td></tr><tr><th>26</th><td>1.0</td><td>1.0</td><td>0.0</td><td>0.0</td><td>0.0</td><td>0.0</td><td>0.0</td><td>0.0</td></tr><tr><th>27</th><td>1.0</td><td>0.0</td><td>0.0</td><td>1.0</td><td>0.0</td><td>0.0</td><td>0.0</td><td>0.0</td></tr><tr><th>28</th><td>1.0</td><td>1.0</td><td>0.0</td><td>0.0</td><td>0.0</td><td>0.0</td><td>0.0</td><td>0.0</td></tr><tr><th>29</th><td>1.0</td><td>1.0</td><td>0.0</td><td>0.0</td><td>0.0</td><td>0.0</td><td>0.0</td><td>0.0</td></tr><tr><th>30</th><td>1.0</td><td>0.0</td><td>0.0</td><td>0.0</td><td>0.0</td><td>1.0</td><td>0.0</td><td>0.0</td></tr><tr><th>&vellip;</th><td>&vellip;</td><td>&vellip;</td><td>&vellip;</td><td>&vellip;</td><td>&vellip;</td><td>&vellip;</td><td>&vellip;</td><td>&vellip;</td></tr></tbody></table>"
      ],
      "text/latex": [
       "\\begin{tabular}{r|ccccccccc}\n",
       "\t& (Intercept) & female & widowed & divorced & separated & nevermarried & hsd08 & hsd911 & \\\\\n",
       "\t\\hline\n",
       "\t& Float64 & Float64 & Float64 & Float64 & Float64 & Float64 & Float64 & Float64 & \\\\\n",
       "\t\\hline\n",
       "\t1 & 1.0 & 1.0 & 0.0 & 0.0 & 0.0 & 0.0 & 0.0 & 0.0 & $\\dots$ \\\\\n",
       "\t2 & 1.0 & 0.0 & 0.0 & 0.0 & 0.0 & 0.0 & 0.0 & 0.0 & $\\dots$ \\\\\n",
       "\t3 & 1.0 & 0.0 & 0.0 & 0.0 & 0.0 & 0.0 & 0.0 & 0.0 & $\\dots$ \\\\\n",
       "\t4 & 1.0 & 1.0 & 0.0 & 0.0 & 0.0 & 0.0 & 0.0 & 0.0 & $\\dots$ \\\\\n",
       "\t5 & 1.0 & 1.0 & 0.0 & 0.0 & 0.0 & 0.0 & 0.0 & 0.0 & $\\dots$ \\\\\n",
       "\t6 & 1.0 & 1.0 & 0.0 & 0.0 & 0.0 & 0.0 & 0.0 & 0.0 & $\\dots$ \\\\\n",
       "\t7 & 1.0 & 0.0 & 0.0 & 0.0 & 0.0 & 0.0 & 0.0 & 0.0 & $\\dots$ \\\\\n",
       "\t8 & 1.0 & 1.0 & 1.0 & 0.0 & 0.0 & 0.0 & 0.0 & 0.0 & $\\dots$ \\\\\n",
       "\t9 & 1.0 & 1.0 & 0.0 & 0.0 & 0.0 & 0.0 & 0.0 & 0.0 & $\\dots$ \\\\\n",
       "\t10 & 1.0 & 0.0 & 0.0 & 0.0 & 0.0 & 0.0 & 0.0 & 0.0 & $\\dots$ \\\\\n",
       "\t11 & 1.0 & 1.0 & 0.0 & 0.0 & 0.0 & 1.0 & 0.0 & 0.0 & $\\dots$ \\\\\n",
       "\t12 & 1.0 & 0.0 & 0.0 & 0.0 & 0.0 & 0.0 & 0.0 & 0.0 & $\\dots$ \\\\\n",
       "\t13 & 1.0 & 0.0 & 0.0 & 0.0 & 0.0 & 0.0 & 0.0 & 0.0 & $\\dots$ \\\\\n",
       "\t14 & 1.0 & 1.0 & 0.0 & 1.0 & 0.0 & 0.0 & 0.0 & 0.0 & $\\dots$ \\\\\n",
       "\t15 & 1.0 & 1.0 & 0.0 & 1.0 & 0.0 & 0.0 & 0.0 & 0.0 & $\\dots$ \\\\\n",
       "\t16 & 1.0 & 0.0 & 0.0 & 0.0 & 0.0 & 0.0 & 0.0 & 0.0 & $\\dots$ \\\\\n",
       "\t17 & 1.0 & 1.0 & 0.0 & 1.0 & 0.0 & 0.0 & 0.0 & 0.0 & $\\dots$ \\\\\n",
       "\t18 & 1.0 & 1.0 & 0.0 & 0.0 & 0.0 & 0.0 & 0.0 & 0.0 & $\\dots$ \\\\\n",
       "\t19 & 1.0 & 1.0 & 0.0 & 1.0 & 0.0 & 0.0 & 0.0 & 0.0 & $\\dots$ \\\\\n",
       "\t20 & 1.0 & 0.0 & 0.0 & 0.0 & 0.0 & 0.0 & 0.0 & 0.0 & $\\dots$ \\\\\n",
       "\t21 & 1.0 & 0.0 & 0.0 & 0.0 & 0.0 & 0.0 & 0.0 & 0.0 & $\\dots$ \\\\\n",
       "\t22 & 1.0 & 0.0 & 0.0 & 0.0 & 0.0 & 1.0 & 0.0 & 0.0 & $\\dots$ \\\\\n",
       "\t23 & 1.0 & 1.0 & 0.0 & 0.0 & 0.0 & 0.0 & 0.0 & 0.0 & $\\dots$ \\\\\n",
       "\t24 & 1.0 & 1.0 & 0.0 & 0.0 & 0.0 & 0.0 & 0.0 & 0.0 & $\\dots$ \\\\\n",
       "\t25 & 1.0 & 1.0 & 0.0 & 1.0 & 0.0 & 0.0 & 0.0 & 0.0 & $\\dots$ \\\\\n",
       "\t26 & 1.0 & 1.0 & 0.0 & 0.0 & 0.0 & 0.0 & 0.0 & 0.0 & $\\dots$ \\\\\n",
       "\t27 & 1.0 & 0.0 & 0.0 & 1.0 & 0.0 & 0.0 & 0.0 & 0.0 & $\\dots$ \\\\\n",
       "\t28 & 1.0 & 1.0 & 0.0 & 0.0 & 0.0 & 0.0 & 0.0 & 0.0 & $\\dots$ \\\\\n",
       "\t29 & 1.0 & 1.0 & 0.0 & 0.0 & 0.0 & 0.0 & 0.0 & 0.0 & $\\dots$ \\\\\n",
       "\t30 & 1.0 & 0.0 & 0.0 & 0.0 & 0.0 & 1.0 & 0.0 & 0.0 & $\\dots$ \\\\\n",
       "\t$\\dots$ & $\\dots$ & $\\dots$ & $\\dots$ & $\\dots$ & $\\dots$ & $\\dots$ & $\\dots$ & $\\dots$ &  \\\\\n",
       "\\end{tabular}\n"
      ],
      "text/plain": [
       "21912×32 DataFrame. Omitted printing of 27 columns\n",
       "│ Row   │ (Intercept) │ female  │ widowed │ divorced │ separated │\n",
       "│       │ \u001b[90mFloat64\u001b[39m     │ \u001b[90mFloat64\u001b[39m │ \u001b[90mFloat64\u001b[39m │ \u001b[90mFloat64\u001b[39m  │ \u001b[90mFloat64\u001b[39m   │\n",
       "├───────┼─────────────┼─────────┼─────────┼──────────┼───────────┤\n",
       "│ 1     │ 1.0         │ 1.0     │ 0.0     │ 0.0      │ 0.0       │\n",
       "│ 2     │ 1.0         │ 0.0     │ 0.0     │ 0.0      │ 0.0       │\n",
       "│ 3     │ 1.0         │ 0.0     │ 0.0     │ 0.0      │ 0.0       │\n",
       "│ 4     │ 1.0         │ 1.0     │ 0.0     │ 0.0      │ 0.0       │\n",
       "│ 5     │ 1.0         │ 1.0     │ 0.0     │ 0.0      │ 0.0       │\n",
       "│ 6     │ 1.0         │ 1.0     │ 0.0     │ 0.0      │ 0.0       │\n",
       "│ 7     │ 1.0         │ 0.0     │ 0.0     │ 0.0      │ 0.0       │\n",
       "│ 8     │ 1.0         │ 1.0     │ 1.0     │ 0.0      │ 0.0       │\n",
       "│ 9     │ 1.0         │ 1.0     │ 0.0     │ 0.0      │ 0.0       │\n",
       "│ 10    │ 1.0         │ 0.0     │ 0.0     │ 0.0      │ 0.0       │\n",
       "⋮\n",
       "│ 21902 │ 1.0         │ 0.0     │ 0.0     │ 0.0      │ 0.0       │\n",
       "│ 21903 │ 1.0         │ 0.0     │ 0.0     │ 0.0      │ 0.0       │\n",
       "│ 21904 │ 1.0         │ 1.0     │ 0.0     │ 0.0      │ 0.0       │\n",
       "│ 21905 │ 1.0         │ 1.0     │ 0.0     │ 0.0      │ 0.0       │\n",
       "│ 21906 │ 1.0         │ 1.0     │ 0.0     │ 0.0      │ 0.0       │\n",
       "│ 21907 │ 1.0         │ 0.0     │ 0.0     │ 0.0      │ 0.0       │\n",
       "│ 21908 │ 1.0         │ 1.0     │ 0.0     │ 0.0      │ 0.0       │\n",
       "│ 21909 │ 1.0         │ 1.0     │ 0.0     │ 0.0      │ 0.0       │\n",
       "│ 21910 │ 1.0         │ 1.0     │ 0.0     │ 0.0      │ 0.0       │\n",
       "│ 21911 │ 1.0         │ 1.0     │ 0.0     │ 0.0      │ 0.0       │\n",
       "│ 21912 │ 1.0         │ 1.0     │ 0.0     │ 0.0      │ 0.0       │"
      ]
     },
     "execution_count": 31,
     "metadata": {},
     "output_type": "execute_result"
    }
   ],
   "source": [
    "names_col1 = Symbol.(coefnames(fit_lm_basic))\n",
    "X1 = DataFrame(model_X_basic_train, names_col1 )"
   ]
  },
  {
   "cell_type": "code",
   "execution_count": 32,
   "id": "e2cc3d9e",
   "metadata": {},
   "outputs": [
    {
     "ename": "LoadError",
     "evalue": "MethodError: no method matching DataFrame(::Vector{Vector}, ::Symbol)\n\u001b[0mClosest candidates are:\n\u001b[0m  DataFrame(::AbstractVector{<:AbstractVector}, \u001b[91m::AbstractVector{<:AbstractString}\u001b[39m; makeunique, copycols) at C:\\Users\\a2018\\.julia\\packages\\DataFrames\\GtZ1l\\src\\dataframe\\dataframe.jl:249\n\u001b[0m  DataFrame(::AbstractVector{<:AbstractVector}, \u001b[91m::AbstractVector{Symbol}\u001b[39m; makeunique, copycols) at C:\\Users\\a2018\\.julia\\packages\\DataFrames\\GtZ1l\\src\\dataframe\\dataframe.jl:242\n\u001b[0m  DataFrame(::AbstractVector, \u001b[91m::AbstractVector{<:AbstractString}\u001b[39m; makeunique, copycols) at C:\\Users\\a2018\\.julia\\packages\\DataFrames\\GtZ1l\\src\\dataframe\\dataframe.jl:237\n\u001b[0m  ...",
     "output_type": "error",
     "traceback": [
      "MethodError: no method matching DataFrame(::Vector{Vector}, ::Symbol)\n\u001b[0mClosest candidates are:\n\u001b[0m  DataFrame(::AbstractVector{<:AbstractVector}, \u001b[91m::AbstractVector{<:AbstractString}\u001b[39m; makeunique, copycols) at C:\\Users\\a2018\\.julia\\packages\\DataFrames\\GtZ1l\\src\\dataframe\\dataframe.jl:249\n\u001b[0m  DataFrame(::AbstractVector{<:AbstractVector}, \u001b[91m::AbstractVector{Symbol}\u001b[39m; makeunique, copycols) at C:\\Users\\a2018\\.julia\\packages\\DataFrames\\GtZ1l\\src\\dataframe\\dataframe.jl:242\n\u001b[0m  DataFrame(::AbstractVector, \u001b[91m::AbstractVector{<:AbstractString}\u001b[39m; makeunique, copycols) at C:\\Users\\a2018\\.julia\\packages\\DataFrames\\GtZ1l\\src\\dataframe\\dataframe.jl:237\n\u001b[0m  ...",
      "",
      "Stacktrace:",
      " [1] rlasso(self::rlasso_arg)",
      "   @ Main C:\\Users\\a2018\\ECO224\\GitHub\\hdmjl\\hdmjl.jl:668",
      " [2] top-level scope",
      "   @ In[32]:9",
      " [3] eval",
      "   @ .\\boot.jl:373 [inlined]",
      " [4] include_string(mapexpr::typeof(REPL.softscope), mod::Module, code::String, filename::String)",
      "   @ Base .\\loading.jl:1196"
     ]
    }
   ],
   "source": [
    "# basic model \n",
    "# not post - lasso (HDM)\n",
    "# first false for Not post lasso, second false for not intercetp\n",
    "\n",
    "\n",
    "rlasso_basic  = rlasso_arg( X1, Y_train, nothing, false, false, true, false, false, \n",
    "                    nothing, 1.1, nothing, 5000, 15, 10^(-5), -Inf, true, Inf, true )\n",
    "\n",
    "fit_rlasso_basic = rlasso(rlasso_basic)\n",
    "\n",
    "\n",
    "# post - lasso (HDM)\n",
    "rlasso_basic_post  = rlasso_arg( X1, Y_train, nothing, true, false, true, false, false, \n",
    "                    nothing, 1.1, nothing, 5000, 15, 10^(-5), -Inf, true, Inf, true )\n",
    "\n",
    "fit_rlasso_basic_post = rlasso(rlasso_basic_post)\n",
    "\n",
    "yhat_rlasso = model_X_basic_test*fit_rlasso_basic[\"coefficients\"] \n",
    "yhat_rlasso_post = model_X_basic_test*fit_rlasso_basic_post[\"coefficients\"] \n",
    "\n",
    "\n",
    "res_rlasso_basic = ( Y_test[!,1] - yhat_rlasso ).^ 2\n",
    "matrix_ones = ones( size(res_rlasso_basic)[1] ,1 )\n",
    "mean_residuals = lm(  matrix_ones, res_rlasso_basic )  \n",
    "MSE_rlasso_basic = [ coef( mean_residuals ) , stderror( mean_residuals ) ]\n",
    "R2_rlasso_basic = 1 .- ( MSE_rlasso_basic[1] / var(Y_test[!,1]) ) \n",
    "\n",
    "res_rlasso_basic_post = ( Y_test[!,1] - yhat_rlasso_post ).^ 2\n",
    "matrix_ones = ones( size(res_rlasso_basic_post)[1] ,1 )\n",
    "mean_residuals = lm(  matrix_ones, res_rlasso_basic_post )  \n",
    "MSE_rlasso_basic_post = [ coef( mean_residuals ) , stderror( mean_residuals ) ]\n",
    "R2_rlasso_basic_post = 1 .- ( MSE_rlasso_basic_post[1] / var(Y_test[!,1]) ) "
   ]
  },
  {
   "cell_type": "markdown",
   "id": "a2a380b3",
   "metadata": {},
   "source": [
    "## Flexible Model"
   ]
  },
  {
   "cell_type": "code",
   "execution_count": 33,
   "id": "390cd734",
   "metadata": {},
   "outputs": [
    {
     "data": {
      "text/html": [
       "<table class=\"data-frame\"><thead><tr><th></th><th>(Intercept)</th><th>female</th><th>widowed</th><th>divorced</th><th>separated</th><th>nevermarried</th><th>hsd08</th><th>hsd911</th></tr><tr><th></th><th>Float64</th><th>Float64</th><th>Float64</th><th>Float64</th><th>Float64</th><th>Float64</th><th>Float64</th><th>Float64</th></tr></thead><tbody><p>21,912 rows × 33 columns (omitted printing of 25 columns)</p><tr><th>1</th><td>1.0</td><td>1.0</td><td>0.0</td><td>0.0</td><td>0.0</td><td>0.0</td><td>0.0</td><td>0.0</td></tr><tr><th>2</th><td>1.0</td><td>0.0</td><td>0.0</td><td>0.0</td><td>0.0</td><td>0.0</td><td>0.0</td><td>0.0</td></tr><tr><th>3</th><td>1.0</td><td>0.0</td><td>0.0</td><td>0.0</td><td>0.0</td><td>0.0</td><td>0.0</td><td>0.0</td></tr><tr><th>4</th><td>1.0</td><td>1.0</td><td>0.0</td><td>0.0</td><td>0.0</td><td>0.0</td><td>0.0</td><td>0.0</td></tr><tr><th>5</th><td>1.0</td><td>1.0</td><td>0.0</td><td>0.0</td><td>0.0</td><td>0.0</td><td>0.0</td><td>0.0</td></tr><tr><th>6</th><td>1.0</td><td>1.0</td><td>0.0</td><td>0.0</td><td>0.0</td><td>0.0</td><td>0.0</td><td>0.0</td></tr><tr><th>7</th><td>1.0</td><td>0.0</td><td>0.0</td><td>0.0</td><td>0.0</td><td>0.0</td><td>0.0</td><td>0.0</td></tr><tr><th>8</th><td>1.0</td><td>1.0</td><td>1.0</td><td>0.0</td><td>0.0</td><td>0.0</td><td>0.0</td><td>0.0</td></tr><tr><th>9</th><td>1.0</td><td>1.0</td><td>0.0</td><td>0.0</td><td>0.0</td><td>0.0</td><td>0.0</td><td>0.0</td></tr><tr><th>10</th><td>1.0</td><td>0.0</td><td>0.0</td><td>0.0</td><td>0.0</td><td>0.0</td><td>0.0</td><td>0.0</td></tr><tr><th>11</th><td>1.0</td><td>1.0</td><td>0.0</td><td>0.0</td><td>0.0</td><td>1.0</td><td>0.0</td><td>0.0</td></tr><tr><th>12</th><td>1.0</td><td>0.0</td><td>0.0</td><td>0.0</td><td>0.0</td><td>0.0</td><td>0.0</td><td>0.0</td></tr><tr><th>13</th><td>1.0</td><td>0.0</td><td>0.0</td><td>0.0</td><td>0.0</td><td>0.0</td><td>0.0</td><td>0.0</td></tr><tr><th>14</th><td>1.0</td><td>1.0</td><td>0.0</td><td>1.0</td><td>0.0</td><td>0.0</td><td>0.0</td><td>0.0</td></tr><tr><th>15</th><td>1.0</td><td>1.0</td><td>0.0</td><td>1.0</td><td>0.0</td><td>0.0</td><td>0.0</td><td>0.0</td></tr><tr><th>16</th><td>1.0</td><td>0.0</td><td>0.0</td><td>0.0</td><td>0.0</td><td>0.0</td><td>0.0</td><td>0.0</td></tr><tr><th>17</th><td>1.0</td><td>1.0</td><td>0.0</td><td>1.0</td><td>0.0</td><td>0.0</td><td>0.0</td><td>0.0</td></tr><tr><th>18</th><td>1.0</td><td>1.0</td><td>0.0</td><td>0.0</td><td>0.0</td><td>0.0</td><td>0.0</td><td>0.0</td></tr><tr><th>19</th><td>1.0</td><td>1.0</td><td>0.0</td><td>1.0</td><td>0.0</td><td>0.0</td><td>0.0</td><td>0.0</td></tr><tr><th>20</th><td>1.0</td><td>0.0</td><td>0.0</td><td>0.0</td><td>0.0</td><td>0.0</td><td>0.0</td><td>0.0</td></tr><tr><th>21</th><td>1.0</td><td>0.0</td><td>0.0</td><td>0.0</td><td>0.0</td><td>0.0</td><td>0.0</td><td>0.0</td></tr><tr><th>22</th><td>1.0</td><td>0.0</td><td>0.0</td><td>0.0</td><td>0.0</td><td>1.0</td><td>0.0</td><td>0.0</td></tr><tr><th>23</th><td>1.0</td><td>1.0</td><td>0.0</td><td>0.0</td><td>0.0</td><td>0.0</td><td>0.0</td><td>0.0</td></tr><tr><th>24</th><td>1.0</td><td>1.0</td><td>0.0</td><td>0.0</td><td>0.0</td><td>0.0</td><td>0.0</td><td>0.0</td></tr><tr><th>25</th><td>1.0</td><td>1.0</td><td>0.0</td><td>1.0</td><td>0.0</td><td>0.0</td><td>0.0</td><td>0.0</td></tr><tr><th>26</th><td>1.0</td><td>1.0</td><td>0.0</td><td>0.0</td><td>0.0</td><td>0.0</td><td>0.0</td><td>0.0</td></tr><tr><th>27</th><td>1.0</td><td>0.0</td><td>0.0</td><td>1.0</td><td>0.0</td><td>0.0</td><td>0.0</td><td>0.0</td></tr><tr><th>28</th><td>1.0</td><td>1.0</td><td>0.0</td><td>0.0</td><td>0.0</td><td>0.0</td><td>0.0</td><td>0.0</td></tr><tr><th>29</th><td>1.0</td><td>1.0</td><td>0.0</td><td>0.0</td><td>0.0</td><td>0.0</td><td>0.0</td><td>0.0</td></tr><tr><th>30</th><td>1.0</td><td>0.0</td><td>0.0</td><td>0.0</td><td>0.0</td><td>1.0</td><td>0.0</td><td>0.0</td></tr><tr><th>&vellip;</th><td>&vellip;</td><td>&vellip;</td><td>&vellip;</td><td>&vellip;</td><td>&vellip;</td><td>&vellip;</td><td>&vellip;</td><td>&vellip;</td></tr></tbody></table>"
      ],
      "text/latex": [
       "\\begin{tabular}{r|ccccccccc}\n",
       "\t& (Intercept) & female & widowed & divorced & separated & nevermarried & hsd08 & hsd911 & \\\\\n",
       "\t\\hline\n",
       "\t& Float64 & Float64 & Float64 & Float64 & Float64 & Float64 & Float64 & Float64 & \\\\\n",
       "\t\\hline\n",
       "\t1 & 1.0 & 1.0 & 0.0 & 0.0 & 0.0 & 0.0 & 0.0 & 0.0 & $\\dots$ \\\\\n",
       "\t2 & 1.0 & 0.0 & 0.0 & 0.0 & 0.0 & 0.0 & 0.0 & 0.0 & $\\dots$ \\\\\n",
       "\t3 & 1.0 & 0.0 & 0.0 & 0.0 & 0.0 & 0.0 & 0.0 & 0.0 & $\\dots$ \\\\\n",
       "\t4 & 1.0 & 1.0 & 0.0 & 0.0 & 0.0 & 0.0 & 0.0 & 0.0 & $\\dots$ \\\\\n",
       "\t5 & 1.0 & 1.0 & 0.0 & 0.0 & 0.0 & 0.0 & 0.0 & 0.0 & $\\dots$ \\\\\n",
       "\t6 & 1.0 & 1.0 & 0.0 & 0.0 & 0.0 & 0.0 & 0.0 & 0.0 & $\\dots$ \\\\\n",
       "\t7 & 1.0 & 0.0 & 0.0 & 0.0 & 0.0 & 0.0 & 0.0 & 0.0 & $\\dots$ \\\\\n",
       "\t8 & 1.0 & 1.0 & 1.0 & 0.0 & 0.0 & 0.0 & 0.0 & 0.0 & $\\dots$ \\\\\n",
       "\t9 & 1.0 & 1.0 & 0.0 & 0.0 & 0.0 & 0.0 & 0.0 & 0.0 & $\\dots$ \\\\\n",
       "\t10 & 1.0 & 0.0 & 0.0 & 0.0 & 0.0 & 0.0 & 0.0 & 0.0 & $\\dots$ \\\\\n",
       "\t11 & 1.0 & 1.0 & 0.0 & 0.0 & 0.0 & 1.0 & 0.0 & 0.0 & $\\dots$ \\\\\n",
       "\t12 & 1.0 & 0.0 & 0.0 & 0.0 & 0.0 & 0.0 & 0.0 & 0.0 & $\\dots$ \\\\\n",
       "\t13 & 1.0 & 0.0 & 0.0 & 0.0 & 0.0 & 0.0 & 0.0 & 0.0 & $\\dots$ \\\\\n",
       "\t14 & 1.0 & 1.0 & 0.0 & 1.0 & 0.0 & 0.0 & 0.0 & 0.0 & $\\dots$ \\\\\n",
       "\t15 & 1.0 & 1.0 & 0.0 & 1.0 & 0.0 & 0.0 & 0.0 & 0.0 & $\\dots$ \\\\\n",
       "\t16 & 1.0 & 0.0 & 0.0 & 0.0 & 0.0 & 0.0 & 0.0 & 0.0 & $\\dots$ \\\\\n",
       "\t17 & 1.0 & 1.0 & 0.0 & 1.0 & 0.0 & 0.0 & 0.0 & 0.0 & $\\dots$ \\\\\n",
       "\t18 & 1.0 & 1.0 & 0.0 & 0.0 & 0.0 & 0.0 & 0.0 & 0.0 & $\\dots$ \\\\\n",
       "\t19 & 1.0 & 1.0 & 0.0 & 1.0 & 0.0 & 0.0 & 0.0 & 0.0 & $\\dots$ \\\\\n",
       "\t20 & 1.0 & 0.0 & 0.0 & 0.0 & 0.0 & 0.0 & 0.0 & 0.0 & $\\dots$ \\\\\n",
       "\t21 & 1.0 & 0.0 & 0.0 & 0.0 & 0.0 & 0.0 & 0.0 & 0.0 & $\\dots$ \\\\\n",
       "\t22 & 1.0 & 0.0 & 0.0 & 0.0 & 0.0 & 1.0 & 0.0 & 0.0 & $\\dots$ \\\\\n",
       "\t23 & 1.0 & 1.0 & 0.0 & 0.0 & 0.0 & 0.0 & 0.0 & 0.0 & $\\dots$ \\\\\n",
       "\t24 & 1.0 & 1.0 & 0.0 & 0.0 & 0.0 & 0.0 & 0.0 & 0.0 & $\\dots$ \\\\\n",
       "\t25 & 1.0 & 1.0 & 0.0 & 1.0 & 0.0 & 0.0 & 0.0 & 0.0 & $\\dots$ \\\\\n",
       "\t26 & 1.0 & 1.0 & 0.0 & 0.0 & 0.0 & 0.0 & 0.0 & 0.0 & $\\dots$ \\\\\n",
       "\t27 & 1.0 & 0.0 & 0.0 & 1.0 & 0.0 & 0.0 & 0.0 & 0.0 & $\\dots$ \\\\\n",
       "\t28 & 1.0 & 1.0 & 0.0 & 0.0 & 0.0 & 0.0 & 0.0 & 0.0 & $\\dots$ \\\\\n",
       "\t29 & 1.0 & 1.0 & 0.0 & 0.0 & 0.0 & 0.0 & 0.0 & 0.0 & $\\dots$ \\\\\n",
       "\t30 & 1.0 & 0.0 & 0.0 & 0.0 & 0.0 & 1.0 & 0.0 & 0.0 & $\\dots$ \\\\\n",
       "\t$\\dots$ & $\\dots$ & $\\dots$ & $\\dots$ & $\\dots$ & $\\dots$ & $\\dots$ & $\\dots$ & $\\dots$ &  \\\\\n",
       "\\end{tabular}\n"
      ],
      "text/plain": [
       "21912×33 DataFrame. Omitted printing of 28 columns\n",
       "│ Row   │ (Intercept) │ female  │ widowed │ divorced │ separated │\n",
       "│       │ \u001b[90mFloat64\u001b[39m     │ \u001b[90mFloat64\u001b[39m │ \u001b[90mFloat64\u001b[39m │ \u001b[90mFloat64\u001b[39m  │ \u001b[90mFloat64\u001b[39m   │\n",
       "├───────┼─────────────┼─────────┼─────────┼──────────┼───────────┤\n",
       "│ 1     │ 1.0         │ 1.0     │ 0.0     │ 0.0      │ 0.0       │\n",
       "│ 2     │ 1.0         │ 0.0     │ 0.0     │ 0.0      │ 0.0       │\n",
       "│ 3     │ 1.0         │ 0.0     │ 0.0     │ 0.0      │ 0.0       │\n",
       "│ 4     │ 1.0         │ 1.0     │ 0.0     │ 0.0      │ 0.0       │\n",
       "│ 5     │ 1.0         │ 1.0     │ 0.0     │ 0.0      │ 0.0       │\n",
       "│ 6     │ 1.0         │ 1.0     │ 0.0     │ 0.0      │ 0.0       │\n",
       "│ 7     │ 1.0         │ 0.0     │ 0.0     │ 0.0      │ 0.0       │\n",
       "│ 8     │ 1.0         │ 1.0     │ 1.0     │ 0.0      │ 0.0       │\n",
       "│ 9     │ 1.0         │ 1.0     │ 0.0     │ 0.0      │ 0.0       │\n",
       "│ 10    │ 1.0         │ 0.0     │ 0.0     │ 0.0      │ 0.0       │\n",
       "⋮\n",
       "│ 21902 │ 1.0         │ 0.0     │ 0.0     │ 0.0      │ 0.0       │\n",
       "│ 21903 │ 1.0         │ 0.0     │ 0.0     │ 0.0      │ 0.0       │\n",
       "│ 21904 │ 1.0         │ 1.0     │ 0.0     │ 0.0      │ 0.0       │\n",
       "│ 21905 │ 1.0         │ 1.0     │ 0.0     │ 0.0      │ 0.0       │\n",
       "│ 21906 │ 1.0         │ 1.0     │ 0.0     │ 0.0      │ 0.0       │\n",
       "│ 21907 │ 1.0         │ 0.0     │ 0.0     │ 0.0      │ 0.0       │\n",
       "│ 21908 │ 1.0         │ 1.0     │ 0.0     │ 0.0      │ 0.0       │\n",
       "│ 21909 │ 1.0         │ 1.0     │ 0.0     │ 0.0      │ 0.0       │\n",
       "│ 21910 │ 1.0         │ 1.0     │ 0.0     │ 0.0      │ 0.0       │\n",
       "│ 21911 │ 1.0         │ 1.0     │ 0.0     │ 0.0      │ 0.0       │\n",
       "│ 21912 │ 1.0         │ 1.0     │ 0.0     │ 0.0      │ 0.0       │"
      ]
     },
     "execution_count": 33,
     "metadata": {},
     "output_type": "execute_result"
    }
   ],
   "source": [
    "names_col2 = Symbol.(coefnames(fit_lm_flex))\n",
    "X2 = DataFrame(model_X_flex_train, names_col2 )"
   ]
  },
  {
   "cell_type": "code",
   "execution_count": 34,
   "id": "6dcf5ccc",
   "metadata": {},
   "outputs": [
    {
     "ename": "LoadError",
     "evalue": "MethodError: no method matching DataFrame(::Vector{Vector}, ::Symbol)\n\u001b[0mClosest candidates are:\n\u001b[0m  DataFrame(::AbstractVector{<:AbstractVector}, \u001b[91m::AbstractVector{<:AbstractString}\u001b[39m; makeunique, copycols) at C:\\Users\\a2018\\.julia\\packages\\DataFrames\\GtZ1l\\src\\dataframe\\dataframe.jl:249\n\u001b[0m  DataFrame(::AbstractVector{<:AbstractVector}, \u001b[91m::AbstractVector{Symbol}\u001b[39m; makeunique, copycols) at C:\\Users\\a2018\\.julia\\packages\\DataFrames\\GtZ1l\\src\\dataframe\\dataframe.jl:242\n\u001b[0m  DataFrame(::AbstractVector, \u001b[91m::AbstractVector{<:AbstractString}\u001b[39m; makeunique, copycols) at C:\\Users\\a2018\\.julia\\packages\\DataFrames\\GtZ1l\\src\\dataframe\\dataframe.jl:237\n\u001b[0m  ...",
     "output_type": "error",
     "traceback": [
      "MethodError: no method matching DataFrame(::Vector{Vector}, ::Symbol)\n\u001b[0mClosest candidates are:\n\u001b[0m  DataFrame(::AbstractVector{<:AbstractVector}, \u001b[91m::AbstractVector{<:AbstractString}\u001b[39m; makeunique, copycols) at C:\\Users\\a2018\\.julia\\packages\\DataFrames\\GtZ1l\\src\\dataframe\\dataframe.jl:249\n\u001b[0m  DataFrame(::AbstractVector{<:AbstractVector}, \u001b[91m::AbstractVector{Symbol}\u001b[39m; makeunique, copycols) at C:\\Users\\a2018\\.julia\\packages\\DataFrames\\GtZ1l\\src\\dataframe\\dataframe.jl:242\n\u001b[0m  DataFrame(::AbstractVector, \u001b[91m::AbstractVector{<:AbstractString}\u001b[39m; makeunique, copycols) at C:\\Users\\a2018\\.julia\\packages\\DataFrames\\GtZ1l\\src\\dataframe\\dataframe.jl:237\n\u001b[0m  ...",
      "",
      "Stacktrace:",
      " [1] rlasso(self::rlasso_arg)",
      "   @ Main C:\\Users\\a2018\\ECO224\\GitHub\\hdmjl\\hdmjl.jl:668",
      " [2] top-level scope",
      "   @ In[34]:8",
      " [3] eval",
      "   @ .\\boot.jl:373 [inlined]",
      " [4] include_string(mapexpr::typeof(REPL.softscope), mod::Module, code::String, filename::String)",
      "   @ Base .\\loading.jl:1196"
     ]
    }
   ],
   "source": [
    "# Flex - model\n",
    "# Not post - lasso (HDM)\n",
    "\n",
    "\n",
    "rlasso_flex  = rlasso_arg( X2, Y_train, nothing, false, false, true, false, false, \n",
    "                    nothing, 1.1, nothing, 5000, 15, 10^(-5), -Inf, true, Inf, true )\n",
    "\n",
    "fit_rlasso_flex = rlasso(rlasso_flex)\n",
    "\n",
    "\n",
    "# post - lasso (HDM)\n",
    "rlasso_flex_post  = rlasso_arg( X2, Y_train, nothing, true, false, true, false, false, \n",
    "                    nothing, 1.1, nothing, 5000, 15, 10^(-5), -Inf, true, Inf, true )\n",
    "\n",
    "fit_rlasso_flex_post = rlasso(rlasso_flex_post)\n",
    "\n",
    "yhat_rlasso_flex = model_X_flex_test*fit_rlasso_flex[\"coefficients\"] \n",
    "yhat_rlasso_flex_post = model_X_flex_test*fit_rlasso_flex_post[\"coefficients\"] \n",
    "\n",
    "\n",
    "res_rlasso_flex = ( Y_test[!,1] - yhat_rlasso_flex ).^ 2\n",
    "matrix_ones = ones( size(res_rlasso_flex)[1] ,1 )\n",
    "mean_residuals = lm(  matrix_ones, res_rlasso_flex )  \n",
    "MSE_rlasso_flex = [ coef( mean_residuals ) , stderror( mean_residuals ) ]\n",
    "R2_rlasso_flex = 1 .- ( MSE_rlasso_flex[1] / var(Y_test[!,1]) ) \n",
    "\n",
    "res_rlasso_flex_post = ( Y_test[!,1] - yhat_rlasso_flex_post ).^ 2\n",
    "matrix_ones = ones( size(res_rlasso_flex_post)[1] ,1 )\n",
    "mean_residuals = lm(  matrix_ones, res_rlasso_flex_post )  \n",
    "MSE_rlasso_flex_post = [ coef( mean_residuals ) , stderror( mean_residuals ) ]\n",
    "R2_rlasso_flex_post = 1 .- ( MSE_rlasso_flex_post[1] / var(Y_test[!,1]) ) \n"
   ]
  },
  {
   "cell_type": "code",
   "execution_count": null,
   "id": "e9e6352b",
   "metadata": {},
   "outputs": [],
   "source": [
    "print( \"The R^2 using the basic model is  \", R2_rlasso_flex[1] ,\" for lasso and \", R2_rlasso_flex_post[1] , \" for Post - lasso\")"
   ]
  },
  {
   "cell_type": "markdown",
   "id": "f5fd2394",
   "metadata": {},
   "source": [
    "Now, we repeat the same procedure for the flexible model."
   ]
  },
  {
   "cell_type": "code",
   "execution_count": 36,
   "id": "aa8e5ce8",
   "metadata": {},
   "outputs": [
    {
     "name": "stderr",
     "output_type": "stream",
     "text": [
      "\u001b[32m\u001b[1m    Updating\u001b[22m\u001b[39m registry at `C:\\Users\\a2018\\.julia\\registries\\General.toml`\n",
      "\u001b[32m\u001b[1m   Resolving\u001b[22m\u001b[39m package versions...\n",
      "\u001b[32m\u001b[1m   Installed\u001b[22m\u001b[39m GR_jll ───────────── v0.64.4+0\n",
      "\u001b[32m\u001b[1m   Installed\u001b[22m\u001b[39m PDMats ───────────── v0.11.12\n",
      "\u001b[32m\u001b[1m   Installed\u001b[22m\u001b[39m OffsetArrays ─────── v1.12.5\n",
      "\u001b[32m\u001b[1m   Installed\u001b[22m\u001b[39m MutableArithmetics ─ v1.0.4\n",
      "\u001b[32m\u001b[1m   Installed\u001b[22m\u001b[39m StaticArrays ─────── v1.4.7\n",
      "\u001b[32m\u001b[1m   Installed\u001b[22m\u001b[39m FileIO ───────────── v1.14.0\n",
      "\u001b[32m\u001b[1m   Installed\u001b[22m\u001b[39m DSP ──────────────── v0.7.6\n",
      "\u001b[32m\u001b[1m   Installed\u001b[22m\u001b[39m Polynomials ──────── v3.1.3\n",
      "\u001b[32m\u001b[1m   Installed\u001b[22m\u001b[39m SentinelArrays ───── v1.3.13\n",
      "\u001b[32m\u001b[1m   Installed\u001b[22m\u001b[39m SpecialFunctions ─── v1.8.6\n",
      "\u001b[32m\u001b[1m   Installed\u001b[22m\u001b[39m Graphics ─────────── v1.1.2\n",
      "\u001b[32m\u001b[1m   Installed\u001b[22m\u001b[39m WebIO ────────────── v0.8.18\n",
      "\u001b[32m\u001b[1m   Installed\u001b[22m\u001b[39m StatsAPI ─────────── v1.4.0\n",
      "\u001b[32m\u001b[1m   Installed\u001b[22m\u001b[39m Compat ───────────── v3.45.0\n",
      "\u001b[32m\u001b[1m   Installed\u001b[22m\u001b[39m Kaleido_jll ──────── v0.2.1+0\n",
      "\u001b[32m\u001b[1m   Installed\u001b[22m\u001b[39m ColorTypes ───────── v0.11.3\n",
      "\u001b[32m\u001b[1m   Installed\u001b[22m\u001b[39m TensorCore ───────── v0.1.1\n",
      "\u001b[32m\u001b[1m   Installed\u001b[22m\u001b[39m GLMNet ───────────── v0.7.0\n",
      "\u001b[32m\u001b[1m   Installed\u001b[22m\u001b[39m Libtiff_jll ──────── v4.4.0+0\n",
      "\u001b[32m\u001b[1m   Installed\u001b[22m\u001b[39m Graphs ───────────── v1.7.0\n",
      "\u001b[32m\u001b[1m   Installed\u001b[22m\u001b[39m ColorVectorSpace ─── v0.9.9\n",
      "\u001b[32m\u001b[1m   Installed\u001b[22m\u001b[39m LogExpFunctions ──── v0.3.15\n",
      "\u001b[32m\u001b[1m   Installed\u001b[22m\u001b[39m InverseFunctions ─── v0.1.7\n",
      "\u001b[32m\u001b[1m   Installed\u001b[22m\u001b[39m Widgets ──────────── v0.6.6\n",
      "\u001b[32m\u001b[1m   Installed\u001b[22m\u001b[39m ChainRulesCore ───── v1.15.0\n",
      "\u001b[32m\u001b[1m   Installed\u001b[22m\u001b[39m XML2_jll ─────────── v2.9.14+0\n",
      "\u001b[32m\u001b[1m   Installed\u001b[22m\u001b[39m Dictionaries ─────── v0.3.21\n",
      "\u001b[32m\u001b[1m   Installed\u001b[22m\u001b[39m glmnet_jll ───────── v5.0.0+0\n",
      "\u001b[32m\u001b[1m   Installed\u001b[22m\u001b[39m StructArrays ─────── v0.6.8\n",
      "\u001b[32m\u001b[1m   Installed\u001b[22m\u001b[39m ChangesOfVariables ─ v0.1.3\n",
      "\u001b[32m\u001b[1m   Installed\u001b[22m\u001b[39m Documenter ───────── v0.27.19\n",
      "\u001b[32m\u001b[1m   Installed\u001b[22m\u001b[39m GR ───────────────── v0.64.4\n",
      "\u001b[32m\u001b[1m   Installed\u001b[22m\u001b[39m ColorSchemes ─────── v3.18.0\n",
      "\u001b[32m\u001b[1m    Updating\u001b[22m\u001b[39m `C:\\Users\\a2018\\.julia\\environments\\v1.7\\Project.toml`\n",
      " \u001b[90m [8d5ece8b] \u001b[39m\u001b[92m+ GLMNet v0.7.0\u001b[39m\n",
      "\u001b[32m\u001b[1m    Updating\u001b[22m\u001b[39m `C:\\Users\\a2018\\.julia\\environments\\v1.7\\Manifest.toml`\n",
      " \u001b[90m [7d9fca2a] \u001b[39m\u001b[93m↑ Arpack v0.5.0 ⇒ v0.5.3\u001b[39m\n",
      " \u001b[90m [d360d2e6] \u001b[39m\u001b[93m↑ ChainRulesCore v1.14.0 ⇒ v1.15.0\u001b[39m\n",
      " \u001b[90m [9e997f8a] \u001b[39m\u001b[93m↑ ChangesOfVariables v0.1.2 ⇒ v0.1.3\u001b[39m\n",
      " \u001b[90m [35d6a980] \u001b[39m\u001b[93m↑ ColorSchemes v3.17.1 ⇒ v3.18.0\u001b[39m\n",
      " \u001b[90m [3da002f7] \u001b[39m\u001b[93m↑ ColorTypes v0.11.0 ⇒ v0.11.3\u001b[39m\n",
      " \u001b[90m [c3611d14] \u001b[39m\u001b[92m+ ColorVectorSpace v0.9.9\u001b[39m\n",
      " \u001b[90m [34da2185] \u001b[39m\u001b[93m↑ Compat v3.43.0 ⇒ v3.45.0\u001b[39m\n",
      " \u001b[90m [717857b8] \u001b[39m\u001b[93m↑ DSP v0.7.5 ⇒ v0.7.6\u001b[39m\n",
      " \u001b[90m [85a47980] \u001b[39m\u001b[93m↑ Dictionaries v0.3.20 ⇒ v0.3.21\u001b[39m\n",
      " \u001b[90m [e30172f5] \u001b[39m\u001b[93m↑ Documenter v0.27.16 ⇒ v0.27.19\u001b[39m\n",
      " \u001b[90m [5789e2e9] \u001b[39m\u001b[93m↑ FileIO v1.13.0 ⇒ v1.14.0\u001b[39m\n",
      " \u001b[90m [8d5ece8b] \u001b[39m\u001b[92m+ GLMNet v0.7.0\u001b[39m\n",
      " \u001b[90m [28b8d3ca] \u001b[39m\u001b[93m↑ GR v0.64.2 ⇒ v0.64.4\u001b[39m\n",
      " \u001b[90m [a2bd30eb] \u001b[39m\u001b[93m↑ Graphics v1.1.1 ⇒ v1.1.2\u001b[39m\n",
      " \u001b[90m [86223c79] \u001b[39m\u001b[93m↑ Graphs v1.6.0 ⇒ v1.7.0\u001b[39m\n",
      " \u001b[90m [3587e190] \u001b[39m\u001b[93m↑ InverseFunctions v0.1.3 ⇒ v0.1.7\u001b[39m\n",
      " \u001b[90m [2ab3a3ac] \u001b[39m\u001b[93m↑ LogExpFunctions v0.3.13 ⇒ v0.3.15\u001b[39m\n",
      " \u001b[90m [d8a4904e] \u001b[39m\u001b[93m↑ MutableArithmetics v1.0.0 ⇒ v1.0.4\u001b[39m\n",
      " \u001b[90m [6fe1bfb0] \u001b[39m\u001b[93m↑ OffsetArrays v1.10.8 ⇒ v1.12.5\u001b[39m\n",
      " \u001b[90m [90014a1f] \u001b[39m\u001b[93m↑ PDMats v0.11.8 ⇒ v0.11.12\u001b[39m\n",
      " \u001b[90m [f27b6e38] \u001b[39m\u001b[93m↑ Polynomials v3.0.0 ⇒ v3.1.3\u001b[39m\n",
      " \u001b[90m [91c51154] \u001b[39m\u001b[93m↑ SentinelArrays v1.3.12 ⇒ v1.3.13\u001b[39m\n",
      " \u001b[90m [276daf66] \u001b[39m\u001b[93m↑ SpecialFunctions v1.8.4 ⇒ v1.8.6\u001b[39m\n",
      " \u001b[90m [90137ffa] \u001b[39m\u001b[93m↑ StaticArrays v1.4.4 ⇒ v1.4.7\u001b[39m\n",
      " \u001b[90m [82ae8749] \u001b[39m\u001b[93m↑ StatsAPI v1.3.0 ⇒ v1.4.0\u001b[39m\n",
      " \u001b[90m [09ab397b] \u001b[39m\u001b[93m↑ StructArrays v0.6.5 ⇒ v0.6.8\u001b[39m\n",
      " \u001b[90m [62fd8b95] \u001b[39m\u001b[92m+ TensorCore v0.1.1\u001b[39m\n",
      " \u001b[90m [0f1e0344] \u001b[39m\u001b[93m↑ WebIO v0.8.17 ⇒ v0.8.18\u001b[39m\n",
      " \u001b[90m [cc8bc4a8] \u001b[39m\u001b[93m↑ Widgets v0.6.5 ⇒ v0.6.6\u001b[39m\n",
      " \u001b[90m [68821587] \u001b[39m\u001b[95m↓ Arpack_jll v3.8.0+0 ⇒ v3.5.1+1\u001b[39m\n",
      " \u001b[90m [d2c73de3] \u001b[39m\u001b[93m↑ GR_jll v0.64.2+0 ⇒ v0.64.4+0\u001b[39m\n",
      " \u001b[90m [f7e6163d] \u001b[39m\u001b[93m↑ Kaleido_jll v0.1.0+0 ⇒ v0.2.1+0\u001b[39m\n",
      " \u001b[90m [89763e89] \u001b[39m\u001b[93m↑ Libtiff_jll v4.3.0+1 ⇒ v4.4.0+0\u001b[39m\n",
      " \u001b[90m [02c8fc9c] \u001b[39m\u001b[93m↑ XML2_jll v2.9.12+0 ⇒ v2.9.14+0\u001b[39m\n",
      " \u001b[90m [78c6b45d] \u001b[39m\u001b[92m+ glmnet_jll v5.0.0+0\u001b[39m\n",
      "\u001b[32m\u001b[1m    Building\u001b[22m\u001b[39m GR ───→ `C:\\Users\\a2018\\.julia\\scratchspaces\\44cfe95a-1eb2-52ea-b672-e2afdf69b78f\\c98aea696662d09e215ef7cda5296024a9646c75\\build.log`\n",
      "\u001b[32m\u001b[1m    Building\u001b[22m\u001b[39m WebIO → `C:\\Users\\a2018\\.julia\\scratchspaces\\44cfe95a-1eb2-52ea-b672-e2afdf69b78f\\a8bbcd0b08061bba794c56fb78426e96e114ae7f\\build.log`\n",
      "\u001b[32m\u001b[1mPrecompiling\u001b[22m\u001b[39m project...\n",
      "\u001b[33m  ✓ \u001b[39m\u001b[90mStatsAPI\u001b[39m\n",
      "\u001b[32m  ✓ \u001b[39m\u001b[90mTensorCore\u001b[39m\n",
      "\u001b[33m  ✓ \u001b[39m\u001b[90mPDMats\u001b[39m\n",
      "\u001b[33m  ✓ \u001b[39m\u001b[90mInverseFunctions\u001b[39m\n",
      "\u001b[33m  ✓ \u001b[39m\u001b[90mCompat\u001b[39m\n",
      "\u001b[33m  ✓ \u001b[39m\u001b[90mSentinelArrays\u001b[39m\n",
      "\u001b[32m  ✓ \u001b[39m\u001b[90mglmnet_jll\u001b[39m\n",
      "\u001b[33m  ✓ \u001b[39m\u001b[90mFileIO\u001b[39m\n",
      "\u001b[32m  ✓ \u001b[39m\u001b[90mMutableArithmetics\u001b[39m\n",
      "\u001b[32m  ✓ \u001b[39m\u001b[90mDocumenter\u001b[39m\n",
      "\u001b[32m  ✓ \u001b[39m\u001b[90mDictionaries\u001b[39m\n",
      "\u001b[33m  ✓ \u001b[39m\u001b[90mOffsetArrays\u001b[39m\n",
      "\u001b[32m  ✓ \u001b[39m\u001b[90mKaleido_jll\u001b[39m\n",
      "\u001b[33m  ✓ \u001b[39m\u001b[90mArpack_jll\u001b[39m\n",
      "\u001b[32m  ✓ \u001b[39m\u001b[90mLibtiff_jll\u001b[39m\n",
      "\u001b[33m  ✓ \u001b[39m\u001b[90mStaticArrays\u001b[39m\n",
      "\u001b[33m  ✓ \u001b[39m\u001b[90mXML2_jll\u001b[39m\n",
      "\u001b[33m  ✓ \u001b[39m\u001b[90mDensityInterface\u001b[39m\n",
      "\u001b[33m  ✓ \u001b[39m\u001b[90mMocking\u001b[39m\n",
      "\u001b[33m  ✓ \u001b[39m\u001b[90mDistances\u001b[39m\n",
      "\u001b[32m  ✓ \u001b[39m\u001b[90mFilePathsBase\u001b[39m\n",
      "\u001b[33m  ✓ \u001b[39m\u001b[90mChainRulesCore\u001b[39m\n",
      "\u001b[33m  ✓ \u001b[39mTableOperations\n",
      "\u001b[32m  ✓ \u001b[39m\u001b[90mSplitApplyCombine\u001b[39m\n",
      "\u001b[33m  ✓ \u001b[39m\u001b[90mArpack\u001b[39m\n",
      "\u001b[33m  ✓ \u001b[39mDataStructures\n",
      "\u001b[32m  ✓ \u001b[39m\u001b[90mContour\u001b[39m\n",
      "\u001b[32m  ✓ \u001b[39m\u001b[90mPolynomials\u001b[39m\n",
      "\u001b[33m  ✓ \u001b[39m\u001b[90mStructArrays\u001b[39m\n",
      "\u001b[32m  ✓ \u001b[39m\u001b[90mArnoldiMethod\u001b[39m\n",
      "\u001b[32m  ✓ \u001b[39m\u001b[90mXSLT_jll\u001b[39m\n",
      "\u001b[32m  ✓ \u001b[39m\u001b[90mLoess\u001b[39m\n",
      "\u001b[32m  ✓ \u001b[39m\u001b[90mWayland_jll\u001b[39m\n",
      "\u001b[33m  ✓ \u001b[39m\u001b[90mGettext_jll\u001b[39m\n",
      "\u001b[33m  ✓ \u001b[39m\u001b[90mColorTypes\u001b[39m\n",
      "\u001b[32m  ✓ \u001b[39mFilePaths\n",
      "\u001b[33m  ✓ \u001b[39m\u001b[90mAbstractFFTs\u001b[39m\n",
      "\u001b[33m  ✓ \u001b[39m\u001b[90mChangesOfVariables\u001b[39m\n",
      "\u001b[33m  ✓ \u001b[39m\u001b[90mNearestNeighbors\u001b[39m\n",
      "\u001b[32m  ✓ \u001b[39mTypedTables\n",
      "\u001b[33m  ✓ \u001b[39mNamedArrays\n",
      "\u001b[33m  ✓ \u001b[39m\u001b[90mSortingAlgorithms\u001b[39m\n",
      "\u001b[33m  ✓ \u001b[39m\u001b[90mTimeZones\u001b[39m\n",
      "\u001b[33m  ✓ \u001b[39m\u001b[90mQuadGK\u001b[39m\n",
      "\u001b[33m  ✓ \u001b[39m\u001b[90mInterpolations\u001b[39m\n",
      "\u001b[32m  ✓ \u001b[39m\u001b[90mXorg_libxcb_jll\u001b[39m\n",
      "\u001b[33m  ✓ \u001b[39m\u001b[90mGlib_jll\u001b[39m\n",
      "\u001b[32m  ✓ \u001b[39mCSV\n",
      "\u001b[32m  ✓ \u001b[39m\u001b[90mGraphs\u001b[39m\n",
      "\u001b[32m  ✓ \u001b[39m\u001b[90mGeometryTypes\u001b[39m\n",
      "\u001b[33m  ✓ \u001b[39m\u001b[90mColors\u001b[39m\n",
      "\u001b[33m  ✓ \u001b[39m\u001b[90mGeometryBasics\u001b[39m\n",
      "\u001b[33m  ✓ \u001b[39mFreqTables\n",
      "\u001b[32m  ✓ \u001b[39m\u001b[90mXorg_xcb_util_jll\u001b[39m\n",
      "\u001b[33m  ✓ \u001b[39m\u001b[90mFFTW\u001b[39m\n",
      "\u001b[33m  ✓ \u001b[39m\u001b[90mLogExpFunctions\u001b[39m\n",
      "\u001b[32m  ✓ \u001b[39m\u001b[90mXorg_libX11_jll\u001b[39m\n",
      "\u001b[32m  ✓ \u001b[39m\u001b[90mGraphics\u001b[39m\n",
      "\u001b[33m  ✓ \u001b[39m\u001b[90mWidgets\u001b[39m\n",
      "\u001b[33m  ✓ \u001b[39mDataFrames\n",
      "\u001b[32m  ✓ \u001b[39m\u001b[90mXorg_xcb_util_image_jll\u001b[39m\n",
      "\u001b[32m  ✓ \u001b[39m\u001b[90mXorg_xcb_util_keysyms_jll\u001b[39m\n",
      "\u001b[32m  ✓ \u001b[39m\u001b[90mXorg_xcb_util_renderutil_jll\u001b[39m\n",
      "\u001b[32m  ✓ \u001b[39m\u001b[90mNetworkLayout\u001b[39m\n",
      "\u001b[32m  ✓ \u001b[39m\u001b[90mXorg_xcb_util_wm_jll\u001b[39m\n",
      "\u001b[32m  ✓ \u001b[39mPyPlot\n",
      "\u001b[32m  ✓ \u001b[39m\u001b[90mCompose\u001b[39m\n",
      "\u001b[32m  ✓ \u001b[39m\u001b[90mXorg_libXrender_jll\u001b[39m\n",
      "\u001b[32m  ✓ \u001b[39m\u001b[90mXorg_libXext_jll\u001b[39m\n",
      "\u001b[32m  ✓ \u001b[39m\u001b[90mgdk_pixbuf_jll\u001b[39m\n",
      "\u001b[32m  ✓ \u001b[39m\u001b[90mXorg_libXfixes_jll\u001b[39m\n",
      "\u001b[32m  ✓ \u001b[39m\u001b[90mXorg_libxkbfile_jll\u001b[39m\n",
      "\u001b[33m  ✓ \u001b[39mStatsBase\n",
      "\u001b[32m  ✓ \u001b[39m\u001b[90mLibglvnd_jll\u001b[39m\n",
      "\u001b[32m  ✓ \u001b[39mLathe\n",
      "\u001b[32m  ✓ \u001b[39m\u001b[90mXorg_libXinerama_jll\u001b[39m\n",
      "\u001b[33m  ✓ \u001b[39m\u001b[90mSpecialFunctions\u001b[39m\n",
      "\u001b[32m  ✓ \u001b[39m\u001b[90mWebIO\u001b[39m\n",
      "\u001b[32m  ✓ \u001b[39m\u001b[90mXorg_libXrandr_jll\u001b[39m\n",
      "\u001b[32m  ✓ \u001b[39m\u001b[90mXorg_libXcursor_jll\u001b[39m\n",
      "\u001b[33m  ✓ \u001b[39m\u001b[90mCairo_jll\u001b[39m\n",
      "\u001b[32m  ✓ \u001b[39m\u001b[90mXorg_libXi_jll\u001b[39m\n",
      "\u001b[33m  ✓ \u001b[39mRData\n",
      "\u001b[32m  ✓ \u001b[39m\u001b[90mXorg_xkbcomp_jll\u001b[39m\n",
      "\u001b[32m  ✓ \u001b[39mMLBase\n",
      "\u001b[32m  ✓ \u001b[39m\u001b[90mCoupledFields\u001b[39m\n",
      "\u001b[33m  ✓ \u001b[39m\u001b[90mMultivariateStats\u001b[39m\n",
      "\u001b[33m  ✓ \u001b[39m\u001b[90mStatsFuns\u001b[39m\n",
      "\u001b[33m  ✓ \u001b[39m\u001b[90mClustering\u001b[39m\n",
      "\u001b[32m  ✓ \u001b[39m\u001b[90mGLFW_jll\u001b[39m\n",
      "\u001b[33m  ✓ \u001b[39m\u001b[90mHarfBuzz_jll\u001b[39m\n",
      "\u001b[32m  ✓ \u001b[39m\u001b[90mXorg_xkeyboard_config_jll\u001b[39m\n",
      "\u001b[32m  ✓ \u001b[39m\u001b[90mJSExpr\u001b[39m\n",
      "\u001b[32m  ✓ \u001b[39m\u001b[90mColorVectorSpace\u001b[39m\n",
      "\u001b[33m  ✓ \u001b[39mStatsModels\n",
      "\u001b[32m  ✓ \u001b[39m\u001b[90mDSP\u001b[39m\n",
      "\u001b[33m  ✓ \u001b[39m\u001b[90mlibass_jll\u001b[39m\n",
      "\u001b[32m  ✓ \u001b[39m\u001b[90mPango_jll\u001b[39m\n",
      "\u001b[32m  ✓ \u001b[39m\u001b[90mxkbcommon_jll\u001b[39m\n",
      "\u001b[33m  ✓ \u001b[39m\u001b[90mFFMPEG_jll\u001b[39m\n",
      "\u001b[32m  ✓ \u001b[39mCovarianceMatrices\n",
      "\u001b[32m  ✓ \u001b[39m\u001b[90mLibrsvg_jll\u001b[39m\n",
      "\u001b[32m  ✓ \u001b[39m\u001b[90mBlink\u001b[39m\n",
      "\u001b[33m  ✓ \u001b[39m\u001b[90mFFMPEG\u001b[39m\n",
      "\u001b[32m  ✓ \u001b[39m\u001b[90mCairo\u001b[39m\n",
      "\u001b[32m  ✓ \u001b[39m\u001b[90mQt5Base_jll\u001b[39m\n",
      "\u001b[33m  ✓ \u001b[39mDistributions\n",
      "\u001b[32m  ✓ \u001b[39m\u001b[90mRsvg\u001b[39m\n",
      "\u001b[32m  ✓ \u001b[39m\u001b[90mGR_jll\u001b[39m\n",
      "\u001b[33m  ✓ \u001b[39m\u001b[90mColorSchemes\u001b[39m\n",
      "\u001b[32m  ✓ \u001b[39mGLMNet\n",
      "\u001b[33m  ✓ \u001b[39mKernelDensity\n",
      "\u001b[33m  ✓ \u001b[39mGLM\n",
      "\u001b[33m  ✓ \u001b[39m\u001b[90mGR\u001b[39m\n",
      "\u001b[32m  ✓ \u001b[39m\u001b[90mPlotlyBase\u001b[39m\n",
      "\u001b[33m  ✓ \u001b[39m\u001b[90mPlotUtils\u001b[39m\n",
      "\u001b[32m  ✓ \u001b[39mLuxor\n",
      "\u001b[32m  ✓ \u001b[39mLasso\n",
      "\u001b[32m  ✓ \u001b[39mTexTables\n",
      "\u001b[33m  ✓ \u001b[39m\u001b[90mRecipesPipeline\u001b[39m\n",
      "\u001b[32m  ✓ \u001b[39mGadfly\n",
      "\u001b[32m  ✓ \u001b[39mPlotlyJS\n",
      "\u001b[33m  ✓ \u001b[39m\u001b[90mPlotThemes\u001b[39m\n",
      "\u001b[32m  ✓ \u001b[39mGraphRecipes\n",
      "\u001b[33m  ✓ \u001b[39mPlots\n",
      "\u001b[33m  ✓ \u001b[39mStatsPlots\n",
      "  126 dependencies successfully precompiled in 154 seconds (135 already precompiled)\n",
      "  \u001b[33m58\u001b[39m dependencies precompiled but different versions are currently loaded. Restart julia to access the new versions\n",
      "┌ Info: Precompiling GLMNet [8d5ece8b-de18-5317-b113-243142960cc6]\n",
      "└ @ Base loading.jl:1423\n",
      "\u001b[33m\u001b[1m┌ \u001b[22m\u001b[39m\u001b[33m\u001b[1mWarning: \u001b[22m\u001b[39mModule Distributions with build ID 1295605879855701 is missing from the cache.\n",
      "\u001b[33m\u001b[1m│ \u001b[22m\u001b[39mThis may mean Distributions [31c24e10-a181-5473-b8eb-7969acd0382f] does not support precompilation but is imported by a module that does.\n",
      "\u001b[33m\u001b[1m└ \u001b[22m\u001b[39m\u001b[90m@ Base loading.jl:1107\u001b[39m\n",
      "┌ Info: Skipping precompilation since __precompile__(false). Importing GLMNet [8d5ece8b-de18-5317-b113-243142960cc6].\n",
      "└ @ Base loading.jl:1124\n",
      "WARNING: using GLMNet.coef in module Main conflicts with an existing identifier.\n",
      "WARNING: using GLMNet.predict in module Main conflicts with an existing identifier.\n"
     ]
    }
   ],
   "source": [
    "# import Pkg; Pkg.add(\"GLMNet\")\n",
    "using GLMNet"
   ]
  },
  {
   "cell_type": "code",
   "execution_count": 38,
   "id": "dd6d30cb",
   "metadata": {},
   "outputs": [
    {
     "name": "stdout",
     "output_type": "stream",
     "text": [
      "R^2 using cross-validation for lasso, ridge and elastic net in the basic model:0.2505001778919782; 0.24856871911321732 y \n",
      "0.25050786938828096"
     ]
    }
   ],
   "source": [
    "fit_lasso_cv   = GLMNet.glmnetcv(model_X_basic_train, Y_train[!,1], alpha=1)\n",
    "fit_ridge   = GLMNet.glmnetcv(model_X_basic_train, Y_train[!,1], alpha=0)\n",
    "fit_elnet   = GLMNet.glmnetcv(model_X_basic_train, Y_train[!,1], alpha= 0.5)\n",
    "\n",
    "yhat_lasso_cv    = GLMNet.predict(fit_lasso_cv,  model_X_basic_test)\n",
    "yhat_ridge   = GLMNet.predict(fit_ridge,  model_X_basic_test)\n",
    "yhat_elnet   = GLMNet.predict(fit_elnet,  model_X_basic_test)\n",
    "\n",
    "res_lasso_cv = ( Y_test[!,1] - yhat_lasso_cv ) .^ 2\n",
    "mean_residuals = lm(  matrix_ones, res_lasso_cv )\n",
    "MSE_lasso_cv = [ coef( mean_residuals ) , stderror( mean_residuals ) ]\n",
    "\n",
    "res_ridge = ( Y_test[!,1] - yhat_ridge ) .^ 2\n",
    "mean_residuals = lm(  matrix_ones, res_ridge )\n",
    "MSE_ridge = [ coef( mean_residuals ) , stderror( mean_residuals ) ]\n",
    "\n",
    "res_elnet = ( Y_test[!,1] - yhat_elnet ) .^ 2\n",
    "mean_residuals = lm(  matrix_ones, res_elnet )\n",
    "MSE_elnet = [ coef( mean_residuals ) , stderror( mean_residuals ) ]\n",
    "\n",
    "R2_lasso_cv = 1 .- ( MSE_lasso_cv[1] / var( Y_test[!,1] ) )\n",
    "R2_ridge = 1 .- ( MSE_ridge[1] / var( Y_test[!,1] ) )\n",
    "R2_elnet = 1 .- ( MSE_elnet[1] / var( Y_test[!,1] ) )\n",
    "\n",
    "print(\"R^2 using cross-validation for lasso, ridge and elastic net in the basic model:\"\n",
    "    , R2_lasso_cv[1],\"; \",R2_ridge[1],\" y \\n\",R2_elnet[1])"
   ]
  },
  {
   "cell_type": "code",
   "execution_count": 39,
   "id": "f2d544f6",
   "metadata": {},
   "outputs": [
    {
     "name": "stdout",
     "output_type": "stream",
     "text": [
      "R^2 using cross-validation for lasso, ridge and elastic net in the flex model:0.25135404554590435; 0.24825415150378083y \n",
      "0.25071631141253203"
     ]
    }
   ],
   "source": [
    "fit_lasso_cv_flex   = GLMNet.glmnetcv(model_X_flex_train, Y_train[!,1], alpha=1)\n",
    "fit_ridge_flex   = GLMNet.glmnetcv(model_X_flex_train, Y_train[!,1], alpha=0)\n",
    "fit_elnet_flex   = GLMNet.glmnetcv(model_X_flex_train, Y_train[!,1], alpha= 0.5)\n",
    "\n",
    "yhat_lasso_cv_flex    = GLMNet.predict(fit_lasso_cv_flex,  model_X_flex_test)\n",
    "yhat_ridge_flex   = GLMNet.predict(fit_ridge_flex,  model_X_flex_test)\n",
    "yhat_elnet_flex   = GLMNet.predict(fit_elnet_flex,  model_X_flex_test)\n",
    "\n",
    "res_lasso_cv_flex = ( Y_test[!,1] - yhat_lasso_cv_flex ) .^ 2\n",
    "mean_residuals = lm(  matrix_ones, res_lasso_cv_flex )\n",
    "MSE_lasso_cv_flex = [ coef( mean_residuals ) , stderror( mean_residuals ) ]\n",
    "\n",
    "res_ridge_flex = ( Y_test[!,1] - yhat_ridge_flex ) .^ 2\n",
    "mean_residuals = lm(  matrix_ones, res_ridge_flex )\n",
    "MSE_ridge_flex = [ coef( mean_residuals ) , stderror( mean_residuals ) ]\n",
    "\n",
    "res_elnet_flex = ( Y_test[!,1] - yhat_elnet_flex ) .^ 2\n",
    "mean_residuals = lm(  matrix_ones, res_elnet_flex )\n",
    "MSE_elnet_flex = [ coef( mean_residuals ) , stderror( mean_residuals ) ]\n",
    "\n",
    "R2_lasso_cv_flex = ( 1 .- ( MSE_lasso_cv_flex[1] / var( Y_test[!,1] ) ) )[1]\n",
    "R2_ridge_flex = ( 1 .- ( MSE_ridge_flex[1] / var( Y_test[!,1] ) ) )[1]\n",
    "R2_elnet_flex = ( 1 .- ( MSE_elnet_flex[1] / var( Y_test[!,1] ) ) )[1]\n",
    "\n",
    "print(\"R^2 using cross-validation for lasso, ridge and elastic net in the flex model:\"\n",
    "    ,R2_lasso_cv_flex[1],\"; \",R2_ridge_flex[1],\"y \\n\",R2_elnet_flex[1])"
   ]
  },
  {
   "cell_type": "markdown",
   "id": "b2c17b66",
   "metadata": {},
   "source": [
    "## Non-linear models"
   ]
  },
  {
   "cell_type": "code",
   "execution_count": 40,
   "id": "62846572",
   "metadata": {},
   "outputs": [
    {
     "name": "stderr",
     "output_type": "stream",
     "text": [
      "\u001b[32m\u001b[1m   Resolving\u001b[22m\u001b[39m package versions...\n",
      "\u001b[32m\u001b[1m   Installed\u001b[22m\u001b[39m ScikitLearnBase ─ v0.5.0\n",
      "\u001b[32m\u001b[1m   Installed\u001b[22m\u001b[39m ScikitLearn ───── v0.6.4\n",
      "\u001b[32m\u001b[1m    Updating\u001b[22m\u001b[39m `C:\\Users\\a2018\\.julia\\environments\\v1.7\\Project.toml`\n",
      " \u001b[90m [3646fa90] \u001b[39m\u001b[92m+ ScikitLearn v0.6.4\u001b[39m\n",
      "\u001b[32m\u001b[1m    Updating\u001b[22m\u001b[39m `C:\\Users\\a2018\\.julia\\environments\\v1.7\\Manifest.toml`\n",
      " \u001b[90m [3646fa90] \u001b[39m\u001b[92m+ ScikitLearn v0.6.4\u001b[39m\n",
      " \u001b[90m [6e75b9c4] \u001b[39m\u001b[92m+ ScikitLearnBase v0.5.0\u001b[39m\n",
      "\u001b[32m\u001b[1mPrecompiling\u001b[22m\u001b[39m project...\n",
      "\u001b[32m  ✓ \u001b[39m\u001b[90mScikitLearnBase\u001b[39m\n",
      "\u001b[32m  ✓ \u001b[39mScikitLearn\n",
      "  2 dependencies successfully precompiled in 6 seconds (261 already precompiled)\n",
      "\u001b[32m\u001b[1m   Resolving\u001b[22m\u001b[39m package versions...\n",
      "\u001b[32m\u001b[1m   Installed\u001b[22m\u001b[39m DecisionTree ─ v0.10.12\n",
      "\u001b[32m\u001b[1m    Updating\u001b[22m\u001b[39m `C:\\Users\\a2018\\.julia\\environments\\v1.7\\Project.toml`\n",
      " \u001b[90m [7806a523] \u001b[39m\u001b[92m+ DecisionTree v0.10.12\u001b[39m\n",
      "\u001b[32m\u001b[1m    Updating\u001b[22m\u001b[39m `C:\\Users\\a2018\\.julia\\environments\\v1.7\\Manifest.toml`\n",
      " \u001b[90m [7806a523] \u001b[39m\u001b[92m+ DecisionTree v0.10.12\u001b[39m\n",
      "\u001b[32m\u001b[1mPrecompiling\u001b[22m\u001b[39m project...\n",
      "\u001b[32m  ✓ \u001b[39mDecisionTree\n",
      "  1 dependency successfully precompiled in 2 seconds (263 already precompiled)\n",
      "┌ Info: Precompiling ScikitLearn [3646fa90-6ef7-5e7e-9f22-8aca16db6324]\n",
      "└ @ Base loading.jl:1423\n",
      "\u001b[33m\u001b[1m┌ \u001b[22m\u001b[39m\u001b[33m\u001b[1mWarning: \u001b[22m\u001b[39mModule Compat with build ID 655247775757801 is missing from the cache.\n",
      "\u001b[33m\u001b[1m│ \u001b[22m\u001b[39mThis may mean Compat [34da2185-b29b-5c13-b0c7-acf172513d20] does not support precompilation but is imported by a module that does.\n",
      "\u001b[33m\u001b[1m└ \u001b[22m\u001b[39m\u001b[90m@ Base loading.jl:1107\u001b[39m\n",
      "┌ Info: Skipping precompilation since __precompile__(false). Importing ScikitLearn [3646fa90-6ef7-5e7e-9f22-8aca16db6324].\n",
      "└ @ Base loading.jl:1124\n",
      "WARNING: using DecisionTree.predict in module Main conflicts with an existing identifier.\n"
     ]
    }
   ],
   "source": [
    "import Pkg; Pkg.add( \"ScikitLearn\" )\n",
    "\n",
    "import Pkg; Pkg.add(\"DecisionTree\")\n",
    "\n",
    "using ScikitLearn, DecisionTree"
   ]
  },
  {
   "cell_type": "code",
   "execution_count": 41,
   "id": "d3120f51",
   "metadata": {},
   "outputs": [
    {
     "data": {
      "text/plain": [
       "DecisionTreeRegressor\n",
       "max_depth:                -1\n",
       "min_samples_leaf:         1\n",
       "min_samples_split:        2\n",
       "min_purity_increase:      0.0\n",
       "pruning_purity_threshold: 1.0\n",
       "n_subfeatures:            0\n",
       "root:                     nothing"
      ]
     },
     "execution_count": 41,
     "metadata": {},
     "output_type": "execute_result"
    }
   ],
   "source": [
    "tree = DecisionTreeRegressor(min_purity_increase = 0, min_samples_leaf=1, min_samples_split = 2,rng = 0)"
   ]
  },
  {
   "cell_type": "markdown",
   "id": "48e8fea0",
   "metadata": {},
   "source": [
    "Now, we can prune the tree and visualize the prediction rule."
   ]
  },
  {
   "cell_type": "code",
   "execution_count": 42,
   "id": "20ca77fa",
   "metadata": {},
   "outputs": [
    {
     "data": {
      "text/plain": [
       "DecisionTreeRegressor\n",
       "max_depth:                -1\n",
       "min_samples_leaf:         1\n",
       "min_samples_split:        2\n",
       "min_purity_increase:      0.01\n",
       "pruning_purity_threshold: 1.0\n",
       "n_subfeatures:            0\n",
       "root:                     Decision Tree\n",
       "Leaves: 9\n",
       "Depth:  4"
      ]
     },
     "execution_count": 42,
     "metadata": {},
     "output_type": "execute_result"
    }
   ],
   "source": [
    "# Using prun purity parameter = 0.010\n",
    "\n",
    "tree1 = DecisionTreeRegressor( min_samples_leaf=1, min_samples_split = 2, rng = 0, min_purity_increase = 0.01)\n",
    "trees_fit1 =  ScikitLearn.fit!(tree1, model_X_basic_train, Y_train[!,1] )"
   ]
  },
  {
   "cell_type": "markdown",
   "id": "1a23783e",
   "metadata": {},
   "source": [
    "## Results"
   ]
  },
  {
   "cell_type": "code",
   "execution_count": 55,
   "id": "69da6771",
   "metadata": {},
   "outputs": [
    {
     "data": {
      "text/html": [
       "<!DOCTYPE html>\n",
       "<html>\n",
       "<meta charset=\"UTF-8\">\n",
       "<style>\n",
       "  table, td, th {\n",
       "      border-collapse: collapse;\n",
       "      font-family: sans-serif;\n",
       "  }\n",
       "\n",
       "  td, th {\n",
       "      border-bottom: 0;\n",
       "      padding: 4px\n",
       "  }\n",
       "\n",
       "  tr:nth-child(odd) {\n",
       "      background: #eee;\n",
       "  }\n",
       "\n",
       "  tr:nth-child(even) {\n",
       "      background: #fff;\n",
       "  }\n",
       "\n",
       "  tr.header {\n",
       "      background: navy !important;\n",
       "      color: white;\n",
       "      font-weight: bold;\n",
       "  }\n",
       "\n",
       "  tr.subheader {\n",
       "      background: lightgray !important;\n",
       "      color: black;\n",
       "  }\n",
       "\n",
       "  tr.headerLastRow {\n",
       "      border-bottom: 2px solid black;\n",
       "  }\n",
       "\n",
       "  th.rowNumber, td.rowNumber {\n",
       "      text-align: right;\n",
       "  }\n",
       "\n",
       "</style>\n",
       "<body>\n",
       "<table>\n",
       "  <thead>\n",
       "    <tr class = \"header headerLastRow\">\n",
       "      <th style = \"text-align: center;\">Model</th>\n",
       "      <th style = \"text-align: center;\">MSE</th>\n",
       "      <th style = \"text-align: center;\">S.E. for MSE</th>\n",
       "      <th style = \"text-align: center;\">R-squared</th>\n",
       "    </tr>\n",
       "  </thead>\n",
       "  <tbody>\n",
       "    <tr>\n",
       "      <td style = \"text-align: center;\">Least Squares (basic)</td>\n",
       "      <td style = \"text-align: center;\">0.3355</td>\n",
       "      <td style = \"text-align: center;\">0.0234</td>\n",
       "      <td style = \"text-align: center;\">0.0</td>\n",
       "    </tr>\n",
       "    <tr>\n",
       "      <td style = \"text-align: center;\">Least Squares (flexible)</td>\n",
       "      <td style = \"text-align: center;\">0.3355</td>\n",
       "      <td style = \"text-align: center;\">0.0234</td>\n",
       "      <td style = \"text-align: center;\">0.2517</td>\n",
       "    </tr>\n",
       "    <tr>\n",
       "      <td style = \"text-align: center;\">Lasso</td>\n",
       "      <td style = \"text-align: center;\">0.0</td>\n",
       "      <td style = \"text-align: center;\">0.0</td>\n",
       "      <td style = \"text-align: center;\">0.0</td>\n",
       "    </tr>\n",
       "    <tr>\n",
       "      <td style = \"text-align: center;\">Post-Lasso</td>\n",
       "      <td style = \"text-align: center;\">0.0</td>\n",
       "      <td style = \"text-align: center;\">0.0</td>\n",
       "      <td style = \"text-align: center;\">0.0</td>\n",
       "    </tr>\n",
       "    <tr>\n",
       "      <td style = \"text-align: center;\">Lasso (flexible)</td>\n",
       "      <td style = \"text-align: center;\">0.0</td>\n",
       "      <td style = \"text-align: center;\">0.0</td>\n",
       "      <td style = \"text-align: center;\">0.0</td>\n",
       "    </tr>\n",
       "    <tr>\n",
       "      <td style = \"text-align: center;\">Post-Lasso (flexible)</td>\n",
       "      <td style = \"text-align: center;\">0.0</td>\n",
       "      <td style = \"text-align: center;\">0.0</td>\n",
       "      <td style = \"text-align: center;\">0.0</td>\n",
       "    </tr>\n",
       "    <tr>\n",
       "      <td style = \"text-align: center;\">Cross-Validated lasso</td>\n",
       "      <td style = \"text-align: center;\">0.3361</td>\n",
       "      <td style = \"text-align: center;\">0.0234</td>\n",
       "      <td style = \"text-align: center;\">0.2505</td>\n",
       "    </tr>\n",
       "    <tr>\n",
       "      <td style = \"text-align: center;\">Cross-Validated ridge</td>\n",
       "      <td style = \"text-align: center;\">0.3369</td>\n",
       "      <td style = \"text-align: center;\">0.0233</td>\n",
       "      <td style = \"text-align: center;\">0.2486</td>\n",
       "    </tr>\n",
       "    <tr>\n",
       "      <td style = \"text-align: center;\">Cross-Validated elnet</td>\n",
       "      <td style = \"text-align: center;\">0.3361</td>\n",
       "      <td style = \"text-align: center;\">0.0234</td>\n",
       "      <td style = \"text-align: center;\">0.2505</td>\n",
       "    </tr>\n",
       "    <tr>\n",
       "      <td style = \"text-align: center;\">Cross-Validated lasso (flexible)</td>\n",
       "      <td style = \"text-align: center;\">0.3357</td>\n",
       "      <td style = \"text-align: center;\">0.0234</td>\n",
       "      <td style = \"text-align: center;\">0.2514</td>\n",
       "    </tr>\n",
       "    <tr>\n",
       "      <td style = \"text-align: center;\">Cross-Validated ridge (flexible)</td>\n",
       "      <td style = \"text-align: center;\">0.3371</td>\n",
       "      <td style = \"text-align: center;\">0.0233</td>\n",
       "      <td style = \"text-align: center;\">0.2483</td>\n",
       "    </tr>\n",
       "    <tr>\n",
       "      <td style = \"text-align: center;\">Cross-Validated elnet (flexible)</td>\n",
       "      <td style = \"text-align: center;\">0.336</td>\n",
       "      <td style = \"text-align: center;\">0.0234</td>\n",
       "      <td style = \"text-align: center;\">0.2507</td>\n",
       "    </tr>\n",
       "    <tr>\n",
       "      <td style = \"text-align: center;\">Pruned Tree</td>\n",
       "      <td style = \"text-align: center;\">0.0</td>\n",
       "      <td style = \"text-align: center;\">0.0</td>\n",
       "      <td style = \"text-align: center;\">0.0</td>\n",
       "    </tr>\n",
       "    <tr>\n",
       "      <td style = \"text-align: center;\">Random Forest</td>\n",
       "      <td style = \"text-align: center;\">0.0</td>\n",
       "      <td style = \"text-align: center;\">0.0</td>\n",
       "      <td style = \"text-align: center;\">0.0</td>\n",
       "    </tr>\n",
       "    <tr>\n",
       "      <td style = \"text-align: center;\">Boosted Trees</td>\n",
       "      <td style = \"text-align: center;\">0.0</td>\n",
       "      <td style = \"text-align: center;\">0.0</td>\n",
       "      <td style = \"text-align: center;\">0.0</td>\n",
       "    </tr>\n",
       "  </tbody>\n",
       "</table>\n",
       "</body>\n",
       "</html>\n"
      ]
     },
     "metadata": {},
     "output_type": "display_data"
    }
   ],
   "source": [
    "table = NamedArray(zeros(15, 4))\n",
    "\n",
    "table[1,2:3] = [MSE_lm_basic[1][1], MSE_lm_basic[2][1]]\n",
    "table[2,2:3] = [MSE_lm_flex[1][1], MSE_lm_flex[2][1]]\n",
    "#table[3,2:3] = [MSE_rlasso_basic[1][1], MSE_rlasso_basic[2][1]]\n",
    "#table[4,2:3] = [MSE_rlasso_basic_post[1][1], MSE_rlasso_basic_post[2][1]]\n",
    "#table[5,2:3] = [MSE_rlasso_flex[1][1], MSE_rlasso_flex[2][1]]\n",
    "#table[6,2:3] = [MSE_rlasso_flex_post[1][1], MSE_rlasso_flex_post[2][1]]\n",
    "table[7,2:3] = [MSE_lasso_cv[1][1], MSE_lasso_cv[2][1]]\n",
    "table[8,2:3] = [MSE_ridge[1][1], MSE_ridge[2][1]]\n",
    "table[9,2:3] = [MSE_elnet[1][1], MSE_elnet[2][1]]\n",
    "table[10,2:3] = [MSE_lasso_cv_flex[1][1], MSE_lasso_cv_flex[2][1]]\n",
    "table[11,2:3] = [MSE_ridge_flex[1][1], MSE_ridge_flex[2][1]]\n",
    "table[12,2:3] = [MSE_elnet_flex[1][1], MSE_elnet_flex[2][1]]\n",
    "#table[13,2:3] = [MSE_prune_tree[1][1], MSE_prune_tree[2][1]]\n",
    "#table[14,2:3] = [MSE_rf[1][1], MSE_rf[2][1]]\n",
    "#table[15,2:3] = [0,0]\n",
    "\n",
    "#table[1,4] = R2_lm_basic[1]\n",
    "table[2,4] = R2_lm_flex[1]\n",
    "#table[3,4] = R2_rlasso_basic[1]\n",
    "#table[4,4] = R2_rlasso_basic_post[1]\n",
    "#table[5,4] = R2_rlasso_flex[1]\n",
    "#table[6,4] = R2_rlasso_flex_post[1]\n",
    "table[7,4] = R2_lasso_cv[1]\n",
    "table[8,4] = R2_ridge[1]\n",
    "table[9,4] = R2_elnet[1]\n",
    "table[10,4] = R2_lasso_cv_flex[1]\n",
    "table[11,4] = R2_ridge_flex[1]\n",
    "table[12,4] = R2_elnet_flex[1]\n",
    "#table[13,4] = R2_prune_tree[1]\n",
    "#table[14,4] = R2_rf[1]\n",
    "#table[15,4] = 0\n",
    "\n",
    "T = DataFrame(table, [ :\"Model\",:\"MSE\", :\"S.E. for MSE\", :\"R-squared\"]) \n",
    "T[!,:Model] = string.(T[!,:Model]) \n",
    "\n",
    "T[1,1] = \"Least Squares (basic)\"\n",
    "T[2,1] = \"Least Squares (flexible)\"\n",
    "T[3,1] = \"Lasso\"\n",
    "T[4,1] = \"Post-Lasso\"\n",
    "T[5,1] = \"Lasso (flexible)\"\n",
    "T[6,1] = \"Post-Lasso (flexible)\"\n",
    "T[7,1] = \"Cross-Validated lasso\"\n",
    "T[8,1] = \"Cross-Validated ridge\"\n",
    "T[9,1] = \"Cross-Validated elnet\"\n",
    "T[10,1] = \"Cross-Validated lasso (flexible)\"\n",
    "T[11,1] = \"Cross-Validated ridge (flexible)\"\n",
    "T[12,1] = \"Cross-Validated elnet (flexible)\"\n",
    "T[13,1] = \"Pruned Tree\"\n",
    "T[14,1] = \"Random Forest\"\n",
    "T[15,1] = \"Boosted Trees\"\n",
    "\n",
    "header = ([\"Model\", \"MSE\", \"S.E. for MSE\", \"R-squared\"])\n",
    "\n",
    "pretty_table(T; backend = Val(:html), header = header, formatters=ft_round(4), alignment=:c)"
   ]
  }
 ],
 "metadata": {
  "kernelspec": {
   "display_name": "Julia 1.7.2",
   "language": "julia",
   "name": "julia-1.7"
  },
  "language_info": {
   "file_extension": ".jl",
   "mimetype": "application/julia",
   "name": "julia",
   "version": "1.7.2"
  }
 },
 "nbformat": 4,
 "nbformat_minor": 5
}
