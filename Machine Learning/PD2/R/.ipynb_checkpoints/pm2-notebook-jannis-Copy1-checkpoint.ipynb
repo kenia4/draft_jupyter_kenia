{
 "cells": [
  {
   "cell_type": "markdown",
   "metadata": {
    "papermill": {
     "duration": 0.022263,
     "end_time": "2021-01-20T08:46:44.289888",
     "exception": false,
     "start_time": "2021-01-20T08:46:44.267625",
     "status": "completed"
    },
    "tags": []
   },
   "source": [
    "This notebook contains an example for teaching."
   ]
  },
  {
   "cell_type": "markdown",
   "metadata": {
    "papermill": {
     "duration": 0.02114,
     "end_time": "2021-01-20T08:46:44.333044",
     "exception": false,
     "start_time": "2021-01-20T08:46:44.311904",
     "status": "completed"
    },
    "tags": []
   },
   "source": [
    "# Testing the Convergence Hypothesis"
   ]
  },
  {
   "cell_type": "markdown",
   "metadata": {
    "papermill": {
     "duration": 0.020943,
     "end_time": "2021-01-20T08:46:44.375077",
     "exception": false,
     "start_time": "2021-01-20T08:46:44.354134",
     "status": "completed"
    },
    "tags": []
   },
   "source": [
    "## Introduction"
   ]
  },
  {
   "cell_type": "markdown",
   "metadata": {
    "papermill": {
     "duration": 0.020999,
     "end_time": "2021-01-20T08:46:44.417216",
     "exception": false,
     "start_time": "2021-01-20T08:46:44.396217",
     "status": "completed"
    },
    "tags": []
   },
   "source": [
    "We provide an additional empirical example of partialling-out with Lasso to estimate the regression coefficient $\\beta_1$ in the high-dimensional linear regression model:\n",
    "  $$\n",
    "  Y = \\beta_1 D +  \\beta_2'W + \\epsilon.\n",
    "  $$\n",
    "  \n",
    "Specifically, we are interested in how the rates  at which economies of different countries grow ($Y$) are related to the initial wealth levels in each country ($D$) controlling for country's institutional, educational, and other similar characteristics ($W$).\n",
    "  \n",
    "The relationship is captured by $\\beta_1$, the *speed of convergence/divergence*, which measures the speed at which poor countries catch up $(\\beta_1< 0)$ or fall behind $(\\beta_1> 0)$ rich countries, after controlling for $W$. Our inference question here is: do poor countries grow faster than rich countries, controlling for educational and other characteristics? In other words, is the speed of convergence negative: $ \\beta_1 <0?$ This is the Convergence Hypothesis predicted by the Solow Growth Model. This is a structural economic model. Under some strong assumptions, that we won't state here, the predictive exercise we are doing here can be given causal interpretation.\n"
   ]
  },
  {
   "cell_type": "markdown",
   "metadata": {
    "papermill": {
     "duration": 0.021587,
     "end_time": "2021-01-20T08:46:44.459779",
     "exception": false,
     "start_time": "2021-01-20T08:46:44.438192",
     "status": "completed"
    },
    "tags": []
   },
   "source": [
    "The outcome $Y$ is the realized annual growth rate of a country's wealth  (Gross Domestic Product per capita). The target regressor ($D$) is the initial level of the country's wealth. The target parameter $\\beta_1$ is the speed of convergence, which measures the speed at which poor countries catch up with rich countries. The controls ($W$) include measures of education levels, quality of institutions, trade openness, and political stability in the country."
   ]
  },
  {
   "cell_type": "markdown",
   "metadata": {
    "papermill": {
     "duration": 0.021064,
     "end_time": "2021-01-20T08:46:44.502289",
     "exception": false,
     "start_time": "2021-01-20T08:46:44.481225",
     "status": "completed"
    },
    "tags": []
   },
   "source": [
    "## Data analysis\n"
   ]
  },
  {
   "cell_type": "markdown",
   "metadata": {
    "papermill": {
     "duration": 0.021269,
     "end_time": "2021-01-20T08:46:44.545701",
     "exception": false,
     "start_time": "2021-01-20T08:46:44.524432",
     "status": "completed"
    },
    "tags": []
   },
   "source": [
    "We consider the data set GrowthData which is included in the package *hdm*. First, let us load the data set to get familiar with the data."
   ]
  },
  {
   "cell_type": "code",
   "execution_count": 1,
   "metadata": {},
   "outputs": [
    {
     "name": "stderr",
     "output_type": "stream",
     "text": [
      "Installing package into 'D:/Kenia/Documents/R/win-library/4.0'\n",
      "(as 'lib' is unspecified)\n",
      "\n"
     ]
    },
    {
     "name": "stdout",
     "output_type": "stream",
     "text": [
      "package 'hdm' successfully unpacked and MD5 sums checked\n",
      "\n",
      "The downloaded binary packages are in\n",
      "\tC:\\Users\\Kenia\\AppData\\Local\\Temp\\Rtmpg5Uz8O\\downloaded_packages\n"
     ]
    },
    {
     "name": "stderr",
     "output_type": "stream",
     "text": [
      "Warning message:\n",
      "\"package 'hdm' was built under R version 4.0.5\"\n"
     ]
    },
    {
     "ename": "ERROR",
     "evalue": "Error in library(xtable): there is no package called 'xtable'\n",
     "output_type": "error",
     "traceback": [
      "Error in library(xtable): there is no package called 'xtable'\nTraceback:\n",
      "1. library(xtable)"
     ]
    }
   ],
   "source": [
    "install.packages(\"hdm\")\n",
    "\n",
    "library(hdm)\n",
    "library(xtable)"
   ]
  },
  {
   "cell_type": "code",
   "execution_count": 3,
   "metadata": {},
   "outputs": [],
   "source": [
    "# Export data to read in python\n",
    "GrowthData <- GrowthData\n",
    "save(GrowthData, file = \"../../data/GrowthData.RData\")"
   ]
  },
  {
   "cell_type": "code",
   "execution_count": 4,
   "metadata": {
    "execution": {
     "iopub.execute_input": "2021-01-20T08:46:44.640789Z",
     "iopub.status.busy": "2021-01-20T08:46:44.638074Z",
     "iopub.status.idle": "2021-01-20T08:46:44.895364Z",
     "shell.execute_reply": "2021-01-20T08:46:44.894062Z"
    },
    "papermill": {
     "duration": 0.328039,
     "end_time": "2021-01-20T08:46:44.895665",
     "exception": false,
     "start_time": "2021-01-20T08:46:44.567626",
     "status": "completed"
    },
    "tags": []
   },
   "outputs": [
    {
     "data": {
      "text/html": [
       "<style>\n",
       ".list-inline {list-style: none; margin:0; padding: 0}\n",
       ".list-inline>li {display: inline-block}\n",
       ".list-inline>li:not(:last-child)::after {content: \"\\00b7\"; padding: 0 .5ex}\n",
       "</style>\n",
       "<ol class=list-inline><li>'Outcome'</li><li>'intercept'</li><li>'gdpsh465'</li><li>'bmp1l'</li><li>'freeop'</li><li>'freetar'</li><li>'h65'</li><li>'hm65'</li><li>'hf65'</li><li>'p65'</li><li>'pm65'</li><li>'pf65'</li><li>'s65'</li><li>'sm65'</li><li>'sf65'</li><li>'fert65'</li><li>'mort65'</li><li>'lifee065'</li><li>'gpop1'</li><li>'fert1'</li><li>'mort1'</li><li>'invsh41'</li><li>'geetot1'</li><li>'geerec1'</li><li>'gde1'</li><li>'govwb1'</li><li>'govsh41'</li><li>'gvxdxe41'</li><li>'high65'</li><li>'highm65'</li><li>'highf65'</li><li>'highc65'</li><li>'highcm65'</li><li>'highcf65'</li><li>'human65'</li><li>'humanm65'</li><li>'humanf65'</li><li>'hyr65'</li><li>'hyrm65'</li><li>'hyrf65'</li><li>'no65'</li><li>'nom65'</li><li>'nof65'</li><li>'pinstab1'</li><li>'pop65'</li><li>'worker65'</li><li>'pop1565'</li><li>'pop6565'</li><li>'sec65'</li><li>'secm65'</li><li>'secf65'</li><li>'secc65'</li><li>'seccm65'</li><li>'seccf65'</li><li>'syr65'</li><li>'syrm65'</li><li>'syrf65'</li><li>'teapri65'</li><li>'teasec65'</li><li>'ex1'</li><li>'im1'</li><li>'xr65'</li><li>'tot1'</li></ol>\n"
      ],
      "text/latex": [
       "\\begin{enumerate*}\n",
       "\\item 'Outcome'\n",
       "\\item 'intercept'\n",
       "\\item 'gdpsh465'\n",
       "\\item 'bmp1l'\n",
       "\\item 'freeop'\n",
       "\\item 'freetar'\n",
       "\\item 'h65'\n",
       "\\item 'hm65'\n",
       "\\item 'hf65'\n",
       "\\item 'p65'\n",
       "\\item 'pm65'\n",
       "\\item 'pf65'\n",
       "\\item 's65'\n",
       "\\item 'sm65'\n",
       "\\item 'sf65'\n",
       "\\item 'fert65'\n",
       "\\item 'mort65'\n",
       "\\item 'lifee065'\n",
       "\\item 'gpop1'\n",
       "\\item 'fert1'\n",
       "\\item 'mort1'\n",
       "\\item 'invsh41'\n",
       "\\item 'geetot1'\n",
       "\\item 'geerec1'\n",
       "\\item 'gde1'\n",
       "\\item 'govwb1'\n",
       "\\item 'govsh41'\n",
       "\\item 'gvxdxe41'\n",
       "\\item 'high65'\n",
       "\\item 'highm65'\n",
       "\\item 'highf65'\n",
       "\\item 'highc65'\n",
       "\\item 'highcm65'\n",
       "\\item 'highcf65'\n",
       "\\item 'human65'\n",
       "\\item 'humanm65'\n",
       "\\item 'humanf65'\n",
       "\\item 'hyr65'\n",
       "\\item 'hyrm65'\n",
       "\\item 'hyrf65'\n",
       "\\item 'no65'\n",
       "\\item 'nom65'\n",
       "\\item 'nof65'\n",
       "\\item 'pinstab1'\n",
       "\\item 'pop65'\n",
       "\\item 'worker65'\n",
       "\\item 'pop1565'\n",
       "\\item 'pop6565'\n",
       "\\item 'sec65'\n",
       "\\item 'secm65'\n",
       "\\item 'secf65'\n",
       "\\item 'secc65'\n",
       "\\item 'seccm65'\n",
       "\\item 'seccf65'\n",
       "\\item 'syr65'\n",
       "\\item 'syrm65'\n",
       "\\item 'syrf65'\n",
       "\\item 'teapri65'\n",
       "\\item 'teasec65'\n",
       "\\item 'ex1'\n",
       "\\item 'im1'\n",
       "\\item 'xr65'\n",
       "\\item 'tot1'\n",
       "\\end{enumerate*}\n"
      ],
      "text/markdown": [
       "1. 'Outcome'\n",
       "2. 'intercept'\n",
       "3. 'gdpsh465'\n",
       "4. 'bmp1l'\n",
       "5. 'freeop'\n",
       "6. 'freetar'\n",
       "7. 'h65'\n",
       "8. 'hm65'\n",
       "9. 'hf65'\n",
       "10. 'p65'\n",
       "11. 'pm65'\n",
       "12. 'pf65'\n",
       "13. 's65'\n",
       "14. 'sm65'\n",
       "15. 'sf65'\n",
       "16. 'fert65'\n",
       "17. 'mort65'\n",
       "18. 'lifee065'\n",
       "19. 'gpop1'\n",
       "20. 'fert1'\n",
       "21. 'mort1'\n",
       "22. 'invsh41'\n",
       "23. 'geetot1'\n",
       "24. 'geerec1'\n",
       "25. 'gde1'\n",
       "26. 'govwb1'\n",
       "27. 'govsh41'\n",
       "28. 'gvxdxe41'\n",
       "29. 'high65'\n",
       "30. 'highm65'\n",
       "31. 'highf65'\n",
       "32. 'highc65'\n",
       "33. 'highcm65'\n",
       "34. 'highcf65'\n",
       "35. 'human65'\n",
       "36. 'humanm65'\n",
       "37. 'humanf65'\n",
       "38. 'hyr65'\n",
       "39. 'hyrm65'\n",
       "40. 'hyrf65'\n",
       "41. 'no65'\n",
       "42. 'nom65'\n",
       "43. 'nof65'\n",
       "44. 'pinstab1'\n",
       "45. 'pop65'\n",
       "46. 'worker65'\n",
       "47. 'pop1565'\n",
       "48. 'pop6565'\n",
       "49. 'sec65'\n",
       "50. 'secm65'\n",
       "51. 'secf65'\n",
       "52. 'secc65'\n",
       "53. 'seccm65'\n",
       "54. 'seccf65'\n",
       "55. 'syr65'\n",
       "56. 'syrm65'\n",
       "57. 'syrf65'\n",
       "58. 'teapri65'\n",
       "59. 'teasec65'\n",
       "60. 'ex1'\n",
       "61. 'im1'\n",
       "62. 'xr65'\n",
       "63. 'tot1'\n",
       "\n",
       "\n"
      ],
      "text/plain": [
       " [1] \"Outcome\"   \"intercept\" \"gdpsh465\"  \"bmp1l\"     \"freeop\"    \"freetar\"  \n",
       " [7] \"h65\"       \"hm65\"      \"hf65\"      \"p65\"       \"pm65\"      \"pf65\"     \n",
       "[13] \"s65\"       \"sm65\"      \"sf65\"      \"fert65\"    \"mort65\"    \"lifee065\" \n",
       "[19] \"gpop1\"     \"fert1\"     \"mort1\"     \"invsh41\"   \"geetot1\"   \"geerec1\"  \n",
       "[25] \"gde1\"      \"govwb1\"    \"govsh41\"   \"gvxdxe41\"  \"high65\"    \"highm65\"  \n",
       "[31] \"highf65\"   \"highc65\"   \"highcm65\"  \"highcf65\"  \"human65\"   \"humanm65\" \n",
       "[37] \"humanf65\"  \"hyr65\"     \"hyrm65\"    \"hyrf65\"    \"no65\"      \"nom65\"    \n",
       "[43] \"nof65\"     \"pinstab1\"  \"pop65\"     \"worker65\"  \"pop1565\"   \"pop6565\"  \n",
       "[49] \"sec65\"     \"secm65\"    \"secf65\"    \"secc65\"    \"seccm65\"   \"seccf65\"  \n",
       "[55] \"syr65\"     \"syrm65\"    \"syrf65\"    \"teapri65\"  \"teasec65\"  \"ex1\"      \n",
       "[61] \"im1\"       \"xr65\"      \"tot1\"     "
      ]
     },
     "metadata": {},
     "output_type": "display_data"
    }
   ],
   "source": [
    "library(hdm)\n",
    "growth <- GrowthData\n",
    "attach(growth) #a cada vector lo convierte a un objeto\n",
    "names(growth)"
   ]
  },
  {
   "cell_type": "markdown",
   "metadata": {
    "papermill": {
     "duration": 0.022542,
     "end_time": "2021-01-20T08:46:44.941354",
     "exception": false,
     "start_time": "2021-01-20T08:46:44.918812",
     "status": "completed"
    },
    "tags": []
   },
   "source": [
    "We determine the dimension of our data set."
   ]
  },
  {
   "cell_type": "code",
   "execution_count": 5,
   "metadata": {
    "execution": {
     "iopub.execute_input": "2021-01-20T08:46:45.041191Z",
     "iopub.status.busy": "2021-01-20T08:46:44.993028Z",
     "iopub.status.idle": "2021-01-20T08:46:45.059804Z",
     "shell.execute_reply": "2021-01-20T08:46:45.057901Z"
    },
    "papermill": {
     "duration": 0.095528,
     "end_time": "2021-01-20T08:46:45.059972",
     "exception": false,
     "start_time": "2021-01-20T08:46:44.964444",
     "status": "completed"
    },
    "tags": []
   },
   "outputs": [
    {
     "data": {
      "text/html": [
       "<style>\n",
       ".list-inline {list-style: none; margin:0; padding: 0}\n",
       ".list-inline>li {display: inline-block}\n",
       ".list-inline>li:not(:last-child)::after {content: \"\\00b7\"; padding: 0 .5ex}\n",
       "</style>\n",
       "<ol class=list-inline><li>90</li><li>63</li></ol>\n"
      ],
      "text/latex": [
       "\\begin{enumerate*}\n",
       "\\item 90\n",
       "\\item 63\n",
       "\\end{enumerate*}\n"
      ],
      "text/markdown": [
       "1. 90\n",
       "2. 63\n",
       "\n",
       "\n"
      ],
      "text/plain": [
       "[1] 90 63"
      ]
     },
     "metadata": {},
     "output_type": "display_data"
    }
   ],
   "source": [
    "dim(growth) #dimensiones"
   ]
  },
  {
   "cell_type": "code",
   "execution_count": 5,
   "metadata": {},
   "outputs": [
    {
     "data": {
      "text/html": [
       "<table class=\"dataframe\">\n",
       "<caption>A data.frame: 90 × 63</caption>\n",
       "<thead>\n",
       "\t<tr><th scope=col>Outcome</th><th scope=col>intercept</th><th scope=col>gdpsh465</th><th scope=col>bmp1l</th><th scope=col>freeop</th><th scope=col>freetar</th><th scope=col>h65</th><th scope=col>hm65</th><th scope=col>hf65</th><th scope=col>p65</th><th scope=col>...</th><th scope=col>seccf65</th><th scope=col>syr65</th><th scope=col>syrm65</th><th scope=col>syrf65</th><th scope=col>teapri65</th><th scope=col>teasec65</th><th scope=col>ex1</th><th scope=col>im1</th><th scope=col>xr65</th><th scope=col>tot1</th></tr>\n",
       "\t<tr><th scope=col>&lt;dbl&gt;</th><th scope=col>&lt;int&gt;</th><th scope=col>&lt;dbl&gt;</th><th scope=col>&lt;dbl&gt;</th><th scope=col>&lt;dbl&gt;</th><th scope=col>&lt;dbl&gt;</th><th scope=col>&lt;dbl&gt;</th><th scope=col>&lt;dbl&gt;</th><th scope=col>&lt;dbl&gt;</th><th scope=col>&lt;dbl&gt;</th><th scope=col>...</th><th scope=col>&lt;dbl&gt;</th><th scope=col>&lt;dbl&gt;</th><th scope=col>&lt;dbl&gt;</th><th scope=col>&lt;dbl&gt;</th><th scope=col>&lt;dbl&gt;</th><th scope=col>&lt;dbl&gt;</th><th scope=col>&lt;dbl&gt;</th><th scope=col>&lt;dbl&gt;</th><th scope=col>&lt;dbl&gt;</th><th scope=col>&lt;dbl&gt;</th></tr>\n",
       "</thead>\n",
       "<tbody>\n",
       "\t<tr><td>-0.02433575</td><td>1</td><td>6.591674</td><td>0.2837</td><td>0.153491</td><td>0.043888</td><td>0.007</td><td>0.013</td><td>0.001</td><td>0.29</td><td>...</td><td> 0.04</td><td>0.033</td><td>0.057</td><td>0.010</td><td>47.6</td><td>17.3</td><td>0.0729</td><td>0.0667</td><td>  0.348</td><td>-0.014727</td></tr>\n",
       "\t<tr><td> 0.10047257</td><td>1</td><td>6.829794</td><td>0.6141</td><td>0.313509</td><td>0.061827</td><td>0.019</td><td>0.032</td><td>0.007</td><td>0.91</td><td>...</td><td> 0.64</td><td>0.173</td><td>0.274</td><td>0.067</td><td>57.1</td><td>18.0</td><td>0.0940</td><td>0.1438</td><td>  0.525</td><td> 0.005750</td></tr>\n",
       "\t<tr><td> 0.06705148</td><td>1</td><td>8.895082</td><td>0.0000</td><td>0.204244</td><td>0.009186</td><td>0.260</td><td>0.325</td><td>0.201</td><td>1.00</td><td>...</td><td>18.14</td><td>2.573</td><td>2.478</td><td>2.667</td><td>26.5</td><td>20.7</td><td>0.1741</td><td>0.1750</td><td>  1.082</td><td>-0.010040</td></tr>\n",
       "\t<tr><td> 0.06408917</td><td>1</td><td>7.565275</td><td>0.1997</td><td>0.248714</td><td>0.036270</td><td>0.061</td><td>0.070</td><td>0.051</td><td>1.00</td><td>...</td><td> 2.63</td><td>0.438</td><td>0.453</td><td>0.424</td><td>27.8</td><td>22.7</td><td>0.1265</td><td>0.1496</td><td>  6.625</td><td>-0.002195</td></tr>\n",
       "\t<tr><td> 0.02792955</td><td>1</td><td>7.162397</td><td>0.1740</td><td>0.299252</td><td>0.037367</td><td>0.017</td><td>0.027</td><td>0.007</td><td>0.82</td><td>...</td><td> 2.11</td><td>0.257</td><td>0.287</td><td>0.229</td><td>34.5</td><td>17.6</td><td>0.1211</td><td>0.1308</td><td>  2.500</td><td> 0.003283</td></tr>\n",
       "\t<tr><td> 0.04640744</td><td>1</td><td>7.218910</td><td>0.0000</td><td>0.258865</td><td>0.020880</td><td>0.023</td><td>0.038</td><td>0.006</td><td>0.50</td><td>...</td><td> 1.46</td><td>0.160</td><td>0.174</td><td>0.146</td><td>34.3</td><td> 8.1</td><td>0.0634</td><td>0.0762</td><td>  1.000</td><td>-0.001747</td></tr>\n",
       "\t<tr><td> 0.06733234</td><td>1</td><td>7.853605</td><td>0.0000</td><td>0.182525</td><td>0.014385</td><td>0.039</td><td>0.063</td><td>0.014</td><td>0.92</td><td>...</td><td> 1.59</td><td>0.342</td><td>0.484</td><td>0.207</td><td>46.6</td><td>14.7</td><td>0.0342</td><td>0.0428</td><td> 12.499</td><td> 0.009092</td></tr>\n",
       "\t<tr><td> 0.02097768</td><td>1</td><td>7.703910</td><td>0.2776</td><td>0.215275</td><td>0.029713</td><td>0.024</td><td>0.035</td><td>0.013</td><td>0.69</td><td>...</td><td> 1.63</td><td>0.184</td><td>0.219</td><td>0.152</td><td>34.0</td><td>16.1</td><td>0.0864</td><td>0.0931</td><td>  7.000</td><td> 0.011630</td></tr>\n",
       "\t<tr><td> 0.03355124</td><td>1</td><td>9.063463</td><td>0.0000</td><td>0.109614</td><td>0.002171</td><td>0.402</td><td>0.488</td><td>0.314</td><td>1.00</td><td>...</td><td>24.72</td><td>3.206</td><td>3.154</td><td>3.253</td><td>28.2</td><td>20.6</td><td>0.0594</td><td>0.0460</td><td>  1.000</td><td> 0.008169</td></tr>\n",
       "\t<tr><td> 0.03914652</td><td>1</td><td>8.151910</td><td>0.1484</td><td>0.110885</td><td>0.028579</td><td>0.145</td><td>0.173</td><td>0.114</td><td>1.00</td><td>...</td><td> 6.76</td><td>0.703</td><td>0.785</td><td>0.620</td><td>20.3</td><td> 7.2</td><td>0.0524</td><td>0.0523</td><td>  2.119</td><td> 0.007584</td></tr>\n",
       "\t<tr><td> 0.07612651</td><td>1</td><td>6.929517</td><td>0.0296</td><td>0.165784</td><td>0.020115</td><td>0.046</td><td>0.066</td><td>0.025</td><td>0.73</td><td>...</td><td> 6.21</td><td>1.316</td><td>1.683</td><td>0.969</td><td>27.8</td><td>17.2</td><td>0.0560</td><td>0.0826</td><td> 11.879</td><td> 0.086032</td></tr>\n",
       "\t<tr><td> 0.12795121</td><td>1</td><td>7.237778</td><td>0.2151</td><td>0.078488</td><td>0.011581</td><td>0.022</td><td>0.031</td><td>0.014</td><td>1.00</td><td>...</td><td> 3.96</td><td>0.594</td><td>0.674</td><td>0.515</td><td>28.2</td><td>14.8</td><td>0.0270</td><td>0.0275</td><td>  1.938</td><td> 0.007666</td></tr>\n",
       "\t<tr><td>-0.02432609</td><td>1</td><td>8.115820</td><td>0.4318</td><td>0.137482</td><td>0.026547</td><td>0.059</td><td>0.073</td><td>0.045</td><td>1.00</td><td>...</td><td>11.36</td><td>1.132</td><td>1.126</td><td>1.138</td><td>52.1</td><td>18.8</td><td>0.0804</td><td>0.0930</td><td>  0.003</td><td> 0.016968</td></tr>\n",
       "\t<tr><td> 0.07829342</td><td>1</td><td>7.271704</td><td>0.1689</td><td>0.164598</td><td>0.044446</td><td>0.029</td><td>0.045</td><td>0.013</td><td>0.84</td><td>...</td><td> 3.10</td><td>0.568</td><td>0.695</td><td>0.450</td><td>35.9</td><td>13.1</td><td>0.0617</td><td>0.0678</td><td> 10.479</td><td> 0.004573</td></tr>\n",
       "\t<tr><td> 0.11291155</td><td>1</td><td>7.121252</td><td>0.1832</td><td>0.188016</td><td>0.045678</td><td>0.033</td><td>0.051</td><td>0.015</td><td>0.91</td><td>...</td><td> 3.16</td><td>0.440</td><td>0.512</td><td>0.369</td><td>37.4</td><td>12.7</td><td>0.0775</td><td>0.0780</td><td> 18.476</td><td>-0.020322</td></tr>\n",
       "\t<tr><td> 0.05230819</td><td>1</td><td>6.977281</td><td>0.0962</td><td>0.204611</td><td>0.077852</td><td>0.037</td><td>0.043</td><td>0.030</td><td>1.00</td><td>...</td><td> 2.40</td><td>0.419</td><td>0.548</td><td>0.299</td><td>30.3</td><td> 7.9</td><td>0.0668</td><td>0.0787</td><td>125.990</td><td> 0.028916</td></tr>\n",
       "\t<tr><td> 0.03639089</td><td>1</td><td>7.649693</td><td>0.0227</td><td>0.136287</td><td>0.046730</td><td>0.081</td><td>0.105</td><td>0.056</td><td>0.99</td><td>...</td><td> 3.51</td><td>0.562</td><td>0.699</td><td>0.427</td><td>35.7</td><td>14.7</td><td>0.0872</td><td>0.0938</td><td> 26.800</td><td> 0.020228</td></tr>\n",
       "\t<tr><td> 0.02973823</td><td>1</td><td>8.056744</td><td>0.0208</td><td>0.197853</td><td>0.037224</td><td>0.083</td><td>0.097</td><td>0.069</td><td>1.00</td><td>...</td><td> 3.30</td><td>0.722</td><td>0.765</td><td>0.680</td><td>36.6</td><td>12.6</td><td>0.0557</td><td>0.0624</td><td>  0.052</td><td> 0.013407</td></tr>\n",
       "\t<tr><td>-0.05664358</td><td>1</td><td>8.780941</td><td>0.2654</td><td>0.189867</td><td>0.031747</td><td>0.068</td><td>0.089</td><td>0.046</td><td>0.94</td><td>...</td><td> 2.99</td><td>0.372</td><td>0.462</td><td>0.281</td><td>34.0</td><td>20.3</td><td>0.3178</td><td>0.1583</td><td>  4.500</td><td>-0.024761</td></tr>\n",
       "\t<tr><td> 0.01920480</td><td>1</td><td>6.287859</td><td>0.4207</td><td>0.130682</td><td>0.109921</td><td>0.053</td><td>0.039</td><td>0.011</td><td>0.74</td><td>...</td><td> 0.34</td><td>0.142</td><td>0.223</td><td>0.055</td><td>35.5</td><td>19.1</td><td>0.0201</td><td>0.0341</td><td>  4.762</td><td>-0.021656</td></tr>\n",
       "\t<tr><td> 0.08520600</td><td>1</td><td>6.137727</td><td>0.1371</td><td>0.123818</td><td>0.015897</td><td>0.028</td><td>0.025</td><td>0.007</td><td>0.72</td><td>...</td><td> 0.56</td><td>0.148</td><td>0.232</td><td>0.065</td><td>41.3</td><td>21.3</td><td>0.0298</td><td>0.0297</td><td>  4.125</td><td>-0.054872</td></tr>\n",
       "\t<tr><td> 0.13398221</td><td>1</td><td>8.128880</td><td>0.0000</td><td>0.167210</td><td>0.003311</td><td>0.129</td><td>0.196</td><td>0.063</td><td>1.00</td><td>...</td><td>13.16</td><td>1.727</td><td>1.910</td><td>1.560</td><td>28.1</td><td>23.2</td><td>0.0570</td><td>0.0609</td><td>360.000</td><td>-0.054874</td></tr>\n",
       "\t<tr><td> 0.17302474</td><td>1</td><td>6.680855</td><td>0.4713</td><td>0.228424</td><td>0.029328</td><td>0.062</td><td>0.090</td><td>0.032</td><td>1.00</td><td>...</td><td> 3.95</td><td>0.974</td><td>1.526</td><td>0.470</td><td>62.4</td><td>34.9</td><td>0.0206</td><td>0.0618</td><td>265.690</td><td> 0.018194</td></tr>\n",
       "\t<tr><td> 0.10969915</td><td>1</td><td>7.177019</td><td>0.0178</td><td>0.185240</td><td>0.015453</td><td>0.020</td><td>0.026</td><td>0.013</td><td>0.90</td><td>...</td><td> 1.89</td><td>0.571</td><td>0.843</td><td>0.286</td><td>26.9</td><td>24.1</td><td>0.2295</td><td>0.1990</td><td>  3.061</td><td>-0.034733</td></tr>\n",
       "\t<tr><td> 0.01598990</td><td>1</td><td>6.648985</td><td>0.4762</td><td>0.171181</td><td>0.058937</td><td>0.018</td><td>0.028</td><td>0.007</td><td>0.40</td><td>...</td><td> 0.76</td><td>0.357</td><td>0.512</td><td>0.185</td><td>39.9</td><td>26.9</td><td>0.0178</td><td>0.0634</td><td>  4.762</td><td>-0.000222</td></tr>\n",
       "\t<tr><td> 0.06224977</td><td>1</td><td>6.879356</td><td>0.2927</td><td>0.179508</td><td>0.035842</td><td>0.188</td><td>0.169</td><td>0.208</td><td>1.00</td><td>...</td><td> 3.69</td><td>0.651</td><td>0.759</td><td>0.547</td><td>31.4</td><td>31.2</td><td>0.0695</td><td>0.0728</td><td>  4.017</td><td> 0.033636</td></tr>\n",
       "\t<tr><td> 0.10987069</td><td>1</td><td>7.347300</td><td>0.1017</td><td>0.247626</td><td>0.037392</td><td>0.080</td><td>0.133</td><td>0.027</td><td>0.78</td><td>...</td><td> 0.72</td><td>0.195</td><td>0.303</td><td>0.085</td><td>36.2</td><td>21.6</td><td>0.0860</td><td>0.0898</td><td>  3.177</td><td> 0.010162</td></tr>\n",
       "\t<tr><td> 0.09210628</td><td>1</td><td>6.725034</td><td>0.0266</td><td>0.179933</td><td>0.046376</td><td>0.015</td><td>0.020</td><td>0.010</td><td>0.78</td><td>...</td><td> 0.86</td><td>0.258</td><td>0.382</td><td>0.137</td><td>34.6</td><td>16.5</td><td>0.0558</td><td>0.0613</td><td> 20.800</td><td>-0.018514</td></tr>\n",
       "\t<tr><td> 0.08337604</td><td>1</td><td>8.451053</td><td>0.0000</td><td>0.358556</td><td>0.016468</td><td>0.090</td><td>0.133</td><td>0.044</td><td>1.00</td><td>...</td><td> 2.91</td><td>0.766</td><td>1.087</td><td>0.510</td><td>21.9</td><td>15.3</td><td>0.1687</td><td>0.1635</td><td> 26.000</td><td> 0.010943</td></tr>\n",
       "\t<tr><td> 0.07623345</td><td>1</td><td>8.602453</td><td>0.0000</td><td>0.416234</td><td>0.014721</td><td>0.148</td><td>0.194</td><td>0.100</td><td>1.00</td><td>...</td><td>12.17</td><td>1.554</td><td>1.724</td><td>1.398</td><td>20.6</td><td> 7.2</td><td>0.2629</td><td>0.2698</td><td> 50.000</td><td>-0.001521</td></tr>\n",
       "\t<tr><td>...</td><td>...</td><td>...</td><td>...</td><td>...</td><td>...</td><td>...</td><td>...</td><td>...</td><td>...</td><td></td><td>...</td><td>...</td><td>...</td><td>...</td><td>...</td><td>...</td><td>...</td><td>...</td><td>...</td><td>...</td></tr>\n",
       "\t<tr><td>-0.03404539</td><td>1</td><td>8.346168</td><td>0.3199</td><td>0.110885</td><td>0.028579</td><td>0.272</td><td>0.289</td><td>0.272</td><td>1.00</td><td>...</td><td> 9.58</td><td>0.919</td><td>0.936</td><td>0.902</td><td>18.2</td><td> 7.7</td><td>0.0625</td><td>0.0578</td><td> 36.603</td><td> 0.014286</td></tr>\n",
       "\t<tr><td>-0.03380635</td><td>1</td><td>7.303170</td><td>0.3133</td><td>0.165784</td><td>0.020115</td><td>0.112</td><td>0.132</td><td>0.065</td><td>0.85</td><td>...</td><td> 5.60</td><td>1.158</td><td>1.473</td><td>0.862</td><td>22.7</td><td>18.2</td><td>0.1071</td><td>0.1028</td><td> 20.000</td><td> 0.111198</td></tr>\n",
       "\t<tr><td> 0.06991488</td><td>1</td><td>7.859027</td><td>0.1222</td><td>0.078488</td><td>0.011581</td><td>0.107</td><td>0.103</td><td>0.092</td><td>0.88</td><td>...</td><td> 2.80</td><td>0.596</td><td>0.645</td><td>0.548</td><td>21.7</td><td>14.4</td><td>0.0357</td><td>0.0466</td><td>  8.127</td><td> 0.006002</td></tr>\n",
       "\t<tr><td>-0.08172560</td><td>1</td><td>7.998335</td><td>1.6378</td><td>0.137482</td><td>0.026547</td><td>0.156</td><td>0.181</td><td>0.150</td><td>1.00</td><td>...</td><td>13.74</td><td>1.339</td><td>1.222</td><td>1.445</td><td>34.8</td><td>15.2</td><td>0.0783</td><td>0.0847</td><td>  4.911</td><td>-0.127025</td></tr>\n",
       "\t<tr><td> 0.04601005</td><td>1</td><td>7.655864</td><td>0.1345</td><td>0.164598</td><td>0.044446</td><td>0.080</td><td>0.097</td><td>0.058</td><td>1.00</td><td>...</td><td> 8.25</td><td>1.076</td><td>1.143</td><td>1.013</td><td>32.1</td><td>19.4</td><td>0.0525</td><td>0.0572</td><td> 30.929</td><td>-0.004592</td></tr>\n",
       "\t<tr><td> 0.06659809</td><td>1</td><td>7.675082</td><td>0.0898</td><td>0.188016</td><td>0.045678</td><td>0.269</td><td>0.338</td><td>0.200</td><td>1.00</td><td>...</td><td> 5.80</td><td>0.687</td><td>0.745</td><td>0.630</td><td>37.5</td><td>16.4</td><td>0.0906</td><td>0.0959</td><td> 25.000</td><td> 0.191066</td></tr>\n",
       "\t<tr><td>-0.01138424</td><td>1</td><td>7.830028</td><td>0.4880</td><td>0.136287</td><td>0.046730</td><td>0.146</td><td>0.193</td><td>0.094</td><td>1.00</td><td>...</td><td> 6.42</td><td>0.950</td><td>1.129</td><td>0.772</td><td>39.1</td><td>23.8</td><td>0.0764</td><td>0.0866</td><td> 40.500</td><td>-0.007018</td></tr>\n",
       "\t<tr><td>-0.10098990</td><td>1</td><td>8.498622</td><td>0.0010</td><td>0.189867</td><td>0.031747</td><td>0.181</td><td>0.190</td><td>0.159</td><td>0.97</td><td>...</td><td> 7.63</td><td>0.801</td><td>0.850</td><td>0.752</td><td>30.2</td><td>16.8</td><td>0.2131</td><td>0.1437</td><td>  4.285</td><td> 0.168536</td></tr>\n",
       "\t<tr><td> 0.05475087</td><td>1</td><td>6.216606</td><td>0.7557</td><td>0.214345</td><td>0.073495</td><td>0.023</td><td>0.051</td><td>0.006</td><td>0.73</td><td>...</td><td> 0.44</td><td>0.282</td><td>0.488</td><td>0.051</td><td>50.6</td><td>21.8</td><td>0.0232</td><td>0.0407</td><td>  8.876</td><td>-0.084064</td></tr>\n",
       "\t<tr><td> 0.09461817</td><td>1</td><td>8.414496</td><td>0.0000</td><td>0.374328</td><td>0.000000</td><td>0.101</td><td>0.147</td><td>0.053</td><td>1.00</td><td>...</td><td>11.80</td><td>1.846</td><td>2.369</td><td>1.301</td><td>31.1</td><td>24.3</td><td>0.5958</td><td>0.5819</td><td>  4.935</td><td> 0.021808</td></tr>\n",
       "\t<tr><td> 0.04571529</td><td>1</td><td>6.383507</td><td>0.3556</td><td>0.130682</td><td>0.109921</td><td>0.086</td><td>0.130</td><td>0.042</td><td>0.79</td><td>...</td><td> 1.00</td><td>0.446</td><td>0.713</td><td>0.163</td><td>42.3</td><td>19.8</td><td>0.0188</td><td>0.0222</td><td>  8.653</td><td>-0.012443</td></tr>\n",
       "\t<tr><td> 0.06549111</td><td>1</td><td>8.782323</td><td>0.0000</td><td>0.167210</td><td>0.003311</td><td>0.246</td><td>0.331</td><td>0.160</td><td>0.99</td><td>...</td><td>15.52</td><td>1.969</td><td>2.121</td><td>1.828</td><td>25.3</td><td>17.5</td><td>0.1032</td><td>0.0958</td><td>296.800</td><td>-0.057094</td></tr>\n",
       "\t<tr><td> 0.02124651</td><td>1</td><td>7.251345</td><td>0.0516</td><td>0.263813</td><td>0.045225</td><td>0.090</td><td>0.053</td><td>0.030</td><td>0.88</td><td>...</td><td> 4.00</td><td>0.817</td><td>1.205</td><td>0.413</td><td>34.7</td><td>21.1</td><td>0.0730</td><td>0.2227</td><td>  0.320</td><td> 0.128443</td></tr>\n",
       "\t<tr><td> 0.14144548</td><td>1</td><td>7.511525</td><td>0.1053</td><td>0.228424</td><td>0.029328</td><td>0.103</td><td>0.139</td><td>0.054</td><td>1.00</td><td>...</td><td> 9.33</td><td>1.700</td><td>2.369</td><td>1.060</td><td>51.7</td><td>37.1</td><td>0.0903</td><td>0.1229</td><td>484.000</td><td> 0.007257</td></tr>\n",
       "\t<tr><td> 0.09681623</td><td>1</td><td>7.713785</td><td>0.0050</td><td>0.185240</td><td>0.015453</td><td>0.031</td><td>0.042</td><td>0.016</td><td>0.91</td><td>...</td><td> 4.35</td><td>0.891</td><td>1.255</td><td>0.517</td><td>31.8</td><td>27.3</td><td>0.1922</td><td>0.1821</td><td>  2.402</td><td> 0.030424</td></tr>\n",
       "\t<tr><td> 0.04053420</td><td>1</td><td>6.728629</td><td>0.6190</td><td>0.171181</td><td>0.058937</td><td>0.019</td><td>0.027</td><td>0.009</td><td>0.46</td><td>...</td><td> 1.01</td><td>0.670</td><td>1.039</td><td>0.271</td><td>40.1</td><td>18.0</td><td>0.0281</td><td>0.0459</td><td>  9.900</td><td>-0.012137</td></tr>\n",
       "\t<tr><td> 0.01058841</td><td>1</td><td>7.186144</td><td>0.0760</td><td>0.179508</td><td>0.035842</td><td>0.184</td><td>0.173</td><td>0.217</td><td>1.00</td><td>...</td><td> 5.34</td><td>0.943</td><td>1.049</td><td>0.837</td><td>29.0</td><td>31.5</td><td>0.0703</td><td>0.0716</td><td>  7.248</td><td> 0.009640</td></tr>\n",
       "\t<tr><td> 0.18552649</td><td>1</td><td>8.326033</td><td>0.0050</td><td>0.321658</td><td>0.005106</td><td>0.090</td><td>0.109</td><td>0.075</td><td>1.00</td><td>...</td><td> 4.64</td><td>1.127</td><td>1.427</td><td>0.817</td><td>30.5</td><td>23.1</td><td>0.7470</td><td>0.8489</td><td>  2.371</td><td> 0.051395</td></tr>\n",
       "\t<tr><td> 0.09310491</td><td>1</td><td>7.894691</td><td>0.1062</td><td>0.247626</td><td>0.037392</td><td>0.121</td><td>0.175</td><td>0.063</td><td>0.96</td><td>...</td><td> 1.47</td><td>0.481</td><td>0.761</td><td>0.200</td><td>33.8</td><td>19.6</td><td>0.0797</td><td>0.1018</td><td>  3.017</td><td> 0.207492</td></tr>\n",
       "\t<tr><td> 0.06522856</td><td>1</td><td>7.175490</td><td>0.0000</td><td>0.179933</td><td>0.046376</td><td>0.035</td><td>0.040</td><td>0.027</td><td>0.83</td><td>...</td><td> 1.23</td><td>0.332</td><td>0.451</td><td>0.219</td><td>27.9</td><td>27.2</td><td>0.0636</td><td>0.0721</td><td> 20.379</td><td> 0.018019</td></tr>\n",
       "\t<tr><td> 0.03809502</td><td>1</td><td>9.030974</td><td>0.0000</td><td>0.293138</td><td>0.005517</td><td>0.245</td><td>0.251</td><td>0.238</td><td>1.00</td><td>...</td><td> 7.50</td><td>1.167</td><td>1.210</td><td>1.128</td><td>22.5</td><td>15.5</td><td>0.1662</td><td>0.1617</td><td>  4.286</td><td>-0.006642</td></tr>\n",
       "\t<tr><td> 0.03421300</td><td>1</td><td>8.995537</td><td>0.0000</td><td>0.304720</td><td>0.011658</td><td>0.246</td><td>0.260</td><td>0.190</td><td>1.00</td><td>...</td><td> 6.75</td><td>0.667</td><td>0.776</td><td>0.575</td><td>23.5</td><td>15.0</td><td>0.2597</td><td>0.2288</td><td>  2.460</td><td>-0.003241</td></tr>\n",
       "\t<tr><td> 0.05275914</td><td>1</td><td>8.234830</td><td>0.0363</td><td>0.288405</td><td>0.011589</td><td>0.183</td><td>0.222</td><td>0.142</td><td>1.00</td><td>...</td><td> 8.18</td><td>1.010</td><td>1.220</td><td>0.821</td><td>30.2</td><td>28.3</td><td>0.1044</td><td>0.1796</td><td> 32.051</td><td>-0.034352</td></tr>\n",
       "\t<tr><td> 0.03841564</td><td>1</td><td>8.332549</td><td>0.0000</td><td>0.345485</td><td>0.006503</td><td>0.188</td><td>0.248</td><td>0.136</td><td>1.00</td><td>...</td><td>13.12</td><td>1.576</td><td>1.567</td><td>1.585</td><td>31.0</td><td>14.3</td><td>0.2866</td><td>0.3500</td><td>  0.452</td><td>-0.001660</td></tr>\n",
       "\t<tr><td> 0.03189479</td><td>1</td><td>8.645586</td><td>0.0000</td><td>0.288440</td><td>0.005995</td><td>0.256</td><td>0.301</td><td>0.199</td><td>1.00</td><td>...</td><td> 6.91</td><td>1.307</td><td>1.579</td><td>1.062</td><td>18.9</td><td>11.3</td><td>0.1296</td><td>0.1458</td><td>652.850</td><td>-0.046278</td></tr>\n",
       "\t<tr><td> 0.03119598</td><td>1</td><td>8.991064</td><td>0.0000</td><td>0.371898</td><td>0.014586</td><td>0.255</td><td>0.336</td><td>0.170</td><td>0.98</td><td>...</td><td>11.41</td><td>2.226</td><td>2.494</td><td>1.971</td><td>27.5</td><td>15.9</td><td>0.4407</td><td>0.4257</td><td>  2.529</td><td>-0.011883</td></tr>\n",
       "\t<tr><td> 0.03409566</td><td>1</td><td>8.025189</td><td>0.0050</td><td>0.296437</td><td>0.013615</td><td>0.108</td><td>0.117</td><td>0.093</td><td>1.00</td><td>...</td><td> 1.95</td><td>0.510</td><td>0.694</td><td>0.362</td><td>20.2</td><td>15.7</td><td>0.1669</td><td>0.2201</td><td> 25.553</td><td>-0.039080</td></tr>\n",
       "\t<tr><td> 0.04690046</td><td>1</td><td>9.030137</td><td>0.0000</td><td>0.265778</td><td>0.008629</td><td>0.288</td><td>0.337</td><td>0.237</td><td>1.00</td><td>...</td><td>25.64</td><td>2.727</td><td>2.664</td><td>2.788</td><td>20.4</td><td> 9.4</td><td>0.3238</td><td>0.3134</td><td>  4.152</td><td> 0.005175</td></tr>\n",
       "\t<tr><td> 0.03977337</td><td>1</td><td>8.865312</td><td>0.0000</td><td>0.282939</td><td>0.005048</td><td>0.188</td><td>0.236</td><td>0.139</td><td>1.00</td><td>...</td><td>10.76</td><td>1.888</td><td>1.920</td><td>1.860</td><td>20.0</td><td>16.0</td><td>0.1845</td><td>0.1940</td><td>  0.452</td><td>-0.029551</td></tr>\n",
       "\t<tr><td> 0.04064154</td><td>1</td><td>8.912339</td><td>0.0000</td><td>0.150366</td><td>0.024377</td><td>0.257</td><td>0.338</td><td>0.215</td><td>1.00</td><td>...</td><td>24.40</td><td>3.051</td><td>3.235</td><td>2.875</td><td>18.5</td><td>29.1</td><td>0.1876</td><td>0.2007</td><td>  0.886</td><td>-0.036482</td></tr>\n",
       "</tbody>\n",
       "</table>\n"
      ],
      "text/latex": [
       "A data.frame: 90 × 63\n",
       "\\begin{tabular}{lllllllllllllllllllll}\n",
       " Outcome & intercept & gdpsh465 & bmp1l & freeop & freetar & h65 & hm65 & hf65 & p65 & ... & seccf65 & syr65 & syrm65 & syrf65 & teapri65 & teasec65 & ex1 & im1 & xr65 & tot1\\\\\n",
       " <dbl> & <int> & <dbl> & <dbl> & <dbl> & <dbl> & <dbl> & <dbl> & <dbl> & <dbl> & ... & <dbl> & <dbl> & <dbl> & <dbl> & <dbl> & <dbl> & <dbl> & <dbl> & <dbl> & <dbl>\\\\\n",
       "\\hline\n",
       "\t -0.02433575 & 1 & 6.591674 & 0.2837 & 0.153491 & 0.043888 & 0.007 & 0.013 & 0.001 & 0.29 & ... &  0.04 & 0.033 & 0.057 & 0.010 & 47.6 & 17.3 & 0.0729 & 0.0667 &   0.348 & -0.014727\\\\\n",
       "\t  0.10047257 & 1 & 6.829794 & 0.6141 & 0.313509 & 0.061827 & 0.019 & 0.032 & 0.007 & 0.91 & ... &  0.64 & 0.173 & 0.274 & 0.067 & 57.1 & 18.0 & 0.0940 & 0.1438 &   0.525 &  0.005750\\\\\n",
       "\t  0.06705148 & 1 & 8.895082 & 0.0000 & 0.204244 & 0.009186 & 0.260 & 0.325 & 0.201 & 1.00 & ... & 18.14 & 2.573 & 2.478 & 2.667 & 26.5 & 20.7 & 0.1741 & 0.1750 &   1.082 & -0.010040\\\\\n",
       "\t  0.06408917 & 1 & 7.565275 & 0.1997 & 0.248714 & 0.036270 & 0.061 & 0.070 & 0.051 & 1.00 & ... &  2.63 & 0.438 & 0.453 & 0.424 & 27.8 & 22.7 & 0.1265 & 0.1496 &   6.625 & -0.002195\\\\\n",
       "\t  0.02792955 & 1 & 7.162397 & 0.1740 & 0.299252 & 0.037367 & 0.017 & 0.027 & 0.007 & 0.82 & ... &  2.11 & 0.257 & 0.287 & 0.229 & 34.5 & 17.6 & 0.1211 & 0.1308 &   2.500 &  0.003283\\\\\n",
       "\t  0.04640744 & 1 & 7.218910 & 0.0000 & 0.258865 & 0.020880 & 0.023 & 0.038 & 0.006 & 0.50 & ... &  1.46 & 0.160 & 0.174 & 0.146 & 34.3 &  8.1 & 0.0634 & 0.0762 &   1.000 & -0.001747\\\\\n",
       "\t  0.06733234 & 1 & 7.853605 & 0.0000 & 0.182525 & 0.014385 & 0.039 & 0.063 & 0.014 & 0.92 & ... &  1.59 & 0.342 & 0.484 & 0.207 & 46.6 & 14.7 & 0.0342 & 0.0428 &  12.499 &  0.009092\\\\\n",
       "\t  0.02097768 & 1 & 7.703910 & 0.2776 & 0.215275 & 0.029713 & 0.024 & 0.035 & 0.013 & 0.69 & ... &  1.63 & 0.184 & 0.219 & 0.152 & 34.0 & 16.1 & 0.0864 & 0.0931 &   7.000 &  0.011630\\\\\n",
       "\t  0.03355124 & 1 & 9.063463 & 0.0000 & 0.109614 & 0.002171 & 0.402 & 0.488 & 0.314 & 1.00 & ... & 24.72 & 3.206 & 3.154 & 3.253 & 28.2 & 20.6 & 0.0594 & 0.0460 &   1.000 &  0.008169\\\\\n",
       "\t  0.03914652 & 1 & 8.151910 & 0.1484 & 0.110885 & 0.028579 & 0.145 & 0.173 & 0.114 & 1.00 & ... &  6.76 & 0.703 & 0.785 & 0.620 & 20.3 &  7.2 & 0.0524 & 0.0523 &   2.119 &  0.007584\\\\\n",
       "\t  0.07612651 & 1 & 6.929517 & 0.0296 & 0.165784 & 0.020115 & 0.046 & 0.066 & 0.025 & 0.73 & ... &  6.21 & 1.316 & 1.683 & 0.969 & 27.8 & 17.2 & 0.0560 & 0.0826 &  11.879 &  0.086032\\\\\n",
       "\t  0.12795121 & 1 & 7.237778 & 0.2151 & 0.078488 & 0.011581 & 0.022 & 0.031 & 0.014 & 1.00 & ... &  3.96 & 0.594 & 0.674 & 0.515 & 28.2 & 14.8 & 0.0270 & 0.0275 &   1.938 &  0.007666\\\\\n",
       "\t -0.02432609 & 1 & 8.115820 & 0.4318 & 0.137482 & 0.026547 & 0.059 & 0.073 & 0.045 & 1.00 & ... & 11.36 & 1.132 & 1.126 & 1.138 & 52.1 & 18.8 & 0.0804 & 0.0930 &   0.003 &  0.016968\\\\\n",
       "\t  0.07829342 & 1 & 7.271704 & 0.1689 & 0.164598 & 0.044446 & 0.029 & 0.045 & 0.013 & 0.84 & ... &  3.10 & 0.568 & 0.695 & 0.450 & 35.9 & 13.1 & 0.0617 & 0.0678 &  10.479 &  0.004573\\\\\n",
       "\t  0.11291155 & 1 & 7.121252 & 0.1832 & 0.188016 & 0.045678 & 0.033 & 0.051 & 0.015 & 0.91 & ... &  3.16 & 0.440 & 0.512 & 0.369 & 37.4 & 12.7 & 0.0775 & 0.0780 &  18.476 & -0.020322\\\\\n",
       "\t  0.05230819 & 1 & 6.977281 & 0.0962 & 0.204611 & 0.077852 & 0.037 & 0.043 & 0.030 & 1.00 & ... &  2.40 & 0.419 & 0.548 & 0.299 & 30.3 &  7.9 & 0.0668 & 0.0787 & 125.990 &  0.028916\\\\\n",
       "\t  0.03639089 & 1 & 7.649693 & 0.0227 & 0.136287 & 0.046730 & 0.081 & 0.105 & 0.056 & 0.99 & ... &  3.51 & 0.562 & 0.699 & 0.427 & 35.7 & 14.7 & 0.0872 & 0.0938 &  26.800 &  0.020228\\\\\n",
       "\t  0.02973823 & 1 & 8.056744 & 0.0208 & 0.197853 & 0.037224 & 0.083 & 0.097 & 0.069 & 1.00 & ... &  3.30 & 0.722 & 0.765 & 0.680 & 36.6 & 12.6 & 0.0557 & 0.0624 &   0.052 &  0.013407\\\\\n",
       "\t -0.05664358 & 1 & 8.780941 & 0.2654 & 0.189867 & 0.031747 & 0.068 & 0.089 & 0.046 & 0.94 & ... &  2.99 & 0.372 & 0.462 & 0.281 & 34.0 & 20.3 & 0.3178 & 0.1583 &   4.500 & -0.024761\\\\\n",
       "\t  0.01920480 & 1 & 6.287859 & 0.4207 & 0.130682 & 0.109921 & 0.053 & 0.039 & 0.011 & 0.74 & ... &  0.34 & 0.142 & 0.223 & 0.055 & 35.5 & 19.1 & 0.0201 & 0.0341 &   4.762 & -0.021656\\\\\n",
       "\t  0.08520600 & 1 & 6.137727 & 0.1371 & 0.123818 & 0.015897 & 0.028 & 0.025 & 0.007 & 0.72 & ... &  0.56 & 0.148 & 0.232 & 0.065 & 41.3 & 21.3 & 0.0298 & 0.0297 &   4.125 & -0.054872\\\\\n",
       "\t  0.13398221 & 1 & 8.128880 & 0.0000 & 0.167210 & 0.003311 & 0.129 & 0.196 & 0.063 & 1.00 & ... & 13.16 & 1.727 & 1.910 & 1.560 & 28.1 & 23.2 & 0.0570 & 0.0609 & 360.000 & -0.054874\\\\\n",
       "\t  0.17302474 & 1 & 6.680855 & 0.4713 & 0.228424 & 0.029328 & 0.062 & 0.090 & 0.032 & 1.00 & ... &  3.95 & 0.974 & 1.526 & 0.470 & 62.4 & 34.9 & 0.0206 & 0.0618 & 265.690 &  0.018194\\\\\n",
       "\t  0.10969915 & 1 & 7.177019 & 0.0178 & 0.185240 & 0.015453 & 0.020 & 0.026 & 0.013 & 0.90 & ... &  1.89 & 0.571 & 0.843 & 0.286 & 26.9 & 24.1 & 0.2295 & 0.1990 &   3.061 & -0.034733\\\\\n",
       "\t  0.01598990 & 1 & 6.648985 & 0.4762 & 0.171181 & 0.058937 & 0.018 & 0.028 & 0.007 & 0.40 & ... &  0.76 & 0.357 & 0.512 & 0.185 & 39.9 & 26.9 & 0.0178 & 0.0634 &   4.762 & -0.000222\\\\\n",
       "\t  0.06224977 & 1 & 6.879356 & 0.2927 & 0.179508 & 0.035842 & 0.188 & 0.169 & 0.208 & 1.00 & ... &  3.69 & 0.651 & 0.759 & 0.547 & 31.4 & 31.2 & 0.0695 & 0.0728 &   4.017 &  0.033636\\\\\n",
       "\t  0.10987069 & 1 & 7.347300 & 0.1017 & 0.247626 & 0.037392 & 0.080 & 0.133 & 0.027 & 0.78 & ... &  0.72 & 0.195 & 0.303 & 0.085 & 36.2 & 21.6 & 0.0860 & 0.0898 &   3.177 &  0.010162\\\\\n",
       "\t  0.09210628 & 1 & 6.725034 & 0.0266 & 0.179933 & 0.046376 & 0.015 & 0.020 & 0.010 & 0.78 & ... &  0.86 & 0.258 & 0.382 & 0.137 & 34.6 & 16.5 & 0.0558 & 0.0613 &  20.800 & -0.018514\\\\\n",
       "\t  0.08337604 & 1 & 8.451053 & 0.0000 & 0.358556 & 0.016468 & 0.090 & 0.133 & 0.044 & 1.00 & ... &  2.91 & 0.766 & 1.087 & 0.510 & 21.9 & 15.3 & 0.1687 & 0.1635 &  26.000 &  0.010943\\\\\n",
       "\t  0.07623345 & 1 & 8.602453 & 0.0000 & 0.416234 & 0.014721 & 0.148 & 0.194 & 0.100 & 1.00 & ... & 12.17 & 1.554 & 1.724 & 1.398 & 20.6 &  7.2 & 0.2629 & 0.2698 &  50.000 & -0.001521\\\\\n",
       "\t ... & ... & ... & ... & ... & ... & ... & ... & ... & ... &  & ... & ... & ... & ... & ... & ... & ... & ... & ... & ...\\\\\n",
       "\t -0.03404539 & 1 & 8.346168 & 0.3199 & 0.110885 & 0.028579 & 0.272 & 0.289 & 0.272 & 1.00 & ... &  9.58 & 0.919 & 0.936 & 0.902 & 18.2 &  7.7 & 0.0625 & 0.0578 &  36.603 &  0.014286\\\\\n",
       "\t -0.03380635 & 1 & 7.303170 & 0.3133 & 0.165784 & 0.020115 & 0.112 & 0.132 & 0.065 & 0.85 & ... &  5.60 & 1.158 & 1.473 & 0.862 & 22.7 & 18.2 & 0.1071 & 0.1028 &  20.000 &  0.111198\\\\\n",
       "\t  0.06991488 & 1 & 7.859027 & 0.1222 & 0.078488 & 0.011581 & 0.107 & 0.103 & 0.092 & 0.88 & ... &  2.80 & 0.596 & 0.645 & 0.548 & 21.7 & 14.4 & 0.0357 & 0.0466 &   8.127 &  0.006002\\\\\n",
       "\t -0.08172560 & 1 & 7.998335 & 1.6378 & 0.137482 & 0.026547 & 0.156 & 0.181 & 0.150 & 1.00 & ... & 13.74 & 1.339 & 1.222 & 1.445 & 34.8 & 15.2 & 0.0783 & 0.0847 &   4.911 & -0.127025\\\\\n",
       "\t  0.04601005 & 1 & 7.655864 & 0.1345 & 0.164598 & 0.044446 & 0.080 & 0.097 & 0.058 & 1.00 & ... &  8.25 & 1.076 & 1.143 & 1.013 & 32.1 & 19.4 & 0.0525 & 0.0572 &  30.929 & -0.004592\\\\\n",
       "\t  0.06659809 & 1 & 7.675082 & 0.0898 & 0.188016 & 0.045678 & 0.269 & 0.338 & 0.200 & 1.00 & ... &  5.80 & 0.687 & 0.745 & 0.630 & 37.5 & 16.4 & 0.0906 & 0.0959 &  25.000 &  0.191066\\\\\n",
       "\t -0.01138424 & 1 & 7.830028 & 0.4880 & 0.136287 & 0.046730 & 0.146 & 0.193 & 0.094 & 1.00 & ... &  6.42 & 0.950 & 1.129 & 0.772 & 39.1 & 23.8 & 0.0764 & 0.0866 &  40.500 & -0.007018\\\\\n",
       "\t -0.10098990 & 1 & 8.498622 & 0.0010 & 0.189867 & 0.031747 & 0.181 & 0.190 & 0.159 & 0.97 & ... &  7.63 & 0.801 & 0.850 & 0.752 & 30.2 & 16.8 & 0.2131 & 0.1437 &   4.285 &  0.168536\\\\\n",
       "\t  0.05475087 & 1 & 6.216606 & 0.7557 & 0.214345 & 0.073495 & 0.023 & 0.051 & 0.006 & 0.73 & ... &  0.44 & 0.282 & 0.488 & 0.051 & 50.6 & 21.8 & 0.0232 & 0.0407 &   8.876 & -0.084064\\\\\n",
       "\t  0.09461817 & 1 & 8.414496 & 0.0000 & 0.374328 & 0.000000 & 0.101 & 0.147 & 0.053 & 1.00 & ... & 11.80 & 1.846 & 2.369 & 1.301 & 31.1 & 24.3 & 0.5958 & 0.5819 &   4.935 &  0.021808\\\\\n",
       "\t  0.04571529 & 1 & 6.383507 & 0.3556 & 0.130682 & 0.109921 & 0.086 & 0.130 & 0.042 & 0.79 & ... &  1.00 & 0.446 & 0.713 & 0.163 & 42.3 & 19.8 & 0.0188 & 0.0222 &   8.653 & -0.012443\\\\\n",
       "\t  0.06549111 & 1 & 8.782323 & 0.0000 & 0.167210 & 0.003311 & 0.246 & 0.331 & 0.160 & 0.99 & ... & 15.52 & 1.969 & 2.121 & 1.828 & 25.3 & 17.5 & 0.1032 & 0.0958 & 296.800 & -0.057094\\\\\n",
       "\t  0.02124651 & 1 & 7.251345 & 0.0516 & 0.263813 & 0.045225 & 0.090 & 0.053 & 0.030 & 0.88 & ... &  4.00 & 0.817 & 1.205 & 0.413 & 34.7 & 21.1 & 0.0730 & 0.2227 &   0.320 &  0.128443\\\\\n",
       "\t  0.14144548 & 1 & 7.511525 & 0.1053 & 0.228424 & 0.029328 & 0.103 & 0.139 & 0.054 & 1.00 & ... &  9.33 & 1.700 & 2.369 & 1.060 & 51.7 & 37.1 & 0.0903 & 0.1229 & 484.000 &  0.007257\\\\\n",
       "\t  0.09681623 & 1 & 7.713785 & 0.0050 & 0.185240 & 0.015453 & 0.031 & 0.042 & 0.016 & 0.91 & ... &  4.35 & 0.891 & 1.255 & 0.517 & 31.8 & 27.3 & 0.1922 & 0.1821 &   2.402 &  0.030424\\\\\n",
       "\t  0.04053420 & 1 & 6.728629 & 0.6190 & 0.171181 & 0.058937 & 0.019 & 0.027 & 0.009 & 0.46 & ... &  1.01 & 0.670 & 1.039 & 0.271 & 40.1 & 18.0 & 0.0281 & 0.0459 &   9.900 & -0.012137\\\\\n",
       "\t  0.01058841 & 1 & 7.186144 & 0.0760 & 0.179508 & 0.035842 & 0.184 & 0.173 & 0.217 & 1.00 & ... &  5.34 & 0.943 & 1.049 & 0.837 & 29.0 & 31.5 & 0.0703 & 0.0716 &   7.248 &  0.009640\\\\\n",
       "\t  0.18552649 & 1 & 8.326033 & 0.0050 & 0.321658 & 0.005106 & 0.090 & 0.109 & 0.075 & 1.00 & ... &  4.64 & 1.127 & 1.427 & 0.817 & 30.5 & 23.1 & 0.7470 & 0.8489 &   2.371 &  0.051395\\\\\n",
       "\t  0.09310491 & 1 & 7.894691 & 0.1062 & 0.247626 & 0.037392 & 0.121 & 0.175 & 0.063 & 0.96 & ... &  1.47 & 0.481 & 0.761 & 0.200 & 33.8 & 19.6 & 0.0797 & 0.1018 &   3.017 &  0.207492\\\\\n",
       "\t  0.06522856 & 1 & 7.175490 & 0.0000 & 0.179933 & 0.046376 & 0.035 & 0.040 & 0.027 & 0.83 & ... &  1.23 & 0.332 & 0.451 & 0.219 & 27.9 & 27.2 & 0.0636 & 0.0721 &  20.379 &  0.018019\\\\\n",
       "\t  0.03809502 & 1 & 9.030974 & 0.0000 & 0.293138 & 0.005517 & 0.245 & 0.251 & 0.238 & 1.00 & ... &  7.50 & 1.167 & 1.210 & 1.128 & 22.5 & 15.5 & 0.1662 & 0.1617 &   4.286 & -0.006642\\\\\n",
       "\t  0.03421300 & 1 & 8.995537 & 0.0000 & 0.304720 & 0.011658 & 0.246 & 0.260 & 0.190 & 1.00 & ... &  6.75 & 0.667 & 0.776 & 0.575 & 23.5 & 15.0 & 0.2597 & 0.2288 &   2.460 & -0.003241\\\\\n",
       "\t  0.05275914 & 1 & 8.234830 & 0.0363 & 0.288405 & 0.011589 & 0.183 & 0.222 & 0.142 & 1.00 & ... &  8.18 & 1.010 & 1.220 & 0.821 & 30.2 & 28.3 & 0.1044 & 0.1796 &  32.051 & -0.034352\\\\\n",
       "\t  0.03841564 & 1 & 8.332549 & 0.0000 & 0.345485 & 0.006503 & 0.188 & 0.248 & 0.136 & 1.00 & ... & 13.12 & 1.576 & 1.567 & 1.585 & 31.0 & 14.3 & 0.2866 & 0.3500 &   0.452 & -0.001660\\\\\n",
       "\t  0.03189479 & 1 & 8.645586 & 0.0000 & 0.288440 & 0.005995 & 0.256 & 0.301 & 0.199 & 1.00 & ... &  6.91 & 1.307 & 1.579 & 1.062 & 18.9 & 11.3 & 0.1296 & 0.1458 & 652.850 & -0.046278\\\\\n",
       "\t  0.03119598 & 1 & 8.991064 & 0.0000 & 0.371898 & 0.014586 & 0.255 & 0.336 & 0.170 & 0.98 & ... & 11.41 & 2.226 & 2.494 & 1.971 & 27.5 & 15.9 & 0.4407 & 0.4257 &   2.529 & -0.011883\\\\\n",
       "\t  0.03409566 & 1 & 8.025189 & 0.0050 & 0.296437 & 0.013615 & 0.108 & 0.117 & 0.093 & 1.00 & ... &  1.95 & 0.510 & 0.694 & 0.362 & 20.2 & 15.7 & 0.1669 & 0.2201 &  25.553 & -0.039080\\\\\n",
       "\t  0.04690046 & 1 & 9.030137 & 0.0000 & 0.265778 & 0.008629 & 0.288 & 0.337 & 0.237 & 1.00 & ... & 25.64 & 2.727 & 2.664 & 2.788 & 20.4 &  9.4 & 0.3238 & 0.3134 &   4.152 &  0.005175\\\\\n",
       "\t  0.03977337 & 1 & 8.865312 & 0.0000 & 0.282939 & 0.005048 & 0.188 & 0.236 & 0.139 & 1.00 & ... & 10.76 & 1.888 & 1.920 & 1.860 & 20.0 & 16.0 & 0.1845 & 0.1940 &   0.452 & -0.029551\\\\\n",
       "\t  0.04064154 & 1 & 8.912339 & 0.0000 & 0.150366 & 0.024377 & 0.257 & 0.338 & 0.215 & 1.00 & ... & 24.40 & 3.051 & 3.235 & 2.875 & 18.5 & 29.1 & 0.1876 & 0.2007 &   0.886 & -0.036482\\\\\n",
       "\\end{tabular}\n"
      ],
      "text/markdown": [
       "\n",
       "A data.frame: 90 × 63\n",
       "\n",
       "| Outcome &lt;dbl&gt; | intercept &lt;int&gt; | gdpsh465 &lt;dbl&gt; | bmp1l &lt;dbl&gt; | freeop &lt;dbl&gt; | freetar &lt;dbl&gt; | h65 &lt;dbl&gt; | hm65 &lt;dbl&gt; | hf65 &lt;dbl&gt; | p65 &lt;dbl&gt; | ... ... | seccf65 &lt;dbl&gt; | syr65 &lt;dbl&gt; | syrm65 &lt;dbl&gt; | syrf65 &lt;dbl&gt; | teapri65 &lt;dbl&gt; | teasec65 &lt;dbl&gt; | ex1 &lt;dbl&gt; | im1 &lt;dbl&gt; | xr65 &lt;dbl&gt; | tot1 &lt;dbl&gt; |\n",
       "|---|---|---|---|---|---|---|---|---|---|---|---|---|---|---|---|---|---|---|---|---|\n",
       "| -0.02433575 | 1 | 6.591674 | 0.2837 | 0.153491 | 0.043888 | 0.007 | 0.013 | 0.001 | 0.29 | ... |  0.04 | 0.033 | 0.057 | 0.010 | 47.6 | 17.3 | 0.0729 | 0.0667 |   0.348 | -0.014727 |\n",
       "|  0.10047257 | 1 | 6.829794 | 0.6141 | 0.313509 | 0.061827 | 0.019 | 0.032 | 0.007 | 0.91 | ... |  0.64 | 0.173 | 0.274 | 0.067 | 57.1 | 18.0 | 0.0940 | 0.1438 |   0.525 |  0.005750 |\n",
       "|  0.06705148 | 1 | 8.895082 | 0.0000 | 0.204244 | 0.009186 | 0.260 | 0.325 | 0.201 | 1.00 | ... | 18.14 | 2.573 | 2.478 | 2.667 | 26.5 | 20.7 | 0.1741 | 0.1750 |   1.082 | -0.010040 |\n",
       "|  0.06408917 | 1 | 7.565275 | 0.1997 | 0.248714 | 0.036270 | 0.061 | 0.070 | 0.051 | 1.00 | ... |  2.63 | 0.438 | 0.453 | 0.424 | 27.8 | 22.7 | 0.1265 | 0.1496 |   6.625 | -0.002195 |\n",
       "|  0.02792955 | 1 | 7.162397 | 0.1740 | 0.299252 | 0.037367 | 0.017 | 0.027 | 0.007 | 0.82 | ... |  2.11 | 0.257 | 0.287 | 0.229 | 34.5 | 17.6 | 0.1211 | 0.1308 |   2.500 |  0.003283 |\n",
       "|  0.04640744 | 1 | 7.218910 | 0.0000 | 0.258865 | 0.020880 | 0.023 | 0.038 | 0.006 | 0.50 | ... |  1.46 | 0.160 | 0.174 | 0.146 | 34.3 |  8.1 | 0.0634 | 0.0762 |   1.000 | -0.001747 |\n",
       "|  0.06733234 | 1 | 7.853605 | 0.0000 | 0.182525 | 0.014385 | 0.039 | 0.063 | 0.014 | 0.92 | ... |  1.59 | 0.342 | 0.484 | 0.207 | 46.6 | 14.7 | 0.0342 | 0.0428 |  12.499 |  0.009092 |\n",
       "|  0.02097768 | 1 | 7.703910 | 0.2776 | 0.215275 | 0.029713 | 0.024 | 0.035 | 0.013 | 0.69 | ... |  1.63 | 0.184 | 0.219 | 0.152 | 34.0 | 16.1 | 0.0864 | 0.0931 |   7.000 |  0.011630 |\n",
       "|  0.03355124 | 1 | 9.063463 | 0.0000 | 0.109614 | 0.002171 | 0.402 | 0.488 | 0.314 | 1.00 | ... | 24.72 | 3.206 | 3.154 | 3.253 | 28.2 | 20.6 | 0.0594 | 0.0460 |   1.000 |  0.008169 |\n",
       "|  0.03914652 | 1 | 8.151910 | 0.1484 | 0.110885 | 0.028579 | 0.145 | 0.173 | 0.114 | 1.00 | ... |  6.76 | 0.703 | 0.785 | 0.620 | 20.3 |  7.2 | 0.0524 | 0.0523 |   2.119 |  0.007584 |\n",
       "|  0.07612651 | 1 | 6.929517 | 0.0296 | 0.165784 | 0.020115 | 0.046 | 0.066 | 0.025 | 0.73 | ... |  6.21 | 1.316 | 1.683 | 0.969 | 27.8 | 17.2 | 0.0560 | 0.0826 |  11.879 |  0.086032 |\n",
       "|  0.12795121 | 1 | 7.237778 | 0.2151 | 0.078488 | 0.011581 | 0.022 | 0.031 | 0.014 | 1.00 | ... |  3.96 | 0.594 | 0.674 | 0.515 | 28.2 | 14.8 | 0.0270 | 0.0275 |   1.938 |  0.007666 |\n",
       "| -0.02432609 | 1 | 8.115820 | 0.4318 | 0.137482 | 0.026547 | 0.059 | 0.073 | 0.045 | 1.00 | ... | 11.36 | 1.132 | 1.126 | 1.138 | 52.1 | 18.8 | 0.0804 | 0.0930 |   0.003 |  0.016968 |\n",
       "|  0.07829342 | 1 | 7.271704 | 0.1689 | 0.164598 | 0.044446 | 0.029 | 0.045 | 0.013 | 0.84 | ... |  3.10 | 0.568 | 0.695 | 0.450 | 35.9 | 13.1 | 0.0617 | 0.0678 |  10.479 |  0.004573 |\n",
       "|  0.11291155 | 1 | 7.121252 | 0.1832 | 0.188016 | 0.045678 | 0.033 | 0.051 | 0.015 | 0.91 | ... |  3.16 | 0.440 | 0.512 | 0.369 | 37.4 | 12.7 | 0.0775 | 0.0780 |  18.476 | -0.020322 |\n",
       "|  0.05230819 | 1 | 6.977281 | 0.0962 | 0.204611 | 0.077852 | 0.037 | 0.043 | 0.030 | 1.00 | ... |  2.40 | 0.419 | 0.548 | 0.299 | 30.3 |  7.9 | 0.0668 | 0.0787 | 125.990 |  0.028916 |\n",
       "|  0.03639089 | 1 | 7.649693 | 0.0227 | 0.136287 | 0.046730 | 0.081 | 0.105 | 0.056 | 0.99 | ... |  3.51 | 0.562 | 0.699 | 0.427 | 35.7 | 14.7 | 0.0872 | 0.0938 |  26.800 |  0.020228 |\n",
       "|  0.02973823 | 1 | 8.056744 | 0.0208 | 0.197853 | 0.037224 | 0.083 | 0.097 | 0.069 | 1.00 | ... |  3.30 | 0.722 | 0.765 | 0.680 | 36.6 | 12.6 | 0.0557 | 0.0624 |   0.052 |  0.013407 |\n",
       "| -0.05664358 | 1 | 8.780941 | 0.2654 | 0.189867 | 0.031747 | 0.068 | 0.089 | 0.046 | 0.94 | ... |  2.99 | 0.372 | 0.462 | 0.281 | 34.0 | 20.3 | 0.3178 | 0.1583 |   4.500 | -0.024761 |\n",
       "|  0.01920480 | 1 | 6.287859 | 0.4207 | 0.130682 | 0.109921 | 0.053 | 0.039 | 0.011 | 0.74 | ... |  0.34 | 0.142 | 0.223 | 0.055 | 35.5 | 19.1 | 0.0201 | 0.0341 |   4.762 | -0.021656 |\n",
       "|  0.08520600 | 1 | 6.137727 | 0.1371 | 0.123818 | 0.015897 | 0.028 | 0.025 | 0.007 | 0.72 | ... |  0.56 | 0.148 | 0.232 | 0.065 | 41.3 | 21.3 | 0.0298 | 0.0297 |   4.125 | -0.054872 |\n",
       "|  0.13398221 | 1 | 8.128880 | 0.0000 | 0.167210 | 0.003311 | 0.129 | 0.196 | 0.063 | 1.00 | ... | 13.16 | 1.727 | 1.910 | 1.560 | 28.1 | 23.2 | 0.0570 | 0.0609 | 360.000 | -0.054874 |\n",
       "|  0.17302474 | 1 | 6.680855 | 0.4713 | 0.228424 | 0.029328 | 0.062 | 0.090 | 0.032 | 1.00 | ... |  3.95 | 0.974 | 1.526 | 0.470 | 62.4 | 34.9 | 0.0206 | 0.0618 | 265.690 |  0.018194 |\n",
       "|  0.10969915 | 1 | 7.177019 | 0.0178 | 0.185240 | 0.015453 | 0.020 | 0.026 | 0.013 | 0.90 | ... |  1.89 | 0.571 | 0.843 | 0.286 | 26.9 | 24.1 | 0.2295 | 0.1990 |   3.061 | -0.034733 |\n",
       "|  0.01598990 | 1 | 6.648985 | 0.4762 | 0.171181 | 0.058937 | 0.018 | 0.028 | 0.007 | 0.40 | ... |  0.76 | 0.357 | 0.512 | 0.185 | 39.9 | 26.9 | 0.0178 | 0.0634 |   4.762 | -0.000222 |\n",
       "|  0.06224977 | 1 | 6.879356 | 0.2927 | 0.179508 | 0.035842 | 0.188 | 0.169 | 0.208 | 1.00 | ... |  3.69 | 0.651 | 0.759 | 0.547 | 31.4 | 31.2 | 0.0695 | 0.0728 |   4.017 |  0.033636 |\n",
       "|  0.10987069 | 1 | 7.347300 | 0.1017 | 0.247626 | 0.037392 | 0.080 | 0.133 | 0.027 | 0.78 | ... |  0.72 | 0.195 | 0.303 | 0.085 | 36.2 | 21.6 | 0.0860 | 0.0898 |   3.177 |  0.010162 |\n",
       "|  0.09210628 | 1 | 6.725034 | 0.0266 | 0.179933 | 0.046376 | 0.015 | 0.020 | 0.010 | 0.78 | ... |  0.86 | 0.258 | 0.382 | 0.137 | 34.6 | 16.5 | 0.0558 | 0.0613 |  20.800 | -0.018514 |\n",
       "|  0.08337604 | 1 | 8.451053 | 0.0000 | 0.358556 | 0.016468 | 0.090 | 0.133 | 0.044 | 1.00 | ... |  2.91 | 0.766 | 1.087 | 0.510 | 21.9 | 15.3 | 0.1687 | 0.1635 |  26.000 |  0.010943 |\n",
       "|  0.07623345 | 1 | 8.602453 | 0.0000 | 0.416234 | 0.014721 | 0.148 | 0.194 | 0.100 | 1.00 | ... | 12.17 | 1.554 | 1.724 | 1.398 | 20.6 |  7.2 | 0.2629 | 0.2698 |  50.000 | -0.001521 |\n",
       "| ... | ... | ... | ... | ... | ... | ... | ... | ... | ... | <!----> | ... | ... | ... | ... | ... | ... | ... | ... | ... | ... |\n",
       "| -0.03404539 | 1 | 8.346168 | 0.3199 | 0.110885 | 0.028579 | 0.272 | 0.289 | 0.272 | 1.00 | ... |  9.58 | 0.919 | 0.936 | 0.902 | 18.2 |  7.7 | 0.0625 | 0.0578 |  36.603 |  0.014286 |\n",
       "| -0.03380635 | 1 | 7.303170 | 0.3133 | 0.165784 | 0.020115 | 0.112 | 0.132 | 0.065 | 0.85 | ... |  5.60 | 1.158 | 1.473 | 0.862 | 22.7 | 18.2 | 0.1071 | 0.1028 |  20.000 |  0.111198 |\n",
       "|  0.06991488 | 1 | 7.859027 | 0.1222 | 0.078488 | 0.011581 | 0.107 | 0.103 | 0.092 | 0.88 | ... |  2.80 | 0.596 | 0.645 | 0.548 | 21.7 | 14.4 | 0.0357 | 0.0466 |   8.127 |  0.006002 |\n",
       "| -0.08172560 | 1 | 7.998335 | 1.6378 | 0.137482 | 0.026547 | 0.156 | 0.181 | 0.150 | 1.00 | ... | 13.74 | 1.339 | 1.222 | 1.445 | 34.8 | 15.2 | 0.0783 | 0.0847 |   4.911 | -0.127025 |\n",
       "|  0.04601005 | 1 | 7.655864 | 0.1345 | 0.164598 | 0.044446 | 0.080 | 0.097 | 0.058 | 1.00 | ... |  8.25 | 1.076 | 1.143 | 1.013 | 32.1 | 19.4 | 0.0525 | 0.0572 |  30.929 | -0.004592 |\n",
       "|  0.06659809 | 1 | 7.675082 | 0.0898 | 0.188016 | 0.045678 | 0.269 | 0.338 | 0.200 | 1.00 | ... |  5.80 | 0.687 | 0.745 | 0.630 | 37.5 | 16.4 | 0.0906 | 0.0959 |  25.000 |  0.191066 |\n",
       "| -0.01138424 | 1 | 7.830028 | 0.4880 | 0.136287 | 0.046730 | 0.146 | 0.193 | 0.094 | 1.00 | ... |  6.42 | 0.950 | 1.129 | 0.772 | 39.1 | 23.8 | 0.0764 | 0.0866 |  40.500 | -0.007018 |\n",
       "| -0.10098990 | 1 | 8.498622 | 0.0010 | 0.189867 | 0.031747 | 0.181 | 0.190 | 0.159 | 0.97 | ... |  7.63 | 0.801 | 0.850 | 0.752 | 30.2 | 16.8 | 0.2131 | 0.1437 |   4.285 |  0.168536 |\n",
       "|  0.05475087 | 1 | 6.216606 | 0.7557 | 0.214345 | 0.073495 | 0.023 | 0.051 | 0.006 | 0.73 | ... |  0.44 | 0.282 | 0.488 | 0.051 | 50.6 | 21.8 | 0.0232 | 0.0407 |   8.876 | -0.084064 |\n",
       "|  0.09461817 | 1 | 8.414496 | 0.0000 | 0.374328 | 0.000000 | 0.101 | 0.147 | 0.053 | 1.00 | ... | 11.80 | 1.846 | 2.369 | 1.301 | 31.1 | 24.3 | 0.5958 | 0.5819 |   4.935 |  0.021808 |\n",
       "|  0.04571529 | 1 | 6.383507 | 0.3556 | 0.130682 | 0.109921 | 0.086 | 0.130 | 0.042 | 0.79 | ... |  1.00 | 0.446 | 0.713 | 0.163 | 42.3 | 19.8 | 0.0188 | 0.0222 |   8.653 | -0.012443 |\n",
       "|  0.06549111 | 1 | 8.782323 | 0.0000 | 0.167210 | 0.003311 | 0.246 | 0.331 | 0.160 | 0.99 | ... | 15.52 | 1.969 | 2.121 | 1.828 | 25.3 | 17.5 | 0.1032 | 0.0958 | 296.800 | -0.057094 |\n",
       "|  0.02124651 | 1 | 7.251345 | 0.0516 | 0.263813 | 0.045225 | 0.090 | 0.053 | 0.030 | 0.88 | ... |  4.00 | 0.817 | 1.205 | 0.413 | 34.7 | 21.1 | 0.0730 | 0.2227 |   0.320 |  0.128443 |\n",
       "|  0.14144548 | 1 | 7.511525 | 0.1053 | 0.228424 | 0.029328 | 0.103 | 0.139 | 0.054 | 1.00 | ... |  9.33 | 1.700 | 2.369 | 1.060 | 51.7 | 37.1 | 0.0903 | 0.1229 | 484.000 |  0.007257 |\n",
       "|  0.09681623 | 1 | 7.713785 | 0.0050 | 0.185240 | 0.015453 | 0.031 | 0.042 | 0.016 | 0.91 | ... |  4.35 | 0.891 | 1.255 | 0.517 | 31.8 | 27.3 | 0.1922 | 0.1821 |   2.402 |  0.030424 |\n",
       "|  0.04053420 | 1 | 6.728629 | 0.6190 | 0.171181 | 0.058937 | 0.019 | 0.027 | 0.009 | 0.46 | ... |  1.01 | 0.670 | 1.039 | 0.271 | 40.1 | 18.0 | 0.0281 | 0.0459 |   9.900 | -0.012137 |\n",
       "|  0.01058841 | 1 | 7.186144 | 0.0760 | 0.179508 | 0.035842 | 0.184 | 0.173 | 0.217 | 1.00 | ... |  5.34 | 0.943 | 1.049 | 0.837 | 29.0 | 31.5 | 0.0703 | 0.0716 |   7.248 |  0.009640 |\n",
       "|  0.18552649 | 1 | 8.326033 | 0.0050 | 0.321658 | 0.005106 | 0.090 | 0.109 | 0.075 | 1.00 | ... |  4.64 | 1.127 | 1.427 | 0.817 | 30.5 | 23.1 | 0.7470 | 0.8489 |   2.371 |  0.051395 |\n",
       "|  0.09310491 | 1 | 7.894691 | 0.1062 | 0.247626 | 0.037392 | 0.121 | 0.175 | 0.063 | 0.96 | ... |  1.47 | 0.481 | 0.761 | 0.200 | 33.8 | 19.6 | 0.0797 | 0.1018 |   3.017 |  0.207492 |\n",
       "|  0.06522856 | 1 | 7.175490 | 0.0000 | 0.179933 | 0.046376 | 0.035 | 0.040 | 0.027 | 0.83 | ... |  1.23 | 0.332 | 0.451 | 0.219 | 27.9 | 27.2 | 0.0636 | 0.0721 |  20.379 |  0.018019 |\n",
       "|  0.03809502 | 1 | 9.030974 | 0.0000 | 0.293138 | 0.005517 | 0.245 | 0.251 | 0.238 | 1.00 | ... |  7.50 | 1.167 | 1.210 | 1.128 | 22.5 | 15.5 | 0.1662 | 0.1617 |   4.286 | -0.006642 |\n",
       "|  0.03421300 | 1 | 8.995537 | 0.0000 | 0.304720 | 0.011658 | 0.246 | 0.260 | 0.190 | 1.00 | ... |  6.75 | 0.667 | 0.776 | 0.575 | 23.5 | 15.0 | 0.2597 | 0.2288 |   2.460 | -0.003241 |\n",
       "|  0.05275914 | 1 | 8.234830 | 0.0363 | 0.288405 | 0.011589 | 0.183 | 0.222 | 0.142 | 1.00 | ... |  8.18 | 1.010 | 1.220 | 0.821 | 30.2 | 28.3 | 0.1044 | 0.1796 |  32.051 | -0.034352 |\n",
       "|  0.03841564 | 1 | 8.332549 | 0.0000 | 0.345485 | 0.006503 | 0.188 | 0.248 | 0.136 | 1.00 | ... | 13.12 | 1.576 | 1.567 | 1.585 | 31.0 | 14.3 | 0.2866 | 0.3500 |   0.452 | -0.001660 |\n",
       "|  0.03189479 | 1 | 8.645586 | 0.0000 | 0.288440 | 0.005995 | 0.256 | 0.301 | 0.199 | 1.00 | ... |  6.91 | 1.307 | 1.579 | 1.062 | 18.9 | 11.3 | 0.1296 | 0.1458 | 652.850 | -0.046278 |\n",
       "|  0.03119598 | 1 | 8.991064 | 0.0000 | 0.371898 | 0.014586 | 0.255 | 0.336 | 0.170 | 0.98 | ... | 11.41 | 2.226 | 2.494 | 1.971 | 27.5 | 15.9 | 0.4407 | 0.4257 |   2.529 | -0.011883 |\n",
       "|  0.03409566 | 1 | 8.025189 | 0.0050 | 0.296437 | 0.013615 | 0.108 | 0.117 | 0.093 | 1.00 | ... |  1.95 | 0.510 | 0.694 | 0.362 | 20.2 | 15.7 | 0.1669 | 0.2201 |  25.553 | -0.039080 |\n",
       "|  0.04690046 | 1 | 9.030137 | 0.0000 | 0.265778 | 0.008629 | 0.288 | 0.337 | 0.237 | 1.00 | ... | 25.64 | 2.727 | 2.664 | 2.788 | 20.4 |  9.4 | 0.3238 | 0.3134 |   4.152 |  0.005175 |\n",
       "|  0.03977337 | 1 | 8.865312 | 0.0000 | 0.282939 | 0.005048 | 0.188 | 0.236 | 0.139 | 1.00 | ... | 10.76 | 1.888 | 1.920 | 1.860 | 20.0 | 16.0 | 0.1845 | 0.1940 |   0.452 | -0.029551 |\n",
       "|  0.04064154 | 1 | 8.912339 | 0.0000 | 0.150366 | 0.024377 | 0.257 | 0.338 | 0.215 | 1.00 | ... | 24.40 | 3.051 | 3.235 | 2.875 | 18.5 | 29.1 | 0.1876 | 0.2007 |   0.886 | -0.036482 |\n",
       "\n"
      ],
      "text/plain": [
       "    Outcome     intercept gdpsh465 bmp1l  freeop   freetar  h65   hm65  hf65 \n",
       "1   -0.02433575 1         6.591674 0.2837 0.153491 0.043888 0.007 0.013 0.001\n",
       "2    0.10047257 1         6.829794 0.6141 0.313509 0.061827 0.019 0.032 0.007\n",
       "3    0.06705148 1         8.895082 0.0000 0.204244 0.009186 0.260 0.325 0.201\n",
       "4    0.06408917 1         7.565275 0.1997 0.248714 0.036270 0.061 0.070 0.051\n",
       "5    0.02792955 1         7.162397 0.1740 0.299252 0.037367 0.017 0.027 0.007\n",
       "6    0.04640744 1         7.218910 0.0000 0.258865 0.020880 0.023 0.038 0.006\n",
       "7    0.06733234 1         7.853605 0.0000 0.182525 0.014385 0.039 0.063 0.014\n",
       "8    0.02097768 1         7.703910 0.2776 0.215275 0.029713 0.024 0.035 0.013\n",
       "9    0.03355124 1         9.063463 0.0000 0.109614 0.002171 0.402 0.488 0.314\n",
       "10   0.03914652 1         8.151910 0.1484 0.110885 0.028579 0.145 0.173 0.114\n",
       "11   0.07612651 1         6.929517 0.0296 0.165784 0.020115 0.046 0.066 0.025\n",
       "12   0.12795121 1         7.237778 0.2151 0.078488 0.011581 0.022 0.031 0.014\n",
       "13  -0.02432609 1         8.115820 0.4318 0.137482 0.026547 0.059 0.073 0.045\n",
       "14   0.07829342 1         7.271704 0.1689 0.164598 0.044446 0.029 0.045 0.013\n",
       "15   0.11291155 1         7.121252 0.1832 0.188016 0.045678 0.033 0.051 0.015\n",
       "16   0.05230819 1         6.977281 0.0962 0.204611 0.077852 0.037 0.043 0.030\n",
       "17   0.03639089 1         7.649693 0.0227 0.136287 0.046730 0.081 0.105 0.056\n",
       "18   0.02973823 1         8.056744 0.0208 0.197853 0.037224 0.083 0.097 0.069\n",
       "19  -0.05664358 1         8.780941 0.2654 0.189867 0.031747 0.068 0.089 0.046\n",
       "20   0.01920480 1         6.287859 0.4207 0.130682 0.109921 0.053 0.039 0.011\n",
       "21   0.08520600 1         6.137727 0.1371 0.123818 0.015897 0.028 0.025 0.007\n",
       "22   0.13398221 1         8.128880 0.0000 0.167210 0.003311 0.129 0.196 0.063\n",
       "23   0.17302474 1         6.680855 0.4713 0.228424 0.029328 0.062 0.090 0.032\n",
       "24   0.10969915 1         7.177019 0.0178 0.185240 0.015453 0.020 0.026 0.013\n",
       "25   0.01598990 1         6.648985 0.4762 0.171181 0.058937 0.018 0.028 0.007\n",
       "26   0.06224977 1         6.879356 0.2927 0.179508 0.035842 0.188 0.169 0.208\n",
       "27   0.10987069 1         7.347300 0.1017 0.247626 0.037392 0.080 0.133 0.027\n",
       "28   0.09210628 1         6.725034 0.0266 0.179933 0.046376 0.015 0.020 0.010\n",
       "29   0.08337604 1         8.451053 0.0000 0.358556 0.016468 0.090 0.133 0.044\n",
       "30   0.07623345 1         8.602453 0.0000 0.416234 0.014721 0.148 0.194 0.100\n",
       "... ...         ...       ...      ...    ...      ...      ...   ...   ...  \n",
       "61  -0.03404539 1         8.346168 0.3199 0.110885 0.028579 0.272 0.289 0.272\n",
       "62  -0.03380635 1         7.303170 0.3133 0.165784 0.020115 0.112 0.132 0.065\n",
       "63   0.06991488 1         7.859027 0.1222 0.078488 0.011581 0.107 0.103 0.092\n",
       "64  -0.08172560 1         7.998335 1.6378 0.137482 0.026547 0.156 0.181 0.150\n",
       "65   0.04601005 1         7.655864 0.1345 0.164598 0.044446 0.080 0.097 0.058\n",
       "66   0.06659809 1         7.675082 0.0898 0.188016 0.045678 0.269 0.338 0.200\n",
       "67  -0.01138424 1         7.830028 0.4880 0.136287 0.046730 0.146 0.193 0.094\n",
       "68  -0.10098990 1         8.498622 0.0010 0.189867 0.031747 0.181 0.190 0.159\n",
       "69   0.05475087 1         6.216606 0.7557 0.214345 0.073495 0.023 0.051 0.006\n",
       "70   0.09461817 1         8.414496 0.0000 0.374328 0.000000 0.101 0.147 0.053\n",
       "71   0.04571529 1         6.383507 0.3556 0.130682 0.109921 0.086 0.130 0.042\n",
       "72   0.06549111 1         8.782323 0.0000 0.167210 0.003311 0.246 0.331 0.160\n",
       "73   0.02124651 1         7.251345 0.0516 0.263813 0.045225 0.090 0.053 0.030\n",
       "74   0.14144548 1         7.511525 0.1053 0.228424 0.029328 0.103 0.139 0.054\n",
       "75   0.09681623 1         7.713785 0.0050 0.185240 0.015453 0.031 0.042 0.016\n",
       "76   0.04053420 1         6.728629 0.6190 0.171181 0.058937 0.019 0.027 0.009\n",
       "77   0.01058841 1         7.186144 0.0760 0.179508 0.035842 0.184 0.173 0.217\n",
       "78   0.18552649 1         8.326033 0.0050 0.321658 0.005106 0.090 0.109 0.075\n",
       "79   0.09310491 1         7.894691 0.1062 0.247626 0.037392 0.121 0.175 0.063\n",
       "80   0.06522856 1         7.175490 0.0000 0.179933 0.046376 0.035 0.040 0.027\n",
       "81   0.03809502 1         9.030974 0.0000 0.293138 0.005517 0.245 0.251 0.238\n",
       "82   0.03421300 1         8.995537 0.0000 0.304720 0.011658 0.246 0.260 0.190\n",
       "83   0.05275914 1         8.234830 0.0363 0.288405 0.011589 0.183 0.222 0.142\n",
       "84   0.03841564 1         8.332549 0.0000 0.345485 0.006503 0.188 0.248 0.136\n",
       "85   0.03189479 1         8.645586 0.0000 0.288440 0.005995 0.256 0.301 0.199\n",
       "86   0.03119598 1         8.991064 0.0000 0.371898 0.014586 0.255 0.336 0.170\n",
       "87   0.03409566 1         8.025189 0.0050 0.296437 0.013615 0.108 0.117 0.093\n",
       "88   0.04690046 1         9.030137 0.0000 0.265778 0.008629 0.288 0.337 0.237\n",
       "89   0.03977337 1         8.865312 0.0000 0.282939 0.005048 0.188 0.236 0.139\n",
       "90   0.04064154 1         8.912339 0.0000 0.150366 0.024377 0.257 0.338 0.215\n",
       "    p65  ... seccf65 syr65 syrm65 syrf65 teapri65 teasec65 ex1    im1   \n",
       "1   0.29 ...  0.04   0.033 0.057  0.010  47.6     17.3     0.0729 0.0667\n",
       "2   0.91 ...  0.64   0.173 0.274  0.067  57.1     18.0     0.0940 0.1438\n",
       "3   1.00 ... 18.14   2.573 2.478  2.667  26.5     20.7     0.1741 0.1750\n",
       "4   1.00 ...  2.63   0.438 0.453  0.424  27.8     22.7     0.1265 0.1496\n",
       "5   0.82 ...  2.11   0.257 0.287  0.229  34.5     17.6     0.1211 0.1308\n",
       "6   0.50 ...  1.46   0.160 0.174  0.146  34.3      8.1     0.0634 0.0762\n",
       "7   0.92 ...  1.59   0.342 0.484  0.207  46.6     14.7     0.0342 0.0428\n",
       "8   0.69 ...  1.63   0.184 0.219  0.152  34.0     16.1     0.0864 0.0931\n",
       "9   1.00 ... 24.72   3.206 3.154  3.253  28.2     20.6     0.0594 0.0460\n",
       "10  1.00 ...  6.76   0.703 0.785  0.620  20.3      7.2     0.0524 0.0523\n",
       "11  0.73 ...  6.21   1.316 1.683  0.969  27.8     17.2     0.0560 0.0826\n",
       "12  1.00 ...  3.96   0.594 0.674  0.515  28.2     14.8     0.0270 0.0275\n",
       "13  1.00 ... 11.36   1.132 1.126  1.138  52.1     18.8     0.0804 0.0930\n",
       "14  0.84 ...  3.10   0.568 0.695  0.450  35.9     13.1     0.0617 0.0678\n",
       "15  0.91 ...  3.16   0.440 0.512  0.369  37.4     12.7     0.0775 0.0780\n",
       "16  1.00 ...  2.40   0.419 0.548  0.299  30.3      7.9     0.0668 0.0787\n",
       "17  0.99 ...  3.51   0.562 0.699  0.427  35.7     14.7     0.0872 0.0938\n",
       "18  1.00 ...  3.30   0.722 0.765  0.680  36.6     12.6     0.0557 0.0624\n",
       "19  0.94 ...  2.99   0.372 0.462  0.281  34.0     20.3     0.3178 0.1583\n",
       "20  0.74 ...  0.34   0.142 0.223  0.055  35.5     19.1     0.0201 0.0341\n",
       "21  0.72 ...  0.56   0.148 0.232  0.065  41.3     21.3     0.0298 0.0297\n",
       "22  1.00 ... 13.16   1.727 1.910  1.560  28.1     23.2     0.0570 0.0609\n",
       "23  1.00 ...  3.95   0.974 1.526  0.470  62.4     34.9     0.0206 0.0618\n",
       "24  0.90 ...  1.89   0.571 0.843  0.286  26.9     24.1     0.2295 0.1990\n",
       "25  0.40 ...  0.76   0.357 0.512  0.185  39.9     26.9     0.0178 0.0634\n",
       "26  1.00 ...  3.69   0.651 0.759  0.547  31.4     31.2     0.0695 0.0728\n",
       "27  0.78 ...  0.72   0.195 0.303  0.085  36.2     21.6     0.0860 0.0898\n",
       "28  0.78 ...  0.86   0.258 0.382  0.137  34.6     16.5     0.0558 0.0613\n",
       "29  1.00 ...  2.91   0.766 1.087  0.510  21.9     15.3     0.1687 0.1635\n",
       "30  1.00 ... 12.17   1.554 1.724  1.398  20.6      7.2     0.2629 0.2698\n",
       "... ...      ...     ...   ...    ...    ...      ...      ...    ...   \n",
       "61  1.00 ...  9.58   0.919 0.936  0.902  18.2      7.7     0.0625 0.0578\n",
       "62  0.85 ...  5.60   1.158 1.473  0.862  22.7     18.2     0.1071 0.1028\n",
       "63  0.88 ...  2.80   0.596 0.645  0.548  21.7     14.4     0.0357 0.0466\n",
       "64  1.00 ... 13.74   1.339 1.222  1.445  34.8     15.2     0.0783 0.0847\n",
       "65  1.00 ...  8.25   1.076 1.143  1.013  32.1     19.4     0.0525 0.0572\n",
       "66  1.00 ...  5.80   0.687 0.745  0.630  37.5     16.4     0.0906 0.0959\n",
       "67  1.00 ...  6.42   0.950 1.129  0.772  39.1     23.8     0.0764 0.0866\n",
       "68  0.97 ...  7.63   0.801 0.850  0.752  30.2     16.8     0.2131 0.1437\n",
       "69  0.73 ...  0.44   0.282 0.488  0.051  50.6     21.8     0.0232 0.0407\n",
       "70  1.00 ... 11.80   1.846 2.369  1.301  31.1     24.3     0.5958 0.5819\n",
       "71  0.79 ...  1.00   0.446 0.713  0.163  42.3     19.8     0.0188 0.0222\n",
       "72  0.99 ... 15.52   1.969 2.121  1.828  25.3     17.5     0.1032 0.0958\n",
       "73  0.88 ...  4.00   0.817 1.205  0.413  34.7     21.1     0.0730 0.2227\n",
       "74  1.00 ...  9.33   1.700 2.369  1.060  51.7     37.1     0.0903 0.1229\n",
       "75  0.91 ...  4.35   0.891 1.255  0.517  31.8     27.3     0.1922 0.1821\n",
       "76  0.46 ...  1.01   0.670 1.039  0.271  40.1     18.0     0.0281 0.0459\n",
       "77  1.00 ...  5.34   0.943 1.049  0.837  29.0     31.5     0.0703 0.0716\n",
       "78  1.00 ...  4.64   1.127 1.427  0.817  30.5     23.1     0.7470 0.8489\n",
       "79  0.96 ...  1.47   0.481 0.761  0.200  33.8     19.6     0.0797 0.1018\n",
       "80  0.83 ...  1.23   0.332 0.451  0.219  27.9     27.2     0.0636 0.0721\n",
       "81  1.00 ...  7.50   1.167 1.210  1.128  22.5     15.5     0.1662 0.1617\n",
       "82  1.00 ...  6.75   0.667 0.776  0.575  23.5     15.0     0.2597 0.2288\n",
       "83  1.00 ...  8.18   1.010 1.220  0.821  30.2     28.3     0.1044 0.1796\n",
       "84  1.00 ... 13.12   1.576 1.567  1.585  31.0     14.3     0.2866 0.3500\n",
       "85  1.00 ...  6.91   1.307 1.579  1.062  18.9     11.3     0.1296 0.1458\n",
       "86  0.98 ... 11.41   2.226 2.494  1.971  27.5     15.9     0.4407 0.4257\n",
       "87  1.00 ...  1.95   0.510 0.694  0.362  20.2     15.7     0.1669 0.2201\n",
       "88  1.00 ... 25.64   2.727 2.664  2.788  20.4      9.4     0.3238 0.3134\n",
       "89  1.00 ... 10.76   1.888 1.920  1.860  20.0     16.0     0.1845 0.1940\n",
       "90  1.00 ... 24.40   3.051 3.235  2.875  18.5     29.1     0.1876 0.2007\n",
       "    xr65    tot1     \n",
       "1     0.348 -0.014727\n",
       "2     0.525  0.005750\n",
       "3     1.082 -0.010040\n",
       "4     6.625 -0.002195\n",
       "5     2.500  0.003283\n",
       "6     1.000 -0.001747\n",
       "7    12.499  0.009092\n",
       "8     7.000  0.011630\n",
       "9     1.000  0.008169\n",
       "10    2.119  0.007584\n",
       "11   11.879  0.086032\n",
       "12    1.938  0.007666\n",
       "13    0.003  0.016968\n",
       "14   10.479  0.004573\n",
       "15   18.476 -0.020322\n",
       "16  125.990  0.028916\n",
       "17   26.800  0.020228\n",
       "18    0.052  0.013407\n",
       "19    4.500 -0.024761\n",
       "20    4.762 -0.021656\n",
       "21    4.125 -0.054872\n",
       "22  360.000 -0.054874\n",
       "23  265.690  0.018194\n",
       "24    3.061 -0.034733\n",
       "25    4.762 -0.000222\n",
       "26    4.017  0.033636\n",
       "27    3.177  0.010162\n",
       "28   20.800 -0.018514\n",
       "29   26.000  0.010943\n",
       "30   50.000 -0.001521\n",
       "... ...     ...      \n",
       "61   36.603  0.014286\n",
       "62   20.000  0.111198\n",
       "63    8.127  0.006002\n",
       "64    4.911 -0.127025\n",
       "65   30.929 -0.004592\n",
       "66   25.000  0.191066\n",
       "67   40.500 -0.007018\n",
       "68    4.285  0.168536\n",
       "69    8.876 -0.084064\n",
       "70    4.935  0.021808\n",
       "71    8.653 -0.012443\n",
       "72  296.800 -0.057094\n",
       "73    0.320  0.128443\n",
       "74  484.000  0.007257\n",
       "75    2.402  0.030424\n",
       "76    9.900 -0.012137\n",
       "77    7.248  0.009640\n",
       "78    2.371  0.051395\n",
       "79    3.017  0.207492\n",
       "80   20.379  0.018019\n",
       "81    4.286 -0.006642\n",
       "82    2.460 -0.003241\n",
       "83   32.051 -0.034352\n",
       "84    0.452 -0.001660\n",
       "85  652.850 -0.046278\n",
       "86    2.529 -0.011883\n",
       "87   25.553 -0.039080\n",
       "88    4.152  0.005175\n",
       "89    0.452 -0.029551\n",
       "90    0.886 -0.036482"
      ]
     },
     "metadata": {},
     "output_type": "display_data"
    }
   ],
   "source": [
    "growth"
   ]
  },
  {
   "cell_type": "markdown",
   "metadata": {
    "papermill": {
     "duration": 0.025013,
     "end_time": "2021-01-20T08:46:45.109042",
     "exception": false,
     "start_time": "2021-01-20T08:46:45.084029",
     "status": "completed"
    },
    "tags": []
   },
   "source": [
    "The sample contains $90$ countries and $63$ controls. Thus $p \\approx 60$, $n=90$ and $p/n$ is not small. We expect the least squares method to provide a poor estimate of $\\beta_1$.  We expect the method based on partialling-out with Lasso to provide a high quality estimate of $\\beta_1$."
   ]
  },
  {
   "cell_type": "markdown",
   "metadata": {
    "papermill": {
     "duration": 0.024124,
     "end_time": "2021-01-20T08:46:45.157510",
     "exception": false,
     "start_time": "2021-01-20T08:46:45.133386",
     "status": "completed"
    },
    "tags": []
   },
   "source": [
    "To check this hypothesis, we analyze the relation between the output variable $Y$ and the other country's characteristics by running a linear regression in the first step."
   ]
  },
  {
   "cell_type": "code",
   "execution_count": 7,
   "metadata": {
    "execution": {
     "iopub.execute_input": "2021-01-20T08:46:45.217667Z",
     "iopub.status.busy": "2021-01-20T08:46:45.215601Z",
     "iopub.status.idle": "2021-01-20T08:46:45.249261Z",
     "shell.execute_reply": "2021-01-20T08:46:45.247904Z"
    },
    "papermill": {
     "duration": 0.06791,
     "end_time": "2021-01-20T08:46:45.249423",
     "exception": false,
     "start_time": "2021-01-20T08:46:45.181513",
     "status": "completed"
    },
    "scrolled": true,
    "tags": []
   },
   "outputs": [
    {
     "data": {
      "text/plain": [
       "\n",
       "Call:\n",
       "lm(formula = Outcome ~ . - 1, data = growth)\n",
       "\n",
       "Residuals:\n",
       "      Min        1Q    Median        3Q       Max \n",
       "-0.040338 -0.011298 -0.000863  0.011813  0.043247 \n",
       "\n",
       "Coefficients:\n",
       "            Estimate Std. Error t value Pr(>|t|)   \n",
       "intercept  2.472e-01  7.845e-01   0.315  0.75506   \n",
       "gdpsh465  -9.378e-03  2.989e-02  -0.314  0.75602   \n",
       "bmp1l     -6.886e-02  3.253e-02  -2.117  0.04329 * \n",
       "freeop     8.007e-02  2.079e-01   0.385  0.70300   \n",
       "freetar   -4.890e-01  4.182e-01  -1.169  0.25214   \n",
       "h65       -2.362e+00  8.573e-01  -2.755  0.01019 * \n",
       "hm65       7.071e-01  5.231e-01   1.352  0.18729   \n",
       "hf65       1.693e+00  5.032e-01   3.365  0.00223 **\n",
       "p65        2.655e-01  1.643e-01   1.616  0.11727   \n",
       "pm65       1.370e-01  1.512e-01   0.906  0.37284   \n",
       "pf65      -3.313e-01  1.651e-01  -2.006  0.05458 . \n",
       "s65        3.908e-02  1.855e-01   0.211  0.83469   \n",
       "sm65      -3.067e-02  1.168e-01  -0.263  0.79479   \n",
       "sf65      -1.799e-01  1.181e-01  -1.523  0.13886   \n",
       "fert65     6.881e-03  2.705e-02   0.254  0.80108   \n",
       "mort65    -2.335e-01  8.174e-01  -0.286  0.77729   \n",
       "lifee065  -1.491e-02  1.933e-01  -0.077  0.93906   \n",
       "gpop1      9.702e-01  1.812e+00   0.535  0.59663   \n",
       "fert1      8.838e-03  3.504e-02   0.252  0.80271   \n",
       "mort1      6.656e-02  6.848e-01   0.097  0.92326   \n",
       "invsh41    7.446e-02  1.084e-01   0.687  0.49797   \n",
       "geetot1   -7.151e-01  1.680e+00  -0.426  0.67364   \n",
       "geerec1    6.300e-01  2.447e+00   0.257  0.79874   \n",
       "gde1      -4.436e-01  1.671e+00  -0.265  0.79263   \n",
       "govwb1     3.375e-01  4.380e-01   0.770  0.44748   \n",
       "govsh41    4.632e-01  1.925e+00   0.241  0.81165   \n",
       "gvxdxe41  -7.934e-01  2.059e+00  -0.385  0.70296   \n",
       "high65    -7.525e-01  9.057e-01  -0.831  0.41311   \n",
       "highm65   -3.903e-01  6.812e-01  -0.573  0.57131   \n",
       "highf65   -4.177e-01  5.615e-01  -0.744  0.46308   \n",
       "highc65   -2.216e+00  1.481e+00  -1.496  0.14575   \n",
       "highcm65   2.797e-01  6.582e-01   0.425  0.67412   \n",
       "highcf65   3.921e-01  7.660e-01   0.512  0.61278   \n",
       "human65    2.337e+00  3.307e+00   0.707  0.48559   \n",
       "humanm65  -1.209e+00  1.619e+00  -0.747  0.46121   \n",
       "humanf65  -1.104e+00  1.685e+00  -0.655  0.51763   \n",
       "hyr65      5.491e+01  2.389e+01   2.299  0.02918 * \n",
       "hyrm65     1.294e+01  2.317e+01   0.558  0.58112   \n",
       "hyrf65     9.093e+00  1.767e+01   0.515  0.61088   \n",
       "no65       3.721e-02  1.320e-01   0.282  0.78006   \n",
       "nom65     -2.120e-02  6.496e-02  -0.326  0.74661   \n",
       "nof65     -1.686e-02  6.700e-02  -0.252  0.80319   \n",
       "pinstab1  -4.997e-02  3.092e-02  -1.616  0.11729   \n",
       "pop65      1.032e-07  1.318e-07   0.783  0.44027   \n",
       "worker65   3.408e-02  1.562e-01   0.218  0.82887   \n",
       "pop1565   -4.655e-01  4.713e-01  -0.988  0.33176   \n",
       "pop6565   -1.357e+00  6.349e-01  -2.138  0.04139 * \n",
       "sec65     -1.089e-02  3.077e-01  -0.035  0.97201   \n",
       "secm65     3.344e-03  1.512e-01   0.022  0.98251   \n",
       "secf65    -2.304e-03  1.580e-01  -0.015  0.98847   \n",
       "secc65    -4.915e-01  7.290e-01  -0.674  0.50570   \n",
       "seccm65    2.596e-01  3.557e-01   0.730  0.47150   \n",
       "seccf65    2.207e-01  3.733e-01   0.591  0.55924   \n",
       "syr65     -7.556e-01  7.977e+00  -0.095  0.92521   \n",
       "syrm65     3.109e-01  3.897e+00   0.080  0.93698   \n",
       "syrf65     7.593e-01  4.111e+00   0.185  0.85479   \n",
       "teapri65   3.955e-05  7.700e-04   0.051  0.95941   \n",
       "teasec65   2.497e-04  1.171e-03   0.213  0.83274   \n",
       "ex1       -5.804e-01  2.418e-01  -2.400  0.02329 * \n",
       "im1        5.914e-01  2.503e-01   2.363  0.02531 * \n",
       "xr65      -1.038e-04  5.417e-05  -1.916  0.06565 . \n",
       "tot1      -1.279e-01  1.126e-01  -1.136  0.26561   \n",
       "---\n",
       "Signif. codes:  0 '***' 0.001 '**' 0.01 '*' 0.05 '.' 0.1 ' ' 1\n",
       "\n",
       "Residual standard error: 0.03074 on 28 degrees of freedom\n",
       "Multiple R-squared:  0.9369,\tAdjusted R-squared:  0.7973 \n",
       "F-statistic: 6.708 on 62 and 28 DF,  p-value: 2.963e-07\n"
      ]
     },
     "metadata": {},
     "output_type": "display_data"
    }
   ],
   "source": [
    "#OLS (Baseline model)\n",
    "\n",
    "#.-1: no me cuentes al intercepto para evitar el problema de colinealidad. Elimina el intercepto\n",
    "reg.ols <- lm(Outcome~.-1,data=growth)\n",
    "summary(reg.ols)"
   ]
  },
  {
   "cell_type": "markdown",
   "metadata": {
    "papermill": {
     "duration": 0.023954,
     "end_time": "2021-01-20T08:46:45.297880",
     "exception": false,
     "start_time": "2021-01-20T08:46:45.273926",
     "status": "completed"
    },
    "tags": []
   },
   "source": [
    "We determine the regression coefficient $\\beta_1$ of the target regressor *gdpsh465* ($D$), its 95% confidence interval and the standard error."
   ]
  },
  {
   "cell_type": "code",
   "execution_count": 8,
   "metadata": {
    "execution": {
     "iopub.execute_input": "2021-01-20T08:46:45.355205Z",
     "iopub.status.busy": "2021-01-20T08:46:45.352979Z",
     "iopub.status.idle": "2021-01-20T08:46:45.411296Z",
     "shell.execute_reply": "2021-01-20T08:46:45.409288Z"
    },
    "papermill": {
     "duration": 0.087755,
     "end_time": "2021-01-20T08:46:45.411431",
     "exception": false,
     "start_time": "2021-01-20T08:46:45.323676",
     "status": "completed"
    },
    "tags": []
   },
   "outputs": [],
   "source": [
    "est_ols <- summary(reg.ols)$coef[\"gdpsh465\",1] #se quiere obtener de esa variable la primera columna\n",
    "# output: estimated regression coefficient corresponding to the target regressor\n",
    "\n",
    "std_ols <- summary(reg.ols)$coef[\"gdpsh465\",2] #se quiere obtener el error estandar de la segunda columna\n",
    "# output: std. error\n",
    "\n",
    "ci_ols <- confint(reg.ols)[2,]\n",
    "# output: 95% confidence interval\n",
    "\n",
    "results_ols <- as.data.frame(cbind(est_ols,std_ols,ci_ols[1],ci_ols[2]))\n",
    "colnames(results_ols) <-c(\"estimator\",\"standard error\", \"lower bound CI\", \"upper bound CI\")\n",
    "rownames(results_ols) <-c(\"OLS\")"
   ]
  },
  {
   "cell_type": "code",
   "execution_count": 9,
   "metadata": {},
   "outputs": [
    {
     "data": {
      "text/html": [
       "-0.00937798878257444"
      ],
      "text/latex": [
       "-0.00937798878257444"
      ],
      "text/markdown": [
       "-0.00937798878257444"
      ],
      "text/plain": [
       "[1] -0.009377989"
      ]
     },
     "metadata": {},
     "output_type": "display_data"
    },
    {
     "data": {
      "text/html": [
       "0.0298877263660793"
      ],
      "text/latex": [
       "0.0298877263660793"
      ],
      "text/markdown": [
       "0.0298877263660793"
      ],
      "text/plain": [
       "[1] 0.02988773"
      ]
     },
     "metadata": {},
     "output_type": "display_data"
    },
    {
     "data": {
      "text/html": [
       "<style>\n",
       ".dl-inline {width: auto; margin:0; padding: 0}\n",
       ".dl-inline>dt, .dl-inline>dd {float: none; width: auto; display: inline-block}\n",
       ".dl-inline>dt::after {content: \":\\0020\"; padding-right: .5ex}\n",
       ".dl-inline>dt:not(:first-of-type) {padding-left: .5ex}\n",
       "</style><dl class=dl-inline><dt>2.5 %</dt><dd>-0.0706002209228733</dd><dt>97.5 %</dt><dd>0.0518442433577244</dd></dl>\n"
      ],
      "text/latex": [
       "\\begin{description*}\n",
       "\\item[2.5 \\textbackslash{}\\%] -0.0706002209228733\n",
       "\\item[97.5 \\textbackslash{}\\%] 0.0518442433577244\n",
       "\\end{description*}\n"
      ],
      "text/markdown": [
       "2.5 %\n",
       ":   -0.070600220922873397.5 %\n",
       ":   0.0518442433577244\n",
       "\n"
      ],
      "text/plain": [
       "      2.5 %      97.5 % \n",
       "-0.07060022  0.05184424 "
      ]
     },
     "metadata": {},
     "output_type": "display_data"
    }
   ],
   "source": [
    "est_ols\n",
    "std_ols\n",
    "ci_ols"
   ]
  },
  {
   "cell_type": "code",
   "execution_count": 10,
   "metadata": {
    "execution": {
     "iopub.execute_input": "2021-01-20T08:46:45.461026Z",
     "iopub.status.busy": "2021-01-20T08:46:45.458711Z",
     "iopub.status.idle": "2021-01-20T08:46:45.540308Z",
     "shell.execute_reply": "2021-01-20T08:46:45.539451Z"
    },
    "papermill": {
     "duration": 0.107818,
     "end_time": "2021-01-20T08:46:45.540473",
     "exception": false,
     "start_time": "2021-01-20T08:46:45.432655",
     "status": "completed"
    },
    "tags": []
   },
   "outputs": [
    {
     "ename": "ERROR",
     "evalue": "Error in library(xtable): there is no package called 'xtable'\n",
     "output_type": "error",
     "traceback": [
      "Error in library(xtable): there is no package called 'xtable'\nTraceback:\n",
      "1. library(xtable)"
     ]
    }
   ],
   "source": [
    "library(xtable)\n",
    "table <- matrix(0, 1, 4)\n",
    "table[1,1:4]   <- c(est_ols,std_ols,ci_ols[1],ci_ols[2])\n",
    "colnames(table) <-c(\"estimator\",\"standard error\", \"lower bound CI\", \"upper bound CI\")\n",
    "rownames(table) <-c(\"OLS\")\n",
    "tab<- xtable(table, digits = 3)\n",
    "print(tab,type=\"html\") # set type=\"latex\" for printing table in LaTeX"
   ]
  },
  {
   "cell_type": "markdown",
   "metadata": {
    "papermill": {
     "duration": 0.024477,
     "end_time": "2021-01-20T08:46:45.590014",
     "exception": false,
     "start_time": "2021-01-20T08:46:45.565537",
     "status": "completed"
    },
    "tags": []
   },
   "source": [
    "<!-- html table generated in R 3.6.3 by xtable 1.8-4 package -->\n",
    "<!-- Tue Jan 19 10:23:32 2021 -->\n",
    "<table border=1>\n",
    "<tr> <th>  </th> <th> estimator </th> <th> standard error </th> <th> lower bound CI </th> <th> upper bound CI </th>  </tr>\n",
    "  <tr> <td align=\"right\"> OLS </td> <td align=\"right\"> -0.009 </td> <td align=\"right\"> 0.030 </td> <td align=\"right\"> -0.071 </td> <td align=\"right\"> 0.052 </td> </tr>\n",
    "   </table>"
   ]
  },
  {
   "cell_type": "markdown",
   "metadata": {
    "papermill": {
     "duration": 0.025116,
     "end_time": "2021-01-20T08:46:45.640216",
     "exception": false,
     "start_time": "2021-01-20T08:46:45.615100",
     "status": "completed"
    },
    "tags": []
   },
   "source": [
    "Least squares provides a rather noisy estimate (high standard error) of the\n",
    "speed of convergence, and does not allow us to answer the question\n",
    "about the convergence hypothesis since the confidence interval includes zero."
   ]
  },
  {
   "cell_type": "markdown",
   "metadata": {
    "papermill": {
     "duration": 0.024882,
     "end_time": "2021-01-20T08:46:45.690232",
     "exception": false,
     "start_time": "2021-01-20T08:46:45.665350",
     "status": "completed"
    },
    "tags": []
   },
   "source": [
    "### In contrast, we can use the partialling-out approach based on lasso regression (\"Double Lasso\")."
   ]
  },
  {
   "cell_type": "markdown",
   "metadata": {},
   "source": [
    "## Lasso Regression (HDM)"
   ]
  },
  {
   "cell_type": "code",
   "execution_count": 11,
   "metadata": {
    "execution": {
     "iopub.execute_input": "2021-01-20T08:46:45.744759Z",
     "iopub.status.busy": "2021-01-20T08:46:45.742631Z",
     "iopub.status.idle": "2021-01-20T08:46:46.314594Z",
     "shell.execute_reply": "2021-01-20T08:46:46.312522Z"
    },
    "papermill": {
     "duration": 0.599855,
     "end_time": "2021-01-20T08:46:46.314727",
     "exception": false,
     "start_time": "2021-01-20T08:46:45.714872",
     "status": "completed"
    },
    "tags": []
   },
   "outputs": [
    {
     "data": {
      "text/html": [
       "<style>\n",
       ".list-inline {list-style: none; margin:0; padding: 0}\n",
       ".list-inline>li {display: inline-block}\n",
       ".list-inline>li:not(:last-child)::after {content: \"\\00b7\"; padding: 0 .5ex}\n",
       "</style>\n",
       "<ol class=list-inline><li>90</li><li>60</li></ol>\n"
      ],
      "text/latex": [
       "\\begin{enumerate*}\n",
       "\\item 90\n",
       "\\item 60\n",
       "\\end{enumerate*}\n"
      ],
      "text/markdown": [
       "1. 90\n",
       "2. 60\n",
       "\n",
       "\n"
      ],
      "text/plain": [
       "[1] 90 60"
      ]
     },
     "metadata": {},
     "output_type": "display_data"
    }
   ],
   "source": [
    "Y <- growth[, 1, drop = F] # output variable\n",
    "W <- as.matrix(growth)[, -c(1, 2,3)] # controls\n",
    "D <- growth[, 3, drop = F] # target regressor\n",
    "dim(W)"
   ]
  },
  {
   "cell_type": "code",
   "execution_count": 12,
   "metadata": {
    "execution": {
     "iopub.execute_input": "2021-01-20T08:46:45.744759Z",
     "iopub.status.busy": "2021-01-20T08:46:45.742631Z",
     "iopub.status.idle": "2021-01-20T08:46:46.314594Z",
     "shell.execute_reply": "2021-01-20T08:46:46.312522Z"
    },
    "papermill": {
     "duration": 0.599855,
     "end_time": "2021-01-20T08:46:46.314727",
     "exception": false,
     "start_time": "2021-01-20T08:46:45.714872",
     "status": "completed"
    },
    "tags": []
   },
   "outputs": [],
   "source": [
    "#$RES: se obtienen los residuos \n",
    "r.Y <- rlasso(x=W,y=Y)$res # creates the \"residual\" output variable\n",
    "r.D <- rlasso(x=W,y=D)$res # creates the \"residual\" target regressor\n",
    "\n",
    "partial.lasso <- lm(r.Y ~ r.D)\n",
    "est_lasso <- partial.lasso$coef[2]\n",
    "std_lasso <- summary(partial.lasso)$coef[2,2]\n",
    "ci_lasso <- confint(partial.lasso)[2,]"
   ]
  },
  {
   "cell_type": "code",
   "execution_count": 15,
   "metadata": {
    "scrolled": true
   },
   "outputs": [
    {
     "data": {
      "text/html": [
       "<strong>2.5 %:</strong> -0.0775070491404676"
      ],
      "text/latex": [
       "\\textbf{2.5 \\textbackslash{}\\%:} -0.0775070491404676"
      ],
      "text/markdown": [
       "**2.5 %:** -0.0775070491404676"
      ],
      "text/plain": [
       "      2.5 % \n",
       "-0.07750705 "
      ]
     },
     "metadata": {},
     "output_type": "display_data"
    }
   ],
   "source": [
    "ci_lasso[1]"
   ]
  },
  {
   "cell_type": "code",
   "execution_count": 16,
   "metadata": {
    "scrolled": true
   },
   "outputs": [
    {
     "data": {
      "text/html": [
       "<strong>97.5 %:</strong> -0.0221158814614821"
      ],
      "text/latex": [
       "\\textbf{97.5 \\textbackslash{}\\%:} -0.0221158814614821"
      ],
      "text/markdown": [
       "**97.5 %:** -0.0221158814614821"
      ],
      "text/plain": [
       "     97.5 % \n",
       "-0.02211588 "
      ]
     },
     "metadata": {},
     "output_type": "display_data"
    }
   ],
   "source": [
    "ci_lasso[2]"
   ]
  },
  {
   "cell_type": "code",
   "execution_count": 17,
   "metadata": {},
   "outputs": [
    {
     "name": "stderr",
     "output_type": "stream",
     "text": [
      "Installing package into 'D:/Kenia/Documents/R/win-library/4.0'\n",
      "(as 'lib' is unspecified)\n",
      "\n"
     ]
    },
    {
     "name": "stdout",
     "output_type": "stream",
     "text": [
      "package 'xtable' successfully unpacked and MD5 sums checked\n",
      "\n",
      "The downloaded binary packages are in\n",
      "\tC:\\Users\\Kenia\\AppData\\Local\\Temp\\Rtmpg5Uz8O\\downloaded_packages\n"
     ]
    }
   ],
   "source": [
    "install.packages(\"xtable\")"
   ]
  },
  {
   "cell_type": "code",
   "execution_count": 18,
   "metadata": {
    "execution": {
     "iopub.execute_input": "2021-01-20T08:46:45.744759Z",
     "iopub.status.busy": "2021-01-20T08:46:45.742631Z",
     "iopub.status.idle": "2021-01-20T08:46:46.314594Z",
     "shell.execute_reply": "2021-01-20T08:46:46.312522Z"
    },
    "papermill": {
     "duration": 0.599855,
     "end_time": "2021-01-20T08:46:46.314727",
     "exception": false,
     "start_time": "2021-01-20T08:46:45.714872",
     "status": "completed"
    },
    "tags": []
   },
   "outputs": [
    {
     "name": "stderr",
     "output_type": "stream",
     "text": [
      "Warning message:\n",
      "\"package 'xtable' was built under R version 4.0.5\"\n"
     ]
    },
    {
     "name": "stdout",
     "output_type": "stream",
     "text": [
      "<!-- html table generated in R 4.0.3 by xtable 1.8-4 package -->\n",
      "<!-- Mon Apr 11 22:05:28 2022 -->\n",
      "<table border=1>\n",
      "<tr> <th>  </th> <th> estimator </th> <th> standard error </th> <th> lower bound CI </th> <th> upper bound CI </th>  </tr>\n",
      "  <tr> <td align=\"right\"> Double Lasso </td> <td align=\"right\"> -0.050 </td> <td align=\"right\"> 0.014 </td> <td align=\"right\"> -0.078 </td> <td align=\"right\"> -0.022 </td> </tr>\n",
      "   </table>\n"
     ]
    }
   ],
   "source": [
    "library(xtable)\n",
    "table <- matrix(0, 1, 4)\n",
    "table[1,1:4]   <- c(est_lasso,std_lasso,ci_lasso[1],ci_lasso[2])\n",
    "colnames(table) <-c(\"estimator\",\"standard error\", \"lower bound CI\", \"upper bound CI\")\n",
    "rownames(table) <-c(\"Double Lasso\")\n",
    "tab<- xtable(table, digits = 3)\n",
    "print(tab,type=\"html\") # set type=\"latex\" for printing table in LaTeX\n"
   ]
  },
  {
   "cell_type": "markdown",
   "metadata": {
    "papermill": {
     "duration": 0.016774,
     "end_time": "2021-01-20T08:46:46.348908",
     "exception": false,
     "start_time": "2021-01-20T08:46:46.332134",
     "status": "completed"
    },
    "tags": []
   },
   "source": [
    "<!-- html table generated in R 3.6.3 by xtable 1.8-4 package -->\n",
    "<!-- Tue Jan 19 10:23:51 2021 -->\n",
    "<table border=1>\n",
    "<tr> <th>  </th> <th> estimator </th> <th> standard error </th> <th> lower bound CI </th> <th> upper bound CI </th>  </tr>\n",
    "  <tr> <td align=\"right\"> Double Lasso </td> <td align=\"right\"> -0.050 </td> <td align=\"right\"> 0.014 </td> <td align=\"right\"> -0.078 </td> <td align=\"right\"> -0.022 </td> </tr>\n",
    "   </table>\n"
   ]
  },
  {
   "cell_type": "markdown",
   "metadata": {
    "papermill": {
     "duration": 0.016916,
     "end_time": "2021-01-20T08:46:46.383126",
     "exception": false,
     "start_time": "2021-01-20T08:46:46.366210",
     "status": "completed"
    },
    "tags": []
   },
   "source": [
    "Lasso provides a more precise estimate (lower standard error). The Lasso based\n",
    "point estimate is  about $5\\%$ and the $95\\%$ confidence interval for the\n",
    "(annual) rate of convergence is $7.8\\%$ to $2.2\\%$. This empirical\n",
    "evidence does support the convergence hypothesis."
   ]
  },
  {
   "cell_type": "markdown",
   "metadata": {
    "papermill": {
     "duration": 0.016876,
     "end_time": "2021-01-20T08:46:46.417524",
     "exception": false,
     "start_time": "2021-01-20T08:46:46.400648",
     "status": "completed"
    },
    "tags": []
   },
   "source": [
    "Note: Alternatively, one could also use the *rlassoEffect* funtion from the *hdm* package that directly applies the partialling-out approach."
   ]
  },
  {
   "cell_type": "markdown",
   "metadata": {},
   "source": [
    "## Another method: Lasso-Partialling out"
   ]
  },
  {
   "cell_type": "code",
   "execution_count": 19,
   "metadata": {
    "execution": {
     "iopub.execute_input": "2021-01-20T08:46:46.458976Z",
     "iopub.status.busy": "2021-01-20T08:46:46.456952Z",
     "iopub.status.idle": "2021-01-20T08:46:46.909228Z",
     "shell.execute_reply": "2021-01-20T08:46:46.907014Z"
    },
    "papermill": {
     "duration": 0.474975,
     "end_time": "2021-01-20T08:46:46.909392",
     "exception": false,
     "start_time": "2021-01-20T08:46:46.434417",
     "status": "completed"
    },
    "tags": []
   },
   "outputs": [
    {
     "data": {
      "text/plain": [
       "\n",
       "Call:\n",
       "rlassoEffect(x = W, y = Y, d = D, method = \"partialling out\")\n",
       "\n",
       "Coefficients:\n",
       "[1]  -0.04981\n"
      ]
     },
     "metadata": {},
     "output_type": "display_data"
    }
   ],
   "source": [
    "lasso.effect = rlassoEffect(x = W, y = Y, d = D, method = \"partialling out\")\n",
    "lasso.effect"
   ]
  },
  {
   "cell_type": "markdown",
   "metadata": {
    "papermill": {
     "duration": 0.026639,
     "end_time": "2021-01-20T08:46:46.963077",
     "exception": false,
     "start_time": "2021-01-20T08:46:46.936438",
     "status": "completed"
    },
    "tags": []
   },
   "source": [
    "## Summary\n"
   ]
  },
  {
   "cell_type": "markdown",
   "metadata": {
    "papermill": {
     "duration": 0.026742,
     "end_time": "2021-01-20T08:46:47.016856",
     "exception": false,
     "start_time": "2021-01-20T08:46:46.990114",
     "status": "completed"
    },
    "tags": []
   },
   "source": [
    "Finally, let us have a look at the results."
   ]
  },
  {
   "cell_type": "code",
   "execution_count": 20,
   "metadata": {
    "execution": {
     "iopub.execute_input": "2021-01-20T08:46:47.076243Z",
     "iopub.status.busy": "2021-01-20T08:46:47.074724Z",
     "iopub.status.idle": "2021-01-20T08:46:47.102018Z",
     "shell.execute_reply": "2021-01-20T08:46:47.100929Z"
    },
    "papermill": {
     "duration": 0.05828,
     "end_time": "2021-01-20T08:46:47.102228",
     "exception": false,
     "start_time": "2021-01-20T08:46:47.043948",
     "status": "completed"
    },
    "tags": []
   },
   "outputs": [
    {
     "name": "stdout",
     "output_type": "stream",
     "text": [
      "<!-- html table generated in R 4.0.3 by xtable 1.8-4 package -->\n",
      "<!-- Mon Apr 11 22:06:39 2022 -->\n",
      "<table border=1>\n",
      "<tr> <th>  </th> <th> estimator </th> <th> standard error </th> <th> lower bound CI </th> <th> upper bound CI </th>  </tr>\n",
      "  <tr> <td align=\"right\"> OLS </td> <td align=\"right\"> -0.009 </td> <td align=\"right\"> 0.030 </td> <td align=\"right\"> -0.071 </td> <td align=\"right\"> 0.052 </td> </tr>\n",
      "  <tr> <td align=\"right\"> Double Lasso </td> <td align=\"right\"> -0.050 </td> <td align=\"right\"> 0.014 </td> <td align=\"right\"> -0.078 </td> <td align=\"right\"> -0.022 </td> </tr>\n",
      "   </table>\n"
     ]
    },
    {
     "data": {
      "text/html": [
       "<table class=\"dataframe\">\n",
       "<caption>A matrix: 2 × 4 of type dbl</caption>\n",
       "<thead>\n",
       "\t<tr><th></th><th scope=col>estimator</th><th scope=col>standard error</th><th scope=col>lower bound CI</th><th scope=col>upper bound CI</th></tr>\n",
       "</thead>\n",
       "<tbody>\n",
       "\t<tr><th scope=row>OLS</th><td>-0.009377989</td><td>0.02988773</td><td>-0.07060022</td><td> 0.05184424</td></tr>\n",
       "\t<tr><th scope=row>Double Lasso</th><td>-0.049811465</td><td>0.01393636</td><td>-0.07750705</td><td>-0.02211588</td></tr>\n",
       "</tbody>\n",
       "</table>\n"
      ],
      "text/latex": [
       "A matrix: 2 × 4 of type dbl\n",
       "\\begin{tabular}{r|llll}\n",
       "  & estimator & standard error & lower bound CI & upper bound CI\\\\\n",
       "\\hline\n",
       "\tOLS & -0.009377989 & 0.02988773 & -0.07060022 &  0.05184424\\\\\n",
       "\tDouble Lasso & -0.049811465 & 0.01393636 & -0.07750705 & -0.02211588\\\\\n",
       "\\end{tabular}\n"
      ],
      "text/markdown": [
       "\n",
       "A matrix: 2 × 4 of type dbl\n",
       "\n",
       "| <!--/--> | estimator | standard error | lower bound CI | upper bound CI |\n",
       "|---|---|---|---|---|\n",
       "| OLS | -0.009377989 | 0.02988773 | -0.07060022 |  0.05184424 |\n",
       "| Double Lasso | -0.049811465 | 0.01393636 | -0.07750705 | -0.02211588 |\n",
       "\n"
      ],
      "text/plain": [
       "             estimator    standard error lower bound CI upper bound CI\n",
       "OLS          -0.009377989 0.02988773     -0.07060022     0.05184424   \n",
       "Double Lasso -0.049811465 0.01393636     -0.07750705    -0.02211588   "
      ]
     },
     "metadata": {},
     "output_type": "display_data"
    }
   ],
   "source": [
    "library(xtable)\n",
    "table <- matrix(0, 2, 4)\n",
    "table[1,1:4]   <- c(est_ols,std_ols,ci_ols[1],ci_ols[2])\n",
    "table[2,1:4]   <- c(est_lasso,std_lasso,ci_lasso[1],ci_lasso[2])\n",
    "colnames(table) <-c(\"estimator\",\"standard error\", \"lower bound CI\", \"upper bound CI\")\n",
    "rownames(table) <-c(\"OLS\",\"Double Lasso\")\n",
    "tab<- xtable(table, digits = 3)\n",
    "print(tab,type=\"html\") # set type=\"latex\" for printing table in LaTeX\n",
    "table"
   ]
  },
  {
   "cell_type": "markdown",
   "metadata": {
    "papermill": {
     "duration": 0.028298,
     "end_time": "2021-01-20T08:46:47.157901",
     "exception": false,
     "start_time": "2021-01-20T08:46:47.129603",
     "status": "completed"
    },
    "tags": []
   },
   "source": [
    "The least square method provides a rather noisy estimate of the speed of convergence. We can not answer the question if poor countries grow faster than rich countries. The least square method does not work when the ratio $p/n$ is large.\n",
    "\n",
    "In sharp contrast, partialling-out via Lasso provides a more precise estimate. The Lasso based point estimate is $-5\\%$ and the $95\\%$ confidence interval for the (annual) rate of convergence $[-7.8\\%,-2.2\\%]$ only includes negative numbers. This empirical evidence does support the convergence hypothesis.\n"
   ]
  },
  {
   "cell_type": "markdown",
   "metadata": {
    "papermill": {
     "duration": 0.027536,
     "end_time": "2021-01-20T08:46:47.213105",
     "exception": false,
     "start_time": "2021-01-20T08:46:47.185569",
     "status": "completed"
    },
    "tags": []
   },
   "source": [
    "<!-- html table generated in R 3.6.3 by xtable 1.8-4 package -->\n",
    "<!-- Tue Jan 19 10:28:15 2021 -->\n",
    "<table border=1>\n",
    "<tr> <th>  </th> <th> estimator </th> <th> standard error </th> <th> lower bound CI </th> <th> upper bound CI </th>  </tr>\n",
    "  <tr> <td align=\"right\"> OLS </td> <td align=\"right\"> -0.009 </td> <td align=\"right\"> 0.030 </td> <td align=\"right\"> -0.071 </td> <td align=\"right\"> 0.052 </td> </tr>\n",
    "  <tr> <td align=\"right\"> Double Lasso </td> <td align=\"right\"> -0.050 </td> <td align=\"right\"> 0.014 </td> <td align=\"right\"> -0.078 </td> <td align=\"right\"> -0.022 </td> </tr>\n",
    "   </table>\n"
   ]
  },
  {
   "cell_type": "code",
   "execution_count": null,
   "metadata": {},
   "outputs": [],
   "source": []
  },
  {
   "cell_type": "code",
   "execution_count": null,
   "metadata": {},
   "outputs": [],
   "source": []
  },
  {
   "cell_type": "code",
   "execution_count": null,
   "metadata": {},
   "outputs": [],
   "source": []
  }
 ],
 "metadata": {
  "kernelspec": {
   "display_name": "R",
   "language": "R",
   "name": "ir"
  },
  "language_info": {
   "codemirror_mode": "r",
   "file_extension": ".r",
   "mimetype": "text/x-r-source",
   "name": "R",
   "pygments_lexer": "r",
   "version": "4.0.3"
  },
  "papermill": {
   "default_parameters": {},
   "duration": 8.007784,
   "end_time": "2021-01-20T08:46:48.312746",
   "environment_variables": {},
   "exception": null,
   "input_path": "__notebook__.ipynb",
   "output_path": "__notebook__.ipynb",
   "parameters": {},
   "start_time": "2021-01-20T08:46:40.304962",
   "version": "2.2.2"
  }
 },
 "nbformat": 4,
 "nbformat_minor": 4
}
