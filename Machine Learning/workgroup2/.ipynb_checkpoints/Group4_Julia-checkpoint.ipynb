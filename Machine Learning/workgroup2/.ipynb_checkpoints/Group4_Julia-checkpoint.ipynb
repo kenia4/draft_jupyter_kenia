{
 "cells": [
  {
   "cell_type": "code",
   "execution_count": null,
   "id": "0b524d42",
   "metadata": {},
   "outputs": [],
   "source": [
    "# Julia\n"
   ]
  },
  {
   "cell_type": "markdown",
   "id": "134eccdb",
   "metadata": {},
   "source": [
    "## Introduction"
   ]
  },
  {
   "cell_type": "markdown",
   "id": "9e834a44",
   "metadata": {},
   "source": [
    "In labor economics an important question is what determines the wage of workers. This is a causal question, but we could begin to investigate from a predictive perspective.\n",
    "\n",
    "In the following wage example, $Y$ is the hourly wage of a worker and $X$ is a vector of worker's characteristics, e.g., education, experience, gender.\n",
    "Two main questions here are:    \n",
    "\n",
    "* How to use job-relevant characteristics, such as education and experience, to best predict wages?\n",
    "\n",
    "* What is the difference in predicted wages between men and women with the same job-relevant characteristics?\n",
    "\n",
    "In this lab, we focus on the prediction question first."
   ]
  },
  {
   "cell_type": "code",
   "execution_count": null,
   "id": "2cf3b021",
   "metadata": {},
   "outputs": [],
   "source": [
    "## Data"
   ]
  },
  {
   "cell_type": "code",
   "execution_count": null,
   "id": "f4ae7c5d",
   "metadata": {},
   "outputs": [],
   "source": [
    "The data set we consider is from the March Supplement of the U.S. Current Population Survey, year 2015. We select white non-hispanic individuals, aged 25 to 64 years, and working more than 35 hours per week during at least 50 weeks of the year. We exclude self-employed workers; individuals living in group quarters; individuals in the military, agricultural or private household sectors; individuals with inconsistent reports on earnings and employment status; individuals with allocated or missing information in any of the variables used in the analysis; and individuals with hourly wage below $3$.\n",
    "\n",
    "The variable of interest $Y$ is the hourly wage rate constructed as the ratio of the annual earnings to the total number of hours worked, which is constructed in turn as the product of number of weeks worked and the usual number of hours worked per week. In our analysis, we also focus on single (never married) workers. The final sample is of size $n = 5150$."
   ]
  },
  {
   "cell_type": "code",
   "execution_count": null,
   "id": "8541c153",
   "metadata": {},
   "outputs": [],
   "source": [
    "## Data Analysis"
   ]
  },
  {
   "cell_type": "code",
   "execution_count": 1,
   "id": "b2e64d38",
   "metadata": {},
   "outputs": [
    {
     "name": "stderr",
     "output_type": "stream",
     "text": [
      "\u001b[32m\u001b[1m    Updating\u001b[22m\u001b[39m registry at `C:\\Users\\Carol\\.julia\\registries\\General.toml`\n",
      "\u001b[32m\u001b[1m   Resolving\u001b[22m\u001b[39m package versions...\n",
      "\u001b[32m\u001b[1m  No Changes\u001b[22m\u001b[39m to `C:\\Users\\Carol\\.julia\\environments\\v1.7\\Project.toml`\n",
      "\u001b[32m\u001b[1m  No Changes\u001b[22m\u001b[39m to `C:\\Users\\Carol\\.julia\\environments\\v1.7\\Manifest.toml`\n",
      "\u001b[32m\u001b[1m   Resolving\u001b[22m\u001b[39m package versions...\n",
      "\u001b[32m\u001b[1m  No Changes\u001b[22m\u001b[39m to `C:\\Users\\Carol\\.julia\\environments\\v1.7\\Project.toml`\n",
      "\u001b[32m\u001b[1m  No Changes\u001b[22m\u001b[39m to `C:\\Users\\Carol\\.julia\\environments\\v1.7\\Manifest.toml`\n",
      "\u001b[32m\u001b[1m   Resolving\u001b[22m\u001b[39m package versions...\n",
      "\u001b[32m\u001b[1m  No Changes\u001b[22m\u001b[39m to `C:\\Users\\Carol\\.julia\\environments\\v1.7\\Project.toml`\n",
      "\u001b[32m\u001b[1m  No Changes\u001b[22m\u001b[39m to `C:\\Users\\Carol\\.julia\\environments\\v1.7\\Manifest.toml`\n",
      "\u001b[32m\u001b[1m   Resolving\u001b[22m\u001b[39m package versions...\n",
      "\u001b[32m\u001b[1m  No Changes\u001b[22m\u001b[39m to `C:\\Users\\Carol\\.julia\\environments\\v1.7\\Project.toml`\n",
      "\u001b[32m\u001b[1m  No Changes\u001b[22m\u001b[39m to `C:\\Users\\Carol\\.julia\\environments\\v1.7\\Manifest.toml`\n",
      "\n",
      "(process:14452): GLib-GIO-WARNING **: 15:11:53.098: Unexpectedly, UWP app `Evernote.Evernote_10.33.5.0_x86__q4d96b2w5wcc2' (AUMId `Evernote.Evernote_q4d96b2w5wcc2!Evernote') supports 1 extensions but has no verbs\n"
     ]
    }
   ],
   "source": [
    "using Pkg\n",
    "Pkg.add(\"CSV\")\n",
    "Pkg.add(\"DataFrames\")\n",
    "Pkg.add(\"Dates\")\n",
    "Pkg.add(\"Plots\")\n",
    "using CSV\n",
    "using DataFrames\n",
    "using Dates\n",
    "using Plots"
   ]
  },
  {
   "cell_type": "code",
   "execution_count": 5,
   "id": "d70a2baf",
   "metadata": {},
   "outputs": [
    {
     "name": "stdout",
     "output_type": "stream",
     "text": [
      "Number of Rows : 5150\n",
      "Number of Columns : 21\n"
     ]
    }
   ],
   "source": [
    "#Reading the CSV file into a DataFrame\n",
    "#We have to set the category type for some variable\n",
    "data = CSV.File(\"C:/Users/Carol/OneDrive/Documents/ECO224/data/wage2015_subsample_inference.csv\"; types = Dict(\"occ\" => String,\"occ2\"=> String,\"ind\"=>String,\"ind2\"=>String)) |> DataFrame\n",
    "println(\"Number of Rows : \", size(data)[1],\"\\n\",\"Number of Columns : \", size(data)[2],) #rows"
   ]
  },
  {
   "cell_type": "code",
   "execution_count": 6,
   "id": "0eaed318",
   "metadata": {},
   "outputs": [
    {
     "data": {
      "text/plain": [
       "21-element Vector{DataType}:\n",
       " Int64\n",
       " Float64\n",
       " Float64\n",
       " Float64\n",
       " Float64\n",
       " Float64\n",
       " Float64\n",
       " Float64\n",
       " Float64\n",
       " Float64\n",
       " Float64\n",
       " Float64\n",
       " Float64\n",
       " Float64\n",
       " Float64\n",
       " Float64\n",
       " Float64\n",
       " String\n",
       " String\n",
       " String\n",
       " String"
      ]
     },
     "execution_count": 6,
     "metadata": {},
     "output_type": "execute_result"
    }
   ],
   "source": [
    "[eltype(col) for col = eachcol(data)]"
   ]
  },
  {
   "cell_type": "code",
   "execution_count": 7,
   "id": "9519dc5c",
   "metadata": {},
   "outputs": [
    {
     "data": {
      "text/html": [
       "<table class=\"data-frame\"><thead><tr><th></th><th>rownames</th><th>wage</th><th>lwage</th><th>sex</th><th>shs</th><th>hsg</th><th>scl</th><th>clg</th><th>ad</th></tr><tr><th></th><th>Int64</th><th>Float64</th><th>Float64</th><th>Float64</th><th>Float64</th><th>Float64</th><th>Float64</th><th>Float64</th><th>Float64</th></tr></thead><tbody><p>10 rows × 21 columns (omitted printing of 12 columns)</p><tr><th>1</th><td>10</td><td>9.61538</td><td>2.26336</td><td>1.0</td><td>0.0</td><td>0.0</td><td>0.0</td><td>1.0</td><td>0.0</td></tr><tr><th>2</th><td>12</td><td>48.0769</td><td>3.8728</td><td>0.0</td><td>0.0</td><td>0.0</td><td>0.0</td><td>1.0</td><td>0.0</td></tr><tr><th>3</th><td>15</td><td>11.0577</td><td>2.40313</td><td>0.0</td><td>0.0</td><td>1.0</td><td>0.0</td><td>0.0</td><td>0.0</td></tr><tr><th>4</th><td>18</td><td>13.9423</td><td>2.63493</td><td>1.0</td><td>0.0</td><td>0.0</td><td>0.0</td><td>0.0</td><td>1.0</td></tr><tr><th>5</th><td>19</td><td>28.8462</td><td>3.36198</td><td>1.0</td><td>0.0</td><td>0.0</td><td>0.0</td><td>1.0</td><td>0.0</td></tr><tr><th>6</th><td>30</td><td>11.7308</td><td>2.46222</td><td>1.0</td><td>0.0</td><td>0.0</td><td>0.0</td><td>1.0</td><td>0.0</td></tr><tr><th>7</th><td>43</td><td>19.2308</td><td>2.95651</td><td>1.0</td><td>0.0</td><td>1.0</td><td>0.0</td><td>0.0</td><td>0.0</td></tr><tr><th>8</th><td>44</td><td>19.2308</td><td>2.95651</td><td>0.0</td><td>0.0</td><td>1.0</td><td>0.0</td><td>0.0</td><td>0.0</td></tr><tr><th>9</th><td>47</td><td>12.0</td><td>2.48491</td><td>1.0</td><td>0.0</td><td>1.0</td><td>0.0</td><td>0.0</td><td>0.0</td></tr><tr><th>10</th><td>71</td><td>19.2308</td><td>2.95651</td><td>1.0</td><td>0.0</td><td>0.0</td><td>0.0</td><td>1.0</td><td>0.0</td></tr></tbody></table>"
      ],
      "text/latex": [
       "\\begin{tabular}{r|cccccccccc}\n",
       "\t& rownames & wage & lwage & sex & shs & hsg & scl & clg & ad & \\\\\n",
       "\t\\hline\n",
       "\t& Int64 & Float64 & Float64 & Float64 & Float64 & Float64 & Float64 & Float64 & Float64 & \\\\\n",
       "\t\\hline\n",
       "\t1 & 10 & 9.61538 & 2.26336 & 1.0 & 0.0 & 0.0 & 0.0 & 1.0 & 0.0 & $\\dots$ \\\\\n",
       "\t2 & 12 & 48.0769 & 3.8728 & 0.0 & 0.0 & 0.0 & 0.0 & 1.0 & 0.0 & $\\dots$ \\\\\n",
       "\t3 & 15 & 11.0577 & 2.40313 & 0.0 & 0.0 & 1.0 & 0.0 & 0.0 & 0.0 & $\\dots$ \\\\\n",
       "\t4 & 18 & 13.9423 & 2.63493 & 1.0 & 0.0 & 0.0 & 0.0 & 0.0 & 1.0 & $\\dots$ \\\\\n",
       "\t5 & 19 & 28.8462 & 3.36198 & 1.0 & 0.0 & 0.0 & 0.0 & 1.0 & 0.0 & $\\dots$ \\\\\n",
       "\t6 & 30 & 11.7308 & 2.46222 & 1.0 & 0.0 & 0.0 & 0.0 & 1.0 & 0.0 & $\\dots$ \\\\\n",
       "\t7 & 43 & 19.2308 & 2.95651 & 1.0 & 0.0 & 1.0 & 0.0 & 0.0 & 0.0 & $\\dots$ \\\\\n",
       "\t8 & 44 & 19.2308 & 2.95651 & 0.0 & 0.0 & 1.0 & 0.0 & 0.0 & 0.0 & $\\dots$ \\\\\n",
       "\t9 & 47 & 12.0 & 2.48491 & 1.0 & 0.0 & 1.0 & 0.0 & 0.0 & 0.0 & $\\dots$ \\\\\n",
       "\t10 & 71 & 19.2308 & 2.95651 & 1.0 & 0.0 & 0.0 & 0.0 & 1.0 & 0.0 & $\\dots$ \\\\\n",
       "\\end{tabular}\n"
      ],
      "text/plain": [
       "10×21 DataFrame. Omitted printing of 14 columns\n",
       "│ Row │ rownames │ wage    │ lwage   │ sex     │ shs     │ hsg     │ scl     │\n",
       "│     │ \u001b[90mInt64\u001b[39m    │ \u001b[90mFloat64\u001b[39m │ \u001b[90mFloat64\u001b[39m │ \u001b[90mFloat64\u001b[39m │ \u001b[90mFloat64\u001b[39m │ \u001b[90mFloat64\u001b[39m │ \u001b[90mFloat64\u001b[39m │\n",
       "├─────┼──────────┼─────────┼─────────┼─────────┼─────────┼─────────┼─────────┤\n",
       "│ 1   │ 10       │ 9.61538 │ 2.26336 │ 1.0     │ 0.0     │ 0.0     │ 0.0     │\n",
       "│ 2   │ 12       │ 48.0769 │ 3.8728  │ 0.0     │ 0.0     │ 0.0     │ 0.0     │\n",
       "│ 3   │ 15       │ 11.0577 │ 2.40313 │ 0.0     │ 0.0     │ 1.0     │ 0.0     │\n",
       "│ 4   │ 18       │ 13.9423 │ 2.63493 │ 1.0     │ 0.0     │ 0.0     │ 0.0     │\n",
       "│ 5   │ 19       │ 28.8462 │ 3.36198 │ 1.0     │ 0.0     │ 0.0     │ 0.0     │\n",
       "│ 6   │ 30       │ 11.7308 │ 2.46222 │ 1.0     │ 0.0     │ 0.0     │ 0.0     │\n",
       "│ 7   │ 43       │ 19.2308 │ 2.95651 │ 1.0     │ 0.0     │ 1.0     │ 0.0     │\n",
       "│ 8   │ 44       │ 19.2308 │ 2.95651 │ 0.0     │ 0.0     │ 1.0     │ 0.0     │\n",
       "│ 9   │ 47       │ 12.0    │ 2.48491 │ 1.0     │ 0.0     │ 1.0     │ 0.0     │\n",
       "│ 10  │ 71       │ 19.2308 │ 2.95651 │ 1.0     │ 0.0     │ 0.0     │ 0.0     │"
      ]
     },
     "execution_count": 7,
     "metadata": {},
     "output_type": "execute_result"
    }
   ],
   "source": [
    "first(data,10)"
   ]
  },
  {
   "cell_type": "code",
   "execution_count": 8,
   "id": "2a30c83b",
   "metadata": {},
   "outputs": [
    {
     "data": {
      "text/html": [
       "<table class=\"data-frame\"><thead><tr><th></th><th>variable</th><th>mean</th><th>min</th><th>median</th><th>max</th><th>nunique</th><th>nmissing</th><th>eltype</th></tr><tr><th></th><th>Symbol</th><th>Union…</th><th>Any</th><th>Union…</th><th>Any</th><th>Union…</th><th>Nothing</th><th>DataType</th></tr></thead><tbody><p>21 rows × 8 columns</p><tr><th>1</th><td>rownames</td><td>15636.3</td><td>10</td><td>15260.0</td><td>32643</td><td></td><td></td><td>Int64</td></tr><tr><th>2</th><td>wage</td><td>23.4104</td><td>3.02198</td><td>19.2308</td><td>528.846</td><td></td><td></td><td>Float64</td></tr><tr><th>3</th><td>lwage</td><td>2.97079</td><td>1.10591</td><td>2.95651</td><td>6.2707</td><td></td><td></td><td>Float64</td></tr><tr><th>4</th><td>sex</td><td>0.444466</td><td>0.0</td><td>0.0</td><td>1.0</td><td></td><td></td><td>Float64</td></tr><tr><th>5</th><td>shs</td><td>0.023301</td><td>0.0</td><td>0.0</td><td>1.0</td><td></td><td></td><td>Float64</td></tr><tr><th>6</th><td>hsg</td><td>0.243883</td><td>0.0</td><td>0.0</td><td>1.0</td><td></td><td></td><td>Float64</td></tr><tr><th>7</th><td>scl</td><td>0.278058</td><td>0.0</td><td>0.0</td><td>1.0</td><td></td><td></td><td>Float64</td></tr><tr><th>8</th><td>clg</td><td>0.31767</td><td>0.0</td><td>0.0</td><td>1.0</td><td></td><td></td><td>Float64</td></tr><tr><th>9</th><td>ad</td><td>0.137087</td><td>0.0</td><td>0.0</td><td>1.0</td><td></td><td></td><td>Float64</td></tr><tr><th>10</th><td>mw</td><td>0.259612</td><td>0.0</td><td>0.0</td><td>1.0</td><td></td><td></td><td>Float64</td></tr><tr><th>11</th><td>so</td><td>0.296505</td><td>0.0</td><td>0.0</td><td>1.0</td><td></td><td></td><td>Float64</td></tr><tr><th>12</th><td>we</td><td>0.216117</td><td>0.0</td><td>0.0</td><td>1.0</td><td></td><td></td><td>Float64</td></tr><tr><th>13</th><td>ne</td><td>0.227767</td><td>0.0</td><td>0.0</td><td>1.0</td><td></td><td></td><td>Float64</td></tr><tr><th>14</th><td>exp1</td><td>13.7606</td><td>0.0</td><td>10.0</td><td>47.0</td><td></td><td></td><td>Float64</td></tr><tr><th>15</th><td>exp2</td><td>3.01893</td><td>0.0</td><td>1.0</td><td>22.09</td><td></td><td></td><td>Float64</td></tr><tr><th>16</th><td>exp3</td><td>8.23587</td><td>0.0</td><td>1.0</td><td>103.823</td><td></td><td></td><td>Float64</td></tr><tr><th>17</th><td>exp4</td><td>25.118</td><td>0.0</td><td>1.0</td><td>487.968</td><td></td><td></td><td>Float64</td></tr><tr><th>18</th><td>occ</td><td></td><td>10</td><td></td><td>9750</td><td>351</td><td></td><td>String</td></tr><tr><th>19</th><td>occ2</td><td></td><td>1</td><td></td><td>9</td><td>22</td><td></td><td>String</td></tr><tr><th>20</th><td>ind</td><td></td><td>1070</td><td></td><td>9590</td><td>230</td><td></td><td>String</td></tr><tr><th>21</th><td>ind2</td><td></td><td>10</td><td></td><td>9</td><td>21</td><td></td><td>String</td></tr></tbody></table>"
      ],
      "text/latex": [
       "\\begin{tabular}{r|cccccccc}\n",
       "\t& variable & mean & min & median & max & nunique & nmissing & eltype\\\\\n",
       "\t\\hline\n",
       "\t& Symbol & Union… & Any & Union… & Any & Union… & Nothing & DataType\\\\\n",
       "\t\\hline\n",
       "\t1 & rownames & 15636.3 & 10 & 15260.0 & 32643 &  &  & Int64 \\\\\n",
       "\t2 & wage & 23.4104 & 3.02198 & 19.2308 & 528.846 &  &  & Float64 \\\\\n",
       "\t3 & lwage & 2.97079 & 1.10591 & 2.95651 & 6.2707 &  &  & Float64 \\\\\n",
       "\t4 & sex & 0.444466 & 0.0 & 0.0 & 1.0 &  &  & Float64 \\\\\n",
       "\t5 & shs & 0.023301 & 0.0 & 0.0 & 1.0 &  &  & Float64 \\\\\n",
       "\t6 & hsg & 0.243883 & 0.0 & 0.0 & 1.0 &  &  & Float64 \\\\\n",
       "\t7 & scl & 0.278058 & 0.0 & 0.0 & 1.0 &  &  & Float64 \\\\\n",
       "\t8 & clg & 0.31767 & 0.0 & 0.0 & 1.0 &  &  & Float64 \\\\\n",
       "\t9 & ad & 0.137087 & 0.0 & 0.0 & 1.0 &  &  & Float64 \\\\\n",
       "\t10 & mw & 0.259612 & 0.0 & 0.0 & 1.0 &  &  & Float64 \\\\\n",
       "\t11 & so & 0.296505 & 0.0 & 0.0 & 1.0 &  &  & Float64 \\\\\n",
       "\t12 & we & 0.216117 & 0.0 & 0.0 & 1.0 &  &  & Float64 \\\\\n",
       "\t13 & ne & 0.227767 & 0.0 & 0.0 & 1.0 &  &  & Float64 \\\\\n",
       "\t14 & exp1 & 13.7606 & 0.0 & 10.0 & 47.0 &  &  & Float64 \\\\\n",
       "\t15 & exp2 & 3.01893 & 0.0 & 1.0 & 22.09 &  &  & Float64 \\\\\n",
       "\t16 & exp3 & 8.23587 & 0.0 & 1.0 & 103.823 &  &  & Float64 \\\\\n",
       "\t17 & exp4 & 25.118 & 0.0 & 1.0 & 487.968 &  &  & Float64 \\\\\n",
       "\t18 & occ &  & 10 &  & 9750 & 351 &  & String \\\\\n",
       "\t19 & occ2 &  & 1 &  & 9 & 22 &  & String \\\\\n",
       "\t20 & ind &  & 1070 &  & 9590 & 230 &  & String \\\\\n",
       "\t21 & ind2 &  & 10 &  & 9 & 21 &  & String \\\\\n",
       "\\end{tabular}\n"
      ],
      "text/plain": [
       "21×8 DataFrame. Omitted printing of 1 columns\n",
       "│ Row │ variable │ mean     │ min     │ median  │ max     │ nunique │ nmissing │\n",
       "│     │ \u001b[90mSymbol\u001b[39m   │ \u001b[90mUnion…\u001b[39m   │ \u001b[90mAny\u001b[39m     │ \u001b[90mUnion…\u001b[39m  │ \u001b[90mAny\u001b[39m     │ \u001b[90mUnion…\u001b[39m  │ \u001b[90mNothing\u001b[39m  │\n",
       "├─────┼──────────┼──────────┼─────────┼─────────┼─────────┼─────────┼──────────┤\n",
       "│ 1   │ rownames │ 15636.3  │ 10      │ 15260.0 │ 32643   │         │          │\n",
       "│ 2   │ wage     │ 23.4104  │ 3.02198 │ 19.2308 │ 528.846 │         │          │\n",
       "│ 3   │ lwage    │ 2.97079  │ 1.10591 │ 2.95651 │ 6.2707  │         │          │\n",
       "│ 4   │ sex      │ 0.444466 │ 0.0     │ 0.0     │ 1.0     │         │          │\n",
       "│ 5   │ shs      │ 0.023301 │ 0.0     │ 0.0     │ 1.0     │         │          │\n",
       "│ 6   │ hsg      │ 0.243883 │ 0.0     │ 0.0     │ 1.0     │         │          │\n",
       "│ 7   │ scl      │ 0.278058 │ 0.0     │ 0.0     │ 1.0     │         │          │\n",
       "│ 8   │ clg      │ 0.31767  │ 0.0     │ 0.0     │ 1.0     │         │          │\n",
       "│ 9   │ ad       │ 0.137087 │ 0.0     │ 0.0     │ 1.0     │         │          │\n",
       "│ 10  │ mw       │ 0.259612 │ 0.0     │ 0.0     │ 1.0     │         │          │\n",
       "│ 11  │ so       │ 0.296505 │ 0.0     │ 0.0     │ 1.0     │         │          │\n",
       "│ 12  │ we       │ 0.216117 │ 0.0     │ 0.0     │ 1.0     │         │          │\n",
       "│ 13  │ ne       │ 0.227767 │ 0.0     │ 0.0     │ 1.0     │         │          │\n",
       "│ 14  │ exp1     │ 13.7606  │ 0.0     │ 10.0    │ 47.0    │         │          │\n",
       "│ 15  │ exp2     │ 3.01893  │ 0.0     │ 1.0     │ 22.09   │         │          │\n",
       "│ 16  │ exp3     │ 8.23587  │ 0.0     │ 1.0     │ 103.823 │         │          │\n",
       "│ 17  │ exp4     │ 25.118   │ 0.0     │ 1.0     │ 487.968 │         │          │\n",
       "│ 18  │ occ      │          │ 10      │         │ 9750    │ 351     │          │\n",
       "│ 19  │ occ2     │          │ 1       │         │ 9       │ 22      │          │\n",
       "│ 20  │ ind      │          │ 1070    │         │ 9590    │ 230     │          │\n",
       "│ 21  │ ind2     │          │ 10      │         │ 9       │ 21      │          │"
      ]
     },
     "execution_count": 8,
     "metadata": {},
     "output_type": "execute_result"
    }
   ],
   "source": [
    "describe(data)"
   ]
  },
  {
   "cell_type": "code",
   "execution_count": 9,
   "id": "f729011f",
   "metadata": {},
   "outputs": [
    {
     "name": "stdout",
     "output_type": "stream",
     "text": [
      "Number of observations : 5150\n",
      "Number of raw regressors:18\n"
     ]
    }
   ],
   "source": [
    "n = size(data)[1]\n",
    "z = select(data, Not([:rownames, :lwage, :wage]))\n",
    "p = size(z)[2] \n",
    "\n",
    "println(\"Number of observations : \", n, \"\\n\",\"Number of raw regressors:\", p )"
   ]
  },
  {
   "cell_type": "code",
   "execution_count": 10,
   "id": "446807e6",
   "metadata": {},
   "outputs": [
    {
     "data": {
      "text/html": [
       "<table class=\"data-frame\"><thead><tr><th></th><th>variable</th><th>mean</th></tr><tr><th></th><th>Symbol</th><th>Float64</th></tr></thead><tbody><p>12 rows × 2 columns</p><tr><th>1</th><td>lwage</td><td>2.97079</td></tr><tr><th>2</th><td>sex</td><td>0.444466</td></tr><tr><th>3</th><td>shs</td><td>0.023301</td></tr><tr><th>4</th><td>hsg</td><td>0.243883</td></tr><tr><th>5</th><td>scl</td><td>0.278058</td></tr><tr><th>6</th><td>clg</td><td>0.31767</td></tr><tr><th>7</th><td>ad</td><td>0.137087</td></tr><tr><th>8</th><td>mw</td><td>0.259612</td></tr><tr><th>9</th><td>so</td><td>0.296505</td></tr><tr><th>10</th><td>we</td><td>0.216117</td></tr><tr><th>11</th><td>ne</td><td>0.227767</td></tr><tr><th>12</th><td>exp1</td><td>13.7606</td></tr></tbody></table>"
      ],
      "text/latex": [
       "\\begin{tabular}{r|cc}\n",
       "\t& variable & mean\\\\\n",
       "\t\\hline\n",
       "\t& Symbol & Float64\\\\\n",
       "\t\\hline\n",
       "\t1 & lwage & 2.97079 \\\\\n",
       "\t2 & sex & 0.444466 \\\\\n",
       "\t3 & shs & 0.023301 \\\\\n",
       "\t4 & hsg & 0.243883 \\\\\n",
       "\t5 & scl & 0.278058 \\\\\n",
       "\t6 & clg & 0.31767 \\\\\n",
       "\t7 & ad & 0.137087 \\\\\n",
       "\t8 & mw & 0.259612 \\\\\n",
       "\t9 & so & 0.296505 \\\\\n",
       "\t10 & we & 0.216117 \\\\\n",
       "\t11 & ne & 0.227767 \\\\\n",
       "\t12 & exp1 & 13.7606 \\\\\n",
       "\\end{tabular}\n"
      ],
      "text/plain": [
       "12×2 DataFrame\n",
       "│ Row │ variable │ mean     │\n",
       "│     │ \u001b[90mSymbol\u001b[39m   │ \u001b[90mFloat64\u001b[39m  │\n",
       "├─────┼──────────┼──────────┤\n",
       "│ 1   │ lwage    │ 2.97079  │\n",
       "│ 2   │ sex      │ 0.444466 │\n",
       "│ 3   │ shs      │ 0.023301 │\n",
       "│ 4   │ hsg      │ 0.243883 │\n",
       "│ 5   │ scl      │ 0.278058 │\n",
       "│ 6   │ clg      │ 0.31767  │\n",
       "│ 7   │ ad       │ 0.137087 │\n",
       "│ 8   │ mw       │ 0.259612 │\n",
       "│ 9   │ so       │ 0.296505 │\n",
       "│ 10  │ we       │ 0.216117 │\n",
       "│ 11  │ ne       │ 0.227767 │\n",
       "│ 12  │ exp1     │ 13.7606  │"
      ]
     },
     "execution_count": 10,
     "metadata": {},
     "output_type": "execute_result"
    }
   ],
   "source": [
    "z_subset = select(data, [\"lwage\",\"sex\",\"shs\",\"hsg\",\"scl\",\"clg\",\"ad\",\"mw\",\"so\",\"we\",\"ne\",\"exp1\"])\n",
    "describe(z_subset, :mean)"
   ]
  },
  {
   "cell_type": "code",
   "execution_count": null,
   "id": "aaa51067",
   "metadata": {},
   "outputs": [],
   "source": []
  },
  {
   "cell_type": "code",
   "execution_count": null,
   "id": "f8870080",
   "metadata": {},
   "outputs": [],
   "source": [
    "## Prediction Question"
   ]
  },
  {
   "cell_type": "code",
   "execution_count": null,
   "id": "cc999f13",
   "metadata": {},
   "outputs": [],
   "source": [
    "Now, we will construct a prediction rule for hourly wage $Y$ , which depends linearly on job-relevant characteristics  $X$:\n",
    "\n",
    "$$Y = \\beta' X + \\epsilon $$\n",
    " \n",
    "Our goals are\n",
    "\n",
    "* Predict wages using various characteristics of workers.\n",
    "\n",
    "* Assess the predictive performance using the (adjusted) sample MSE, the (adjusted) sample $R^2$ and the out-of-sample $MSE$ and $R^2$.\n",
    "\n",
    "We employ two different specifications for prediction:\n",
    "\n",
    "- **Basic Model**: $X$ consists of a set of raw regressors (e.g. gender, experience, education indicators, occupation and industry indicators, regional indicators).\n",
    "\n",
    "- **Flexible Model**: $X$ consists of all raw regressors from the basic model plus occupation and industry indicators, transformations (e.g.,$exp2$ and $exp3$) and additional two-way interactions of polynomial in experience with other regressors. An example of a regressor created through a two-way interaction is experience times the indicator of having a college degree.\n",
    "\n",
    "Using the **Flexible Model**, enables us to approximate the real relationship by a more complex regression model and therefore to reduce the bias. The **Flexible Model** increases the range of potential shapes of the estimated regression function. In general, flexible models often deliver good prediction accuracy but give models which are harder to interpret.\n",
    "\n",
    "Now, let us fit both models to our data by running ordinary least squares (ols):"
   ]
  },
  {
   "cell_type": "code",
   "execution_count": 16,
   "id": "e7ab8984",
   "metadata": {},
   "outputs": [
    {
     "name": "stderr",
     "output_type": "stream",
     "text": [
      "\u001b[32m\u001b[1m   Resolving\u001b[22m\u001b[39m package versions...\n",
      "\u001b[32m\u001b[1m  No Changes\u001b[22m\u001b[39m to `C:\\Users\\Carol\\.julia\\environments\\v1.7\\Project.toml`\n",
      "\u001b[32m\u001b[1m  No Changes\u001b[22m\u001b[39m to `C:\\Users\\Carol\\.julia\\environments\\v1.7\\Manifest.toml`\n",
      "\u001b[32m\u001b[1m   Resolving\u001b[22m\u001b[39m package versions...\n",
      "\u001b[32m\u001b[1m  No Changes\u001b[22m\u001b[39m to `C:\\Users\\Carol\\.julia\\environments\\v1.7\\Project.toml`\n",
      "\u001b[32m\u001b[1m  No Changes\u001b[22m\u001b[39m to `C:\\Users\\Carol\\.julia\\environments\\v1.7\\Manifest.toml`\n",
      "\u001b[32m\u001b[1m   Resolving\u001b[22m\u001b[39m package versions...\n",
      "\u001b[32m\u001b[1m  No Changes\u001b[22m\u001b[39m to `C:\\Users\\Carol\\.julia\\environments\\v1.7\\Project.toml`\n",
      "\u001b[32m\u001b[1m  No Changes\u001b[22m\u001b[39m to `C:\\Users\\Carol\\.julia\\environments\\v1.7\\Manifest.toml`\n",
      "\u001b[32m\u001b[1m   Resolving\u001b[22m\u001b[39m package versions...\n",
      "\u001b[32m\u001b[1m  No Changes\u001b[22m\u001b[39m to `C:\\Users\\Carol\\.julia\\environments\\v1.7\\Project.toml`\n",
      "\u001b[32m\u001b[1m  No Changes\u001b[22m\u001b[39m to `C:\\Users\\Carol\\.julia\\environments\\v1.7\\Manifest.toml`\n",
      "\u001b[32m\u001b[1m   Resolving\u001b[22m\u001b[39m package versions...\n",
      "\u001b[32m\u001b[1m  No Changes\u001b[22m\u001b[39m to `C:\\Users\\Carol\\.julia\\environments\\v1.7\\Project.toml`\n",
      "\u001b[32m\u001b[1m  No Changes\u001b[22m\u001b[39m to `C:\\Users\\Carol\\.julia\\environments\\v1.7\\Manifest.toml`\n",
      "\u001b[32m\u001b[1m   Resolving\u001b[22m\u001b[39m package versions...\n",
      "\u001b[32m\u001b[1m  No Changes\u001b[22m\u001b[39m to `C:\\Users\\Carol\\.julia\\environments\\v1.7\\Project.toml`\n",
      "\u001b[32m\u001b[1m  No Changes\u001b[22m\u001b[39m to `C:\\Users\\Carol\\.julia\\environments\\v1.7\\Manifest.toml`\n",
      "\u001b[32m\u001b[1m   Resolving\u001b[22m\u001b[39m package versions...\n",
      "\u001b[32m\u001b[1m  No Changes\u001b[22m\u001b[39m to `C:\\Users\\Carol\\.julia\\environments\\v1.7\\Project.toml`\n",
      "\u001b[32m\u001b[1m  No Changes\u001b[22m\u001b[39m to `C:\\Users\\Carol\\.julia\\environments\\v1.7\\Manifest.toml`\n"
     ]
    }
   ],
   "source": [
    "\n",
    "Pkg.add(\"Plots\")\n",
    "Pkg.add(\"Lathe\")\n",
    "Pkg.add(\"GLM\")\n",
    "Pkg.add(\"StatsPlots\")\n",
    "Pkg.add(\"MLBase\")\n",
    "Pkg.add(\"StatsModels\")\n",
    "Pkg.add(\"Combinatorics\")\n",
    "# Load the installed packages\n",
    "using DataFrames\n",
    "using CSV\n",
    "using Plots\n",
    "using Lathe\n",
    "using GLM\n",
    "using Statistics\n",
    "using StatsPlots\n",
    "using MLBase\n",
    "using StatsModels\n",
    "using Combinatorics"
   ]
  },
  {
   "cell_type": "code",
   "execution_count": 17,
   "id": "aa1fa3bd",
   "metadata": {
    "scrolled": true
   },
   "outputs": [
    {
     "data": {
      "text/plain": [
       "StatsModels.TableRegressionModel{LinearModel{GLM.LmResp{Vector{Float64}}, GLM.DensePredChol{Float64, LinearAlgebra.CholeskyPivoted{Float64, Matrix{Float64}}}}, Matrix{Float64}}\n",
       "\n",
       "lwage ~ 1 + sex + exp1 + shs + hsg + mw + so + we + occ2 + ind2\n",
       "\n",
       "Coefficients:\n",
       "─────────────────────────────────────────────────────────────────────────────────\n",
       "                   Coef.   Std. Error       t  Pr(>|t|)    Lower 95%    Upper 95%\n",
       "─────────────────────────────────────────────────────────────────────────────────\n",
       "(Intercept)   3.31109     0.0522344     63.39    <1e-99   3.20869      3.41349\n",
       "sex          -0.0752517   0.0154463     -4.87    <1e-05  -0.105533    -0.0449702\n",
       "exp1          0.00739823  0.000666434   11.10    <1e-27   0.00609173   0.00870472\n",
       "shs          -0.276334    0.04704       -5.87    <1e-08  -0.368553    -0.184115\n",
       "hsg          -0.20696     0.0179454    -11.53    <1e-29  -0.242141    -0.171779\n",
       "mw           -0.0541566   0.019798      -2.74    0.0063  -0.0929691   -0.0153441\n",
       "so           -0.0444453   0.0191983     -2.32    0.0206  -0.0820823   -0.00680835\n",
       "we            0.00176164  0.0206178      0.09    0.9319  -0.0386581    0.0421814\n",
       "occ2: 10      0.00440478  0.0406734      0.11    0.9138  -0.0753325    0.0841421\n",
       "occ2: 11     -0.553412    0.0608246     -9.10    <1e-18  -0.672654    -0.434169\n",
       "occ2: 12     -0.400647    0.0567966     -7.05    <1e-11  -0.511992    -0.289301\n",
       "occ2: 13     -0.397991    0.0467666     -8.51    <1e-16  -0.489674    -0.306308\n",
       "occ2: 14     -0.582561    0.0517912    -11.25    <1e-28  -0.684094    -0.481028\n",
       "occ2: 15     -0.539064    0.0530167    -10.17    <1e-23  -0.642999    -0.435128\n",
       "occ2: 16     -0.269501    0.0332579     -8.10    <1e-15  -0.334701    -0.204301\n",
       "occ2: 17     -0.477919    0.0284211    -16.82    <1e-61  -0.533636    -0.422201\n",
       "occ2: 18     -0.419114    0.202088      -2.07    0.0381  -0.815294    -0.022934\n",
       "occ2: 19     -0.315949    0.0506511     -6.24    <1e-09  -0.415247    -0.216651\n",
       "occ2: 2      -0.0518568   0.0350808     -1.48    0.1394  -0.12063      0.0169166\n",
       "occ2: 20     -0.306653    0.0416403     -7.36    <1e-12  -0.388286    -0.22502\n",
       "occ2: 21     -0.363842    0.0388705     -9.36    <1e-19  -0.440045    -0.287639\n",
       "occ2: 22     -0.498178    0.0423644    -11.76    <1e-30  -0.581231    -0.415126\n",
       "occ2: 3      -0.0256413   0.0398437     -0.64    0.5199  -0.103752     0.0524694\n",
       "occ2: 4      -0.0843364   0.053355      -1.58    0.1140  -0.188935     0.0202623\n",
       "occ2: 5      -0.101219    0.0617929     -1.64    0.1015  -0.22236      0.0199212\n",
       "occ2: 6      -0.35496     0.051499      -6.89    <1e-11  -0.45592     -0.254\n",
       "occ2: 7       0.0743297   0.0571396      1.30    0.1934  -0.0376884    0.186348\n",
       "occ2: 8      -0.344514    0.0451164     -7.64    <1e-13  -0.432961    -0.256066\n",
       "occ2: 9      -0.227485    0.0473525     -4.80    <1e-05  -0.320316    -0.134653\n",
       "ind2: 11      0.0692689   0.0595973      1.16    0.2452  -0.0475675    0.186105\n",
       "ind2: 12      0.148955    0.0543146      2.74    0.0061   0.0424749    0.255435\n",
       "ind2: 13      0.0146642   0.0700097      0.21    0.8341  -0.122585     0.151913\n",
       "ind2: 14      0.0442617   0.0517115      0.86    0.3921  -0.0571151    0.145638\n",
       "ind2: 15     -0.141576    0.140976      -1.00    0.3153  -0.417951     0.134798\n",
       "ind2: 16     -0.114201    0.0573879     -1.99    0.0466  -0.226706    -0.00169642\n",
       "ind2: 17     -0.00269247  0.0567784     -0.05    0.9622  -0.114002     0.108618\n",
       "ind2: 18     -0.124013    0.0524408     -2.36    0.0181  -0.226819    -0.0212062\n",
       "ind2: 19     -0.135043    0.0670688     -2.01    0.0441  -0.266526    -0.00355901\n",
       "ind2: 2       0.19416     0.0866011      2.24    0.0250   0.0243851    0.363936\n",
       "ind2: 20     -0.383935    0.0581123     -6.61    <1e-10  -0.49786     -0.27001\n",
       "ind2: 21     -0.0964659   0.0563827     -1.71    0.0872  -0.207        0.0140684\n",
       "ind2: 22      0.133089    0.0546016      2.44    0.0148   0.0260465    0.240132\n",
       "ind2: 3       0.0784458   0.0814693      0.96    0.3356  -0.081269     0.238161\n",
       "ind2: 4      -0.0461529   0.059591      -0.77    0.4387  -0.162977     0.0706709\n",
       "ind2: 5      -0.0472725   0.0571554     -0.83    0.4082  -0.159321     0.0647765\n",
       "ind2: 6      -0.0535833   0.0532513     -1.01    0.3144  -0.157979     0.0508121\n",
       "ind2: 7       0.0299589   0.0737452      0.41    0.6846  -0.114613     0.174531\n",
       "ind2: 8      -0.00493766  0.0743445     -0.07    0.9470  -0.150685     0.140809\n",
       "ind2: 9      -0.199716    0.0495575     -4.03    <1e-04  -0.29687     -0.102562\n",
       "─────────────────────────────────────────────────────────────────────────────────"
      ]
     },
     "execution_count": 17,
     "metadata": {},
     "output_type": "execute_result"
    }
   ],
   "source": [
    "#basic model\n",
    "basic  = @formula(lwage ~ (sex + exp1 + shs + hsg + mw + so + we + occ2+ ind2))\n",
    "basic_results  = lm(basic, data)"
   ]
  },
  {
   "cell_type": "code",
   "execution_count": 31,
   "id": "8833f905",
   "metadata": {},
   "outputs": [],
   "source": [
    "# couples variables combinations\n",
    "combinations_upto(x, n) = Iterators.flatten(combinations(x, i) for i in 1:n)\n",
    "# combinations without same couple\n",
    "expand_exp(args, deg::ConstantTerm) =\n",
    "    tuple(((&)(terms...) for terms in combinations_upto(args, deg.n))...)\n",
    "\n",
    "StatsModels.apply_schema(t::FunctionTerm{typeof(^)}, sch::StatsModels.Schema, ctx::Type) =\n",
    "    apply_schema.(expand_exp(t.args_parsed...), Ref(sch), ctx)\n"
   ]
  },
  {
   "cell_type": "code",
   "execution_count": null,
   "id": "df558fa8",
   "metadata": {},
   "outputs": [],
   "source": []
  },
  {
   "cell_type": "code",
   "execution_count": null,
   "id": "30d7b325",
   "metadata": {},
   "outputs": [],
   "source": []
  },
  {
   "cell_type": "code",
   "execution_count": null,
   "id": "2a8191a5",
   "metadata": {},
   "outputs": [],
   "source": []
  },
  {
   "cell_type": "code",
   "execution_count": 33,
   "id": "df38eae5",
   "metadata": {},
   "outputs": [
    {
     "ename": "LoadError",
     "evalue": "MethodError: no method matching apply_schema(::Tuple{ContinuousTerm{Float64}, ContinuousTerm{Float64}, ContinuousTerm{Float64}, ContinuousTerm{Float64}, ContinuousTerm{Float64}, ContinuousTerm{Float64}, CategoricalTerm{DummyCoding, String, 21}, CategoricalTerm{DummyCoding, String, 20}, ContinuousTerm{Float64}, ContinuousTerm{Float64}, ContinuousTerm{Float64}, InteractionTerm{Tuple{ContinuousTerm{Float64}, ContinuousTerm{Float64}}}, InteractionTerm{Tuple{ContinuousTerm{Float64}, ContinuousTerm{Float64}}}, InteractionTerm{Tuple{ContinuousTerm{Float64}, ContinuousTerm{Float64}}}, InteractionTerm{Tuple{ContinuousTerm{Float64}, ContinuousTerm{Float64}}}, InteractionTerm{Tuple{ContinuousTerm{Float64}, ContinuousTerm{Float64}}}, InteractionTerm{Tuple{ContinuousTerm{Float64}, CategoricalTerm{DummyCoding, String, 21}}}, InteractionTerm{Tuple{ContinuousTerm{Float64}, CategoricalTerm{DummyCoding, String, 20}}}, InteractionTerm{Tuple{ContinuousTerm{Float64}, ContinuousTerm{Float64}}}, InteractionTerm{Tuple{ContinuousTerm{Float64}, ContinuousTerm{Float64}}}, InteractionTerm{Tuple{ContinuousTerm{Float64}, ContinuousTerm{Float64}}}, InteractionTerm{Tuple{ContinuousTerm{Float64}, ContinuousTerm{Float64}}}, InteractionTerm{Tuple{ContinuousTerm{Float64}, ContinuousTerm{Float64}}}, InteractionTerm{Tuple{ContinuousTerm{Float64}, ContinuousTerm{Float64}}}, InteractionTerm{Tuple{ContinuousTerm{Float64}, ContinuousTerm{Float64}}}, InteractionTerm{Tuple{ContinuousTerm{Float64}, CategoricalTerm{DummyCoding, String, 21}}}, InteractionTerm{Tuple{ContinuousTerm{Float64}, CategoricalTerm{DummyCoding, String, 20}}}, InteractionTerm{Tuple{ContinuousTerm{Float64}, ContinuousTerm{Float64}}}, InteractionTerm{Tuple{ContinuousTerm{Float64}, ContinuousTerm{Float64}}}, InteractionTerm{Tuple{ContinuousTerm{Float64}, ContinuousTerm{Float64}}}, InteractionTerm{Tuple{ContinuousTerm{Float64}, ContinuousTerm{Float64}}}, InteractionTerm{Tuple{ContinuousTerm{Float64}, ContinuousTerm{Float64}}}, InteractionTerm{Tuple{ContinuousTerm{Float64}, ContinuousTerm{Float64}}}, InteractionTerm{Tuple{ContinuousTerm{Float64}, CategoricalTerm{DummyCoding, String, 21}}}, InteractionTerm{Tuple{ContinuousTerm{Float64}, CategoricalTerm{DummyCoding, String, 20}}}, InteractionTerm{Tuple{ContinuousTerm{Float64}, ContinuousTerm{Float64}}}, InteractionTerm{Tuple{ContinuousTerm{Float64}, ContinuousTerm{Float64}}}, InteractionTerm{Tuple{ContinuousTerm{Float64}, ContinuousTerm{Float64}}}, InteractionTerm{Tuple{ContinuousTerm{Float64}, ContinuousTerm{Float64}}}, InteractionTerm{Tuple{ContinuousTerm{Float64}, ContinuousTerm{Float64}}}, InteractionTerm{Tuple{ContinuousTerm{Float64}, CategoricalTerm{DummyCoding, String, 21}}}, InteractionTerm{Tuple{ContinuousTerm{Float64}, CategoricalTerm{DummyCoding, String, 20}}}, InteractionTerm{Tuple{ContinuousTerm{Float64}, ContinuousTerm{Float64}}}, InteractionTerm{Tuple{ContinuousTerm{Float64}, ContinuousTerm{Float64}}}, InteractionTerm{Tuple{ContinuousTerm{Float64}, ContinuousTerm{Float64}}}, InteractionTerm{Tuple{ContinuousTerm{Float64}, ContinuousTerm{Float64}}}, InteractionTerm{Tuple{ContinuousTerm{Float64}, CategoricalTerm{DummyCoding, String, 21}}}, InteractionTerm{Tuple{ContinuousTerm{Float64}, CategoricalTerm{DummyCoding, String, 20}}}, InteractionTerm{Tuple{ContinuousTerm{Float64}, ContinuousTerm{Float64}}}, InteractionTerm{Tuple{ContinuousTerm{Float64}, ContinuousTerm{Float64}}}, InteractionTerm{Tuple{ContinuousTerm{Float64}, ContinuousTerm{Float64}}}, InteractionTerm{Tuple{ContinuousTerm{Float64}, CategoricalTerm{DummyCoding, String, 21}}}, InteractionTerm{Tuple{ContinuousTerm{Float64}, CategoricalTerm{DummyCoding, String, 20}}}, InteractionTerm{Tuple{ContinuousTerm{Float64}, ContinuousTerm{Float64}}}, InteractionTerm{Tuple{ContinuousTerm{Float64}, ContinuousTerm{Float64}}}, InteractionTerm{Tuple{ContinuousTerm{Float64}, ContinuousTerm{Float64}}}, InteractionTerm{Tuple{CategoricalTerm{DummyCoding, String, 21}, CategoricalTerm{DummyCoding, String, 20}}}, InteractionTerm{Tuple{CategoricalTerm{DummyCoding, String, 21}, ContinuousTerm{Float64}}}, InteractionTerm{Tuple{CategoricalTerm{DummyCoding, String, 21}, ContinuousTerm{Float64}}}, InteractionTerm{Tuple{CategoricalTerm{DummyCoding, String, 21}, ContinuousTerm{Float64}}}, InteractionTerm{Tuple{CategoricalTerm{DummyCoding, String, 20}, ContinuousTerm{Float64}}}, InteractionTerm{Tuple{CategoricalTerm{DummyCoding, String, 20}, ContinuousTerm{Float64}}}, InteractionTerm{Tuple{CategoricalTerm{DummyCoding, String, 20}, ContinuousTerm{Float64}}}, InteractionTerm{Tuple{ContinuousTerm{Float64}, ContinuousTerm{Float64}}}, InteractionTerm{Tuple{ContinuousTerm{Float64}, ContinuousTerm{Float64}}}, InteractionTerm{Tuple{ContinuousTerm{Float64}, ContinuousTerm{Float64}}}}, ::StatsModels.FullRank, ::Type{LinearModel}, ::Tuple{ContinuousTerm{Float64}, ContinuousTerm{Float64}, ContinuousTerm{Float64}, ContinuousTerm{Float64}, ContinuousTerm{Float64}, ContinuousTerm{Float64}, CategoricalTerm{DummyCoding, String, 21}, CategoricalTerm{DummyCoding, String, 20}, ContinuousTerm{Float64}, ContinuousTerm{Float64}, ContinuousTerm{Float64}, InteractionTerm{Tuple{ContinuousTerm{Float64}, ContinuousTerm{Float64}}}, InteractionTerm{Tuple{ContinuousTerm{Float64}, ContinuousTerm{Float64}}}, InteractionTerm{Tuple{ContinuousTerm{Float64}, ContinuousTerm{Float64}}}, InteractionTerm{Tuple{ContinuousTerm{Float64}, ContinuousTerm{Float64}}}, InteractionTerm{Tuple{ContinuousTerm{Float64}, ContinuousTerm{Float64}}}, InteractionTerm{Tuple{ContinuousTerm{Float64}, CategoricalTerm{DummyCoding, String, 21}}}, InteractionTerm{Tuple{ContinuousTerm{Float64}, CategoricalTerm{DummyCoding, String, 20}}}, InteractionTerm{Tuple{ContinuousTerm{Float64}, ContinuousTerm{Float64}}}, InteractionTerm{Tuple{ContinuousTerm{Float64}, ContinuousTerm{Float64}}}, InteractionTerm{Tuple{ContinuousTerm{Float64}, ContinuousTerm{Float64}}}, InteractionTerm{Tuple{ContinuousTerm{Float64}, ContinuousTerm{Float64}}}, InteractionTerm{Tuple{ContinuousTerm{Float64}, ContinuousTerm{Float64}}}, InteractionTerm{Tuple{ContinuousTerm{Float64}, ContinuousTerm{Float64}}}, InteractionTerm{Tuple{ContinuousTerm{Float64}, ContinuousTerm{Float64}}}, InteractionTerm{Tuple{ContinuousTerm{Float64}, CategoricalTerm{DummyCoding, String, 21}}}, InteractionTerm{Tuple{ContinuousTerm{Float64}, CategoricalTerm{DummyCoding, String, 20}}}, InteractionTerm{Tuple{ContinuousTerm{Float64}, ContinuousTerm{Float64}}}, InteractionTerm{Tuple{ContinuousTerm{Float64}, ContinuousTerm{Float64}}}, InteractionTerm{Tuple{ContinuousTerm{Float64}, ContinuousTerm{Float64}}}, InteractionTerm{Tuple{ContinuousTerm{Float64}, ContinuousTerm{Float64}}}, InteractionTerm{Tuple{ContinuousTerm{Float64}, ContinuousTerm{Float64}}}, InteractionTerm{Tuple{ContinuousTerm{Float64}, ContinuousTerm{Float64}}}, InteractionTerm{Tuple{ContinuousTerm{Float64}, CategoricalTerm{DummyCoding, String, 21}}}, InteractionTerm{Tuple{ContinuousTerm{Float64}, CategoricalTerm{DummyCoding, String, 20}}}, InteractionTerm{Tuple{ContinuousTerm{Float64}, ContinuousTerm{Float64}}}, InteractionTerm{Tuple{ContinuousTerm{Float64}, ContinuousTerm{Float64}}}, InteractionTerm{Tuple{ContinuousTerm{Float64}, ContinuousTerm{Float64}}}, InteractionTerm{Tuple{ContinuousTerm{Float64}, ContinuousTerm{Float64}}}, InteractionTerm{Tuple{ContinuousTerm{Float64}, ContinuousTerm{Float64}}}, InteractionTerm{Tuple{ContinuousTerm{Float64}, CategoricalTerm{DummyCoding, String, 21}}}, InteractionTerm{Tuple{ContinuousTerm{Float64}, CategoricalTerm{DummyCoding, String, 20}}}, InteractionTerm{Tuple{ContinuousTerm{Float64}, ContinuousTerm{Float64}}}, InteractionTerm{Tuple{ContinuousTerm{Float64}, ContinuousTerm{Float64}}}, InteractionTerm{Tuple{ContinuousTerm{Float64}, ContinuousTerm{Float64}}}, InteractionTerm{Tuple{ContinuousTerm{Float64}, ContinuousTerm{Float64}}}, InteractionTerm{Tuple{ContinuousTerm{Float64}, CategoricalTerm{DummyCoding, String, 21}}}, InteractionTerm{Tuple{ContinuousTerm{Float64}, CategoricalTerm{DummyCoding, String, 20}}}, InteractionTerm{Tuple{ContinuousTerm{Float64}, ContinuousTerm{Float64}}}, InteractionTerm{Tuple{ContinuousTerm{Float64}, ContinuousTerm{Float64}}}, InteractionTerm{Tuple{ContinuousTerm{Float64}, ContinuousTerm{Float64}}}, InteractionTerm{Tuple{ContinuousTerm{Float64}, CategoricalTerm{DummyCoding, String, 21}}}, InteractionTerm{Tuple{ContinuousTerm{Float64}, CategoricalTerm{DummyCoding, String, 20}}}, InteractionTerm{Tuple{ContinuousTerm{Float64}, ContinuousTerm{Float64}}}, InteractionTerm{Tuple{ContinuousTerm{Float64}, ContinuousTerm{Float64}}}, InteractionTerm{Tuple{ContinuousTerm{Float64}, ContinuousTerm{Float64}}}, InteractionTerm{Tuple{CategoricalTerm{DummyCoding, String, 21}, CategoricalTerm{DummyCoding, String, 20}}}, InteractionTerm{Tuple{CategoricalTerm{DummyCoding, String, 21}, ContinuousTerm{Float64}}}, InteractionTerm{Tuple{CategoricalTerm{DummyCoding, String, 21}, ContinuousTerm{Float64}}}, InteractionTerm{Tuple{CategoricalTerm{DummyCoding, String, 21}, ContinuousTerm{Float64}}}, InteractionTerm{Tuple{CategoricalTerm{DummyCoding, String, 20}, ContinuousTerm{Float64}}}, InteractionTerm{Tuple{CategoricalTerm{DummyCoding, String, 20}, ContinuousTerm{Float64}}}, InteractionTerm{Tuple{CategoricalTerm{DummyCoding, String, 20}, ContinuousTerm{Float64}}}, InteractionTerm{Tuple{ContinuousTerm{Float64}, ContinuousTerm{Float64}}}, InteractionTerm{Tuple{ContinuousTerm{Float64}, ContinuousTerm{Float64}}}, InteractionTerm{Tuple{ContinuousTerm{Float64}, ContinuousTerm{Float64}}}})\n\u001b[0mClosest candidates are:\n\u001b[0m  apply_schema(::Tuple{Union{Tuple{AbstractTerm, Vararg{AbstractTerm}}, AbstractTerm}, Vararg{Union{Tuple{AbstractTerm, Vararg{AbstractTerm}}, AbstractTerm}}}, ::Any, ::Type) at C:\\Users\\Carol\\.julia\\packages\\StatsModels\\57Kc9\\src\\schema.jl:230\n\u001b[0m  apply_schema(::Any, ::StatsModels.FullRank, ::Type, \u001b[91m::AbstractTerm\u001b[39m) at C:\\Users\\Carol\\.julia\\packages\\StatsModels\\57Kc9\\src\\schema.jl:349\n\u001b[0m  apply_schema(::Any, ::Any, ::Type) at C:\\Users\\Carol\\.julia\\packages\\StatsModels\\57Kc9\\src\\schema.jl:229\n\u001b[0m  ...",
     "output_type": "error",
     "traceback": [
      "MethodError: no method matching apply_schema(::Tuple{ContinuousTerm{Float64}, ContinuousTerm{Float64}, ContinuousTerm{Float64}, ContinuousTerm{Float64}, ContinuousTerm{Float64}, ContinuousTerm{Float64}, CategoricalTerm{DummyCoding, String, 21}, CategoricalTerm{DummyCoding, String, 20}, ContinuousTerm{Float64}, ContinuousTerm{Float64}, ContinuousTerm{Float64}, InteractionTerm{Tuple{ContinuousTerm{Float64}, ContinuousTerm{Float64}}}, InteractionTerm{Tuple{ContinuousTerm{Float64}, ContinuousTerm{Float64}}}, InteractionTerm{Tuple{ContinuousTerm{Float64}, ContinuousTerm{Float64}}}, InteractionTerm{Tuple{ContinuousTerm{Float64}, ContinuousTerm{Float64}}}, InteractionTerm{Tuple{ContinuousTerm{Float64}, ContinuousTerm{Float64}}}, InteractionTerm{Tuple{ContinuousTerm{Float64}, CategoricalTerm{DummyCoding, String, 21}}}, InteractionTerm{Tuple{ContinuousTerm{Float64}, CategoricalTerm{DummyCoding, String, 20}}}, InteractionTerm{Tuple{ContinuousTerm{Float64}, ContinuousTerm{Float64}}}, InteractionTerm{Tuple{ContinuousTerm{Float64}, ContinuousTerm{Float64}}}, InteractionTerm{Tuple{ContinuousTerm{Float64}, ContinuousTerm{Float64}}}, InteractionTerm{Tuple{ContinuousTerm{Float64}, ContinuousTerm{Float64}}}, InteractionTerm{Tuple{ContinuousTerm{Float64}, ContinuousTerm{Float64}}}, InteractionTerm{Tuple{ContinuousTerm{Float64}, ContinuousTerm{Float64}}}, InteractionTerm{Tuple{ContinuousTerm{Float64}, ContinuousTerm{Float64}}}, InteractionTerm{Tuple{ContinuousTerm{Float64}, CategoricalTerm{DummyCoding, String, 21}}}, InteractionTerm{Tuple{ContinuousTerm{Float64}, CategoricalTerm{DummyCoding, String, 20}}}, InteractionTerm{Tuple{ContinuousTerm{Float64}, ContinuousTerm{Float64}}}, InteractionTerm{Tuple{ContinuousTerm{Float64}, ContinuousTerm{Float64}}}, InteractionTerm{Tuple{ContinuousTerm{Float64}, ContinuousTerm{Float64}}}, InteractionTerm{Tuple{ContinuousTerm{Float64}, ContinuousTerm{Float64}}}, InteractionTerm{Tuple{ContinuousTerm{Float64}, ContinuousTerm{Float64}}}, InteractionTerm{Tuple{ContinuousTerm{Float64}, ContinuousTerm{Float64}}}, InteractionTerm{Tuple{ContinuousTerm{Float64}, CategoricalTerm{DummyCoding, String, 21}}}, InteractionTerm{Tuple{ContinuousTerm{Float64}, CategoricalTerm{DummyCoding, String, 20}}}, InteractionTerm{Tuple{ContinuousTerm{Float64}, ContinuousTerm{Float64}}}, InteractionTerm{Tuple{ContinuousTerm{Float64}, ContinuousTerm{Float64}}}, InteractionTerm{Tuple{ContinuousTerm{Float64}, ContinuousTerm{Float64}}}, InteractionTerm{Tuple{ContinuousTerm{Float64}, ContinuousTerm{Float64}}}, InteractionTerm{Tuple{ContinuousTerm{Float64}, ContinuousTerm{Float64}}}, InteractionTerm{Tuple{ContinuousTerm{Float64}, CategoricalTerm{DummyCoding, String, 21}}}, InteractionTerm{Tuple{ContinuousTerm{Float64}, CategoricalTerm{DummyCoding, String, 20}}}, InteractionTerm{Tuple{ContinuousTerm{Float64}, ContinuousTerm{Float64}}}, InteractionTerm{Tuple{ContinuousTerm{Float64}, ContinuousTerm{Float64}}}, InteractionTerm{Tuple{ContinuousTerm{Float64}, ContinuousTerm{Float64}}}, InteractionTerm{Tuple{ContinuousTerm{Float64}, ContinuousTerm{Float64}}}, InteractionTerm{Tuple{ContinuousTerm{Float64}, CategoricalTerm{DummyCoding, String, 21}}}, InteractionTerm{Tuple{ContinuousTerm{Float64}, CategoricalTerm{DummyCoding, String, 20}}}, InteractionTerm{Tuple{ContinuousTerm{Float64}, ContinuousTerm{Float64}}}, InteractionTerm{Tuple{ContinuousTerm{Float64}, ContinuousTerm{Float64}}}, InteractionTerm{Tuple{ContinuousTerm{Float64}, ContinuousTerm{Float64}}}, InteractionTerm{Tuple{ContinuousTerm{Float64}, CategoricalTerm{DummyCoding, String, 21}}}, InteractionTerm{Tuple{ContinuousTerm{Float64}, CategoricalTerm{DummyCoding, String, 20}}}, InteractionTerm{Tuple{ContinuousTerm{Float64}, ContinuousTerm{Float64}}}, InteractionTerm{Tuple{ContinuousTerm{Float64}, ContinuousTerm{Float64}}}, InteractionTerm{Tuple{ContinuousTerm{Float64}, ContinuousTerm{Float64}}}, InteractionTerm{Tuple{CategoricalTerm{DummyCoding, String, 21}, CategoricalTerm{DummyCoding, String, 20}}}, InteractionTerm{Tuple{CategoricalTerm{DummyCoding, String, 21}, ContinuousTerm{Float64}}}, InteractionTerm{Tuple{CategoricalTerm{DummyCoding, String, 21}, ContinuousTerm{Float64}}}, InteractionTerm{Tuple{CategoricalTerm{DummyCoding, String, 21}, ContinuousTerm{Float64}}}, InteractionTerm{Tuple{CategoricalTerm{DummyCoding, String, 20}, ContinuousTerm{Float64}}}, InteractionTerm{Tuple{CategoricalTerm{DummyCoding, String, 20}, ContinuousTerm{Float64}}}, InteractionTerm{Tuple{CategoricalTerm{DummyCoding, String, 20}, ContinuousTerm{Float64}}}, InteractionTerm{Tuple{ContinuousTerm{Float64}, ContinuousTerm{Float64}}}, InteractionTerm{Tuple{ContinuousTerm{Float64}, ContinuousTerm{Float64}}}, InteractionTerm{Tuple{ContinuousTerm{Float64}, ContinuousTerm{Float64}}}}, ::StatsModels.FullRank, ::Type{LinearModel}, ::Tuple{ContinuousTerm{Float64}, ContinuousTerm{Float64}, ContinuousTerm{Float64}, ContinuousTerm{Float64}, ContinuousTerm{Float64}, ContinuousTerm{Float64}, CategoricalTerm{DummyCoding, String, 21}, CategoricalTerm{DummyCoding, String, 20}, ContinuousTerm{Float64}, ContinuousTerm{Float64}, ContinuousTerm{Float64}, InteractionTerm{Tuple{ContinuousTerm{Float64}, ContinuousTerm{Float64}}}, InteractionTerm{Tuple{ContinuousTerm{Float64}, ContinuousTerm{Float64}}}, InteractionTerm{Tuple{ContinuousTerm{Float64}, ContinuousTerm{Float64}}}, InteractionTerm{Tuple{ContinuousTerm{Float64}, ContinuousTerm{Float64}}}, InteractionTerm{Tuple{ContinuousTerm{Float64}, ContinuousTerm{Float64}}}, InteractionTerm{Tuple{ContinuousTerm{Float64}, CategoricalTerm{DummyCoding, String, 21}}}, InteractionTerm{Tuple{ContinuousTerm{Float64}, CategoricalTerm{DummyCoding, String, 20}}}, InteractionTerm{Tuple{ContinuousTerm{Float64}, ContinuousTerm{Float64}}}, InteractionTerm{Tuple{ContinuousTerm{Float64}, ContinuousTerm{Float64}}}, InteractionTerm{Tuple{ContinuousTerm{Float64}, ContinuousTerm{Float64}}}, InteractionTerm{Tuple{ContinuousTerm{Float64}, ContinuousTerm{Float64}}}, InteractionTerm{Tuple{ContinuousTerm{Float64}, ContinuousTerm{Float64}}}, InteractionTerm{Tuple{ContinuousTerm{Float64}, ContinuousTerm{Float64}}}, InteractionTerm{Tuple{ContinuousTerm{Float64}, ContinuousTerm{Float64}}}, InteractionTerm{Tuple{ContinuousTerm{Float64}, CategoricalTerm{DummyCoding, String, 21}}}, InteractionTerm{Tuple{ContinuousTerm{Float64}, CategoricalTerm{DummyCoding, String, 20}}}, InteractionTerm{Tuple{ContinuousTerm{Float64}, ContinuousTerm{Float64}}}, InteractionTerm{Tuple{ContinuousTerm{Float64}, ContinuousTerm{Float64}}}, InteractionTerm{Tuple{ContinuousTerm{Float64}, ContinuousTerm{Float64}}}, InteractionTerm{Tuple{ContinuousTerm{Float64}, ContinuousTerm{Float64}}}, InteractionTerm{Tuple{ContinuousTerm{Float64}, ContinuousTerm{Float64}}}, InteractionTerm{Tuple{ContinuousTerm{Float64}, ContinuousTerm{Float64}}}, InteractionTerm{Tuple{ContinuousTerm{Float64}, CategoricalTerm{DummyCoding, String, 21}}}, InteractionTerm{Tuple{ContinuousTerm{Float64}, CategoricalTerm{DummyCoding, String, 20}}}, InteractionTerm{Tuple{ContinuousTerm{Float64}, ContinuousTerm{Float64}}}, InteractionTerm{Tuple{ContinuousTerm{Float64}, ContinuousTerm{Float64}}}, InteractionTerm{Tuple{ContinuousTerm{Float64}, ContinuousTerm{Float64}}}, InteractionTerm{Tuple{ContinuousTerm{Float64}, ContinuousTerm{Float64}}}, InteractionTerm{Tuple{ContinuousTerm{Float64}, ContinuousTerm{Float64}}}, InteractionTerm{Tuple{ContinuousTerm{Float64}, CategoricalTerm{DummyCoding, String, 21}}}, InteractionTerm{Tuple{ContinuousTerm{Float64}, CategoricalTerm{DummyCoding, String, 20}}}, InteractionTerm{Tuple{ContinuousTerm{Float64}, ContinuousTerm{Float64}}}, InteractionTerm{Tuple{ContinuousTerm{Float64}, ContinuousTerm{Float64}}}, InteractionTerm{Tuple{ContinuousTerm{Float64}, ContinuousTerm{Float64}}}, InteractionTerm{Tuple{ContinuousTerm{Float64}, ContinuousTerm{Float64}}}, InteractionTerm{Tuple{ContinuousTerm{Float64}, CategoricalTerm{DummyCoding, String, 21}}}, InteractionTerm{Tuple{ContinuousTerm{Float64}, CategoricalTerm{DummyCoding, String, 20}}}, InteractionTerm{Tuple{ContinuousTerm{Float64}, ContinuousTerm{Float64}}}, InteractionTerm{Tuple{ContinuousTerm{Float64}, ContinuousTerm{Float64}}}, InteractionTerm{Tuple{ContinuousTerm{Float64}, ContinuousTerm{Float64}}}, InteractionTerm{Tuple{ContinuousTerm{Float64}, CategoricalTerm{DummyCoding, String, 21}}}, InteractionTerm{Tuple{ContinuousTerm{Float64}, CategoricalTerm{DummyCoding, String, 20}}}, InteractionTerm{Tuple{ContinuousTerm{Float64}, ContinuousTerm{Float64}}}, InteractionTerm{Tuple{ContinuousTerm{Float64}, ContinuousTerm{Float64}}}, InteractionTerm{Tuple{ContinuousTerm{Float64}, ContinuousTerm{Float64}}}, InteractionTerm{Tuple{CategoricalTerm{DummyCoding, String, 21}, CategoricalTerm{DummyCoding, String, 20}}}, InteractionTerm{Tuple{CategoricalTerm{DummyCoding, String, 21}, ContinuousTerm{Float64}}}, InteractionTerm{Tuple{CategoricalTerm{DummyCoding, String, 21}, ContinuousTerm{Float64}}}, InteractionTerm{Tuple{CategoricalTerm{DummyCoding, String, 21}, ContinuousTerm{Float64}}}, InteractionTerm{Tuple{CategoricalTerm{DummyCoding, String, 20}, ContinuousTerm{Float64}}}, InteractionTerm{Tuple{CategoricalTerm{DummyCoding, String, 20}, ContinuousTerm{Float64}}}, InteractionTerm{Tuple{CategoricalTerm{DummyCoding, String, 20}, ContinuousTerm{Float64}}}, InteractionTerm{Tuple{ContinuousTerm{Float64}, ContinuousTerm{Float64}}}, InteractionTerm{Tuple{ContinuousTerm{Float64}, ContinuousTerm{Float64}}}, InteractionTerm{Tuple{ContinuousTerm{Float64}, ContinuousTerm{Float64}}}})\n\u001b[0mClosest candidates are:\n\u001b[0m  apply_schema(::Tuple{Union{Tuple{AbstractTerm, Vararg{AbstractTerm}}, AbstractTerm}, Vararg{Union{Tuple{AbstractTerm, Vararg{AbstractTerm}}, AbstractTerm}}}, ::Any, ::Type) at C:\\Users\\Carol\\.julia\\packages\\StatsModels\\57Kc9\\src\\schema.jl:230\n\u001b[0m  apply_schema(::Any, ::StatsModels.FullRank, ::Type, \u001b[91m::AbstractTerm\u001b[39m) at C:\\Users\\Carol\\.julia\\packages\\StatsModels\\57Kc9\\src\\schema.jl:349\n\u001b[0m  apply_schema(::Any, ::Any, ::Type) at C:\\Users\\Carol\\.julia\\packages\\StatsModels\\57Kc9\\src\\schema.jl:229\n\u001b[0m  ...",
      "",
      "Stacktrace:",
      "  [1] apply_schema(t::FunctionTerm{typeof(^), var\"#45#46\", (:exp1, :exp2, :exp3, :exp4, :shs, :hsg, :occ2, :ind2, :mw, :so, :we)}, schema::StatsModels.FullRank, Mod::Type)",
      "    @ StatsModels C:\\Users\\Carol\\.julia\\packages\\StatsModels\\57Kc9\\src\\schema.jl:335",
      "  [2] _broadcast_getindex_evalf",
      "    @ .\\broadcast.jl:670 [inlined]",
      "  [3] _broadcast_getindex",
      "    @ .\\broadcast.jl:643 [inlined]",
      "  [4] #29",
      "    @ .\\broadcast.jl:1075 [inlined]",
      "  [5] ntuple",
      "    @ .\\ntuple.jl:50 [inlined]",
      "  [6] copy(bc::Base.Broadcast.Broadcasted{Base.Broadcast.Style{Tuple}, Nothing, typeof(apply_schema), Tuple{Tuple{InterceptTerm{true}, Term, FunctionTerm{typeof(^), var\"#45#46\", (:exp1, :exp2, :exp3, :exp4, :shs, :hsg, :occ2, :ind2, :mw, :so, :we)}}, Base.RefValue{StatsModels.FullRank}, Base.RefValue{Type{LinearModel}}}})",
      "    @ Base.Broadcast .\\broadcast.jl:1075",
      "  [7] materialize",
      "    @ .\\broadcast.jl:860 [inlined]",
      "  [8] apply_schema(terms::Tuple{InterceptTerm{true}, Term, FunctionTerm{typeof(^), var\"#45#46\", (:exp1, :exp2, :exp3, :exp4, :shs, :hsg, :occ2, :ind2, :mw, :so, :we)}}, schema::StatsModels.FullRank, Mod::Type)",
      "    @ StatsModels C:\\Users\\Carol\\.julia\\packages\\StatsModels\\57Kc9\\src\\schema.jl:230",
      "  [9] apply_schema(t::FormulaTerm{Term, Tuple{Term, FunctionTerm{typeof(^), var\"#45#46\", (:exp1, :exp2, :exp3, :exp4, :shs, :hsg, :occ2, :ind2, :mw, :so, :we)}}}, schema::StatsModels.Schema, Mod::Type{LinearModel})",
      "    @ StatsModels C:\\Users\\Carol\\.julia\\packages\\StatsModels\\57Kc9\\src\\schema.jl:295",
      " [10] ModelFrame(f::FormulaTerm{Term, Tuple{Term, FunctionTerm{typeof(^), var\"#45#46\", (:exp1, :exp2, :exp3, :exp4, :shs, :hsg, :occ2, :ind2, :mw, :so, :we)}}}, data::NamedTuple{(:rownames, :wage, :lwage, :sex, :shs, :hsg, :scl, :clg, :ad, :mw, :so, :we, :ne, :exp1, :exp2, :exp3, :exp4, :occ, :occ2, :ind, :ind2), Tuple{Vector{Int64}, Vector{Float64}, Vector{Float64}, Vector{Float64}, Vector{Float64}, Vector{Float64}, Vector{Float64}, Vector{Float64}, Vector{Float64}, Vector{Float64}, Vector{Float64}, Vector{Float64}, Vector{Float64}, Vector{Float64}, Vector{Float64}, Vector{Float64}, Vector{Float64}, PooledArrays.PooledVector{String, UInt32, Vector{UInt32}}, PooledArrays.PooledVector{String, UInt32, Vector{UInt32}}, PooledArrays.PooledVector{String, UInt32, Vector{UInt32}}, PooledArrays.PooledVector{String, UInt32, Vector{UInt32}}}}; model::Type{LinearModel}, contrasts::Dict{Symbol, Any})",
      "    @ StatsModels C:\\Users\\Carol\\.julia\\packages\\StatsModels\\57Kc9\\src\\modelframe.jl:82",
      " [11] fit(::Type{LinearModel}, f::FormulaTerm{Term, Tuple{Term, FunctionTerm{typeof(^), var\"#45#46\", (:exp1, :exp2, :exp3, :exp4, :shs, :hsg, :occ2, :ind2, :mw, :so, :we)}}}, data::DataFrame, args::Nothing; contrasts::Dict{Symbol, Any}, kwargs::Base.Pairs{Symbol, Union{}, Tuple{}, NamedTuple{(), Tuple{}}})",
      "    @ StatsModels C:\\Users\\Carol\\.julia\\packages\\StatsModels\\57Kc9\\src\\statsmodel.jl:85",
      " [12] fit",
      "    @ C:\\Users\\Carol\\.julia\\packages\\StatsModels\\57Kc9\\src\\statsmodel.jl:82 [inlined]",
      " [13] #lm#5",
      "    @ C:\\Users\\Carol\\.julia\\packages\\GLM\\DgddX\\src\\lm.jl:184 [inlined]",
      " [14] lm (repeats 2 times)",
      "    @ C:\\Users\\Carol\\.julia\\packages\\GLM\\DgddX\\src\\lm.jl:184 [inlined]",
      " [15] top-level scope",
      "    @ In[33]:4",
      " [16] eval",
      "    @ .\\boot.jl:373 [inlined]",
      " [17] include_string(mapexpr::typeof(REPL.softscope), mod::Module, code::String, filename::String)",
      "    @ Base .\\loading.jl:1196"
     ]
    }
   ],
   "source": [
    "#flexible model\n",
    "flex = @formula(lwage ~ sex + (exp1+exp2+exp3+exp4 +shs+hsg+occ2+ind2+mw+so+we)^2)\n",
    "flexi = @formula(sex ~ (exp1+exp2+exp3+exp4 +shs+hsg+occ2+ind2+mw+so+we)^2)\n",
    "regflex = lm(flex, data)\n",
    "regflex = lm(flexi, data)"
   ]
  },
  {
   "cell_type": "code",
   "execution_count": null,
   "id": "0e3019dd",
   "metadata": {},
   "outputs": [],
   "source": [
    "## Lasso"
   ]
  },
  {
   "cell_type": "code",
   "execution_count": 26,
   "id": "a4134062",
   "metadata": {},
   "outputs": [
    {
     "name": "stderr",
     "output_type": "stream",
     "text": [
      "\u001b[32m\u001b[1m   Resolving\u001b[22m\u001b[39m package versions...\n",
      "\u001b[32m\u001b[1m  No Changes\u001b[22m\u001b[39m to `C:\\Users\\Carol\\.julia\\environments\\v1.7\\Project.toml`\n",
      "\u001b[32m\u001b[1m  No Changes\u001b[22m\u001b[39m to `C:\\Users\\Carol\\.julia\\environments\\v1.7\\Manifest.toml`\n"
     ]
    }
   ],
   "source": [
    "Pkg.add(\"Lasso\")\n",
    "using Lasso"
   ]
  },
  {
   "cell_type": "code",
   "execution_count": null,
   "id": "a8335d40",
   "metadata": {},
   "outputs": [],
   "source": [
    "flex = @formula(lwage ~ sex + (exp1+exp2+exp3+exp4 +shs+hsg+occ2+ind2+mw+so+we)^2)\n",
    "flexi = @formula(sex ~ (exp1+exp2+exp3+exp4 +shs+hsg+occ2+ind2+mw+so+we)^2)\n",
    "lasso_model = fit(LassoModel, flex, data)\n",
    "lasso_model = fit(LassoModel, flexi, data)\n",
    "\n"
   ]
  },
  {
   "cell_type": "code",
   "execution_count": null,
   "id": "f4cc1c8b",
   "metadata": {},
   "outputs": [],
   "source": []
  },
  {
   "cell_type": "code",
   "execution_count": null,
   "id": "0d44e179",
   "metadata": {},
   "outputs": [],
   "source": []
  },
  {
   "cell_type": "code",
   "execution_count": null,
   "id": "5fecb4e9",
   "metadata": {},
   "outputs": [],
   "source": []
  },
  {
   "cell_type": "code",
   "execution_count": null,
   "id": "a719fa1e",
   "metadata": {},
   "outputs": [],
   "source": []
  }
 ],
 "metadata": {
  "kernelspec": {
   "display_name": "Julia 1.7.2",
   "language": "julia",
   "name": "julia-1.7"
  },
  "language_info": {
   "file_extension": ".jl",
   "mimetype": "application/julia",
   "name": "julia",
   "version": "1.7.2"
  }
 },
 "nbformat": 4,
 "nbformat_minor": 5
}
