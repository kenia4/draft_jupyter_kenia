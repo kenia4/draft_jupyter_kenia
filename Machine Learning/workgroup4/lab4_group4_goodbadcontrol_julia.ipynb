{
 "cells": [
  {
   "cell_type": "markdown",
   "id": "d24305b9",
   "metadata": {},
   "source": [
    "# Good and bad controls "
   ]
  },
  {
   "cell_type": "markdown",
   "id": "3a9217f6",
   "metadata": {},
   "source": [
    "## Integrants:\n",
    "* Rick Chuquilin\n",
    "* Luciana Álvarez\n",
    "* Kenia Moscoso "
   ]
  },
  {
   "cell_type": "code",
   "execution_count": 3,
   "id": "f5b2702c",
   "metadata": {
    "scrolled": true
   },
   "outputs": [
    {
     "name": "stderr",
     "output_type": "stream",
     "text": [
      "\u001b[32m\u001b[1m    Updating\u001b[22m\u001b[39m registry at `C:\\Users\\Kenia\\.julia\\registries\\General.toml`\n",
      "\u001b[32m\u001b[1m   Resolving\u001b[22m\u001b[39m package versions...\n",
      "\u001b[32m\u001b[1m   Installed\u001b[22m\u001b[39m URIs ──── v1.3.0\n",
      "\u001b[32m\u001b[1m   Installed\u001b[22m\u001b[39m IniFile ─ v0.5.1\n",
      "\u001b[32m\u001b[1m   Installed\u001b[22m\u001b[39m HTTP ──── v0.9.17\n",
      "\u001b[32m\u001b[1m    Updating\u001b[22m\u001b[39m `C:\\Users\\Kenia\\.julia\\environments\\v1.7\\Project.toml`\n",
      " \u001b[90m [cd3eb016] \u001b[39m\u001b[92m+ HTTP v0.9.17\u001b[39m\n",
      "\u001b[32m\u001b[1m    Updating\u001b[22m\u001b[39m `C:\\Users\\Kenia\\.julia\\environments\\v1.7\\Manifest.toml`\n",
      " \u001b[90m [cd3eb016] \u001b[39m\u001b[92m+ HTTP v0.9.17\u001b[39m\n",
      " \u001b[90m [83e8ac13] \u001b[39m\u001b[92m+ IniFile v0.5.1\u001b[39m\n",
      " \u001b[90m [5c2747f8] \u001b[39m\u001b[92m+ URIs v1.3.0\u001b[39m\n",
      "\u001b[32m\u001b[1mPrecompiling\u001b[22m\u001b[39m project...\n",
      "\u001b[32m  ✓ \u001b[39m\u001b[90mIniFile\u001b[39m\n",
      "\u001b[32m  ✓ \u001b[39m\u001b[90mURIs\u001b[39m\n",
      "\u001b[32m  ✓ \u001b[39mHTTP\n",
      "  3 dependencies successfully precompiled in 11 seconds (99 already precompiled)\n"
     ]
    }
   ],
   "source": [
    "import Pkg\n",
    "Pkg.add(\"HTTP\")"
   ]
  },
  {
   "cell_type": "code",
   "execution_count": 5,
   "id": "16bbfe08",
   "metadata": {},
   "outputs": [
    {
     "name": "stderr",
     "output_type": "stream",
     "text": [
      "\u001b[32m\u001b[1m   Resolving\u001b[22m\u001b[39m package versions...\n",
      "\u001b[32m\u001b[1m   Installed\u001b[22m\u001b[39m WeakRefStrings ─ v1.4.2\n",
      "\u001b[32m\u001b[1m   Installed\u001b[22m\u001b[39m CSV ──────────── v0.10.4\n",
      "\u001b[32m\u001b[1m    Updating\u001b[22m\u001b[39m `C:\\Users\\Kenia\\.julia\\environments\\v1.7\\Project.toml`\n",
      " \u001b[90m [336ed68f] \u001b[39m\u001b[92m+ CSV v0.10.4\u001b[39m\n",
      "\u001b[32m\u001b[1m    Updating\u001b[22m\u001b[39m `C:\\Users\\Kenia\\.julia\\environments\\v1.7\\Manifest.toml`\n",
      " \u001b[90m [336ed68f] \u001b[39m\u001b[92m+ CSV v0.10.4\u001b[39m\n",
      " \u001b[90m [ea10d353] \u001b[39m\u001b[92m+ WeakRefStrings v1.4.2\u001b[39m\n",
      "\u001b[32m\u001b[1mPrecompiling\u001b[22m\u001b[39m project...\n",
      "\u001b[32m  ✓ \u001b[39m\u001b[90mWeakRefStrings\u001b[39m\n",
      "\u001b[32m  ✓ \u001b[39mCSV\n",
      "  2 dependencies successfully precompiled in 12 seconds (102 already precompiled)\n",
      "\u001b[32m\u001b[1m   Resolving\u001b[22m\u001b[39m package versions...\n",
      "\u001b[32m\u001b[1m   Installed\u001b[22m\u001b[39m Libmount_jll ────────────── v2.35.0+0\n",
      "\u001b[32m\u001b[1m   Installed\u001b[22m\u001b[39m Fontconfig_jll ──────────── v2.13.93+0\n",
      "\u001b[32m\u001b[1m   Installed\u001b[22m\u001b[39m Xorg_libpthread_stubs_jll ─ v0.1.0+3\n",
      "\u001b[32m\u001b[1m   Installed\u001b[22m\u001b[39m JpegTurbo_jll ───────────── v2.1.2+0\n",
      "\u001b[32m\u001b[1m   Installed\u001b[22m\u001b[39m Cairo_jll ───────────────── v1.16.1+1\n",
      "\u001b[32m\u001b[1m   Installed\u001b[22m\u001b[39m LERC_jll ────────────────── v3.0.0+1\n",
      "\u001b[32m\u001b[1m   Installed\u001b[22m\u001b[39m NearestNeighbors ────────── v0.4.10\n",
      "\u001b[32m\u001b[1m   Installed\u001b[22m\u001b[39m Libgpg_error_jll ────────── v1.42.0+0\n",
      "\u001b[32m\u001b[1m   Installed\u001b[22m\u001b[39m StaticArrays ────────────── v1.4.4\n",
      "\u001b[32m\u001b[1m   Installed\u001b[22m\u001b[39m Xorg_libXau_jll ─────────── v1.0.9+4\n",
      "\u001b[32m\u001b[1m   Installed\u001b[22m\u001b[39m CausalInference ─────────── v0.8.0\n",
      "\u001b[32m\u001b[1m   Installed\u001b[22m\u001b[39m MetaGraphs ──────────────── v0.7.1\n",
      "\u001b[32m\u001b[1m   Installed\u001b[22m\u001b[39m Distances ───────────────── v0.10.7\n",
      "\u001b[32m\u001b[1m   Installed\u001b[22m\u001b[39m TikzGraphs ──────────────── v1.3.0\n",
      "\u001b[32m\u001b[1m   Installed\u001b[22m\u001b[39m LZO_jll ─────────────────── v2.10.1+0\n",
      "\u001b[32m\u001b[1m   Installed\u001b[22m\u001b[39m JLD2 ────────────────────── v0.4.22\n",
      "\u001b[32m\u001b[1m   Installed\u001b[22m\u001b[39m FreeType2_jll ───────────── v2.10.4+0\n",
      "\u001b[32m\u001b[1m   Installed\u001b[22m\u001b[39m Xorg_libxcb_jll ─────────── v1.13.0+3\n",
      "\u001b[32m\u001b[1m   Installed\u001b[22m\u001b[39m ArnoldiMethod ───────────── v0.2.0\n",
      "\u001b[32m\u001b[1m   Installed\u001b[22m\u001b[39m libpng_jll ──────────────── v1.6.38+0\n",
      "\u001b[32m\u001b[1m   Installed\u001b[22m\u001b[39m Xorg_libXext_jll ────────── v1.3.4+4\n",
      "\u001b[32m\u001b[1m   Installed\u001b[22m\u001b[39m Zstd_jll ────────────────── v1.5.2+0\n",
      "\u001b[32m\u001b[1m   Installed\u001b[22m\u001b[39m Expat_jll ───────────────── v2.4.8+0\n",
      "\u001b[32m\u001b[1m   Installed\u001b[22m\u001b[39m Inflate ─────────────────── v0.1.2\n",
      "\u001b[32m\u001b[1m   Installed\u001b[22m\u001b[39m Libtiff_jll ─────────────── v4.3.0+1\n",
      "\u001b[32m\u001b[1m   Installed\u001b[22m\u001b[39m Poppler_jll ─────────────── v0.87.0+2\n",
      "\u001b[32m\u001b[1m   Installed\u001b[22m\u001b[39m Libffi_jll ──────────────── v3.2.2+1\n",
      "\u001b[32m\u001b[1m   Installed\u001b[22m\u001b[39m Xorg_libXrender_jll ─────── v0.9.10+4\n",
      "\u001b[32m\u001b[1m   Installed\u001b[22m\u001b[39m XSLT_jll ────────────────── v1.1.34+0\n",
      "\u001b[32m\u001b[1m   Installed\u001b[22m\u001b[39m Graphs ──────────────────── v1.6.0\n",
      "\u001b[32m\u001b[1m   Installed\u001b[22m\u001b[39m PCRE_jll ────────────────── v8.44.0+0\n",
      "\u001b[32m\u001b[1m   Installed\u001b[22m\u001b[39m Tectonic ────────────────── v0.8.0\n",
      "\u001b[32m\u001b[1m   Installed\u001b[22m\u001b[39m Libuuid_jll ─────────────── v2.36.0+0\n",
      "\u001b[32m\u001b[1m   Installed\u001b[22m\u001b[39m LittleCMS_jll ───────────── v2.12.0+0\n",
      "\u001b[32m\u001b[1m   Installed\u001b[22m\u001b[39m TikzPictures ────────────── v3.4.2\n",
      "\u001b[32m\u001b[1m   Installed\u001b[22m\u001b[39m SimpleTraits ────────────── v0.9.4\n",
      "\u001b[32m\u001b[1m   Installed\u001b[22m\u001b[39m Pixman_jll ──────────────── v0.40.1+0\n",
      "\u001b[32m\u001b[1m   Installed\u001b[22m\u001b[39m XML2_jll ────────────────── v2.9.12+0\n",
      "\u001b[32m\u001b[1m   Installed\u001b[22m\u001b[39m Gettext_jll ─────────────── v0.21.0+0\n",
      "\u001b[32m\u001b[1m   Installed\u001b[22m\u001b[39m OpenJpeg_jll ────────────── v2.4.0+0\n",
      "\u001b[32m\u001b[1m   Installed\u001b[22m\u001b[39m Libgcrypt_jll ───────────── v1.8.7+0\n",
      "\u001b[32m\u001b[1m   Installed\u001b[22m\u001b[39m Libiconv_jll ────────────── v1.16.1+1\n",
      "\u001b[32m\u001b[1m   Installed\u001b[22m\u001b[39m LaTeXStrings ────────────── v1.3.0\n",
      "\u001b[32m\u001b[1m   Installed\u001b[22m\u001b[39m Xorg_libX11_jll ─────────── v1.6.9+4\n",
      "\u001b[32m\u001b[1m   Installed\u001b[22m\u001b[39m Xorg_xtrans_jll ─────────── v1.4.0+3\n",
      "\u001b[32m\u001b[1m   Installed\u001b[22m\u001b[39m Glib_jll ────────────────── v2.68.3+2\n",
      "\u001b[32m\u001b[1m   Installed\u001b[22m\u001b[39m Xorg_libXdmcp_jll ───────── v1.1.3+4\n",
      "\u001b[32m\u001b[1m    Updating\u001b[22m\u001b[39m `C:\\Users\\Kenia\\.julia\\environments\\v1.7\\Project.toml`\n",
      " \u001b[90m [8e462317] \u001b[39m\u001b[92m+ CausalInference v0.8.0\u001b[39m\n",
      "\u001b[32m\u001b[1m    Updating\u001b[22m\u001b[39m `C:\\Users\\Kenia\\.julia\\environments\\v1.7\\Manifest.toml`\n",
      " \u001b[90m [ec485272] \u001b[39m\u001b[92m+ ArnoldiMethod v0.2.0\u001b[39m\n",
      " \u001b[90m [8e462317] \u001b[39m\u001b[92m+ CausalInference v0.8.0\u001b[39m\n",
      " \u001b[90m [b4f34e82] \u001b[39m\u001b[92m+ Distances v0.10.7\u001b[39m\n",
      " \u001b[90m [86223c79] \u001b[39m\u001b[92m+ Graphs v1.6.0\u001b[39m\n",
      " \u001b[90m [d25df0c9] \u001b[39m\u001b[92m+ Inflate v0.1.2\u001b[39m\n",
      " \u001b[90m [033835bb] \u001b[39m\u001b[92m+ JLD2 v0.4.22\u001b[39m\n",
      " \u001b[90m [b964fa9f] \u001b[39m\u001b[92m+ LaTeXStrings v1.3.0\u001b[39m\n",
      " \u001b[90m [626554b9] \u001b[39m\u001b[92m+ MetaGraphs v0.7.1\u001b[39m\n",
      " \u001b[90m [b8a86587] \u001b[39m\u001b[92m+ NearestNeighbors v0.4.10\u001b[39m\n",
      " \u001b[90m [699a6c99] \u001b[39m\u001b[92m+ SimpleTraits v0.9.4\u001b[39m\n",
      " \u001b[90m [90137ffa] \u001b[39m\u001b[92m+ StaticArrays v1.4.4\u001b[39m\n",
      " \u001b[90m [9ac5f52a] \u001b[39m\u001b[92m+ Tectonic v0.8.0\u001b[39m\n",
      " \u001b[90m [b4f28e30] \u001b[39m\u001b[92m+ TikzGraphs v1.3.0\u001b[39m\n",
      " \u001b[90m [37f6aa50] \u001b[39m\u001b[92m+ TikzPictures v3.4.2\u001b[39m\n",
      " \u001b[90m [83423d85] \u001b[39m\u001b[92m+ Cairo_jll v1.16.1+1\u001b[39m\n",
      " \u001b[90m [2e619515] \u001b[39m\u001b[92m+ Expat_jll v2.4.8+0\u001b[39m\n",
      " \u001b[90m [a3f928ae] \u001b[39m\u001b[92m+ Fontconfig_jll v2.13.93+0\u001b[39m\n",
      " \u001b[90m [d7e528f0] \u001b[39m\u001b[92m+ FreeType2_jll v2.10.4+0\u001b[39m\n",
      " \u001b[90m [78b55507] \u001b[39m\u001b[92m+ Gettext_jll v0.21.0+0\u001b[39m\n",
      " \u001b[90m [7746bdde] \u001b[39m\u001b[92m+ Glib_jll v2.68.3+2\u001b[39m\n",
      " \u001b[90m [aacddb02] \u001b[39m\u001b[92m+ JpegTurbo_jll v2.1.2+0\u001b[39m\n",
      " \u001b[90m [88015f11] \u001b[39m\u001b[92m+ LERC_jll v3.0.0+1\u001b[39m\n",
      " \u001b[90m [dd4b983a] \u001b[39m\u001b[92m+ LZO_jll v2.10.1+0\u001b[39m\n",
      " \u001b[90m [e9f186c6] \u001b[39m\u001b[92m+ Libffi_jll v3.2.2+1\u001b[39m\n",
      " \u001b[90m [d4300ac3] \u001b[39m\u001b[92m+ Libgcrypt_jll v1.8.7+0\u001b[39m\n",
      " \u001b[90m [7add5ba3] \u001b[39m\u001b[92m+ Libgpg_error_jll v1.42.0+0\u001b[39m\n",
      " \u001b[90m [94ce4f54] \u001b[39m\u001b[92m+ Libiconv_jll v1.16.1+1\u001b[39m\n",
      " \u001b[90m [4b2f31a3] \u001b[39m\u001b[92m+ Libmount_jll v2.35.0+0\u001b[39m\n",
      " \u001b[90m [89763e89] \u001b[39m\u001b[92m+ Libtiff_jll v4.3.0+1\u001b[39m\n",
      " \u001b[90m [38a345b3] \u001b[39m\u001b[92m+ Libuuid_jll v2.36.0+0\u001b[39m\n",
      " \u001b[90m [d3a379c0] \u001b[39m\u001b[92m+ LittleCMS_jll v2.12.0+0\u001b[39m\n",
      " \u001b[90m [643b3616] \u001b[39m\u001b[92m+ OpenJpeg_jll v2.4.0+0\u001b[39m\n",
      " \u001b[90m [2f80f16e] \u001b[39m\u001b[92m+ PCRE_jll v8.44.0+0\u001b[39m\n",
      " \u001b[90m [30392449] \u001b[39m\u001b[92m+ Pixman_jll v0.40.1+0\u001b[39m\n",
      " \u001b[90m [9c32591e] \u001b[39m\u001b[92m+ Poppler_jll v0.87.0+2\u001b[39m\n",
      " \u001b[90m [02c8fc9c] \u001b[39m\u001b[92m+ XML2_jll v2.9.12+0\u001b[39m\n",
      " \u001b[90m [aed1982a] \u001b[39m\u001b[92m+ XSLT_jll v1.1.34+0\u001b[39m\n",
      " \u001b[90m [4f6342f7] \u001b[39m\u001b[92m+ Xorg_libX11_jll v1.6.9+4\u001b[39m\n",
      " \u001b[90m [0c0b7dd1] \u001b[39m\u001b[92m+ Xorg_libXau_jll v1.0.9+4\u001b[39m\n",
      " \u001b[90m [a3789734] \u001b[39m\u001b[92m+ Xorg_libXdmcp_jll v1.1.3+4\u001b[39m\n",
      " \u001b[90m [1082639a] \u001b[39m\u001b[92m+ Xorg_libXext_jll v1.3.4+4\u001b[39m\n",
      " \u001b[90m [ea2f1a96] \u001b[39m\u001b[92m+ Xorg_libXrender_jll v0.9.10+4\u001b[39m\n",
      " \u001b[90m [14d82f49] \u001b[39m\u001b[92m+ Xorg_libpthread_stubs_jll v0.1.0+3\u001b[39m\n",
      " \u001b[90m [c7cfdc94] \u001b[39m\u001b[92m+ Xorg_libxcb_jll v1.13.0+3\u001b[39m\n",
      " \u001b[90m [c5fb5394] \u001b[39m\u001b[92m+ Xorg_xtrans_jll v1.4.0+3\u001b[39m\n",
      " \u001b[90m [3161d3a3] \u001b[39m\u001b[92m+ Zstd_jll v1.5.2+0\u001b[39m\n",
      " \u001b[90m [b53b4c65] \u001b[39m\u001b[92m+ libpng_jll v1.6.38+0\u001b[39m\n",
      "\u001b[32m\u001b[1mPrecompiling\u001b[22m\u001b[39m project...\n",
      "\u001b[32m  ✓ \u001b[39m\u001b[90mLaTeXStrings\u001b[39m\n",
      "\u001b[32m  ✓ \u001b[39m\u001b[90mTectonic\u001b[39m\n",
      "\u001b[32m  ✓ \u001b[39m\u001b[90mInflate\u001b[39m\n",
      "\u001b[32m  ✓ \u001b[39m\u001b[90mDistances\u001b[39m\n",
      "\u001b[32m  ✓ \u001b[39m\u001b[90mSimpleTraits\u001b[39m\n",
      "\u001b[32m  ✓ \u001b[39m\u001b[90mJpegTurbo_jll\u001b[39m\n",
      "\u001b[32m  ✓ \u001b[39m\u001b[90mXorg_libXau_jll\u001b[39m\n",
      "\u001b[32m  ✓ \u001b[39m\u001b[90mXorg_xtrans_jll\u001b[39m\n",
      "\u001b[32m  ✓ \u001b[39m\u001b[90mXorg_libXdmcp_jll\u001b[39m\n",
      "\u001b[32m  ✓ \u001b[39m\u001b[90mStaticArrays\u001b[39m\n",
      "\u001b[32m  ✓ \u001b[39m\u001b[90mlibpng_jll\u001b[39m\n",
      "\u001b[32m  ✓ \u001b[39m\u001b[90mZstd_jll\u001b[39m\n",
      "\u001b[32m  ✓ \u001b[39m\u001b[90mLibmount_jll\u001b[39m\n",
      "\u001b[32m  ✓ \u001b[39m\u001b[90mLibffi_jll\u001b[39m\n",
      "\u001b[32m  ✓ \u001b[39m\u001b[90mPCRE_jll\u001b[39m\n",
      "\u001b[32m  ✓ \u001b[39m\u001b[90mExpat_jll\u001b[39m\n",
      "\u001b[32m  ✓ \u001b[39m\u001b[90mLibiconv_jll\u001b[39m\n",
      "\u001b[32m  ✓ \u001b[39m\u001b[90mLibgpg_error_jll\u001b[39m\n",
      "\u001b[32m  ✓ \u001b[39m\u001b[90mLZO_jll\u001b[39m\n",
      "\u001b[32m  ✓ \u001b[39m\u001b[90mJLD2\u001b[39m\n",
      "\u001b[32m  ✓ \u001b[39m\u001b[90mXorg_libpthread_stubs_jll\u001b[39m\n",
      "\u001b[32m  ✓ \u001b[39m\u001b[90mPixman_jll\u001b[39m\n",
      "\u001b[32m  ✓ \u001b[39m\u001b[90mLERC_jll\u001b[39m\n",
      "\u001b[32m  ✓ \u001b[39m\u001b[90mLibuuid_jll\u001b[39m\n",
      "\u001b[32m  ✓ \u001b[39m\u001b[90mFreeType2_jll\u001b[39m\n",
      "\u001b[32m  ✓ \u001b[39m\u001b[90mXML2_jll\u001b[39m\n",
      "\u001b[32m  ✓ \u001b[39m\u001b[90mNearestNeighbors\u001b[39m\n",
      "\u001b[32m  ✓ \u001b[39m\u001b[90mLibgcrypt_jll\u001b[39m\n",
      "\u001b[32m  ✓ \u001b[39m\u001b[90mArnoldiMethod\u001b[39m\n",
      "\u001b[32m  ✓ \u001b[39m\u001b[90mLibtiff_jll\u001b[39m\n",
      "\u001b[32m  ✓ \u001b[39m\u001b[90mFontconfig_jll\u001b[39m\n",
      "\u001b[32m  ✓ \u001b[39m\u001b[90mGettext_jll\u001b[39m\n",
      "\u001b[32m  ✓ \u001b[39m\u001b[90mXSLT_jll\u001b[39m\n",
      "\u001b[32m  ✓ \u001b[39m\u001b[90mLittleCMS_jll\u001b[39m\n",
      "\u001b[32m  ✓ \u001b[39m\u001b[90mGlib_jll\u001b[39m\n",
      "\u001b[32m  ✓ \u001b[39m\u001b[90mXorg_libxcb_jll\u001b[39m\n",
      "\u001b[32m  ✓ \u001b[39m\u001b[90mOpenJpeg_jll\u001b[39m\n",
      "\u001b[32m  ✓ \u001b[39m\u001b[90mXorg_libX11_jll\u001b[39m\n",
      "\u001b[32m  ✓ \u001b[39m\u001b[90mXorg_libXext_jll\u001b[39m\n",
      "\u001b[32m  ✓ \u001b[39m\u001b[90mXorg_libXrender_jll\u001b[39m\n",
      "\u001b[32m  ✓ \u001b[39m\u001b[90mCairo_jll\u001b[39m\n",
      "\u001b[32m  ✓ \u001b[39m\u001b[90mGraphs\u001b[39m\n",
      "\u001b[32m  ✓ \u001b[39m\u001b[90mPoppler_jll\u001b[39m\n",
      "\u001b[32m  ✓ \u001b[39m\u001b[90mTikzPictures\u001b[39m\n",
      "\u001b[32m  ✓ \u001b[39m\u001b[90mMetaGraphs\u001b[39m\n",
      "\u001b[32m  ✓ \u001b[39m\u001b[90mTikzGraphs\u001b[39m\n",
      "\u001b[32m  ✓ \u001b[39mCausalInference\n",
      "  47 dependencies successfully precompiled in 56 seconds (104 already precompiled)\n"
     ]
    }
   ],
   "source": [
    "Pkg.add(\"CSV\")"
   ]
  },
  {
   "cell_type": "code",
   "execution_count": 1,
   "id": "e2e24a19",
   "metadata": {
    "scrolled": true
   },
   "outputs": [],
   "source": [
    "using HTTP, CSV, DataFrames"
   ]
  },
  {
   "cell_type": "code",
   "execution_count": 2,
   "id": "e9c163a4",
   "metadata": {},
   "outputs": [],
   "source": [
    "#Pkg.add(\"SpecialFunctions\")\n",
    "using SpecialFunctions"
   ]
  },
  {
   "cell_type": "code",
   "execution_count": 3,
   "id": "34cf6615",
   "metadata": {},
   "outputs": [],
   "source": [
    "#Pkg.add(\"NearestNeighbors\")\n",
    "using NearestNeighbors"
   ]
  },
  {
   "cell_type": "code",
   "execution_count": 4,
   "id": "574d514a",
   "metadata": {},
   "outputs": [],
   "source": [
    "#Pkg.add(\"Distances\")\n",
    "using Distances"
   ]
  },
  {
   "cell_type": "code",
   "execution_count": 5,
   "id": "bdd7ca3a",
   "metadata": {},
   "outputs": [],
   "source": [
    "#Pkg.add(\"TikzGraphs\")\n",
    "using TikzGraphs"
   ]
  },
  {
   "cell_type": "code",
   "execution_count": 6,
   "id": "b6a79623",
   "metadata": {},
   "outputs": [],
   "source": [
    "#Pkg.add(\"MetaGraphs\")\n",
    "using MetaGraphs"
   ]
  },
  {
   "cell_type": "code",
   "execution_count": 7,
   "id": "4cfb01a5",
   "metadata": {
    "scrolled": true
   },
   "outputs": [],
   "source": [
    "#Pkg.add(\"Graphs\")\n",
    "using Graphs"
   ]
  },
  {
   "cell_type": "code",
   "execution_count": 1,
   "id": "82e1e666",
   "metadata": {
    "scrolled": true
   },
   "outputs": [
    {
     "ename": "LoadError",
     "evalue": "SystemError: opening file \"C:\\\\Users\\\\Kenia\\\\Documents\\\\Draft_kenia\\\\workgroup4\\\\CausalInference.jl\\\\CausalInference.jl\\\\src\": Permission denied",
     "output_type": "error",
     "traceback": [
      "SystemError: opening file \"C:\\\\Users\\\\Kenia\\\\Documents\\\\Draft_kenia\\\\workgroup4\\\\CausalInference.jl\\\\CausalInference.jl\\\\src\": Permission denied",
      "",
      "Stacktrace:",
      "  [1] systemerror(p::String, errno::Int32; extrainfo::Nothing)",
      "    @ Base .\\error.jl:174",
      "  [2] #systemerror#68",
      "    @ .\\error.jl:173 [inlined]",
      "  [3] systemerror",
      "    @ .\\error.jl:173 [inlined]",
      "  [4] open(fname::String; lock::Bool, read::Nothing, write::Nothing, create::Nothing, truncate::Nothing, append::Nothing)",
      "    @ Base .\\iostream.jl:293",
      "  [5] open",
      "    @ .\\iostream.jl:282 [inlined]",
      "  [6] open(f::Base.var\"#364#365\"{String}, args::String; kwargs::Base.Pairs{Symbol, Union{}, Tuple{}, NamedTuple{(), Tuple{}}})",
      "    @ Base .\\io.jl:328",
      "  [7] open",
      "    @ .\\io.jl:328 [inlined]",
      "  [8] read",
      "    @ .\\io.jl:436 [inlined]",
      "  [9] _include(mapexpr::Function, mod::Module, _path::String)",
      "    @ Base .\\loading.jl:1249",
      " [10] include(fname::String)",
      "    @ Base.MainInclude .\\client.jl:451",
      " [11] top-level scope",
      "    @ In[1]:1",
      " [12] eval",
      "    @ .\\boot.jl:373 [inlined]",
      " [13] include_string(mapexpr::typeof(REPL.softscope), mod::Module, code::String, filename::String)",
      "    @ Base .\\loading.jl:1196"
     ]
    }
   ],
   "source": [
    "include(\"CausalInference.jl/CausalInference.jl/src\")"
   ]
  },
  {
   "cell_type": "code",
   "execution_count": 24,
   "id": "209d0c55",
   "metadata": {
    "scrolled": true
   },
   "outputs": [
    {
     "data": {
      "text/plain": [
       "cpdag"
      ]
     },
     "execution_count": 24,
     "metadata": {},
     "output_type": "execute_result"
    }
   ],
   "source": [
    "include(\"CausalInference.jl/cpdag.jl\")"
   ]
  },
  {
   "cell_type": "code",
   "execution_count": 33,
   "id": "5a384e33",
   "metadata": {},
   "outputs": [
    {
     "data": {
      "text/plain": [
       "backdoor_criterion"
      ]
     },
     "execution_count": 33,
     "metadata": {},
     "output_type": "execute_result"
    }
   ],
   "source": [
    "include(\"CausalInference.jl/backdoor.jl\")"
   ]
  },
  {
   "cell_type": "code",
   "execution_count": 35,
   "id": "7a49c556",
   "metadata": {},
   "outputs": [
    {
     "data": {
      "text/plain": [
       "combinations_without"
      ]
     },
     "execution_count": 35,
     "metadata": {},
     "output_type": "execute_result"
    }
   ],
   "source": [
    "include(\"CausalInference.jl/combinations_without.jl\")"
   ]
  },
  {
   "cell_type": "code",
   "execution_count": 36,
   "id": "83676e50",
   "metadata": {},
   "outputs": [
    {
     "data": {
      "text/plain": [
       "dsep"
      ]
     },
     "execution_count": 36,
     "metadata": {},
     "output_type": "execute_result"
    }
   ],
   "source": [
    "include(\"CausalInference.jl/dsep.jl\")"
   ]
  },
  {
   "cell_type": "code",
   "execution_count": 37,
   "id": "d2d953c0",
   "metadata": {
    "scrolled": true
   },
   "outputs": [
    {
     "data": {
      "text/plain": [
       "plot_fci_graph"
      ]
     },
     "execution_count": 37,
     "metadata": {},
     "output_type": "execute_result"
    }
   ],
   "source": [
    "include(\"CausalInference.jl/fci.jl\")"
   ]
  },
  {
   "cell_type": "code",
   "execution_count": 39,
   "id": "a0ea088e",
   "metadata": {},
   "outputs": [
    {
     "data": {
      "text/plain": [
       "has_recanting_witness"
      ]
     },
     "execution_count": 39,
     "metadata": {},
     "output_type": "execute_result"
    }
   ],
   "source": [
    "include(\"CausalInference.jl/recantingwitness.jl\")"
   ]
  },
  {
   "cell_type": "code",
   "execution_count": 19,
   "id": "4bc9abd3",
   "metadata": {
    "scrolled": true
   },
   "outputs": [
    {
     "data": {
      "text/plain": [
       "randdag"
      ]
     },
     "execution_count": 19,
     "metadata": {},
     "output_type": "execute_result"
    }
   ],
   "source": [
    "include(\"CausalInference.jl/klentropy.jl\")\n",
    "#include(\"CausalInference.jl/skeleton.jl\")\n",
    "#include(\"CausalInference.jl/pc.jl\")\n",
    "include(\"CausalInference.jl/misc.jl\")"
   ]
  },
  {
   "cell_type": "code",
   "execution_count": 16,
   "id": "ca2ddc03",
   "metadata": {
    "scrolled": true
   },
   "outputs": [],
   "source": [
    "#Pkg.add(\"TikzPictures\")\n",
    "using TikzPictures"
   ]
  },
  {
   "cell_type": "code",
   "execution_count": 59,
   "id": "1b6ae9d5",
   "metadata": {},
   "outputs": [
    {
     "name": "stdout",
     "output_type": "stream",
     "text": [
      "\u001b[32m\u001b[1m      Status\u001b[22m\u001b[39m `C:\\Users\\Kenia\\.julia\\environments\\v1.7\\Project.toml`\n",
      " \u001b[90m [8e462317] \u001b[39mCausalInference v0.4.0\n"
     ]
    },
    {
     "name": "stderr",
     "output_type": "stream",
     "text": [
      "\u001b[32m\u001b[1m   Resolving\u001b[22m\u001b[39m package versions...\n",
      "\u001b[32m\u001b[1m  No Changes\u001b[22m\u001b[39m to `C:\\Users\\Kenia\\.julia\\environments\\v1.7\\Project.toml`\n",
      "\u001b[32m\u001b[1m  No Changes\u001b[22m\u001b[39m to `C:\\Users\\Kenia\\.julia\\environments\\v1.7\\Manifest.toml`\n",
      "\u001b[32m\u001b[1m   Resolving\u001b[22m\u001b[39m package versions...\n",
      "\u001b[32m\u001b[1m  No Changes\u001b[22m\u001b[39m to `C:\\Users\\Kenia\\.julia\\environments\\v1.7\\Project.toml`\n",
      "\u001b[32m\u001b[1m  No Changes\u001b[22m\u001b[39m to `C:\\Users\\Kenia\\.julia\\environments\\v1.7\\Manifest.toml`\n"
     ]
    },
    {
     "ename": "LoadError",
     "evalue": "importing CausalInference into Main conflicts with an existing identifier",
     "output_type": "error",
     "traceback": [
      "importing CausalInference into Main conflicts with an existing identifier",
      "",
      "Stacktrace:",
      " [1] eval",
      "   @ .\\boot.jl:373 [inlined]",
      " [2] include_string(mapexpr::typeof(REPL.softscope), mod::Module, code::String, filename::String)",
      "   @ Base .\\loading.jl:1196"
     ]
    }
   ],
   "source": [
    "Pkg.add(\"CausalInference\")\n",
    "Pkg.status(\"CausalInference\")\n",
    "Pkg.add(name=\"CausalInference\", version=\"0.4.0\")"
   ]
  },
  {
   "cell_type": "code",
   "execution_count": 9,
   "id": "7781272b",
   "metadata": {
    "scrolled": false
   },
   "outputs": [
    {
     "name": "stderr",
     "output_type": "stream",
     "text": [
      "WARNING: using CausalInference.CausalInference in module Main conflicts with an existing identifier.\n"
     ]
    },
    {
     "ename": "LoadError",
     "evalue": "LoadError: importing CausalInference into Main conflicts with an existing identifier\nin expression starting at C:\\Users\\Kenia\\Documents\\Draft_kenia\\workgroup4\\CausalInference.jl\\pc.jl:1",
     "output_type": "error",
     "traceback": [
      "LoadError: importing CausalInference into Main conflicts with an existing identifier\nin expression starting at C:\\Users\\Kenia\\Documents\\Draft_kenia\\workgroup4\\CausalInference.jl\\pc.jl:1",
      "",
      "Stacktrace:",
      " [1] include(fname::String)",
      "   @ Base.MainInclude .\\client.jl:451",
      " [2] top-level scope",
      "   @ In[9]:2",
      " [3] eval",
      "   @ .\\boot.jl:373 [inlined]",
      " [4] include_string(mapexpr::typeof(REPL.softscope), mod::Module, code::String, filename::String)",
      "   @ Base .\\loading.jl:1196"
     ]
    }
   ],
   "source": [
    "include(\"CausalInference.jl/plotdag.jl\")\n",
    "include(\"CausalInference.jl/pc.jl\")"
   ]
  },
  {
   "cell_type": "markdown",
   "id": "50d9c8de",
   "metadata": {},
   "source": [
    "## MODEL 1, 2 AND 3 - GOOD CONTROLS (blocking back-door path)"
   ]
  },
  {
   "cell_type": "code",
   "execution_count": 8,
   "id": "2099ab34",
   "metadata": {},
   "outputs": [
    {
     "data": {
      "text/plain": [
       "1000-element Vector{Float64}:\n",
       "  2.0274062817880507\n",
       "  1.5890133087723637\n",
       "  6.046722565060058\n",
       " -4.377157713982934\n",
       " -0.1742713108105879\n",
       " -0.1818697560414929\n",
       " -1.2435469310994287\n",
       " -0.5421489299734881\n",
       " -1.4591019100244333\n",
       " -7.551667706254681\n",
       "  5.3798643036405736\n",
       "  2.7352419524804956\n",
       "  5.862975892618834\n",
       "  ⋮\n",
       "  4.653750197233647\n",
       " -0.39018678904627196\n",
       "  0.07914922331697527\n",
       "  6.610830937160069\n",
       "  0.10439071561836524\n",
       "  3.733086909931772\n",
       "  5.408608073440192\n",
       " -1.7937272348720512\n",
       " -6.309347986849085\n",
       "  5.106262846906227\n",
       "  0.0732996537555981\n",
       "  0.07608319796413865"
      ]
     },
     "execution_count": 8,
     "metadata": {},
     "output_type": "execute_result"
    }
   ],
   "source": [
    "N = 1000 # number of data points\n",
    "\n",
    "# define simple linear model with added noise\n",
    "Z = randn(N)\n",
    "X = Z + randn(N)*0.25\n",
    "Y = X + 2*Z + randn(N)*0.25"
   ]
  },
  {
   "cell_type": "code",
   "execution_count": 10,
   "id": "66034551",
   "metadata": {
    "scrolled": true
   },
   "outputs": [
    {
     "data": {
      "text/plain": [
       "(X = [0.867004283349061, 0.4476312176070959, 1.6142403263205105, -1.4968571046394457, -0.16613660919105425, 0.13987264426031037, -0.3559822838943794, 0.0507761428303351, -0.5843184929594041, -2.372795386285115  …  -0.07439233678494145, 2.477922174042667, -0.24246817955777664, 0.9527600082579373, 1.9231044137776137, -0.5711705803698854, -1.9134044536502686, 1.601578407395358, 0.45009218519509514, -0.4845561114800121], Y = [2.0274062817880507, 1.5890133087723637, 6.046722565060058, -4.377157713982934, -0.1742713108105879, -0.1818697560414929, -1.2435469310994287, -0.5421489299734881, -1.4591019100244333, -7.551667706254681  …  0.07914922331697527, 6.610830937160069, 0.10439071561836524, 3.733086909931772, 5.408608073440192, -1.7937272348720512, -6.309347986849085, 5.106262846906227, 0.0732996537555981, 0.07608319796413865], Z = [0.7227543351984587, 0.6851875900776104, 1.9028861914982127, -1.3693928369706219, -0.19727547340198204, 0.1833879741733869, -0.4527204158140241, -0.2427009305302174, -0.3829207326386319, -2.365390631118316  …  0.2465137679989141, 2.035448097168214, 0.19253337816663743, 1.136621487227169, 1.9097610740085473, -0.5910481365372181, -2.162724316581308, 1.7961460270823923, -0.36277444533327624, 0.12961909670060925])"
      ]
     },
     "execution_count": 10,
     "metadata": {},
     "output_type": "execute_result"
    }
   ],
   "source": [
    "df = (X = X, Y= Y, Z=Z)"
   ]
  },
  {
   "cell_type": "code",
   "execution_count": 16,
   "id": "eabca84a",
   "metadata": {
    "scrolled": true
   },
   "outputs": [
    {
     "data": {
      "text/plain": [
       "plot_dag"
      ]
     },
     "execution_count": 16,
     "metadata": {},
     "output_type": "execute_result"
    }
   ],
   "source": [
    "include(\"CausalInference.jl/plotdag.jl\")"
   ]
  },
  {
   "cell_type": "code",
   "execution_count": 25,
   "id": "9ba6a7ae",
   "metadata": {},
   "outputs": [
    {
     "name": "stdout",
     "output_type": "stream",
     "text": [
      "\u001b[32m\u001b[1m      Status\u001b[22m\u001b[39m `C:\\Users\\Kenia\\.julia\\environments\\v1.7\\Project.toml`\n",
      " \u001b[90m [093fc24a] \u001b[39mLightGraphs v1.3.5\n"
     ]
    },
    {
     "name": "stderr",
     "output_type": "stream",
     "text": [
      "\u001b[32m\u001b[1m   Resolving\u001b[22m\u001b[39m package versions...\n",
      "\u001b[32m\u001b[1m  No Changes\u001b[22m\u001b[39m to `C:\\Users\\Kenia\\.julia\\environments\\v1.7\\Project.toml`\n",
      "\u001b[32m\u001b[1m  No Changes\u001b[22m\u001b[39m to `C:\\Users\\Kenia\\.julia\\environments\\v1.7\\Manifest.toml`\n",
      "\u001b[32m\u001b[1m   Resolving\u001b[22m\u001b[39m package versions...\n",
      "\u001b[32m\u001b[1m   Installed\u001b[22m\u001b[39m LightGraphs ─ v0.13.0\n",
      "\u001b[32m\u001b[1m    Updating\u001b[22m\u001b[39m `C:\\Users\\Kenia\\.julia\\environments\\v1.7\\Project.toml`\n",
      " \u001b[90m [093fc24a] \u001b[39m\u001b[95m↓ LightGraphs v1.3.5 ⇒ v0.13.0\u001b[39m\n",
      "\u001b[32m\u001b[1m    Updating\u001b[22m\u001b[39m `C:\\Users\\Kenia\\.julia\\environments\\v1.7\\Manifest.toml`\n",
      " \u001b[90m [093fc24a] \u001b[39m\u001b[95m↓ LightGraphs v1.3.5 ⇒ v0.13.0\u001b[39m\n",
      "\u001b[32m\u001b[1mPrecompiling\u001b[22m\u001b[39m project...\n",
      "\u001b[91m  ✗ \u001b[39mLightGraphs\n",
      "  0 dependencies successfully precompiled in 3 seconds (139 already precompiled, 1 skipped during auto due to previous errors)\n",
      "  \u001b[91m1\u001b[39m dependency errored. To see a full report either run `import Pkg; Pkg.precompile()` or load the package\n"
     ]
    }
   ],
   "source": [
    "Pkg.add(\"LightGraphs\")\n",
    "Pkg.status(\"LightGraphs\")\n",
    "Pkg.add(name=\"LightGraphs\", version=\"0.13.0\")"
   ]
  },
  {
   "cell_type": "code",
   "execution_count": 1,
   "id": "abd120a8",
   "metadata": {},
   "outputs": [
    {
     "name": "stderr",
     "output_type": "stream",
     "text": [
      "┌ Info: Precompiling CausalInference [8e462317-f959-576b-b3c1-403f26cec956]\n",
      "└ @ Base loading.jl:1423\n",
      "\u001b[91m\u001b[1mERROR: \u001b[22m\u001b[39mLoadError: ArgumentError: Package LightGraphs does not have IterativeEigensolvers in its dependencies:\n",
      "- If you have LightGraphs checked out for development and have\n",
      "  added IterativeEigensolvers as a dependency but haven't updated your primary\n",
      "  environment's manifest file, try `Pkg.resolve()`.\n",
      "- Otherwise you may need to report an issue with LightGraphs\n",
      "Stacktrace:\n",
      " [1] \u001b[0m\u001b[1mrequire\u001b[22m\u001b[0m\u001b[1m(\u001b[22m\u001b[90minto\u001b[39m::\u001b[0mModule, \u001b[90mmod\u001b[39m::\u001b[0mSymbol\u001b[0m\u001b[1m)\u001b[22m\n",
      "\u001b[90m   @ \u001b[39m\u001b[90mBase\u001b[39m \u001b[90m.\\\u001b[39m\u001b[90m\u001b[4mloading.jl:980\u001b[24m\u001b[39m\n",
      " [2] \u001b[0m\u001b[1minclude\u001b[22m\n",
      "\u001b[90m   @ \u001b[39m\u001b[90m.\\\u001b[39m\u001b[90m\u001b[4mBase.jl:418\u001b[24m\u001b[39m\u001b[90m [inlined]\u001b[39m\n",
      " [3] \u001b[0m\u001b[1minclude_package_for_output\u001b[22m\u001b[0m\u001b[1m(\u001b[22m\u001b[90mpkg\u001b[39m::\u001b[0mBase.PkgId, \u001b[90minput\u001b[39m::\u001b[0mString, \u001b[90mdepot_path\u001b[39m::\u001b[0mVector\u001b[90m{String}\u001b[39m, \u001b[90mdl_load_path\u001b[39m::\u001b[0mVector\u001b[90m{String}\u001b[39m, \u001b[90mload_path\u001b[39m::\u001b[0mVector\u001b[90m{String}\u001b[39m, \u001b[90mconcrete_deps\u001b[39m::\u001b[0mVector\u001b[90m{Pair{Base.PkgId, UInt64}}\u001b[39m, \u001b[90msource\u001b[39m::\u001b[0mString\u001b[0m\u001b[1m)\u001b[22m\n",
      "\u001b[90m   @ \u001b[39m\u001b[90mBase\u001b[39m \u001b[90m.\\\u001b[39m\u001b[90m\u001b[4mloading.jl:1318\u001b[24m\u001b[39m\n",
      " [4] top-level scope\n",
      "\u001b[90m   @ \u001b[39m\u001b[90m\u001b[4mnone:1\u001b[24m\u001b[39m\n",
      " [5] \u001b[0m\u001b[1meval\u001b[22m\n",
      "\u001b[90m   @ \u001b[39m\u001b[90m.\\\u001b[39m\u001b[90m\u001b[4mboot.jl:373\u001b[24m\u001b[39m\u001b[90m [inlined]\u001b[39m\n",
      " [6] \u001b[0m\u001b[1meval\u001b[22m\u001b[0m\u001b[1m(\u001b[22m\u001b[90mx\u001b[39m::\u001b[0mExpr\u001b[0m\u001b[1m)\u001b[22m\n",
      "\u001b[90m   @ \u001b[39m\u001b[90mBase.MainInclude\u001b[39m \u001b[90m.\\\u001b[39m\u001b[90m\u001b[4mclient.jl:453\u001b[24m\u001b[39m\n",
      " [7] top-level scope\n",
      "\u001b[90m   @ \u001b[39m\u001b[90m\u001b[4mnone:1\u001b[24m\u001b[39m\n",
      "in expression starting at C:\\Users\\Kenia\\.julia\\packages\\LightGraphs\\ov4bG\\src\\LightGraphs.jl:2\n",
      "\u001b[91m\u001b[1mERROR: \u001b[22m\u001b[39mLoadError: Failed to precompile LightGraphs [093fc24a-ae57-5d10-9952-331d41423f4d] to C:\\Users\\Kenia\\.julia\\compiled\\v1.7\\LightGraphs\\jl_A957.tmp.\n",
      "Stacktrace:\n",
      "  [1] \u001b[0m\u001b[1merror\u001b[22m\u001b[0m\u001b[1m(\u001b[22m\u001b[90ms\u001b[39m::\u001b[0mString\u001b[0m\u001b[1m)\u001b[22m\n",
      "\u001b[90m    @ \u001b[39m\u001b[90mBase\u001b[39m \u001b[90m.\\\u001b[39m\u001b[90m\u001b[4merror.jl:33\u001b[24m\u001b[39m\n",
      "  [2] \u001b[0m\u001b[1mcompilecache\u001b[22m\u001b[0m\u001b[1m(\u001b[22m\u001b[90mpkg\u001b[39m::\u001b[0mBase.PkgId, \u001b[90mpath\u001b[39m::\u001b[0mString, \u001b[90minternal_stderr\u001b[39m::\u001b[0mIO, \u001b[90minternal_stdout\u001b[39m::\u001b[0mIO, \u001b[90mignore_loaded_modules\u001b[39m::\u001b[0mBool\u001b[0m\u001b[1m)\u001b[22m\n",
      "\u001b[90m    @ \u001b[39m\u001b[90mBase\u001b[39m \u001b[90m.\\\u001b[39m\u001b[90m\u001b[4mloading.jl:1466\u001b[24m\u001b[39m\n",
      "  [3] \u001b[0m\u001b[1mcompilecache\u001b[22m\u001b[0m\u001b[1m(\u001b[22m\u001b[90mpkg\u001b[39m::\u001b[0mBase.PkgId, \u001b[90mpath\u001b[39m::\u001b[0mString\u001b[0m\u001b[1m)\u001b[22m\n",
      "\u001b[90m    @ \u001b[39m\u001b[90mBase\u001b[39m \u001b[90m.\\\u001b[39m\u001b[90m\u001b[4mloading.jl:1410\u001b[24m\u001b[39m\n",
      "  [4] \u001b[0m\u001b[1m_require\u001b[22m\u001b[0m\u001b[1m(\u001b[22m\u001b[90mpkg\u001b[39m::\u001b[0mBase.PkgId\u001b[0m\u001b[1m)\u001b[22m\n",
      "\u001b[90m    @ \u001b[39m\u001b[90mBase\u001b[39m \u001b[90m.\\\u001b[39m\u001b[90m\u001b[4mloading.jl:1120\u001b[24m\u001b[39m\n",
      "  [5] \u001b[0m\u001b[1mrequire\u001b[22m\u001b[0m\u001b[1m(\u001b[22m\u001b[90muuidkey\u001b[39m::\u001b[0mBase.PkgId\u001b[0m\u001b[1m)\u001b[22m\n",
      "\u001b[90m    @ \u001b[39m\u001b[90mBase\u001b[39m \u001b[90m.\\\u001b[39m\u001b[90m\u001b[4mloading.jl:1013\u001b[24m\u001b[39m\n",
      "  [6] \u001b[0m\u001b[1mrequire\u001b[22m\u001b[0m\u001b[1m(\u001b[22m\u001b[90minto\u001b[39m::\u001b[0mModule, \u001b[90mmod\u001b[39m::\u001b[0mSymbol\u001b[0m\u001b[1m)\u001b[22m\n",
      "\u001b[90m    @ \u001b[39m\u001b[90mBase\u001b[39m \u001b[90m.\\\u001b[39m\u001b[90m\u001b[4mloading.jl:997\u001b[24m\u001b[39m\n",
      "  [7] \u001b[0m\u001b[1minclude\u001b[22m\n",
      "\u001b[90m    @ \u001b[39m\u001b[90m.\\\u001b[39m\u001b[90m\u001b[4mBase.jl:418\u001b[24m\u001b[39m\u001b[90m [inlined]\u001b[39m\n",
      "  [8] \u001b[0m\u001b[1minclude_package_for_output\u001b[22m\u001b[0m\u001b[1m(\u001b[22m\u001b[90mpkg\u001b[39m::\u001b[0mBase.PkgId, \u001b[90minput\u001b[39m::\u001b[0mString, \u001b[90mdepot_path\u001b[39m::\u001b[0mVector\u001b[90m{String}\u001b[39m, \u001b[90mdl_load_path\u001b[39m::\u001b[0mVector\u001b[90m{String}\u001b[39m, \u001b[90mload_path\u001b[39m::\u001b[0mVector\u001b[90m{String}\u001b[39m, \u001b[90mconcrete_deps\u001b[39m::\u001b[0mVector\u001b[90m{Pair{Base.PkgId, UInt64}}\u001b[39m, \u001b[90msource\u001b[39m::\u001b[0mString\u001b[0m\u001b[1m)\u001b[22m\n",
      "\u001b[90m    @ \u001b[39m\u001b[90mBase\u001b[39m \u001b[90m.\\\u001b[39m\u001b[90m\u001b[4mloading.jl:1318\u001b[24m\u001b[39m\n",
      "  [9] top-level scope\n",
      "\u001b[90m    @ \u001b[39m\u001b[90m\u001b[4mnone:1\u001b[24m\u001b[39m\n",
      " [10] \u001b[0m\u001b[1meval\u001b[22m\n",
      "\u001b[90m    @ \u001b[39m\u001b[90m.\\\u001b[39m\u001b[90m\u001b[4mboot.jl:373\u001b[24m\u001b[39m\u001b[90m [inlined]\u001b[39m\n",
      " [11] \u001b[0m\u001b[1meval\u001b[22m\u001b[0m\u001b[1m(\u001b[22m\u001b[90mx\u001b[39m::\u001b[0mExpr\u001b[0m\u001b[1m)\u001b[22m\n",
      "\u001b[90m    @ \u001b[39m\u001b[90mBase.MainInclude\u001b[39m \u001b[90m.\\\u001b[39m\u001b[90m\u001b[4mclient.jl:453\u001b[24m\u001b[39m\n",
      " [12] top-level scope\n",
      "\u001b[90m    @ \u001b[39m\u001b[90m\u001b[4mnone:1\u001b[24m\u001b[39m\n",
      "in expression starting at C:\\Users\\Kenia\\.julia\\packages\\CausalInference\\xiGCD\\src\\CausalInference.jl:1\n"
     ]
    },
    {
     "ename": "LoadError",
     "evalue": "LoadError: Failed to precompile CausalInference [8e462317-f959-576b-b3c1-403f26cec956] to C:\\Users\\Kenia\\.julia\\compiled\\v1.7\\CausalInference\\jl_A6A7.tmp.\nin expression starting at C:\\Users\\Kenia\\Documents\\Draft_kenia\\workgroup4\\CausalInference.jl\\dsep.jl:1\nin expression starting at C:\\Users\\Kenia\\Documents\\Draft_kenia\\workgroup4\\CausalInference.jl\\CausalInference.jl:1",
     "output_type": "error",
     "traceback": [
      "LoadError: Failed to precompile CausalInference [8e462317-f959-576b-b3c1-403f26cec956] to C:\\Users\\Kenia\\.julia\\compiled\\v1.7\\CausalInference\\jl_A6A7.tmp.\nin expression starting at C:\\Users\\Kenia\\Documents\\Draft_kenia\\workgroup4\\CausalInference.jl\\dsep.jl:1\nin expression starting at C:\\Users\\Kenia\\Documents\\Draft_kenia\\workgroup4\\CausalInference.jl\\CausalInference.jl:1",
      "",
      "Stacktrace:",
      "  [1] error(s::String)",
      "    @ Base .\\error.jl:33",
      "  [2] compilecache(pkg::Base.PkgId, path::String, internal_stderr::IO, internal_stdout::IO, ignore_loaded_modules::Bool)",
      "    @ Base .\\loading.jl:1466",
      "  [3] compilecache(pkg::Base.PkgId, path::String)",
      "    @ Base .\\loading.jl:1410",
      "  [4] _require(pkg::Base.PkgId)",
      "    @ Base .\\loading.jl:1120",
      "  [5] require(uuidkey::Base.PkgId)",
      "    @ Base .\\loading.jl:1013",
      "  [6] require(into::Module, mod::Symbol)",
      "    @ Base .\\loading.jl:997",
      "  [7] include(mod::Module, _path::String)",
      "    @ Base .\\Base.jl:418",
      "  [8] include(x::String)",
      "    @ Main.CausalInference C:\\Users\\Kenia\\Documents\\Draft_kenia\\workgroup4\\CausalInference.jl\\CausalInference.jl:1",
      "  [9] top-level scope",
      "    @ C:\\Users\\Kenia\\Documents\\Draft_kenia\\workgroup4\\CausalInference.jl\\CausalInference.jl:24",
      " [10] include(fname::String)",
      "    @ Base.MainInclude .\\client.jl:451",
      " [11] top-level scope",
      "    @ In[1]:1",
      " [12] eval",
      "    @ .\\boot.jl:373 [inlined]",
      " [13] include_string(mapexpr::typeof(REPL.softscope), mod::Module, code::String, filename::String)",
      "    @ Base .\\loading.jl:1196"
     ]
    }
   ],
   "source": [
    "include(\"CausalInference.jl/CausalInference.jl\")"
   ]
  },
  {
   "cell_type": "code",
   "execution_count": 19,
   "id": "ed15ef99",
   "metadata": {
    "scrolled": true
   },
   "outputs": [
    {
     "ename": "LoadError",
     "evalue": "MethodError: no method matching complete_graph(::NamedTuple{(:x, :v, :w, :z, :s), NTuple{5, Vector{Float64}}})\n\u001b[0mClosest candidates are:\n\u001b[0m  complete_graph(\u001b[91m::T\u001b[39m) where T<:Integer at C:\\Users\\Kenia\\.julia\\packages\\LightGraphs\\IgJif\\src\\SimpleGraphs\\generators\\staticgraphs.jl:19",
     "output_type": "error",
     "traceback": [
      "MethodError: no method matching complete_graph(::NamedTuple{(:x, :v, :w, :z, :s), NTuple{5, Vector{Float64}}})\n\u001b[0mClosest candidates are:\n\u001b[0m  complete_graph(\u001b[91m::T\u001b[39m) where T<:Integer at C:\\Users\\Kenia\\.julia\\packages\\LightGraphs\\IgJif\\src\\SimpleGraphs\\generators\\staticgraphs.jl:19",
      "",
      "Stacktrace:",
      " [1] CompleteGraph(args::NamedTuple{(:x, :v, :w, :z, :s), NTuple{5, Vector{Float64}}})",
      "   @ LightGraphs.SimpleGraphs .\\deprecated.jl:48",
      " [2] skeleton(n::NamedTuple{(:x, :v, :w, :z, :s), NTuple{5, Vector{Float64}}}, I::Float64, par::Function)",
      "   @ CausalInference C:\\Users\\Kenia\\.julia\\packages\\CausalInference\\xiGCD\\src\\skeleton.jl:26",
      " [3] pcalg(n::NamedTuple{(:x, :v, :w, :z, :s), NTuple{5, Vector{Float64}}}, I::Float64, par::Function)",
      "   @ CausalInference C:\\Users\\Kenia\\.julia\\packages\\CausalInference\\xiGCD\\src\\pc.jl:120",
      " [4] top-level scope",
      "   @ In[19]:1",
      " [5] eval",
      "   @ .\\boot.jl:373 [inlined]",
      " [6] include_string(mapexpr::typeof(REPL.softscope), mod::Module, code::String, filename::String)",
      "   @ Base .\\loading.jl:1196"
     ]
    }
   ],
   "source": [
    "plot_pc_dag(pcalg(df, 0.01, gausscitest), [String(k) for k in keys(df)])"
   ]
  },
  {
   "cell_type": "code",
   "execution_count": 2,
   "id": "d460d41b",
   "metadata": {},
   "outputs": [
    {
     "ename": "LoadError",
     "evalue": "UndefVarError: df not defined",
     "output_type": "error",
     "traceback": [
      "UndefVarError: df not defined",
      "",
      "Stacktrace:",
      " [1] top-level scope",
      "   @ In[2]:1",
      " [2] eval",
      "   @ .\\boot.jl:373 [inlined]",
      " [3] include_string(mapexpr::typeof(REPL.softscope), mod::Module, code::String, filename::String)",
      "   @ Base .\\loading.jl:1196"
     ]
    }
   ],
   "source": [
    "tp = plot_pc_dag(est_g, [String(k) for k in keys(df)])\n"
   ]
  }
 ],
 "metadata": {
  "kernelspec": {
   "display_name": "Julia 1.7.2",
   "language": "julia",
   "name": "julia-1.7"
  },
  "language_info": {
   "file_extension": ".jl",
   "mimetype": "application/julia",
   "name": "julia",
   "version": "1.7.2"
  }
 },
 "nbformat": 4,
 "nbformat_minor": 5
}
