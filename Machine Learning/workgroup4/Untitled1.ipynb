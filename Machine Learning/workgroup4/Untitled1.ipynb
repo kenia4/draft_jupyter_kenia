{
 "cells": [
  {
   "cell_type": "code",
   "execution_count": 1,
   "id": "0917e87a",
   "metadata": {},
   "outputs": [],
   "source": [
    "using SpecialFunctions\n",
    "using HTTP, CSV, DataFrames\n"
   ]
  },
  {
   "cell_type": "code",
   "execution_count": 64,
   "id": "a7ded4e9",
   "metadata": {},
   "outputs": [
    {
     "ename": "LoadError",
     "evalue": "DimensionMismatch(\"dimensions must match: a has dims (Base.OneTo(18),), b has dims (Base.OneTo(20),), mismatch at 1\")",
     "output_type": "error",
     "traceback": [
      "DimensionMismatch(\"dimensions must match: a has dims (Base.OneTo(18),), b has dims (Base.OneTo(20),), mismatch at 1\")",
      "",
      "Stacktrace:",
      " [1] promote_shape",
      "   @ .\\indices.jl:178 [inlined]",
      " [2] promote_shape",
      "   @ .\\indices.jl:169 [inlined]",
      " [3] +(A::Vector{Int64}, Bs::Vector{Int64})",
      "   @ Base .\\arraymath.jl:45",
      " [4] top-level scope",
      "   @ In[64]:8",
      " [5] eval",
      "   @ .\\boot.jl:373 [inlined]",
      " [6] include_string(mapexpr::typeof(REPL.softscope), mod::Module, code::String, filename::String)",
      "   @ Base .\\loading.jl:1196"
     ]
    }
   ],
   "source": [
    "# Generate some sample data to use with the PC algorithm\n",
    "\n",
    "N = 1000 # number of data points\n",
    "\n",
    "# define simple linear model with added noise\n",
    "Z = randn(N)\n",
    "#X = 2*Z + randn(N)*0.25\n",
    "#Y = X + 0.1*Z + randn(N)*0.25\n",
    "\n",
    "#df = [X,Y,Z]\n",
    "#typeof(df)\n",
    "#df"
   ]
  },
  {
   "cell_type": "code",
   "execution_count": 33,
   "id": "cf02ead1",
   "metadata": {},
   "outputs": [
    {
     "name": "stdout",
     "output_type": "stream",
     "text": [
      "\u001b[32m\u001b[1m      Status\u001b[22m\u001b[39m `C:\\Users\\Kenia\\.julia\\environments\\v1.7\\Project.toml`\n",
      " \u001b[90m [86223c79] \u001b[39mGraphs v1.6.0\n"
     ]
    },
    {
     "name": "stderr",
     "output_type": "stream",
     "text": [
      "\u001b[32m\u001b[1m   Resolving\u001b[22m\u001b[39m package versions...\n",
      "\u001b[32m\u001b[1m   Installed\u001b[22m\u001b[39m MetaGraphs ───────────── v0.6.8\n",
      "\u001b[32m\u001b[1m   Installed\u001b[22m\u001b[39m StatsFuns ────────────── v0.9.7\n",
      "\u001b[32m\u001b[1m   Installed\u001b[22m\u001b[39m OffsetArrays ─────────── v1.11.0\n",
      "\u001b[32m\u001b[1m   Installed\u001b[22m\u001b[39m Polynomials ──────────── v1.2.1\n",
      "\u001b[32m\u001b[1m   Installed\u001b[22m\u001b[39m DSP ──────────────────── v0.6.10\n",
      "\u001b[32m\u001b[1m   Installed\u001b[22m\u001b[39m DataFrames ───────────── v0.21.8\n",
      "\u001b[32m\u001b[1m   Installed\u001b[22m\u001b[39m StructuralCausalModels ─ v1.0.8\n",
      "\u001b[32m\u001b[1m   Installed\u001b[22m\u001b[39m SpecialFunctions ─────── v1.8.4\n",
      "\u001b[32m\u001b[1m   Installed\u001b[22m\u001b[39m Compat ───────────────── v2.2.1\n",
      "\u001b[32m\u001b[1m   Installed\u001b[22m\u001b[39m Lasso ────────────────── v0.6.1\n",
      "\u001b[32m\u001b[1m   Installed\u001b[22m\u001b[39m CausalInference ──────── v0.7.0\n",
      "\u001b[32m\u001b[1m   Installed\u001b[22m\u001b[39m Intervals ────────────── v1.5.0\n",
      "\u001b[32m\u001b[1m   Installed\u001b[22m\u001b[39m TikzGraphs ───────────── v1.2.0\n",
      "\u001b[32m\u001b[1m   Installed\u001b[22m\u001b[39m StructTypes ──────────── v1.8.1\n",
      "\u001b[32m\u001b[1m   Installed\u001b[22m\u001b[39m Graphs ───────────────── v0.10.0\n",
      "\u001b[32m\u001b[1m   Installed\u001b[22m\u001b[39m Parsers ──────────────── v1.1.2\n",
      "\u001b[32m\u001b[1m   Installed\u001b[22m\u001b[39m CategoricalArrays ────── v0.8.3\n",
      "\u001b[32m\u001b[1m   Installed\u001b[22m\u001b[39m PooledArrays ─────────── v0.5.3\n",
      "\u001b[32m\u001b[1m   Installed\u001b[22m\u001b[39m Mocking ──────────────── v0.7.2\n",
      "\u001b[32m\u001b[1m   Installed\u001b[22m\u001b[39m TimeZones ────────────── v1.5.9\n",
      "\u001b[32m\u001b[1m   Installed\u001b[22m\u001b[39m FillArrays ───────────── v0.11.9\n",
      "\u001b[32m\u001b[1m   Installed\u001b[22m\u001b[39m FilePathsBase ────────── v0.9.16\n",
      "\u001b[32m\u001b[1m   Installed\u001b[22m\u001b[39m Distributions ────────── v0.24.18\n",
      "\u001b[32m\u001b[1m   Installed\u001b[22m\u001b[39m CSV ──────────────────── v0.8.5\n",
      "\u001b[32m\u001b[1m    Updating\u001b[22m\u001b[39m `C:\\Users\\Kenia\\.julia\\environments\\v1.7\\Project.toml`\n",
      " \u001b[90m [336ed68f] \u001b[39m\u001b[95m↓ CSV v0.10.4 ⇒ v0.8.5\u001b[39m\n",
      " \u001b[90m [324d7699] \u001b[39m\u001b[95m↓ CategoricalArrays v0.10.5 ⇒ v0.8.3\u001b[39m\n",
      " \u001b[90m [8e462317] \u001b[39m\u001b[95m↓ CausalInference v0.8.0 ⇒ v0.7.0\u001b[39m\n",
      " \u001b[90m [a93c6f00] \u001b[39m\u001b[95m↓ DataFrames v1.3.4 ⇒ v0.21.8\u001b[39m\n",
      " \u001b[90m [864edb3b] \u001b[39m\u001b[95m↓ DataStructures v0.18.12 ⇒ v0.17.20\u001b[39m\n",
      " \u001b[90m [31c24e10] \u001b[39m\u001b[95m↓ Distributions v0.25.58 ⇒ v0.24.18\u001b[39m\n",
      " \u001b[90m [86223c79] \u001b[39m\u001b[95m↓ Graphs v1.6.0 ⇒ v0.10.0\u001b[39m\n",
      " \u001b[90m [b4fcebef] \u001b[39m\u001b[95m↓ Lasso v0.6.3 ⇒ v0.6.1\u001b[39m\n",
      " \u001b[90m [626554b9] \u001b[39m\u001b[95m↓ MetaGraphs v0.7.1 ⇒ v0.6.8\u001b[39m\n",
      " \u001b[90m [86f7a689] \u001b[39m\u001b[95m↓ NamedArrays v0.9.6 ⇒ v0.9.4\u001b[39m\n",
      " \u001b[90m [189a3867] \u001b[39m\u001b[95m↓ Reexport v1.2.2 ⇒ v0.2.0\u001b[39m\n",
      " \u001b[90m [276daf66] \u001b[39m\u001b[95m↓ SpecialFunctions v2.1.4 ⇒ v1.8.4\u001b[39m\n",
      " \u001b[90m [a41e6734] \u001b[39m\u001b[95m↓ StructuralCausalModels v1.3.1 ⇒ v1.0.8\u001b[39m\n",
      " \u001b[90m [b4f28e30] \u001b[39m\u001b[95m↓ TikzGraphs v1.3.0 ⇒ v1.2.0\u001b[39m\n",
      "\u001b[32m\u001b[1m    Updating\u001b[22m\u001b[39m `C:\\Users\\Kenia\\.julia\\environments\\v1.7\\Manifest.toml`\n",
      " \u001b[90m [336ed68f] \u001b[39m\u001b[95m↓ CSV v0.10.4 ⇒ v0.8.5\u001b[39m\n",
      " \u001b[90m [324d7699] \u001b[39m\u001b[95m↓ CategoricalArrays v0.10.5 ⇒ v0.8.3\u001b[39m\n",
      " \u001b[90m [8e462317] \u001b[39m\u001b[95m↓ CausalInference v0.8.0 ⇒ v0.7.0\u001b[39m\n",
      " \u001b[90m [34da2185] \u001b[39m\u001b[95m↓ Compat v3.43.0 ⇒ v2.2.1\u001b[39m\n",
      " \u001b[90m [717857b8] \u001b[39m\u001b[95m↓ DSP v0.7.5 ⇒ v0.6.10\u001b[39m\n",
      " \u001b[90m [a93c6f00] \u001b[39m\u001b[95m↓ DataFrames v1.3.4 ⇒ v0.21.8\u001b[39m\n",
      " \u001b[90m [864edb3b] \u001b[39m\u001b[95m↓ DataStructures v0.18.12 ⇒ v0.17.20\u001b[39m\n",
      " \u001b[90m [b429d917] \u001b[39m\u001b[91m- DensityInterface v0.4.0\u001b[39m\n",
      " \u001b[90m [31c24e10] \u001b[39m\u001b[95m↓ Distributions v0.25.58 ⇒ v0.24.18\u001b[39m\n",
      " \u001b[90m [48062228] \u001b[39m\u001b[95m↓ FilePathsBase v0.9.18 ⇒ v0.9.16\u001b[39m\n",
      " \u001b[90m [1a297f60] \u001b[39m\u001b[95m↓ FillArrays v0.13.2 ⇒ v0.11.9\u001b[39m\n",
      " \u001b[90m [86223c79] \u001b[39m\u001b[95m↓ Graphs v1.6.0 ⇒ v0.10.0\u001b[39m\n",
      " \u001b[90m [842dd82b] \u001b[39m\u001b[91m- InlineStrings v1.1.2\u001b[39m\n",
      " \u001b[90m [d8418881] \u001b[39m\u001b[92m+ Intervals v1.5.0\u001b[39m\n",
      " \u001b[90m [033835bb] \u001b[39m\u001b[95m↓ JLD2 v0.4.22 ⇒ v0.4.3\u001b[39m\n",
      " \u001b[90m [b4fcebef] \u001b[39m\u001b[95m↓ Lasso v0.6.3 ⇒ v0.6.1\u001b[39m\n",
      " \u001b[90m [f0e99cf1] \u001b[39m\u001b[95m↓ MLBase v0.9.0 ⇒ v0.8.0\u001b[39m\n",
      " \u001b[90m [626554b9] \u001b[39m\u001b[95m↓ MetaGraphs v0.7.1 ⇒ v0.6.8\u001b[39m\n",
      " \u001b[90m [e1d29d7a] \u001b[39m\u001b[95m↓ Missings v1.0.2 ⇒ v0.4.5\u001b[39m\n",
      " \u001b[90m [78c3b35d] \u001b[39m\u001b[95m↓ Mocking v0.7.3 ⇒ v0.7.2\u001b[39m\n",
      " \u001b[90m [d8a4904e] \u001b[39m\u001b[91m- MutableArithmetics v1.0.0\u001b[39m\n",
      " \u001b[90m [86f7a689] \u001b[39m\u001b[95m↓ NamedArrays v0.9.6 ⇒ v0.9.4\u001b[39m\n",
      " \u001b[90m [6fe1bfb0] \u001b[39m\u001b[92m+ OffsetArrays v1.11.0\u001b[39m\n",
      " \u001b[90m [69de0a69] \u001b[39m\u001b[95m↓ Parsers v2.3.1 ⇒ v1.1.2\u001b[39m\n",
      " \u001b[90m [f27b6e38] \u001b[39m\u001b[95m↓ Polynomials v3.0.0 ⇒ v1.2.1\u001b[39m\n",
      " \u001b[90m [2dfb63ee] \u001b[39m\u001b[95m↓ PooledArrays v1.4.2 ⇒ v0.5.3\u001b[39m\n",
      " \u001b[90m [189a3867] \u001b[39m\u001b[95m↓ Reexport v1.2.2 ⇒ v0.2.0\u001b[39m\n",
      " \u001b[90m [a2af1166] \u001b[39m\u001b[95m↓ SortingAlgorithms v1.0.1 ⇒ v0.3.1\u001b[39m\n",
      " \u001b[90m [276daf66] \u001b[39m\u001b[95m↓ SpecialFunctions v2.1.4 ⇒ v1.8.4\u001b[39m\n",
      " \u001b[90m [4c63d2b9] \u001b[39m\u001b[95m↓ StatsFuns v0.9.18 ⇒ v0.9.7\u001b[39m\n",
      " \u001b[90m [856f2bd8] \u001b[39m\u001b[92m+ StructTypes v1.8.1\u001b[39m\n",
      " \u001b[90m [a41e6734] \u001b[39m\u001b[95m↓ StructuralCausalModels v1.3.1 ⇒ v1.0.8\u001b[39m\n",
      " \u001b[90m [b4f28e30] \u001b[39m\u001b[95m↓ TikzGraphs v1.3.0 ⇒ v1.2.0\u001b[39m\n",
      " \u001b[90m [f269a46b] \u001b[39m\u001b[95m↓ TimeZones v1.7.3 ⇒ v1.5.9\u001b[39m\n",
      " \u001b[90m [ea10d353] \u001b[39m\u001b[91m- WeakRefStrings v1.4.2\u001b[39m\n",
      "\u001b[32m\u001b[1m    Building\u001b[22m\u001b[39m TimeZones → `C:\\Users\\Kenia\\.julia\\scratchspaces\\44cfe95a-1eb2-52ea-b672-e2afdf69b78f\\a5688ffdbd849a98503c6650effe79fe89a41252\\build.log`\n",
      "\u001b[32m\u001b[1mPrecompiling\u001b[22m\u001b[39m project...\n",
      "\u001b[33m  ✓ \u001b[39m\u001b[90mCompat\u001b[39m\n",
      "\u001b[32m  ✓ \u001b[39m\u001b[90mStructTypes\u001b[39m\n",
      "\u001b[33m  ✓ \u001b[39m\u001b[90mFillArrays\u001b[39m\n",
      "\u001b[33m  ✓ \u001b[39mReexport\n",
      "\u001b[33m  ✓ \u001b[39m\u001b[90mFilePathsBase\u001b[39m\n",
      "\u001b[33m  ✓ \u001b[39m\u001b[90mMissings\u001b[39m\n",
      "\u001b[32m  ✓ \u001b[39m\u001b[90mOffsetArrays\u001b[39m\n",
      "\u001b[33m  ✓ \u001b[39m\u001b[90mParsers\u001b[39m\n",
      "\u001b[33m  ✓ \u001b[39m\u001b[90mPooledArrays\u001b[39m\n",
      "\u001b[33m  ✓ \u001b[39mDataStructures\n",
      "\u001b[33m  ✓ \u001b[39m\u001b[90mChainRulesCore\u001b[39m\n",
      "\u001b[32m  ✓ \u001b[39m\u001b[90mIntervals\u001b[39m\n",
      "\u001b[32m  ✓ \u001b[39m\u001b[90mTableTraitsUtils\u001b[39m\n",
      "\u001b[32m  ✓ \u001b[39mFilePaths\n",
      "\u001b[33m  ✓ \u001b[39m\u001b[90mJSON\u001b[39m\n",
      "\u001b[33m  ✓ \u001b[39mPrettyTables\n",
      "\u001b[33m  ✓ \u001b[39m\u001b[90mSortingAlgorithms\u001b[39m\n",
      "\u001b[32m  ✓ \u001b[39mNamedArrays\n",
      "\u001b[33m  ✓ \u001b[39m\u001b[90mQuadGK\u001b[39m\n",
      "\u001b[33m  ✓ \u001b[39mGraphs\n",
      "\u001b[33m  ✓ \u001b[39mCSV\n",
      "\u001b[33m  ✓ \u001b[39m\u001b[90mChangesOfVariables\u001b[39m\n",
      "\u001b[32m  ✓ \u001b[39m\u001b[90mAbstractFFTs\u001b[39m\n",
      "\u001b[33m  ✓ \u001b[39m\u001b[90mJLD2\u001b[39m\n",
      "\u001b[33m  ✓ \u001b[39m\u001b[90mConda\u001b[39m\n",
      "\u001b[32m  ✓ \u001b[39m\u001b[90mPolynomials\u001b[39m\n",
      "\u001b[32m  ✓ \u001b[39mLightGraphs\n",
      "\u001b[32m  ✓ \u001b[39m\u001b[90mTableShowUtils\u001b[39m\n",
      "\u001b[32m  ✓ \u001b[39mCategoricalArrays\n",
      "\u001b[33m  ✓ \u001b[39m\u001b[90mLogExpFunctions\u001b[39m\n",
      "\u001b[33m  ✓ \u001b[39mIJulia\n",
      "\u001b[33m  ✓ \u001b[39mTikzGraphs\n",
      "\u001b[32m  ✓ \u001b[39mDataTables\n",
      "\u001b[33m  ✓ \u001b[39mMetaGraphs\n",
      "\u001b[32m  ✓ \u001b[39m\u001b[90mFFTW\u001b[39m\n",
      "\u001b[32m  ✓ \u001b[39mFreqTables\n",
      "\u001b[33m  ✓ \u001b[39mStatsBase\n",
      "\u001b[33m  ✓ \u001b[39mDataFrames\n",
      "\u001b[32m  ✓ \u001b[39m\u001b[90mMLBase\u001b[39m\n",
      "\u001b[33m  ✓ \u001b[39mSpecialFunctions\n",
      "\u001b[32m  ✓ \u001b[39mRData\n",
      "\u001b[33m  ✓ \u001b[39m\u001b[90mStatsFuns\u001b[39m\n",
      "\u001b[32m  ✓ \u001b[39mStatsModels\n",
      "\u001b[32m  ✓ \u001b[39m\u001b[90mDSP\u001b[39m\n",
      "\u001b[33m  ✓ \u001b[39mDistributions\n",
      "\u001b[32m  ✓ \u001b[39mGLM\n",
      "\u001b[33m  ✓ \u001b[39mCausalInference\n",
      "\u001b[32m  ✓ \u001b[39mStructuralCausalModels\n",
      "\u001b[32m  ✓ \u001b[39mLasso\n",
      "  49 dependencies successfully precompiled in 116 seconds (103 already precompiled)\n",
      "  \u001b[33m28\u001b[39m dependencies precompiled but different versions are currently loaded. Restart julia to access the new versions\n"
     ]
    }
   ],
   "source": [
    "Pkg.status(\"Graphs\")\n",
    "Pkg.add(name=\"Graphs\", version=\"0.10.0\")"
   ]
  },
  {
   "cell_type": "code",
   "execution_count": 5,
   "id": "19a866a0",
   "metadata": {
    "scrolled": true
   },
   "outputs": [
    {
     "name": "stderr",
     "output_type": "stream",
     "text": [
      "WARNING: replacing module CausalInference.\n"
     ]
    },
    {
     "data": {
      "text/plain": [
       "Main.CausalInference"
      ]
     },
     "execution_count": 5,
     "metadata": {},
     "output_type": "execute_result"
    }
   ],
   "source": [
    "include(\"CausalInference.jl/CausalInference.jl/src/CausalInference.jl\")"
   ]
  },
  {
   "cell_type": "code",
   "execution_count": 34,
   "id": "9f501392",
   "metadata": {},
   "outputs": [
    {
     "ename": "LoadError",
     "evalue": "MethodError: no method matching complete_graph(::Vector{Vector{Float64}})\n\u001b[0mClosest candidates are:\n\u001b[0m  complete_graph(\u001b[91m::T\u001b[39m) where T<:Integer at C:\\Users\\Kenia\\.julia\\packages\\Graphs\\pxGmw\\src\\SimpleGraphs\\generators\\staticgraphs.jl:19",
     "output_type": "error",
     "traceback": [
      "MethodError: no method matching complete_graph(::Vector{Vector{Float64}})\n\u001b[0mClosest candidates are:\n\u001b[0m  complete_graph(\u001b[91m::T\u001b[39m) where T<:Integer at C:\\Users\\Kenia\\.julia\\packages\\Graphs\\pxGmw\\src\\SimpleGraphs\\generators\\staticgraphs.jl:19",
      "",
      "Stacktrace:",
      " [1] pcalg(n::Vector{Vector{Float64}}, I::Float64, par::Function; kwargs::Base.Pairs{Symbol, Union{}, Tuple{}, NamedTuple{(), Tuple{}}})",
      "   @ CausalInference C:\\Users\\Kenia\\.julia\\packages\\CausalInference\\EQprD\\src\\pc.jl:146",
      " [2] pcalg(n::Vector{Vector{Float64}}, I::Float64, par::Function)",
      "   @ CausalInference C:\\Users\\Kenia\\.julia\\packages\\CausalInference\\EQprD\\src\\pc.jl:146",
      " [3] top-level scope",
      "   @ In[34]:1",
      " [4] eval",
      "   @ .\\boot.jl:373 [inlined]",
      " [5] include_string(mapexpr::typeof(REPL.softscope), mod::Module, code::String, filename::String)",
      "   @ Base .\\loading.jl:1196"
     ]
    }
   ],
   "source": [
    "est_g = pcalg([X,Y,Z], 0.01, gausscitest)"
   ]
  },
  {
   "cell_type": "code",
   "execution_count": 7,
   "id": "8f1f238b",
   "metadata": {
    "scrolled": false
   },
   "outputs": [
    {
     "name": "stderr",
     "output_type": "stream",
     "text": [
      "\u001b[32m\u001b[1m    Updating\u001b[22m\u001b[39m registry at `C:\\Users\\Kenia\\.julia\\registries\\General.toml`\n",
      "\u001b[32m\u001b[1m   Resolving\u001b[22m\u001b[39m package versions...\n",
      "\u001b[32m\u001b[1m    Updating\u001b[22m\u001b[39m `C:\\Users\\Kenia\\.julia\\environments\\v1.7\\Project.toml`\n",
      " \u001b[90m [189a3867] \u001b[39m\u001b[92m+ Reexport v0.2.0\u001b[39m\n",
      "\u001b[32m\u001b[1m  No Changes\u001b[22m\u001b[39m to `C:\\Users\\Kenia\\.julia\\environments\\v1.7\\Manifest.toml`\n"
     ]
    }
   ],
   "source": [
    "using Pkg\n",
    "Pkg.add(\"Reexport\")\n",
    "using Reexport"
   ]
  },
  {
   "cell_type": "code",
   "execution_count": 11,
   "id": "3d4f6402",
   "metadata": {},
   "outputs": [
    {
     "name": "stderr",
     "output_type": "stream",
     "text": [
      "WARNING: replacing module StructuralCausalModels.\n"
     ]
    },
    {
     "data": {
      "text/plain": [
       "Main.StructuralCausalModels"
      ]
     },
     "execution_count": 11,
     "metadata": {},
     "output_type": "execute_result"
    }
   ],
   "source": [
    "include(\"StructuralCausalModels.jl/src/StructuralCausalModels.jl\")"
   ]
  },
  {
   "cell_type": "code",
   "execution_count": 15,
   "id": "9111a2d4",
   "metadata": {
    "scrolled": true
   },
   "outputs": [
    {
     "name": "stderr",
     "output_type": "stream",
     "text": [
      "\u001b[32m\u001b[1m   Resolving\u001b[22m\u001b[39m package versions...\n",
      "\u001b[32m\u001b[1m   Installed\u001b[22m\u001b[39m StructuralCausalModels ─ v1.3.1\n",
      "\u001b[32m\u001b[1m    Updating\u001b[22m\u001b[39m `C:\\Users\\Kenia\\.julia\\environments\\v1.7\\Project.toml`\n",
      " \u001b[90m [8e462317] \u001b[39m\u001b[93m↑ CausalInference v0.4.0 ⇒ v0.8.0\u001b[39m\n",
      " \u001b[90m [861a8166] \u001b[39m\u001b[93m↑ Combinatorics v0.7.0 ⇒ v1.0.2\u001b[39m\n",
      " \u001b[90m [864edb3b] \u001b[39m\u001b[93m↑ DataStructures v0.17.20 ⇒ v0.18.12\u001b[39m\n",
      " \u001b[90m [31c24e10] \u001b[39m\u001b[93m↑ Distributions v0.21.12 ⇒ v0.25.58\u001b[39m\n",
      " \u001b[90m [38e38edf] \u001b[39m\u001b[93m↑ GLM v1.4.2 ⇒ v1.7.0\u001b[39m\n",
      " \u001b[90m [b4fcebef] \u001b[39m\u001b[93m↑ Lasso v0.1.1 ⇒ v0.6.3\u001b[39m\n",
      " \u001b[90m [093fc24a] \u001b[39m\u001b[93m↑ LightGraphs v0.13.0 ⇒ v1.3.5\u001b[39m\n",
      " \u001b[90m [86f7a689] \u001b[39m\u001b[93m↑ NamedArrays v0.9.4 ⇒ v0.9.6\u001b[39m\n",
      " \u001b[90m [189a3867] \u001b[39m\u001b[93m↑ Reexport v0.2.0 ⇒ v1.2.2\u001b[39m\n",
      " \u001b[90m [276daf66] \u001b[39m\u001b[93m↑ SpecialFunctions v0.9.0 ⇒ v2.1.4\u001b[39m\n",
      " \u001b[90m [2913bbd2] \u001b[39m\u001b[93m↑ StatsBase v0.32.2 ⇒ v0.33.16\u001b[39m\n",
      " \u001b[90m [3eaba693] \u001b[39m\u001b[93m↑ StatsModels v0.6.21 ⇒ v0.6.30\u001b[39m\n",
      " \u001b[90m [a41e6734] \u001b[39m\u001b[92m+ StructuralCausalModels v1.3.1\u001b[39m\n",
      "\u001b[32m\u001b[1m    Updating\u001b[22m\u001b[39m `C:\\Users\\Kenia\\.julia\\environments\\v1.7\\Manifest.toml`\n",
      " \u001b[90m [621f4979] \u001b[39m\u001b[92m+ AbstractFFTs v1.1.0\u001b[39m\n",
      " \u001b[90m [7d9fca2a] \u001b[39m\u001b[91m- Arpack v0.4.0\u001b[39m\n",
      " \u001b[90m [8e462317] \u001b[39m\u001b[93m↑ CausalInference v0.4.0 ⇒ v0.8.0\u001b[39m\n",
      " \u001b[90m [d360d2e6] \u001b[39m\u001b[92m+ ChainRulesCore v1.14.0\u001b[39m\n",
      " \u001b[90m [9e997f8a] \u001b[39m\u001b[92m+ ChangesOfVariables v0.1.3\u001b[39m\n",
      " \u001b[90m [861a8166] \u001b[39m\u001b[93m↑ Combinatorics v0.7.0 ⇒ v1.0.2\u001b[39m\n",
      " \u001b[90m [717857b8] \u001b[39m\u001b[92m+ DSP v0.7.5\u001b[39m\n",
      " \u001b[90m [864edb3b] \u001b[39m\u001b[93m↑ DataStructures v0.17.20 ⇒ v0.18.12\u001b[39m\n",
      " \u001b[90m [b429d917] \u001b[39m\u001b[92m+ DensityInterface v0.4.0\u001b[39m\n",
      " \u001b[90m [31c24e10] \u001b[39m\u001b[93m↑ Distributions v0.21.12 ⇒ v0.25.58\u001b[39m\n",
      " \u001b[90m [7a1cc6ca] \u001b[39m\u001b[92m+ FFTW v1.4.6\u001b[39m\n",
      " \u001b[90m [1a297f60] \u001b[39m\u001b[93m↑ FillArrays v0.8.14 ⇒ v0.13.2\u001b[39m\n",
      " \u001b[90m [38e38edf] \u001b[39m\u001b[93m↑ GLM v1.4.2 ⇒ v1.7.0\u001b[39m\n",
      " \u001b[90m [3587e190] \u001b[39m\u001b[92m+ InverseFunctions v0.1.4\u001b[39m\n",
      " \u001b[90m [92d709cd] \u001b[39m\u001b[92m+ IrrationalConstants v0.1.1\u001b[39m\n",
      " \u001b[90m [033835bb] \u001b[39m\u001b[93m↑ JLD2 v0.4.3 ⇒ v0.4.22\u001b[39m\n",
      " \u001b[90m [b4fcebef] \u001b[39m\u001b[93m↑ Lasso v0.1.1 ⇒ v0.6.3\u001b[39m\n",
      " \u001b[90m [093fc24a] \u001b[39m\u001b[93m↑ LightGraphs v0.13.0 ⇒ v1.3.5\u001b[39m\n",
      " \u001b[90m [2ab3a3ac] \u001b[39m\u001b[93m↑ LogExpFunctions v0.2.5 ⇒ v0.3.15\u001b[39m\n",
      " \u001b[90m [f0e99cf1] \u001b[39m\u001b[93m↑ MLBase v0.8.0 ⇒ v0.9.0\u001b[39m\n",
      " \u001b[90m [e1d29d7a] \u001b[39m\u001b[93m↑ Missings v0.4.5 ⇒ v1.0.2\u001b[39m\n",
      " \u001b[90m [d8a4904e] \u001b[39m\u001b[92m+ MutableArithmetics v1.0.0\u001b[39m\n",
      " \u001b[90m [86f7a689] \u001b[39m\u001b[93m↑ NamedArrays v0.9.4 ⇒ v0.9.6\u001b[39m\n",
      " \u001b[90m [90014a1f] \u001b[39m\u001b[93m↑ PDMats v0.9.12 ⇒ v0.11.10\u001b[39m\n",
      " \u001b[90m [f27b6e38] \u001b[39m\u001b[93m↑ Polynomials v0.5.2 ⇒ v3.0.0\u001b[39m\n",
      " \u001b[90m [189a3867] \u001b[39m\u001b[93m↑ Reexport v0.2.0 ⇒ v1.2.2\u001b[39m\n",
      " \u001b[90m [a2af1166] \u001b[39m\u001b[93m↑ SortingAlgorithms v0.3.1 ⇒ v1.0.1\u001b[39m\n",
      " \u001b[90m [276daf66] \u001b[39m\u001b[93m↑ SpecialFunctions v0.9.0 ⇒ v2.1.4\u001b[39m\n",
      " \u001b[90m [2913bbd2] \u001b[39m\u001b[93m↑ StatsBase v0.32.2 ⇒ v0.33.16\u001b[39m\n",
      " \u001b[90m [4c63d2b9] \u001b[39m\u001b[93m↑ StatsFuns v0.9.8 ⇒ v0.9.18\u001b[39m\n",
      " \u001b[90m [3eaba693] \u001b[39m\u001b[93m↑ StatsModels v0.6.21 ⇒ v0.6.30\u001b[39m\n",
      " \u001b[90m [a41e6734] \u001b[39m\u001b[92m+ StructuralCausalModels v1.3.1\u001b[39m\n",
      " \u001b[90m [68821587] \u001b[39m\u001b[91m- Arpack_jll v3.5.1+1\u001b[39m\n",
      " \u001b[90m [f5851436] \u001b[39m\u001b[92m+ FFTW_jll v3.3.10+0\u001b[39m\n",
      " \u001b[90m [1d5cc7b8] \u001b[39m\u001b[92m+ IntelOpenMP_jll v2018.0.3+2\u001b[39m\n",
      " \u001b[90m [856f044c] \u001b[39m\u001b[92m+ MKL_jll v2022.0.0+0\u001b[39m\n",
      " \u001b[90m [05823500] \u001b[39m\u001b[92m+ OpenLibm_jll\u001b[39m\n",
      "\u001b[32m\u001b[1mPrecompiling\u001b[22m\u001b[39m project...\n",
      "\u001b[33m  ✓ \u001b[39m\u001b[90mPDMats\u001b[39m\n",
      "\u001b[33m  ✓ \u001b[39mCombinatorics\n",
      "\u001b[33m  ✓ \u001b[39m\u001b[90mFillArrays\u001b[39m\n",
      "\u001b[33m  ✓ \u001b[39mReexport\n",
      "\u001b[33m  ✓ \u001b[39m\u001b[90mMissings\u001b[39m\n",
      "\u001b[33m  ✓ \u001b[39m\u001b[90mLogExpFunctions\u001b[39m\n",
      "\u001b[33m  ✓ \u001b[39mDataStructures\n",
      "\u001b[32m  ✓ \u001b[39mFilePaths\n",
      "\u001b[33m  ✓ \u001b[39m\u001b[90mPolynomials\u001b[39m\n",
      "\u001b[33m  ✓ \u001b[39mPrettyTables\n",
      "\u001b[32m  ✓ \u001b[39m\u001b[90mFFTW\u001b[39m\n",
      "\u001b[32m  ✓ \u001b[39m\u001b[90mTableTraitsUtils\u001b[39m\n",
      "\u001b[32m  ✓ \u001b[39mCategoricalArrays\n",
      "\u001b[33m  ✓ \u001b[39m\u001b[90mSortingAlgorithms\u001b[39m\n",
      "\u001b[33m  ✓ \u001b[39m\u001b[90mQuadGK\u001b[39m\n",
      "\u001b[32m  ✓ \u001b[39m\u001b[90mJLD2\u001b[39m\n",
      "\u001b[33m  ✓ \u001b[39mSpecialFunctions\n",
      "\u001b[33m  ✓ \u001b[39mNamedArrays\n",
      "\u001b[32m  ✓ \u001b[39mDataTables\n",
      "\u001b[32m  ✓ \u001b[39mGraphs\n",
      "\u001b[32m  ✓ \u001b[39mLightGraphs\n",
      "\u001b[33m  ✓ \u001b[39mStatsBase\n",
      "\u001b[33m  ✓ \u001b[39m\u001b[90mStatsFuns\u001b[39m\n",
      "\u001b[32m  ✓ \u001b[39m\u001b[90mDSP\u001b[39m\n",
      "\u001b[32m  ✓ \u001b[39mFreqTables\n",
      "\u001b[32m  ✓ \u001b[39mTikzGraphs\n",
      "\u001b[32m  ✓ \u001b[39mMetaGraphs\n",
      "\u001b[32m  ✓ \u001b[39m\u001b[90mMLBase\u001b[39m\n",
      "\u001b[32m  ✓ \u001b[39mStatsModels\n",
      "\u001b[33m  ✓ \u001b[39mDistributions\n",
      "\u001b[32m  ✓ \u001b[39mGLM\n",
      "\u001b[32m  ✓ \u001b[39mCausalInference\n",
      "\u001b[33m  ✓ \u001b[39mDataFrames\n",
      "\u001b[32m  ✓ \u001b[39mLasso\n",
      "\u001b[32m  ✓ \u001b[39mRData\n",
      "\u001b[32m  ✓ \u001b[39mStructuralCausalModels\n",
      "  36 dependencies successfully precompiled in 90 seconds (117 already precompiled)\n",
      "  \u001b[33m17\u001b[39m dependencies precompiled but different versions are currently loaded. Restart julia to access the new versions\n",
      "┌ Info: Precompiling StructuralCausalModels [a41e6734-49ce-4065-8b83-aff084c01dfd]\n",
      "└ @ Base loading.jl:1423\n",
      "\u001b[33m\u001b[1m┌ \u001b[22m\u001b[39m\u001b[33m\u001b[1mWarning: \u001b[22m\u001b[39mModule Reexport with build ID 11757558053501 is missing from the cache.\n",
      "\u001b[33m\u001b[1m│ \u001b[22m\u001b[39mThis may mean Reexport [189a3867-3050-52da-a836-e630ba90ab69] does not support precompilation but is imported by a module that does.\n",
      "\u001b[33m\u001b[1m└ \u001b[22m\u001b[39m\u001b[90m@ Base loading.jl:1107\u001b[39m\n",
      "┌ Info: Skipping precompilation since __precompile__(false). Importing StructuralCausalModels [a41e6734-49ce-4065-8b83-aff084c01dfd].\n",
      "└ @ Base loading.jl:1124\n",
      "WARNING: using StructuralCausalModels.StructuralCausalModels in module Main conflicts with an existing identifier.\n"
     ]
    },
    {
     "ename": "LoadError",
     "evalue": "importing StructuralCausalModels into Main conflicts with an existing identifier",
     "output_type": "error",
     "traceback": [
      "importing StructuralCausalModels into Main conflicts with an existing identifier",
      "",
      "Stacktrace:",
      " [1] eval",
      "   @ .\\boot.jl:373 [inlined]",
      " [2] include_string(mapexpr::typeof(REPL.softscope), mod::Module, code::String, filename::String)",
      "   @ Base .\\loading.jl:1196"
     ]
    }
   ],
   "source": [
    "Pkg.add(\"StructuralCausalModels\")\n",
    "using StructuralCausalModels"
   ]
  },
  {
   "cell_type": "code",
   "execution_count": 19,
   "id": "e17b92a4",
   "metadata": {
    "scrolled": true
   },
   "outputs": [
    {
     "name": "stdout",
     "output_type": "stream",
     "text": [
      "\n",
      "DAG object:\n",
      "\n",
      "name = \"conf_triangles\"\n",
      "vars = [:z, :x, :y]\n",
      "\n"
     ]
    },
    {
     "data": {
      "text/plain": [
       "OrderedDict{Union{Symbol, Vector{Symbol}}, Union{Symbol, Vector{Symbol}}} with 2 entries:\n",
       "  [:z]     => [:z, :x]\n",
       "  [:x, :z] => :y"
      ]
     },
     "metadata": {},
     "output_type": "display_data"
    },
    {
     "name": "stdout",
     "output_type": "stream",
     "text": [
      "\n"
     ]
    }
   ],
   "source": [
    "ProjDir = @__DIR__\n",
    "cd(ProjDir) #do\n",
    "d_string = \"dag {x -> {z}; y -> {x z}; z -> {z}}\"\n",
    "\n",
    "dag = DAG(\"conf_triangles\", d_string);\n",
    "show(dag)"
   ]
  },
  {
   "cell_type": "code",
   "execution_count": 20,
   "id": "825025e1",
   "metadata": {},
   "outputs": [
    {
     "data": {
      "text/plain": [
       "(x = [-2.1303654640017817, -0.5983456262703033, 0.28774960648128584, 0.1429457361169918, 2.9585937757526533, -1.1468233192983348, -1.0616909360048579, -3.4511162673831666, -3.9667773585457327, -2.082275063445042  …  -2.228810464295732, -2.8805144204108646, 0.4949995301825576, 1.89518128498158, 1.0185364101678323, 1.47247257386057, -1.3874095016877401, -1.709227960584552, -0.12442884136149542, 0.4128456141173361], z = [-1.0091549092291032, -0.5140676515712109, 0.23587467368083778, -0.16028291801233574, 1.551944463011163, -0.7249351548782472, -0.4495388258114882, -1.7886359005727905, -1.906783696684851, -0.9113384199090382  …  -0.9223903170607547, -1.3470809381030913, 0.31961752673206295, 0.9186303237114882, 0.6493793514512968, 0.8033789643104087, -0.6103692423743857, -0.8551843927507548, -0.04732760180137661, 0.12935391385325867], y = [-2.696538759074562, -0.7993719177088517, 0.5010935663791172, -0.10224321050669088, 3.3608844818217096, -1.1572955495014408, -0.791636822978615, -3.646805687456268, -4.151692693371891, -2.279957968923741  …  -2.325412394519686, -3.130566023426534, 0.42016210236690815, 2.314787591314934, 0.9751867064535341, 1.8780003827467096, -1.6762751895522625, -1.913843160635218, 0.024253042486946735, 0.41538054928407053])"
      ]
     },
     "execution_count": 20,
     "metadata": {},
     "output_type": "execute_result"
    }
   ],
   "source": [
    "# Generate some sample data to use with the PC algorithm\n",
    "\n",
    "N = 1000 # number of data points\n",
    "\n",
    "# define simple linear model with added noise\n",
    "z = randn(N)\n",
    "x = 2*z + randn(N)*0.25\n",
    "y = x + 0.1*z + randn(N)*0.25\n",
    "\n",
    "df = (x=x, z=z, y=y)"
   ]
  },
  {
   "cell_type": "code",
   "execution_count": 21,
   "id": "50a6b1a2",
   "metadata": {},
   "outputs": [
    {
     "data": {
      "text/plain": [
       "\"DAG(z ~ z + x, x ~ y, z ~ y)\""
      ]
     },
     "metadata": {},
     "output_type": "display_data"
    },
    {
     "name": "stdout",
     "output_type": "stream",
     "text": [
      "\n"
     ]
    },
    {
     "ename": "LoadError",
     "evalue": "BoundsError: attempt to access 3×3 Matrix{Int64} at index [[0, 0, 0], [0, 0, 0]]",
     "output_type": "error",
     "traceback": [
      "BoundsError: attempt to access 3×3 Matrix{Int64} at index [[0, 0, 0], [0, 0, 0]]",
      "",
      "Stacktrace:",
      "  [1] throw_boundserror(A::Matrix{Int64}, I::Tuple{Vector{Int64}, Vector{Int64}})",
      "    @ Base .\\abstractarray.jl:691",
      "  [2] checkbounds",
      "    @ .\\abstractarray.jl:656 [inlined]",
      "  [3] _getindex",
      "    @ .\\multidimensional.jl:838 [inlined]",
      "  [4] getindex",
      "    @ .\\abstractarray.jl:1218 [inlined]",
      "  [5] #namedgetindex#61",
      "    @ C:\\Users\\Kenia\\.julia\\packages\\NamedArrays\\kMq4N\\src\\index.jl:114 [inlined]",
      "  [6] namedgetindex",
      "    @ C:\\Users\\Kenia\\.julia\\packages\\NamedArrays\\kMq4N\\src\\index.jl:111 [inlined]",
      "  [7] getindex(::NamedMatrix{Int64, Matrix{Int64}, Tuple{OrderedDict{Symbol, Int64}, OrderedDict{Symbol, Int64}}}, ::Vector{Int64}, ::Vector{Int64})",
      "    @ NamedArrays C:\\Users\\Kenia\\.julia\\packages\\NamedArrays\\kMq4N\\src\\index.jl:58",
      "  [8] topological_sort(a::NamedMatrix{Int64, Matrix{Int64}, Tuple{OrderedDict{Symbol, Int64}, OrderedDict{Symbol, Int64}}})",
      "    @ StructuralCausalModels C:\\Users\\Kenia\\.julia\\packages\\StructuralCausalModels\\m90sE\\src\\methods\\dag_methods.jl:215",
      "  [9] to_graphviz(d::DAG, file::String)",
      "    @ StructuralCausalModels C:\\Users\\Kenia\\.julia\\packages\\StructuralCausalModels\\m90sE\\src\\utils\\graphviz_conversions.jl:4",
      " [10] top-level scope",
      "    @ In[21]:5",
      " [11] eval",
      "    @ .\\boot.jl:373 [inlined]",
      " [12] include_string(mapexpr::typeof(REPL.softscope), mod::Module, code::String, filename::String)",
      "    @ Base .\\loading.jl:1196"
     ]
    }
   ],
   "source": [
    "to_ggm(dag) |> display\n",
    "println()\n",
    "\n",
    "fname = ProjDir * \"/conf_triangles.dot\"\n",
    "to_graphviz(dag, fname)\n",
    "Sys.isapple() && run(`open -a GraphViz.app $(fname)`)\n",
    "\n",
    "println(\"Basis set:\")\n",
    "bs = basis_set(dag)\n",
    "display(bs)\n",
    "#=\n",
    "E ⊥ B | A, Z\n",
    "D ⊥ A | B, E, Z\n",
    "A ⊥ B\n",
    "=#\n",
    "\n",
    "f = :x; s = :y;\n",
    "\n",
    "e = d_separation(dag, f, s)\n",
    "println(\"d_separation($(dag.name), $f, $s) = $e\\n\")\n",
    "\n",
    "\n",
    "\n"
   ]
  }
 ],
 "metadata": {
  "kernelspec": {
   "display_name": "Julia 1.7.2",
   "language": "julia",
   "name": "julia-1.7"
  },
  "language_info": {
   "file_extension": ".jl",
   "mimetype": "application/julia",
   "name": "julia",
   "version": "1.7.2"
  }
 },
 "nbformat": 4,
 "nbformat_minor": 5
}
