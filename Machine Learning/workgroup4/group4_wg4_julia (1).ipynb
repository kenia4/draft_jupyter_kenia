{
 "cells": [
  {
   "cell_type": "markdown",
   "id": "6a2477ef",
   "metadata": {},
   "source": [
    "## WORK GROUP 4\n",
    "### Integrants: \n",
    "* Luciana Álvarez\n",
    "* Rick Chuquilin\n",
    "* Kenia Moscoso "
   ]
  },
  {
   "cell_type": "code",
   "execution_count": 1,
   "id": "86d0747a",
   "metadata": {
    "scrolled": true
   },
   "outputs": [
    {
     "name": "stdout",
     "output_type": "stream",
     "text": [
      "\u001b[32m\u001b[1m  No Matches\u001b[22m\u001b[39m in `C:\\Users\\Kenia\\.julia\\environments\\v1.7\\Project.toml`\n"
     ]
    },
    {
     "name": "stderr",
     "output_type": "stream",
     "text": [
      "\u001b[32m\u001b[1m    Updating\u001b[22m\u001b[39m registry at `C:\\Users\\Kenia\\.julia\\registries\\General.toml`\n",
      "\u001b[32m\u001b[1m   Resolving\u001b[22m\u001b[39m package versions...\n"
     ]
    },
    {
     "ename": "LoadError",
     "evalue": "Unsatisfiable requirements detected for package \u001b[38;5;4mDataFrames [a93c6f00]\u001b[39m:\n \u001b[38;5;4mDataFrames [a93c6f00]\u001b[39m log:\n ├─possible versions are: \u001b[38;5;4m0.11.7-1.3.4\u001b[39m or uninstalled\n └─restricted to versions \u001b[38;5;4m1.7.2\u001b[39m by an explicit requirement — no versions left",
     "output_type": "error",
     "traceback": [
      "Unsatisfiable requirements detected for package \u001b[38;5;4mDataFrames [a93c6f00]\u001b[39m:\n \u001b[38;5;4mDataFrames [a93c6f00]\u001b[39m log:\n ├─possible versions are: \u001b[38;5;4m0.11.7-1.3.4\u001b[39m or uninstalled\n └─restricted to versions \u001b[38;5;4m1.7.2\u001b[39m by an explicit requirement — no versions left",
      "",
      "Stacktrace:",
      "  [1] check_constraints(graph::Pkg.Resolve.Graph)",
      "    @ Pkg.Resolve C:\\Users\\Kenia\\AppData\\Local\\Programs\\Julia-1.7.2\\share\\julia\\stdlib\\v1.7\\Pkg\\src\\Resolve\\graphtype.jl:989",
      "  [2] Pkg.Resolve.Graph(compat::Dict{Base.UUID, Dict{VersionNumber, Dict{Base.UUID, Pkg.Versions.VersionSpec}}}, uuid_to_name::Dict{Base.UUID, String}, reqs::Dict{Base.UUID, Pkg.Versions.VersionSpec}, fixed::Dict{Base.UUID, Pkg.Resolve.Fixed}, verbose::Bool, julia_version::VersionNumber)",
      "    @ Pkg.Resolve C:\\Users\\Kenia\\AppData\\Local\\Programs\\Julia-1.7.2\\share\\julia\\stdlib\\v1.7\\Pkg\\src\\Resolve\\graphtype.jl:346",
      "  [3] deps_graph(env::Pkg.Types.EnvCache, registries::Vector{Pkg.Registry.RegistryInstance}, uuid_to_name::Dict{Base.UUID, String}, reqs::Dict{Base.UUID, Pkg.Versions.VersionSpec}, fixed::Dict{Base.UUID, Pkg.Resolve.Fixed}, julia_version::VersionNumber)",
      "    @ Pkg.Operations C:\\Users\\Kenia\\AppData\\Local\\Programs\\Julia-1.7.2\\share\\julia\\stdlib\\v1.7\\Pkg\\src\\Operations.jl:455",
      "  [4] resolve_versions!(env::Pkg.Types.EnvCache, registries::Vector{Pkg.Registry.RegistryInstance}, pkgs::Vector{Pkg.Types.PackageSpec}, julia_version::VersionNumber)",
      "    @ Pkg.Operations C:\\Users\\Kenia\\AppData\\Local\\Programs\\Julia-1.7.2\\share\\julia\\stdlib\\v1.7\\Pkg\\src\\Operations.jl:334",
      "  [5] targeted_resolve(env::Pkg.Types.EnvCache, registries::Vector{Pkg.Registry.RegistryInstance}, pkgs::Vector{Pkg.Types.PackageSpec}, preserve::Pkg.Types.PreserveLevel, julia_version::VersionNumber)",
      "    @ Pkg.Operations C:\\Users\\Kenia\\AppData\\Local\\Programs\\Julia-1.7.2\\share\\julia\\stdlib\\v1.7\\Pkg\\src\\Operations.jl:1154",
      "  [6] tiered_resolve(env::Pkg.Types.EnvCache, registries::Vector{Pkg.Registry.RegistryInstance}, pkgs::Vector{Pkg.Types.PackageSpec}, julia_version::VersionNumber)",
      "    @ Pkg.Operations C:\\Users\\Kenia\\AppData\\Local\\Programs\\Julia-1.7.2\\share\\julia\\stdlib\\v1.7\\Pkg\\src\\Operations.jl:1139",
      "  [7] _resolve(io::IJulia.IJuliaStdio{Base.PipeEndpoint}, env::Pkg.Types.EnvCache, registries::Vector{Pkg.Registry.RegistryInstance}, pkgs::Vector{Pkg.Types.PackageSpec}, preserve::Pkg.Types.PreserveLevel, julia_version::VersionNumber)",
      "    @ Pkg.Operations C:\\Users\\Kenia\\AppData\\Local\\Programs\\Julia-1.7.2\\share\\julia\\stdlib\\v1.7\\Pkg\\src\\Operations.jl:1160",
      "  [8] add(ctx::Pkg.Types.Context, pkgs::Vector{Pkg.Types.PackageSpec}, new_git::Set{Base.UUID}; preserve::Pkg.Types.PreserveLevel, platform::Base.BinaryPlatforms.Platform)",
      "    @ Pkg.Operations C:\\Users\\Kenia\\AppData\\Local\\Programs\\Julia-1.7.2\\share\\julia\\stdlib\\v1.7\\Pkg\\src\\Operations.jl:1176",
      "  [9] add(ctx::Pkg.Types.Context, pkgs::Vector{Pkg.Types.PackageSpec}; preserve::Pkg.Types.PreserveLevel, platform::Base.BinaryPlatforms.Platform, kwargs::Base.Pairs{Symbol, IJulia.IJuliaStdio{Base.PipeEndpoint}, Tuple{Symbol}, NamedTuple{(:io,), Tuple{IJulia.IJuliaStdio{Base.PipeEndpoint}}}})",
      "    @ Pkg.API C:\\Users\\Kenia\\AppData\\Local\\Programs\\Julia-1.7.2\\share\\julia\\stdlib\\v1.7\\Pkg\\src\\API.jl:268",
      " [10] add(pkgs::Vector{Pkg.Types.PackageSpec}; io::IJulia.IJuliaStdio{Base.PipeEndpoint}, kwargs::Base.Pairs{Symbol, Union{}, Tuple{}, NamedTuple{(), Tuple{}}})",
      "    @ Pkg.API C:\\Users\\Kenia\\AppData\\Local\\Programs\\Julia-1.7.2\\share\\julia\\stdlib\\v1.7\\Pkg\\src\\API.jl:149",
      " [11] add(pkgs::Vector{Pkg.Types.PackageSpec})",
      "    @ Pkg.API C:\\Users\\Kenia\\AppData\\Local\\Programs\\Julia-1.7.2\\share\\julia\\stdlib\\v1.7\\Pkg\\src\\API.jl:144",
      " [12] #add#26",
      "    @ C:\\Users\\Kenia\\AppData\\Local\\Programs\\Julia-1.7.2\\share\\julia\\stdlib\\v1.7\\Pkg\\src\\API.jl:141 [inlined]",
      " [13] add",
      "    @ C:\\Users\\Kenia\\AppData\\Local\\Programs\\Julia-1.7.2\\share\\julia\\stdlib\\v1.7\\Pkg\\src\\API.jl:141 [inlined]",
      " [14] add(; name::String, uuid::Nothing, version::String, url::Nothing, rev::Nothing, path::Nothing, mode::Pkg.Types.PackageMode, subdir::Nothing, kwargs::Base.Pairs{Symbol, Union{}, Tuple{}, NamedTuple{(), Tuple{}}})",
      "    @ Pkg.API C:\\Users\\Kenia\\AppData\\Local\\Programs\\Julia-1.7.2\\share\\julia\\stdlib\\v1.7\\Pkg\\src\\API.jl:166",
      " [15] top-level scope",
      "    @ In[1]:3",
      " [16] eval",
      "    @ .\\boot.jl:373 [inlined]",
      " [17] include_string(mapexpr::typeof(REPL.softscope), mod::Module, code::String, filename::String)",
      "    @ Base .\\loading.jl:1196"
     ]
    }
   ],
   "source": [
    "import Pkg\n",
    "Pkg.status(\"DataFrames\")\n",
    "Pkg.add(name=\"DataFrames\", version=\"1.7.2\")"
   ]
  },
  {
   "cell_type": "code",
   "execution_count": 51,
   "id": "ce928876",
   "metadata": {},
   "outputs": [
    {
     "name": "stdout",
     "output_type": "stream",
     "text": [
      "\u001b[32m\u001b[1m      Status\u001b[22m\u001b[39m `C:\\Users\\Kenia\\.julia\\environments\\v1.7\\Project.toml`\n",
      " \u001b[90m [324d7699] \u001b[39mCategoricalArrays v0.8.3\n"
     ]
    },
    {
     "name": "stderr",
     "output_type": "stream",
     "text": [
      "\u001b[32m\u001b[1m   Resolving\u001b[22m\u001b[39m package versions...\n"
     ]
    },
    {
     "ename": "LoadError",
     "evalue": "Unsatisfiable requirements detected for package \u001b[38;5;14mCategoricalArrays [324d7699]\u001b[39m:\n \u001b[38;5;14mCategoricalArrays [324d7699]\u001b[39m log:\n ├─possible versions are: \u001b[38;5;14m0.3.11-0.10.5\u001b[39m or uninstalled\n └─restricted to versions \u001b[38;5;14m1.3.3\u001b[39m by an explicit requirement — no versions left",
     "output_type": "error",
     "traceback": [
      "Unsatisfiable requirements detected for package \u001b[38;5;14mCategoricalArrays [324d7699]\u001b[39m:\n \u001b[38;5;14mCategoricalArrays [324d7699]\u001b[39m log:\n ├─possible versions are: \u001b[38;5;14m0.3.11-0.10.5\u001b[39m or uninstalled\n └─restricted to versions \u001b[38;5;14m1.3.3\u001b[39m by an explicit requirement — no versions left",
      "",
      "Stacktrace:",
      "  [1] check_constraints(graph::Pkg.Resolve.Graph)",
      "    @ Pkg.Resolve C:\\Users\\Kenia\\AppData\\Local\\Programs\\Julia-1.7.2\\share\\julia\\stdlib\\v1.7\\Pkg\\src\\Resolve\\graphtype.jl:989",
      "  [2] Pkg.Resolve.Graph(compat::Dict{Base.UUID, Dict{VersionNumber, Dict{Base.UUID, Pkg.Versions.VersionSpec}}}, uuid_to_name::Dict{Base.UUID, String}, reqs::Dict{Base.UUID, Pkg.Versions.VersionSpec}, fixed::Dict{Base.UUID, Pkg.Resolve.Fixed}, verbose::Bool, julia_version::VersionNumber)",
      "    @ Pkg.Resolve C:\\Users\\Kenia\\AppData\\Local\\Programs\\Julia-1.7.2\\share\\julia\\stdlib\\v1.7\\Pkg\\src\\Resolve\\graphtype.jl:346",
      "  [3] deps_graph(env::Pkg.Types.EnvCache, registries::Vector{Pkg.Registry.RegistryInstance}, uuid_to_name::Dict{Base.UUID, String}, reqs::Dict{Base.UUID, Pkg.Versions.VersionSpec}, fixed::Dict{Base.UUID, Pkg.Resolve.Fixed}, julia_version::VersionNumber)",
      "    @ Pkg.Operations C:\\Users\\Kenia\\AppData\\Local\\Programs\\Julia-1.7.2\\share\\julia\\stdlib\\v1.7\\Pkg\\src\\Operations.jl:455",
      "  [4] resolve_versions!(env::Pkg.Types.EnvCache, registries::Vector{Pkg.Registry.RegistryInstance}, pkgs::Vector{Pkg.Types.PackageSpec}, julia_version::VersionNumber)",
      "    @ Pkg.Operations C:\\Users\\Kenia\\AppData\\Local\\Programs\\Julia-1.7.2\\share\\julia\\stdlib\\v1.7\\Pkg\\src\\Operations.jl:334",
      "  [5] targeted_resolve(env::Pkg.Types.EnvCache, registries::Vector{Pkg.Registry.RegistryInstance}, pkgs::Vector{Pkg.Types.PackageSpec}, preserve::Pkg.Types.PreserveLevel, julia_version::VersionNumber)",
      "    @ Pkg.Operations C:\\Users\\Kenia\\AppData\\Local\\Programs\\Julia-1.7.2\\share\\julia\\stdlib\\v1.7\\Pkg\\src\\Operations.jl:1154",
      "  [6] tiered_resolve(env::Pkg.Types.EnvCache, registries::Vector{Pkg.Registry.RegistryInstance}, pkgs::Vector{Pkg.Types.PackageSpec}, julia_version::VersionNumber)",
      "    @ Pkg.Operations C:\\Users\\Kenia\\AppData\\Local\\Programs\\Julia-1.7.2\\share\\julia\\stdlib\\v1.7\\Pkg\\src\\Operations.jl:1139",
      "  [7] _resolve(io::IJulia.IJuliaStdio{Base.PipeEndpoint}, env::Pkg.Types.EnvCache, registries::Vector{Pkg.Registry.RegistryInstance}, pkgs::Vector{Pkg.Types.PackageSpec}, preserve::Pkg.Types.PreserveLevel, julia_version::VersionNumber)",
      "    @ Pkg.Operations C:\\Users\\Kenia\\AppData\\Local\\Programs\\Julia-1.7.2\\share\\julia\\stdlib\\v1.7\\Pkg\\src\\Operations.jl:1160",
      "  [8] add(ctx::Pkg.Types.Context, pkgs::Vector{Pkg.Types.PackageSpec}, new_git::Set{Base.UUID}; preserve::Pkg.Types.PreserveLevel, platform::Base.BinaryPlatforms.Platform)",
      "    @ Pkg.Operations C:\\Users\\Kenia\\AppData\\Local\\Programs\\Julia-1.7.2\\share\\julia\\stdlib\\v1.7\\Pkg\\src\\Operations.jl:1176",
      "  [9] add(ctx::Pkg.Types.Context, pkgs::Vector{Pkg.Types.PackageSpec}; preserve::Pkg.Types.PreserveLevel, platform::Base.BinaryPlatforms.Platform, kwargs::Base.Pairs{Symbol, IJulia.IJuliaStdio{Base.PipeEndpoint}, Tuple{Symbol}, NamedTuple{(:io,), Tuple{IJulia.IJuliaStdio{Base.PipeEndpoint}}}})",
      "    @ Pkg.API C:\\Users\\Kenia\\AppData\\Local\\Programs\\Julia-1.7.2\\share\\julia\\stdlib\\v1.7\\Pkg\\src\\API.jl:268",
      " [10] add(pkgs::Vector{Pkg.Types.PackageSpec}; io::IJulia.IJuliaStdio{Base.PipeEndpoint}, kwargs::Base.Pairs{Symbol, Union{}, Tuple{}, NamedTuple{(), Tuple{}}})",
      "    @ Pkg.API C:\\Users\\Kenia\\AppData\\Local\\Programs\\Julia-1.7.2\\share\\julia\\stdlib\\v1.7\\Pkg\\src\\API.jl:149",
      " [11] add(pkgs::Vector{Pkg.Types.PackageSpec})",
      "    @ Pkg.API C:\\Users\\Kenia\\AppData\\Local\\Programs\\Julia-1.7.2\\share\\julia\\stdlib\\v1.7\\Pkg\\src\\API.jl:144",
      " [12] #add#26",
      "    @ C:\\Users\\Kenia\\AppData\\Local\\Programs\\Julia-1.7.2\\share\\julia\\stdlib\\v1.7\\Pkg\\src\\API.jl:141 [inlined]",
      " [13] add",
      "    @ C:\\Users\\Kenia\\AppData\\Local\\Programs\\Julia-1.7.2\\share\\julia\\stdlib\\v1.7\\Pkg\\src\\API.jl:141 [inlined]",
      " [14] add(; name::String, uuid::Nothing, version::String, url::Nothing, rev::Nothing, path::Nothing, mode::Pkg.Types.PackageMode, subdir::Nothing, kwargs::Base.Pairs{Symbol, Union{}, Tuple{}, NamedTuple{(), Tuple{}}})",
      "    @ Pkg.API C:\\Users\\Kenia\\AppData\\Local\\Programs\\Julia-1.7.2\\share\\julia\\stdlib\\v1.7\\Pkg\\src\\API.jl:166",
      " [15] top-level scope",
      "    @ In[51]:3",
      " [16] eval",
      "    @ .\\boot.jl:373 [inlined]",
      " [17] include_string(mapexpr::typeof(REPL.softscope), mod::Module, code::String, filename::String)",
      "    @ Base .\\loading.jl:1196"
     ]
    }
   ],
   "source": [
    "import Pkg\n",
    "Pkg.status(\"CategoricalArrays\")\n",
    "Pkg.add(name=\"CategoricalArrays\", version=\"1.3.3\")"
   ]
  },
  {
   "cell_type": "code",
   "execution_count": 2,
   "id": "84d91c1e",
   "metadata": {
    "scrolled": true
   },
   "outputs": [
    {
     "name": "stderr",
     "output_type": "stream",
     "text": [
      "\u001b[32m\u001b[1m   Resolving\u001b[22m\u001b[39m package versions...\n",
      "\u001b[32m\u001b[1m   Installed\u001b[22m\u001b[39m DataAPI ───────────────────── v1.10.0\n",
      "\u001b[32m\u001b[1m   Installed\u001b[22m\u001b[39m IteratorInterfaceExtensions ─ v1.0.0\n",
      "\u001b[32m\u001b[1m   Installed\u001b[22m\u001b[39m SplitApplyCombine ─────────── v1.2.1\n",
      "\u001b[32m\u001b[1m   Installed\u001b[22m\u001b[39m Adapt ─────────────────────── v3.3.3\n",
      "\u001b[32m\u001b[1m   Installed\u001b[22m\u001b[39m TableTraits ───────────────── v1.0.1\n",
      "\u001b[32m\u001b[1m   Installed\u001b[22m\u001b[39m Tables ────────────────────── v1.7.0\n",
      "\u001b[32m\u001b[1m   Installed\u001b[22m\u001b[39m Dictionaries ──────────────── v0.3.20\n",
      "\u001b[32m\u001b[1m   Installed\u001b[22m\u001b[39m TypedTables ───────────────── v1.4.0\n",
      "\u001b[32m\u001b[1m   Installed\u001b[22m\u001b[39m DataValueInterfaces ───────── v1.0.0\n",
      "\u001b[32m\u001b[1m   Installed\u001b[22m\u001b[39m Indexing ──────────────────── v1.1.1\n",
      "\u001b[32m\u001b[1m   Installed\u001b[22m\u001b[39m OrderedCollections ────────── v1.4.1\n",
      "\u001b[32m\u001b[1m    Updating\u001b[22m\u001b[39m `C:\\Users\\Kenia\\.julia\\environments\\v1.7\\Project.toml`\n",
      " \u001b[90m [9d95f2ec] \u001b[39m\u001b[92m+ TypedTables v1.4.0\u001b[39m\n",
      "\u001b[32m\u001b[1m    Updating\u001b[22m\u001b[39m `C:\\Users\\Kenia\\.julia\\environments\\v1.7\\Manifest.toml`\n",
      " \u001b[90m [79e6a3ab] \u001b[39m\u001b[92m+ Adapt v3.3.3\u001b[39m\n",
      " \u001b[90m [9a962f9c] \u001b[39m\u001b[92m+ DataAPI v1.10.0\u001b[39m\n",
      " \u001b[90m [e2d170a0] \u001b[39m\u001b[92m+ DataValueInterfaces v1.0.0\u001b[39m\n",
      " \u001b[90m [85a47980] \u001b[39m\u001b[92m+ Dictionaries v0.3.20\u001b[39m\n",
      " \u001b[90m [313cdc1a] \u001b[39m\u001b[92m+ Indexing v1.1.1\u001b[39m\n",
      " \u001b[90m [82899510] \u001b[39m\u001b[92m+ IteratorInterfaceExtensions v1.0.0\u001b[39m\n",
      " \u001b[90m [bac558e1] \u001b[39m\u001b[92m+ OrderedCollections v1.4.1\u001b[39m\n",
      " \u001b[90m [03a91e81] \u001b[39m\u001b[92m+ SplitApplyCombine v1.2.1\u001b[39m\n",
      " \u001b[90m [3783bdb8] \u001b[39m\u001b[92m+ TableTraits v1.0.1\u001b[39m\n",
      " \u001b[90m [bd369af6] \u001b[39m\u001b[92m+ Tables v1.7.0\u001b[39m\n",
      " \u001b[90m [9d95f2ec] \u001b[39m\u001b[92m+ TypedTables v1.4.0\u001b[39m\n",
      " \u001b[90m [37e2e46d] \u001b[39m\u001b[92m+ LinearAlgebra\u001b[39m\n",
      " \u001b[90m [e66e0078] \u001b[39m\u001b[92m+ CompilerSupportLibraries_jll\u001b[39m\n",
      " \u001b[90m [4536629a] \u001b[39m\u001b[92m+ OpenBLAS_jll\u001b[39m\n",
      " \u001b[90m [8e850b90] \u001b[39m\u001b[92m+ libblastrampoline_jll\u001b[39m\n",
      "\u001b[32m\u001b[1mPrecompiling\u001b[22m\u001b[39m project...\n",
      "\u001b[32m  ✓ \u001b[39m\u001b[90mDataValueInterfaces\u001b[39m\n",
      "\u001b[32m  ✓ \u001b[39m\u001b[90mIndexing\u001b[39m\n",
      "\u001b[32m  ✓ \u001b[39m\u001b[90mAdapt\u001b[39m\n",
      "\u001b[32m  ✓ \u001b[39m\u001b[90mIteratorInterfaceExtensions\u001b[39m\n",
      "\u001b[32m  ✓ \u001b[39m\u001b[90mCompilerSupportLibraries_jll\u001b[39m\n",
      "\u001b[32m  ✓ \u001b[39m\u001b[90mDataAPI\u001b[39m\n",
      "\u001b[32m  ✓ \u001b[39m\u001b[90mOrderedCollections\u001b[39m\n",
      "\u001b[32m  ✓ \u001b[39m\u001b[90mTableTraits\u001b[39m\n",
      "\u001b[32m  ✓ \u001b[39m\u001b[90mOpenBLAS_jll\u001b[39m\n",
      "\u001b[32m  ✓ \u001b[39m\u001b[90mDictionaries\u001b[39m\n",
      "\u001b[32m  ✓ \u001b[39m\u001b[90mlibblastrampoline_jll\u001b[39m\n",
      "\u001b[32m  ✓ \u001b[39m\u001b[90mTables\u001b[39m\n",
      "\u001b[32m  ✓ \u001b[39m\u001b[90mSplitApplyCombine\u001b[39m\n",
      "\u001b[32m  ✓ \u001b[39mTypedTables\n",
      "  14 dependencies successfully precompiled in 11 seconds (15 already precompiled)\n",
      "\u001b[32m\u001b[1m   Resolving\u001b[22m\u001b[39m package versions...\n",
      "\u001b[32m\u001b[1m   Installed\u001b[22m\u001b[39m ReadOnlyArrays ─── v0.1.1\n",
      "\u001b[32m\u001b[1m   Installed\u001b[22m\u001b[39m TableShowUtils ─── v0.2.5\n",
      "\u001b[32m\u001b[1m   Installed\u001b[22m\u001b[39m DataTables ─────── v0.1.0\n",
      "\u001b[32m\u001b[1m   Installed\u001b[22m\u001b[39m Missings ───────── v1.0.2\n",
      "\u001b[32m\u001b[1m   Installed\u001b[22m\u001b[39m TableTraitsUtils ─ v1.0.2\n",
      "\u001b[32m\u001b[1m   Installed\u001b[22m\u001b[39m DataValues ─────── v0.4.13\n",
      "\u001b[32m\u001b[1m    Updating\u001b[22m\u001b[39m `C:\\Users\\Kenia\\.julia\\environments\\v1.7\\Project.toml`\n",
      " \u001b[90m [743a1d0a] \u001b[39m\u001b[92m+ DataTables v0.1.0\u001b[39m\n",
      "\u001b[32m\u001b[1m    Updating\u001b[22m\u001b[39m `C:\\Users\\Kenia\\.julia\\environments\\v1.7\\Manifest.toml`\n",
      " \u001b[90m [743a1d0a] \u001b[39m\u001b[92m+ DataTables v0.1.0\u001b[39m\n",
      " \u001b[90m [e7dc6d0d] \u001b[39m\u001b[92m+ DataValues v0.4.13\u001b[39m\n",
      " \u001b[90m [e1d29d7a] \u001b[39m\u001b[92m+ Missings v1.0.2\u001b[39m\n",
      " \u001b[90m [988b38a3] \u001b[39m\u001b[92m+ ReadOnlyArrays v0.1.1\u001b[39m\n",
      " \u001b[90m [5e66a065] \u001b[39m\u001b[92m+ TableShowUtils v0.2.5\u001b[39m\n",
      " \u001b[90m [382cd787] \u001b[39m\u001b[92m+ TableTraitsUtils v1.0.2\u001b[39m\n",
      " \u001b[90m [2f01184e] \u001b[39m\u001b[92m+ SparseArrays\u001b[39m\n",
      "\u001b[32m\u001b[1mPrecompiling\u001b[22m\u001b[39m project...\n",
      "\u001b[32m  ✓ \u001b[39m\u001b[90mReadOnlyArrays\u001b[39m\n",
      "\u001b[32m  ✓ \u001b[39m\u001b[90mMissings\u001b[39m\n",
      "\u001b[32m  ✓ \u001b[39m\u001b[90mDataValues\u001b[39m\n",
      "\u001b[32m  ✓ \u001b[39m\u001b[90mTableTraitsUtils\u001b[39m\n",
      "\u001b[32m  ✓ \u001b[39m\u001b[90mTableShowUtils\u001b[39m\n",
      "\u001b[32m  ✓ \u001b[39mDataTables\n",
      "  6 dependencies successfully precompiled in 7 seconds (29 already precompiled)\n",
      "\u001b[32m\u001b[1m   Resolving\u001b[22m\u001b[39m package versions...\n",
      "\u001b[32m\u001b[1m   Installed\u001b[22m\u001b[39m MacroTools ─ v0.5.9\n",
      "\u001b[32m\u001b[1m    Updating\u001b[22m\u001b[39m `C:\\Users\\Kenia\\.julia\\environments\\v1.7\\Project.toml`\n",
      " \u001b[90m [1914dd2f] \u001b[39m\u001b[92m+ MacroTools v0.5.9\u001b[39m\n",
      "\u001b[32m\u001b[1m    Updating\u001b[22m\u001b[39m `C:\\Users\\Kenia\\.julia\\environments\\v1.7\\Manifest.toml`\n",
      " \u001b[90m [1914dd2f] \u001b[39m\u001b[92m+ MacroTools v0.5.9\u001b[39m\n",
      "\u001b[32m\u001b[1mPrecompiling\u001b[22m\u001b[39m project...\n",
      "\u001b[32m  ✓ \u001b[39mMacroTools\n",
      "  1 dependency successfully precompiled in 6 seconds (35 already precompiled)\n"
     ]
    }
   ],
   "source": [
    "import Pkg\n",
    "Pkg.add(\"TypedTables\")\n",
    "Pkg.add(\"DataTables\")\n",
    "Pkg.add(\"MacroTools\")\n"
   ]
  },
  {
   "cell_type": "code",
   "execution_count": 5,
   "id": "3678e324",
   "metadata": {
    "scrolled": true
   },
   "outputs": [
    {
     "name": "stderr",
     "output_type": "stream",
     "text": [
      "\u001b[32m\u001b[1m   Resolving\u001b[22m\u001b[39m package versions...\n",
      "\u001b[32m\u001b[1m   Installed\u001b[22m\u001b[39m PooledArrays ────── v1.4.2\n",
      "\u001b[32m\u001b[1m   Installed\u001b[22m\u001b[39m Reexport ────────── v1.2.2\n",
      "\u001b[32m\u001b[1m   Installed\u001b[22m\u001b[39m InvertedIndices ─── v1.1.0\n",
      "\u001b[32m\u001b[1m   Installed\u001b[22m\u001b[39m Formatting ──────── v0.4.2\n",
      "\u001b[32m\u001b[1m   Installed\u001b[22m\u001b[39m Crayons ─────────── v4.1.1\n",
      "\u001b[32m\u001b[1m   Installed\u001b[22m\u001b[39m DataStructures ──── v0.18.12\n",
      "\u001b[32m\u001b[1m   Installed\u001b[22m\u001b[39m SortingAlgorithms ─ v1.0.1\n",
      "\u001b[32m\u001b[1m   Installed\u001b[22m\u001b[39m Compat ──────────── v3.43.0\n",
      "\u001b[32m\u001b[1m   Installed\u001b[22m\u001b[39m DataFrames ──────── v1.3.4\n",
      "\u001b[32m\u001b[1m   Installed\u001b[22m\u001b[39m PrettyTables ────── v1.3.1\n",
      "\u001b[32m\u001b[1m    Updating\u001b[22m\u001b[39m `C:\\Users\\Kenia\\.julia\\environments\\v1.7\\Project.toml`\n",
      " \u001b[90m [a93c6f00] \u001b[39m\u001b[92m+ DataFrames v1.3.4\u001b[39m\n",
      "\u001b[32m\u001b[1m    Updating\u001b[22m\u001b[39m `C:\\Users\\Kenia\\.julia\\environments\\v1.7\\Manifest.toml`\n",
      " \u001b[90m [34da2185] \u001b[39m\u001b[92m+ Compat v3.43.0\u001b[39m\n",
      " \u001b[90m [a8cc5b0e] \u001b[39m\u001b[92m+ Crayons v4.1.1\u001b[39m\n",
      " \u001b[90m [a93c6f00] \u001b[39m\u001b[92m+ DataFrames v1.3.4\u001b[39m\n",
      " \u001b[90m [864edb3b] \u001b[39m\u001b[92m+ DataStructures v0.18.12\u001b[39m\n",
      " \u001b[90m [59287772] \u001b[39m\u001b[92m+ Formatting v0.4.2\u001b[39m\n",
      " \u001b[90m [41ab1584] \u001b[39m\u001b[92m+ InvertedIndices v1.1.0\u001b[39m\n",
      " \u001b[90m [2dfb63ee] \u001b[39m\u001b[92m+ PooledArrays v1.4.2\u001b[39m\n",
      " \u001b[90m [08abe8d2] \u001b[39m\u001b[92m+ PrettyTables v1.3.1\u001b[39m\n",
      " \u001b[90m [189a3867] \u001b[39m\u001b[92m+ Reexport v1.2.2\u001b[39m\n",
      " \u001b[90m [a2af1166] \u001b[39m\u001b[92m+ SortingAlgorithms v1.0.1\u001b[39m\n",
      " \u001b[90m [8bb1440f] \u001b[39m\u001b[92m+ DelimitedFiles\u001b[39m\n",
      " \u001b[90m [8ba89e20] \u001b[39m\u001b[92m+ Distributed\u001b[39m\n",
      " \u001b[90m [9fa8497b] \u001b[39m\u001b[92m+ Future\u001b[39m\n",
      " \u001b[90m [1a1011a3] \u001b[39m\u001b[92m+ SharedArrays\u001b[39m\n",
      " \u001b[90m [10745b16] \u001b[39m\u001b[92m+ Statistics\u001b[39m\n",
      "\u001b[32m\u001b[1mPrecompiling\u001b[22m\u001b[39m project...\n",
      "\u001b[32m  ✓ \u001b[39m\u001b[90mReexport\u001b[39m\n",
      "\u001b[32m  ✓ \u001b[39m\u001b[90mInvertedIndices\u001b[39m\n",
      "\u001b[32m  ✓ \u001b[39m\u001b[90mCompat\u001b[39m\n",
      "\u001b[32m  ✓ \u001b[39m\u001b[90mFormatting\u001b[39m\n",
      "\u001b[32m  ✓ \u001b[39m\u001b[90mPooledArrays\u001b[39m\n",
      "\u001b[32m  ✓ \u001b[39m\u001b[90mCrayons\u001b[39m\n",
      "\u001b[32m  ✓ \u001b[39m\u001b[90mDataStructures\u001b[39m\n",
      "\u001b[32m  ✓ \u001b[39m\u001b[90mSortingAlgorithms\u001b[39m\n",
      "\u001b[32m  ✓ \u001b[39m\u001b[90mPrettyTables\u001b[39m\n",
      "\u001b[32m  ✓ \u001b[39mDataFrames\n",
      "  10 dependencies successfully precompiled in 68 seconds (36 already precompiled)\n"
     ]
    }
   ],
   "source": [
    "Pkg.add(\"DataFrames\")"
   ]
  },
  {
   "cell_type": "code",
   "execution_count": 9,
   "id": "838748ec",
   "metadata": {},
   "outputs": [
    {
     "name": "stderr",
     "output_type": "stream",
     "text": [
      "\u001b[32m\u001b[1m   Resolving\u001b[22m\u001b[39m package versions...\n",
      "\u001b[32m\u001b[1m  No Changes\u001b[22m\u001b[39m to `C:\\Users\\Kenia\\.julia\\environments\\v1.7\\Project.toml`\n",
      "\u001b[32m\u001b[1m  No Changes\u001b[22m\u001b[39m to `C:\\Users\\Kenia\\.julia\\environments\\v1.7\\Manifest.toml`\n",
      "\u001b[32m\u001b[1m   Resolving\u001b[22m\u001b[39m package versions...\n",
      "\u001b[32m\u001b[1m  No Changes\u001b[22m\u001b[39m to `C:\\Users\\Kenia\\.julia\\environments\\v1.7\\Project.toml`\n",
      "\u001b[32m\u001b[1m  No Changes\u001b[22m\u001b[39m to `C:\\Users\\Kenia\\.julia\\environments\\v1.7\\Manifest.toml`\n",
      "\u001b[32m\u001b[1m   Resolving\u001b[22m\u001b[39m package versions...\n",
      "\u001b[32m\u001b[1m  No Changes\u001b[22m\u001b[39m to `C:\\Users\\Kenia\\.julia\\environments\\v1.7\\Project.toml`\n",
      "\u001b[32m\u001b[1m  No Changes\u001b[22m\u001b[39m to `C:\\Users\\Kenia\\.julia\\environments\\v1.7\\Manifest.toml`\n",
      "\u001b[32m\u001b[1m   Resolving\u001b[22m\u001b[39m package versions...\n",
      "\u001b[32m\u001b[1m  No Changes\u001b[22m\u001b[39m to `C:\\Users\\Kenia\\.julia\\environments\\v1.7\\Project.toml`\n",
      "\u001b[32m\u001b[1m  No Changes\u001b[22m\u001b[39m to `C:\\Users\\Kenia\\.julia\\environments\\v1.7\\Manifest.toml`\n",
      "\u001b[32m\u001b[1m   Resolving\u001b[22m\u001b[39m package versions...\n",
      "\u001b[32m\u001b[1m  No Changes\u001b[22m\u001b[39m to `C:\\Users\\Kenia\\.julia\\environments\\v1.7\\Project.toml`\n",
      "\u001b[32m\u001b[1m  No Changes\u001b[22m\u001b[39m to `C:\\Users\\Kenia\\.julia\\environments\\v1.7\\Manifest.toml`\n",
      "\u001b[32m\u001b[1m   Resolving\u001b[22m\u001b[39m package versions...\n",
      "\u001b[32m\u001b[1m  No Changes\u001b[22m\u001b[39m to `C:\\Users\\Kenia\\.julia\\environments\\v1.7\\Project.toml`\n",
      "\u001b[32m\u001b[1m  No Changes\u001b[22m\u001b[39m to `C:\\Users\\Kenia\\.julia\\environments\\v1.7\\Manifest.toml`\n",
      "\u001b[32m\u001b[1m   Resolving\u001b[22m\u001b[39m package versions...\n",
      "\u001b[32m\u001b[1m  No Changes\u001b[22m\u001b[39m to `C:\\Users\\Kenia\\.julia\\environments\\v1.7\\Project.toml`\n",
      "\u001b[32m\u001b[1m  No Changes\u001b[22m\u001b[39m to `C:\\Users\\Kenia\\.julia\\environments\\v1.7\\Manifest.toml`\n",
      "\u001b[32m\u001b[1m   Resolving\u001b[22m\u001b[39m package versions...\n",
      "\u001b[32m\u001b[1m    Updating\u001b[22m\u001b[39m `C:\\Users\\Kenia\\.julia\\environments\\v1.7\\Project.toml`\n",
      " \u001b[90m [2913bbd2] \u001b[39m\u001b[92m+ StatsBase v0.33.16\u001b[39m\n",
      "\u001b[32m\u001b[1m  No Changes\u001b[22m\u001b[39m to `C:\\Users\\Kenia\\.julia\\environments\\v1.7\\Manifest.toml`\n",
      "\u001b[32m\u001b[1m   Resolving\u001b[22m\u001b[39m package versions...\n",
      "\u001b[32m\u001b[1m    Updating\u001b[22m\u001b[39m `C:\\Users\\Kenia\\.julia\\environments\\v1.7\\Project.toml`\n",
      " \u001b[90m [10745b16] \u001b[39m\u001b[92m+ Statistics\u001b[39m\n",
      "\u001b[32m\u001b[1m  No Changes\u001b[22m\u001b[39m to `C:\\Users\\Kenia\\.julia\\environments\\v1.7\\Manifest.toml`\n",
      "\u001b[32m\u001b[1m   Resolving\u001b[22m\u001b[39m package versions...\n",
      "\u001b[32m\u001b[1m  No Changes\u001b[22m\u001b[39m to `C:\\Users\\Kenia\\.julia\\environments\\v1.7\\Project.toml`\n",
      "\u001b[32m\u001b[1m  No Changes\u001b[22m\u001b[39m to `C:\\Users\\Kenia\\.julia\\environments\\v1.7\\Manifest.toml`\n",
      "\u001b[32m\u001b[1m   Resolving\u001b[22m\u001b[39m package versions...\n",
      "\u001b[32m\u001b[1m  No Changes\u001b[22m\u001b[39m to `C:\\Users\\Kenia\\.julia\\environments\\v1.7\\Project.toml`\n",
      "\u001b[32m\u001b[1m  No Changes\u001b[22m\u001b[39m to `C:\\Users\\Kenia\\.julia\\environments\\v1.7\\Manifest.toml`\n",
      "\u001b[32m\u001b[1m   Resolving\u001b[22m\u001b[39m package versions...\n",
      "\u001b[32m\u001b[1m   Installed\u001b[22m\u001b[39m NamedArrays ─ v0.9.6\n",
      "\u001b[32m\u001b[1m    Updating\u001b[22m\u001b[39m `C:\\Users\\Kenia\\.julia\\environments\\v1.7\\Project.toml`\n",
      " \u001b[90m [86f7a689] \u001b[39m\u001b[92m+ NamedArrays v0.9.6\u001b[39m\n",
      "\u001b[32m\u001b[1m    Updating\u001b[22m\u001b[39m `C:\\Users\\Kenia\\.julia\\environments\\v1.7\\Manifest.toml`\n",
      " \u001b[90m [86f7a689] \u001b[39m\u001b[92m+ NamedArrays v0.9.6\u001b[39m\n",
      "\u001b[32m\u001b[1mPrecompiling\u001b[22m\u001b[39m project...\n",
      "\u001b[32m  ✓ \u001b[39mNamedArrays\n",
      "  1 dependency successfully precompiled in 2 seconds (85 already precompiled)\n",
      "\u001b[32m\u001b[1m   Resolving\u001b[22m\u001b[39m package versions...\n",
      "\u001b[32m\u001b[1m  No Changes\u001b[22m\u001b[39m to `C:\\Users\\Kenia\\.julia\\environments\\v1.7\\Project.toml`\n",
      "\u001b[32m\u001b[1m  No Changes\u001b[22m\u001b[39m to `C:\\Users\\Kenia\\.julia\\environments\\v1.7\\Manifest.toml`\n",
      "\u001b[32m\u001b[1m   Resolving\u001b[22m\u001b[39m package versions...\n",
      "\u001b[32m\u001b[1m    Updating\u001b[22m\u001b[39m `C:\\Users\\Kenia\\.julia\\environments\\v1.7\\Project.toml`\n",
      " \u001b[90m [8ba89e20] \u001b[39m\u001b[92m+ Distributed\u001b[39m\n",
      "\u001b[32m\u001b[1m  No Changes\u001b[22m\u001b[39m to `C:\\Users\\Kenia\\.julia\\environments\\v1.7\\Manifest.toml`\n"
     ]
    }
   ],
   "source": [
    "Pkg.add(\"Lasso\")\n",
    "Pkg.add(\"GLM\")\n",
    "Pkg.add(\"StatsModels\")\n",
    "Pkg.add(\"DelimitedFiles\")\n",
    "Pkg.add(\"FilePaths\")\n",
    "Pkg.add(\"Combinatorics\")\n",
    "Pkg.add(\"CategoricalArrays\")\n",
    "Pkg.add(\"StatsBase\")\n",
    "Pkg.add(\"Statistics\")\n",
    "Pkg.add(\"TypedTables\")\n",
    "Pkg.add(\"MacroTools\")\n",
    "Pkg.add(\"NamedArrays\")\n",
    "Pkg.add(\"DataTables\")\n",
    "Pkg.add(\"Distributed\")"
   ]
  },
  {
   "cell_type": "code",
   "execution_count": 10,
   "id": "b6936a78",
   "metadata": {
    "scrolled": true
   },
   "outputs": [],
   "source": [
    "using Random\n",
    "using DataFrames\n",
    "using Lasso\n",
    "using GLM, StatsModels\n",
    "using DelimitedFiles\n",
    "using FilePaths\n",
    "using Combinatorics\n",
    "using CategoricalArrays\n",
    "using StatsBase, Statistics\n",
    "using TypedTables\n",
    "using MacroTools\n",
    "using NamedArrays\n",
    "using DataTables"
   ]
  },
  {
   "cell_type": "code",
   "execution_count": 14,
   "id": "db24d7cc",
   "metadata": {
    "scrolled": true
   },
   "outputs": [
    {
     "name": "stderr",
     "output_type": "stream",
     "text": [
      "\u001b[32m\u001b[1m   Resolving\u001b[22m\u001b[39m package versions...\n",
      "\u001b[32m\u001b[1m    Updating\u001b[22m\u001b[39m `C:\\Users\\Kenia\\.julia\\environments\\v1.7\\Project.toml`\n",
      " \u001b[90m [31c24e10] \u001b[39m\u001b[92m+ Distributions v0.25.58\u001b[39m\n",
      "\u001b[32m\u001b[1m  No Changes\u001b[22m\u001b[39m to `C:\\Users\\Kenia\\.julia\\environments\\v1.7\\Manifest.toml`\n"
     ]
    }
   ],
   "source": [
    "Pkg.add(\"Distributions\")"
   ]
  },
  {
   "cell_type": "code",
   "execution_count": 17,
   "id": "3d367b69",
   "metadata": {
    "scrolled": true
   },
   "outputs": [
    {
     "name": "stderr",
     "output_type": "stream",
     "text": [
      "\u001b[32m\u001b[1m   Resolving\u001b[22m\u001b[39m package versions...\n",
      "\u001b[32m\u001b[1m    Updating\u001b[22m\u001b[39m `C:\\Users\\Kenia\\.julia\\environments\\v1.7\\Project.toml`\n",
      " \u001b[90m [bd369af6] \u001b[39m\u001b[92m+ Tables v1.7.0\u001b[39m\n",
      "\u001b[32m\u001b[1m  No Changes\u001b[22m\u001b[39m to `C:\\Users\\Kenia\\.julia\\environments\\v1.7\\Manifest.toml`\n"
     ]
    }
   ],
   "source": [
    "Pkg.add(\"Tables\")"
   ]
  },
  {
   "cell_type": "code",
   "execution_count": 20,
   "id": "e74bdc38",
   "metadata": {
    "scrolled": true
   },
   "outputs": [
    {
     "name": "stderr",
     "output_type": "stream",
     "text": [
      "\u001b[32m\u001b[1m   Resolving\u001b[22m\u001b[39m package versions...\n",
      "\u001b[32m\u001b[1m   Installed\u001b[22m\u001b[39m TableOperations ─ v1.2.0\n",
      "\u001b[32m\u001b[1m   Installed\u001b[22m\u001b[39m SentinelArrays ── v1.3.12\n",
      "\u001b[32m\u001b[1m    Updating\u001b[22m\u001b[39m `C:\\Users\\Kenia\\.julia\\environments\\v1.7\\Project.toml`\n",
      " \u001b[90m [ab02a1b2] \u001b[39m\u001b[92m+ TableOperations v1.2.0\u001b[39m\n",
      "\u001b[32m\u001b[1m    Updating\u001b[22m\u001b[39m `C:\\Users\\Kenia\\.julia\\environments\\v1.7\\Manifest.toml`\n",
      " \u001b[90m [91c51154] \u001b[39m\u001b[92m+ SentinelArrays v1.3.12\u001b[39m\n",
      " \u001b[90m [ab02a1b2] \u001b[39m\u001b[92m+ TableOperations v1.2.0\u001b[39m\n",
      "\u001b[32m\u001b[1mPrecompiling\u001b[22m\u001b[39m project...\n",
      "\u001b[32m  ✓ \u001b[39m\u001b[90mSentinelArrays\u001b[39m\n",
      "\u001b[32m  ✓ \u001b[39mTableOperations\n",
      "  2 dependencies successfully precompiled in 7 seconds (86 already precompiled)\n"
     ]
    }
   ],
   "source": [
    "Pkg.add(\"TableOperations\")"
   ]
  },
  {
   "cell_type": "code",
   "execution_count": 23,
   "id": "266c5b4c",
   "metadata": {},
   "outputs": [
    {
     "name": "stderr",
     "output_type": "stream",
     "text": [
      "\u001b[32m\u001b[1m   Resolving\u001b[22m\u001b[39m package versions...\n",
      "\u001b[32m\u001b[1m   Installed\u001b[22m\u001b[39m FreqTables ─ v0.4.5\n",
      "\u001b[32m\u001b[1m    Updating\u001b[22m\u001b[39m `C:\\Users\\Kenia\\.julia\\environments\\v1.7\\Project.toml`\n",
      " \u001b[90m [da1fdf0e] \u001b[39m\u001b[92m+ FreqTables v0.4.5\u001b[39m\n",
      "\u001b[32m\u001b[1m    Updating\u001b[22m\u001b[39m `C:\\Users\\Kenia\\.julia\\environments\\v1.7\\Manifest.toml`\n",
      " \u001b[90m [da1fdf0e] \u001b[39m\u001b[92m+ FreqTables v0.4.5\u001b[39m\n",
      "\u001b[32m\u001b[1mPrecompiling\u001b[22m\u001b[39m project...\n",
      "\u001b[32m  ✓ \u001b[39mFreqTables\n",
      "  1 dependency successfully precompiled in 2 seconds (88 already precompiled)\n"
     ]
    }
   ],
   "source": [
    "Pkg.add(\"FreqTables\")"
   ]
  },
  {
   "cell_type": "code",
   "execution_count": 24,
   "id": "2d1a35b7",
   "metadata": {},
   "outputs": [],
   "source": [
    "using Distributed\n",
    "using Distributions\n",
    "using Tables\n",
    "using TableOperations\n",
    "using FreqTables"
   ]
  },
  {
   "cell_type": "markdown",
   "id": "e2447e37",
   "metadata": {},
   "source": [
    "## ORTOGONAL LEARNING"
   ]
  },
  {
   "cell_type": "code",
   "execution_count": 25,
   "id": "5e6f35ba",
   "metadata": {},
   "outputs": [],
   "source": [
    "include(\"../../Github/ECO224/Labs/Julia_Notebooks/hdmjl/hdmjl.jl\")"
   ]
  },
  {
   "cell_type": "code",
   "execution_count": 26,
   "id": "4eaba118",
   "metadata": {},
   "outputs": [
    {
     "data": {
      "text/plain": [
       "100×1 Matrix{Float64}:\n",
       " 1.0\n",
       " 0.25\n",
       " 0.1111111111111111\n",
       " 0.0625\n",
       " 0.04\n",
       " 0.027777777777777776\n",
       " 0.02040816326530612\n",
       " 0.015625\n",
       " 0.012345679012345678\n",
       " 0.01\n",
       " 0.008264462809917356\n",
       " 0.006944444444444444\n",
       " 0.005917159763313609\n",
       " ⋮\n",
       " 0.00012624668602449185\n",
       " 0.0001234567901234568\n",
       " 0.00012075836251660427\n",
       " 0.00011814744801512288\n",
       " 0.00011562030292519366\n",
       " 0.00011317338162064282\n",
       " 0.00011080332409972299\n",
       " 0.00010850694444444444\n",
       " 0.00010628122010840685\n",
       " 0.00010412328196584757\n",
       " 0.00010203040506070809\n",
       " 0.0001"
      ]
     },
     "execution_count": 26,
     "metadata": {},
     "output_type": "execute_result"
    }
   ],
   "source": [
    "n = 100\n",
    "p = 100\n",
    "beta =  reshape(( 1 ./ (1:p).^ 2 ),100,1)\n",
    "gamma = reshape(( 1 ./ (1:p).^ 2 ),100,1)\n",
    "\n"
   ]
  },
  {
   "cell_type": "code",
   "execution_count": 50,
   "id": "54595f96",
   "metadata": {
    "scrolled": true
   },
   "outputs": [
    {
     "data": {
      "text/html": [
       "<div class=\"data-frame\"><p>100 rows × 1 columns</p><table class=\"data-frame\"><thead><tr><th></th><th>D_D</th></tr><tr><th></th><th title=\"Float64\">Float64</th></tr></thead><tbody><tr><th>1</th><td>-1.25148</td></tr><tr><th>2</th><td>-0.753091</td></tr><tr><th>3</th><td>0.212991</td></tr><tr><th>4</th><td>1.33837</td></tr><tr><th>5</th><td>0.249429</td></tr><tr><th>6</th><td>2.01809</td></tr><tr><th>7</th><td>-1.53922</td></tr><tr><th>8</th><td>-0.656224</td></tr><tr><th>9</th><td>-1.17822</td></tr><tr><th>10</th><td>0.155305</td></tr><tr><th>11</th><td>1.9986</td></tr><tr><th>12</th><td>-1.44567</td></tr><tr><th>13</th><td>0.292806</td></tr><tr><th>14</th><td>0.452718</td></tr><tr><th>15</th><td>-1.14028</td></tr><tr><th>16</th><td>2.24116</td></tr><tr><th>17</th><td>-0.194702</td></tr><tr><th>18</th><td>0.37422</td></tr><tr><th>19</th><td>0.106099</td></tr><tr><th>20</th><td>-0.492125</td></tr><tr><th>21</th><td>0.398381</td></tr><tr><th>22</th><td>0.968653</td></tr><tr><th>23</th><td>0.154029</td></tr><tr><th>24</th><td>0.35775</td></tr><tr><th>25</th><td>-1.61808</td></tr><tr><th>26</th><td>-0.137706</td></tr><tr><th>27</th><td>1.38599</td></tr><tr><th>28</th><td>-1.25865</td></tr><tr><th>29</th><td>-0.537904</td></tr><tr><th>30</th><td>0.833619</td></tr><tr><th>&vellip;</th><td>&vellip;</td></tr></tbody></table></div>"
      ],
      "text/latex": [
       "\\begin{tabular}{r|c}\n",
       "\t& D\\_D\\\\\n",
       "\t\\hline\n",
       "\t& Float64\\\\\n",
       "\t\\hline\n",
       "\t1 & -1.25148 \\\\\n",
       "\t2 & -0.753091 \\\\\n",
       "\t3 & 0.212991 \\\\\n",
       "\t4 & 1.33837 \\\\\n",
       "\t5 & 0.249429 \\\\\n",
       "\t6 & 2.01809 \\\\\n",
       "\t7 & -1.53922 \\\\\n",
       "\t8 & -0.656224 \\\\\n",
       "\t9 & -1.17822 \\\\\n",
       "\t10 & 0.155305 \\\\\n",
       "\t11 & 1.9986 \\\\\n",
       "\t12 & -1.44567 \\\\\n",
       "\t13 & 0.292806 \\\\\n",
       "\t14 & 0.452718 \\\\\n",
       "\t15 & -1.14028 \\\\\n",
       "\t16 & 2.24116 \\\\\n",
       "\t17 & -0.194702 \\\\\n",
       "\t18 & 0.37422 \\\\\n",
       "\t19 & 0.106099 \\\\\n",
       "\t20 & -0.492125 \\\\\n",
       "\t21 & 0.398381 \\\\\n",
       "\t22 & 0.968653 \\\\\n",
       "\t23 & 0.154029 \\\\\n",
       "\t24 & 0.35775 \\\\\n",
       "\t25 & -1.61808 \\\\\n",
       "\t26 & -0.137706 \\\\\n",
       "\t27 & 1.38599 \\\\\n",
       "\t28 & -1.25865 \\\\\n",
       "\t29 & -0.537904 \\\\\n",
       "\t30 & 0.833619 \\\\\n",
       "\t$\\dots$ & $\\dots$ \\\\\n",
       "\\end{tabular}\n"
      ],
      "text/plain": [
       "\u001b[1m100×1 DataFrame\u001b[0m\n",
       "\u001b[1m Row \u001b[0m│\u001b[1m D_D        \u001b[0m\n",
       "\u001b[1m     \u001b[0m│\u001b[90m Float64    \u001b[0m\n",
       "─────┼────────────\n",
       "   1 │ -1.25148\n",
       "   2 │ -0.753091\n",
       "   3 │  0.212991\n",
       "   4 │  1.33837\n",
       "   5 │  0.249429\n",
       "   6 │  2.01809\n",
       "   7 │ -1.53922\n",
       "   8 │ -0.656224\n",
       "   9 │ -1.17822\n",
       "  10 │  0.155305\n",
       "  11 │  1.9986\n",
       "  ⋮  │     ⋮\n",
       "  91 │ -0.402659\n",
       "  92 │ -0.340532\n",
       "  93 │ -1.22469\n",
       "  94 │  0.725501\n",
       "  95 │  0.159809\n",
       "  96 │ -0.377335\n",
       "  97 │ -0.61858\n",
       "  98 │ -0.0985386\n",
       "  99 │ -0.0275758\n",
       " 100 │ -1.83266\n",
       "\u001b[36m   79 rows omitted\u001b[0m"
      ]
     },
     "execution_count": 50,
     "metadata": {},
     "output_type": "execute_result"
    }
   ],
   "source": [
    "\n",
    "sd = 1\n",
    "X = randn(( n, p ))\n",
    "\n",
    "D = ( X * gamma ) + reshape(randn(n),n, 1)/4\n",
    "\n",
    "Y = D + ( X * beta ) + reshape(randn( n ), n, 1 )\n",
    "\n",
    "X_D = DataFrame(X,:auto)\n",
    "Y_D = DataFrame(Y,:auto)\n",
    "rename!(Y_D, :x1 => :Y_D)\n",
    "D_D = DataFrame(D,:auto)\n",
    "rename!(D_D, :x1 => :D_D)"
   ]
  },
  {
   "cell_type": "code",
   "execution_count": 30,
   "id": "2ef3a07d",
   "metadata": {},
   "outputs": [
    {
     "data": {
      "text/html": [
       "<div class=\"data-frame\"><p>100 rows × 2 columns</p><table class=\"data-frame\"><thead><tr><th></th><th>Y_D</th><th>D_D</th></tr><tr><th></th><th title=\"Float64\">Float64</th><th title=\"Float64\">Float64</th></tr></thead><tbody><tr><th>1</th><td>3.16448</td><td>1.29644</td></tr><tr><th>2</th><td>2.09811</td><td>1.00641</td></tr><tr><th>3</th><td>-0.129785</td><td>0.163398</td></tr><tr><th>4</th><td>0.324031</td><td>0.820074</td></tr><tr><th>5</th><td>-3.49643</td><td>-2.29458</td></tr><tr><th>6</th><td>0.0974431</td><td>0.121523</td></tr><tr><th>7</th><td>3.05313</td><td>1.98943</td></tr><tr><th>8</th><td>0.0487241</td><td>-0.253164</td></tr><tr><th>9</th><td>-2.12155</td><td>-1.09096</td></tr><tr><th>10</th><td>0.180609</td><td>-0.651592</td></tr><tr><th>11</th><td>0.623972</td><td>-0.230032</td></tr><tr><th>12</th><td>-1.62893</td><td>-0.524311</td></tr><tr><th>13</th><td>-5.16614</td><td>-2.34316</td></tr><tr><th>14</th><td>-1.01348</td><td>-0.70835</td></tr><tr><th>15</th><td>-0.315171</td><td>-0.370985</td></tr><tr><th>16</th><td>3.4207</td><td>1.0359</td></tr><tr><th>17</th><td>-1.1215</td><td>-0.455117</td></tr><tr><th>18</th><td>2.65278</td><td>0.973077</td></tr><tr><th>19</th><td>-1.51866</td><td>-0.0133569</td></tr><tr><th>20</th><td>2.1037</td><td>0.576828</td></tr><tr><th>21</th><td>-0.518101</td><td>-0.268376</td></tr><tr><th>22</th><td>0.894323</td><td>0.518748</td></tr><tr><th>23</th><td>-0.177601</td><td>-0.607386</td></tr><tr><th>24</th><td>-0.612565</td><td>0.173688</td></tr><tr><th>25</th><td>-1.95396</td><td>-1.29694</td></tr><tr><th>26</th><td>-1.97553</td><td>-1.36201</td></tr><tr><th>27</th><td>-0.138999</td><td>-0.995325</td></tr><tr><th>28</th><td>-0.606335</td><td>-0.287454</td></tr><tr><th>29</th><td>0.0604333</td><td>0.645998</td></tr><tr><th>30</th><td>3.05602</td><td>1.04396</td></tr><tr><th>&vellip;</th><td>&vellip;</td><td>&vellip;</td></tr></tbody></table></div>"
      ],
      "text/latex": [
       "\\begin{tabular}{r|cc}\n",
       "\t& Y\\_D & D\\_D\\\\\n",
       "\t\\hline\n",
       "\t& Float64 & Float64\\\\\n",
       "\t\\hline\n",
       "\t1 & 3.16448 & 1.29644 \\\\\n",
       "\t2 & 2.09811 & 1.00641 \\\\\n",
       "\t3 & -0.129785 & 0.163398 \\\\\n",
       "\t4 & 0.324031 & 0.820074 \\\\\n",
       "\t5 & -3.49643 & -2.29458 \\\\\n",
       "\t6 & 0.0974431 & 0.121523 \\\\\n",
       "\t7 & 3.05313 & 1.98943 \\\\\n",
       "\t8 & 0.0487241 & -0.253164 \\\\\n",
       "\t9 & -2.12155 & -1.09096 \\\\\n",
       "\t10 & 0.180609 & -0.651592 \\\\\n",
       "\t11 & 0.623972 & -0.230032 \\\\\n",
       "\t12 & -1.62893 & -0.524311 \\\\\n",
       "\t13 & -5.16614 & -2.34316 \\\\\n",
       "\t14 & -1.01348 & -0.70835 \\\\\n",
       "\t15 & -0.315171 & -0.370985 \\\\\n",
       "\t16 & 3.4207 & 1.0359 \\\\\n",
       "\t17 & -1.1215 & -0.455117 \\\\\n",
       "\t18 & 2.65278 & 0.973077 \\\\\n",
       "\t19 & -1.51866 & -0.0133569 \\\\\n",
       "\t20 & 2.1037 & 0.576828 \\\\\n",
       "\t21 & -0.518101 & -0.268376 \\\\\n",
       "\t22 & 0.894323 & 0.518748 \\\\\n",
       "\t23 & -0.177601 & -0.607386 \\\\\n",
       "\t24 & -0.612565 & 0.173688 \\\\\n",
       "\t25 & -1.95396 & -1.29694 \\\\\n",
       "\t26 & -1.97553 & -1.36201 \\\\\n",
       "\t27 & -0.138999 & -0.995325 \\\\\n",
       "\t28 & -0.606335 & -0.287454 \\\\\n",
       "\t29 & 0.0604333 & 0.645998 \\\\\n",
       "\t30 & 3.05602 & 1.04396 \\\\\n",
       "\t$\\dots$ & $\\dots$ & $\\dots$ \\\\\n",
       "\\end{tabular}\n"
      ],
      "text/plain": [
       "\u001b[1m100×2 DataFrame\u001b[0m\n",
       "\u001b[1m Row \u001b[0m│\u001b[1m Y_D         \u001b[0m\u001b[1m D_D        \u001b[0m\n",
       "\u001b[1m     \u001b[0m│\u001b[90m Float64     \u001b[0m\u001b[90m Float64    \u001b[0m\n",
       "─────┼─────────────────────────\n",
       "   1 │  3.16448      1.29644\n",
       "   2 │  2.09811      1.00641\n",
       "   3 │ -0.129785     0.163398\n",
       "   4 │  0.324031     0.820074\n",
       "   5 │ -3.49643     -2.29458\n",
       "   6 │  0.0974431    0.121523\n",
       "   7 │  3.05313      1.98943\n",
       "   8 │  0.0487241   -0.253164\n",
       "   9 │ -2.12155     -1.09096\n",
       "  10 │  0.180609    -0.651592\n",
       "  11 │  0.623972    -0.230032\n",
       "  ⋮  │      ⋮           ⋮\n",
       "  91 │ -1.23198     -0.11476\n",
       "  92 │  2.63938      0.982949\n",
       "  93 │ -1.23253     -1.72983\n",
       "  94 │  0.350814     0.190552\n",
       "  95 │  0.258254    -0.920695\n",
       "  96 │  1.64992      0.665627\n",
       "  97 │  0.586482    -0.349574\n",
       "  98 │ -1.90228     -1.06118\n",
       "  99 │  0.00754495   0.0833853\n",
       " 100 │  3.88147      1.56566\n",
       "\u001b[36m                79 rows omitted\u001b[0m"
      ]
     },
     "execution_count": 30,
     "metadata": {},
     "output_type": "execute_result"
    }
   ],
   "source": [
    "DX = hcat( D_D, X_D)\n",
    "YD = hcat( Y_D , D_D)"
   ]
  },
  {
   "cell_type": "code",
   "execution_count": 32,
   "id": "b73bd1c7",
   "metadata": {},
   "outputs": [],
   "source": [
    "using LinearAlgebra, GLM, DataFrames, Statistics, Random, Distributions, Tables, TableOperations, StatsBase, FreqTables, DataFrames\n",
    "    "
   ]
  },
  {
   "cell_type": "code",
   "execution_count": 37,
   "id": "20e6d4eb",
   "metadata": {},
   "outputs": [
    {
     "data": {
      "text/plain": [
       "1-element Vector{Int64}:\n",
       " 1"
      ]
     },
     "execution_count": 37,
     "metadata": {},
     "output_type": "execute_result"
    }
   ],
   "source": [
    "\n",
    "r_lasso_estimation_r = rlasso_arg( DX, Y_D, nothing, true, true, true, false, false, \n",
    "                    nothing, 1.1, nothing, 5000, 15, 10^(-5), -Inf, true, Inf, true )\n",
    "\n",
    "coef_array = rlasso(r_lasso_estimation_r)[\"beta\"][2:end ,2]\n",
    "SX_IDs  = findall(x-> x != 0,coef_array)"
   ]
  },
  {
   "cell_type": "code",
   "execution_count": 48,
   "id": "6602ec74",
   "metadata": {},
   "outputs": [
    {
     "ename": "LoadError",
     "evalue": "UndefVarError: Naive not defined",
     "output_type": "error",
     "traceback": [
      "UndefVarError: Naive not defined",
      "",
      "Stacktrace:",
      " [1] top-level scope",
      "   @ In[48]:10",
      " [2] eval",
      "   @ .\\boot.jl:373 [inlined]",
      " [3] include_string(mapexpr::typeof(REPL.softscope), mod::Module, code::String, filename::String)",
      "   @ Base .\\loading.jl:1196"
     ]
    }
   ],
   "source": [
    "# In case all X coefficients are zero, then regress Y on D\n",
    "if sum(SX_IDs) == 0 \n",
    "    reg = lm( @formula(Y_D ~ D_D), YD )\n",
    "    Naive[i] = GLM.coeftable(reg).cols[1,1][2]\n",
    "# Otherwise, then regress Y on X and D (but only in the selected coefficients)\n",
    "elseif sum( SX_IDs ) > 0\n",
    "    X_ = hcat(Y_D, D_D, X_D[:, SX_IDs ],makeunique=true ) \n",
    "    rename!(X_,:x1 => :X_)\n",
    "    reg = lm( @formula(Y_D ~ D_D+X_),X_)\n",
    "    NaiveCoordinateDescentCoordinateDescent[ i ] = GLM.coeftable(reg).cols[1,1][2]\n",
    "end"
   ]
  },
  {
   "cell_type": "code",
   "execution_count": 36,
   "id": "c711b0b3",
   "metadata": {
    "scrolled": false
   },
   "outputs": [
    {
     "ename": "LoadError",
     "evalue": "ArgumentError: Package rlasso not found in current path:\n- Run `import Pkg; Pkg.add(\"rlasso\")` to install the rlasso package.\n",
     "output_type": "error",
     "traceback": [
      "ArgumentError: Package rlasso not found in current path:\n- Run `import Pkg; Pkg.add(\"rlasso\")` to install the rlasso package.\n",
      "",
      "Stacktrace:",
      " [1] require(into::Module, mod::Symbol)",
      "   @ Base .\\loading.jl:967",
      " [2] eval",
      "   @ .\\boot.jl:373 [inlined]",
      " [3] include_string(mapexpr::typeof(REPL.softscope), mod::Module, code::String, filename::String)",
      "   @ Base .\\loading.jl:1196"
     ]
    }
   ],
   "source": [
    "import rlasso"
   ]
  },
  {
   "cell_type": "code",
   "execution_count": null,
   "id": "bbc7e7bc",
   "metadata": {},
   "outputs": [],
   "source": [
    "\n",
    "# In both cases we save D coefficient"
   ]
  },
  {
   "cell_type": "code",
   "execution_count": 51,
   "id": "6fc9f161",
   "metadata": {
    "scrolled": true
   },
   "outputs": [
    {
     "ename": "LoadError",
     "evalue": "MethodError: \u001b[0mCannot `convert` an object of type \u001b[92mMatrix{Float64}\u001b[39m\u001b[0m to an object of type \u001b[91mDataFrame\u001b[39m\n\u001b[0mClosest candidates are:\n\u001b[0m  convert(::Type{T}, \u001b[91m::P\u001b[39m) where {T, P<:(Polynomials.AbstractPolynomial{T})} at C:\\Users\\Kenia\\.julia\\packages\\Polynomials\\DglHf\\src\\common.jl:433\n\u001b[0m  convert(::Type{DataFrame}, \u001b[91m::SubDataFrame\u001b[39m) at C:\\Users\\Kenia\\.julia\\packages\\DataFrames\\zqFGs\\src\\subdataframe\\subdataframe.jl:304\n\u001b[0m  convert(::Type{T}, \u001b[91m::T\u001b[39m) where T at C:\\Users\\Kenia\\AppData\\Local\\Programs\\Julia-1.7.2\\share\\julia\\base\\essentials.jl:218\n\u001b[0m  ...",
     "output_type": "error",
     "traceback": [
      "MethodError: \u001b[0mCannot `convert` an object of type \u001b[92mMatrix{Float64}\u001b[39m\u001b[0m to an object of type \u001b[91mDataFrame\u001b[39m\n\u001b[0mClosest candidates are:\n\u001b[0m  convert(::Type{T}, \u001b[91m::P\u001b[39m) where {T, P<:(Polynomials.AbstractPolynomial{T})} at C:\\Users\\Kenia\\.julia\\packages\\Polynomials\\DglHf\\src\\common.jl:433\n\u001b[0m  convert(::Type{DataFrame}, \u001b[91m::SubDataFrame\u001b[39m) at C:\\Users\\Kenia\\.julia\\packages\\DataFrames\\zqFGs\\src\\subdataframe\\subdataframe.jl:304\n\u001b[0m  convert(::Type{T}, \u001b[91m::T\u001b[39m) where T at C:\\Users\\Kenia\\AppData\\Local\\Programs\\Julia-1.7.2\\share\\julia\\base\\essentials.jl:218\n\u001b[0m  ...",
      "",
      "Stacktrace:",
      " [1] top-level scope",
      "   @ In[51]:10",
      " [2] eval",
      "   @ .\\boot.jl:373 [inlined]",
      " [3] include_string(mapexpr::typeof(REPL.softscope), mod::Module, code::String, filename::String)",
      "   @ Base .\\loading.jl:1196"
     ]
    }
   ],
   "source": [
    "# Regress residuals. \n",
    "regY = rlasso_arg( X_D , Y_D, nothing, true, false, true, false, false, \n",
    "                    nothing, 1.1, nothing, 5000, 15, 10^(-5), -Inf, true, Inf, true )\n",
    "resY = rlasso(regY)[\"residuals\"]\n",
    "\n",
    "regD = rlasso_arg( X_D , D_D , nothing, true, false, true, false, false, \n",
    "                    nothing, 1.1, nothing, 5000, 15, 10^(-5), -Inf, true, Inf, true )\n",
    "resD = rlasso(regD)[\"residuals\"]\n",
    "\n",
    "eYeD = convert(DataFrame,hcat( resY , resD))\n",
    "rename!(eYeD,:x1 => :resY)\n",
    "rename!(eYeD,:x2 => :resD)\n",
    "\n",
    "res_reg= lm( @formula(resY ~ resD), eYeD)\n",
    "Orthogonal[ i ] = GLM.coeftable(reg).cols[1,1][2]"
   ]
  },
  {
   "cell_type": "markdown",
   "id": "4f93e73b",
   "metadata": {},
   "source": [
    "## DOUBLE LASSO - HETEROGENOUS WAGE EFFECTS"
   ]
  },
  {
   "cell_type": "code",
   "execution_count": 53,
   "id": "61fb1719",
   "metadata": {
    "scrolled": true
   },
   "outputs": [
    {
     "name": "stderr",
     "output_type": "stream",
     "text": [
      "\u001b[32m\u001b[1m   Resolving\u001b[22m\u001b[39m package versions...\n",
      "\u001b[32m\u001b[1m   Installed\u001b[22m\u001b[39m CodecZlib ────────── v0.7.0\n",
      "\u001b[32m\u001b[1m   Installed\u001b[22m\u001b[39m InlineStrings ────── v1.1.2\n",
      "\u001b[32m\u001b[1m   Installed\u001b[22m\u001b[39m Mocking ──────────── v0.7.3\n",
      "\u001b[32m\u001b[1m   Installed\u001b[22m\u001b[39m ExprTools ────────── v0.1.8\n",
      "\u001b[32m\u001b[1m   Installed\u001b[22m\u001b[39m RData ────────────── v0.8.3\n",
      "\u001b[32m\u001b[1m   Installed\u001b[22m\u001b[39m TranscodingStreams ─ v0.9.6\n",
      "\u001b[32m\u001b[1m   Installed\u001b[22m\u001b[39m FileIO ───────────── v1.14.0\n",
      "\u001b[32m\u001b[1m   Installed\u001b[22m\u001b[39m TimeZones ────────── v1.7.3\n",
      "\u001b[32m\u001b[1m    Updating\u001b[22m\u001b[39m `C:\\Users\\Kenia\\.julia\\environments\\v1.7\\Project.toml`\n",
      " \u001b[90m [df47a6cb] \u001b[39m\u001b[92m+ RData v0.8.3\u001b[39m\n",
      "\u001b[32m\u001b[1m    Updating\u001b[22m\u001b[39m `C:\\Users\\Kenia\\.julia\\environments\\v1.7\\Manifest.toml`\n",
      " \u001b[90m [944b1d66] \u001b[39m\u001b[92m+ CodecZlib v0.7.0\u001b[39m\n",
      " \u001b[90m [e2ba6199] \u001b[39m\u001b[92m+ ExprTools v0.1.8\u001b[39m\n",
      " \u001b[90m [5789e2e9] \u001b[39m\u001b[92m+ FileIO v1.14.0\u001b[39m\n",
      " \u001b[90m [842dd82b] \u001b[39m\u001b[92m+ InlineStrings v1.1.2\u001b[39m\n",
      " \u001b[90m [78c3b35d] \u001b[39m\u001b[92m+ Mocking v0.7.3\u001b[39m\n",
      " \u001b[90m [df47a6cb] \u001b[39m\u001b[92m+ RData v0.8.3\u001b[39m\n",
      " \u001b[90m [f269a46b] \u001b[39m\u001b[92m+ TimeZones v1.7.3\u001b[39m\n",
      " \u001b[90m [3bb67fe8] \u001b[39m\u001b[92m+ TranscodingStreams v0.9.6\u001b[39m\n",
      "\u001b[32m\u001b[1m    Building\u001b[22m\u001b[39m TimeZones → `C:\\Users\\Kenia\\.julia\\scratchspaces\\44cfe95a-1eb2-52ea-b672-e2afdf69b78f\\0a359b0ee27e4fbc90d9b3da1f48ddc6f98a0c9e\\build.log`\n",
      "\u001b[32m\u001b[1mPrecompiling\u001b[22m\u001b[39m project...\n",
      "\u001b[32m  ✓ \u001b[39m\u001b[90mTranscodingStreams\u001b[39m\n",
      "\u001b[32m  ✓ \u001b[39m\u001b[90mCodecZlib\u001b[39m\n",
      "\u001b[32m  ✓ \u001b[39m\u001b[90mFileIO\u001b[39m\n",
      "\u001b[32m  ✓ \u001b[39mRData\n",
      "  4 dependencies successfully precompiled in 17 seconds (93 already precompiled)\n"
     ]
    }
   ],
   "source": [
    "Pkg.add(\"RData\")"
   ]
  },
  {
   "cell_type": "code",
   "execution_count": 55,
   "id": "91247d78",
   "metadata": {
    "scrolled": true
   },
   "outputs": [
    {
     "name": "stderr",
     "output_type": "stream",
     "text": [
      "\u001b[32m\u001b[1m   Resolving\u001b[22m\u001b[39m package versions...\n",
      "\u001b[32m\u001b[1m    Updating\u001b[22m\u001b[39m `C:\\Users\\Kenia\\.julia\\environments\\v1.7\\Project.toml`\n",
      " \u001b[90m [864edb3b] \u001b[39m\u001b[92m+ DataStructures v0.18.12\u001b[39m\n",
      "\u001b[32m\u001b[1m  No Changes\u001b[22m\u001b[39m to `C:\\Users\\Kenia\\.julia\\environments\\v1.7\\Manifest.toml`\n",
      "\u001b[32m\u001b[1m   Resolving\u001b[22m\u001b[39m package versions...\n",
      "\u001b[32m\u001b[1m  No Changes\u001b[22m\u001b[39m to `C:\\Users\\Kenia\\.julia\\environments\\v1.7\\Project.toml`\n",
      "\u001b[32m\u001b[1m  No Changes\u001b[22m\u001b[39m to `C:\\Users\\Kenia\\.julia\\environments\\v1.7\\Manifest.toml`\n"
     ]
    }
   ],
   "source": [
    "Pkg.add(\"DataStructures\")\n",
    "Pkg.add(\"Combinatorics\")"
   ]
  },
  {
   "cell_type": "code",
   "execution_count": 57,
   "id": "d782d09f",
   "metadata": {
    "scrolled": true
   },
   "outputs": [
    {
     "name": "stderr",
     "output_type": "stream",
     "text": [
      "\u001b[32m\u001b[1m   Resolving\u001b[22m\u001b[39m package versions...\n",
      "\u001b[32m\u001b[1m    Updating\u001b[22m\u001b[39m `C:\\Users\\Kenia\\.julia\\environments\\v1.7\\Project.toml`\n",
      " \u001b[90m [08abe8d2] \u001b[39m\u001b[92m+ PrettyTables v1.3.1\u001b[39m\n",
      "\u001b[32m\u001b[1m  No Changes\u001b[22m\u001b[39m to `C:\\Users\\Kenia\\.julia\\environments\\v1.7\\Manifest.toml`\n"
     ]
    }
   ],
   "source": [
    "Pkg.add(\"PrettyTables\")"
   ]
  },
  {
   "cell_type": "code",
   "execution_count": 59,
   "id": "65143715",
   "metadata": {},
   "outputs": [
    {
     "name": "stderr",
     "output_type": "stream",
     "text": [
      "\u001b[32m\u001b[1m   Resolving\u001b[22m\u001b[39m package versions...\n",
      "\u001b[32m\u001b[1m   Installed\u001b[22m\u001b[39m Bzip2_jll ── v1.0.8+0\n",
      "\u001b[32m\u001b[1m   Installed\u001b[22m\u001b[39m CodecBzip2 ─ v0.7.2\n",
      "\u001b[32m\u001b[1m    Updating\u001b[22m\u001b[39m `C:\\Users\\Kenia\\.julia\\environments\\v1.7\\Project.toml`\n",
      " \u001b[90m [523fee87] \u001b[39m\u001b[92m+ CodecBzip2 v0.7.2\u001b[39m\n",
      "\u001b[32m\u001b[1m    Updating\u001b[22m\u001b[39m `C:\\Users\\Kenia\\.julia\\environments\\v1.7\\Manifest.toml`\n",
      " \u001b[90m [523fee87] \u001b[39m\u001b[92m+ CodecBzip2 v0.7.2\u001b[39m\n",
      " \u001b[90m [6e34b625] \u001b[39m\u001b[92m+ Bzip2_jll v1.0.8+0\u001b[39m\n",
      "\u001b[32m\u001b[1mPrecompiling\u001b[22m\u001b[39m project...\n",
      "\u001b[32m  ✓ \u001b[39m\u001b[90mBzip2_jll\u001b[39m\n",
      "\u001b[32m  ✓ \u001b[39mCodecBzip2\n",
      "  2 dependencies successfully precompiled in 2 seconds (97 already precompiled)\n"
     ]
    }
   ],
   "source": [
    "Pkg.add(\"CodecBzip2\")"
   ]
  },
  {
   "cell_type": "code",
   "execution_count": 60,
   "id": "4b0d3ebd",
   "metadata": {},
   "outputs": [],
   "source": [
    "using RData, LinearAlgebra, GLM, DataFrames, Statistics, Random, Distributions, \n",
    "DataStructures, NamedArrays, PrettyTables, StatsModels, Combinatorics\n",
    "\n",
    "import CodecBzip2"
   ]
  },
  {
   "cell_type": "code",
   "execution_count": 61,
   "id": "18845a80",
   "metadata": {},
   "outputs": [
    {
     "data": {
      "text/plain": [
       "Dict{String, Any} with 1 entry:\n",
       "  \"data\" => \u001b[1m29217×23 DataFrame\u001b[0m…"
      ]
     },
     "execution_count": 61,
     "metadata": {},
     "output_type": "execute_result"
    }
   ],
   "source": [
    "# Importing .Rdata file\n",
    "\n",
    "cps2012 = load(\"../data/cps2012.RData\")"
   ]
  },
  {
   "cell_type": "code",
   "execution_count": 62,
   "id": "0d7e7e6e",
   "metadata": {},
   "outputs": [
    {
     "data": {
      "text/plain": [
       "KeySet for a Dict{String, Any} with 1 entry. Keys:\n",
       "  \"data\""
      ]
     },
     "execution_count": 62,
     "metadata": {},
     "output_type": "execute_result"
    }
   ],
   "source": [
    "keys(cps2012)   # get information from key"
   ]
  },
  {
   "cell_type": "code",
   "execution_count": 63,
   "id": "54d0365c",
   "metadata": {},
   "outputs": [
    {
     "data": {
      "text/plain": [
       "23-element Vector{String}:\n",
       " \"year\"\n",
       " \"lnw\"\n",
       " \"female\"\n",
       " \"widowed\"\n",
       " \"divorced\"\n",
       " \"separated\"\n",
       " \"nevermarried\"\n",
       " \"hsd08\"\n",
       " \"hsd911\"\n",
       " \"hsg\"\n",
       " \"cg\"\n",
       " \"ad\"\n",
       " \"mw\"\n",
       " \"so\"\n",
       " \"we\"\n",
       " \"exp1\"\n",
       " \"exp2\"\n",
       " \"exp3\"\n",
       " \"exp4\"\n",
       " \"weight\"\n",
       " \"married\"\n",
       " \"ne\"\n",
       " \"sc\""
      ]
     },
     "execution_count": 63,
     "metadata": {},
     "output_type": "execute_result"
    }
   ],
   "source": [
    "cps2012 = cps2012[\"data\"]\n",
    "\n",
    "names(cps2012)"
   ]
  },
  {
   "cell_type": "code",
   "execution_count": 64,
   "id": "b58a60a0",
   "metadata": {},
   "outputs": [],
   "source": [
    "   # couples variables combinations \n",
    "    combinations_upto(x, n) = Iterators.flatten(combinations(x, i) for i in 1:n)\n",
    "\n",
    "    # combinations without same couple\n",
    "    expand_exp(args, deg::ConstantTerm) =\n",
    "        tuple(((&)(terms...) for terms in combinations_upto(args, deg.n))...)\n",
    "\n",
    "    StatsModels.apply_schema(t::FunctionTerm{typeof(^)}, sch::StatsModels.Schema, ctx::Type) =\n",
    "        apply_schema.(expand_exp(t.args_parsed...), Ref(sch), ctx)"
   ]
  },
  {
   "cell_type": "code",
   "execution_count": 65,
   "id": "64cf7182",
   "metadata": {},
   "outputs": [
    {
     "data": {
      "text/plain": [
       "FormulaTerm\n",
       "Response:\n",
       "  lnw(continuous)\n",
       "Predictors:\n",
       "  0\n",
       "  female(continuous)\n",
       "  widowed(continuous)\n",
       "  divorced(continuous)\n",
       "  separated(continuous)\n",
       "  nevermarried(continuous)\n",
       "  hsd08(continuous)\n",
       "  hsd911(continuous)\n",
       "  hsg(continuous)\n",
       "  cg(continuous)\n",
       "  ad(continuous)\n",
       "  mw(continuous)\n",
       "  so(continuous)\n",
       "  we(continuous)\n",
       "  exp1(continuous)\n",
       "  exp2(continuous)\n",
       "  exp3(continuous)\n",
       "  widowed(continuous) & divorced(continuous)\n",
       "  widowed(continuous) & separated(continuous)\n",
       "  widowed(continuous) & nevermarried(continuous)\n",
       "  widowed(continuous) & hsd08(continuous)\n",
       "  widowed(continuous) & hsd911(continuous)\n",
       "  widowed(continuous) & hsg(continuous)\n",
       "  widowed(continuous) & cg(continuous)\n",
       "  widowed(continuous) & ad(continuous)\n",
       "  widowed(continuous) & mw(continuous)\n",
       "  widowed(continuous) & so(continuous)\n",
       "  widowed(continuous) & we(continuous)\n",
       "  widowed(continuous) & exp1(continuous)\n",
       "  widowed(continuous) & exp2(continuous)\n",
       "  widowed(continuous) & exp3(continuous)\n",
       "  divorced(continuous) & separated(continuous)\n",
       "  divorced(continuous) & nevermarried(continuous)\n",
       "  divorced(continuous) & hsd08(continuous)\n",
       "  divorced(continuous) & hsd911(continuous)\n",
       "  divorced(continuous) & hsg(continuous)\n",
       "  divorced(continuous) & cg(continuous)\n",
       "  divorced(continuous) & ad(continuous)\n",
       "  divorced(continuous) & mw(continuous)\n",
       "  divorced(continuous) & so(continuous)\n",
       "  divorced(continuous) & we(continuous)\n",
       "  divorced(continuous) & exp1(continuous)\n",
       "  divorced(continuous) & exp2(continuous)\n",
       "  divorced(continuous) & exp3(continuous)\n",
       "  separated(continuous) & nevermarried(continuous)\n",
       "  separated(continuous) & hsd08(continuous)\n",
       "  separated(continuous) & hsd911(continuous)\n",
       "  separated(continuous) & hsg(continuous)\n",
       "  separated(continuous) & cg(continuous)\n",
       "  separated(continuous) & ad(continuous)\n",
       "  separated(continuous) & mw(continuous)\n",
       "  separated(continuous) & so(continuous)\n",
       "  separated(continuous) & we(continuous)\n",
       "  separated(continuous) & exp1(continuous)\n",
       "  separated(continuous) & exp2(continuous)\n",
       "  separated(continuous) & exp3(continuous)\n",
       "  nevermarried(continuous) & hsd08(continuous)\n",
       "  nevermarried(continuous) & hsd911(continuous)\n",
       "  nevermarried(continuous) & hsg(continuous)\n",
       "  nevermarried(continuous) & cg(continuous)\n",
       "  nevermarried(continuous) & ad(continuous)\n",
       "  nevermarried(continuous) & mw(continuous)\n",
       "  nevermarried(continuous) & so(continuous)\n",
       "  nevermarried(continuous) & we(continuous)\n",
       "  nevermarried(continuous) & exp1(continuous)\n",
       "  nevermarried(continuous) & exp2(continuous)\n",
       "  nevermarried(continuous) & exp3(continuous)\n",
       "  hsd08(continuous) & hsd911(continuous)\n",
       "  hsd08(continuous) & hsg(continuous)\n",
       "  hsd08(continuous) & cg(continuous)\n",
       "  hsd08(continuous) & ad(continuous)\n",
       "  hsd08(continuous) & mw(continuous)\n",
       "  hsd08(continuous) & so(continuous)\n",
       "  hsd08(continuous) & we(continuous)\n",
       "  hsd08(continuous) & exp1(continuous)\n",
       "  hsd08(continuous) & exp2(continuous)\n",
       "  hsd08(continuous) & exp3(continuous)\n",
       "  hsd911(continuous) & hsg(continuous)\n",
       "  hsd911(continuous) & cg(continuous)\n",
       "  hsd911(continuous) & ad(continuous)\n",
       "  hsd911(continuous) & mw(continuous)\n",
       "  hsd911(continuous) & so(continuous)\n",
       "  hsd911(continuous) & we(continuous)\n",
       "  hsd911(continuous) & exp1(continuous)\n",
       "  hsd911(continuous) & exp2(continuous)\n",
       "  hsd911(continuous) & exp3(continuous)\n",
       "  hsg(continuous) & cg(continuous)\n",
       "  hsg(continuous) & ad(continuous)\n",
       "  hsg(continuous) & mw(continuous)\n",
       "  hsg(continuous) & so(continuous)\n",
       "  hsg(continuous) & we(continuous)\n",
       "  hsg(continuous) & exp1(continuous)\n",
       "  hsg(continuous) & exp2(continuous)\n",
       "  hsg(continuous) & exp3(continuous)\n",
       "  cg(continuous) & ad(continuous)\n",
       "  cg(continuous) & mw(continuous)\n",
       "  cg(continuous) & so(continuous)\n",
       "  cg(continuous) & we(continuous)\n",
       "  cg(continuous) & exp1(continuous)\n",
       "  cg(continuous) & exp2(continuous)\n",
       "  cg(continuous) & exp3(continuous)\n",
       "  ad(continuous) & mw(continuous)\n",
       "  ad(continuous) & so(continuous)\n",
       "  ad(continuous) & we(continuous)\n",
       "  ad(continuous) & exp1(continuous)\n",
       "  ad(continuous) & exp2(continuous)\n",
       "  ad(continuous) & exp3(continuous)\n",
       "  mw(continuous) & so(continuous)\n",
       "  mw(continuous) & we(continuous)\n",
       "  mw(continuous) & exp1(continuous)\n",
       "  mw(continuous) & exp2(continuous)\n",
       "  mw(continuous) & exp3(continuous)\n",
       "  so(continuous) & we(continuous)\n",
       "  so(continuous) & exp1(continuous)\n",
       "  so(continuous) & exp2(continuous)\n",
       "  so(continuous) & exp3(continuous)\n",
       "  we(continuous) & exp1(continuous)\n",
       "  we(continuous) & exp2(continuous)\n",
       "  we(continuous) & exp3(continuous)\n",
       "  exp1(continuous) & exp2(continuous)\n",
       "  exp1(continuous) & exp3(continuous)\n",
       "  exp2(continuous) & exp3(continuous)\n",
       "  female(continuous) & widowed(continuous)\n",
       "  female(continuous) & divorced(continuous)\n",
       "  female(continuous) & separated(continuous)\n",
       "  female(continuous) & nevermarried(continuous)\n",
       "  female(continuous) & hsd08(continuous)\n",
       "  female(continuous) & hsd911(continuous)\n",
       "  female(continuous) & hsg(continuous)\n",
       "  female(continuous) & cg(continuous)\n",
       "  female(continuous) & ad(continuous)\n",
       "  female(continuous) & mw(continuous)\n",
       "  female(continuous) & so(continuous)\n",
       "  female(continuous) & we(continuous)\n",
       "  female(continuous) & exp1(continuous)\n",
       "  female(continuous) & exp2(continuous)\n",
       "  female(continuous) & exp3(continuous)"
      ]
     },
     "execution_count": 65,
     "metadata": {},
     "output_type": "execute_result"
    }
   ],
   "source": [
    "# Basic model \n",
    "\n",
    "\n",
    "reg = @formula(lnw ~ -1 + female + female&(widowed + divorced + separated + nevermarried +\n",
    "hsd08 + hsd911 + hsg + cg + ad + mw + so + we + exp1 + exp2 + exp3) + (widowed +\n",
    "divorced + separated + nevermarried + hsd08 + hsd911 + hsg + cg + ad + mw + so +\n",
    "we + exp1 + exp2 + exp3)^2 )\n",
    "\n",
    "\n",
    "formula_basic = apply_schema(reg, schema(reg, cps2012))\n"
   ]
  },
  {
   "cell_type": "code",
   "execution_count": 66,
   "id": "a8088439",
   "metadata": {},
   "outputs": [
    {
     "data": {
      "text/plain": [
       "(\"lnw\", Any[\"female\", \"widowed\", \"divorced\", \"separated\", \"nevermarried\", \"hsd08\", \"hsd911\", \"hsg\", \"cg\", \"ad\"  …  \"female & hsd911\", \"female & hsg\", \"female & cg\", \"female & ad\", \"female & mw\", \"female & so\", \"female & we\", \"female & exp1\", \"female & exp2\", \"female & exp3\"])"
      ]
     },
     "execution_count": 66,
     "metadata": {},
     "output_type": "execute_result"
    }
   ],
   "source": [
    "coefnames(formula_basic)"
   ]
  },
  {
   "cell_type": "code",
   "execution_count": 67,
   "id": "c94a3f5d",
   "metadata": {},
   "outputs": [
    {
     "data": {
      "text/plain": [
       "136-element Vector{Symbol}:\n",
       " :female\n",
       " :widowed\n",
       " :divorced\n",
       " :separated\n",
       " :nevermarried\n",
       " :hsd08\n",
       " :hsd911\n",
       " :hsg\n",
       " :cg\n",
       " :ad\n",
       " :mw\n",
       " :so\n",
       " :we\n",
       " ⋮\n",
       " Symbol(\"female & nevermarried\")\n",
       " Symbol(\"female & hsd08\")\n",
       " Symbol(\"female & hsd911\")\n",
       " Symbol(\"female & hsg\")\n",
       " Symbol(\"female & cg\")\n",
       " Symbol(\"female & ad\")\n",
       " Symbol(\"female & mw\")\n",
       " Symbol(\"female & so\")\n",
       " Symbol(\"female & we\")\n",
       " Symbol(\"female & exp1\")\n",
       " Symbol(\"female & exp2\")\n",
       " Symbol(\"female & exp3\")"
      ]
     },
     "execution_count": 67,
     "metadata": {},
     "output_type": "execute_result"
    }
   ],
   "source": [
    "Y = select(cps2012,:lnw)  # uptcome variable\n",
    "control = coefnames(formula_basic)[2]  # regresors \n",
    "names_col = Symbol.(control)  # string to Symbol to create varaible's name "
   ]
  },
  {
   "cell_type": "code",
   "execution_count": 68,
   "id": "1791a713",
   "metadata": {},
   "outputs": [
    {
     "data": {
      "text/plain": [
       "29217×136 Matrix{Float64}:\n",
       " 1.0  0.0  0.0  0.0  0.0  0.0  0.0  0.0  …  0.0  0.0  22.0  4.84    10.648\n",
       " 1.0  0.0  0.0  0.0  0.0  0.0  1.0  0.0     0.0  0.0  30.0  9.0     27.0\n",
       " 0.0  0.0  0.0  0.0  0.0  0.0  0.0  1.0     0.0  0.0   0.0  0.0      0.0\n",
       " 1.0  0.0  0.0  0.0  0.0  0.0  0.0  1.0     0.0  0.0  14.0  1.96     2.744\n",
       " 0.0  0.0  0.0  0.0  0.0  0.0  0.0  0.0     0.0  0.0   0.0  0.0      0.0\n",
       " 0.0  0.0  0.0  0.0  0.0  0.0  0.0  1.0  …  0.0  0.0   0.0  0.0      0.0\n",
       " 0.0  0.0  0.0  0.0  1.0  0.0  0.0  1.0     0.0  0.0   0.0  0.0      0.0\n",
       " 0.0  0.0  0.0  0.0  0.0  0.0  0.0  0.0     0.0  0.0   0.0  0.0      0.0\n",
       " 0.0  0.0  0.0  0.0  0.0  0.0  0.0  0.0     0.0  0.0   0.0  0.0      0.0\n",
       " 1.0  0.0  0.0  0.0  0.0  0.0  0.0  0.0     0.0  0.0  15.5  2.4025   3.72388\n",
       " 0.0  0.0  0.0  0.0  0.0  0.0  0.0  1.0  …  0.0  0.0   0.0  0.0      0.0\n",
       " 1.0  0.0  0.0  0.0  0.0  0.0  0.0  0.0     0.0  0.0   7.0  0.49     0.343\n",
       " 0.0  0.0  0.0  0.0  0.0  0.0  0.0  0.0     0.0  0.0   0.0  0.0      0.0\n",
       " ⋮                        ⋮              ⋱                           ⋮\n",
       " 1.0  0.0  0.0  0.0  0.0  0.0  0.0  0.0  …  0.0  1.0  15.0  2.25     3.375\n",
       " 0.0  0.0  0.0  0.0  1.0  0.0  0.0  1.0     0.0  0.0   0.0  0.0      0.0\n",
       " 1.0  0.0  0.0  0.0  1.0  0.0  0.0  0.0     0.0  1.0  18.0  3.24     5.832\n",
       " 1.0  0.0  0.0  0.0  1.0  0.0  0.0  0.0     0.0  1.0   5.0  0.25     0.125\n",
       " 0.0  0.0  0.0  0.0  0.0  0.0  0.0  1.0     0.0  0.0   0.0  0.0      0.0\n",
       " 0.0  0.0  0.0  0.0  0.0  0.0  0.0  0.0  …  0.0  0.0   0.0  0.0      0.0\n",
       " 1.0  0.0  0.0  0.0  0.0  0.0  0.0  1.0     0.0  1.0  16.0  2.56     4.096\n",
       " 0.0  0.0  0.0  0.0  1.0  0.0  0.0  0.0     0.0  0.0   0.0  0.0      0.0\n",
       " 1.0  0.0  0.0  0.0  1.0  0.0  0.0  0.0     0.0  1.0  16.0  2.56     4.096\n",
       " 1.0  0.0  0.0  0.0  0.0  0.0  0.0  0.0     0.0  1.0  21.0  4.41     9.261\n",
       " 0.0  0.0  0.0  0.0  0.0  0.0  0.0  0.0  …  0.0  0.0   0.0  0.0      0.0\n",
       " 1.0  0.0  0.0  0.0  0.0  0.0  0.0  0.0     0.0  1.0   2.0  0.04     0.008"
      ]
     },
     "execution_count": 68,
     "metadata": {},
     "output_type": "execute_result"
    }
   ],
   "source": [
    "X = StatsModels.modelmatrix(formula_basic,cps2012)"
   ]
  },
  {
   "cell_type": "code",
   "execution_count": 69,
   "id": "459a85cb",
   "metadata": {},
   "outputs": [
    {
     "data": {
      "text/html": [
       "<div class=\"data-frame\"><p>29,217 rows × 136 columns (omitted printing of 128 columns)</p><table class=\"data-frame\"><thead><tr><th></th><th>female</th><th>widowed</th><th>divorced</th><th>separated</th><th>nevermarried</th><th>hsd08</th><th>hsd911</th><th>hsg</th></tr><tr><th></th><th title=\"Float64\">Float64</th><th title=\"Float64\">Float64</th><th title=\"Float64\">Float64</th><th title=\"Float64\">Float64</th><th title=\"Float64\">Float64</th><th title=\"Float64\">Float64</th><th title=\"Float64\">Float64</th><th title=\"Float64\">Float64</th></tr></thead><tbody><tr><th>1</th><td>1.0</td><td>0.0</td><td>0.0</td><td>0.0</td><td>0.0</td><td>0.0</td><td>0.0</td><td>0.0</td></tr><tr><th>2</th><td>1.0</td><td>0.0</td><td>0.0</td><td>0.0</td><td>0.0</td><td>0.0</td><td>1.0</td><td>0.0</td></tr><tr><th>3</th><td>0.0</td><td>0.0</td><td>0.0</td><td>0.0</td><td>0.0</td><td>0.0</td><td>0.0</td><td>1.0</td></tr><tr><th>4</th><td>1.0</td><td>0.0</td><td>0.0</td><td>0.0</td><td>0.0</td><td>0.0</td><td>0.0</td><td>1.0</td></tr><tr><th>5</th><td>0.0</td><td>0.0</td><td>0.0</td><td>0.0</td><td>0.0</td><td>0.0</td><td>0.0</td><td>0.0</td></tr><tr><th>6</th><td>0.0</td><td>0.0</td><td>0.0</td><td>0.0</td><td>0.0</td><td>0.0</td><td>0.0</td><td>1.0</td></tr><tr><th>7</th><td>0.0</td><td>0.0</td><td>0.0</td><td>0.0</td><td>1.0</td><td>0.0</td><td>0.0</td><td>1.0</td></tr><tr><th>8</th><td>0.0</td><td>0.0</td><td>0.0</td><td>0.0</td><td>0.0</td><td>0.0</td><td>0.0</td><td>0.0</td></tr><tr><th>9</th><td>0.0</td><td>0.0</td><td>0.0</td><td>0.0</td><td>0.0</td><td>0.0</td><td>0.0</td><td>0.0</td></tr><tr><th>10</th><td>1.0</td><td>0.0</td><td>0.0</td><td>0.0</td><td>0.0</td><td>0.0</td><td>0.0</td><td>0.0</td></tr><tr><th>11</th><td>0.0</td><td>0.0</td><td>0.0</td><td>0.0</td><td>0.0</td><td>0.0</td><td>0.0</td><td>1.0</td></tr><tr><th>12</th><td>1.0</td><td>0.0</td><td>0.0</td><td>0.0</td><td>0.0</td><td>0.0</td><td>0.0</td><td>0.0</td></tr><tr><th>13</th><td>0.0</td><td>0.0</td><td>0.0</td><td>0.0</td><td>0.0</td><td>0.0</td><td>0.0</td><td>0.0</td></tr><tr><th>14</th><td>0.0</td><td>0.0</td><td>0.0</td><td>0.0</td><td>1.0</td><td>0.0</td><td>0.0</td><td>0.0</td></tr><tr><th>15</th><td>1.0</td><td>0.0</td><td>1.0</td><td>0.0</td><td>0.0</td><td>0.0</td><td>0.0</td><td>0.0</td></tr><tr><th>16</th><td>0.0</td><td>0.0</td><td>0.0</td><td>0.0</td><td>1.0</td><td>0.0</td><td>0.0</td><td>0.0</td></tr><tr><th>17</th><td>0.0</td><td>0.0</td><td>0.0</td><td>0.0</td><td>0.0</td><td>0.0</td><td>0.0</td><td>0.0</td></tr><tr><th>18</th><td>0.0</td><td>0.0</td><td>0.0</td><td>0.0</td><td>1.0</td><td>0.0</td><td>0.0</td><td>0.0</td></tr><tr><th>19</th><td>0.0</td><td>0.0</td><td>0.0</td><td>0.0</td><td>0.0</td><td>0.0</td><td>0.0</td><td>0.0</td></tr><tr><th>20</th><td>1.0</td><td>0.0</td><td>0.0</td><td>0.0</td><td>1.0</td><td>0.0</td><td>0.0</td><td>0.0</td></tr><tr><th>21</th><td>0.0</td><td>0.0</td><td>0.0</td><td>0.0</td><td>0.0</td><td>0.0</td><td>0.0</td><td>1.0</td></tr><tr><th>22</th><td>1.0</td><td>0.0</td><td>0.0</td><td>0.0</td><td>0.0</td><td>0.0</td><td>0.0</td><td>0.0</td></tr><tr><th>23</th><td>0.0</td><td>0.0</td><td>0.0</td><td>0.0</td><td>0.0</td><td>0.0</td><td>0.0</td><td>0.0</td></tr><tr><th>24</th><td>0.0</td><td>0.0</td><td>0.0</td><td>0.0</td><td>1.0</td><td>0.0</td><td>0.0</td><td>0.0</td></tr><tr><th>25</th><td>1.0</td><td>0.0</td><td>0.0</td><td>0.0</td><td>1.0</td><td>0.0</td><td>0.0</td><td>0.0</td></tr><tr><th>26</th><td>0.0</td><td>0.0</td><td>0.0</td><td>0.0</td><td>0.0</td><td>0.0</td><td>0.0</td><td>0.0</td></tr><tr><th>27</th><td>0.0</td><td>0.0</td><td>0.0</td><td>0.0</td><td>0.0</td><td>0.0</td><td>0.0</td><td>1.0</td></tr><tr><th>28</th><td>1.0</td><td>0.0</td><td>0.0</td><td>0.0</td><td>0.0</td><td>0.0</td><td>0.0</td><td>0.0</td></tr><tr><th>29</th><td>1.0</td><td>0.0</td><td>0.0</td><td>0.0</td><td>0.0</td><td>0.0</td><td>0.0</td><td>0.0</td></tr><tr><th>30</th><td>0.0</td><td>0.0</td><td>0.0</td><td>0.0</td><td>0.0</td><td>0.0</td><td>0.0</td><td>0.0</td></tr><tr><th>&vellip;</th><td>&vellip;</td><td>&vellip;</td><td>&vellip;</td><td>&vellip;</td><td>&vellip;</td><td>&vellip;</td><td>&vellip;</td><td>&vellip;</td></tr></tbody></table></div>"
      ],
      "text/latex": [
       "\\begin{tabular}{r|ccccccccc}\n",
       "\t& female & widowed & divorced & separated & nevermarried & hsd08 & hsd911 & hsg & \\\\\n",
       "\t\\hline\n",
       "\t& Float64 & Float64 & Float64 & Float64 & Float64 & Float64 & Float64 & Float64 & \\\\\n",
       "\t\\hline\n",
       "\t1 & 1.0 & 0.0 & 0.0 & 0.0 & 0.0 & 0.0 & 0.0 & 0.0 & $\\dots$ \\\\\n",
       "\t2 & 1.0 & 0.0 & 0.0 & 0.0 & 0.0 & 0.0 & 1.0 & 0.0 & $\\dots$ \\\\\n",
       "\t3 & 0.0 & 0.0 & 0.0 & 0.0 & 0.0 & 0.0 & 0.0 & 1.0 & $\\dots$ \\\\\n",
       "\t4 & 1.0 & 0.0 & 0.0 & 0.0 & 0.0 & 0.0 & 0.0 & 1.0 & $\\dots$ \\\\\n",
       "\t5 & 0.0 & 0.0 & 0.0 & 0.0 & 0.0 & 0.0 & 0.0 & 0.0 & $\\dots$ \\\\\n",
       "\t6 & 0.0 & 0.0 & 0.0 & 0.0 & 0.0 & 0.0 & 0.0 & 1.0 & $\\dots$ \\\\\n",
       "\t7 & 0.0 & 0.0 & 0.0 & 0.0 & 1.0 & 0.0 & 0.0 & 1.0 & $\\dots$ \\\\\n",
       "\t8 & 0.0 & 0.0 & 0.0 & 0.0 & 0.0 & 0.0 & 0.0 & 0.0 & $\\dots$ \\\\\n",
       "\t9 & 0.0 & 0.0 & 0.0 & 0.0 & 0.0 & 0.0 & 0.0 & 0.0 & $\\dots$ \\\\\n",
       "\t10 & 1.0 & 0.0 & 0.0 & 0.0 & 0.0 & 0.0 & 0.0 & 0.0 & $\\dots$ \\\\\n",
       "\t11 & 0.0 & 0.0 & 0.0 & 0.0 & 0.0 & 0.0 & 0.0 & 1.0 & $\\dots$ \\\\\n",
       "\t12 & 1.0 & 0.0 & 0.0 & 0.0 & 0.0 & 0.0 & 0.0 & 0.0 & $\\dots$ \\\\\n",
       "\t13 & 0.0 & 0.0 & 0.0 & 0.0 & 0.0 & 0.0 & 0.0 & 0.0 & $\\dots$ \\\\\n",
       "\t14 & 0.0 & 0.0 & 0.0 & 0.0 & 1.0 & 0.0 & 0.0 & 0.0 & $\\dots$ \\\\\n",
       "\t15 & 1.0 & 0.0 & 1.0 & 0.0 & 0.0 & 0.0 & 0.0 & 0.0 & $\\dots$ \\\\\n",
       "\t16 & 0.0 & 0.0 & 0.0 & 0.0 & 1.0 & 0.0 & 0.0 & 0.0 & $\\dots$ \\\\\n",
       "\t17 & 0.0 & 0.0 & 0.0 & 0.0 & 0.0 & 0.0 & 0.0 & 0.0 & $\\dots$ \\\\\n",
       "\t18 & 0.0 & 0.0 & 0.0 & 0.0 & 1.0 & 0.0 & 0.0 & 0.0 & $\\dots$ \\\\\n",
       "\t19 & 0.0 & 0.0 & 0.0 & 0.0 & 0.0 & 0.0 & 0.0 & 0.0 & $\\dots$ \\\\\n",
       "\t20 & 1.0 & 0.0 & 0.0 & 0.0 & 1.0 & 0.0 & 0.0 & 0.0 & $\\dots$ \\\\\n",
       "\t21 & 0.0 & 0.0 & 0.0 & 0.0 & 0.0 & 0.0 & 0.0 & 1.0 & $\\dots$ \\\\\n",
       "\t22 & 1.0 & 0.0 & 0.0 & 0.0 & 0.0 & 0.0 & 0.0 & 0.0 & $\\dots$ \\\\\n",
       "\t23 & 0.0 & 0.0 & 0.0 & 0.0 & 0.0 & 0.0 & 0.0 & 0.0 & $\\dots$ \\\\\n",
       "\t24 & 0.0 & 0.0 & 0.0 & 0.0 & 1.0 & 0.0 & 0.0 & 0.0 & $\\dots$ \\\\\n",
       "\t25 & 1.0 & 0.0 & 0.0 & 0.0 & 1.0 & 0.0 & 0.0 & 0.0 & $\\dots$ \\\\\n",
       "\t26 & 0.0 & 0.0 & 0.0 & 0.0 & 0.0 & 0.0 & 0.0 & 0.0 & $\\dots$ \\\\\n",
       "\t27 & 0.0 & 0.0 & 0.0 & 0.0 & 0.0 & 0.0 & 0.0 & 1.0 & $\\dots$ \\\\\n",
       "\t28 & 1.0 & 0.0 & 0.0 & 0.0 & 0.0 & 0.0 & 0.0 & 0.0 & $\\dots$ \\\\\n",
       "\t29 & 1.0 & 0.0 & 0.0 & 0.0 & 0.0 & 0.0 & 0.0 & 0.0 & $\\dots$ \\\\\n",
       "\t30 & 0.0 & 0.0 & 0.0 & 0.0 & 0.0 & 0.0 & 0.0 & 0.0 & $\\dots$ \\\\\n",
       "\t$\\dots$ & $\\dots$ & $\\dots$ & $\\dots$ & $\\dots$ & $\\dots$ & $\\dots$ & $\\dots$ & $\\dots$ &  \\\\\n",
       "\\end{tabular}\n"
      ],
      "text/plain": [
       "\u001b[1m29217×136 DataFrame\u001b[0m\n",
       "\u001b[1m   Row \u001b[0m│\u001b[1m female  \u001b[0m\u001b[1m widowed \u001b[0m\u001b[1m divorced \u001b[0m\u001b[1m separated \u001b[0m\u001b[1m nevermarried \u001b[0m\u001b[1m hsd08   \u001b[0m\u001b[1m hsd911 \u001b[0m ⋯\n",
       "\u001b[1m       \u001b[0m│\u001b[90m Float64 \u001b[0m\u001b[90m Float64 \u001b[0m\u001b[90m Float64  \u001b[0m\u001b[90m Float64   \u001b[0m\u001b[90m Float64      \u001b[0m\u001b[90m Float64 \u001b[0m\u001b[90m Float64\u001b[0m ⋯\n",
       "───────┼────────────────────────────────────────────────────────────────────────\n",
       "     1 │     1.0      0.0       0.0        0.0           0.0      0.0      0.0 ⋯\n",
       "     2 │     1.0      0.0       0.0        0.0           0.0      0.0      1.0\n",
       "     3 │     0.0      0.0       0.0        0.0           0.0      0.0      0.0\n",
       "     4 │     1.0      0.0       0.0        0.0           0.0      0.0      0.0\n",
       "     5 │     0.0      0.0       0.0        0.0           0.0      0.0      0.0 ⋯\n",
       "     6 │     0.0      0.0       0.0        0.0           0.0      0.0      0.0\n",
       "     7 │     0.0      0.0       0.0        0.0           1.0      0.0      0.0\n",
       "     8 │     0.0      0.0       0.0        0.0           0.0      0.0      0.0\n",
       "     9 │     0.0      0.0       0.0        0.0           0.0      0.0      0.0 ⋯\n",
       "    10 │     1.0      0.0       0.0        0.0           0.0      0.0      0.0\n",
       "    11 │     0.0      0.0       0.0        0.0           0.0      0.0      0.0\n",
       "   ⋮   │    ⋮        ⋮        ⋮          ⋮           ⋮           ⋮        ⋮    ⋱\n",
       " 29208 │     1.0      0.0       0.0        0.0           1.0      0.0      0.0\n",
       " 29209 │     1.0      0.0       0.0        0.0           1.0      0.0      0.0 ⋯\n",
       " 29210 │     0.0      0.0       0.0        0.0           0.0      0.0      0.0\n",
       " 29211 │     0.0      0.0       0.0        0.0           0.0      0.0      0.0\n",
       " 29212 │     1.0      0.0       0.0        0.0           0.0      0.0      0.0\n",
       " 29213 │     0.0      0.0       0.0        0.0           1.0      0.0      0.0 ⋯\n",
       " 29214 │     1.0      0.0       0.0        0.0           1.0      0.0      0.0\n",
       " 29215 │     1.0      0.0       0.0        0.0           0.0      0.0      0.0\n",
       " 29216 │     0.0      0.0       0.0        0.0           0.0      0.0      0.0\n",
       " 29217 │     1.0      0.0       0.0        0.0           0.0      0.0      0.0 ⋯\n",
       "\u001b[36m                                              129 columns and 29196 rows omitted\u001b[0m"
      ]
     },
     "execution_count": 69,
     "metadata": {},
     "output_type": "execute_result"
    }
   ],
   "source": [
    "X = DataFrame(X, names_col)"
   ]
  },
  {
   "cell_type": "code",
   "execution_count": 70,
   "id": "efcc6c57",
   "metadata": {},
   "outputs": [],
   "source": [
    "# Function to get index of constant columns   \n",
    "\n",
    "cons_column = []\n",
    "\n",
    "#recoge todos los valores que tengan varianza 0\n",
    "for i in 1:size(X,2)\n",
    "    if var(X[!,i]) == 0\n",
    "        append!(cons_column  , i)      \n",
    "    end       \n",
    "end"
   ]
  },
  {
   "cell_type": "code",
   "execution_count": 71,
   "id": "30dc8f3f",
   "metadata": {},
   "outputs": [
    {
     "data": {
      "text/html": [
       "<div class=\"data-frame\"><p>29,217 rows × 116 columns (omitted printing of 108 columns)</p><table class=\"data-frame\"><thead><tr><th></th><th>female</th><th>widowed</th><th>divorced</th><th>separated</th><th>nevermarried</th><th>hsd08</th><th>hsd911</th><th>hsg</th></tr><tr><th></th><th title=\"Float64\">Float64</th><th title=\"Float64\">Float64</th><th title=\"Float64\">Float64</th><th title=\"Float64\">Float64</th><th title=\"Float64\">Float64</th><th title=\"Float64\">Float64</th><th title=\"Float64\">Float64</th><th title=\"Float64\">Float64</th></tr></thead><tbody><tr><th>1</th><td>1.0</td><td>0.0</td><td>0.0</td><td>0.0</td><td>0.0</td><td>0.0</td><td>0.0</td><td>0.0</td></tr><tr><th>2</th><td>1.0</td><td>0.0</td><td>0.0</td><td>0.0</td><td>0.0</td><td>0.0</td><td>1.0</td><td>0.0</td></tr><tr><th>3</th><td>0.0</td><td>0.0</td><td>0.0</td><td>0.0</td><td>0.0</td><td>0.0</td><td>0.0</td><td>1.0</td></tr><tr><th>4</th><td>1.0</td><td>0.0</td><td>0.0</td><td>0.0</td><td>0.0</td><td>0.0</td><td>0.0</td><td>1.0</td></tr><tr><th>5</th><td>0.0</td><td>0.0</td><td>0.0</td><td>0.0</td><td>0.0</td><td>0.0</td><td>0.0</td><td>0.0</td></tr><tr><th>6</th><td>0.0</td><td>0.0</td><td>0.0</td><td>0.0</td><td>0.0</td><td>0.0</td><td>0.0</td><td>1.0</td></tr><tr><th>7</th><td>0.0</td><td>0.0</td><td>0.0</td><td>0.0</td><td>1.0</td><td>0.0</td><td>0.0</td><td>1.0</td></tr><tr><th>8</th><td>0.0</td><td>0.0</td><td>0.0</td><td>0.0</td><td>0.0</td><td>0.0</td><td>0.0</td><td>0.0</td></tr><tr><th>9</th><td>0.0</td><td>0.0</td><td>0.0</td><td>0.0</td><td>0.0</td><td>0.0</td><td>0.0</td><td>0.0</td></tr><tr><th>10</th><td>1.0</td><td>0.0</td><td>0.0</td><td>0.0</td><td>0.0</td><td>0.0</td><td>0.0</td><td>0.0</td></tr><tr><th>11</th><td>0.0</td><td>0.0</td><td>0.0</td><td>0.0</td><td>0.0</td><td>0.0</td><td>0.0</td><td>1.0</td></tr><tr><th>12</th><td>1.0</td><td>0.0</td><td>0.0</td><td>0.0</td><td>0.0</td><td>0.0</td><td>0.0</td><td>0.0</td></tr><tr><th>13</th><td>0.0</td><td>0.0</td><td>0.0</td><td>0.0</td><td>0.0</td><td>0.0</td><td>0.0</td><td>0.0</td></tr><tr><th>14</th><td>0.0</td><td>0.0</td><td>0.0</td><td>0.0</td><td>1.0</td><td>0.0</td><td>0.0</td><td>0.0</td></tr><tr><th>15</th><td>1.0</td><td>0.0</td><td>1.0</td><td>0.0</td><td>0.0</td><td>0.0</td><td>0.0</td><td>0.0</td></tr><tr><th>16</th><td>0.0</td><td>0.0</td><td>0.0</td><td>0.0</td><td>1.0</td><td>0.0</td><td>0.0</td><td>0.0</td></tr><tr><th>17</th><td>0.0</td><td>0.0</td><td>0.0</td><td>0.0</td><td>0.0</td><td>0.0</td><td>0.0</td><td>0.0</td></tr><tr><th>18</th><td>0.0</td><td>0.0</td><td>0.0</td><td>0.0</td><td>1.0</td><td>0.0</td><td>0.0</td><td>0.0</td></tr><tr><th>19</th><td>0.0</td><td>0.0</td><td>0.0</td><td>0.0</td><td>0.0</td><td>0.0</td><td>0.0</td><td>0.0</td></tr><tr><th>20</th><td>1.0</td><td>0.0</td><td>0.0</td><td>0.0</td><td>1.0</td><td>0.0</td><td>0.0</td><td>0.0</td></tr><tr><th>21</th><td>0.0</td><td>0.0</td><td>0.0</td><td>0.0</td><td>0.0</td><td>0.0</td><td>0.0</td><td>1.0</td></tr><tr><th>22</th><td>1.0</td><td>0.0</td><td>0.0</td><td>0.0</td><td>0.0</td><td>0.0</td><td>0.0</td><td>0.0</td></tr><tr><th>23</th><td>0.0</td><td>0.0</td><td>0.0</td><td>0.0</td><td>0.0</td><td>0.0</td><td>0.0</td><td>0.0</td></tr><tr><th>24</th><td>0.0</td><td>0.0</td><td>0.0</td><td>0.0</td><td>1.0</td><td>0.0</td><td>0.0</td><td>0.0</td></tr><tr><th>25</th><td>1.0</td><td>0.0</td><td>0.0</td><td>0.0</td><td>1.0</td><td>0.0</td><td>0.0</td><td>0.0</td></tr><tr><th>26</th><td>0.0</td><td>0.0</td><td>0.0</td><td>0.0</td><td>0.0</td><td>0.0</td><td>0.0</td><td>0.0</td></tr><tr><th>27</th><td>0.0</td><td>0.0</td><td>0.0</td><td>0.0</td><td>0.0</td><td>0.0</td><td>0.0</td><td>1.0</td></tr><tr><th>28</th><td>1.0</td><td>0.0</td><td>0.0</td><td>0.0</td><td>0.0</td><td>0.0</td><td>0.0</td><td>0.0</td></tr><tr><th>29</th><td>1.0</td><td>0.0</td><td>0.0</td><td>0.0</td><td>0.0</td><td>0.0</td><td>0.0</td><td>0.0</td></tr><tr><th>30</th><td>0.0</td><td>0.0</td><td>0.0</td><td>0.0</td><td>0.0</td><td>0.0</td><td>0.0</td><td>0.0</td></tr><tr><th>&vellip;</th><td>&vellip;</td><td>&vellip;</td><td>&vellip;</td><td>&vellip;</td><td>&vellip;</td><td>&vellip;</td><td>&vellip;</td><td>&vellip;</td></tr></tbody></table></div>"
      ],
      "text/latex": [
       "\\begin{tabular}{r|ccccccccc}\n",
       "\t& female & widowed & divorced & separated & nevermarried & hsd08 & hsd911 & hsg & \\\\\n",
       "\t\\hline\n",
       "\t& Float64 & Float64 & Float64 & Float64 & Float64 & Float64 & Float64 & Float64 & \\\\\n",
       "\t\\hline\n",
       "\t1 & 1.0 & 0.0 & 0.0 & 0.0 & 0.0 & 0.0 & 0.0 & 0.0 & $\\dots$ \\\\\n",
       "\t2 & 1.0 & 0.0 & 0.0 & 0.0 & 0.0 & 0.0 & 1.0 & 0.0 & $\\dots$ \\\\\n",
       "\t3 & 0.0 & 0.0 & 0.0 & 0.0 & 0.0 & 0.0 & 0.0 & 1.0 & $\\dots$ \\\\\n",
       "\t4 & 1.0 & 0.0 & 0.0 & 0.0 & 0.0 & 0.0 & 0.0 & 1.0 & $\\dots$ \\\\\n",
       "\t5 & 0.0 & 0.0 & 0.0 & 0.0 & 0.0 & 0.0 & 0.0 & 0.0 & $\\dots$ \\\\\n",
       "\t6 & 0.0 & 0.0 & 0.0 & 0.0 & 0.0 & 0.0 & 0.0 & 1.0 & $\\dots$ \\\\\n",
       "\t7 & 0.0 & 0.0 & 0.0 & 0.0 & 1.0 & 0.0 & 0.0 & 1.0 & $\\dots$ \\\\\n",
       "\t8 & 0.0 & 0.0 & 0.0 & 0.0 & 0.0 & 0.0 & 0.0 & 0.0 & $\\dots$ \\\\\n",
       "\t9 & 0.0 & 0.0 & 0.0 & 0.0 & 0.0 & 0.0 & 0.0 & 0.0 & $\\dots$ \\\\\n",
       "\t10 & 1.0 & 0.0 & 0.0 & 0.0 & 0.0 & 0.0 & 0.0 & 0.0 & $\\dots$ \\\\\n",
       "\t11 & 0.0 & 0.0 & 0.0 & 0.0 & 0.0 & 0.0 & 0.0 & 1.0 & $\\dots$ \\\\\n",
       "\t12 & 1.0 & 0.0 & 0.0 & 0.0 & 0.0 & 0.0 & 0.0 & 0.0 & $\\dots$ \\\\\n",
       "\t13 & 0.0 & 0.0 & 0.0 & 0.0 & 0.0 & 0.0 & 0.0 & 0.0 & $\\dots$ \\\\\n",
       "\t14 & 0.0 & 0.0 & 0.0 & 0.0 & 1.0 & 0.0 & 0.0 & 0.0 & $\\dots$ \\\\\n",
       "\t15 & 1.0 & 0.0 & 1.0 & 0.0 & 0.0 & 0.0 & 0.0 & 0.0 & $\\dots$ \\\\\n",
       "\t16 & 0.0 & 0.0 & 0.0 & 0.0 & 1.0 & 0.0 & 0.0 & 0.0 & $\\dots$ \\\\\n",
       "\t17 & 0.0 & 0.0 & 0.0 & 0.0 & 0.0 & 0.0 & 0.0 & 0.0 & $\\dots$ \\\\\n",
       "\t18 & 0.0 & 0.0 & 0.0 & 0.0 & 1.0 & 0.0 & 0.0 & 0.0 & $\\dots$ \\\\\n",
       "\t19 & 0.0 & 0.0 & 0.0 & 0.0 & 0.0 & 0.0 & 0.0 & 0.0 & $\\dots$ \\\\\n",
       "\t20 & 1.0 & 0.0 & 0.0 & 0.0 & 1.0 & 0.0 & 0.0 & 0.0 & $\\dots$ \\\\\n",
       "\t21 & 0.0 & 0.0 & 0.0 & 0.0 & 0.0 & 0.0 & 0.0 & 1.0 & $\\dots$ \\\\\n",
       "\t22 & 1.0 & 0.0 & 0.0 & 0.0 & 0.0 & 0.0 & 0.0 & 0.0 & $\\dots$ \\\\\n",
       "\t23 & 0.0 & 0.0 & 0.0 & 0.0 & 0.0 & 0.0 & 0.0 & 0.0 & $\\dots$ \\\\\n",
       "\t24 & 0.0 & 0.0 & 0.0 & 0.0 & 1.0 & 0.0 & 0.0 & 0.0 & $\\dots$ \\\\\n",
       "\t25 & 1.0 & 0.0 & 0.0 & 0.0 & 1.0 & 0.0 & 0.0 & 0.0 & $\\dots$ \\\\\n",
       "\t26 & 0.0 & 0.0 & 0.0 & 0.0 & 0.0 & 0.0 & 0.0 & 0.0 & $\\dots$ \\\\\n",
       "\t27 & 0.0 & 0.0 & 0.0 & 0.0 & 0.0 & 0.0 & 0.0 & 1.0 & $\\dots$ \\\\\n",
       "\t28 & 1.0 & 0.0 & 0.0 & 0.0 & 0.0 & 0.0 & 0.0 & 0.0 & $\\dots$ \\\\\n",
       "\t29 & 1.0 & 0.0 & 0.0 & 0.0 & 0.0 & 0.0 & 0.0 & 0.0 & $\\dots$ \\\\\n",
       "\t30 & 0.0 & 0.0 & 0.0 & 0.0 & 0.0 & 0.0 & 0.0 & 0.0 & $\\dots$ \\\\\n",
       "\t$\\dots$ & $\\dots$ & $\\dots$ & $\\dots$ & $\\dots$ & $\\dots$ & $\\dots$ & $\\dots$ & $\\dots$ &  \\\\\n",
       "\\end{tabular}\n"
      ],
      "text/plain": [
       "\u001b[1m29217×116 DataFrame\u001b[0m\n",
       "\u001b[1m   Row \u001b[0m│\u001b[1m female  \u001b[0m\u001b[1m widowed \u001b[0m\u001b[1m divorced \u001b[0m\u001b[1m separated \u001b[0m\u001b[1m nevermarried \u001b[0m\u001b[1m hsd08   \u001b[0m\u001b[1m hsd911 \u001b[0m ⋯\n",
       "\u001b[1m       \u001b[0m│\u001b[90m Float64 \u001b[0m\u001b[90m Float64 \u001b[0m\u001b[90m Float64  \u001b[0m\u001b[90m Float64   \u001b[0m\u001b[90m Float64      \u001b[0m\u001b[90m Float64 \u001b[0m\u001b[90m Float64\u001b[0m ⋯\n",
       "───────┼────────────────────────────────────────────────────────────────────────\n",
       "     1 │     1.0      0.0       0.0        0.0           0.0      0.0      0.0 ⋯\n",
       "     2 │     1.0      0.0       0.0        0.0           0.0      0.0      1.0\n",
       "     3 │     0.0      0.0       0.0        0.0           0.0      0.0      0.0\n",
       "     4 │     1.0      0.0       0.0        0.0           0.0      0.0      0.0\n",
       "     5 │     0.0      0.0       0.0        0.0           0.0      0.0      0.0 ⋯\n",
       "     6 │     0.0      0.0       0.0        0.0           0.0      0.0      0.0\n",
       "     7 │     0.0      0.0       0.0        0.0           1.0      0.0      0.0\n",
       "     8 │     0.0      0.0       0.0        0.0           0.0      0.0      0.0\n",
       "     9 │     0.0      0.0       0.0        0.0           0.0      0.0      0.0 ⋯\n",
       "    10 │     1.0      0.0       0.0        0.0           0.0      0.0      0.0\n",
       "    11 │     0.0      0.0       0.0        0.0           0.0      0.0      0.0\n",
       "   ⋮   │    ⋮        ⋮        ⋮          ⋮           ⋮           ⋮        ⋮    ⋱\n",
       " 29208 │     1.0      0.0       0.0        0.0           1.0      0.0      0.0\n",
       " 29209 │     1.0      0.0       0.0        0.0           1.0      0.0      0.0 ⋯\n",
       " 29210 │     0.0      0.0       0.0        0.0           0.0      0.0      0.0\n",
       " 29211 │     0.0      0.0       0.0        0.0           0.0      0.0      0.0\n",
       " 29212 │     1.0      0.0       0.0        0.0           0.0      0.0      0.0\n",
       " 29213 │     0.0      0.0       0.0        0.0           1.0      0.0      0.0 ⋯\n",
       " 29214 │     1.0      0.0       0.0        0.0           1.0      0.0      0.0\n",
       " 29215 │     1.0      0.0       0.0        0.0           0.0      0.0      0.0\n",
       " 29216 │     0.0      0.0       0.0        0.0           0.0      0.0      0.0\n",
       " 29217 │     1.0      0.0       0.0        0.0           0.0      0.0      0.0 ⋯\n",
       "\u001b[36m                                              109 columns and 29196 rows omitted\u001b[0m"
      ]
     },
     "execution_count": 71,
     "metadata": {},
     "output_type": "execute_result"
    }
   ],
   "source": [
    "# Drop constant columns \n",
    "\n",
    "names(X)[cons_column]\n",
    "select!(X, Not(names(X)[cons_column]))"
   ]
  },
  {
   "cell_type": "code",
   "execution_count": 72,
   "id": "8615a759",
   "metadata": {},
   "outputs": [
    {
     "data": {
      "text/html": [
       "<div class=\"data-frame\"><p>29,217 rows × 116 columns (omitted printing of 108 columns)</p><table class=\"data-frame\"><thead><tr><th></th><th>female</th><th>widowed</th><th>divorced</th><th>separated</th><th>nevermarried</th><th>hsd08</th><th>hsd911</th><th>hsg</th></tr><tr><th></th><th title=\"Float64\">Float64</th><th title=\"Float64\">Float64</th><th title=\"Float64\">Float64</th><th title=\"Float64\">Float64</th><th title=\"Float64\">Float64</th><th title=\"Float64\">Float64</th><th title=\"Float64\">Float64</th><th title=\"Float64\">Float64</th></tr></thead><tbody><tr><th>1</th><td>1.0</td><td>0.0</td><td>0.0</td><td>0.0</td><td>0.0</td><td>0.0</td><td>0.0</td><td>0.0</td></tr><tr><th>2</th><td>1.0</td><td>0.0</td><td>0.0</td><td>0.0</td><td>0.0</td><td>0.0</td><td>1.0</td><td>0.0</td></tr><tr><th>3</th><td>0.0</td><td>0.0</td><td>0.0</td><td>0.0</td><td>0.0</td><td>0.0</td><td>0.0</td><td>1.0</td></tr><tr><th>4</th><td>1.0</td><td>0.0</td><td>0.0</td><td>0.0</td><td>0.0</td><td>0.0</td><td>0.0</td><td>1.0</td></tr><tr><th>5</th><td>0.0</td><td>0.0</td><td>0.0</td><td>0.0</td><td>0.0</td><td>0.0</td><td>0.0</td><td>0.0</td></tr><tr><th>6</th><td>0.0</td><td>0.0</td><td>0.0</td><td>0.0</td><td>0.0</td><td>0.0</td><td>0.0</td><td>1.0</td></tr><tr><th>7</th><td>0.0</td><td>0.0</td><td>0.0</td><td>0.0</td><td>1.0</td><td>0.0</td><td>0.0</td><td>1.0</td></tr><tr><th>8</th><td>0.0</td><td>0.0</td><td>0.0</td><td>0.0</td><td>0.0</td><td>0.0</td><td>0.0</td><td>0.0</td></tr><tr><th>9</th><td>0.0</td><td>0.0</td><td>0.0</td><td>0.0</td><td>0.0</td><td>0.0</td><td>0.0</td><td>0.0</td></tr><tr><th>10</th><td>1.0</td><td>0.0</td><td>0.0</td><td>0.0</td><td>0.0</td><td>0.0</td><td>0.0</td><td>0.0</td></tr><tr><th>11</th><td>0.0</td><td>0.0</td><td>0.0</td><td>0.0</td><td>0.0</td><td>0.0</td><td>0.0</td><td>1.0</td></tr><tr><th>12</th><td>1.0</td><td>0.0</td><td>0.0</td><td>0.0</td><td>0.0</td><td>0.0</td><td>0.0</td><td>0.0</td></tr><tr><th>13</th><td>0.0</td><td>0.0</td><td>0.0</td><td>0.0</td><td>0.0</td><td>0.0</td><td>0.0</td><td>0.0</td></tr><tr><th>14</th><td>0.0</td><td>0.0</td><td>0.0</td><td>0.0</td><td>1.0</td><td>0.0</td><td>0.0</td><td>0.0</td></tr><tr><th>15</th><td>1.0</td><td>0.0</td><td>1.0</td><td>0.0</td><td>0.0</td><td>0.0</td><td>0.0</td><td>0.0</td></tr><tr><th>16</th><td>0.0</td><td>0.0</td><td>0.0</td><td>0.0</td><td>1.0</td><td>0.0</td><td>0.0</td><td>0.0</td></tr><tr><th>17</th><td>0.0</td><td>0.0</td><td>0.0</td><td>0.0</td><td>0.0</td><td>0.0</td><td>0.0</td><td>0.0</td></tr><tr><th>18</th><td>0.0</td><td>0.0</td><td>0.0</td><td>0.0</td><td>1.0</td><td>0.0</td><td>0.0</td><td>0.0</td></tr><tr><th>19</th><td>0.0</td><td>0.0</td><td>0.0</td><td>0.0</td><td>0.0</td><td>0.0</td><td>0.0</td><td>0.0</td></tr><tr><th>20</th><td>1.0</td><td>0.0</td><td>0.0</td><td>0.0</td><td>1.0</td><td>0.0</td><td>0.0</td><td>0.0</td></tr><tr><th>21</th><td>0.0</td><td>0.0</td><td>0.0</td><td>0.0</td><td>0.0</td><td>0.0</td><td>0.0</td><td>1.0</td></tr><tr><th>22</th><td>1.0</td><td>0.0</td><td>0.0</td><td>0.0</td><td>0.0</td><td>0.0</td><td>0.0</td><td>0.0</td></tr><tr><th>23</th><td>0.0</td><td>0.0</td><td>0.0</td><td>0.0</td><td>0.0</td><td>0.0</td><td>0.0</td><td>0.0</td></tr><tr><th>24</th><td>0.0</td><td>0.0</td><td>0.0</td><td>0.0</td><td>1.0</td><td>0.0</td><td>0.0</td><td>0.0</td></tr><tr><th>25</th><td>1.0</td><td>0.0</td><td>0.0</td><td>0.0</td><td>1.0</td><td>0.0</td><td>0.0</td><td>0.0</td></tr><tr><th>26</th><td>0.0</td><td>0.0</td><td>0.0</td><td>0.0</td><td>0.0</td><td>0.0</td><td>0.0</td><td>0.0</td></tr><tr><th>27</th><td>0.0</td><td>0.0</td><td>0.0</td><td>0.0</td><td>0.0</td><td>0.0</td><td>0.0</td><td>1.0</td></tr><tr><th>28</th><td>1.0</td><td>0.0</td><td>0.0</td><td>0.0</td><td>0.0</td><td>0.0</td><td>0.0</td><td>0.0</td></tr><tr><th>29</th><td>1.0</td><td>0.0</td><td>0.0</td><td>0.0</td><td>0.0</td><td>0.0</td><td>0.0</td><td>0.0</td></tr><tr><th>30</th><td>0.0</td><td>0.0</td><td>0.0</td><td>0.0</td><td>0.0</td><td>0.0</td><td>0.0</td><td>0.0</td></tr><tr><th>&vellip;</th><td>&vellip;</td><td>&vellip;</td><td>&vellip;</td><td>&vellip;</td><td>&vellip;</td><td>&vellip;</td><td>&vellip;</td><td>&vellip;</td></tr></tbody></table></div>"
      ],
      "text/latex": [
       "\\begin{tabular}{r|ccccccccc}\n",
       "\t& female & widowed & divorced & separated & nevermarried & hsd08 & hsd911 & hsg & \\\\\n",
       "\t\\hline\n",
       "\t& Float64 & Float64 & Float64 & Float64 & Float64 & Float64 & Float64 & Float64 & \\\\\n",
       "\t\\hline\n",
       "\t1 & 1.0 & 0.0 & 0.0 & 0.0 & 0.0 & 0.0 & 0.0 & 0.0 & $\\dots$ \\\\\n",
       "\t2 & 1.0 & 0.0 & 0.0 & 0.0 & 0.0 & 0.0 & 1.0 & 0.0 & $\\dots$ \\\\\n",
       "\t3 & 0.0 & 0.0 & 0.0 & 0.0 & 0.0 & 0.0 & 0.0 & 1.0 & $\\dots$ \\\\\n",
       "\t4 & 1.0 & 0.0 & 0.0 & 0.0 & 0.0 & 0.0 & 0.0 & 1.0 & $\\dots$ \\\\\n",
       "\t5 & 0.0 & 0.0 & 0.0 & 0.0 & 0.0 & 0.0 & 0.0 & 0.0 & $\\dots$ \\\\\n",
       "\t6 & 0.0 & 0.0 & 0.0 & 0.0 & 0.0 & 0.0 & 0.0 & 1.0 & $\\dots$ \\\\\n",
       "\t7 & 0.0 & 0.0 & 0.0 & 0.0 & 1.0 & 0.0 & 0.0 & 1.0 & $\\dots$ \\\\\n",
       "\t8 & 0.0 & 0.0 & 0.0 & 0.0 & 0.0 & 0.0 & 0.0 & 0.0 & $\\dots$ \\\\\n",
       "\t9 & 0.0 & 0.0 & 0.0 & 0.0 & 0.0 & 0.0 & 0.0 & 0.0 & $\\dots$ \\\\\n",
       "\t10 & 1.0 & 0.0 & 0.0 & 0.0 & 0.0 & 0.0 & 0.0 & 0.0 & $\\dots$ \\\\\n",
       "\t11 & 0.0 & 0.0 & 0.0 & 0.0 & 0.0 & 0.0 & 0.0 & 1.0 & $\\dots$ \\\\\n",
       "\t12 & 1.0 & 0.0 & 0.0 & 0.0 & 0.0 & 0.0 & 0.0 & 0.0 & $\\dots$ \\\\\n",
       "\t13 & 0.0 & 0.0 & 0.0 & 0.0 & 0.0 & 0.0 & 0.0 & 0.0 & $\\dots$ \\\\\n",
       "\t14 & 0.0 & 0.0 & 0.0 & 0.0 & 1.0 & 0.0 & 0.0 & 0.0 & $\\dots$ \\\\\n",
       "\t15 & 1.0 & 0.0 & 1.0 & 0.0 & 0.0 & 0.0 & 0.0 & 0.0 & $\\dots$ \\\\\n",
       "\t16 & 0.0 & 0.0 & 0.0 & 0.0 & 1.0 & 0.0 & 0.0 & 0.0 & $\\dots$ \\\\\n",
       "\t17 & 0.0 & 0.0 & 0.0 & 0.0 & 0.0 & 0.0 & 0.0 & 0.0 & $\\dots$ \\\\\n",
       "\t18 & 0.0 & 0.0 & 0.0 & 0.0 & 1.0 & 0.0 & 0.0 & 0.0 & $\\dots$ \\\\\n",
       "\t19 & 0.0 & 0.0 & 0.0 & 0.0 & 0.0 & 0.0 & 0.0 & 0.0 & $\\dots$ \\\\\n",
       "\t20 & 1.0 & 0.0 & 0.0 & 0.0 & 1.0 & 0.0 & 0.0 & 0.0 & $\\dots$ \\\\\n",
       "\t21 & 0.0 & 0.0 & 0.0 & 0.0 & 0.0 & 0.0 & 0.0 & 1.0 & $\\dots$ \\\\\n",
       "\t22 & 1.0 & 0.0 & 0.0 & 0.0 & 0.0 & 0.0 & 0.0 & 0.0 & $\\dots$ \\\\\n",
       "\t23 & 0.0 & 0.0 & 0.0 & 0.0 & 0.0 & 0.0 & 0.0 & 0.0 & $\\dots$ \\\\\n",
       "\t24 & 0.0 & 0.0 & 0.0 & 0.0 & 1.0 & 0.0 & 0.0 & 0.0 & $\\dots$ \\\\\n",
       "\t25 & 1.0 & 0.0 & 0.0 & 0.0 & 1.0 & 0.0 & 0.0 & 0.0 & $\\dots$ \\\\\n",
       "\t26 & 0.0 & 0.0 & 0.0 & 0.0 & 0.0 & 0.0 & 0.0 & 0.0 & $\\dots$ \\\\\n",
       "\t27 & 0.0 & 0.0 & 0.0 & 0.0 & 0.0 & 0.0 & 0.0 & 1.0 & $\\dots$ \\\\\n",
       "\t28 & 1.0 & 0.0 & 0.0 & 0.0 & 0.0 & 0.0 & 0.0 & 0.0 & $\\dots$ \\\\\n",
       "\t29 & 1.0 & 0.0 & 0.0 & 0.0 & 0.0 & 0.0 & 0.0 & 0.0 & $\\dots$ \\\\\n",
       "\t30 & 0.0 & 0.0 & 0.0 & 0.0 & 0.0 & 0.0 & 0.0 & 0.0 & $\\dots$ \\\\\n",
       "\t$\\dots$ & $\\dots$ & $\\dots$ & $\\dots$ & $\\dots$ & $\\dots$ & $\\dots$ & $\\dots$ & $\\dots$ &  \\\\\n",
       "\\end{tabular}\n"
      ],
      "text/plain": [
       "\u001b[1m29217×116 DataFrame\u001b[0m\n",
       "\u001b[1m   Row \u001b[0m│\u001b[1m female  \u001b[0m\u001b[1m widowed \u001b[0m\u001b[1m divorced \u001b[0m\u001b[1m separated \u001b[0m\u001b[1m nevermarried \u001b[0m\u001b[1m hsd08   \u001b[0m\u001b[1m hsd911 \u001b[0m ⋯\n",
       "\u001b[1m       \u001b[0m│\u001b[90m Float64 \u001b[0m\u001b[90m Float64 \u001b[0m\u001b[90m Float64  \u001b[0m\u001b[90m Float64   \u001b[0m\u001b[90m Float64      \u001b[0m\u001b[90m Float64 \u001b[0m\u001b[90m Float64\u001b[0m ⋯\n",
       "───────┼────────────────────────────────────────────────────────────────────────\n",
       "     1 │     1.0      0.0       0.0        0.0           0.0      0.0      0.0 ⋯\n",
       "     2 │     1.0      0.0       0.0        0.0           0.0      0.0      1.0\n",
       "     3 │     0.0      0.0       0.0        0.0           0.0      0.0      0.0\n",
       "     4 │     1.0      0.0       0.0        0.0           0.0      0.0      0.0\n",
       "     5 │     0.0      0.0       0.0        0.0           0.0      0.0      0.0 ⋯\n",
       "     6 │     0.0      0.0       0.0        0.0           0.0      0.0      0.0\n",
       "     7 │     0.0      0.0       0.0        0.0           1.0      0.0      0.0\n",
       "     8 │     0.0      0.0       0.0        0.0           0.0      0.0      0.0\n",
       "     9 │     0.0      0.0       0.0        0.0           0.0      0.0      0.0 ⋯\n",
       "    10 │     1.0      0.0       0.0        0.0           0.0      0.0      0.0\n",
       "    11 │     0.0      0.0       0.0        0.0           0.0      0.0      0.0\n",
       "   ⋮   │    ⋮        ⋮        ⋮          ⋮           ⋮           ⋮        ⋮    ⋱\n",
       " 29208 │     1.0      0.0       0.0        0.0           1.0      0.0      0.0\n",
       " 29209 │     1.0      0.0       0.0        0.0           1.0      0.0      0.0 ⋯\n",
       " 29210 │     0.0      0.0       0.0        0.0           0.0      0.0      0.0\n",
       " 29211 │     0.0      0.0       0.0        0.0           0.0      0.0      0.0\n",
       " 29212 │     1.0      0.0       0.0        0.0           0.0      0.0      0.0\n",
       " 29213 │     0.0      0.0       0.0        0.0           1.0      0.0      0.0 ⋯\n",
       " 29214 │     1.0      0.0       0.0        0.0           1.0      0.0      0.0\n",
       " 29215 │     1.0      0.0       0.0        0.0           0.0      0.0      0.0\n",
       " 29216 │     0.0      0.0       0.0        0.0           0.0      0.0      0.0\n",
       " 29217 │     1.0      0.0       0.0        0.0           0.0      0.0      0.0 ⋯\n",
       "\u001b[36m                                              109 columns and 29196 rows omitted\u001b[0m"
      ]
     },
     "execution_count": 72,
     "metadata": {},
     "output_type": "execute_result"
    }
   ],
   "source": [
    "X"
   ]
  },
  {
   "cell_type": "code",
   "execution_count": 73,
   "id": "f96495ff",
   "metadata": {},
   "outputs": [
    {
     "data": {
      "text/html": [
       "<div class=\"data-frame\"><p>29,217 rows × 116 columns (omitted printing of 109 columns)</p><table class=\"data-frame\"><thead><tr><th></th><th>female</th><th>widowed</th><th>divorced</th><th>separated</th><th>nevermarried</th><th>hsd08</th><th>hsd911</th></tr><tr><th></th><th title=\"Float64\">Float64</th><th title=\"Float64\">Float64</th><th title=\"Float64\">Float64</th><th title=\"Float64\">Float64</th><th title=\"Float64\">Float64</th><th title=\"Float64\">Float64</th><th title=\"Float64\">Float64</th></tr></thead><tbody><tr><th>1</th><td>0.571243</td><td>-0.00797481</td><td>-0.113393</td><td>-0.0165999</td><td>-0.156347</td><td>-0.0041072</td><td>-0.0221789</td></tr><tr><th>2</th><td>0.571243</td><td>-0.00797481</td><td>-0.113393</td><td>-0.0165999</td><td>-0.156347</td><td>-0.0041072</td><td>0.977821</td></tr><tr><th>3</th><td>-0.428757</td><td>-0.00797481</td><td>-0.113393</td><td>-0.0165999</td><td>-0.156347</td><td>-0.0041072</td><td>-0.0221789</td></tr><tr><th>4</th><td>0.571243</td><td>-0.00797481</td><td>-0.113393</td><td>-0.0165999</td><td>-0.156347</td><td>-0.0041072</td><td>-0.0221789</td></tr><tr><th>5</th><td>-0.428757</td><td>-0.00797481</td><td>-0.113393</td><td>-0.0165999</td><td>-0.156347</td><td>-0.0041072</td><td>-0.0221789</td></tr><tr><th>6</th><td>-0.428757</td><td>-0.00797481</td><td>-0.113393</td><td>-0.0165999</td><td>-0.156347</td><td>-0.0041072</td><td>-0.0221789</td></tr><tr><th>7</th><td>-0.428757</td><td>-0.00797481</td><td>-0.113393</td><td>-0.0165999</td><td>0.843653</td><td>-0.0041072</td><td>-0.0221789</td></tr><tr><th>8</th><td>-0.428757</td><td>-0.00797481</td><td>-0.113393</td><td>-0.0165999</td><td>-0.156347</td><td>-0.0041072</td><td>-0.0221789</td></tr><tr><th>9</th><td>-0.428757</td><td>-0.00797481</td><td>-0.113393</td><td>-0.0165999</td><td>-0.156347</td><td>-0.0041072</td><td>-0.0221789</td></tr><tr><th>10</th><td>0.571243</td><td>-0.00797481</td><td>-0.113393</td><td>-0.0165999</td><td>-0.156347</td><td>-0.0041072</td><td>-0.0221789</td></tr><tr><th>11</th><td>-0.428757</td><td>-0.00797481</td><td>-0.113393</td><td>-0.0165999</td><td>-0.156347</td><td>-0.0041072</td><td>-0.0221789</td></tr><tr><th>12</th><td>0.571243</td><td>-0.00797481</td><td>-0.113393</td><td>-0.0165999</td><td>-0.156347</td><td>-0.0041072</td><td>-0.0221789</td></tr><tr><th>13</th><td>-0.428757</td><td>-0.00797481</td><td>-0.113393</td><td>-0.0165999</td><td>-0.156347</td><td>-0.0041072</td><td>-0.0221789</td></tr><tr><th>14</th><td>-0.428757</td><td>-0.00797481</td><td>-0.113393</td><td>-0.0165999</td><td>0.843653</td><td>-0.0041072</td><td>-0.0221789</td></tr><tr><th>15</th><td>0.571243</td><td>-0.00797481</td><td>0.886607</td><td>-0.0165999</td><td>-0.156347</td><td>-0.0041072</td><td>-0.0221789</td></tr><tr><th>16</th><td>-0.428757</td><td>-0.00797481</td><td>-0.113393</td><td>-0.0165999</td><td>0.843653</td><td>-0.0041072</td><td>-0.0221789</td></tr><tr><th>17</th><td>-0.428757</td><td>-0.00797481</td><td>-0.113393</td><td>-0.0165999</td><td>-0.156347</td><td>-0.0041072</td><td>-0.0221789</td></tr><tr><th>18</th><td>-0.428757</td><td>-0.00797481</td><td>-0.113393</td><td>-0.0165999</td><td>0.843653</td><td>-0.0041072</td><td>-0.0221789</td></tr><tr><th>19</th><td>-0.428757</td><td>-0.00797481</td><td>-0.113393</td><td>-0.0165999</td><td>-0.156347</td><td>-0.0041072</td><td>-0.0221789</td></tr><tr><th>20</th><td>0.571243</td><td>-0.00797481</td><td>-0.113393</td><td>-0.0165999</td><td>0.843653</td><td>-0.0041072</td><td>-0.0221789</td></tr><tr><th>21</th><td>-0.428757</td><td>-0.00797481</td><td>-0.113393</td><td>-0.0165999</td><td>-0.156347</td><td>-0.0041072</td><td>-0.0221789</td></tr><tr><th>22</th><td>0.571243</td><td>-0.00797481</td><td>-0.113393</td><td>-0.0165999</td><td>-0.156347</td><td>-0.0041072</td><td>-0.0221789</td></tr><tr><th>23</th><td>-0.428757</td><td>-0.00797481</td><td>-0.113393</td><td>-0.0165999</td><td>-0.156347</td><td>-0.0041072</td><td>-0.0221789</td></tr><tr><th>24</th><td>-0.428757</td><td>-0.00797481</td><td>-0.113393</td><td>-0.0165999</td><td>0.843653</td><td>-0.0041072</td><td>-0.0221789</td></tr><tr><th>25</th><td>0.571243</td><td>-0.00797481</td><td>-0.113393</td><td>-0.0165999</td><td>0.843653</td><td>-0.0041072</td><td>-0.0221789</td></tr><tr><th>26</th><td>-0.428757</td><td>-0.00797481</td><td>-0.113393</td><td>-0.0165999</td><td>-0.156347</td><td>-0.0041072</td><td>-0.0221789</td></tr><tr><th>27</th><td>-0.428757</td><td>-0.00797481</td><td>-0.113393</td><td>-0.0165999</td><td>-0.156347</td><td>-0.0041072</td><td>-0.0221789</td></tr><tr><th>28</th><td>0.571243</td><td>-0.00797481</td><td>-0.113393</td><td>-0.0165999</td><td>-0.156347</td><td>-0.0041072</td><td>-0.0221789</td></tr><tr><th>29</th><td>0.571243</td><td>-0.00797481</td><td>-0.113393</td><td>-0.0165999</td><td>-0.156347</td><td>-0.0041072</td><td>-0.0221789</td></tr><tr><th>30</th><td>-0.428757</td><td>-0.00797481</td><td>-0.113393</td><td>-0.0165999</td><td>-0.156347</td><td>-0.0041072</td><td>-0.0221789</td></tr><tr><th>&vellip;</th><td>&vellip;</td><td>&vellip;</td><td>&vellip;</td><td>&vellip;</td><td>&vellip;</td><td>&vellip;</td><td>&vellip;</td></tr></tbody></table></div>"
      ],
      "text/latex": [
       "\\begin{tabular}{r|cccccccc}\n",
       "\t& female & widowed & divorced & separated & nevermarried & hsd08 & hsd911 & \\\\\n",
       "\t\\hline\n",
       "\t& Float64 & Float64 & Float64 & Float64 & Float64 & Float64 & Float64 & \\\\\n",
       "\t\\hline\n",
       "\t1 & 0.571243 & -0.00797481 & -0.113393 & -0.0165999 & -0.156347 & -0.0041072 & -0.0221789 & $\\dots$ \\\\\n",
       "\t2 & 0.571243 & -0.00797481 & -0.113393 & -0.0165999 & -0.156347 & -0.0041072 & 0.977821 & $\\dots$ \\\\\n",
       "\t3 & -0.428757 & -0.00797481 & -0.113393 & -0.0165999 & -0.156347 & -0.0041072 & -0.0221789 & $\\dots$ \\\\\n",
       "\t4 & 0.571243 & -0.00797481 & -0.113393 & -0.0165999 & -0.156347 & -0.0041072 & -0.0221789 & $\\dots$ \\\\\n",
       "\t5 & -0.428757 & -0.00797481 & -0.113393 & -0.0165999 & -0.156347 & -0.0041072 & -0.0221789 & $\\dots$ \\\\\n",
       "\t6 & -0.428757 & -0.00797481 & -0.113393 & -0.0165999 & -0.156347 & -0.0041072 & -0.0221789 & $\\dots$ \\\\\n",
       "\t7 & -0.428757 & -0.00797481 & -0.113393 & -0.0165999 & 0.843653 & -0.0041072 & -0.0221789 & $\\dots$ \\\\\n",
       "\t8 & -0.428757 & -0.00797481 & -0.113393 & -0.0165999 & -0.156347 & -0.0041072 & -0.0221789 & $\\dots$ \\\\\n",
       "\t9 & -0.428757 & -0.00797481 & -0.113393 & -0.0165999 & -0.156347 & -0.0041072 & -0.0221789 & $\\dots$ \\\\\n",
       "\t10 & 0.571243 & -0.00797481 & -0.113393 & -0.0165999 & -0.156347 & -0.0041072 & -0.0221789 & $\\dots$ \\\\\n",
       "\t11 & -0.428757 & -0.00797481 & -0.113393 & -0.0165999 & -0.156347 & -0.0041072 & -0.0221789 & $\\dots$ \\\\\n",
       "\t12 & 0.571243 & -0.00797481 & -0.113393 & -0.0165999 & -0.156347 & -0.0041072 & -0.0221789 & $\\dots$ \\\\\n",
       "\t13 & -0.428757 & -0.00797481 & -0.113393 & -0.0165999 & -0.156347 & -0.0041072 & -0.0221789 & $\\dots$ \\\\\n",
       "\t14 & -0.428757 & -0.00797481 & -0.113393 & -0.0165999 & 0.843653 & -0.0041072 & -0.0221789 & $\\dots$ \\\\\n",
       "\t15 & 0.571243 & -0.00797481 & 0.886607 & -0.0165999 & -0.156347 & -0.0041072 & -0.0221789 & $\\dots$ \\\\\n",
       "\t16 & -0.428757 & -0.00797481 & -0.113393 & -0.0165999 & 0.843653 & -0.0041072 & -0.0221789 & $\\dots$ \\\\\n",
       "\t17 & -0.428757 & -0.00797481 & -0.113393 & -0.0165999 & -0.156347 & -0.0041072 & -0.0221789 & $\\dots$ \\\\\n",
       "\t18 & -0.428757 & -0.00797481 & -0.113393 & -0.0165999 & 0.843653 & -0.0041072 & -0.0221789 & $\\dots$ \\\\\n",
       "\t19 & -0.428757 & -0.00797481 & -0.113393 & -0.0165999 & -0.156347 & -0.0041072 & -0.0221789 & $\\dots$ \\\\\n",
       "\t20 & 0.571243 & -0.00797481 & -0.113393 & -0.0165999 & 0.843653 & -0.0041072 & -0.0221789 & $\\dots$ \\\\\n",
       "\t21 & -0.428757 & -0.00797481 & -0.113393 & -0.0165999 & -0.156347 & -0.0041072 & -0.0221789 & $\\dots$ \\\\\n",
       "\t22 & 0.571243 & -0.00797481 & -0.113393 & -0.0165999 & -0.156347 & -0.0041072 & -0.0221789 & $\\dots$ \\\\\n",
       "\t23 & -0.428757 & -0.00797481 & -0.113393 & -0.0165999 & -0.156347 & -0.0041072 & -0.0221789 & $\\dots$ \\\\\n",
       "\t24 & -0.428757 & -0.00797481 & -0.113393 & -0.0165999 & 0.843653 & -0.0041072 & -0.0221789 & $\\dots$ \\\\\n",
       "\t25 & 0.571243 & -0.00797481 & -0.113393 & -0.0165999 & 0.843653 & -0.0041072 & -0.0221789 & $\\dots$ \\\\\n",
       "\t26 & -0.428757 & -0.00797481 & -0.113393 & -0.0165999 & -0.156347 & -0.0041072 & -0.0221789 & $\\dots$ \\\\\n",
       "\t27 & -0.428757 & -0.00797481 & -0.113393 & -0.0165999 & -0.156347 & -0.0041072 & -0.0221789 & $\\dots$ \\\\\n",
       "\t28 & 0.571243 & -0.00797481 & -0.113393 & -0.0165999 & -0.156347 & -0.0041072 & -0.0221789 & $\\dots$ \\\\\n",
       "\t29 & 0.571243 & -0.00797481 & -0.113393 & -0.0165999 & -0.156347 & -0.0041072 & -0.0221789 & $\\dots$ \\\\\n",
       "\t30 & -0.428757 & -0.00797481 & -0.113393 & -0.0165999 & -0.156347 & -0.0041072 & -0.0221789 & $\\dots$ \\\\\n",
       "\t$\\dots$ & $\\dots$ & $\\dots$ & $\\dots$ & $\\dots$ & $\\dots$ & $\\dots$ & $\\dots$ &  \\\\\n",
       "\\end{tabular}\n"
      ],
      "text/plain": [
       "\u001b[1m29217×116 DataFrame\u001b[0m\n",
       "\u001b[1m   Row \u001b[0m│\u001b[1m female    \u001b[0m\u001b[1m widowed     \u001b[0m\u001b[1m divorced  \u001b[0m\u001b[1m separated  \u001b[0m\u001b[1m nevermarried \u001b[0m\u001b[1m hsd08   \u001b[0m ⋯\n",
       "\u001b[1m       \u001b[0m│\u001b[90m Float64   \u001b[0m\u001b[90m Float64     \u001b[0m\u001b[90m Float64   \u001b[0m\u001b[90m Float64    \u001b[0m\u001b[90m Float64      \u001b[0m\u001b[90m Float64 \u001b[0m ⋯\n",
       "───────┼────────────────────────────────────────────────────────────────────────\n",
       "     1 │  0.571243  -0.00797481  -0.113393  -0.0165999     -0.156347  -0.00410 ⋯\n",
       "     2 │  0.571243  -0.00797481  -0.113393  -0.0165999     -0.156347  -0.00410\n",
       "     3 │ -0.428757  -0.00797481  -0.113393  -0.0165999     -0.156347  -0.00410\n",
       "     4 │  0.571243  -0.00797481  -0.113393  -0.0165999     -0.156347  -0.00410\n",
       "     5 │ -0.428757  -0.00797481  -0.113393  -0.0165999     -0.156347  -0.00410 ⋯\n",
       "     6 │ -0.428757  -0.00797481  -0.113393  -0.0165999     -0.156347  -0.00410\n",
       "     7 │ -0.428757  -0.00797481  -0.113393  -0.0165999      0.843653  -0.00410\n",
       "     8 │ -0.428757  -0.00797481  -0.113393  -0.0165999     -0.156347  -0.00410\n",
       "     9 │ -0.428757  -0.00797481  -0.113393  -0.0165999     -0.156347  -0.00410 ⋯\n",
       "    10 │  0.571243  -0.00797481  -0.113393  -0.0165999     -0.156347  -0.00410\n",
       "    11 │ -0.428757  -0.00797481  -0.113393  -0.0165999     -0.156347  -0.00410\n",
       "   ⋮   │     ⋮           ⋮           ⋮          ⋮            ⋮            ⋮    ⋱\n",
       " 29208 │  0.571243  -0.00797481  -0.113393  -0.0165999      0.843653  -0.00410\n",
       " 29209 │  0.571243  -0.00797481  -0.113393  -0.0165999      0.843653  -0.00410 ⋯\n",
       " 29210 │ -0.428757  -0.00797481  -0.113393  -0.0165999     -0.156347  -0.00410\n",
       " 29211 │ -0.428757  -0.00797481  -0.113393  -0.0165999     -0.156347  -0.00410\n",
       " 29212 │  0.571243  -0.00797481  -0.113393  -0.0165999     -0.156347  -0.00410\n",
       " 29213 │ -0.428757  -0.00797481  -0.113393  -0.0165999      0.843653  -0.00410 ⋯\n",
       " 29214 │  0.571243  -0.00797481  -0.113393  -0.0165999      0.843653  -0.00410\n",
       " 29215 │  0.571243  -0.00797481  -0.113393  -0.0165999     -0.156347  -0.00410\n",
       " 29216 │ -0.428757  -0.00797481  -0.113393  -0.0165999     -0.156347  -0.00410\n",
       " 29217 │  0.571243  -0.00797481  -0.113393  -0.0165999     -0.156347  -0.00410 ⋯\n",
       "\u001b[36m                                              111 columns and 29196 rows omitted\u001b[0m"
      ]
     },
     "execution_count": 73,
     "metadata": {},
     "output_type": "execute_result"
    }
   ],
   "source": [
    "# demean function\n",
    "function desv_mean(a)\n",
    "    a = Matrix(a)   # dataframe to matrix \n",
    "    A = mean(a, dims = 1)\n",
    "    M = zeros(Float64, size(X,1), size(X,2))\n",
    "    \n",
    "    for i in 1:size(a,2)\n",
    "          M[:,i] = a[:,i] .- A[i]\n",
    "    end\n",
    "    \n",
    "    return M\n",
    "end    \n",
    "\n",
    "\n",
    "# Matrix Model & demean\n",
    "\n",
    "X = DataFrame(desv_mean(X), names(X)) # Dataframe and names "
   ]
  },
  {
   "cell_type": "code",
   "execution_count": 74,
   "id": "327a346f",
   "metadata": {},
   "outputs": [],
   "source": [
    "# index to get columns that contains female\n",
    "\n",
    "index = []\n",
    "\n",
    "for i in 1:size(X,2)  \n",
    "        if contains( names(X)[i] , \"female\")\n",
    "            append!(index, i)\n",
    "        end  \n",
    "end"
   ]
  },
  {
   "cell_type": "code",
   "execution_count": 77,
   "id": "60bab88e",
   "metadata": {},
   "outputs": [
    {
     "data": {
      "text/html": [
       "<div class=\"data-frame\"><p>29,217 rows × 100 columns (omitted printing of 93 columns)</p><table class=\"data-frame\"><thead><tr><th></th><th>widowed</th><th>divorced</th><th>separated</th><th>nevermarried</th><th>hsd08</th><th>hsd911</th><th>hsg</th></tr><tr><th></th><th title=\"Float64\">Float64</th><th title=\"Float64\">Float64</th><th title=\"Float64\">Float64</th><th title=\"Float64\">Float64</th><th title=\"Float64\">Float64</th><th title=\"Float64\">Float64</th><th title=\"Float64\">Float64</th></tr></thead><tbody><tr><th>1</th><td>-0.00797481</td><td>-0.113393</td><td>-0.0165999</td><td>-0.156347</td><td>-0.0041072</td><td>-0.0221789</td><td>-0.247288</td></tr><tr><th>2</th><td>-0.00797481</td><td>-0.113393</td><td>-0.0165999</td><td>-0.156347</td><td>-0.0041072</td><td>0.977821</td><td>-0.247288</td></tr><tr><th>3</th><td>-0.00797481</td><td>-0.113393</td><td>-0.0165999</td><td>-0.156347</td><td>-0.0041072</td><td>-0.0221789</td><td>0.752712</td></tr><tr><th>4</th><td>-0.00797481</td><td>-0.113393</td><td>-0.0165999</td><td>-0.156347</td><td>-0.0041072</td><td>-0.0221789</td><td>0.752712</td></tr><tr><th>5</th><td>-0.00797481</td><td>-0.113393</td><td>-0.0165999</td><td>-0.156347</td><td>-0.0041072</td><td>-0.0221789</td><td>-0.247288</td></tr><tr><th>6</th><td>-0.00797481</td><td>-0.113393</td><td>-0.0165999</td><td>-0.156347</td><td>-0.0041072</td><td>-0.0221789</td><td>0.752712</td></tr><tr><th>7</th><td>-0.00797481</td><td>-0.113393</td><td>-0.0165999</td><td>0.843653</td><td>-0.0041072</td><td>-0.0221789</td><td>0.752712</td></tr><tr><th>8</th><td>-0.00797481</td><td>-0.113393</td><td>-0.0165999</td><td>-0.156347</td><td>-0.0041072</td><td>-0.0221789</td><td>-0.247288</td></tr><tr><th>9</th><td>-0.00797481</td><td>-0.113393</td><td>-0.0165999</td><td>-0.156347</td><td>-0.0041072</td><td>-0.0221789</td><td>-0.247288</td></tr><tr><th>10</th><td>-0.00797481</td><td>-0.113393</td><td>-0.0165999</td><td>-0.156347</td><td>-0.0041072</td><td>-0.0221789</td><td>-0.247288</td></tr><tr><th>11</th><td>-0.00797481</td><td>-0.113393</td><td>-0.0165999</td><td>-0.156347</td><td>-0.0041072</td><td>-0.0221789</td><td>0.752712</td></tr><tr><th>12</th><td>-0.00797481</td><td>-0.113393</td><td>-0.0165999</td><td>-0.156347</td><td>-0.0041072</td><td>-0.0221789</td><td>-0.247288</td></tr><tr><th>13</th><td>-0.00797481</td><td>-0.113393</td><td>-0.0165999</td><td>-0.156347</td><td>-0.0041072</td><td>-0.0221789</td><td>-0.247288</td></tr><tr><th>14</th><td>-0.00797481</td><td>-0.113393</td><td>-0.0165999</td><td>0.843653</td><td>-0.0041072</td><td>-0.0221789</td><td>-0.247288</td></tr><tr><th>15</th><td>-0.00797481</td><td>0.886607</td><td>-0.0165999</td><td>-0.156347</td><td>-0.0041072</td><td>-0.0221789</td><td>-0.247288</td></tr><tr><th>16</th><td>-0.00797481</td><td>-0.113393</td><td>-0.0165999</td><td>0.843653</td><td>-0.0041072</td><td>-0.0221789</td><td>-0.247288</td></tr><tr><th>17</th><td>-0.00797481</td><td>-0.113393</td><td>-0.0165999</td><td>-0.156347</td><td>-0.0041072</td><td>-0.0221789</td><td>-0.247288</td></tr><tr><th>18</th><td>-0.00797481</td><td>-0.113393</td><td>-0.0165999</td><td>0.843653</td><td>-0.0041072</td><td>-0.0221789</td><td>-0.247288</td></tr><tr><th>19</th><td>-0.00797481</td><td>-0.113393</td><td>-0.0165999</td><td>-0.156347</td><td>-0.0041072</td><td>-0.0221789</td><td>-0.247288</td></tr><tr><th>20</th><td>-0.00797481</td><td>-0.113393</td><td>-0.0165999</td><td>0.843653</td><td>-0.0041072</td><td>-0.0221789</td><td>-0.247288</td></tr><tr><th>21</th><td>-0.00797481</td><td>-0.113393</td><td>-0.0165999</td><td>-0.156347</td><td>-0.0041072</td><td>-0.0221789</td><td>0.752712</td></tr><tr><th>22</th><td>-0.00797481</td><td>-0.113393</td><td>-0.0165999</td><td>-0.156347</td><td>-0.0041072</td><td>-0.0221789</td><td>-0.247288</td></tr><tr><th>23</th><td>-0.00797481</td><td>-0.113393</td><td>-0.0165999</td><td>-0.156347</td><td>-0.0041072</td><td>-0.0221789</td><td>-0.247288</td></tr><tr><th>24</th><td>-0.00797481</td><td>-0.113393</td><td>-0.0165999</td><td>0.843653</td><td>-0.0041072</td><td>-0.0221789</td><td>-0.247288</td></tr><tr><th>25</th><td>-0.00797481</td><td>-0.113393</td><td>-0.0165999</td><td>0.843653</td><td>-0.0041072</td><td>-0.0221789</td><td>-0.247288</td></tr><tr><th>26</th><td>-0.00797481</td><td>-0.113393</td><td>-0.0165999</td><td>-0.156347</td><td>-0.0041072</td><td>-0.0221789</td><td>-0.247288</td></tr><tr><th>27</th><td>-0.00797481</td><td>-0.113393</td><td>-0.0165999</td><td>-0.156347</td><td>-0.0041072</td><td>-0.0221789</td><td>0.752712</td></tr><tr><th>28</th><td>-0.00797481</td><td>-0.113393</td><td>-0.0165999</td><td>-0.156347</td><td>-0.0041072</td><td>-0.0221789</td><td>-0.247288</td></tr><tr><th>29</th><td>-0.00797481</td><td>-0.113393</td><td>-0.0165999</td><td>-0.156347</td><td>-0.0041072</td><td>-0.0221789</td><td>-0.247288</td></tr><tr><th>30</th><td>-0.00797481</td><td>-0.113393</td><td>-0.0165999</td><td>-0.156347</td><td>-0.0041072</td><td>-0.0221789</td><td>-0.247288</td></tr><tr><th>&vellip;</th><td>&vellip;</td><td>&vellip;</td><td>&vellip;</td><td>&vellip;</td><td>&vellip;</td><td>&vellip;</td><td>&vellip;</td></tr></tbody></table></div>"
      ],
      "text/latex": [
       "\\begin{tabular}{r|cccccccc}\n",
       "\t& widowed & divorced & separated & nevermarried & hsd08 & hsd911 & hsg & \\\\\n",
       "\t\\hline\n",
       "\t& Float64 & Float64 & Float64 & Float64 & Float64 & Float64 & Float64 & \\\\\n",
       "\t\\hline\n",
       "\t1 & -0.00797481 & -0.113393 & -0.0165999 & -0.156347 & -0.0041072 & -0.0221789 & -0.247288 & $\\dots$ \\\\\n",
       "\t2 & -0.00797481 & -0.113393 & -0.0165999 & -0.156347 & -0.0041072 & 0.977821 & -0.247288 & $\\dots$ \\\\\n",
       "\t3 & -0.00797481 & -0.113393 & -0.0165999 & -0.156347 & -0.0041072 & -0.0221789 & 0.752712 & $\\dots$ \\\\\n",
       "\t4 & -0.00797481 & -0.113393 & -0.0165999 & -0.156347 & -0.0041072 & -0.0221789 & 0.752712 & $\\dots$ \\\\\n",
       "\t5 & -0.00797481 & -0.113393 & -0.0165999 & -0.156347 & -0.0041072 & -0.0221789 & -0.247288 & $\\dots$ \\\\\n",
       "\t6 & -0.00797481 & -0.113393 & -0.0165999 & -0.156347 & -0.0041072 & -0.0221789 & 0.752712 & $\\dots$ \\\\\n",
       "\t7 & -0.00797481 & -0.113393 & -0.0165999 & 0.843653 & -0.0041072 & -0.0221789 & 0.752712 & $\\dots$ \\\\\n",
       "\t8 & -0.00797481 & -0.113393 & -0.0165999 & -0.156347 & -0.0041072 & -0.0221789 & -0.247288 & $\\dots$ \\\\\n",
       "\t9 & -0.00797481 & -0.113393 & -0.0165999 & -0.156347 & -0.0041072 & -0.0221789 & -0.247288 & $\\dots$ \\\\\n",
       "\t10 & -0.00797481 & -0.113393 & -0.0165999 & -0.156347 & -0.0041072 & -0.0221789 & -0.247288 & $\\dots$ \\\\\n",
       "\t11 & -0.00797481 & -0.113393 & -0.0165999 & -0.156347 & -0.0041072 & -0.0221789 & 0.752712 & $\\dots$ \\\\\n",
       "\t12 & -0.00797481 & -0.113393 & -0.0165999 & -0.156347 & -0.0041072 & -0.0221789 & -0.247288 & $\\dots$ \\\\\n",
       "\t13 & -0.00797481 & -0.113393 & -0.0165999 & -0.156347 & -0.0041072 & -0.0221789 & -0.247288 & $\\dots$ \\\\\n",
       "\t14 & -0.00797481 & -0.113393 & -0.0165999 & 0.843653 & -0.0041072 & -0.0221789 & -0.247288 & $\\dots$ \\\\\n",
       "\t15 & -0.00797481 & 0.886607 & -0.0165999 & -0.156347 & -0.0041072 & -0.0221789 & -0.247288 & $\\dots$ \\\\\n",
       "\t16 & -0.00797481 & -0.113393 & -0.0165999 & 0.843653 & -0.0041072 & -0.0221789 & -0.247288 & $\\dots$ \\\\\n",
       "\t17 & -0.00797481 & -0.113393 & -0.0165999 & -0.156347 & -0.0041072 & -0.0221789 & -0.247288 & $\\dots$ \\\\\n",
       "\t18 & -0.00797481 & -0.113393 & -0.0165999 & 0.843653 & -0.0041072 & -0.0221789 & -0.247288 & $\\dots$ \\\\\n",
       "\t19 & -0.00797481 & -0.113393 & -0.0165999 & -0.156347 & -0.0041072 & -0.0221789 & -0.247288 & $\\dots$ \\\\\n",
       "\t20 & -0.00797481 & -0.113393 & -0.0165999 & 0.843653 & -0.0041072 & -0.0221789 & -0.247288 & $\\dots$ \\\\\n",
       "\t21 & -0.00797481 & -0.113393 & -0.0165999 & -0.156347 & -0.0041072 & -0.0221789 & 0.752712 & $\\dots$ \\\\\n",
       "\t22 & -0.00797481 & -0.113393 & -0.0165999 & -0.156347 & -0.0041072 & -0.0221789 & -0.247288 & $\\dots$ \\\\\n",
       "\t23 & -0.00797481 & -0.113393 & -0.0165999 & -0.156347 & -0.0041072 & -0.0221789 & -0.247288 & $\\dots$ \\\\\n",
       "\t24 & -0.00797481 & -0.113393 & -0.0165999 & 0.843653 & -0.0041072 & -0.0221789 & -0.247288 & $\\dots$ \\\\\n",
       "\t25 & -0.00797481 & -0.113393 & -0.0165999 & 0.843653 & -0.0041072 & -0.0221789 & -0.247288 & $\\dots$ \\\\\n",
       "\t26 & -0.00797481 & -0.113393 & -0.0165999 & -0.156347 & -0.0041072 & -0.0221789 & -0.247288 & $\\dots$ \\\\\n",
       "\t27 & -0.00797481 & -0.113393 & -0.0165999 & -0.156347 & -0.0041072 & -0.0221789 & 0.752712 & $\\dots$ \\\\\n",
       "\t28 & -0.00797481 & -0.113393 & -0.0165999 & -0.156347 & -0.0041072 & -0.0221789 & -0.247288 & $\\dots$ \\\\\n",
       "\t29 & -0.00797481 & -0.113393 & -0.0165999 & -0.156347 & -0.0041072 & -0.0221789 & -0.247288 & $\\dots$ \\\\\n",
       "\t30 & -0.00797481 & -0.113393 & -0.0165999 & -0.156347 & -0.0041072 & -0.0221789 & -0.247288 & $\\dots$ \\\\\n",
       "\t$\\dots$ & $\\dots$ & $\\dots$ & $\\dots$ & $\\dots$ & $\\dots$ & $\\dots$ & $\\dots$ &  \\\\\n",
       "\\end{tabular}\n"
      ],
      "text/plain": [
       "\u001b[1m29217×100 DataFrame\u001b[0m\n",
       "\u001b[1m   Row \u001b[0m│\u001b[1m widowed     \u001b[0m\u001b[1m divorced  \u001b[0m\u001b[1m separated  \u001b[0m\u001b[1m nevermarried \u001b[0m\u001b[1m hsd08      \u001b[0m\u001b[1m hsd911 \u001b[0m ⋯\n",
       "\u001b[1m       \u001b[0m│\u001b[90m Float64     \u001b[0m\u001b[90m Float64   \u001b[0m\u001b[90m Float64    \u001b[0m\u001b[90m Float64      \u001b[0m\u001b[90m Float64    \u001b[0m\u001b[90m Float64\u001b[0m ⋯\n",
       "───────┼────────────────────────────────────────────────────────────────────────\n",
       "     1 │ -0.00797481  -0.113393  -0.0165999     -0.156347  -0.0041072  -0.0221 ⋯\n",
       "     2 │ -0.00797481  -0.113393  -0.0165999     -0.156347  -0.0041072   0.9778\n",
       "     3 │ -0.00797481  -0.113393  -0.0165999     -0.156347  -0.0041072  -0.0221\n",
       "     4 │ -0.00797481  -0.113393  -0.0165999     -0.156347  -0.0041072  -0.0221\n",
       "     5 │ -0.00797481  -0.113393  -0.0165999     -0.156347  -0.0041072  -0.0221 ⋯\n",
       "     6 │ -0.00797481  -0.113393  -0.0165999     -0.156347  -0.0041072  -0.0221\n",
       "     7 │ -0.00797481  -0.113393  -0.0165999      0.843653  -0.0041072  -0.0221\n",
       "     8 │ -0.00797481  -0.113393  -0.0165999     -0.156347  -0.0041072  -0.0221\n",
       "     9 │ -0.00797481  -0.113393  -0.0165999     -0.156347  -0.0041072  -0.0221 ⋯\n",
       "    10 │ -0.00797481  -0.113393  -0.0165999     -0.156347  -0.0041072  -0.0221\n",
       "    11 │ -0.00797481  -0.113393  -0.0165999     -0.156347  -0.0041072  -0.0221\n",
       "   ⋮   │      ⋮           ⋮          ⋮            ⋮            ⋮           ⋮   ⋱\n",
       " 29208 │ -0.00797481  -0.113393  -0.0165999      0.843653  -0.0041072  -0.0221\n",
       " 29209 │ -0.00797481  -0.113393  -0.0165999      0.843653  -0.0041072  -0.0221 ⋯\n",
       " 29210 │ -0.00797481  -0.113393  -0.0165999     -0.156347  -0.0041072  -0.0221\n",
       " 29211 │ -0.00797481  -0.113393  -0.0165999     -0.156347  -0.0041072  -0.0221\n",
       " 29212 │ -0.00797481  -0.113393  -0.0165999     -0.156347  -0.0041072  -0.0221\n",
       " 29213 │ -0.00797481  -0.113393  -0.0165999      0.843653  -0.0041072  -0.0221 ⋯\n",
       " 29214 │ -0.00797481  -0.113393  -0.0165999      0.843653  -0.0041072  -0.0221\n",
       " 29215 │ -0.00797481  -0.113393  -0.0165999     -0.156347  -0.0041072  -0.0221\n",
       " 29216 │ -0.00797481  -0.113393  -0.0165999     -0.156347  -0.0041072  -0.0221\n",
       " 29217 │ -0.00797481  -0.113393  -0.0165999     -0.156347  -0.0041072  -0.0221 ⋯\n",
       "\u001b[36m                                               95 columns and 29196 rows omitted\u001b[0m"
      ]
     },
     "execution_count": 77,
     "metadata": {},
     "output_type": "execute_result"
    }
   ],
   "source": [
    "# Control variables \n",
    "\n",
    "W = select(X, Not(names(X)[index]))"
   ]
  },
  {
   "cell_type": "code",
   "execution_count": 75,
   "id": "3ee0caac",
   "metadata": {},
   "outputs": [
    {
     "data": {
      "text/plain": [
       "16-element Vector{Any}:\n",
       "   1\n",
       " 102\n",
       " 103\n",
       " 104\n",
       " 105\n",
       " 106\n",
       " 107\n",
       " 108\n",
       " 109\n",
       " 110\n",
       " 111\n",
       " 112\n",
       " 113\n",
       " 114\n",
       " 115\n",
       " 116"
      ]
     },
     "execution_count": 75,
     "metadata": {},
     "output_type": "execute_result"
    }
   ],
   "source": [
    "index"
   ]
  },
  {
   "cell_type": "code",
   "execution_count": 82,
   "id": "6fdbf58d",
   "metadata": {},
   "outputs": [],
   "source": [
    "table = NamedArray(zeros(16, 2))\n",
    "\n",
    "j = 0\n",
    "\n",
    "for i in 1:length(index)\n",
    "\n",
    "j = j + 1\n",
    "    \n",
    "#first step\n",
    "D = select(X, names(X)[index[i]])\n",
    "    \n",
    "D_reg_0  = rlasso_arg( W, D, nothing, true, true, true, false, false, \n",
    "                    nothing, 1.1, nothing, 5000, 15, 10^(-5), -Inf, true, Inf, true )\n",
    "\n",
    "\n",
    "D_resid = rlasso(D_reg_0)[\"residuals\"]\n",
    "\n",
    "#second step\n",
    "    \n",
    "Y_reg_0  = rlasso_arg( W, Y, nothing, true, true, true, false, false, \n",
    "                    nothing, 1.1, nothing, 5000, 15, 10^(-5), -Inf, true, Inf, true )\n",
    "\n",
    "Y_resid = rlasso(Y_reg_0)[\"residuals\"]\n",
    "\n",
    "D_resid = reshape(D_resid, length(D_resid), 1)\n",
    "\n",
    "# third step\n",
    "    \n",
    "Lasso_HDM = lm(D_resid, Y_resid)\n",
    "\n",
    "table[j,1] = GLM.coeftable(Lasso_HDM).cols[5][1]\n",
    "table[j,2] = GLM.coeftable(Lasso_HDM).cols[6][1]\n",
    "\n",
    "    \n",
    "end \n"
   ]
  },
  {
   "cell_type": "markdown",
   "id": "bab9d9e9",
   "metadata": {},
   "source": [
    "## DOUBLE LASSO - TESTING THE CONVERGENCE HYPOTHESIS"
   ]
  },
  {
   "cell_type": "markdown",
   "id": "bcd7838e",
   "metadata": {},
   "source": [
    "We provide an additional empirical example of partialling-out based on lasso regretion(Double-Lasso) to estimate the regression coefficient $\\beta_1$ in the high-dimensional linear regression model:\n",
    "  $$\n",
    "  Y = \\beta_1 D +  \\beta_2'W + \\epsilon.\n",
    "  $$\n",
    "  \n",
    "Specifically, we are interested in how the rates  at which economies of different countries grow ($Y$) are related to the initial wealth levels in each country ($D$) controlling for country's institutional, educational, and other similar characteristics ($W$).\n",
    "  \n",
    "The relationship is captured by $\\beta_1$, the *speed of convergence/divergence*, which measures the speed at which poor countries catch up $(\\beta_1< 0)$ or fall behind $(\\beta_1> 0)$ rich countries, after controlling for $W$. Our inference question here is: do poor countries grow faster than rich countries, controlling for educational and other characteristics? In other words, is the speed of convergence negative: $ \\beta_1 <0?$ This is the Convergence Hypothesis predicted by the Solow Growth Model. This is a structural economic model. Under some strong assumptions, that we won't state here, the predictive exercise we are doing here can be given causal interpretation."
   ]
  },
  {
   "cell_type": "markdown",
   "id": "0ace48c1",
   "metadata": {},
   "source": [
    "The outcome $Y$ is the realized annual growth rate of a country's wealth  (Gross Domestic Product per capita). The target regressor ($D$) is the initial level of the country's wealth. The target parameter $\\beta_1$ is the speed of convergence, which measures the speed at which poor countries catch up with rich countries. The controls ($W$) include measures of education levels, quality of institutions, trade openness, and political stability in the country."
   ]
  },
  {
   "cell_type": "code",
   "execution_count": 83,
   "id": "b2b60edd",
   "metadata": {
    "scrolled": true
   },
   "outputs": [
    {
     "data": {
      "text/plain": [
       "Dict{String, Any} with 1 entry:\n",
       "  \"GrowthData\" => \u001b[1m90×63 DataFrame\u001b[0m…"
      ]
     },
     "execution_count": 83,
     "metadata": {},
     "output_type": "execute_result"
    }
   ],
   "source": [
    "growth_read = load(\"../data/GrowthData.RData\")"
   ]
  },
  {
   "cell_type": "code",
   "execution_count": 84,
   "id": "7edb0bb3",
   "metadata": {},
   "outputs": [
    {
     "data": {
      "text/plain": [
       "true"
      ]
     },
     "execution_count": 84,
     "metadata": {},
     "output_type": "execute_result"
    }
   ],
   "source": [
    "# Since growth_read is a dictionary, we check if there is a key called \"GrowthData\", the one we need for our analyze\n",
    "haskey(growth_read, \"GrowthData\")"
   ]
  },
  {
   "cell_type": "code",
   "execution_count": 85,
   "id": "aefb6990",
   "metadata": {},
   "outputs": [
    {
     "data": {
      "text/plain": [
       "63-element Vector{String}:\n",
       " \"Outcome\"\n",
       " \"intercept\"\n",
       " \"gdpsh465\"\n",
       " \"bmp1l\"\n",
       " \"freeop\"\n",
       " \"freetar\"\n",
       " \"h65\"\n",
       " \"hm65\"\n",
       " \"hf65\"\n",
       " \"p65\"\n",
       " \"pm65\"\n",
       " \"pf65\"\n",
       " \"s65\"\n",
       " ⋮\n",
       " \"secc65\"\n",
       " \"seccm65\"\n",
       " \"seccf65\"\n",
       " \"syr65\"\n",
       " \"syrm65\"\n",
       " \"syrf65\"\n",
       " \"teapri65\"\n",
       " \"teasec65\"\n",
       " \"ex1\"\n",
       " \"im1\"\n",
       " \"xr65\"\n",
       " \"tot1\""
      ]
     },
     "execution_count": 85,
     "metadata": {},
     "output_type": "execute_result"
    }
   ],
   "source": [
    "growth = growth_read[\"GrowthData\"]\n",
    "names(growth)"
   ]
  },
  {
   "cell_type": "code",
   "execution_count": 86,
   "id": "3769c983",
   "metadata": {},
   "outputs": [
    {
     "data": {
      "text/html": [
       "<div class=\"data-frame\"><p>90 rows × 1 columns</p><table class=\"data-frame\"><thead><tr><th></th><th>y</th></tr><tr><th></th><th title=\"Float64\">Float64</th></tr></thead><tbody><tr><th>1</th><td>-0.0243358</td></tr><tr><th>2</th><td>0.100473</td></tr><tr><th>3</th><td>0.0670515</td></tr><tr><th>4</th><td>0.0640892</td></tr><tr><th>5</th><td>0.0279295</td></tr><tr><th>6</th><td>0.0464074</td></tr><tr><th>7</th><td>0.0673323</td></tr><tr><th>8</th><td>0.0209777</td></tr><tr><th>9</th><td>0.0335512</td></tr><tr><th>10</th><td>0.0391465</td></tr><tr><th>11</th><td>0.0761265</td></tr><tr><th>12</th><td>0.127951</td></tr><tr><th>13</th><td>-0.0243261</td></tr><tr><th>14</th><td>0.0782934</td></tr><tr><th>15</th><td>0.112912</td></tr><tr><th>16</th><td>0.0523082</td></tr><tr><th>17</th><td>0.0363909</td></tr><tr><th>18</th><td>0.0297382</td></tr><tr><th>19</th><td>-0.0566436</td></tr><tr><th>20</th><td>0.0192048</td></tr><tr><th>21</th><td>0.085206</td></tr><tr><th>22</th><td>0.133982</td></tr><tr><th>23</th><td>0.173025</td></tr><tr><th>24</th><td>0.109699</td></tr><tr><th>25</th><td>0.0159899</td></tr><tr><th>26</th><td>0.0622498</td></tr><tr><th>27</th><td>0.109871</td></tr><tr><th>28</th><td>0.0921063</td></tr><tr><th>29</th><td>0.083376</td></tr><tr><th>30</th><td>0.0762335</td></tr><tr><th>&vellip;</th><td>&vellip;</td></tr></tbody></table></div>"
      ],
      "text/latex": [
       "\\begin{tabular}{r|c}\n",
       "\t& y\\\\\n",
       "\t\\hline\n",
       "\t& Float64\\\\\n",
       "\t\\hline\n",
       "\t1 & -0.0243358 \\\\\n",
       "\t2 & 0.100473 \\\\\n",
       "\t3 & 0.0670515 \\\\\n",
       "\t4 & 0.0640892 \\\\\n",
       "\t5 & 0.0279295 \\\\\n",
       "\t6 & 0.0464074 \\\\\n",
       "\t7 & 0.0673323 \\\\\n",
       "\t8 & 0.0209777 \\\\\n",
       "\t9 & 0.0335512 \\\\\n",
       "\t10 & 0.0391465 \\\\\n",
       "\t11 & 0.0761265 \\\\\n",
       "\t12 & 0.127951 \\\\\n",
       "\t13 & -0.0243261 \\\\\n",
       "\t14 & 0.0782934 \\\\\n",
       "\t15 & 0.112912 \\\\\n",
       "\t16 & 0.0523082 \\\\\n",
       "\t17 & 0.0363909 \\\\\n",
       "\t18 & 0.0297382 \\\\\n",
       "\t19 & -0.0566436 \\\\\n",
       "\t20 & 0.0192048 \\\\\n",
       "\t21 & 0.085206 \\\\\n",
       "\t22 & 0.133982 \\\\\n",
       "\t23 & 0.173025 \\\\\n",
       "\t24 & 0.109699 \\\\\n",
       "\t25 & 0.0159899 \\\\\n",
       "\t26 & 0.0622498 \\\\\n",
       "\t27 & 0.109871 \\\\\n",
       "\t28 & 0.0921063 \\\\\n",
       "\t29 & 0.083376 \\\\\n",
       "\t30 & 0.0762335 \\\\\n",
       "\t$\\dots$ & $\\dots$ \\\\\n",
       "\\end{tabular}\n"
      ],
      "text/plain": [
       "\u001b[1m90×1 DataFrame\u001b[0m\n",
       "\u001b[1m Row \u001b[0m│\u001b[1m y          \u001b[0m\n",
       "\u001b[1m     \u001b[0m│\u001b[90m Float64    \u001b[0m\n",
       "─────┼────────────\n",
       "   1 │ -0.0243358\n",
       "   2 │  0.100473\n",
       "   3 │  0.0670515\n",
       "   4 │  0.0640892\n",
       "   5 │  0.0279295\n",
       "   6 │  0.0464074\n",
       "   7 │  0.0673323\n",
       "   8 │  0.0209777\n",
       "   9 │  0.0335512\n",
       "  10 │  0.0391465\n",
       "  11 │  0.0761265\n",
       "  ⋮  │     ⋮\n",
       "  81 │  0.038095\n",
       "  82 │  0.034213\n",
       "  83 │  0.0527591\n",
       "  84 │  0.0384156\n",
       "  85 │  0.0318948\n",
       "  86 │  0.031196\n",
       "  87 │  0.0340957\n",
       "  88 │  0.0469005\n",
       "  89 │  0.0397734\n",
       "  90 │  0.0406415\n",
       "\u001b[36m   69 rows omitted\u001b[0m"
      ]
     },
     "execution_count": 86,
     "metadata": {},
     "output_type": "execute_result"
    }
   ],
   "source": [
    "y = growth[!, \"Outcome\"]\n",
    "y = DataFrame([y], [:y])"
   ]
  },
  {
   "cell_type": "code",
   "execution_count": 87,
   "id": "fcc24e77",
   "metadata": {},
   "outputs": [
    {
     "data": {
      "text/html": [
       "<div class=\"data-frame\"><p>90 rows × 62 columns (omitted printing of 53 columns)</p><table class=\"data-frame\"><thead><tr><th></th><th>intercept</th><th>gdpsh465</th><th>bmp1l</th><th>freeop</th><th>freetar</th><th>h65</th><th>hm65</th><th>hf65</th><th>p65</th></tr><tr><th></th><th title=\"Int32\">Int32</th><th title=\"Float64\">Float64</th><th title=\"Float64\">Float64</th><th title=\"Float64\">Float64</th><th title=\"Float64\">Float64</th><th title=\"Float64\">Float64</th><th title=\"Float64\">Float64</th><th title=\"Float64\">Float64</th><th title=\"Float64\">Float64</th></tr></thead><tbody><tr><th>1</th><td>1</td><td>6.59167</td><td>0.2837</td><td>0.153491</td><td>0.043888</td><td>0.007</td><td>0.013</td><td>0.001</td><td>0.29</td></tr><tr><th>2</th><td>1</td><td>6.82979</td><td>0.6141</td><td>0.313509</td><td>0.061827</td><td>0.019</td><td>0.032</td><td>0.007</td><td>0.91</td></tr><tr><th>3</th><td>1</td><td>8.89508</td><td>0.0</td><td>0.204244</td><td>0.009186</td><td>0.26</td><td>0.325</td><td>0.201</td><td>1.0</td></tr><tr><th>4</th><td>1</td><td>7.56528</td><td>0.1997</td><td>0.248714</td><td>0.03627</td><td>0.061</td><td>0.07</td><td>0.051</td><td>1.0</td></tr><tr><th>5</th><td>1</td><td>7.1624</td><td>0.174</td><td>0.299252</td><td>0.037367</td><td>0.017</td><td>0.027</td><td>0.007</td><td>0.82</td></tr><tr><th>6</th><td>1</td><td>7.21891</td><td>0.0</td><td>0.258865</td><td>0.02088</td><td>0.023</td><td>0.038</td><td>0.006</td><td>0.5</td></tr><tr><th>7</th><td>1</td><td>7.8536</td><td>0.0</td><td>0.182525</td><td>0.014385</td><td>0.039</td><td>0.063</td><td>0.014</td><td>0.92</td></tr><tr><th>8</th><td>1</td><td>7.70391</td><td>0.2776</td><td>0.215275</td><td>0.029713</td><td>0.024</td><td>0.035</td><td>0.013</td><td>0.69</td></tr><tr><th>9</th><td>1</td><td>9.06346</td><td>0.0</td><td>0.109614</td><td>0.002171</td><td>0.402</td><td>0.488</td><td>0.314</td><td>1.0</td></tr><tr><th>10</th><td>1</td><td>8.15191</td><td>0.1484</td><td>0.110885</td><td>0.028579</td><td>0.145</td><td>0.173</td><td>0.114</td><td>1.0</td></tr><tr><th>11</th><td>1</td><td>6.92952</td><td>0.0296</td><td>0.165784</td><td>0.020115</td><td>0.046</td><td>0.066</td><td>0.025</td><td>0.73</td></tr><tr><th>12</th><td>1</td><td>7.23778</td><td>0.2151</td><td>0.078488</td><td>0.011581</td><td>0.022</td><td>0.031</td><td>0.014</td><td>1.0</td></tr><tr><th>13</th><td>1</td><td>8.11582</td><td>0.4318</td><td>0.137482</td><td>0.026547</td><td>0.059</td><td>0.073</td><td>0.045</td><td>1.0</td></tr><tr><th>14</th><td>1</td><td>7.2717</td><td>0.1689</td><td>0.164598</td><td>0.044446</td><td>0.029</td><td>0.045</td><td>0.013</td><td>0.84</td></tr><tr><th>15</th><td>1</td><td>7.12125</td><td>0.1832</td><td>0.188016</td><td>0.045678</td><td>0.033</td><td>0.051</td><td>0.015</td><td>0.91</td></tr><tr><th>16</th><td>1</td><td>6.97728</td><td>0.0962</td><td>0.204611</td><td>0.077852</td><td>0.037</td><td>0.043</td><td>0.03</td><td>1.0</td></tr><tr><th>17</th><td>1</td><td>7.64969</td><td>0.0227</td><td>0.136287</td><td>0.04673</td><td>0.081</td><td>0.105</td><td>0.056</td><td>0.99</td></tr><tr><th>18</th><td>1</td><td>8.05674</td><td>0.0208</td><td>0.197853</td><td>0.037224</td><td>0.083</td><td>0.097</td><td>0.069</td><td>1.0</td></tr><tr><th>19</th><td>1</td><td>8.78094</td><td>0.2654</td><td>0.189867</td><td>0.031747</td><td>0.068</td><td>0.089</td><td>0.046</td><td>0.94</td></tr><tr><th>20</th><td>1</td><td>6.28786</td><td>0.4207</td><td>0.130682</td><td>0.109921</td><td>0.053</td><td>0.039</td><td>0.011</td><td>0.74</td></tr><tr><th>21</th><td>1</td><td>6.13773</td><td>0.1371</td><td>0.123818</td><td>0.015897</td><td>0.028</td><td>0.025</td><td>0.007</td><td>0.72</td></tr><tr><th>22</th><td>1</td><td>8.12888</td><td>0.0</td><td>0.16721</td><td>0.003311</td><td>0.129</td><td>0.196</td><td>0.063</td><td>1.0</td></tr><tr><th>23</th><td>1</td><td>6.68085</td><td>0.4713</td><td>0.228424</td><td>0.029328</td><td>0.062</td><td>0.09</td><td>0.032</td><td>1.0</td></tr><tr><th>24</th><td>1</td><td>7.17702</td><td>0.0178</td><td>0.18524</td><td>0.015453</td><td>0.02</td><td>0.026</td><td>0.013</td><td>0.9</td></tr><tr><th>25</th><td>1</td><td>6.64898</td><td>0.4762</td><td>0.171181</td><td>0.058937</td><td>0.018</td><td>0.028</td><td>0.007</td><td>0.4</td></tr><tr><th>26</th><td>1</td><td>6.87936</td><td>0.2927</td><td>0.179508</td><td>0.035842</td><td>0.188</td><td>0.169</td><td>0.208</td><td>1.0</td></tr><tr><th>27</th><td>1</td><td>7.3473</td><td>0.1017</td><td>0.247626</td><td>0.037392</td><td>0.08</td><td>0.133</td><td>0.027</td><td>0.78</td></tr><tr><th>28</th><td>1</td><td>6.72503</td><td>0.0266</td><td>0.179933</td><td>0.046376</td><td>0.015</td><td>0.02</td><td>0.01</td><td>0.78</td></tr><tr><th>29</th><td>1</td><td>8.45105</td><td>0.0</td><td>0.358556</td><td>0.016468</td><td>0.09</td><td>0.133</td><td>0.044</td><td>1.0</td></tr><tr><th>30</th><td>1</td><td>8.60245</td><td>0.0</td><td>0.416234</td><td>0.014721</td><td>0.148</td><td>0.194</td><td>0.1</td><td>1.0</td></tr><tr><th>&vellip;</th><td>&vellip;</td><td>&vellip;</td><td>&vellip;</td><td>&vellip;</td><td>&vellip;</td><td>&vellip;</td><td>&vellip;</td><td>&vellip;</td><td>&vellip;</td></tr></tbody></table></div>"
      ],
      "text/latex": [
       "\\begin{tabular}{r|cccccccccc}\n",
       "\t& intercept & gdpsh465 & bmp1l & freeop & freetar & h65 & hm65 & hf65 & p65 & \\\\\n",
       "\t\\hline\n",
       "\t& Int32 & Float64 & Float64 & Float64 & Float64 & Float64 & Float64 & Float64 & Float64 & \\\\\n",
       "\t\\hline\n",
       "\t1 & 1 & 6.59167 & 0.2837 & 0.153491 & 0.043888 & 0.007 & 0.013 & 0.001 & 0.29 & $\\dots$ \\\\\n",
       "\t2 & 1 & 6.82979 & 0.6141 & 0.313509 & 0.061827 & 0.019 & 0.032 & 0.007 & 0.91 & $\\dots$ \\\\\n",
       "\t3 & 1 & 8.89508 & 0.0 & 0.204244 & 0.009186 & 0.26 & 0.325 & 0.201 & 1.0 & $\\dots$ \\\\\n",
       "\t4 & 1 & 7.56528 & 0.1997 & 0.248714 & 0.03627 & 0.061 & 0.07 & 0.051 & 1.0 & $\\dots$ \\\\\n",
       "\t5 & 1 & 7.1624 & 0.174 & 0.299252 & 0.037367 & 0.017 & 0.027 & 0.007 & 0.82 & $\\dots$ \\\\\n",
       "\t6 & 1 & 7.21891 & 0.0 & 0.258865 & 0.02088 & 0.023 & 0.038 & 0.006 & 0.5 & $\\dots$ \\\\\n",
       "\t7 & 1 & 7.8536 & 0.0 & 0.182525 & 0.014385 & 0.039 & 0.063 & 0.014 & 0.92 & $\\dots$ \\\\\n",
       "\t8 & 1 & 7.70391 & 0.2776 & 0.215275 & 0.029713 & 0.024 & 0.035 & 0.013 & 0.69 & $\\dots$ \\\\\n",
       "\t9 & 1 & 9.06346 & 0.0 & 0.109614 & 0.002171 & 0.402 & 0.488 & 0.314 & 1.0 & $\\dots$ \\\\\n",
       "\t10 & 1 & 8.15191 & 0.1484 & 0.110885 & 0.028579 & 0.145 & 0.173 & 0.114 & 1.0 & $\\dots$ \\\\\n",
       "\t11 & 1 & 6.92952 & 0.0296 & 0.165784 & 0.020115 & 0.046 & 0.066 & 0.025 & 0.73 & $\\dots$ \\\\\n",
       "\t12 & 1 & 7.23778 & 0.2151 & 0.078488 & 0.011581 & 0.022 & 0.031 & 0.014 & 1.0 & $\\dots$ \\\\\n",
       "\t13 & 1 & 8.11582 & 0.4318 & 0.137482 & 0.026547 & 0.059 & 0.073 & 0.045 & 1.0 & $\\dots$ \\\\\n",
       "\t14 & 1 & 7.2717 & 0.1689 & 0.164598 & 0.044446 & 0.029 & 0.045 & 0.013 & 0.84 & $\\dots$ \\\\\n",
       "\t15 & 1 & 7.12125 & 0.1832 & 0.188016 & 0.045678 & 0.033 & 0.051 & 0.015 & 0.91 & $\\dots$ \\\\\n",
       "\t16 & 1 & 6.97728 & 0.0962 & 0.204611 & 0.077852 & 0.037 & 0.043 & 0.03 & 1.0 & $\\dots$ \\\\\n",
       "\t17 & 1 & 7.64969 & 0.0227 & 0.136287 & 0.04673 & 0.081 & 0.105 & 0.056 & 0.99 & $\\dots$ \\\\\n",
       "\t18 & 1 & 8.05674 & 0.0208 & 0.197853 & 0.037224 & 0.083 & 0.097 & 0.069 & 1.0 & $\\dots$ \\\\\n",
       "\t19 & 1 & 8.78094 & 0.2654 & 0.189867 & 0.031747 & 0.068 & 0.089 & 0.046 & 0.94 & $\\dots$ \\\\\n",
       "\t20 & 1 & 6.28786 & 0.4207 & 0.130682 & 0.109921 & 0.053 & 0.039 & 0.011 & 0.74 & $\\dots$ \\\\\n",
       "\t21 & 1 & 6.13773 & 0.1371 & 0.123818 & 0.015897 & 0.028 & 0.025 & 0.007 & 0.72 & $\\dots$ \\\\\n",
       "\t22 & 1 & 8.12888 & 0.0 & 0.16721 & 0.003311 & 0.129 & 0.196 & 0.063 & 1.0 & $\\dots$ \\\\\n",
       "\t23 & 1 & 6.68085 & 0.4713 & 0.228424 & 0.029328 & 0.062 & 0.09 & 0.032 & 1.0 & $\\dots$ \\\\\n",
       "\t24 & 1 & 7.17702 & 0.0178 & 0.18524 & 0.015453 & 0.02 & 0.026 & 0.013 & 0.9 & $\\dots$ \\\\\n",
       "\t25 & 1 & 6.64898 & 0.4762 & 0.171181 & 0.058937 & 0.018 & 0.028 & 0.007 & 0.4 & $\\dots$ \\\\\n",
       "\t26 & 1 & 6.87936 & 0.2927 & 0.179508 & 0.035842 & 0.188 & 0.169 & 0.208 & 1.0 & $\\dots$ \\\\\n",
       "\t27 & 1 & 7.3473 & 0.1017 & 0.247626 & 0.037392 & 0.08 & 0.133 & 0.027 & 0.78 & $\\dots$ \\\\\n",
       "\t28 & 1 & 6.72503 & 0.0266 & 0.179933 & 0.046376 & 0.015 & 0.02 & 0.01 & 0.78 & $\\dots$ \\\\\n",
       "\t29 & 1 & 8.45105 & 0.0 & 0.358556 & 0.016468 & 0.09 & 0.133 & 0.044 & 1.0 & $\\dots$ \\\\\n",
       "\t30 & 1 & 8.60245 & 0.0 & 0.416234 & 0.014721 & 0.148 & 0.194 & 0.1 & 1.0 & $\\dots$ \\\\\n",
       "\t$\\dots$ & $\\dots$ & $\\dots$ & $\\dots$ & $\\dots$ & $\\dots$ & $\\dots$ & $\\dots$ & $\\dots$ & $\\dots$ &  \\\\\n",
       "\\end{tabular}\n"
      ],
      "text/plain": [
       "\u001b[1m90×62 DataFrame\u001b[0m\n",
       "\u001b[1m Row \u001b[0m│\u001b[1m intercept \u001b[0m\u001b[1m gdpsh465 \u001b[0m\u001b[1m bmp1l   \u001b[0m\u001b[1m freeop   \u001b[0m\u001b[1m freetar  \u001b[0m\u001b[1m h65     \u001b[0m\u001b[1m hm65    \u001b[0m\u001b[1m hf6\u001b[0m ⋯\n",
       "\u001b[1m     \u001b[0m│\u001b[90m Int32     \u001b[0m\u001b[90m Float64  \u001b[0m\u001b[90m Float64 \u001b[0m\u001b[90m Float64  \u001b[0m\u001b[90m Float64  \u001b[0m\u001b[90m Float64 \u001b[0m\u001b[90m Float64 \u001b[0m\u001b[90m Flo\u001b[0m ⋯\n",
       "─────┼──────────────────────────────────────────────────────────────────────────\n",
       "   1 │         1   6.59167   0.2837  0.153491  0.043888    0.007    0.013    0 ⋯\n",
       "   2 │         1   6.82979   0.6141  0.313509  0.061827    0.019    0.032    0\n",
       "   3 │         1   8.89508   0.0     0.204244  0.009186    0.26     0.325    0\n",
       "   4 │         1   7.56528   0.1997  0.248714  0.03627     0.061    0.07     0\n",
       "   5 │         1   7.1624    0.174   0.299252  0.037367    0.017    0.027    0 ⋯\n",
       "   6 │         1   7.21891   0.0     0.258865  0.02088     0.023    0.038    0\n",
       "   7 │         1   7.8536    0.0     0.182525  0.014385    0.039    0.063    0\n",
       "   8 │         1   7.70391   0.2776  0.215275  0.029713    0.024    0.035    0\n",
       "   9 │         1   9.06346   0.0     0.109614  0.002171    0.402    0.488    0 ⋯\n",
       "  10 │         1   8.15191   0.1484  0.110885  0.028579    0.145    0.173    0\n",
       "  11 │         1   6.92952   0.0296  0.165784  0.020115    0.046    0.066    0\n",
       "  ⋮  │     ⋮         ⋮         ⋮        ⋮         ⋮         ⋮        ⋮         ⋱\n",
       "  81 │         1   9.03097   0.0     0.293138  0.005517    0.245    0.251    0\n",
       "  82 │         1   8.99554   0.0     0.30472   0.011658    0.246    0.26     0 ⋯\n",
       "  83 │         1   8.23483   0.0363  0.288405  0.011589    0.183    0.222    0\n",
       "  84 │         1   8.33255   0.0     0.345485  0.006503    0.188    0.248    0\n",
       "  85 │         1   8.64559   0.0     0.28844   0.005995    0.256    0.301    0\n",
       "  86 │         1   8.99106   0.0     0.371898  0.014586    0.255    0.336    0 ⋯\n",
       "  87 │         1   8.02519   0.005   0.296437  0.013615    0.108    0.117    0\n",
       "  88 │         1   9.03014   0.0     0.265778  0.008629    0.288    0.337    0\n",
       "  89 │         1   8.86531   0.0     0.282939  0.005048    0.188    0.236    0\n",
       "  90 │         1   8.91234   0.0     0.150366  0.024377    0.257    0.338    0 ⋯\n",
       "\u001b[36m                                                  55 columns and 69 rows omitted\u001b[0m"
      ]
     },
     "execution_count": 87,
     "metadata": {},
     "output_type": "execute_result"
    }
   ],
   "source": [
    "X = select(growth, Not([\"Outcome\"]))"
   ]
  },
  {
   "cell_type": "code",
   "execution_count": 88,
   "id": "68eca4d1",
   "metadata": {
    "scrolled": true
   },
   "outputs": [
    {
     "data": {
      "text/html": [
       "<div class=\"data-frame\"><p>90 rows × 63 columns (omitted printing of 55 columns)</p><table class=\"data-frame\"><thead><tr><th></th><th>y</th><th>intercept</th><th>gdpsh465</th><th>bmp1l</th><th>freeop</th><th>freetar</th><th>h65</th><th>hm65</th></tr><tr><th></th><th title=\"Float64\">Float64</th><th title=\"Int32\">Int32</th><th title=\"Float64\">Float64</th><th title=\"Float64\">Float64</th><th title=\"Float64\">Float64</th><th title=\"Float64\">Float64</th><th title=\"Float64\">Float64</th><th title=\"Float64\">Float64</th></tr></thead><tbody><tr><th>1</th><td>-0.0243358</td><td>1</td><td>6.59167</td><td>0.2837</td><td>0.153491</td><td>0.043888</td><td>0.007</td><td>0.013</td></tr><tr><th>2</th><td>0.100473</td><td>1</td><td>6.82979</td><td>0.6141</td><td>0.313509</td><td>0.061827</td><td>0.019</td><td>0.032</td></tr><tr><th>3</th><td>0.0670515</td><td>1</td><td>8.89508</td><td>0.0</td><td>0.204244</td><td>0.009186</td><td>0.26</td><td>0.325</td></tr><tr><th>4</th><td>0.0640892</td><td>1</td><td>7.56528</td><td>0.1997</td><td>0.248714</td><td>0.03627</td><td>0.061</td><td>0.07</td></tr><tr><th>5</th><td>0.0279295</td><td>1</td><td>7.1624</td><td>0.174</td><td>0.299252</td><td>0.037367</td><td>0.017</td><td>0.027</td></tr><tr><th>6</th><td>0.0464074</td><td>1</td><td>7.21891</td><td>0.0</td><td>0.258865</td><td>0.02088</td><td>0.023</td><td>0.038</td></tr><tr><th>7</th><td>0.0673323</td><td>1</td><td>7.8536</td><td>0.0</td><td>0.182525</td><td>0.014385</td><td>0.039</td><td>0.063</td></tr><tr><th>8</th><td>0.0209777</td><td>1</td><td>7.70391</td><td>0.2776</td><td>0.215275</td><td>0.029713</td><td>0.024</td><td>0.035</td></tr><tr><th>9</th><td>0.0335512</td><td>1</td><td>9.06346</td><td>0.0</td><td>0.109614</td><td>0.002171</td><td>0.402</td><td>0.488</td></tr><tr><th>10</th><td>0.0391465</td><td>1</td><td>8.15191</td><td>0.1484</td><td>0.110885</td><td>0.028579</td><td>0.145</td><td>0.173</td></tr><tr><th>11</th><td>0.0761265</td><td>1</td><td>6.92952</td><td>0.0296</td><td>0.165784</td><td>0.020115</td><td>0.046</td><td>0.066</td></tr><tr><th>12</th><td>0.127951</td><td>1</td><td>7.23778</td><td>0.2151</td><td>0.078488</td><td>0.011581</td><td>0.022</td><td>0.031</td></tr><tr><th>13</th><td>-0.0243261</td><td>1</td><td>8.11582</td><td>0.4318</td><td>0.137482</td><td>0.026547</td><td>0.059</td><td>0.073</td></tr><tr><th>14</th><td>0.0782934</td><td>1</td><td>7.2717</td><td>0.1689</td><td>0.164598</td><td>0.044446</td><td>0.029</td><td>0.045</td></tr><tr><th>15</th><td>0.112912</td><td>1</td><td>7.12125</td><td>0.1832</td><td>0.188016</td><td>0.045678</td><td>0.033</td><td>0.051</td></tr><tr><th>16</th><td>0.0523082</td><td>1</td><td>6.97728</td><td>0.0962</td><td>0.204611</td><td>0.077852</td><td>0.037</td><td>0.043</td></tr><tr><th>17</th><td>0.0363909</td><td>1</td><td>7.64969</td><td>0.0227</td><td>0.136287</td><td>0.04673</td><td>0.081</td><td>0.105</td></tr><tr><th>18</th><td>0.0297382</td><td>1</td><td>8.05674</td><td>0.0208</td><td>0.197853</td><td>0.037224</td><td>0.083</td><td>0.097</td></tr><tr><th>19</th><td>-0.0566436</td><td>1</td><td>8.78094</td><td>0.2654</td><td>0.189867</td><td>0.031747</td><td>0.068</td><td>0.089</td></tr><tr><th>20</th><td>0.0192048</td><td>1</td><td>6.28786</td><td>0.4207</td><td>0.130682</td><td>0.109921</td><td>0.053</td><td>0.039</td></tr><tr><th>21</th><td>0.085206</td><td>1</td><td>6.13773</td><td>0.1371</td><td>0.123818</td><td>0.015897</td><td>0.028</td><td>0.025</td></tr><tr><th>22</th><td>0.133982</td><td>1</td><td>8.12888</td><td>0.0</td><td>0.16721</td><td>0.003311</td><td>0.129</td><td>0.196</td></tr><tr><th>23</th><td>0.173025</td><td>1</td><td>6.68085</td><td>0.4713</td><td>0.228424</td><td>0.029328</td><td>0.062</td><td>0.09</td></tr><tr><th>24</th><td>0.109699</td><td>1</td><td>7.17702</td><td>0.0178</td><td>0.18524</td><td>0.015453</td><td>0.02</td><td>0.026</td></tr><tr><th>25</th><td>0.0159899</td><td>1</td><td>6.64898</td><td>0.4762</td><td>0.171181</td><td>0.058937</td><td>0.018</td><td>0.028</td></tr><tr><th>26</th><td>0.0622498</td><td>1</td><td>6.87936</td><td>0.2927</td><td>0.179508</td><td>0.035842</td><td>0.188</td><td>0.169</td></tr><tr><th>27</th><td>0.109871</td><td>1</td><td>7.3473</td><td>0.1017</td><td>0.247626</td><td>0.037392</td><td>0.08</td><td>0.133</td></tr><tr><th>28</th><td>0.0921063</td><td>1</td><td>6.72503</td><td>0.0266</td><td>0.179933</td><td>0.046376</td><td>0.015</td><td>0.02</td></tr><tr><th>29</th><td>0.083376</td><td>1</td><td>8.45105</td><td>0.0</td><td>0.358556</td><td>0.016468</td><td>0.09</td><td>0.133</td></tr><tr><th>30</th><td>0.0762335</td><td>1</td><td>8.60245</td><td>0.0</td><td>0.416234</td><td>0.014721</td><td>0.148</td><td>0.194</td></tr><tr><th>&vellip;</th><td>&vellip;</td><td>&vellip;</td><td>&vellip;</td><td>&vellip;</td><td>&vellip;</td><td>&vellip;</td><td>&vellip;</td><td>&vellip;</td></tr></tbody></table></div>"
      ],
      "text/latex": [
       "\\begin{tabular}{r|ccccccccc}\n",
       "\t& y & intercept & gdpsh465 & bmp1l & freeop & freetar & h65 & hm65 & \\\\\n",
       "\t\\hline\n",
       "\t& Float64 & Int32 & Float64 & Float64 & Float64 & Float64 & Float64 & Float64 & \\\\\n",
       "\t\\hline\n",
       "\t1 & -0.0243358 & 1 & 6.59167 & 0.2837 & 0.153491 & 0.043888 & 0.007 & 0.013 & $\\dots$ \\\\\n",
       "\t2 & 0.100473 & 1 & 6.82979 & 0.6141 & 0.313509 & 0.061827 & 0.019 & 0.032 & $\\dots$ \\\\\n",
       "\t3 & 0.0670515 & 1 & 8.89508 & 0.0 & 0.204244 & 0.009186 & 0.26 & 0.325 & $\\dots$ \\\\\n",
       "\t4 & 0.0640892 & 1 & 7.56528 & 0.1997 & 0.248714 & 0.03627 & 0.061 & 0.07 & $\\dots$ \\\\\n",
       "\t5 & 0.0279295 & 1 & 7.1624 & 0.174 & 0.299252 & 0.037367 & 0.017 & 0.027 & $\\dots$ \\\\\n",
       "\t6 & 0.0464074 & 1 & 7.21891 & 0.0 & 0.258865 & 0.02088 & 0.023 & 0.038 & $\\dots$ \\\\\n",
       "\t7 & 0.0673323 & 1 & 7.8536 & 0.0 & 0.182525 & 0.014385 & 0.039 & 0.063 & $\\dots$ \\\\\n",
       "\t8 & 0.0209777 & 1 & 7.70391 & 0.2776 & 0.215275 & 0.029713 & 0.024 & 0.035 & $\\dots$ \\\\\n",
       "\t9 & 0.0335512 & 1 & 9.06346 & 0.0 & 0.109614 & 0.002171 & 0.402 & 0.488 & $\\dots$ \\\\\n",
       "\t10 & 0.0391465 & 1 & 8.15191 & 0.1484 & 0.110885 & 0.028579 & 0.145 & 0.173 & $\\dots$ \\\\\n",
       "\t11 & 0.0761265 & 1 & 6.92952 & 0.0296 & 0.165784 & 0.020115 & 0.046 & 0.066 & $\\dots$ \\\\\n",
       "\t12 & 0.127951 & 1 & 7.23778 & 0.2151 & 0.078488 & 0.011581 & 0.022 & 0.031 & $\\dots$ \\\\\n",
       "\t13 & -0.0243261 & 1 & 8.11582 & 0.4318 & 0.137482 & 0.026547 & 0.059 & 0.073 & $\\dots$ \\\\\n",
       "\t14 & 0.0782934 & 1 & 7.2717 & 0.1689 & 0.164598 & 0.044446 & 0.029 & 0.045 & $\\dots$ \\\\\n",
       "\t15 & 0.112912 & 1 & 7.12125 & 0.1832 & 0.188016 & 0.045678 & 0.033 & 0.051 & $\\dots$ \\\\\n",
       "\t16 & 0.0523082 & 1 & 6.97728 & 0.0962 & 0.204611 & 0.077852 & 0.037 & 0.043 & $\\dots$ \\\\\n",
       "\t17 & 0.0363909 & 1 & 7.64969 & 0.0227 & 0.136287 & 0.04673 & 0.081 & 0.105 & $\\dots$ \\\\\n",
       "\t18 & 0.0297382 & 1 & 8.05674 & 0.0208 & 0.197853 & 0.037224 & 0.083 & 0.097 & $\\dots$ \\\\\n",
       "\t19 & -0.0566436 & 1 & 8.78094 & 0.2654 & 0.189867 & 0.031747 & 0.068 & 0.089 & $\\dots$ \\\\\n",
       "\t20 & 0.0192048 & 1 & 6.28786 & 0.4207 & 0.130682 & 0.109921 & 0.053 & 0.039 & $\\dots$ \\\\\n",
       "\t21 & 0.085206 & 1 & 6.13773 & 0.1371 & 0.123818 & 0.015897 & 0.028 & 0.025 & $\\dots$ \\\\\n",
       "\t22 & 0.133982 & 1 & 8.12888 & 0.0 & 0.16721 & 0.003311 & 0.129 & 0.196 & $\\dots$ \\\\\n",
       "\t23 & 0.173025 & 1 & 6.68085 & 0.4713 & 0.228424 & 0.029328 & 0.062 & 0.09 & $\\dots$ \\\\\n",
       "\t24 & 0.109699 & 1 & 7.17702 & 0.0178 & 0.18524 & 0.015453 & 0.02 & 0.026 & $\\dots$ \\\\\n",
       "\t25 & 0.0159899 & 1 & 6.64898 & 0.4762 & 0.171181 & 0.058937 & 0.018 & 0.028 & $\\dots$ \\\\\n",
       "\t26 & 0.0622498 & 1 & 6.87936 & 0.2927 & 0.179508 & 0.035842 & 0.188 & 0.169 & $\\dots$ \\\\\n",
       "\t27 & 0.109871 & 1 & 7.3473 & 0.1017 & 0.247626 & 0.037392 & 0.08 & 0.133 & $\\dots$ \\\\\n",
       "\t28 & 0.0921063 & 1 & 6.72503 & 0.0266 & 0.179933 & 0.046376 & 0.015 & 0.02 & $\\dots$ \\\\\n",
       "\t29 & 0.083376 & 1 & 8.45105 & 0.0 & 0.358556 & 0.016468 & 0.09 & 0.133 & $\\dots$ \\\\\n",
       "\t30 & 0.0762335 & 1 & 8.60245 & 0.0 & 0.416234 & 0.014721 & 0.148 & 0.194 & $\\dots$ \\\\\n",
       "\t$\\dots$ & $\\dots$ & $\\dots$ & $\\dots$ & $\\dots$ & $\\dots$ & $\\dots$ & $\\dots$ & $\\dots$ &  \\\\\n",
       "\\end{tabular}\n"
      ],
      "text/plain": [
       "\u001b[1m90×63 DataFrame\u001b[0m\n",
       "\u001b[1m Row \u001b[0m│\u001b[1m y          \u001b[0m\u001b[1m intercept \u001b[0m\u001b[1m gdpsh465 \u001b[0m\u001b[1m bmp1l   \u001b[0m\u001b[1m freeop   \u001b[0m\u001b[1m freetar  \u001b[0m\u001b[1m h65     \u001b[0m\u001b[1m \u001b[0m ⋯\n",
       "\u001b[1m     \u001b[0m│\u001b[90m Float64    \u001b[0m\u001b[90m Int32     \u001b[0m\u001b[90m Float64  \u001b[0m\u001b[90m Float64 \u001b[0m\u001b[90m Float64  \u001b[0m\u001b[90m Float64  \u001b[0m\u001b[90m Float64 \u001b[0m\u001b[90m \u001b[0m ⋯\n",
       "─────┼──────────────────────────────────────────────────────────────────────────\n",
       "   1 │ -0.0243358          1   6.59167   0.2837  0.153491  0.043888    0.007   ⋯\n",
       "   2 │  0.100473           1   6.82979   0.6141  0.313509  0.061827    0.019\n",
       "   3 │  0.0670515          1   8.89508   0.0     0.204244  0.009186    0.26\n",
       "   4 │  0.0640892          1   7.56528   0.1997  0.248714  0.03627     0.061\n",
       "   5 │  0.0279295          1   7.1624    0.174   0.299252  0.037367    0.017   ⋯\n",
       "   6 │  0.0464074          1   7.21891   0.0     0.258865  0.02088     0.023\n",
       "   7 │  0.0673323          1   7.8536    0.0     0.182525  0.014385    0.039\n",
       "   8 │  0.0209777          1   7.70391   0.2776  0.215275  0.029713    0.024\n",
       "   9 │  0.0335512          1   9.06346   0.0     0.109614  0.002171    0.402   ⋯\n",
       "  10 │  0.0391465          1   8.15191   0.1484  0.110885  0.028579    0.145\n",
       "  11 │  0.0761265          1   6.92952   0.0296  0.165784  0.020115    0.046\n",
       "  ⋮  │     ⋮           ⋮         ⋮         ⋮        ⋮         ⋮         ⋮      ⋱\n",
       "  81 │  0.038095           1   9.03097   0.0     0.293138  0.005517    0.245\n",
       "  82 │  0.034213           1   8.99554   0.0     0.30472   0.011658    0.246   ⋯\n",
       "  83 │  0.0527591          1   8.23483   0.0363  0.288405  0.011589    0.183\n",
       "  84 │  0.0384156          1   8.33255   0.0     0.345485  0.006503    0.188\n",
       "  85 │  0.0318948          1   8.64559   0.0     0.28844   0.005995    0.256\n",
       "  86 │  0.031196           1   8.99106   0.0     0.371898  0.014586    0.255   ⋯\n",
       "  87 │  0.0340957          1   8.02519   0.005   0.296437  0.013615    0.108\n",
       "  88 │  0.0469005          1   9.03014   0.0     0.265778  0.008629    0.288\n",
       "  89 │  0.0397734          1   8.86531   0.0     0.282939  0.005048    0.188\n",
       "  90 │  0.0406415          1   8.91234   0.0     0.150366  0.024377    0.257   ⋯\n",
       "\u001b[36m                                                  56 columns and 69 rows omitted\u001b[0m"
      ]
     },
     "execution_count": 88,
     "metadata": {},
     "output_type": "execute_result"
    }
   ],
   "source": [
    "data = [y X]"
   ]
  },
  {
   "cell_type": "markdown",
   "id": "03d9a48c",
   "metadata": {},
   "source": [
    "### OLS "
   ]
  },
  {
   "cell_type": "code",
   "execution_count": 89,
   "id": "88dfbd23",
   "metadata": {
    "scrolled": false
   },
   "outputs": [
    {
     "data": {
      "text/plain": [
       "StatsModels.TableRegressionModel{LinearModel{GLM.LmResp{Vector{Float64}}, GLM.DensePredChol{Float64, Cholesky{Float64, Matrix{Float64}}}}, Matrix{Float64}}\n",
       "\n",
       "y ~ 1 + gdpsh465 + bmp1l + freeop + freetar + h65 + hm65 + hf65 + p65 + pm65 + pf65 + s65 + sm65 + sf65 + fert65 + mort65 + lifee065 + gpop1 + fert1 + mort1 + invsh41 + geetot1 + geerec1 + gde1 + govwb1 + govsh41 + gvxdxe41 + high65 + highm65 + highf65 + highc65 + highcm65 + highcf65 + human65 + humanm65 + humanf65 + hyr65 + hyrm65 + hyrf65 + no65 + nom65 + nof65 + pinstab1 + pop65 + worker65 + pop1565 + pop6565 + sec65 + secm65 + secf65 + secc65 + seccm65 + seccf65 + syr65 + syrm65 + syrf65 + teapri65 + teasec65 + ex1 + im1 + xr65 + tot1\n",
       "\n",
       "Coefficients:\n",
       "─────────────────────────────────────────────────────────────────────────────────────\n",
       "                    Coef.    Std. Error      t  Pr(>|t|)      Lower 95%     Upper 95%\n",
       "─────────────────────────────────────────────────────────────────────────────────────\n",
       "(Intercept)   0.247161      0.784502      0.32    0.7551   -1.35982        1.85414\n",
       "gdpsh465     -0.00937799    0.0298877    -0.31    0.7560   -0.0706002      0.0518442\n",
       "bmp1l        -0.0688627     0.0325307    -2.12    0.0433   -0.135499      -0.00222666\n",
       "freeop        0.080069      0.207864      0.39    0.7030   -0.345721       0.505859\n",
       "freetar      -0.488963      0.418163     -1.17    0.2521   -1.34553        0.367605\n",
       "h65          -2.3621        0.857292     -2.76    0.0102   -4.11818       -0.606016\n",
       "hm65          0.707143      0.523145      1.35    0.1873   -0.364471       1.77876\n",
       "hf65          1.69345       0.503189      3.37    0.0022    0.662713       2.72418\n",
       "p65           0.265527      0.164294      1.62    0.1173   -0.0710144      0.602068\n",
       "pm65          0.136953      0.151217      0.91    0.3728   -0.172802       0.446708\n",
       "pf65         -0.331267      0.165123     -2.01    0.0546   -0.669506       0.00697217\n",
       "s65           0.0390793     0.185522      0.21    0.8347   -0.340946       0.419105\n",
       "sm65         -0.0306685     0.116794     -0.26    0.7948   -0.26991        0.208573\n",
       "sf65         -0.179917      0.118099     -1.52    0.1389   -0.421832       0.0619974\n",
       "fert65        0.00688083    0.0270514     0.25    0.8011   -0.0485315      0.0622932\n",
       "mort65       -0.233455      0.817422     -0.29    0.7773   -1.90787        1.44096\n",
       "lifee065     -0.0149145     0.193336     -0.08    0.9391   -0.410944       0.381116\n",
       "gpop1         0.970185      1.81221       0.54    0.5966   -2.74196        4.68233\n",
       "fert1         0.00883819    0.0350415     0.25    0.8027   -0.062941       0.0806174\n",
       "mort1         0.0665629     0.68481       0.10    0.9233   -1.33621        1.46933\n",
       "invsh41       0.0744611     0.108447      0.69    0.4980   -0.147682       0.296605\n",
       "geetot1      -0.715105      1.68014      -0.43    0.6736   -4.15671        2.7265\n",
       "geerec1       0.630005      2.44738       0.26    0.7987   -4.38322        5.64323\n",
       "gde1         -0.443575      1.67121      -0.27    0.7926   -3.86689        2.97974\n",
       "govwb1        0.337452      0.437987      0.77    0.4475   -0.559723       1.23463\n",
       "govsh41       0.463175      1.92544       0.24    0.8117   -3.4809         4.40725\n",
       "gvxdxe41     -0.793382      2.0594       -0.39    0.7030   -5.01187        3.4251\n",
       "high65       -0.752484      0.905722     -0.83    0.4131   -2.60777        1.1028\n",
       "highm65      -0.390262      0.681249     -0.57    0.5713   -1.78574        1.00521\n",
       "highf65      -0.417749      0.56149      -0.74    0.4631   -1.56791        0.732412\n",
       "highc65      -2.21579       1.48081      -1.50    0.1458   -5.24909        0.817506\n",
       "highcm65      0.279718      0.658239      0.42    0.6741   -1.06862        1.62806\n",
       "highcf65      0.392077      0.766025      0.51    0.6128   -1.17705        1.96121\n",
       "human65       2.33727       3.30727       0.71    0.4856   -4.43736        9.1119\n",
       "humanm65     -1.20925       1.61852      -0.75    0.4612   -4.52463        2.10613\n",
       "humanf65     -1.10395       1.68469      -0.66    0.5176   -4.55489        2.34699\n",
       "hyr65        54.9139       23.8873        2.30    0.0292    5.98298      103.845\n",
       "hyrm65       12.935        23.1714        0.56    0.5811  -34.5295        60.3996\n",
       "hyrf65        9.09258      17.6696        0.51    0.6109  -27.1019        45.2871\n",
       "no65          0.0372099     0.131973      0.28    0.7801   -0.233125       0.307545\n",
       "nom65        -0.0211977     0.0649598    -0.33    0.7466   -0.154262       0.111866\n",
       "nof65        -0.0168578     0.0670026    -0.25    0.8032   -0.154106       0.120391\n",
       "pinstab1     -0.0499711     0.0309208    -1.62    0.1173   -0.11331        0.0133673\n",
       "pop65         1.0318e-7     1.31795e-7    0.78    0.4403   -1.6679e-7      3.7315e-7\n",
       "worker65      0.034079      0.156191      0.22    0.8289   -0.285864       0.354022\n",
       "pop1565      -0.465535      0.471334     -0.99    0.3318   -1.43102        0.499949\n",
       "pop6565      -1.35745       0.634942     -2.14    0.0414   -2.65807       -0.0568295\n",
       "sec65        -0.0108928     0.307662     -0.04    0.9720   -0.641109       0.619324\n",
       "secm65        0.00334366    0.151192      0.02    0.9825   -0.30636        0.313047\n",
       "secf65       -0.00230433    0.157972     -0.01    0.9885   -0.325894       0.321286\n",
       "secc65       -0.491528      0.729041     -0.67    0.5057   -1.9849         1.00184\n",
       "seccm65       0.259602      0.355653      0.73    0.4715   -0.468921       0.988124\n",
       "seccf65       0.220652      0.373333      0.59    0.5592   -0.544086       0.985391\n",
       "syr65        -0.755581      7.97676      -0.09    0.9252  -17.0952        15.5841\n",
       "syrm65        0.310901      3.89673       0.08    0.9370   -7.67119        8.29299\n",
       "syrf65        0.759281      4.11063       0.18    0.8548   -7.66097        9.17953\n",
       "teapri65      3.95452e-5    0.000770041   0.05    0.9594   -0.00153781     0.0016169\n",
       "teasec65      0.000249667   0.00117123    0.21    0.8327   -0.00214949     0.00264882\n",
       "ex1          -0.580408      0.241847     -2.40    0.0233   -1.07581       -0.0850066\n",
       "im1           0.591445      0.250298      2.36    0.0253    0.0787333      1.10416\n",
       "xr65         -0.000103777   5.41676e-5   -1.92    0.0656   -0.000214734    7.18049e-6\n",
       "tot1         -0.127901      0.112595     -1.14    0.2656   -0.358542       0.10274\n",
       "─────────────────────────────────────────────────────────────────────────────────────"
      ]
     },
     "execution_count": 89,
     "metadata": {},
     "output_type": "execute_result"
    }
   ],
   "source": [
    "reg_ols  = lm(term(:y) ~ sum(term.(names(data[!, Not([\"y\", \"intercept\"])]))), data, dropcollinear=false)"
   ]
  },
  {
   "cell_type": "markdown",
   "id": "ebf65150",
   "metadata": {},
   "source": [
    "### Double LASSO using cross Validation"
   ]
  },
  {
   "cell_type": "code",
   "execution_count": 90,
   "id": "f066c741",
   "metadata": {},
   "outputs": [],
   "source": [
    "using Lasso, GLM"
   ]
  },
  {
   "cell_type": "code",
   "execution_count": 91,
   "id": "386d8fde",
   "metadata": {
    "scrolled": true
   },
   "outputs": [
    {
     "data": {
      "text/plain": [
       "StatsModels.TableRegressionModel{LinearModel{GLM.LmResp{Vector{Float64}}, GLM.DensePredChol{Float64, CholeskyPivoted{Float64, Matrix{Float64}}}}, Matrix{Float64}}\n",
       "\n",
       "r_Y ~ 1 + r_D\n",
       "\n",
       "Coefficients:\n",
       "────────────────────────────────────────────────────────────────────────────────────────────────\n",
       "                   Coef.   Std. Error                     t  Pr(>|t|)     Lower 95%    Upper 95%\n",
       "────────────────────────────────────────────────────────────────────────────────────────────────\n",
       "(Intercept)  2.12022e-18  2.36784e-18                  0.90    0.3730  -2.58537e-18  6.82581e-18\n",
       "r_D          1.0          4.64025e-17  21550543020654140.00    <1e-99   1.0          1.0\n",
       "────────────────────────────────────────────────────────────────────────────────────────────────"
      ]
     },
     "execution_count": 91,
     "metadata": {},
     "output_type": "execute_result"
    }
   ],
   "source": [
    "# Seat values for Lasso\n",
    "reg = @formula(y ~ -1 + gdpsh465 + bmp1l + freeop + freetar + h65 + hm65 + hf65 + p65 + pm65 + pf65 + s65 + sm65 + sf65 + fert65 + mort65 + lifee065 + gpop1 + fert1 + mort1 + invsh41 + geetot1 + geerec1 + gde1 + govwb1 + govsh41 + gvxdxe41 + high65 + highm65 + highf65 + highc65 + highcm65 + highcf65 + human65 + humanm65 + humanf65 + hyr65 + hyrm65 + hyrf65 + no65 + nom65 + nof65 + pinstab1 + pop65 + worker65 + pop1565 + pop6565 + sec65 + secm65 + secf65 + secc65 + seccm65 + seccf65 + syr65 + syrm65 + syrf65 + teapri65 + teasec65 + ex1 + im1 + xr65 + tot1)\n",
    "lasso_model = fit(LassoModel, reg , data; α = 0.004)\n",
    "r_Y = residuals(lasso_model)\n",
    "r_Y = DataFrame([r_Y], [:r_Y])\n",
    "\n",
    "# Part. out d\n",
    "\n",
    "lasso_model = fit(LassoModel, reg, data;  α = 0.004)\n",
    "r_D = residuals(lasso_model)\n",
    "r_D = DataFrame([r_D], [:r_D])\n",
    "\n",
    "# ols \n",
    "data_aux = [r_Y r_D]\n",
    "fm_1 = @formula(r_Y ~ r_D)\n",
    "partial_lasso_fit = lm(fm_1, data_aux)"
   ]
  },
  {
   "cell_type": "markdown",
   "id": "e14a7b22",
   "metadata": {},
   "source": [
    "### Double Lasso using method = \"partialling out\""
   ]
  },
  {
   "cell_type": "code",
   "execution_count": 92,
   "id": "0a73b6ba",
   "metadata": {},
   "outputs": [],
   "source": [
    "    # couples variables combinations \n",
    "    combinations_upto(x, n) = Iterators.flatten(combinations(x, i) for i in 1:n)\n",
    "\n",
    "    # combinations without same couple\n",
    "    expand_exp(args, deg::ConstantTerm) =\n",
    "        tuple(((&)(terms...) for terms in combinations_upto(args, deg.n))...)\n",
    "\n",
    "    StatsModels.apply_schema(t::FunctionTerm{typeof(^)}, sch::StatsModels.Schema, ctx::Type) =\n",
    "        apply_schema.(expand_exp(t.args_parsed...), Ref(sch), ctx)"
   ]
  },
  {
   "cell_type": "code",
   "execution_count": 93,
   "id": "78e54d99",
   "metadata": {
    "scrolled": true
   },
   "outputs": [
    {
     "data": {
      "text/plain": [
       "FormulaTerm\n",
       "Response:\n",
       "  y(continuous)\n",
       "Predictors:\n",
       "  0\n",
       "  gdpsh465(continuous)\n",
       "  bmp1l(continuous)\n",
       "  freeop(continuous)\n",
       "  freetar(continuous)\n",
       "  h65(continuous)\n",
       "  hm65(continuous)\n",
       "  hf65(continuous)\n",
       "  p65(continuous)\n",
       "  pm65(continuous)\n",
       "  pf65(continuous)\n",
       "  s65(continuous)\n",
       "  sm65(continuous)\n",
       "  sf65(continuous)\n",
       "  fert65(continuous)\n",
       "  mort65(continuous)\n",
       "  lifee065(continuous)\n",
       "  gpop1(continuous)\n",
       "  fert1(continuous)\n",
       "  mort1(continuous)\n",
       "  invsh41(continuous)\n",
       "  geetot1(continuous)\n",
       "  geerec1(continuous)\n",
       "  gde1(continuous)\n",
       "  govwb1(continuous)\n",
       "  govsh41(continuous)\n",
       "  gvxdxe41(continuous)\n",
       "  high65(continuous)\n",
       "  highm65(continuous)\n",
       "  highf65(continuous)\n",
       "  highc65(continuous)\n",
       "  highcm65(continuous)\n",
       "  highcf65(continuous)\n",
       "  human65(continuous)\n",
       "  humanm65(continuous)\n",
       "  humanf65(continuous)\n",
       "  hyr65(continuous)\n",
       "  hyrm65(continuous)\n",
       "  hyrf65(continuous)\n",
       "  no65(continuous)\n",
       "  nom65(continuous)\n",
       "  nof65(continuous)\n",
       "  pinstab1(continuous)\n",
       "  pop65(continuous)\n",
       "  worker65(continuous)\n",
       "  pop1565(continuous)\n",
       "  pop6565(continuous)\n",
       "  sec65(continuous)\n",
       "  secm65(continuous)\n",
       "  secf65(continuous)\n",
       "  secc65(continuous)\n",
       "  seccm65(continuous)\n",
       "  seccf65(continuous)\n",
       "  syr65(continuous)\n",
       "  syrm65(continuous)\n",
       "  syrf65(continuous)\n",
       "  teapri65(continuous)\n",
       "  teasec65(continuous)\n",
       "  ex1(continuous)\n",
       "  im1(continuous)\n",
       "  xr65(continuous)\n",
       "  tot1(continuous)"
      ]
     },
     "execution_count": 93,
     "metadata": {},
     "output_type": "execute_result"
    }
   ],
   "source": [
    "reg = @formula(y ~ -1 + gdpsh465 + bmp1l + freeop + freetar + h65 + hm65 + hf65 + p65 + pm65 + pf65 + s65 + sm65 + sf65 + fert65 + mort65 + lifee065 + gpop1 + fert1 + mort1 + invsh41 + geetot1 + geerec1 + gde1 + govwb1 + govsh41 + gvxdxe41 + high65 + highm65 + highf65 + highc65 + highcm65 + highcf65 + human65 + humanm65 + humanf65 + hyr65 + hyrm65 + hyrf65 + no65 + nom65 + nof65 + pinstab1 + pop65 + worker65 + pop1565 + pop6565 + sec65 + secm65 + secf65 + secc65 + seccm65 + seccf65 + syr65 + syrm65 + syrf65 + teapri65 + teasec65 + ex1 + im1 + xr65 + tot1)\n",
    "formula_basic = apply_schema(reg, schema(reg, data))"
   ]
  },
  {
   "cell_type": "code",
   "execution_count": 94,
   "id": "1746270b",
   "metadata": {},
   "outputs": [
    {
     "data": {
      "text/plain": [
       "(\"y\", Any[\"gdpsh465\", \"bmp1l\", \"freeop\", \"freetar\", \"h65\", \"hm65\", \"hf65\", \"p65\", \"pm65\", \"pf65\"  …  \"seccf65\", \"syr65\", \"syrm65\", \"syrf65\", \"teapri65\", \"teasec65\", \"ex1\", \"im1\", \"xr65\", \"tot1\"])"
      ]
     },
     "execution_count": 94,
     "metadata": {},
     "output_type": "execute_result"
    }
   ],
   "source": [
    "coefnames(formula_basic)"
   ]
  },
  {
   "cell_type": "code",
   "execution_count": 95,
   "id": "9a7280ff",
   "metadata": {},
   "outputs": [
    {
     "data": {
      "text/plain": [
       "61-element Vector{Symbol}:\n",
       " :gdpsh465\n",
       " :bmp1l\n",
       " :freeop\n",
       " :freetar\n",
       " :h65\n",
       " :hm65\n",
       " :hf65\n",
       " :p65\n",
       " :pm65\n",
       " :pf65\n",
       " :s65\n",
       " :sm65\n",
       " :sf65\n",
       " ⋮\n",
       " :secc65\n",
       " :seccm65\n",
       " :seccf65\n",
       " :syr65\n",
       " :syrm65\n",
       " :syrf65\n",
       " :teapri65\n",
       " :teasec65\n",
       " :ex1\n",
       " :im1\n",
       " :xr65\n",
       " :tot1"
      ]
     },
     "execution_count": 95,
     "metadata": {},
     "output_type": "execute_result"
    }
   ],
   "source": [
    "Y = select(data,:y)  # uptcome variable\n",
    "control = coefnames(formula_basic)[2]  # regresors \n",
    "names_col = Symbol.(control)  # string to Symbol to create varaible's name "
   ]
  },
  {
   "cell_type": "code",
   "execution_count": 96,
   "id": "e21ba553",
   "metadata": {},
   "outputs": [
    {
     "data": {
      "text/plain": [
       "90×61 Matrix{Float64}:\n",
       " 6.59167  0.2837  0.153491  0.043888  …  0.0729  0.0667    0.348  -0.014727\n",
       " 6.82979  0.6141  0.313509  0.061827     0.094   0.1438    0.525   0.00575\n",
       " 8.89508  0.0     0.204244  0.009186     0.1741  0.175     1.082  -0.01004\n",
       " 7.56528  0.1997  0.248714  0.03627      0.1265  0.1496    6.625  -0.002195\n",
       " 7.1624   0.174   0.299252  0.037367     0.1211  0.1308    2.5     0.003283\n",
       " 7.21891  0.0     0.258865  0.02088   …  0.0634  0.0762    1.0    -0.001747\n",
       " 7.8536   0.0     0.182525  0.014385     0.0342  0.0428   12.499   0.009092\n",
       " 7.70391  0.2776  0.215275  0.029713     0.0864  0.0931    7.0     0.01163\n",
       " 9.06346  0.0     0.109614  0.002171     0.0594  0.046     1.0     0.008169\n",
       " 8.15191  0.1484  0.110885  0.028579     0.0524  0.0523    2.119   0.007584\n",
       " 6.92952  0.0296  0.165784  0.020115  …  0.056   0.0826   11.879   0.086032\n",
       " 7.23778  0.2151  0.078488  0.011581     0.027   0.0275    1.938   0.007666\n",
       " 8.11582  0.4318  0.137482  0.026547     0.0804  0.093     0.003   0.016968\n",
       " ⋮                                    ⋱                            ⋮\n",
       " 7.89469  0.1062  0.247626  0.037392     0.0797  0.1018    3.017   0.207492\n",
       " 7.17549  0.0     0.179933  0.046376     0.0636  0.0721   20.379   0.018019\n",
       " 9.03097  0.0     0.293138  0.005517  …  0.1662  0.1617    4.286  -0.006642\n",
       " 8.99554  0.0     0.30472   0.011658     0.2597  0.2288    2.46   -0.003241\n",
       " 8.23483  0.0363  0.288405  0.011589     0.1044  0.1796   32.051  -0.034352\n",
       " 8.33255  0.0     0.345485  0.006503     0.2866  0.35      0.452  -0.00166\n",
       " 8.64559  0.0     0.28844   0.005995     0.1296  0.1458  652.85   -0.046278\n",
       " 8.99106  0.0     0.371898  0.014586  …  0.4407  0.4257    2.529  -0.011883\n",
       " 8.02519  0.005   0.296437  0.013615     0.1669  0.2201   25.553  -0.03908\n",
       " 9.03014  0.0     0.265778  0.008629     0.3238  0.3134    4.152   0.005175\n",
       " 8.86531  0.0     0.282939  0.005048     0.1845  0.194     0.452  -0.029551\n",
       " 8.91234  0.0     0.150366  0.024377     0.1876  0.2007    0.886  -0.036482"
      ]
     },
     "execution_count": 96,
     "metadata": {},
     "output_type": "execute_result"
    }
   ],
   "source": [
    "X = StatsModels.modelmatrix(formula_basic,data)"
   ]
  },
  {
   "cell_type": "code",
   "execution_count": 97,
   "id": "d9c62012",
   "metadata": {},
   "outputs": [
    {
     "data": {
      "text/html": [
       "<div class=\"data-frame\"><p>90 rows × 61 columns (omitted printing of 52 columns)</p><table class=\"data-frame\"><thead><tr><th></th><th>gdpsh465</th><th>bmp1l</th><th>freeop</th><th>freetar</th><th>h65</th><th>hm65</th><th>hf65</th><th>p65</th><th>pm65</th></tr><tr><th></th><th title=\"Float64\">Float64</th><th title=\"Float64\">Float64</th><th title=\"Float64\">Float64</th><th title=\"Float64\">Float64</th><th title=\"Float64\">Float64</th><th title=\"Float64\">Float64</th><th title=\"Float64\">Float64</th><th title=\"Float64\">Float64</th><th title=\"Float64\">Float64</th></tr></thead><tbody><tr><th>1</th><td>6.59167</td><td>0.2837</td><td>0.153491</td><td>0.043888</td><td>0.007</td><td>0.013</td><td>0.001</td><td>0.29</td><td>0.37</td></tr><tr><th>2</th><td>6.82979</td><td>0.6141</td><td>0.313509</td><td>0.061827</td><td>0.019</td><td>0.032</td><td>0.007</td><td>0.91</td><td>1.0</td></tr><tr><th>3</th><td>8.89508</td><td>0.0</td><td>0.204244</td><td>0.009186</td><td>0.26</td><td>0.325</td><td>0.201</td><td>1.0</td><td>1.0</td></tr><tr><th>4</th><td>7.56528</td><td>0.1997</td><td>0.248714</td><td>0.03627</td><td>0.061</td><td>0.07</td><td>0.051</td><td>1.0</td><td>1.0</td></tr><tr><th>5</th><td>7.1624</td><td>0.174</td><td>0.299252</td><td>0.037367</td><td>0.017</td><td>0.027</td><td>0.007</td><td>0.82</td><td>0.85</td></tr><tr><th>6</th><td>7.21891</td><td>0.0</td><td>0.258865</td><td>0.02088</td><td>0.023</td><td>0.038</td><td>0.006</td><td>0.5</td><td>0.55</td></tr><tr><th>7</th><td>7.8536</td><td>0.0</td><td>0.182525</td><td>0.014385</td><td>0.039</td><td>0.063</td><td>0.014</td><td>0.92</td><td>0.94</td></tr><tr><th>8</th><td>7.70391</td><td>0.2776</td><td>0.215275</td><td>0.029713</td><td>0.024</td><td>0.035</td><td>0.013</td><td>0.69</td><td>0.69</td></tr><tr><th>9</th><td>9.06346</td><td>0.0</td><td>0.109614</td><td>0.002171</td><td>0.402</td><td>0.488</td><td>0.314</td><td>1.0</td><td>1.0</td></tr><tr><th>10</th><td>8.15191</td><td>0.1484</td><td>0.110885</td><td>0.028579</td><td>0.145</td><td>0.173</td><td>0.114</td><td>1.0</td><td>1.0</td></tr><tr><th>11</th><td>6.92952</td><td>0.0296</td><td>0.165784</td><td>0.020115</td><td>0.046</td><td>0.066</td><td>0.025</td><td>0.73</td><td>0.86</td></tr><tr><th>12</th><td>7.23778</td><td>0.2151</td><td>0.078488</td><td>0.011581</td><td>0.022</td><td>0.031</td><td>0.014</td><td>1.0</td><td>0.73</td></tr><tr><th>13</th><td>8.11582</td><td>0.4318</td><td>0.137482</td><td>0.026547</td><td>0.059</td><td>0.073</td><td>0.045</td><td>1.0</td><td>1.0</td></tr><tr><th>14</th><td>7.2717</td><td>0.1689</td><td>0.164598</td><td>0.044446</td><td>0.029</td><td>0.045</td><td>0.013</td><td>0.84</td><td>0.83</td></tr><tr><th>15</th><td>7.12125</td><td>0.1832</td><td>0.188016</td><td>0.045678</td><td>0.033</td><td>0.051</td><td>0.015</td><td>0.91</td><td>0.94</td></tr><tr><th>16</th><td>6.97728</td><td>0.0962</td><td>0.204611</td><td>0.077852</td><td>0.037</td><td>0.043</td><td>0.03</td><td>1.0</td><td>1.0</td></tr><tr><th>17</th><td>7.64969</td><td>0.0227</td><td>0.136287</td><td>0.04673</td><td>0.081</td><td>0.105</td><td>0.056</td><td>0.99</td><td>1.0</td></tr><tr><th>18</th><td>8.05674</td><td>0.0208</td><td>0.197853</td><td>0.037224</td><td>0.083</td><td>0.097</td><td>0.069</td><td>1.0</td><td>1.0</td></tr><tr><th>19</th><td>8.78094</td><td>0.2654</td><td>0.189867</td><td>0.031747</td><td>0.068</td><td>0.089</td><td>0.046</td><td>0.94</td><td>0.93</td></tr><tr><th>20</th><td>6.28786</td><td>0.4207</td><td>0.130682</td><td>0.109921</td><td>0.053</td><td>0.039</td><td>0.011</td><td>0.74</td><td>0.69</td></tr><tr><th>21</th><td>6.13773</td><td>0.1371</td><td>0.123818</td><td>0.015897</td><td>0.028</td><td>0.025</td><td>0.007</td><td>0.72</td><td>0.75</td></tr><tr><th>22</th><td>8.12888</td><td>0.0</td><td>0.16721</td><td>0.003311</td><td>0.129</td><td>0.196</td><td>0.063</td><td>1.0</td><td>1.0</td></tr><tr><th>23</th><td>6.68085</td><td>0.4713</td><td>0.228424</td><td>0.029328</td><td>0.062</td><td>0.09</td><td>0.032</td><td>1.0</td><td>1.0</td></tr><tr><th>24</th><td>7.17702</td><td>0.0178</td><td>0.18524</td><td>0.015453</td><td>0.02</td><td>0.026</td><td>0.013</td><td>0.9</td><td>0.96</td></tr><tr><th>25</th><td>6.64898</td><td>0.4762</td><td>0.171181</td><td>0.058937</td><td>0.018</td><td>0.028</td><td>0.007</td><td>0.4</td><td>0.59</td></tr><tr><th>26</th><td>6.87936</td><td>0.2927</td><td>0.179508</td><td>0.035842</td><td>0.188</td><td>0.169</td><td>0.208</td><td>1.0</td><td>1.0</td></tr><tr><th>27</th><td>7.3473</td><td>0.1017</td><td>0.247626</td><td>0.037392</td><td>0.08</td><td>0.133</td><td>0.027</td><td>0.78</td><td>1.0</td></tr><tr><th>28</th><td>6.72503</td><td>0.0266</td><td>0.179933</td><td>0.046376</td><td>0.015</td><td>0.02</td><td>0.01</td><td>0.78</td><td>0.82</td></tr><tr><th>29</th><td>8.45105</td><td>0.0</td><td>0.358556</td><td>0.016468</td><td>0.09</td><td>0.133</td><td>0.044</td><td>1.0</td><td>1.0</td></tr><tr><th>30</th><td>8.60245</td><td>0.0</td><td>0.416234</td><td>0.014721</td><td>0.148</td><td>0.194</td><td>0.1</td><td>1.0</td><td>1.0</td></tr><tr><th>&vellip;</th><td>&vellip;</td><td>&vellip;</td><td>&vellip;</td><td>&vellip;</td><td>&vellip;</td><td>&vellip;</td><td>&vellip;</td><td>&vellip;</td><td>&vellip;</td></tr></tbody></table></div>"
      ],
      "text/latex": [
       "\\begin{tabular}{r|cccccccccc}\n",
       "\t& gdpsh465 & bmp1l & freeop & freetar & h65 & hm65 & hf65 & p65 & pm65 & \\\\\n",
       "\t\\hline\n",
       "\t& Float64 & Float64 & Float64 & Float64 & Float64 & Float64 & Float64 & Float64 & Float64 & \\\\\n",
       "\t\\hline\n",
       "\t1 & 6.59167 & 0.2837 & 0.153491 & 0.043888 & 0.007 & 0.013 & 0.001 & 0.29 & 0.37 & $\\dots$ \\\\\n",
       "\t2 & 6.82979 & 0.6141 & 0.313509 & 0.061827 & 0.019 & 0.032 & 0.007 & 0.91 & 1.0 & $\\dots$ \\\\\n",
       "\t3 & 8.89508 & 0.0 & 0.204244 & 0.009186 & 0.26 & 0.325 & 0.201 & 1.0 & 1.0 & $\\dots$ \\\\\n",
       "\t4 & 7.56528 & 0.1997 & 0.248714 & 0.03627 & 0.061 & 0.07 & 0.051 & 1.0 & 1.0 & $\\dots$ \\\\\n",
       "\t5 & 7.1624 & 0.174 & 0.299252 & 0.037367 & 0.017 & 0.027 & 0.007 & 0.82 & 0.85 & $\\dots$ \\\\\n",
       "\t6 & 7.21891 & 0.0 & 0.258865 & 0.02088 & 0.023 & 0.038 & 0.006 & 0.5 & 0.55 & $\\dots$ \\\\\n",
       "\t7 & 7.8536 & 0.0 & 0.182525 & 0.014385 & 0.039 & 0.063 & 0.014 & 0.92 & 0.94 & $\\dots$ \\\\\n",
       "\t8 & 7.70391 & 0.2776 & 0.215275 & 0.029713 & 0.024 & 0.035 & 0.013 & 0.69 & 0.69 & $\\dots$ \\\\\n",
       "\t9 & 9.06346 & 0.0 & 0.109614 & 0.002171 & 0.402 & 0.488 & 0.314 & 1.0 & 1.0 & $\\dots$ \\\\\n",
       "\t10 & 8.15191 & 0.1484 & 0.110885 & 0.028579 & 0.145 & 0.173 & 0.114 & 1.0 & 1.0 & $\\dots$ \\\\\n",
       "\t11 & 6.92952 & 0.0296 & 0.165784 & 0.020115 & 0.046 & 0.066 & 0.025 & 0.73 & 0.86 & $\\dots$ \\\\\n",
       "\t12 & 7.23778 & 0.2151 & 0.078488 & 0.011581 & 0.022 & 0.031 & 0.014 & 1.0 & 0.73 & $\\dots$ \\\\\n",
       "\t13 & 8.11582 & 0.4318 & 0.137482 & 0.026547 & 0.059 & 0.073 & 0.045 & 1.0 & 1.0 & $\\dots$ \\\\\n",
       "\t14 & 7.2717 & 0.1689 & 0.164598 & 0.044446 & 0.029 & 0.045 & 0.013 & 0.84 & 0.83 & $\\dots$ \\\\\n",
       "\t15 & 7.12125 & 0.1832 & 0.188016 & 0.045678 & 0.033 & 0.051 & 0.015 & 0.91 & 0.94 & $\\dots$ \\\\\n",
       "\t16 & 6.97728 & 0.0962 & 0.204611 & 0.077852 & 0.037 & 0.043 & 0.03 & 1.0 & 1.0 & $\\dots$ \\\\\n",
       "\t17 & 7.64969 & 0.0227 & 0.136287 & 0.04673 & 0.081 & 0.105 & 0.056 & 0.99 & 1.0 & $\\dots$ \\\\\n",
       "\t18 & 8.05674 & 0.0208 & 0.197853 & 0.037224 & 0.083 & 0.097 & 0.069 & 1.0 & 1.0 & $\\dots$ \\\\\n",
       "\t19 & 8.78094 & 0.2654 & 0.189867 & 0.031747 & 0.068 & 0.089 & 0.046 & 0.94 & 0.93 & $\\dots$ \\\\\n",
       "\t20 & 6.28786 & 0.4207 & 0.130682 & 0.109921 & 0.053 & 0.039 & 0.011 & 0.74 & 0.69 & $\\dots$ \\\\\n",
       "\t21 & 6.13773 & 0.1371 & 0.123818 & 0.015897 & 0.028 & 0.025 & 0.007 & 0.72 & 0.75 & $\\dots$ \\\\\n",
       "\t22 & 8.12888 & 0.0 & 0.16721 & 0.003311 & 0.129 & 0.196 & 0.063 & 1.0 & 1.0 & $\\dots$ \\\\\n",
       "\t23 & 6.68085 & 0.4713 & 0.228424 & 0.029328 & 0.062 & 0.09 & 0.032 & 1.0 & 1.0 & $\\dots$ \\\\\n",
       "\t24 & 7.17702 & 0.0178 & 0.18524 & 0.015453 & 0.02 & 0.026 & 0.013 & 0.9 & 0.96 & $\\dots$ \\\\\n",
       "\t25 & 6.64898 & 0.4762 & 0.171181 & 0.058937 & 0.018 & 0.028 & 0.007 & 0.4 & 0.59 & $\\dots$ \\\\\n",
       "\t26 & 6.87936 & 0.2927 & 0.179508 & 0.035842 & 0.188 & 0.169 & 0.208 & 1.0 & 1.0 & $\\dots$ \\\\\n",
       "\t27 & 7.3473 & 0.1017 & 0.247626 & 0.037392 & 0.08 & 0.133 & 0.027 & 0.78 & 1.0 & $\\dots$ \\\\\n",
       "\t28 & 6.72503 & 0.0266 & 0.179933 & 0.046376 & 0.015 & 0.02 & 0.01 & 0.78 & 0.82 & $\\dots$ \\\\\n",
       "\t29 & 8.45105 & 0.0 & 0.358556 & 0.016468 & 0.09 & 0.133 & 0.044 & 1.0 & 1.0 & $\\dots$ \\\\\n",
       "\t30 & 8.60245 & 0.0 & 0.416234 & 0.014721 & 0.148 & 0.194 & 0.1 & 1.0 & 1.0 & $\\dots$ \\\\\n",
       "\t$\\dots$ & $\\dots$ & $\\dots$ & $\\dots$ & $\\dots$ & $\\dots$ & $\\dots$ & $\\dots$ & $\\dots$ & $\\dots$ &  \\\\\n",
       "\\end{tabular}\n"
      ],
      "text/plain": [
       "\u001b[1m90×61 DataFrame\u001b[0m\n",
       "\u001b[1m Row \u001b[0m│\u001b[1m gdpsh465 \u001b[0m\u001b[1m bmp1l   \u001b[0m\u001b[1m freeop   \u001b[0m\u001b[1m freetar  \u001b[0m\u001b[1m h65     \u001b[0m\u001b[1m hm65    \u001b[0m\u001b[1m hf65    \u001b[0m\u001b[1m p65  \u001b[0m ⋯\n",
       "\u001b[1m     \u001b[0m│\u001b[90m Float64  \u001b[0m\u001b[90m Float64 \u001b[0m\u001b[90m Float64  \u001b[0m\u001b[90m Float64  \u001b[0m\u001b[90m Float64 \u001b[0m\u001b[90m Float64 \u001b[0m\u001b[90m Float64 \u001b[0m\u001b[90m Float\u001b[0m ⋯\n",
       "─────┼──────────────────────────────────────────────────────────────────────────\n",
       "   1 │  6.59167   0.2837  0.153491  0.043888    0.007    0.013    0.001     0. ⋯\n",
       "   2 │  6.82979   0.6141  0.313509  0.061827    0.019    0.032    0.007     0.\n",
       "   3 │  8.89508   0.0     0.204244  0.009186    0.26     0.325    0.201     1.\n",
       "   4 │  7.56528   0.1997  0.248714  0.03627     0.061    0.07     0.051     1.\n",
       "   5 │  7.1624    0.174   0.299252  0.037367    0.017    0.027    0.007     0. ⋯\n",
       "   6 │  7.21891   0.0     0.258865  0.02088     0.023    0.038    0.006     0.\n",
       "   7 │  7.8536    0.0     0.182525  0.014385    0.039    0.063    0.014     0.\n",
       "   8 │  7.70391   0.2776  0.215275  0.029713    0.024    0.035    0.013     0.\n",
       "   9 │  9.06346   0.0     0.109614  0.002171    0.402    0.488    0.314     1. ⋯\n",
       "  10 │  8.15191   0.1484  0.110885  0.028579    0.145    0.173    0.114     1.\n",
       "  11 │  6.92952   0.0296  0.165784  0.020115    0.046    0.066    0.025     0.\n",
       "  ⋮  │    ⋮         ⋮        ⋮         ⋮         ⋮        ⋮        ⋮        ⋮  ⋱\n",
       "  81 │  9.03097   0.0     0.293138  0.005517    0.245    0.251    0.238     1.\n",
       "  82 │  8.99554   0.0     0.30472   0.011658    0.246    0.26     0.19      1. ⋯\n",
       "  83 │  8.23483   0.0363  0.288405  0.011589    0.183    0.222    0.142     1.\n",
       "  84 │  8.33255   0.0     0.345485  0.006503    0.188    0.248    0.136     1.\n",
       "  85 │  8.64559   0.0     0.28844   0.005995    0.256    0.301    0.199     1.\n",
       "  86 │  8.99106   0.0     0.371898  0.014586    0.255    0.336    0.17      0. ⋯\n",
       "  87 │  8.02519   0.005   0.296437  0.013615    0.108    0.117    0.093     1.\n",
       "  88 │  9.03014   0.0     0.265778  0.008629    0.288    0.337    0.237     1.\n",
       "  89 │  8.86531   0.0     0.282939  0.005048    0.188    0.236    0.139     1.\n",
       "  90 │  8.91234   0.0     0.150366  0.024377    0.257    0.338    0.215     1. ⋯\n",
       "\u001b[36m                                                  54 columns and 69 rows omitted\u001b[0m"
      ]
     },
     "execution_count": 97,
     "metadata": {},
     "output_type": "execute_result"
    }
   ],
   "source": [
    "X = DataFrame(X, names_col)"
   ]
  },
  {
   "cell_type": "code",
   "execution_count": 98,
   "id": "a6a97181",
   "metadata": {},
   "outputs": [],
   "source": [
    "# Function to get index of constant columns   \n",
    "\n",
    "cons_column = []\n",
    "\n",
    "#recoge todos los valores que tengan varianza 0\n",
    "for i in 1:size(X,2)\n",
    "    if var(X[!,i]) == 0\n",
    "        append!(cons_column  , i)      \n",
    "    end       \n",
    "end"
   ]
  },
  {
   "cell_type": "code",
   "execution_count": 99,
   "id": "542fb3a7",
   "metadata": {},
   "outputs": [
    {
     "data": {
      "text/html": [
       "<div class=\"data-frame\"><p>90 rows × 61 columns (omitted printing of 52 columns)</p><table class=\"data-frame\"><thead><tr><th></th><th>gdpsh465</th><th>bmp1l</th><th>freeop</th><th>freetar</th><th>h65</th><th>hm65</th><th>hf65</th><th>p65</th><th>pm65</th></tr><tr><th></th><th title=\"Float64\">Float64</th><th title=\"Float64\">Float64</th><th title=\"Float64\">Float64</th><th title=\"Float64\">Float64</th><th title=\"Float64\">Float64</th><th title=\"Float64\">Float64</th><th title=\"Float64\">Float64</th><th title=\"Float64\">Float64</th><th title=\"Float64\">Float64</th></tr></thead><tbody><tr><th>1</th><td>6.59167</td><td>0.2837</td><td>0.153491</td><td>0.043888</td><td>0.007</td><td>0.013</td><td>0.001</td><td>0.29</td><td>0.37</td></tr><tr><th>2</th><td>6.82979</td><td>0.6141</td><td>0.313509</td><td>0.061827</td><td>0.019</td><td>0.032</td><td>0.007</td><td>0.91</td><td>1.0</td></tr><tr><th>3</th><td>8.89508</td><td>0.0</td><td>0.204244</td><td>0.009186</td><td>0.26</td><td>0.325</td><td>0.201</td><td>1.0</td><td>1.0</td></tr><tr><th>4</th><td>7.56528</td><td>0.1997</td><td>0.248714</td><td>0.03627</td><td>0.061</td><td>0.07</td><td>0.051</td><td>1.0</td><td>1.0</td></tr><tr><th>5</th><td>7.1624</td><td>0.174</td><td>0.299252</td><td>0.037367</td><td>0.017</td><td>0.027</td><td>0.007</td><td>0.82</td><td>0.85</td></tr><tr><th>6</th><td>7.21891</td><td>0.0</td><td>0.258865</td><td>0.02088</td><td>0.023</td><td>0.038</td><td>0.006</td><td>0.5</td><td>0.55</td></tr><tr><th>7</th><td>7.8536</td><td>0.0</td><td>0.182525</td><td>0.014385</td><td>0.039</td><td>0.063</td><td>0.014</td><td>0.92</td><td>0.94</td></tr><tr><th>8</th><td>7.70391</td><td>0.2776</td><td>0.215275</td><td>0.029713</td><td>0.024</td><td>0.035</td><td>0.013</td><td>0.69</td><td>0.69</td></tr><tr><th>9</th><td>9.06346</td><td>0.0</td><td>0.109614</td><td>0.002171</td><td>0.402</td><td>0.488</td><td>0.314</td><td>1.0</td><td>1.0</td></tr><tr><th>10</th><td>8.15191</td><td>0.1484</td><td>0.110885</td><td>0.028579</td><td>0.145</td><td>0.173</td><td>0.114</td><td>1.0</td><td>1.0</td></tr><tr><th>11</th><td>6.92952</td><td>0.0296</td><td>0.165784</td><td>0.020115</td><td>0.046</td><td>0.066</td><td>0.025</td><td>0.73</td><td>0.86</td></tr><tr><th>12</th><td>7.23778</td><td>0.2151</td><td>0.078488</td><td>0.011581</td><td>0.022</td><td>0.031</td><td>0.014</td><td>1.0</td><td>0.73</td></tr><tr><th>13</th><td>8.11582</td><td>0.4318</td><td>0.137482</td><td>0.026547</td><td>0.059</td><td>0.073</td><td>0.045</td><td>1.0</td><td>1.0</td></tr><tr><th>14</th><td>7.2717</td><td>0.1689</td><td>0.164598</td><td>0.044446</td><td>0.029</td><td>0.045</td><td>0.013</td><td>0.84</td><td>0.83</td></tr><tr><th>15</th><td>7.12125</td><td>0.1832</td><td>0.188016</td><td>0.045678</td><td>0.033</td><td>0.051</td><td>0.015</td><td>0.91</td><td>0.94</td></tr><tr><th>16</th><td>6.97728</td><td>0.0962</td><td>0.204611</td><td>0.077852</td><td>0.037</td><td>0.043</td><td>0.03</td><td>1.0</td><td>1.0</td></tr><tr><th>17</th><td>7.64969</td><td>0.0227</td><td>0.136287</td><td>0.04673</td><td>0.081</td><td>0.105</td><td>0.056</td><td>0.99</td><td>1.0</td></tr><tr><th>18</th><td>8.05674</td><td>0.0208</td><td>0.197853</td><td>0.037224</td><td>0.083</td><td>0.097</td><td>0.069</td><td>1.0</td><td>1.0</td></tr><tr><th>19</th><td>8.78094</td><td>0.2654</td><td>0.189867</td><td>0.031747</td><td>0.068</td><td>0.089</td><td>0.046</td><td>0.94</td><td>0.93</td></tr><tr><th>20</th><td>6.28786</td><td>0.4207</td><td>0.130682</td><td>0.109921</td><td>0.053</td><td>0.039</td><td>0.011</td><td>0.74</td><td>0.69</td></tr><tr><th>21</th><td>6.13773</td><td>0.1371</td><td>0.123818</td><td>0.015897</td><td>0.028</td><td>0.025</td><td>0.007</td><td>0.72</td><td>0.75</td></tr><tr><th>22</th><td>8.12888</td><td>0.0</td><td>0.16721</td><td>0.003311</td><td>0.129</td><td>0.196</td><td>0.063</td><td>1.0</td><td>1.0</td></tr><tr><th>23</th><td>6.68085</td><td>0.4713</td><td>0.228424</td><td>0.029328</td><td>0.062</td><td>0.09</td><td>0.032</td><td>1.0</td><td>1.0</td></tr><tr><th>24</th><td>7.17702</td><td>0.0178</td><td>0.18524</td><td>0.015453</td><td>0.02</td><td>0.026</td><td>0.013</td><td>0.9</td><td>0.96</td></tr><tr><th>25</th><td>6.64898</td><td>0.4762</td><td>0.171181</td><td>0.058937</td><td>0.018</td><td>0.028</td><td>0.007</td><td>0.4</td><td>0.59</td></tr><tr><th>26</th><td>6.87936</td><td>0.2927</td><td>0.179508</td><td>0.035842</td><td>0.188</td><td>0.169</td><td>0.208</td><td>1.0</td><td>1.0</td></tr><tr><th>27</th><td>7.3473</td><td>0.1017</td><td>0.247626</td><td>0.037392</td><td>0.08</td><td>0.133</td><td>0.027</td><td>0.78</td><td>1.0</td></tr><tr><th>28</th><td>6.72503</td><td>0.0266</td><td>0.179933</td><td>0.046376</td><td>0.015</td><td>0.02</td><td>0.01</td><td>0.78</td><td>0.82</td></tr><tr><th>29</th><td>8.45105</td><td>0.0</td><td>0.358556</td><td>0.016468</td><td>0.09</td><td>0.133</td><td>0.044</td><td>1.0</td><td>1.0</td></tr><tr><th>30</th><td>8.60245</td><td>0.0</td><td>0.416234</td><td>0.014721</td><td>0.148</td><td>0.194</td><td>0.1</td><td>1.0</td><td>1.0</td></tr><tr><th>&vellip;</th><td>&vellip;</td><td>&vellip;</td><td>&vellip;</td><td>&vellip;</td><td>&vellip;</td><td>&vellip;</td><td>&vellip;</td><td>&vellip;</td><td>&vellip;</td></tr></tbody></table></div>"
      ],
      "text/latex": [
       "\\begin{tabular}{r|cccccccccc}\n",
       "\t& gdpsh465 & bmp1l & freeop & freetar & h65 & hm65 & hf65 & p65 & pm65 & \\\\\n",
       "\t\\hline\n",
       "\t& Float64 & Float64 & Float64 & Float64 & Float64 & Float64 & Float64 & Float64 & Float64 & \\\\\n",
       "\t\\hline\n",
       "\t1 & 6.59167 & 0.2837 & 0.153491 & 0.043888 & 0.007 & 0.013 & 0.001 & 0.29 & 0.37 & $\\dots$ \\\\\n",
       "\t2 & 6.82979 & 0.6141 & 0.313509 & 0.061827 & 0.019 & 0.032 & 0.007 & 0.91 & 1.0 & $\\dots$ \\\\\n",
       "\t3 & 8.89508 & 0.0 & 0.204244 & 0.009186 & 0.26 & 0.325 & 0.201 & 1.0 & 1.0 & $\\dots$ \\\\\n",
       "\t4 & 7.56528 & 0.1997 & 0.248714 & 0.03627 & 0.061 & 0.07 & 0.051 & 1.0 & 1.0 & $\\dots$ \\\\\n",
       "\t5 & 7.1624 & 0.174 & 0.299252 & 0.037367 & 0.017 & 0.027 & 0.007 & 0.82 & 0.85 & $\\dots$ \\\\\n",
       "\t6 & 7.21891 & 0.0 & 0.258865 & 0.02088 & 0.023 & 0.038 & 0.006 & 0.5 & 0.55 & $\\dots$ \\\\\n",
       "\t7 & 7.8536 & 0.0 & 0.182525 & 0.014385 & 0.039 & 0.063 & 0.014 & 0.92 & 0.94 & $\\dots$ \\\\\n",
       "\t8 & 7.70391 & 0.2776 & 0.215275 & 0.029713 & 0.024 & 0.035 & 0.013 & 0.69 & 0.69 & $\\dots$ \\\\\n",
       "\t9 & 9.06346 & 0.0 & 0.109614 & 0.002171 & 0.402 & 0.488 & 0.314 & 1.0 & 1.0 & $\\dots$ \\\\\n",
       "\t10 & 8.15191 & 0.1484 & 0.110885 & 0.028579 & 0.145 & 0.173 & 0.114 & 1.0 & 1.0 & $\\dots$ \\\\\n",
       "\t11 & 6.92952 & 0.0296 & 0.165784 & 0.020115 & 0.046 & 0.066 & 0.025 & 0.73 & 0.86 & $\\dots$ \\\\\n",
       "\t12 & 7.23778 & 0.2151 & 0.078488 & 0.011581 & 0.022 & 0.031 & 0.014 & 1.0 & 0.73 & $\\dots$ \\\\\n",
       "\t13 & 8.11582 & 0.4318 & 0.137482 & 0.026547 & 0.059 & 0.073 & 0.045 & 1.0 & 1.0 & $\\dots$ \\\\\n",
       "\t14 & 7.2717 & 0.1689 & 0.164598 & 0.044446 & 0.029 & 0.045 & 0.013 & 0.84 & 0.83 & $\\dots$ \\\\\n",
       "\t15 & 7.12125 & 0.1832 & 0.188016 & 0.045678 & 0.033 & 0.051 & 0.015 & 0.91 & 0.94 & $\\dots$ \\\\\n",
       "\t16 & 6.97728 & 0.0962 & 0.204611 & 0.077852 & 0.037 & 0.043 & 0.03 & 1.0 & 1.0 & $\\dots$ \\\\\n",
       "\t17 & 7.64969 & 0.0227 & 0.136287 & 0.04673 & 0.081 & 0.105 & 0.056 & 0.99 & 1.0 & $\\dots$ \\\\\n",
       "\t18 & 8.05674 & 0.0208 & 0.197853 & 0.037224 & 0.083 & 0.097 & 0.069 & 1.0 & 1.0 & $\\dots$ \\\\\n",
       "\t19 & 8.78094 & 0.2654 & 0.189867 & 0.031747 & 0.068 & 0.089 & 0.046 & 0.94 & 0.93 & $\\dots$ \\\\\n",
       "\t20 & 6.28786 & 0.4207 & 0.130682 & 0.109921 & 0.053 & 0.039 & 0.011 & 0.74 & 0.69 & $\\dots$ \\\\\n",
       "\t21 & 6.13773 & 0.1371 & 0.123818 & 0.015897 & 0.028 & 0.025 & 0.007 & 0.72 & 0.75 & $\\dots$ \\\\\n",
       "\t22 & 8.12888 & 0.0 & 0.16721 & 0.003311 & 0.129 & 0.196 & 0.063 & 1.0 & 1.0 & $\\dots$ \\\\\n",
       "\t23 & 6.68085 & 0.4713 & 0.228424 & 0.029328 & 0.062 & 0.09 & 0.032 & 1.0 & 1.0 & $\\dots$ \\\\\n",
       "\t24 & 7.17702 & 0.0178 & 0.18524 & 0.015453 & 0.02 & 0.026 & 0.013 & 0.9 & 0.96 & $\\dots$ \\\\\n",
       "\t25 & 6.64898 & 0.4762 & 0.171181 & 0.058937 & 0.018 & 0.028 & 0.007 & 0.4 & 0.59 & $\\dots$ \\\\\n",
       "\t26 & 6.87936 & 0.2927 & 0.179508 & 0.035842 & 0.188 & 0.169 & 0.208 & 1.0 & 1.0 & $\\dots$ \\\\\n",
       "\t27 & 7.3473 & 0.1017 & 0.247626 & 0.037392 & 0.08 & 0.133 & 0.027 & 0.78 & 1.0 & $\\dots$ \\\\\n",
       "\t28 & 6.72503 & 0.0266 & 0.179933 & 0.046376 & 0.015 & 0.02 & 0.01 & 0.78 & 0.82 & $\\dots$ \\\\\n",
       "\t29 & 8.45105 & 0.0 & 0.358556 & 0.016468 & 0.09 & 0.133 & 0.044 & 1.0 & 1.0 & $\\dots$ \\\\\n",
       "\t30 & 8.60245 & 0.0 & 0.416234 & 0.014721 & 0.148 & 0.194 & 0.1 & 1.0 & 1.0 & $\\dots$ \\\\\n",
       "\t$\\dots$ & $\\dots$ & $\\dots$ & $\\dots$ & $\\dots$ & $\\dots$ & $\\dots$ & $\\dots$ & $\\dots$ & $\\dots$ &  \\\\\n",
       "\\end{tabular}\n"
      ],
      "text/plain": [
       "\u001b[1m90×61 DataFrame\u001b[0m\n",
       "\u001b[1m Row \u001b[0m│\u001b[1m gdpsh465 \u001b[0m\u001b[1m bmp1l   \u001b[0m\u001b[1m freeop   \u001b[0m\u001b[1m freetar  \u001b[0m\u001b[1m h65     \u001b[0m\u001b[1m hm65    \u001b[0m\u001b[1m hf65    \u001b[0m\u001b[1m p65  \u001b[0m ⋯\n",
       "\u001b[1m     \u001b[0m│\u001b[90m Float64  \u001b[0m\u001b[90m Float64 \u001b[0m\u001b[90m Float64  \u001b[0m\u001b[90m Float64  \u001b[0m\u001b[90m Float64 \u001b[0m\u001b[90m Float64 \u001b[0m\u001b[90m Float64 \u001b[0m\u001b[90m Float\u001b[0m ⋯\n",
       "─────┼──────────────────────────────────────────────────────────────────────────\n",
       "   1 │  6.59167   0.2837  0.153491  0.043888    0.007    0.013    0.001     0. ⋯\n",
       "   2 │  6.82979   0.6141  0.313509  0.061827    0.019    0.032    0.007     0.\n",
       "   3 │  8.89508   0.0     0.204244  0.009186    0.26     0.325    0.201     1.\n",
       "   4 │  7.56528   0.1997  0.248714  0.03627     0.061    0.07     0.051     1.\n",
       "   5 │  7.1624    0.174   0.299252  0.037367    0.017    0.027    0.007     0. ⋯\n",
       "   6 │  7.21891   0.0     0.258865  0.02088     0.023    0.038    0.006     0.\n",
       "   7 │  7.8536    0.0     0.182525  0.014385    0.039    0.063    0.014     0.\n",
       "   8 │  7.70391   0.2776  0.215275  0.029713    0.024    0.035    0.013     0.\n",
       "   9 │  9.06346   0.0     0.109614  0.002171    0.402    0.488    0.314     1. ⋯\n",
       "  10 │  8.15191   0.1484  0.110885  0.028579    0.145    0.173    0.114     1.\n",
       "  11 │  6.92952   0.0296  0.165784  0.020115    0.046    0.066    0.025     0.\n",
       "  ⋮  │    ⋮         ⋮        ⋮         ⋮         ⋮        ⋮        ⋮        ⋮  ⋱\n",
       "  81 │  9.03097   0.0     0.293138  0.005517    0.245    0.251    0.238     1.\n",
       "  82 │  8.99554   0.0     0.30472   0.011658    0.246    0.26     0.19      1. ⋯\n",
       "  83 │  8.23483   0.0363  0.288405  0.011589    0.183    0.222    0.142     1.\n",
       "  84 │  8.33255   0.0     0.345485  0.006503    0.188    0.248    0.136     1.\n",
       "  85 │  8.64559   0.0     0.28844   0.005995    0.256    0.301    0.199     1.\n",
       "  86 │  8.99106   0.0     0.371898  0.014586    0.255    0.336    0.17      0. ⋯\n",
       "  87 │  8.02519   0.005   0.296437  0.013615    0.108    0.117    0.093     1.\n",
       "  88 │  9.03014   0.0     0.265778  0.008629    0.288    0.337    0.237     1.\n",
       "  89 │  8.86531   0.0     0.282939  0.005048    0.188    0.236    0.139     1.\n",
       "  90 │  8.91234   0.0     0.150366  0.024377    0.257    0.338    0.215     1. ⋯\n",
       "\u001b[36m                                                  54 columns and 69 rows omitted\u001b[0m"
      ]
     },
     "execution_count": 99,
     "metadata": {},
     "output_type": "execute_result"
    }
   ],
   "source": [
    "#Drop constant columns \n",
    "\n",
    "names(X)[cons_column]\n",
    "select!(X, Not(names(X)[cons_column]))"
   ]
  },
  {
   "cell_type": "code",
   "execution_count": 100,
   "id": "500717f6",
   "metadata": {},
   "outputs": [
    {
     "data": {
      "text/html": [
       "<div class=\"data-frame\"><p>90 rows × 61 columns (omitted printing of 54 columns)</p><table class=\"data-frame\"><thead><tr><th></th><th>gdpsh465</th><th>bmp1l</th><th>freeop</th><th>freetar</th><th>h65</th><th>hm65</th><th>hf65</th></tr><tr><th></th><th title=\"Float64\">Float64</th><th title=\"Float64\">Float64</th><th title=\"Float64\">Float64</th><th title=\"Float64\">Float64</th><th title=\"Float64\">Float64</th><th title=\"Float64\">Float64</th><th title=\"Float64\">Float64</th></tr></thead><tbody><tr><th>1</th><td>-1.11123</td><td>0.114953</td><td>-0.0666109</td><td>0.0155539</td><td>-0.104556</td><td>-0.124156</td><td>-0.0812333</td></tr><tr><th>2</th><td>-0.873113</td><td>0.445353</td><td>0.0934071</td><td>0.0334929</td><td>-0.0925556</td><td>-0.105156</td><td>-0.0752333</td></tr><tr><th>3</th><td>1.19217</td><td>-0.168747</td><td>-0.0158579</td><td>-0.0191481</td><td>0.148444</td><td>0.187844</td><td>0.118767</td></tr><tr><th>4</th><td>-0.137631</td><td>0.0309533</td><td>0.0286121</td><td>0.00793594</td><td>-0.0505556</td><td>-0.0671556</td><td>-0.0312333</td></tr><tr><th>5</th><td>-0.540509</td><td>0.00525333</td><td>0.0791501</td><td>0.00903294</td><td>-0.0945556</td><td>-0.110156</td><td>-0.0752333</td></tr><tr><th>6</th><td>-0.483997</td><td>-0.168747</td><td>0.0387631</td><td>-0.00745406</td><td>-0.0885556</td><td>-0.0991556</td><td>-0.0762333</td></tr><tr><th>7</th><td>0.150698</td><td>-0.168747</td><td>-0.0375769</td><td>-0.0139491</td><td>-0.0725556</td><td>-0.0741556</td><td>-0.0682333</td></tr><tr><th>8</th><td>0.00100345</td><td>0.108853</td><td>-0.00482694</td><td>0.00137894</td><td>-0.0875556</td><td>-0.102156</td><td>-0.0692333</td></tr><tr><th>9</th><td>1.36056</td><td>-0.168747</td><td>-0.110488</td><td>-0.0261631</td><td>0.290444</td><td>0.350844</td><td>0.231767</td></tr><tr><th>10</th><td>0.449003</td><td>-0.0203467</td><td>-0.109217</td><td>0.000244944</td><td>0.0334444</td><td>0.0358444</td><td>0.0317667</td></tr><tr><th>11</th><td>-0.77339</td><td>-0.139147</td><td>-0.0543179</td><td>-0.00821906</td><td>-0.0655556</td><td>-0.0711556</td><td>-0.0572333</td></tr><tr><th>12</th><td>-0.465129</td><td>0.0463533</td><td>-0.141614</td><td>-0.0167531</td><td>-0.0895556</td><td>-0.106156</td><td>-0.0682333</td></tr><tr><th>13</th><td>0.412913</td><td>0.263053</td><td>-0.0826199</td><td>-0.00178706</td><td>-0.0525556</td><td>-0.0641556</td><td>-0.0372333</td></tr><tr><th>14</th><td>-0.431203</td><td>0.000153333</td><td>-0.0555039</td><td>0.0161119</td><td>-0.0825556</td><td>-0.0921556</td><td>-0.0692333</td></tr><tr><th>15</th><td>-0.581654</td><td>0.0144533</td><td>-0.0320859</td><td>0.0173439</td><td>-0.0785556</td><td>-0.0861556</td><td>-0.0672333</td></tr><tr><th>16</th><td>-0.725625</td><td>-0.0725467</td><td>-0.0154909</td><td>0.0495179</td><td>-0.0745556</td><td>-0.0941556</td><td>-0.0522333</td></tr><tr><th>17</th><td>-0.0532141</td><td>-0.146047</td><td>-0.0838149</td><td>0.0183959</td><td>-0.0305556</td><td>-0.0321556</td><td>-0.0262333</td></tr><tr><th>18</th><td>0.353837</td><td>-0.147947</td><td>-0.0222489</td><td>0.00888994</td><td>-0.0285556</td><td>-0.0401556</td><td>-0.0132333</td></tr><tr><th>19</th><td>1.07803</td><td>0.0966533</td><td>-0.0302349</td><td>0.00341294</td><td>-0.0435556</td><td>-0.0481556</td><td>-0.0362333</td></tr><tr><th>20</th><td>-1.41505</td><td>0.251953</td><td>-0.0894199</td><td>0.0815869</td><td>-0.0585556</td><td>-0.0981556</td><td>-0.0712333</td></tr><tr><th>21</th><td>-1.56518</td><td>-0.0316467</td><td>-0.0962839</td><td>-0.0124371</td><td>-0.0835556</td><td>-0.112156</td><td>-0.0752333</td></tr><tr><th>22</th><td>0.425973</td><td>-0.168747</td><td>-0.0528919</td><td>-0.0250231</td><td>0.0174444</td><td>0.0588444</td><td>-0.0192333</td></tr><tr><th>23</th><td>-1.02205</td><td>0.302553</td><td>0.00832206</td><td>0.000993944</td><td>-0.0495556</td><td>-0.0471556</td><td>-0.0502333</td></tr><tr><th>24</th><td>-0.525888</td><td>-0.150947</td><td>-0.0348619</td><td>-0.0128811</td><td>-0.0915556</td><td>-0.111156</td><td>-0.0692333</td></tr><tr><th>25</th><td>-1.05392</td><td>0.307453</td><td>-0.0489209</td><td>0.0306029</td><td>-0.0935556</td><td>-0.109156</td><td>-0.0752333</td></tr><tr><th>26</th><td>-0.823551</td><td>0.123953</td><td>-0.0405939</td><td>0.00750794</td><td>0.0764444</td><td>0.0318444</td><td>0.125767</td></tr><tr><th>27</th><td>-0.355607</td><td>-0.0670467</td><td>0.0275241</td><td>0.00905794</td><td>-0.0315556</td><td>-0.00415556</td><td>-0.0552333</td></tr><tr><th>28</th><td>-0.977873</td><td>-0.142147</td><td>-0.0401689</td><td>0.0180419</td><td>-0.0965556</td><td>-0.117156</td><td>-0.0722333</td></tr><tr><th>29</th><td>0.748147</td><td>-0.168747</td><td>0.138454</td><td>-0.0118661</td><td>-0.0215556</td><td>-0.00415556</td><td>-0.0382333</td></tr><tr><th>30</th><td>0.899546</td><td>-0.168747</td><td>0.196132</td><td>-0.0136131</td><td>0.0364444</td><td>0.0568444</td><td>0.0177667</td></tr><tr><th>&vellip;</th><td>&vellip;</td><td>&vellip;</td><td>&vellip;</td><td>&vellip;</td><td>&vellip;</td><td>&vellip;</td><td>&vellip;</td></tr></tbody></table></div>"
      ],
      "text/latex": [
       "\\begin{tabular}{r|cccccccc}\n",
       "\t& gdpsh465 & bmp1l & freeop & freetar & h65 & hm65 & hf65 & \\\\\n",
       "\t\\hline\n",
       "\t& Float64 & Float64 & Float64 & Float64 & Float64 & Float64 & Float64 & \\\\\n",
       "\t\\hline\n",
       "\t1 & -1.11123 & 0.114953 & -0.0666109 & 0.0155539 & -0.104556 & -0.124156 & -0.0812333 & $\\dots$ \\\\\n",
       "\t2 & -0.873113 & 0.445353 & 0.0934071 & 0.0334929 & -0.0925556 & -0.105156 & -0.0752333 & $\\dots$ \\\\\n",
       "\t3 & 1.19217 & -0.168747 & -0.0158579 & -0.0191481 & 0.148444 & 0.187844 & 0.118767 & $\\dots$ \\\\\n",
       "\t4 & -0.137631 & 0.0309533 & 0.0286121 & 0.00793594 & -0.0505556 & -0.0671556 & -0.0312333 & $\\dots$ \\\\\n",
       "\t5 & -0.540509 & 0.00525333 & 0.0791501 & 0.00903294 & -0.0945556 & -0.110156 & -0.0752333 & $\\dots$ \\\\\n",
       "\t6 & -0.483997 & -0.168747 & 0.0387631 & -0.00745406 & -0.0885556 & -0.0991556 & -0.0762333 & $\\dots$ \\\\\n",
       "\t7 & 0.150698 & -0.168747 & -0.0375769 & -0.0139491 & -0.0725556 & -0.0741556 & -0.0682333 & $\\dots$ \\\\\n",
       "\t8 & 0.00100345 & 0.108853 & -0.00482694 & 0.00137894 & -0.0875556 & -0.102156 & -0.0692333 & $\\dots$ \\\\\n",
       "\t9 & 1.36056 & -0.168747 & -0.110488 & -0.0261631 & 0.290444 & 0.350844 & 0.231767 & $\\dots$ \\\\\n",
       "\t10 & 0.449003 & -0.0203467 & -0.109217 & 0.000244944 & 0.0334444 & 0.0358444 & 0.0317667 & $\\dots$ \\\\\n",
       "\t11 & -0.77339 & -0.139147 & -0.0543179 & -0.00821906 & -0.0655556 & -0.0711556 & -0.0572333 & $\\dots$ \\\\\n",
       "\t12 & -0.465129 & 0.0463533 & -0.141614 & -0.0167531 & -0.0895556 & -0.106156 & -0.0682333 & $\\dots$ \\\\\n",
       "\t13 & 0.412913 & 0.263053 & -0.0826199 & -0.00178706 & -0.0525556 & -0.0641556 & -0.0372333 & $\\dots$ \\\\\n",
       "\t14 & -0.431203 & 0.000153333 & -0.0555039 & 0.0161119 & -0.0825556 & -0.0921556 & -0.0692333 & $\\dots$ \\\\\n",
       "\t15 & -0.581654 & 0.0144533 & -0.0320859 & 0.0173439 & -0.0785556 & -0.0861556 & -0.0672333 & $\\dots$ \\\\\n",
       "\t16 & -0.725625 & -0.0725467 & -0.0154909 & 0.0495179 & -0.0745556 & -0.0941556 & -0.0522333 & $\\dots$ \\\\\n",
       "\t17 & -0.0532141 & -0.146047 & -0.0838149 & 0.0183959 & -0.0305556 & -0.0321556 & -0.0262333 & $\\dots$ \\\\\n",
       "\t18 & 0.353837 & -0.147947 & -0.0222489 & 0.00888994 & -0.0285556 & -0.0401556 & -0.0132333 & $\\dots$ \\\\\n",
       "\t19 & 1.07803 & 0.0966533 & -0.0302349 & 0.00341294 & -0.0435556 & -0.0481556 & -0.0362333 & $\\dots$ \\\\\n",
       "\t20 & -1.41505 & 0.251953 & -0.0894199 & 0.0815869 & -0.0585556 & -0.0981556 & -0.0712333 & $\\dots$ \\\\\n",
       "\t21 & -1.56518 & -0.0316467 & -0.0962839 & -0.0124371 & -0.0835556 & -0.112156 & -0.0752333 & $\\dots$ \\\\\n",
       "\t22 & 0.425973 & -0.168747 & -0.0528919 & -0.0250231 & 0.0174444 & 0.0588444 & -0.0192333 & $\\dots$ \\\\\n",
       "\t23 & -1.02205 & 0.302553 & 0.00832206 & 0.000993944 & -0.0495556 & -0.0471556 & -0.0502333 & $\\dots$ \\\\\n",
       "\t24 & -0.525888 & -0.150947 & -0.0348619 & -0.0128811 & -0.0915556 & -0.111156 & -0.0692333 & $\\dots$ \\\\\n",
       "\t25 & -1.05392 & 0.307453 & -0.0489209 & 0.0306029 & -0.0935556 & -0.109156 & -0.0752333 & $\\dots$ \\\\\n",
       "\t26 & -0.823551 & 0.123953 & -0.0405939 & 0.00750794 & 0.0764444 & 0.0318444 & 0.125767 & $\\dots$ \\\\\n",
       "\t27 & -0.355607 & -0.0670467 & 0.0275241 & 0.00905794 & -0.0315556 & -0.00415556 & -0.0552333 & $\\dots$ \\\\\n",
       "\t28 & -0.977873 & -0.142147 & -0.0401689 & 0.0180419 & -0.0965556 & -0.117156 & -0.0722333 & $\\dots$ \\\\\n",
       "\t29 & 0.748147 & -0.168747 & 0.138454 & -0.0118661 & -0.0215556 & -0.00415556 & -0.0382333 & $\\dots$ \\\\\n",
       "\t30 & 0.899546 & -0.168747 & 0.196132 & -0.0136131 & 0.0364444 & 0.0568444 & 0.0177667 & $\\dots$ \\\\\n",
       "\t$\\dots$ & $\\dots$ & $\\dots$ & $\\dots$ & $\\dots$ & $\\dots$ & $\\dots$ & $\\dots$ &  \\\\\n",
       "\\end{tabular}\n"
      ],
      "text/plain": [
       "\u001b[1m90×61 DataFrame\u001b[0m\n",
       "\u001b[1m Row \u001b[0m│\u001b[1m gdpsh465    \u001b[0m\u001b[1m bmp1l        \u001b[0m\u001b[1m freeop      \u001b[0m\u001b[1m freetar      \u001b[0m\u001b[1m h65         \u001b[0m\u001b[1m hm65\u001b[0m ⋯\n",
       "\u001b[1m     \u001b[0m│\u001b[90m Float64     \u001b[0m\u001b[90m Float64      \u001b[0m\u001b[90m Float64     \u001b[0m\u001b[90m Float64      \u001b[0m\u001b[90m Float64     \u001b[0m\u001b[90m Floa\u001b[0m ⋯\n",
       "─────┼──────────────────────────────────────────────────────────────────────────\n",
       "   1 │ -1.11123      0.114953     -0.0666109    0.0155539    -0.104556    -0.1 ⋯\n",
       "   2 │ -0.873113     0.445353      0.0934071    0.0334929    -0.0925556   -0.1\n",
       "   3 │  1.19217     -0.168747     -0.0158579   -0.0191481     0.148444     0.1\n",
       "   4 │ -0.137631     0.0309533     0.0286121    0.00793594   -0.0505556   -0.0\n",
       "   5 │ -0.540509     0.00525333    0.0791501    0.00903294   -0.0945556   -0.1 ⋯\n",
       "   6 │ -0.483997    -0.168747      0.0387631   -0.00745406   -0.0885556   -0.0\n",
       "   7 │  0.150698    -0.168747     -0.0375769   -0.0139491    -0.0725556   -0.0\n",
       "   8 │  0.00100345   0.108853     -0.00482694   0.00137894   -0.0875556   -0.1\n",
       "   9 │  1.36056     -0.168747     -0.110488    -0.0261631     0.290444     0.3 ⋯\n",
       "  10 │  0.449003    -0.0203467    -0.109217     0.000244944   0.0334444    0.0\n",
       "  11 │ -0.77339     -0.139147     -0.0543179   -0.00821906   -0.0655556   -0.0\n",
       "  ⋮  │      ⋮            ⋮             ⋮            ⋮             ⋮            ⋱\n",
       "  81 │  1.32807     -0.168747      0.0730361   -0.0228171     0.133444     0.1\n",
       "  82 │  1.29263     -0.168747      0.0846181   -0.0166761     0.134444     0.1 ⋯\n",
       "  83 │  0.531924    -0.132447      0.0683031   -0.0167451     0.0714444    0.0\n",
       "  84 │  0.629642    -0.168747      0.125383    -0.0218311     0.0764444    0.1\n",
       "  85 │  0.94268     -0.168747      0.0683381   -0.0223391     0.144444     0.1\n",
       "  86 │  1.28816     -0.168747      0.151796    -0.0137481     0.143444     0.1 ⋯\n",
       "  87 │  0.322283    -0.163747      0.0763351   -0.0147191    -0.00355556  -0.0\n",
       "  88 │  1.32723     -0.168747      0.0456761   -0.0197051     0.176444     0.1\n",
       "  89 │  1.1624      -0.168747      0.0628371   -0.0232861     0.0764444    0.0\n",
       "  90 │  1.20943     -0.168747     -0.0697359   -0.00395706    0.145444     0.2 ⋯\n",
       "\u001b[36m                                                  56 columns and 69 rows omitted\u001b[0m"
      ]
     },
     "execution_count": 100,
     "metadata": {},
     "output_type": "execute_result"
    }
   ],
   "source": [
    "# demean function\n",
    "function desv_mean(a)\n",
    "    a = Matrix(a)   # dataframe to matrix \n",
    "    A = mean(a, dims = 1)\n",
    "    M = zeros(Float64, size(X,1), size(X,2))\n",
    "    \n",
    "    for i in 1:size(a,2)\n",
    "          M[:,i] = a[:,i] .- A[i]\n",
    "    end\n",
    "    \n",
    "    return M\n",
    "end    \n",
    "\n",
    "\n",
    "# Matrix Model & demean\n",
    "\n",
    "X = DataFrame(desv_mean(X), names(X)) # Dataframe and names "
   ]
  },
  {
   "cell_type": "code",
   "execution_count": 101,
   "id": "165eaaf1",
   "metadata": {},
   "outputs": [
    {
     "data": {
      "text/plain": [
       "16-element Vector{Any}:\n",
       "   1\n",
       " 102\n",
       " 103\n",
       " 104\n",
       " 105\n",
       " 106\n",
       " 107\n",
       " 108\n",
       " 109\n",
       " 110\n",
       " 111\n",
       " 112\n",
       " 113\n",
       " 114\n",
       " 115\n",
       " 116"
      ]
     },
     "execution_count": 101,
     "metadata": {},
     "output_type": "execute_result"
    }
   ],
   "source": [
    "index"
   ]
  },
  {
   "cell_type": "code",
   "execution_count": 102,
   "id": "3a5cb62f",
   "metadata": {},
   "outputs": [
    {
     "ename": "LoadError",
     "evalue": "BoundsError: attempt to access 61-element Vector{String} at index [Any[1, 102, 103, 104, 105, 106, 107, 108, 109, 110, 111, 112, 113, 114, 115, 116]]",
     "output_type": "error",
     "traceback": [
      "BoundsError: attempt to access 61-element Vector{String} at index [Any[1, 102, 103, 104, 105, 106, 107, 108, 109, 110, 111, 112, 113, 114, 115, 116]]",
      "",
      "Stacktrace:",
      " [1] throw_boundserror(A::Vector{String}, I::Tuple{Vector{Any}})",
      "   @ Base .\\abstractarray.jl:691",
      " [2] checkbounds",
      "   @ .\\abstractarray.jl:656 [inlined]",
      " [3] _getindex",
      "   @ .\\multidimensional.jl:838 [inlined]",
      " [4] getindex(A::Vector{String}, I::Vector{Any})",
      "   @ Base .\\abstractarray.jl:1218",
      " [5] top-level scope",
      "   @ In[102]:3",
      " [6] eval",
      "   @ .\\boot.jl:373 [inlined]",
      " [7] include_string(mapexpr::typeof(REPL.softscope), mod::Module, code::String, filename::String)",
      "   @ Base .\\loading.jl:1196"
     ]
    }
   ],
   "source": [
    "# Control variables \n",
    "\n",
    "W = select(X, Not(names(X)[index]))"
   ]
  },
  {
   "cell_type": "code",
   "execution_count": 103,
   "id": "32706970",
   "metadata": {
    "scrolled": true
   },
   "outputs": [
    {
     "ename": "LoadError",
     "evalue": "DimensionMismatch(\"second dimension of A, 29217, does not match length of x, 90\")",
     "output_type": "error",
     "traceback": [
      "DimensionMismatch(\"second dimension of A, 29217, does not match length of x, 90\")",
      "",
      "Stacktrace:",
      " [1] gemv!(y::Vector{Float64}, tA::Char, A::Matrix{Float64}, x::Vector{Float64}, α::Bool, β::Bool)",
      "   @ LinearAlgebra C:\\Users\\Kenia\\AppData\\Local\\Programs\\Julia-1.7.2\\share\\julia\\stdlib\\v1.7\\LinearAlgebra\\src\\matmul.jl:530",
      " [2] mul!",
      "   @ C:\\Users\\Kenia\\AppData\\Local\\Programs\\Julia-1.7.2\\share\\julia\\stdlib\\v1.7\\LinearAlgebra\\src\\matmul.jl:97 [inlined]",
      " [3] mul!",
      "   @ C:\\Users\\Kenia\\AppData\\Local\\Programs\\Julia-1.7.2\\share\\julia\\stdlib\\v1.7\\LinearAlgebra\\src\\matmul.jl:119 [inlined]",
      " [4] mul!",
      "   @ C:\\Users\\Kenia\\AppData\\Local\\Programs\\Julia-1.7.2\\share\\julia\\stdlib\\v1.7\\LinearAlgebra\\src\\matmul.jl:275 [inlined]",
      " [5] *(adjA::Adjoint{Float64, Matrix{Float64}}, x::Vector{Float64})",
      "   @ LinearAlgebra C:\\Users\\Kenia\\AppData\\Local\\Programs\\Julia-1.7.2\\share\\julia\\stdlib\\v1.7\\LinearAlgebra\\src\\matmul.jl:108",
      " [6] rlasso(self::rlasso_arg)",
      "   @ Main C:\\Users\\Kenia\\Documents\\Github\\ECO224\\Labs\\Julia_Notebooks\\hdmjl\\hdmjl.jl:472",
      " [7] top-level scope",
      "   @ .\\In[103]:16",
      " [8] eval",
      "   @ .\\boot.jl:373 [inlined]",
      " [9] include_string(mapexpr::typeof(REPL.softscope), mod::Module, code::String, filename::String)",
      "   @ Base .\\loading.jl:1196"
     ]
    }
   ],
   "source": [
    "table = NamedArray(zeros(16, 2))\n",
    "\n",
    "j = 0\n",
    "\n",
    "for i in 1:length(index)\n",
    "\n",
    "j = j + 1\n",
    "    \n",
    "#first step\n",
    "D = select(X, names(X)[index[i]])\n",
    "    \n",
    "D_reg_0  = rlasso_arg( W, D, nothing, true, true, true, false, false, \n",
    "                    nothing, 1.1, nothing, 5000, 15, 10^(-5), -Inf, true, Inf, true )\n",
    "\n",
    "\n",
    "D_resid = rlasso(D_reg_0)[\"residuals\"]\n",
    "\n",
    "#second step\n",
    "    \n",
    "Y_reg_0  = rlasso_arg( W, Y, nothing, true, true, true, false, false, \n",
    "                    nothing, 1.1, nothing, 5000, 15, 10^(-5), -Inf, true, Inf, true )\n",
    "\n",
    "Y_resid = rlasso(Y_reg_0)[\"residuals\"]\n",
    "\n",
    "D_resid = reshape(D_resid, length(D_resid), 1)\n",
    "\n",
    "# third step\n",
    "    \n",
    "Lasso_HDM = lm(D_resid, Y_resid)\n",
    "\n",
    "table[j,1] = GLM.coeftable(Lasso_HDM).cols[5][1]\n",
    "table[j,2] = GLM.coeftable(Lasso_HDM).cols[6][1]\n",
    "\n",
    "    \n",
    "end \n",
    "\n",
    "## The same problem persist in the exercise 1, 2 and this one. "
   ]
  },
  {
   "cell_type": "code",
   "execution_count": 104,
   "id": "ba6d8815",
   "metadata": {},
   "outputs": [
    {
     "ename": "LoadError",
     "evalue": "DimensionMismatch(\"second dimension of A, 29217, does not match length of x, 90\")",
     "output_type": "error",
     "traceback": [
      "DimensionMismatch(\"second dimension of A, 29217, does not match length of x, 90\")",
      "",
      "Stacktrace:",
      " [1] gemv!(y::Vector{Float64}, tA::Char, A::Matrix{Float64}, x::Vector{Float64}, α::Bool, β::Bool)",
      "   @ LinearAlgebra C:\\Users\\Kenia\\AppData\\Local\\Programs\\Julia-1.7.2\\share\\julia\\stdlib\\v1.7\\LinearAlgebra\\src\\matmul.jl:530",
      " [2] mul!",
      "   @ C:\\Users\\Kenia\\AppData\\Local\\Programs\\Julia-1.7.2\\share\\julia\\stdlib\\v1.7\\LinearAlgebra\\src\\matmul.jl:97 [inlined]",
      " [3] mul!",
      "   @ C:\\Users\\Kenia\\AppData\\Local\\Programs\\Julia-1.7.2\\share\\julia\\stdlib\\v1.7\\LinearAlgebra\\src\\matmul.jl:119 [inlined]",
      " [4] mul!",
      "   @ C:\\Users\\Kenia\\AppData\\Local\\Programs\\Julia-1.7.2\\share\\julia\\stdlib\\v1.7\\LinearAlgebra\\src\\matmul.jl:275 [inlined]",
      " [5] *(adjA::Adjoint{Float64, Matrix{Float64}}, x::Vector{Float64})",
      "   @ LinearAlgebra C:\\Users\\Kenia\\AppData\\Local\\Programs\\Julia-1.7.2\\share\\julia\\stdlib\\v1.7\\LinearAlgebra\\src\\matmul.jl:108",
      " [6] rlasso(self::rlasso_arg)",
      "   @ Main C:\\Users\\Kenia\\Documents\\Github\\ECO224\\Labs\\Julia_Notebooks\\hdmjl\\hdmjl.jl:472",
      " [7] top-level scope",
      "   @ In[104]:7",
      " [8] eval",
      "   @ .\\boot.jl:373 [inlined]",
      " [9] include_string(mapexpr::typeof(REPL.softscope), mod::Module, code::String, filename::String)",
      "   @ Base .\\loading.jl:1196"
     ]
    }
   ],
   "source": [
    "D = select(X, names(X)[1])\n",
    "    \n",
    "D_reg_0  = rlasso_arg( W, D, nothing, true, true, true, false, false, \n",
    "                    nothing, 1.1, nothing, 5000, 15, 10^(-5), -Inf, true, Inf, true )\n",
    "\n",
    "\n",
    "D_resid = rlasso(D_reg_0)[\"residuals\"]\n",
    "\n",
    "#second step\n",
    "    \n",
    "Y_reg_0  = rlasso_arg( W, Y, nothing, true, true, true, false, false, \n",
    "                    nothing, 1.1, nothing, 5000, 15, 10^(-5), -Inf, true, Inf, true )\n",
    "\n",
    "Y_resid = rlasso(Y_reg_0)[\"residuals\"]\n",
    "\n",
    "D_resid = reshape(D_resid, length(D_resid), 1)\n",
    "\n",
    "# third step\n",
    "    \n",
    "Lasso_HDM = lm(D_resid, Y_resid)\n",
    "\n",
    "table[1,1] = GLM.coeftable(Lasso_HDM).cols[5][1]\n",
    "table[1,2] = GLM.coeftable(Lasso_HDM).cols[6][1]"
   ]
  }
 ],
 "metadata": {
  "kernelspec": {
   "display_name": "Julia 1.7.2",
   "language": "julia",
   "name": "julia-1.7"
  },
  "language_info": {
   "file_extension": ".jl",
   "mimetype": "application/julia",
   "name": "julia",
   "version": "1.7.2"
  }
 },
 "nbformat": 4,
 "nbformat_minor": 5
}
