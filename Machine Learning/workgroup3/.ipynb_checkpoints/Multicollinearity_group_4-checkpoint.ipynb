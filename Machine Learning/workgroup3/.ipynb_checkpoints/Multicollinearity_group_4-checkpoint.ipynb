{
 "cells": [
  {
   "cell_type": "code",
   "execution_count": null,
   "id": "95a391ac",
   "metadata": {},
   "outputs": [],
   "source": [
    "# Multicollinearity "
   ]
  },
  {
   "cell_type": "markdown",
   "id": "112bc822",
   "metadata": {},
   "source": [
    "The multicollinearity  is the dependency of two o more explicatives variables in a model regression; specific, put away the Gauss-Markov condition. It's important to say that the dependency of the variables has to be strong to be consider a multicollinearity case. \n",
    "\n",
    "It can be consider two cases of multi:exact multicollinearity and approximately multicollinearity.\n",
    "\n",
    "The first type of multicollinearity consists in a variable or variables depends linealy of other.\n",
    "\n",
    "\n",
    "$$ \n",
    "Y_i = \\beta_0 + X_1\\beta_1 + X_2\\beta_2 + X_3\\beta_3 + \\epsilon   ... (1) ;  \n",
    "$$\n",
    "\n",
    "\n",
    "$$\n",
    "X_1 = 2.X_2 - 3.X_3\n",
    "$$\n",
    "\n",
    "For example, in the ecuacion 1 represents a exact multicollinearity case because a variable depends linealy of others. The real problem of this kind of multicollinearity it's that it wouldn't be possible estimate the coefficients of the regresors. Remember: \n",
    "\n",
    "$$\n",
    "\\hat{\\beta} = (X'X)^{-1}(X'Y) ... (2)\n",
    "$$"
   ]
  },
  {
   "cell_type": "markdown",
   "id": "82728db0",
   "metadata": {},
   "source": [
    "So, if exist multi. exact, the matrix $(X'X)$ will have determinant equal to zero, so it won't be invertible.  "
   ]
  },
  {
   "cell_type": "markdown",
   "id": "40aff9ce",
   "metadata": {},
   "source": [
    "The other case of multi: approximately multi consists in a variable of variables depends of other but no its exclusive a lineal combination. For example:\n",
    "\n",
    "$$\n",
    "Y_i = \\beta_0 + X_1\\beta_1 + X_2\\beta_2 + X_3\\beta_3 + \\epsilon   ... (3) ;  \n",
    "$$\n",
    "\n",
    "$$\n",
    "X_3 = 2X_1 + v_i, v_i \\sim N(0, \\sigma^2)\n",
    "$$"
   ]
  },
  {
   "cell_type": "markdown",
   "id": "97a5fa9c",
   "metadata": {},
   "source": [
    "The ecuation shows that $X_3$ its aproximaly a lineal combination of other variable; the problem with this case, its that matrix $(X'X)$ equation 2 will be approximately zero and the coeficient would be affected. "
   ]
  },
  {
   "cell_type": "markdown",
   "id": "f6bbfc2e",
   "metadata": {},
   "source": [
    "* A way to solution the multicollinearity problem it's delete the variable that causes it. "
   ]
  },
  {
   "cell_type": "code",
   "execution_count": null,
   "id": "f44b8a06",
   "metadata": {},
   "outputs": [],
   "source": []
  }
 ],
 "metadata": {
  "kernelspec": {
   "display_name": "Julia 1.7.2",
   "language": "julia",
   "name": "julia-1.7"
  },
  "language_info": {
   "file_extension": ".jl",
   "mimetype": "application/julia",
   "name": "julia",
   "version": "1.7.2"
  }
 },
 "nbformat": 4,
 "nbformat_minor": 5
}
