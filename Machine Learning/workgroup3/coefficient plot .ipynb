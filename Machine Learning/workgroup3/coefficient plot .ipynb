{
 "cells": [
  {
   "cell_type": "code",
   "execution_count": 1,
   "id": "b27d347d",
   "metadata": {},
   "outputs": [
    {
     "ename": "LoadError",
     "evalue": "UndefVarError: Pkg not defined",
     "output_type": "error",
     "traceback": [
      "UndefVarError: Pkg not defined",
      "",
      "Stacktrace:",
      " [1] top-level scope",
      "   @ In[1]:1",
      " [2] eval",
      "   @ .\\boot.jl:373 [inlined]",
      " [3] include_string(mapexpr::typeof(REPL.softscope), mod::Module, code::String, filename::String)",
      "   @ Base .\\loading.jl:1196"
     ]
    }
   ],
   "source": [
    "Pkg.add(\"StatsPlots\")\n",
    "Pkg.add(\"GraphRecipes\")"
   ]
  },
  {
   "cell_type": "code",
   "execution_count": null,
   "id": "2656594b",
   "metadata": {},
   "outputs": [],
   "source": [
    "#Extrayendo los coeficientes y errores estándar. Esto debe corregirse, lo traté de hacer manualmente, viendo la posición de cada\n",
    "#variable dentro de los 240 regresores, pero con la extensión del paquete que mostró Roberto hoy los nombres de las variables ya\n",
    "#se deberían mostrar automáticamente.\n",
    "T2_female = coef(ols_ira)[122]\n",
    "T2_black = coef(ols_ira)[123]\n",
    "T2_dep = coef(ols_ira)[125]\n",
    "T2_agelt35 = coef(ols_ira)[131]\n",
    "T2_female_sd = stderror(ols_ira)[122]\n",
    "T2_black_sd = stderror(ols_ira)[123]\n",
    "T2_dep_sd = stderror(ols_ira)[125]\n",
    "T2_agelt35_sd = stderror(ols_ira)[131]"
   ]
  },
  {
   "cell_type": "code",
   "execution_count": null,
   "id": "d1f1a656",
   "metadata": {},
   "outputs": [],
   "source": [
    "coeff = [T2_female,T2_black,T2_dep,T2_agelt35]\n",
    "std = [T2_female_sd,T2_black_sd,T2_dep_sd,T2_agelt35_sd]\n",
    "labels = [\"T2*Female\",\"T2*Black\",\"T2*agelt35\",\"T2*factor(dep)1\"]"
   ]
  },
  {
   "cell_type": "code",
   "execution_count": null,
   "id": "165cb154",
   "metadata": {},
   "outputs": [],
   "source": [
    "Plots.scatter(labels, coeff, legend = false, yerror = 1.96 .* std, title = \"Coefficient plot\")"
   ]
  }
 ],
 "metadata": {
  "kernelspec": {
   "display_name": "Julia 1.7.2",
   "language": "julia",
   "name": "julia-1.7"
  },
  "language_info": {
   "file_extension": ".jl",
   "mimetype": "application/julia",
   "name": "julia",
   "version": "1.7.2"
  }
 },
 "nbformat": 4,
 "nbformat_minor": 5
}
