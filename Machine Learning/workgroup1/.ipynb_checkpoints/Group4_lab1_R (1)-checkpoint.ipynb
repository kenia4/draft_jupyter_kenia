{
 "cells": [
  {
   "cell_type": "code",
   "execution_count": 72,
   "id": "0b815676",
   "metadata": {},
   "outputs": [
    {
     "name": "stderr",
     "output_type": "stream",
     "text": [
      "The following objects are masked from data (pos = 3):\n",
      "\n",
      "    ad, clg, exp1, exp2, exp3, exp4, hsg, ind, ind2, lwage, mw, ne,\n",
      "    occ, occ2, scl, sex, shs, so, wage, we\n",
      "\n",
      "\n",
      "The following objects are masked from data (pos = 4):\n",
      "\n",
      "    ad, clg, exp1, exp2, exp3, exp4, hsg, ind, ind2, lwage, mw, ne,\n",
      "    occ, occ2, scl, sex, shs, so, wage, we\n",
      "\n",
      "\n",
      "The following objects are masked from data (pos = 5):\n",
      "\n",
      "    ad, clg, exp1, exp2, exp3, exp4, hsg, ind, ind2, lwage, mw, ne,\n",
      "    occ, occ2, scl, sex, shs, so, wage, we\n",
      "\n",
      "\n",
      "The following objects are masked from data (pos = 6):\n",
      "\n",
      "    ad, clg, exp1, exp2, exp3, exp4, hsg, ind, ind2, lwage, mw, ne,\n",
      "    occ, occ2, scl, sex, shs, so, wage, we\n",
      "\n",
      "\n",
      "The following objects are masked from data (pos = 11):\n",
      "\n",
      "    ad, clg, exp1, exp2, exp3, exp4, hsg, ind, ind2, lwage, mw, ne,\n",
      "    occ, occ2, scl, sex, shs, so, wage, we\n",
      "\n",
      "\n"
     ]
    },
    {
     "data": {
      "text/html": [
       "<style>\n",
       ".list-inline {list-style: none; margin:0; padding: 0}\n",
       ".list-inline>li {display: inline-block}\n",
       ".list-inline>li:not(:last-child)::after {content: \"\\00b7\"; padding: 0 .5ex}\n",
       "</style>\n",
       "<ol class=list-inline><li>5150</li><li>20</li></ol>\n"
      ],
      "text/latex": [
       "\\begin{enumerate*}\n",
       "\\item 5150\n",
       "\\item 20\n",
       "\\end{enumerate*}\n"
      ],
      "text/markdown": [
       "1. 5150\n",
       "2. 20\n",
       "\n",
       "\n"
      ],
      "text/plain": [
       "[1] 5150   20"
      ]
     },
     "metadata": {},
     "output_type": "display_data"
    }
   ],
   "source": [
    "load(\"../../Github/ECO224/data/wage2015_subsample_inference.Rdata\")\n",
    "attach(data) # make each variable as an object \n",
    "\n",
    "dim(data)"
   ]
  },
  {
   "cell_type": "markdown",
   "id": "02403b8c",
   "metadata": {},
   "source": [
    "## 1. Three different models "
   ]
  },
  {
   "cell_type": "code",
   "execution_count": null,
   "id": "36d3a976",
   "metadata": {},
   "outputs": [],
   "source": [
    "# Calling for the library and stimating the basic model \n",
    "\n",
    "nocontrol.fit <- lm(lwage ~ sex)\n",
    "summary(nocontrol.fit)"
   ]
  },
  {
   "cell_type": "markdown",
   "id": "b022a6a2",
   "metadata": {},
   "source": [
    "## OLS with controls: lwage, sex and other covariates"
   ]
  },
  {
   "cell_type": "code",
   "execution_count": null,
   "id": "33024d02",
   "metadata": {},
   "outputs": [],
   "source": [
    "# OLS\n",
    "\n",
    "flex <- lwage ~ sex + (exp1+exp2+exp3+exp4)*(shs+hsg+scl+clg+occ2+ind2+mw+so+we)\n",
    "control.fit <- lm(flex, data=data)\n",
    "control.est <- summary(control.fit)$coef[2,1] # to choose the interest variable\n",
    "summary(control.est)"
   ]
  },
  {
   "cell_type": "markdown",
   "id": "4904469c",
   "metadata": {},
   "source": [
    "## Partialling-Out using OLS"
   ]
  },
  {
   "cell_type": "code",
   "execution_count": null,
   "id": "4b6e59aa",
   "metadata": {},
   "outputs": [],
   "source": [
    "# models\n",
    "flex.y <- lwage ~  (exp1+exp2+exp3+exp4)*(shs+hsg+scl+clg+occ2+ind2+mw+so+we) # model for Y\n",
    "flex.d <- sex ~ (exp1+exp2+exp3+exp4)*(shs+hsg+scl+clg+occ2+ind2+mw+so+we) # model for D"
   ]
  },
  {
   "cell_type": "code",
   "execution_count": null,
   "id": "e7267280",
   "metadata": {},
   "outputs": [],
   "source": [
    "# errors\n",
    "\n",
    "# effect of 'W' from 'Y'\n",
    "t.Y <- lm(flex.y, data=data)$res\n",
    "# effect of 'W' from 'D'\n",
    "t.D <- lm(flex.d, data=data)$res"
   ]
  },
  {
   "cell_type": "code",
   "execution_count": null,
   "id": "f811e022",
   "metadata": {},
   "outputs": [],
   "source": [
    "# the last regression between previous errors found\n",
    "\n",
    "partial.fit <- lm(t.Y~t.D)\n",
    "partial.est <- summary(partial.fit)$coef[2,1] # to rescue the interest coefficient\n",
    "summary(partial.est)"
   ]
  },
  {
   "cell_type": "markdown",
   "id": "598a4c4c",
   "metadata": {},
   "source": [
    "***Variable description***\n",
    "\n",
    "- occ : occupational classification\n",
    "- ind : industry classification\n",
    "- lwage : log hourly wage\n",
    "- sex : gender (1 female) (0 male)\n",
    "- shs : some high school\n",
    "- hsg : High school graduated\n",
    "- scl : Some College\n",
    "- clg: College Graduate\n",
    "- ad: Advanced Degree\n",
    "- ne: Northeast\n",
    "- mw: Midwest\n",
    "- so: South\n",
    "- we: West\n",
    "- exp1: experience"
   ]
  },
  {
   "cell_type": "markdown",
   "id": "af4131f5",
   "metadata": {},
   "source": [
    "# 2. Estadística Descriptiva"
   ]
  },
  {
   "cell_type": "markdown",
   "id": "edc0f20a",
   "metadata": {},
   "source": [
    "## Dummy variables"
   ]
  },
  {
   "cell_type": "markdown",
   "id": "30f1bbcd",
   "metadata": {},
   "source": [
    "### a. Sex"
   ]
  },
  {
   "cell_type": "code",
   "execution_count": 11,
   "id": "3fc0c1d5",
   "metadata": {},
   "outputs": [
    {
     "name": "stderr",
     "output_type": "stream",
     "text": [
      "Installing package into 'D:/Kenia/Documents/R/win-library/4.0'\n",
      "(as 'lib' is unspecified)\n",
      "\n"
     ]
    },
    {
     "name": "stdout",
     "output_type": "stream",
     "text": [
      "package 'ggplot2' successfully unpacked and MD5 sums checked\n",
      "\n",
      "The downloaded binary packages are in\n",
      "\tC:\\Users\\Kenia\\AppData\\Local\\Temp\\RtmpInsAoZ\\downloaded_packages\n"
     ]
    }
   ],
   "source": [
    "install.packages(\"ggplot2\")"
   ]
  },
  {
   "cell_type": "code",
   "execution_count": 18,
   "id": "7ea1a830",
   "metadata": {},
   "outputs": [],
   "source": [
    "library(\"ggplot2\")"
   ]
  },
  {
   "cell_type": "code",
   "execution_count": 65,
   "id": "6adf5869",
   "metadata": {},
   "outputs": [
    {
     "name": "stderr",
     "output_type": "stream",
     "text": [
      "Installing package into 'D:/Kenia/Documents/R/win-library/4.0'\n",
      "(as 'lib' is unspecified)\n",
      "\n"
     ]
    },
    {
     "name": "stdout",
     "output_type": "stream",
     "text": [
      "package 'dplyr' successfully unpacked and MD5 sums checked\n"
     ]
    },
    {
     "name": "stderr",
     "output_type": "stream",
     "text": [
      "Warning message:\n",
      "\"cannot remove prior installation of package 'dplyr'\"\n",
      "Warning message in file.copy(savedcopy, lib, recursive = TRUE):\n",
      "\"problema al copiar D:\\Kenia\\Documents\\R\\win-library\\4.0\\00LOCK\\dplyr\\libs\\x64\\dplyr.dll  a D:\\Kenia\\Documents\\R\\win-library\\4.0\\dplyr\\libs\\x64\\dplyr.dll: Permission denied\"\n",
      "Warning message:\n",
      "\"restored 'dplyr'\"\n"
     ]
    },
    {
     "name": "stdout",
     "output_type": "stream",
     "text": [
      "\n",
      "The downloaded binary packages are in\n",
      "\tC:\\Users\\Kenia\\AppData\\Local\\Temp\\RtmpInsAoZ\\downloaded_packages\n"
     ]
    },
    {
     "name": "stderr",
     "output_type": "stream",
     "text": [
      "Warning message:\n",
      "\"package 'dplyr' was built under R version 4.0.5\"\n",
      "\n",
      "Attaching package: 'dplyr'\n",
      "\n",
      "\n",
      "The following objects are masked from 'package:stats':\n",
      "\n",
      "    filter, lag\n",
      "\n",
      "\n",
      "The following objects are masked from 'package:base':\n",
      "\n",
      "    intersect, setdiff, setequal, union\n",
      "\n",
      "\n"
     ]
    }
   ],
   "source": [
    "install.packages(\"dplyr\")\n",
    "library(dplyr)"
   ]
  },
  {
   "cell_type": "code",
   "execution_count": 81,
   "id": "aeaed898",
   "metadata": {
    "scrolled": false
   },
   "outputs": [
    {
     "data": {
      "image/png": "[encoded data removed]",
      "text/plain": [
       "plot without title"
      ]
     },
     "metadata": {
      "image/png": {
       "height": 420,
       "width": 420
      }
     },
     "output_type": "display_data"
    }
   ],
   "source": [
    "df <- as.data.frame(data)\n",
    "df[\"sex\"][df[\"sex\"] == 0] <- \"male\"\n",
    "df[\"sex\"][df[\"sex\"] == 1] <- \"female\"\n",
    "\n",
    "data1 <- ggplot(df,aes(sex))\n",
    "data1 + geom_bar(fill = \"blue\") + ggtitle(\"sex\")"
   ]
  },
  {
   "cell_type": "markdown",
   "id": "4cfc2be9",
   "metadata": {},
   "source": [
    "### b. education by sex"
   ]
  },
  {
   "cell_type": "code",
   "execution_count": 90,
   "id": "604f7b53",
   "metadata": {},
   "outputs": [
    {
     "data": {
      "image/png": "[encoded data removed]",
      "text/plain": [
       "plot without title"
      ]
     },
     "metadata": {
      "image/png": {
       "height": 420,
       "width": 420
      }
     },
     "output_type": "display_data"
    }
   ],
   "source": [
    "df <- as.data.frame(data)\n",
    "df[\"sex\"][df[\"sex\"] == 0] <- \"male\"\n",
    "df[\"sex\"][df[\"sex\"] == 1] <- \"female\"\n",
    "df[\"shs\"][df[\"shs\"] == 0] <- \"not some high school\"\n",
    "df[\"shs\"][df[\"shs\"] == 1] <- \"some high school\"\n",
    "\n",
    "data1 <- ggplot(df,aes(shs))\n",
    "data1 + geom_bar(aes(fill = sex), position = \"fill\") + ggtitle(\"Some high school by sex\")"
   ]
  },
  {
   "cell_type": "code",
   "execution_count": 89,
   "id": "d9a9981d",
   "metadata": {},
   "outputs": [
    {
     "data": {
      "image/png": "[encoded data removed]",
      "text/plain": [
       "plot without title"
      ]
     },
     "metadata": {
      "image/png": {
       "height": 420,
       "width": 420
      }
     },
     "output_type": "display_data"
    }
   ],
   "source": [
    "df <- as.data.frame(data)\n",
    "df[\"sex\"][df[\"sex\"] == 0] <- \"male\"\n",
    "df[\"sex\"][df[\"sex\"] == 1] <- \"female\"\n",
    "df[\"hsg\"][df[\"hsg\"] == 0] <- \"not high school graduate\"\n",
    "df[\"hsg\"][df[\"hsg\"] == 1] <- \"high school graduate\"\n",
    "\n",
    "data1 <- ggplot(df,aes(hsg))\n",
    "data1 + geom_bar(aes(fill = sex), position = \"fill\") + ggtitle(\"High school graduated by sex\")"
   ]
  },
  {
   "cell_type": "code",
   "execution_count": 92,
   "id": "c2893f7c",
   "metadata": {},
   "outputs": [
    {
     "data": {
      "image/png": "[encoded data removed]",
      "text/plain": [
       "plot without title"
      ]
     },
     "metadata": {
      "image/png": {
       "height": 420,
       "width": 420
      }
     },
     "output_type": "display_data"
    }
   ],
   "source": [
    "df <- as.data.frame(data)\n",
    "df[\"sex\"][df[\"sex\"] == 0] <- \"male\"\n",
    "df[\"sex\"][df[\"sex\"] == 1] <- \"female\"\n",
    "df[\"scl\"][df[\"scl\"] == 0] <- \"not some college\"\n",
    "df[\"scl\"][df[\"scl\"] == 1] <- \"some college\"\n",
    "\n",
    "data1 <- ggplot(df,aes(scl))\n",
    "data1 + geom_bar(aes(fill = sex), position = \"fill\") + ggtitle(\"Some college by sex\")"
   ]
  },
  {
   "cell_type": "code",
   "execution_count": 93,
   "id": "4c4c765e",
   "metadata": {},
   "outputs": [
    {
     "data": {
      "image/png": "[encoded data removed]",
      "text/plain": [
       "plot without title"
      ]
     },
     "metadata": {
      "image/png": {
       "height": 420,
       "width": 420
      }
     },
     "output_type": "display_data"
    }
   ],
   "source": [
    "df <- as.data.frame(data)\n",
    "df[\"sex\"][df[\"sex\"] == 0] <- \"male\"\n",
    "df[\"sex\"][df[\"sex\"] == 1] <- \"female\"\n",
    "df[\"clg\"][df[\"clg\"] == 0] <- \"not college graduate\"\n",
    "df[\"clg\"][df[\"clg\"] == 1] <- \"college graduate\"\n",
    "\n",
    "data1 <- ggplot(df,aes(clg))\n",
    "data1 + geom_bar(aes(fill = sex), position = \"fill\") + ggtitle(\"College graduate by sex\")"
   ]
  },
  {
   "cell_type": "code",
   "execution_count": 94,
   "id": "78872e2b",
   "metadata": {},
   "outputs": [
    {
     "data": {
      "image/png": "[encoded data removed]",
      "text/plain": [
       "plot without title"
      ]
     },
     "metadata": {
      "image/png": {
       "height": 420,
       "width": 420
      }
     },
     "output_type": "display_data"
    }
   ],
   "source": [
    "df <- as.data.frame(data)\n",
    "df[\"sex\"][df[\"sex\"] == 0] <- \"male\"\n",
    "df[\"sex\"][df[\"sex\"] == 1] <- \"female\"\n",
    "df[\"ad\"][df[\"ad\"] == 0] <- \"not advanced degree\"\n",
    "df[\"ad\"][df[\"ad\"] == 1] <- \"advanced degree\"\n",
    "\n",
    "data1 <- ggplot(df,aes(ad))\n",
    "data1 + geom_bar(aes(fill = sex), position = \"fill\") + ggtitle(\"advanced degree by sex\")"
   ]
  },
  {
   "cell_type": "markdown",
   "id": "36f68e85",
   "metadata": {},
   "source": [
    "## Continue Variables "
   ]
  },
  {
   "cell_type": "markdown",
   "id": "133fc607",
   "metadata": {},
   "source": [
    "### A. Experience"
   ]
  },
  {
   "cell_type": "code",
   "execution_count": 99,
   "id": "bf4061cb",
   "metadata": {},
   "outputs": [
    {
     "data": {
      "image/png": "[encoded data removed]",
      "text/plain": [
       "plot without title"
      ]
     },
     "metadata": {
      "image/png": {
       "height": 420,
       "width": 420
      }
     },
     "output_type": "display_data"
    }
   ],
   "source": [
    "df <- as.data.frame(data)\n",
    "df[\"sex\"][df[\"sex\"] == 0] <- \"male\"\n",
    "df[\"sex\"][df[\"sex\"] == 1] <- \"female\"\n",
    "data1 <- ggplot(df,aes(exp1))\n",
    "data1 + geom_histogram(aes(fill = sex), binwidth = 5) + ggtitle(\"exp1 by sex\")"
   ]
  },
  {
   "cell_type": "code",
   "execution_count": 100,
   "id": "66a49c73",
   "metadata": {},
   "outputs": [
    {
     "data": {
      "image/png": "[encoded data removed]",
      "text/plain": [
       "plot without title"
      ]
     },
     "metadata": {
      "image/png": {
       "height": 420,
       "width": 420
      }
     },
     "output_type": "display_data"
    }
   ],
   "source": [
    "df <- as.data.frame(data)\n",
    "df[\"sex\"][df[\"sex\"] == 0] <- \"male\"\n",
    "df[\"sex\"][df[\"sex\"] == 1] <- \"female\"\n",
    "data1 <- ggplot(df,aes(exp2))\n",
    "data1 + geom_histogram(aes(fill = sex), binwidth = 5) + ggtitle(\"exp2 by sex\")"
   ]
  },
  {
   "cell_type": "code",
   "execution_count": 101,
   "id": "8fb67858",
   "metadata": {},
   "outputs": [
    {
     "data": {
      "image/png": "[encoded data removed]",
      "text/plain": [
       "plot without title"
      ]
     },
     "metadata": {
      "image/png": {
       "height": 420,
       "width": 420
      }
     },
     "output_type": "display_data"
    }
   ],
   "source": [
    "df <- as.data.frame(data)\n",
    "df[\"sex\"][df[\"sex\"] == 0] <- \"male\"\n",
    "df[\"sex\"][df[\"sex\"] == 1] <- \"female\"\n",
    "data1 <- ggplot(df,aes(exp3))\n",
    "data1 + geom_histogram(aes(fill = sex), binwidth = 5) + ggtitle(\"exp3 by sex\")"
   ]
  },
  {
   "cell_type": "code",
   "execution_count": 102,
   "id": "cae8ecd6",
   "metadata": {},
   "outputs": [
    {
     "data": {
      "image/png": "[encoded data removed]",
      "text/plain": [
       "plot without title"
      ]
     },
     "metadata": {
      "image/png": {
       "height": 420,
       "width": 420
      }
     },
     "output_type": "display_data"
    }
   ],
   "source": [
    "df <- as.data.frame(data)\n",
    "df[\"sex\"][df[\"sex\"] == 0] <- \"male\"\n",
    "df[\"sex\"][df[\"sex\"] == 1] <- \"female\"\n",
    "data1 <- ggplot(df,aes(exp4))\n",
    "data1 + geom_histogram(aes(fill = sex), binwidth = 5) + ggtitle(\"exp4 by sex\")"
   ]
  },
  {
   "cell_type": "markdown",
   "id": "bdae4282",
   "metadata": {},
   "source": [
    "Make sense that until more closer to exp4 the histogram the count tend to be more small and the experience tend to be more large. It happens because exp4 is (experience)^4"
   ]
  },
  {
   "cell_type": "markdown",
   "id": "ac479c07",
   "metadata": {},
   "source": [
    "### B. wage and log wage\n"
   ]
  },
  {
   "cell_type": "code",
   "execution_count": 103,
   "id": "023bbc80",
   "metadata": {},
   "outputs": [
    {
     "data": {
      "image/png": "[encoded data removed]",
      "text/plain": [
       "plot without title"
      ]
     },
     "metadata": {
      "image/png": {
       "height": 420,
       "width": 420
      }
     },
     "output_type": "display_data"
    }
   ],
   "source": [
    "df <- as.data.frame(data)\n",
    "df[\"sex\"][df[\"sex\"] == 0] <- \"male\"\n",
    "df[\"sex\"][df[\"sex\"] == 1] <- \"female\"\n",
    "\n",
    "data1 <- ggplot(df,aes(wage))\n",
    "data1 + geom_histogram(aes(fill = sex), binwidth = 5) + ggtitle(\"wage by sex\")"
   ]
  },
  {
   "cell_type": "code",
   "execution_count": 108,
   "id": "e32ecb81",
   "metadata": {},
   "outputs": [
    {
     "data": {
      "image/png": "[encoded data removed]",
      "text/plain": [
       "plot without title"
      ]
     },
     "metadata": {
      "image/png": {
       "height": 420,
       "width": 420
      }
     },
     "output_type": "display_data"
    }
   ],
   "source": [
    "df <- as.data.frame(data)\n",
    "df[\"sex\"][df[\"sex\"] == 0] <- \"male\"\n",
    "df[\"sex\"][df[\"sex\"] == 1] <- \"female\"\n",
    "\n",
    "data1 <- ggplot(df,aes(lwage))\n",
    "data1 + geom_histogram(aes(color = sex), binwidth = 5) + ggtitle(\"log wage by sex\")"
   ]
  },
  {
   "cell_type": "markdown",
   "id": "ef944c75",
   "metadata": {},
   "source": [
    "### C. Lwage - exp1 \n"
   ]
  },
  {
   "cell_type": "markdown",
   "id": "3083739a",
   "metadata": {},
   "source": [
    "Here we do a scatter plot between lwage and exp 1. We chose lwage because their histogram is like a normal distribution, and the same for exp1. "
   ]
  },
  {
   "cell_type": "code",
   "execution_count": 110,
   "id": "2d332b0a",
   "metadata": {},
   "outputs": [
    {
     "name": "stderr",
     "output_type": "stream",
     "text": [
      "`geom_smooth()` using method = 'gam' and formula 'y ~ s(x, bs = \"cs\")'\n",
      "\n"
     ]
    },
    {
     "data": {
      "image/png": "[encoded data removed]",
      "text/plain": [
       "plot without title"
      ]
     },
     "metadata": {
      "image/png": {
       "height": 420,
       "width": 420
      }
     },
     "output_type": "display_data"
    }
   ],
   "source": [
    "df <- as.data.frame(data)\n",
    "data1 <- ggplot(df,aes(y=lwage,x=exp1))\n",
    "data1 + geom_point() + geom_smooth()"
   ]
  },
  {
   "cell_type": "markdown",
   "id": "0e108e62",
   "metadata": {},
   "source": [
    "how it shows, when the experience is elevated to 1, the relation between the log wage is positive. But according to the paper readed, it isn't normal because when the experience growth the lof wage slower down. "
   ]
  },
  {
   "cell_type": "markdown",
   "id": "dbbf2d1b",
   "metadata": {},
   "source": [
    "# 3. Replication graphic paper"
   ]
  },
  {
   "cell_type": "code",
   "execution_count": 111,
   "id": "aa1ab2fe",
   "metadata": {},
   "outputs": [
    {
     "name": "stderr",
     "output_type": "stream",
     "text": [
      "Installing package into 'D:/Kenia/Documents/R/win-library/4.0'\n",
      "(as 'lib' is unspecified)\n",
      "\n"
     ]
    },
    {
     "name": "stdout",
     "output_type": "stream",
     "text": [
      "package 'sandwich' successfully unpacked and MD5 sums checked\n",
      "\n",
      "The downloaded binary packages are in\n",
      "\tC:\\Users\\Kenia\\AppData\\Local\\Temp\\RtmpInsAoZ\\downloaded_packages\n"
     ]
    },
    {
     "name": "stderr",
     "output_type": "stream",
     "text": [
      "Warning message:\n",
      "\"package 'sandwich' was built under R version 4.0.5\"\n"
     ]
    }
   ],
   "source": [
    "install.packages(\"sandwich\")\n",
    "library(sandwich)"
   ]
  },
  {
   "cell_type": "code",
   "execution_count": 114,
   "id": "ef6f7fba",
   "metadata": {},
   "outputs": [
    {
     "name": "stderr",
     "output_type": "stream",
     "text": [
      "Installing package into 'D:/Kenia/Documents/R/win-library/4.0'\n",
      "(as 'lib' is unspecified)\n",
      "\n"
     ]
    },
    {
     "name": "stdout",
     "output_type": "stream",
     "text": [
      "package 'xtable' successfully unpacked and MD5 sums checked\n",
      "\n",
      "The downloaded binary packages are in\n",
      "\tC:\\Users\\Kenia\\AppData\\Local\\Temp\\RtmpInsAoZ\\downloaded_packages\n"
     ]
    },
    {
     "name": "stderr",
     "output_type": "stream",
     "text": [
      "Warning message:\n",
      "\"package 'xtable' was built under R version 4.0.5\"\n"
     ]
    }
   ],
   "source": [
    "install.packages(\"xtable\")\n",
    "library(xtable)\n"
   ]
  },
  {
   "cell_type": "code",
   "execution_count": 120,
   "id": "d1743908",
   "metadata": {},
   "outputs": [
    {
     "data": {
      "text/html": [
       "<style>\n",
       ".list-inline {list-style: none; margin:0; padding: 0}\n",
       ".list-inline>li {display: inline-block}\n",
       ".list-inline>li:not(:last-child)::after {content: \"\\00b7\"; padding: 0 .5ex}\n",
       "</style>\n",
       "<ol class=list-inline><li>2861</li><li>8</li></ol>\n"
      ],
      "text/latex": [
       "\\begin{enumerate*}\n",
       "\\item 2861\n",
       "\\item 8\n",
       "\\end{enumerate*}\n"
      ],
      "text/markdown": [
       "1. 2861\n",
       "2. 8\n",
       "\n",
       "\n"
      ],
      "text/plain": [
       "[1] 2861    8"
      ]
     },
     "metadata": {},
     "output_type": "display_data"
    }
   ],
   "source": [
    "a <-data[which(colnames(data) %in% c(\"lwage\",\"sex\",\"clg\",\"scl\",\"exp1\",\"exp2\",\"exp3\",\"exp4\"))]\n",
    "d_male <- data[data$sex==0,]\n",
    "a_male <- d_male[which(colnames(data) %in% c(\"lwage\",\"sex\",\"clg\",\"scl\",\"exp1\",\"exp2\",\"exp3\",\"exp4\"))]\n",
    "dim(a_male)"
   ]
  },
  {
   "cell_type": "code",
   "execution_count": 124,
   "id": "beb29418",
   "metadata": {},
   "outputs": [],
   "source": [
    "library(dplyr)"
   ]
  },
  {
   "cell_type": "code",
   "execution_count": 125,
   "id": "1284e24b",
   "metadata": {},
   "outputs": [],
   "source": [
    "y <- lwage ~  (exp1+exp2+exp3+exp4)^4\n",
    "ty <- lm(y, data=data)\n",
    "y_predict <- predict(ty)\n",
    "data$y_predict=y_predict"
   ]
  },
  {
   "cell_type": "code",
   "execution_count": 126,
   "id": "0456e40a",
   "metadata": {},
   "outputs": [],
   "source": [
    "d_scl <- data[data$scl==1,]\n",
    "d_clg <- data[data$clg==1,]"
   ]
  },
  {
   "cell_type": "code",
   "execution_count": 147,
   "id": "5b0c1be3",
   "metadata": {},
   "outputs": [
    {
     "data": {
      "text/html": [
       "80"
      ],
      "text/latex": [
       "80"
      ],
      "text/markdown": [
       "80"
      ],
      "text/plain": [
       "[1] 80"
      ]
     },
     "metadata": {},
     "output_type": "display_data"
    },
    {
     "data": {
      "text/html": [
       "<table class=\"dataframe\">\n",
       "<caption>A tibble: 6 × 3</caption>\n",
       "<thead>\n",
       "\t<tr><th scope=col>exp1</th><th scope=col>PPredict</th><th scope=col>PromM</th></tr>\n",
       "\t<tr><th scope=col>&lt;dbl&gt;</th><th scope=col>&lt;dbl&gt;</th><th scope=col>&lt;dbl&gt;</th></tr>\n",
       "</thead>\n",
       "<tbody>\n",
       "\t<tr><td>3.0</td><td>2.966992</td><td>2.966992</td></tr>\n",
       "\t<tr><td>3.5</td><td>2.941599</td><td>2.951936</td></tr>\n",
       "\t<tr><td>4.0</td><td>2.919696</td><td>2.942185</td></tr>\n",
       "\t<tr><td>4.5</td><td>2.901839</td><td>2.930133</td></tr>\n",
       "\t<tr><td>5.0</td><td>2.888172</td><td>2.923039</td></tr>\n",
       "\t<tr><td>5.5</td><td>2.878552</td><td>2.915803</td></tr>\n",
       "</tbody>\n",
       "</table>\n"
      ],
      "text/latex": [
       "A tibble: 6 × 3\n",
       "\\begin{tabular}{lll}\n",
       " exp1 & PPredict & PromM\\\\\n",
       " <dbl> & <dbl> & <dbl>\\\\\n",
       "\\hline\n",
       "\t 3.0 & 2.966992 & 2.966992\\\\\n",
       "\t 3.5 & 2.941599 & 2.951936\\\\\n",
       "\t 4.0 & 2.919696 & 2.942185\\\\\n",
       "\t 4.5 & 2.901839 & 2.930133\\\\\n",
       "\t 5.0 & 2.888172 & 2.923039\\\\\n",
       "\t 5.5 & 2.878552 & 2.915803\\\\\n",
       "\\end{tabular}\n"
      ],
      "text/markdown": [
       "\n",
       "A tibble: 6 × 3\n",
       "\n",
       "| exp1 &lt;dbl&gt; | PPredict &lt;dbl&gt; | PromM &lt;dbl&gt; |\n",
       "|---|---|---|\n",
       "| 3.0 | 2.966992 | 2.966992 |\n",
       "| 3.5 | 2.941599 | 2.951936 |\n",
       "| 4.0 | 2.919696 | 2.942185 |\n",
       "| 4.5 | 2.901839 | 2.930133 |\n",
       "| 5.0 | 2.888172 | 2.923039 |\n",
       "| 5.5 | 2.878552 | 2.915803 |\n",
       "\n"
      ],
      "text/plain": [
       "  exp1 PPredict PromM   \n",
       "1 3.0  2.966992 2.966992\n",
       "2 3.5  2.941599 2.951936\n",
       "3 4.0  2.919696 2.942185\n",
       "4 4.5  2.901839 2.930133\n",
       "5 5.0  2.888172 2.923039\n",
       "6 5.5  2.878552 2.915803"
      ]
     },
     "metadata": {},
     "output_type": "display_data"
    }
   ],
   "source": [
    "t_scl=d_scl%>% \n",
    "  group_by(exp1) %>% \n",
    "  summarise(PPredict = mean(y_predict))\n",
    "\n",
    "nivel_scl = c(unique(d_scl$exp1))\n",
    "nivel_scl = sort(nivel_scl)\n",
    "\n",
    "Prom=rep(0,length(unique(d_scl$exp1)))\n",
    "length(Prom)\n",
    "for (i in 1:80) {Prom[i]= mean(d_scl$y_predict[d_scl$exp1<=nivel_scl[i]])}\n",
    "\n",
    "t_scl$PromM=Prom\n",
    "head(t_scl)"
   ]
  },
  {
   "cell_type": "code",
   "execution_count": 148,
   "id": "8678835b",
   "metadata": {},
   "outputs": [
    {
     "data": {
      "text/html": [
       "40"
      ],
      "text/latex": [
       "40"
      ],
      "text/markdown": [
       "40"
      ],
      "text/plain": [
       "[1] 40"
      ]
     },
     "metadata": {},
     "output_type": "display_data"
    },
    {
     "data": {
      "text/html": [
       "<table class=\"dataframe\">\n",
       "<caption>A tibble: 6 × 3</caption>\n",
       "<thead>\n",
       "\t<tr><th scope=col>exp1</th><th scope=col>PromPredict</th><th scope=col>PromedioM</th></tr>\n",
       "\t<tr><th scope=col>&lt;dbl&gt;</th><th scope=col>&lt;dbl&gt;</th><th scope=col>&lt;dbl&gt;</th></tr>\n",
       "</thead>\n",
       "<tbody>\n",
       "\t<tr><td>1</td><td>3.068063</td><td>3.068063</td></tr>\n",
       "\t<tr><td>2</td><td>3.022980</td><td>3.047255</td></tr>\n",
       "\t<tr><td>3</td><td>2.966992</td><td>3.023090</td></tr>\n",
       "\t<tr><td>4</td><td>2.919696</td><td>3.002590</td></tr>\n",
       "\t<tr><td>5</td><td>2.888172</td><td>2.985764</td></tr>\n",
       "\t<tr><td>6</td><td>2.872648</td><td>2.973857</td></tr>\n",
       "</tbody>\n",
       "</table>\n"
      ],
      "text/latex": [
       "A tibble: 6 × 3\n",
       "\\begin{tabular}{lll}\n",
       " exp1 & PromPredict & PromedioM\\\\\n",
       " <dbl> & <dbl> & <dbl>\\\\\n",
       "\\hline\n",
       "\t 1 & 3.068063 & 3.068063\\\\\n",
       "\t 2 & 3.022980 & 3.047255\\\\\n",
       "\t 3 & 2.966992 & 3.023090\\\\\n",
       "\t 4 & 2.919696 & 3.002590\\\\\n",
       "\t 5 & 2.888172 & 2.985764\\\\\n",
       "\t 6 & 2.872648 & 2.973857\\\\\n",
       "\\end{tabular}\n"
      ],
      "text/markdown": [
       "\n",
       "A tibble: 6 × 3\n",
       "\n",
       "| exp1 &lt;dbl&gt; | PromPredict &lt;dbl&gt; | PromedioM &lt;dbl&gt; |\n",
       "|---|---|---|\n",
       "| 1 | 3.068063 | 3.068063 |\n",
       "| 2 | 3.022980 | 3.047255 |\n",
       "| 3 | 2.966992 | 3.023090 |\n",
       "| 4 | 2.919696 | 3.002590 |\n",
       "| 5 | 2.888172 | 2.985764 |\n",
       "| 6 | 2.872648 | 2.973857 |\n",
       "\n"
      ],
      "text/plain": [
       "  exp1 PromPredict PromedioM\n",
       "1 1    3.068063    3.068063 \n",
       "2 2    3.022980    3.047255 \n",
       "3 3    2.966992    3.023090 \n",
       "4 4    2.919696    3.002590 \n",
       "5 5    2.888172    2.985764 \n",
       "6 6    2.872648    2.973857 "
      ]
     },
     "metadata": {},
     "output_type": "display_data"
    }
   ],
   "source": [
    "T_clg=d_clg%>% \n",
    "  group_by(exp1) %>% \n",
    "  summarise(PromPredict = mean(y_predict))\n",
    "\n",
    "nivel_clg = c(unique(d_clg$exp1))\n",
    "nivel_clg = sort(nivel_clg)\n",
    "\n",
    "Promedio=rep(0,length(unique(d_clg$exp1)))\n",
    "length(Promedio)\n",
    "for (i in 1:40) {Promedio[i]= mean(d_clg$y_predict[d_clg$exp1<=nivel_clg[i]])}\n",
    "\n",
    "T_clg$PromedioM=Promedio\n",
    "head(T_clg)"
   ]
  },
  {
   "cell_type": "code",
   "execution_count": 149,
   "id": "439e5533",
   "metadata": {},
   "outputs": [
    {
     "data": {
      "image/png": "[encoded data removed]",
      "text/plain": [
       "Plot with title \"SCL: Some College fitted vs actual\""
      ]
     },
     "metadata": {
      "image/png": {
       "height": 420,
       "width": 420
      }
     },
     "output_type": "display_data"
    }
   ],
   "source": [
    "plot(t_scl$exp1,t_scl$PromM, xlab = \"Years of Potencial Experience\", \n",
    "     ylab=\"Log Wage\", main=\"SCL: Some College fitted vs actual\", \n",
    "     xlim=c(0,43), xaxt='n',type = 'l', col=\"black\")\n",
    "lines(t_scl$exp1,t_scl$PPredict, col=\"green\")\n",
    "axis(side = 1, at=seq(0,43,by=5))\n",
    "legend(x=\"topleft\",\n",
    "       legend = c(\"Actual\", \"Fitted\")\n",
    "       ,col = c(\"black\", \"pink\")\n",
    "       ,cex=0.75, x.intersp=1.5, y.intersp=0.8, text.width = c(4), \n",
    "       lty=c(1,1))\n"
   ]
  },
  {
   "cell_type": "code",
   "execution_count": 150,
   "id": "f8ffc43e",
   "metadata": {},
   "outputs": [
    {
     "data": {
      "image/png": "[encoded data removed]",
      "text/plain": [
       "Plot with title \"Clg: College Graduated fitted vs actual\""
      ]
     },
     "metadata": {
      "image/png": {
       "height": 420,
       "width": 420
      }
     },
     "output_type": "display_data"
    }
   ],
   "source": [
    "plot(T_clg$exp1,T_clg$PromedioM, xlab = \"Years of Potencial Experience\", \n",
    "     ylab=\"Log Wage\", main=\"Clg: College Graduated fitted vs actual\", \n",
    "     xlim=c(0,43), xaxt='n',type = 'l', col=\"red\")\n",
    "lines(T_clg$exp1,T_clg$PromPredict, col=\"pink\")\n",
    "axis(side = 1, at=seq(0,43,by=5))\n",
    "legend(x=\"topleft\",\n",
    "       legend = c(\"Actual\", \"Fitted\")\n",
    "       ,col = c(\"red\", \"pink\")\n",
    "       ,cex=0.75, x.intersp=1.5, y.intersp=0.8, text.width = c(4), \n",
    "       lty=c(1,1))\n"
   ]
  },
  {
   "cell_type": "markdown",
   "id": "cc2f9dcb",
   "metadata": {},
   "source": [
    "## 5. GRAPHICS "
   ]
  },
  {
   "cell_type": "code",
   "execution_count": null,
   "id": "abffe511",
   "metadata": {},
   "outputs": [],
   "source": [
    "library(coefplot)\n",
    "# The No-Control model\n",
    "coefplot.default(nocontrol.fit, parm= -1)"
   ]
  },
  {
   "cell_type": "code",
   "execution_count": null,
   "id": "25689f1a",
   "metadata": {},
   "outputs": [],
   "source": [
    "# The Control model\n",
    "coefplot.default(control.est, parm = -1)\n"
   ]
  },
  {
   "cell_type": "code",
   "execution_count": null,
   "id": "4d8c6078",
   "metadata": {},
   "outputs": [],
   "source": [
    "# The 'Partialling-Out' model\n",
    "\n",
    "coefplot(partial.fit , parm = -1)"
   ]
  }
 ],
 "metadata": {
  "kernelspec": {
   "display_name": "R",
   "language": "R",
   "name": "ir"
  },
  "language_info": {
   "codemirror_mode": "r",
   "file_extension": ".r",
   "mimetype": "text/x-r-source",
   "name": "R",
   "pygments_lexer": "r",
   "version": "3.6.1"
  }
 },
 "nbformat": 4,
 "nbformat_minor": 5
}
